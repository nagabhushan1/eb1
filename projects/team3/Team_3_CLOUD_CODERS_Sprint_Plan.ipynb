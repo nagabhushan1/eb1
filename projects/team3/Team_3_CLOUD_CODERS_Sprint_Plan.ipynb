{
 "cells": [
  {
   "cell_type": "markdown",
   "id": "adc3aa0d",
   "metadata": {},
   "source": [
    "# 🧩 CLOUD CODERS\n",
    "\n",
    "## 📘 Project Title\n",
    "**Music Stream**\n",
    "\n",
    "## 🧠 Tech Stack\n",
    "AWS Airflow · Glue · DynamoDB\n",
    "\n",
    "## 👥 Team Members\n",
    "- Pavan Shetti\n",
    "- Thrishala N P\n",
    "- Sanketh Shinde\n",
    "- Megha Singha Roy\n",
    "- Sudeep S"
   ]
  },
  {
   "cell_type": "markdown",
   "id": "71058538",
   "metadata": {},
   "source": [
    "### Sprint 1 – Environment Setup\n",
    "**Dates:** 16–18 Oct 2025 (3 days)\n",
    "\n",
    "**Goal:** Setup Airflow DAGs, Glue job placeholders, and DynamoDB tables.\n",
    "\n",
    "**Tasks:**\n",
    "- Create S3 buckets for ingestion and processed data.\n",
    "- Setup AWS Managed Airflow (MWAA) environment.\n",
    "- Create DynamoDB tables for listener and playback data.\n",
    "- Develop sample Glue ETL job and register in Airflow DAG.\n",
    "\n",
    "**Deliverable:**\n",
    "Working Airflow environment integrated with Glue and DynamoDB skeleton."
   ]
  },
  {
   "cell_type": "markdown",
   "id": "f71e8bd2",
   "metadata": {},
   "source": [
    "### Sprint 2 – ETL & Scheduling\n",
    "**Dates:** 23–26 Oct 2025 (4 days)\n",
    "\n",
    "**Goal:** Develop and schedule ETL DAGs for music stream processing.\n",
    "\n",
    "**Tasks:**\n",
    "- Build Glue ETL job to process streaming events.\n",
    "- Create Airflow DAGs to trigger Glue jobs on schedule.\n",
    "- Implement data validation logic before DynamoDB load.\n",
    "- Log ETL metrics to CloudWatch for monitoring.\n",
    "\n",
    "**Deliverable:**\n",
    "Automated ETL scheduling with verified DynamoDB data loads."
   ]
  },
  {
   "cell_type": "markdown",
   "id": "ca184f1e",
   "metadata": {},
   "source": [
    "### Sprint 3 – Testing & Demo\n",
    "**Dates:** 27–31 Oct 2025 (4 days)\n",
    "\n",
    "**Goal:** Final integration and analytics validation.\n",
    "\n",
    "**Tasks:**\n",
    "- Run end-to-end DAG execution and validate data consistency.\n",
    "- Create Athena queries on processed data snapshots.\n",
    "- Document pipeline flow, dependencies, and error handling.\n",
    "- Deliver final presentation and retrospective.\n",
    "\n",
    "**Deliverable:**\n",
    "Fully automated and tested music stream ETL pipeline."
   ]
  }
 ],
 "metadata": {},
 "nbformat": 4,
 "nbformat_minor": 5
}
