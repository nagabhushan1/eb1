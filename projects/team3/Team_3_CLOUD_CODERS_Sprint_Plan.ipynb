{
 "cells": [
  {
   "cell_type": "markdown",
   "id": "b8bd2cf0",
   "metadata": {},
   "source": [
    "# 🧩 Team_3_CLOUD_CODERS\n",
    "\n",
    "## 📘 Project Title\n",
    "**Music Stream**\n",
    "\n",
    "## 🎯 Objective\n",
    "To design and implement a distributed ETL pipeline that processes and transforms music streaming data using AWS Airflow, Glue, and DynamoDB, enabling real-time listener and playback insights for business analytics.\n",
    "\n",
    "## 🧠 Tech Stack\n",
    "AWS Airflow · AWS Glue · Amazon DynamoDB\n",
    "\n",
    "## 👥 Team Members\n",
    "- Pavan Shetti\n",
    "- Thrishala N P\n",
    "- Sanketh Shinde\n",
    "- Megha Singha Roy\n",
    "- Sudeep S"
   ]
  },
  {
   "cell_type": "markdown",
   "id": "bd7ca8d0",
   "metadata": {},
   "source": [
    "## 🧩 Project Modules & Backlogs\n",
    "### Module 1: Data Ingestion\n",
    "- Collect streaming data from CSV files (songs, streams, users).\n",
    "- Upload files to S3 and ensure correct folder structure.\n",
    "- Set up access permissions for Glue and Airflow jobs.\n",
    "\n",
    "### Module 2: ETL Development\n",
    "- Create Glue jobs for data transformation and aggregation.\n",
    "- Use Airflow DAGs to schedule Glue jobs.\n",
    "- Implement validation before loading data to DynamoDB.\n",
    "\n",
    "### Module 3: Data Storage\n",
    "- Design DynamoDB tables for user activity and song metadata.\n",
    "- Load transformed data from Glue job outputs.\n",
    "- Validate DynamoDB updates using Airflow logs.\n",
    "\n",
    "### Module 4: Access & Roles\n",
    "- Attach IAM policies for Airflow and Glue services.\n",
    "- Test permissions to confirm job execution and DynamoDB writes.\n",
    "- Restrict S3 access to specific roles only.\n",
    "\n",
    "### Module 5: Reporting & Analysis\n",
    "- Analyze user activity trends using Athena queries on S3 outputs.\n",
    "- Generate summary tables for playback counts per region.\n",
    "- Prepare charts for popular artists and genres.\n",
    "\n",
    "### Module 6: Validation & Testing\n",
    "- Run Airflow DAG end-to-end to confirm workflow accuracy.\n",
    "- Validate DynamoDB tables and record counts.\n",
    "- Document Airflow DAG structure and job flow.\n",
    "\n"
   ]
  },
  {
   "cell_type": "markdown",
   "id": "a639651e",
   "metadata": {},
   "source": [
    "## 🚀 Sprint 1 – AWS Setup & Initialization\n",
    "**Dates:** 16–18 Oct 2025 (3 days)\n",
    "\n",
    "**Goal:** Set up S3, Airflow environment, and DynamoDB tables for the ETL pipeline.\n",
    "\n",
    "**Tasks:**\n",
    "- Create S3 bucket for raw and processed data.\n",
    "- Set up AWS Managed Airflow environment and configure connection.\n",
    "- Create DynamoDB tables for user and playback information.\n",
    "- Upload input CSV data to S3 and test access permissions.\n",
    "\n",
    "**Deliverable:**\n",
    "AWS resources created and verified for ETL pipeline setup."
   ]
  },
  {
   "cell_type": "markdown",
   "id": "3035d897",
   "metadata": {},
   "source": [
    "## 🚀 Sprint 2 – Pipeline Development & Execution\n",
    "**Dates:** 23–26 Oct 2025 (4 days)\n",
    "\n",
    "**Goal:** Develop Glue jobs and Airflow DAGs for ETL workflow execution.\n",
    "\n",
    "**Tasks:**\n",
    "- Write Glue scripts for transforming music stream data.\n",
    "- Build Airflow DAG to trigger Glue jobs sequentially.\n",
    "- Run test DAGs to validate end-to-end execution.\n",
    "- Check Glue output data consistency and DynamoDB updates.\n",
    "\n",
    "**Deliverable:**\n",
    "Working ETL workflow connecting Glue, Airflow, and DynamoDB."
   ]
  },
  {
   "cell_type": "markdown",
   "id": "7b046448",
   "metadata": {},
   "source": [
    "## 🚀 Sprint 3 – Integration, Testing & Demo\n",
    "**Dates:** 27–31 Oct 2025 (4 days)\n",
    "\n",
    "**Goal:** Integrate components, validate data accuracy, and prepare project demo.\n",
    "\n",
    "**Tasks:**\n",
    "- Run full DAG execution and verify results in DynamoDB.\n",
    "- Execute Athena queries for aggregated playback metrics.\n",
    "- Document workflow design and key metrics.\n",
    "- Prepare project demo and presentation slides.\n",
    "\n",
    "**Deliverable:**\n",
    "Tested and validated music stream pipeline ready for demo."
   ]
  }
 ],
 "metadata": {},
 "nbformat": 4,
 "nbformat_minor": 5
}
