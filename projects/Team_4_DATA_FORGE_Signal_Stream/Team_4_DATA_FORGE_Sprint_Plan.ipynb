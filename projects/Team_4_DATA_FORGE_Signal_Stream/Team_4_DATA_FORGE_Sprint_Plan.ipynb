{
 "cells": [
  {
   "cell_type": "markdown",
   "id": "fd6a3dfe",
   "metadata": {},
   "source": [
    "# 🧩 Team_4_DATA_FORGE\n",
    "\n",
    "## 📘 Project Title\n",
    "**Signal Stream**\n",
    "\n",
    "## 🎯 Objective\n",
    "To design and implement a real-time data streaming pipeline that captures, processes, and visualizes mobile network logs using AWS Glue (PySpark), Kinesis, Athena, and ECS, enabling continuous monitoring and performance analysis.\n",
    "\n",
    "## 🧠 Tech Stack\n",
    "AWS Glue (PySpark) · Amazon Kinesis · Amazon Athena · Amazon ECS\n",
    "\n",
    "## 👥 Team Members\n",
    "- Rakesh Kumar\n",
    "- Kavya Bhatta S\n",
    "- Ijaz Ahmad S\n",
    "- Sahana J Upadhyaya"
   ]
  },
  {
   "cell_type": "markdown",
   "id": "4812e947",
   "metadata": {},
   "source": [
    "## 🧩 Project Modules & Backlogs\n",
    "### Module 1: Data Streaming Setup\n",
    "- Create Kinesis data stream for mobile log ingestion.\n",
    "- Develop a data producer script to push logs to Kinesis.\n",
    "- Test Kinesis stream with sample data.\n",
    "\n",
    "### Module 2: Real-Time Processing\n",
    "- Develop Glue PySpark job to process streaming data.\n",
    "- Configure data sink to write results into S3.\n",
    "- Implement partitioning for Athena queries.\n",
    "\n",
    "### Module 3: Visualization\n",
    "- Create a dashboard using Streamlit and deploy on ECS.\n",
    "- Fetch processed data from S3 for visualization.\n",
    "- Add refresh logic for near real-time updates.\n",
    "\n",
    "### Module 4: Security & Access\n",
    "- Configure IAM roles for Glue, Kinesis, and ECS.\n",
    "- Verify permissions for S3 and Athena queries.\n",
    "- Ensure network logs are securely handled.\n",
    "\n",
    "### Module 5: Reporting & Metrics\n",
    "- Create Athena queries to compute network performance KPIs.\n",
    "- Build tables for region-wise latency and error metrics.\n",
    "- Summarize results for visualization in the dashboard.\n",
    "\n",
    "### Module 6: Validation & Testing\n",
    "- Test Kinesis-to-Glue data flow using live sample logs.\n",
    "- Validate ECS container performance and dashboard uptime.\n",
    "- Document setup and monitoring details.\n",
    "\n"
   ]
  },
  {
   "cell_type": "markdown",
   "id": "bbf52ad7",
   "metadata": {},
   "source": [
    "## 🚀 Sprint 1 – AWS Setup & Initialization\n",
    "**Dates:** 16–18 Oct 2025 (3 days)\n",
    "\n",
    "**Goal:** Prepare AWS resources (Kinesis, S3, IAM) and set up basic stream ingestion.\n",
    "\n",
    "**Tasks:**\n",
    "- Create Kinesis stream for live mobile log data.\n",
    "- Upload sample log files to S3 for testing.\n",
    "- Assign IAM roles and permissions for Glue and ECS.\n",
    "- Test end-to-end connectivity between Kinesis and S3.\n",
    "\n",
    "**Deliverable:**\n",
    "AWS streaming environment ready for development."
   ]
  },
  {
   "cell_type": "markdown",
   "id": "d0a3b405",
   "metadata": {},
   "source": [
    "## 🚀 Sprint 2 – Pipeline Development & Execution\n",
    "**Dates:** 23–26 Oct 2025 (4 days)\n",
    "\n",
    "**Goal:** Implement real-time data processing and Glue job integration.\n",
    "\n",
    "**Tasks:**\n",
    "- Write PySpark script for real-time stream transformation.\n",
    "- Connect Glue job to consume data from Kinesis stream.\n",
    "- Save processed data to S3 for Athena queries.\n",
    "- Test job execution and verify partitioned output.\n",
    "\n",
    "**Deliverable:**\n",
    "Real-time processing job developed and tested for accuracy."
   ]
  },
  {
   "cell_type": "markdown",
   "id": "ae6d4a25",
   "metadata": {},
   "source": [
    "## 🚀 Sprint 3 – Integration, Testing & Demo\n",
    "**Dates:** 27–31 Oct 2025 (4 days)\n",
    "\n",
    "**Goal:** Integrate dashboard, test full stream pipeline, and finalize project demo.\n",
    "\n",
    "**Tasks:**\n",
    "- Deploy Streamlit dashboard on ECS and connect to processed data.\n",
    "- Execute Athena queries for live metrics validation.\n",
    "- Run full streaming test and validate data refresh on dashboard.\n",
    "- Prepare final demo and documentation.\n",
    "\n",
    "**Deliverable:**\n",
    "Fully functional streaming and visualization pipeline ready for presentation."
   ]
  }
 ],
 "metadata": {},
 "nbformat": 4,
 "nbformat_minor": 5
}
