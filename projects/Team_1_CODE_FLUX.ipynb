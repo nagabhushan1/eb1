{
 "cells": [
  {
   "cell_type": "markdown",
   "id": "0acb52bf",
   "metadata": {},
   "source": [
    "# Team 1 (CODE FLUX)\n",
    "\n",
    "## 📘 Project Title\n",
    "**Rental Data Pipeline**\n",
    "\n",
    "## 🎯 Objective\n",
    "To design and implement an end-to-end data pipeline using Amazon S3, AWS EMR (PySpark), AWS Glue Crawlers, Amazon Athena, and AWS Step Functions that ingests, processes, and analyzes rental vehicle data, enabling data-driven insights for business optimization.\n",
    "\n",
    "## 👥 Team Members\n",
    "- Vijay\n",
    "- Smitha\n",
    "- Sakshat\n",
    "- Mallika\n",
    "- Gokul\n"
   ]
  }
 ],
 "metadata": {},
 "nbformat": 4,
 "nbformat_minor": 5
}
