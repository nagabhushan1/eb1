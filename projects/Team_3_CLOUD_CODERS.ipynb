{
 "cells": [
  {
   "cell_type": "markdown",
   "id": "7bb9a589",
   "metadata": {},
   "source": [
    "# Team 3 (CLOUD CODERS)\n",
    "\n",
    "## 📘 Project Title\n",
    "**Music Stream**\n",
    "\n",
    "## 🎯 Objective\n",
    "To design and implement a distributed ETL pipeline that processes and transforms music streaming data using AWS Airflow, Glue, and DynamoDB, enabling real-time listener and playback insights for business analytics.\n",
    "\n",
    "## 👥 Team Members\n",
    "- Pavan\n",
    "- Trishala\n",
    "- Sanket\n",
    "- Megha\n",
    "- Sudeep\n"
   ]
  }
 ],
 "metadata": {},
 "nbformat": 4,
 "nbformat_minor": 5
}
