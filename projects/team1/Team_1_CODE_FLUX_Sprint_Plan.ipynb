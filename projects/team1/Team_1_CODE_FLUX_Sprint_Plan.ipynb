{
 "cells": [
  {
   "cell_type": "markdown",
   "id": "17679c92",
   "metadata": {},
   "source": [
    "# 🧩 CODE FLUX\n",
    "\n",
    "## 📘 Project Title\n",
    "**Rental Data Pipeline**\n",
    "\n",
    "## 🧠 Tech Stack\n",
    "Amazon S3 · AWS EMR (PySpark) · AWS Glue Crawlers · Amazon Athena · AWS Step Functions\n",
    "\n",
    "## 👥 Team Members\n",
    "- Vijay Kumar E\n",
    "- Smita Sudhakar Hegde\n",
    "- Sakshath K Shetty\n",
    "- Mallika Shree K C\n",
    "- Gokul Raj S"
   ]
  },
  {
   "cell_type": "markdown",
   "id": "852cd4fb",
   "metadata": {},
   "source": [
    "### Sprint 1 – Setup & Design\n",
    "**Dates:** 16–18 Oct 2025 (3 days)\n",
    "\n",
    "**Goal:** Kickoff, environment setup, architecture design, and initial ETL skeleton creation.\n",
    "\n",
    "**Tasks:**\n",
    "- Create S3 bucket structure for raw and processed data.\n",
    "- Setup IAM roles and EMR cluster with PySpark environment.\n",
    "- Define data schema and storage formats (Parquet/CSV).\n",
    "- Develop initial Glue Crawler and Data Catalog for sample dataset.\n",
    "- Draft pipeline architecture using Step Functions.\n",
    "\n",
    "**Deliverable:**\n",
    "AWS environment ready with EMR and Glue integration validated."
   ]
  },
  {
   "cell_type": "markdown",
   "id": "55ba97b5",
   "metadata": {},
   "source": [
    "### Sprint 2 – Development & Integration\n",
    "**Dates:** 23–26 Oct 2025 (4 days)\n",
    "\n",
    "**Goal:** Develop PySpark ETL jobs, integrate with Glue and Athena for data querying.\n",
    "\n",
    "**Tasks:**\n",
    "- Implement PySpark transformations on EMR cluster.\n",
    "- Integrate Glue Job with Step Functions for orchestration.\n",
    "- Configure Crawler for incremental data updates.\n",
    "- Load processed data into curated zone and verify via Athena queries.\n",
    "\n",
    "**Deliverable:**\n",
    "End-to-end working ETL flow with sample data transformations."
   ]
  },
  {
   "cell_type": "markdown",
   "id": "0e782483",
   "metadata": {},
   "source": [
    "### Sprint 3 – Testing & Demo\n",
    "**Dates:** 27–31 Oct 2025 (4 days)\n",
    "\n",
    "**Goal:** Final testing, performance optimization, and demonstration.\n",
    "\n",
    "**Tasks:**\n",
    "- Run complete data pipeline using Step Functions workflow.\n",
    "- Validate outputs using Athena queries.\n",
    "- Document architecture and job dependencies.\n",
    "- Prepare final project demo and review checklist.\n",
    "\n",
    "**Deliverable:**\n",
    "Validated and documented data pipeline demo ready for submission."
   ]
  }
 ],
 "metadata": {},
 "nbformat": 4,
 "nbformat_minor": 5
}
