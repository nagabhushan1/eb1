{
 "cells": [
  {
   "cell_type": "markdown",
   "id": "485f1115",
   "metadata": {},
   "source": [
    "# Team 2 (APEX)\n",
    "\n",
    "## 📘 Project Title\n",
    "**Retail Lakehouse**\n",
    "\n",
    "## 🎯 Objective\n",
    "To design and implement a data lakehouse architecture using AWS Glue (Delta Lake), AWS Glue Crawlers & Data Catalog, Amazon S3, and Amazon Athena that unifies transactional, inventory, and customer data into a single analytical system for business reporting and analysis.\n",
    "\n",
    "## 👥 Team Members\n",
    "- Sayyam\n",
    "- Yashaswini\n",
    "- Nikhil\n",
    "- Priyanka\n",
    "- Tinku\n"
   ]
  }
 ],
 "metadata": {},
 "nbformat": 4,
 "nbformat_minor": 5
}
