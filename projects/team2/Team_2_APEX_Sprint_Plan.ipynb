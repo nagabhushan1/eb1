{
 "cells": [
  {
   "cell_type": "markdown",
   "id": "d6d43844",
   "metadata": {},
   "source": [
    "# 🧩 APEX\n",
    "\n",
    "## 📘 Project Title\n",
    "**Retail Lakehouse**\n",
    "\n",
    "## 🧠 Tech Stack\n",
    "AWS Glue (Delta Lake) · Glue Crawlers & Data Catalog · Amazon S3 · Amazon Athena\n",
    "\n",
    "## 👥 Team Members\n",
    "- Sayyam K Nahar\n",
    "- Yashaswini D S\n",
    "- Nikhil Hitnalli\n",
    "- Priyanka D L\n",
    "- Tinku Kumar"
   ]
  },
  {
   "cell_type": "markdown",
   "id": "4658252a",
   "metadata": {},
   "source": [
    "### Sprint 1 – Setup & Schema Design\n",
    "**Dates:** 16–18 Oct 2025 (3 days)\n",
    "\n",
    "**Goal:** Establish Lakehouse foundation with Glue and S3 setup.\n",
    "\n",
    "**Tasks:**\n",
    "- Create S3 zones (raw, bronze, silver, gold).\n",
    "- Setup Glue Crawlers and initial Data Catalog.\n",
    "- Design Delta Lake schema for transactional and inventory data.\n",
    "- Validate data ingestion from sample CSV files.\n",
    "\n",
    "**Deliverable:**\n",
    "Lakehouse base setup with validated schema and Glue crawler output."
   ]
  },
  {
   "cell_type": "markdown",
   "id": "5ab801bf",
   "metadata": {},
   "source": [
    "### Sprint 2 – ETL Development\n",
    "**Dates:** 23–26 Oct 2025 (4 days)\n",
    "\n",
    "**Goal:** Develop Glue jobs for data transformation and merge logic.\n",
    "\n",
    "**Tasks:**\n",
    "- Implement ETL using Glue Studio with Delta format.\n",
    "- Handle upserts and deduplication using Delta Lake.\n",
    "- Partition data and optimize tables for Athena queries.\n",
    "- Run sample analytical queries via Athena.\n",
    "\n",
    "**Deliverable:**\n",
    "Working Delta Lake ETL process integrated with Athena."
   ]
  },
  {
   "cell_type": "markdown",
   "id": "3ef5f730",
   "metadata": {},
   "source": [
    "### Sprint 3 – Reporting & Optimization\n",
    "**Dates:** 27–31 Oct 2025 (4 days)\n",
    "\n",
    "**Goal:** Optimize ETL jobs and deliver analytical insights.\n",
    "\n",
    "**Tasks:**\n",
    "- Enable ACID transactions and audit table versions.\n",
    "- Fine-tune partition strategy and storage costs.\n",
    "- Create Athena reports for business KPIs.\n",
    "- Document data model and architecture.\n",
    "\n",
    "**Deliverable:**\n",
    "Optimized and documented Lakehouse solution with analytics layer."
   ]
  }
 ],
 "metadata": {},
 "nbformat": 4,
 "nbformat_minor": 5
}
