{
 "cells": [
  {
   "cell_type": "markdown",
   "id": "10cfbebd",
   "metadata": {},
   "source": [
    "# 🧩 DATA FORGE\n",
    "\n",
    "## 📘 Project Title\n",
    "**Signal Stream**\n",
    "\n",
    "## 🧠 Tech Stack\n",
    "AWS Glue (PySpark) · Kinesis · Athena · ECS\n",
    "\n",
    "## 👥 Team Members\n",
    "- Rakesh Kumar\n",
    "- Kavya Bhatta S\n",
    "- Ijaz Ahmad S\n",
    "- Sahana J Upadhyaya"
   ]
  },
  {
   "cell_type": "markdown",
   "id": "b04f03b0",
   "metadata": {},
   "source": [
    "### Sprint 1 – Stream Setup\n",
    "**Dates:** 16–18 Oct 2025 (3 days)\n",
    "\n",
    "**Goal:** Setup Kinesis data streams and ECS environment.\n",
    "\n",
    "**Tasks:**\n",
    "- Create Kinesis Data Stream for mobile network logs.\n",
    "- Setup Glue Job with PySpark for real-time ingestion.\n",
    "- Create ECS cluster and task definition for consumers.\n",
    "- Validate sample data flow from Kinesis to S3.\n",
    "\n",
    "**Deliverable:**\n",
    "Functional Kinesis-ECS integration for live data ingestion."
   ]
  },
  {
   "cell_type": "markdown",
   "id": "e2a50c00",
   "metadata": {},
   "source": [
    "### Sprint 2 – Processing Logic\n",
    "**Dates:** 23–26 Oct 2025 (4 days)\n",
    "\n",
    "**Goal:** Develop real-time processing logic and Glue job orchestration.\n",
    "\n",
    "**Tasks:**\n",
    "- Develop PySpark transformations for stream enrichment.\n",
    "- Integrate Glue job triggers via Kinesis Firehose.\n",
    "- Partition output data and query using Athena.\n",
    "- Test ECS service auto-scaling under load.\n",
    "\n",
    "**Deliverable:**\n",
    "Operational stream processing pipeline with working transformations."
   ]
  },
  {
   "cell_type": "markdown",
   "id": "065404f8",
   "metadata": {},
   "source": [
    "### Sprint 3 – Monitoring & Demo\n",
    "**Dates:** 27–31 Oct 2025 (4 days)\n",
    "\n",
    "**Goal:** Implement monitoring, validation, and final project demo.\n",
    "\n",
    "**Tasks:**\n",
    "- Setup CloudWatch dashboards for Kinesis and Glue metrics.\n",
    "- Validate real-time dashboard refresh latency.\n",
    "- Document architecture and ECS deployment steps.\n",
    "- Deliver demo highlighting live stream analytics.\n",
    "\n",
    "**Deliverable:**\n",
    "End-to-end streaming analytics pipeline with monitoring and dashboard."
   ]
  }
 ],
 "metadata": {},
 "nbformat": 4,
 "nbformat_minor": 5
}
