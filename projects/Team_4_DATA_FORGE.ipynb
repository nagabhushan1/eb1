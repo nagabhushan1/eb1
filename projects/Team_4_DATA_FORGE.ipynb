{
 "cells": [
  {
   "cell_type": "markdown",
   "id": "a1590228",
   "metadata": {},
   "source": [
    "# Team 4 (DATA FORGE)\n",
    "\n",
    "## 📘 Project Title\n",
    "**Signal Stream**\n",
    "\n",
    "## 🎯 Objective\n",
    "To design and implement a real-time data streaming pipeline that captures, processes, and visualizes mobile network logs using AWS Glue (PySpark), Kinesis, Athena, and ECS, enabling continuous monitoring and performance analysis.\n",
    "\n",
    "## 👥 Team Members\n",
    "- Rakesh\n",
    "- Kavya\n",
    "- Ijaz\n",
    "- Sahana\n"
   ]
  }
 ],
 "metadata": {},
 "nbformat": 4,
 "nbformat_minor": 5
}
