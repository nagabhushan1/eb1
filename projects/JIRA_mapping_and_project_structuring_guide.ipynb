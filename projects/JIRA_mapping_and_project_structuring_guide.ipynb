{
 "cells": [
  {
   "cell_type": "markdown",
   "id": "bafe6af2",
   "metadata": {},
   "source": [
    "# 🧭 JIRA Mapping & Project Structuring Guide\n",
    "\n",
    "This guide helps learners understand how project components such as **Modules**, **Sprints**, and **Tasks** are organized and how they map to corresponding entities in **JIRA**.\n",
    "\n",
    "It ensures a consistent and professional structure across all projects, so that every team can effectively plan, track, and present their work.\n"
   ]
  },
  {
   "cell_type": "markdown",
   "id": "050619ed",
   "metadata": {},
   "source": [
    "## 🔹 Concept Overview\n",
    "\n",
    "In any structured project, work is organized into multiple levels to maintain clarity and manage progress efficiently.\n",
    "\n",
    "| Concept | Description | Example (Rental Data Pipeline) |\n",
    "|----------|--------------|--------------------------------|\n",
    "| **Module** | A functional area or feature of the project. Represents *what* part of the system is being built. | Data Ingestion, Data Processing, Query & Reporting |\n",
    "| **Sprint** | A short, time-boxed period (usually 1–2 weeks) that defines *when* the work is done. | Sprint 1 – AWS Setup & Initialization |\n",
    "| **Task** | An actionable, measurable activity that contributes to module completion. | Upload datasets to S3, Create IAM roles, Run Glue job |\n",
    "\n",
    "📘 **Analogy:**  \n",
    "- *Modules* are like chapters in a book.  \n",
    "- *Sprints* are the schedule to complete each chapter.  \n",
    "- *Tasks* are the paragraphs you write each day to finish it.\n"
   ]
  },
  {
   "cell_type": "markdown",
   "id": "b43cce80",
   "metadata": {},
   "source": [
    "## 🗂️ JIRA Hierarchy Explained\n",
    "\n",
    "In JIRA, the same concepts are represented through standard entities as follows:\n",
    "\n",
    "| Project Element | JIRA Equivalent | Description |\n",
    "|-----------------|----------------|--------------|\n",
    "| **Module** | **Epic** | Represents a major deliverable or milestone (e.g., Data Ingestion). |\n",
    "| **Sprint** | **Sprint** | Time-based container for tasks (e.g., Sprint 1 – AWS Setup & Initialization). |\n",
    "| **Task** | **Story / Task** | Actionable item within a sprint (e.g., Create S3 bucket for raw data). |\n",
    "\n",
    "Each Epic (Module) can span across multiple sprints.  \n",
    "Each Sprint contains Tasks that belong to one or more Epics.\n"
   ]
  },
  {
   "cell_type": "markdown",
   "id": "d4994c91",
   "metadata": {},
   "source": [
    "## 💡 Practical Example: Team_1_CODE_FLUX (Rental Data Pipeline)\n",
    "\n",
    "Let’s understand this mapping through one module example from the **Rental Data Pipeline** project.\n",
    "\n",
    "| Module (Epic) | Sprint | Task Summary | Description |\n",
    "|----------------|---------|---------------|--------------|\n",
    "| **Data Ingestion** | Sprint 1 – AWS Setup & Initialization | Create S3 folder structure | Set up folders for raw and processed data in S3. |\n",
    "| **Data Ingestion** | Sprint 1 – AWS Setup & Initialization | Upload CSV datasets | Upload rental and vehicle data to the S3 raw folder. |\n",
    "| **Data Processing** | Sprint 2 – Pipeline Development & Execution | Develop PySpark job | Build and test PySpark scripts on EMR. |\n",
    "| **Query & Reporting** | Sprint 3 – Integration, Testing & Demo | Run Athena queries | Verify results using sample queries in Athena. |\n",
    "\n",
    "🧠 **Key Idea:**  \n",
    "- Modules (Epics) define **what** the team is delivering.  \n",
    "- Sprints define **when** they deliver it.  \n",
    "- Tasks define **how** they complete it.\n"
   ]
  },
  {
   "cell_type": "markdown",
   "id": "d4cd29f5",
   "metadata": {},
   "source": [
    "## ✅ Best Practices for Project Structuring\n",
    "\n",
    "Following a consistent naming and structuring convention helps maintain clarity, professionalism, and easy tracking in JIRA.\n",
    "\n",
    "### 1. Naming Conventions\n",
    "| Item | Recommended Format | Example |\n",
    "|------|--------------------|----------|\n",
    "| **Epics (Modules)** | EPIC – <Module Name> | EPIC – Data Processing |\n",
    "| **Sprints** | Sprint <Number> – <Short Goal> | Sprint 1 – AWS Setup & Initialization |\n",
    "| **Tasks** | <Action Verb> + <Object> | Create IAM role for EMR |\n",
    "| **Files / Scripts** | Use lowercase with hyphens | `spark-agg1.py`, `emr-job-trigger.py` |\n",
    "\n",
    "### 2. Task Writing Style\n",
    "- Keep each task **action-oriented** and **clear** (e.g., “Run Glue Crawler for bronze zone”).  \n",
    "- Avoid generic phrasing like “Do ETL work” or “Prepare everything.”  \n",
    "- Ensure each task is **measurable** and **completable within a sprint**.\n",
    "\n",
    "### 3. Sprint Definition\n",
    "- Each sprint should have a **clear goal**, **defined dates**, and **deliverables**.  \n",
    "- Avoid overlapping tasks between sprints.  \n",
    "- Mark incomplete tasks for carryover transparently.\n",
    "\n",
    "### 4. Epic (Module) Structure\n",
    "- Every project should have 5–6 Epics (Modules) maximum for clarity.  \n",
    "- Each Epic should contain multiple related tasks spread across sprints.\n",
    "\n",
    "### 5. Visual Clarity in JIRA\n",
    "- Use **labels** to tag tasks (e.g., `glue`, `athena`, `pyspark`).  \n",
    "- Maintain consistent color-coding for Epics.  \n",
    "- Keep sprint names short and descriptive to avoid truncation in the JIRA board.\n",
    "\n",
    "### 6. General Guidelines\n",
    "- Keep all terminology **aligned with AWS services** used in the project.  \n",
    "- Maintain identical naming style across all teams for professional uniformity.  \n",
    "- Ensure project leads review sprint scopes before importing tasks into JIRA.\n",
    "\n",
    "---\n",
    "\n",
    "By following these best practices, every learner can confidently map their AWS-based project from notebook → backlog → JIRA board, ensuring transparency and progress tracking across all teams.\n"
   ]
  }
 ],
 "metadata": {},
 "nbformat": 4,
 "nbformat_minor": 5
}
