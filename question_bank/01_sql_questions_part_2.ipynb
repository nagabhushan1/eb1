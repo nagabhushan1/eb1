{
 "cells": [
  {
   "cell_type": "markdown",
   "id": "5629225e",
   "metadata": {},
   "source": [
    "## Basics & DQL"
   ]
  },
  {
   "cell_type": "markdown",
   "id": "75df78d6",
   "metadata": {},
   "source": [
    "**001.** What does DQL stand for in SQL?"
   ]
  },
  {
   "cell_type": "markdown",
   "id": "046acdeb",
   "metadata": {},
   "source": [
    "**002.** Which SQL command is used to display all records from a table?"
   ]
  },
  {
   "cell_type": "markdown",
   "id": "72fc8f0b",
   "metadata": {},
   "source": [
    "**003.** How do you display only specific columns from a table?"
   ]
  },
  {
   "cell_type": "markdown",
   "id": "4abc83cb",
   "metadata": {},
   "source": [
    "**004.** Which SQL clause is used to filter rows based on a condition?"
   ]
  },
  {
   "cell_type": "markdown",
   "id": "636f1f69",
   "metadata": {},
   "source": [
    "**005.** How can you sort query results in ascending or descending order?"
   ]
  },
  {
   "cell_type": "markdown",
   "id": "b2015c3a",
   "metadata": {},
   "source": [
    "**006.** Which clause is used to remove duplicate values from the output?"
   ]
  },
  {
   "cell_type": "markdown",
   "id": "d82cc415",
   "metadata": {},
   "source": [
    "**007.** Write a query to display all records from the EMP table."
   ]
  },
  {
   "cell_type": "markdown",
   "id": "d88dd2e5",
   "metadata": {},
   "source": [
    "**008.** How do you show only the ENAME and SAL columns from the EMP table?"
   ]
  },
  {
   "cell_type": "markdown",
   "id": "8a9802df",
   "metadata": {},
   "source": [
    "**009.** Which query will display the unique job roles available in the EMP table?"
   ]
  },
  {
   "cell_type": "markdown",
   "id": "a1df6edc",
   "metadata": {},
   "source": [
    "**010.** Write a query to list employees in the SALES department."
   ]
  },
  {
   "cell_type": "markdown",
   "id": "b47656fa",
   "metadata": {},
   "source": [
    "**011.** What is the purpose of the DUAL table in Oracle?"
   ]
  },
  {
   "cell_type": "markdown",
   "id": "e4f3a7a4",
   "metadata": {},
   "source": [
    "**012.** Write a query using DUAL to display system date."
   ]
  },
  {
   "cell_type": "markdown",
   "id": "7a5f4834",
   "metadata": {},
   "source": [
    "**013.** What is the difference between DISTINCT and UNIQUE?"
   ]
  },
  {
   "cell_type": "markdown",
   "id": "cca0f01a",
   "metadata": {},
   "source": [
    "**014.** What is the use of the LIKE operator?"
   ]
  },
  {
   "cell_type": "markdown",
   "id": "fcda2548",
   "metadata": {},
   "source": [
    "**015.** Write a query to display employees whose name starts with 'M'."
   ]
  },
  {
   "cell_type": "markdown",
   "id": "40d85178",
   "metadata": {},
   "source": [
    "**016.** Write a query to list employees hired in 1981."
   ]
  },
  {
   "cell_type": "markdown",
   "id": "89ef758b",
   "metadata": {},
   "source": [
    "## DDL (Data Definition Language)"
   ]
  },
  {
   "cell_type": "markdown",
   "id": "889d4600",
   "metadata": {},
   "source": [
    "**017.** What does DDL stand for in SQL?"
   ]
  },
  {
   "cell_type": "markdown",
   "id": "80fda3a9",
   "metadata": {},
   "source": [
    "**018.** Which command is used to create a new table?"
   ]
  },
  {
   "cell_type": "markdown",
   "id": "ffa7b539",
   "metadata": {},
   "source": [
    "**019.** Write a query to create the DEPT table with DEPTNO as primary key."
   ]
  },
  {
   "cell_type": "markdown",
   "id": "61546786",
   "metadata": {},
   "source": [
    "**020.** Write a query to create the EMP table with EMPNO as primary key."
   ]
  },
  {
   "cell_type": "markdown",
   "id": "b22b47e6",
   "metadata": {},
   "source": [
    "**021.** Why does CREATE TABLE ... AS SELECT (CTAS) not copy constraints?"
   ]
  },
  {
   "cell_type": "markdown",
   "id": "0753b035",
   "metadata": {},
   "source": [
    "**022.** Which command is used to delete a table completely from the database?"
   ]
  },
  {
   "cell_type": "markdown",
   "id": "5bbe5a55",
   "metadata": {},
   "source": [
    "**023.** What is the difference between DROP and TRUNCATE commands?"
   ]
  },
  {
   "cell_type": "markdown",
   "id": "1ec8fe52",
   "metadata": {},
   "source": [
    "**024.** What is the difference between TRUNCATE and DELETE?"
   ]
  },
  {
   "cell_type": "markdown",
   "id": "0b44785c",
   "metadata": {},
   "source": [
    "**025.** Which command is used to modify a column datatype?"
   ]
  },
  {
   "cell_type": "markdown",
   "id": "88dacc99",
   "metadata": {},
   "source": [
    "**026.** Which command is used to rename a column in Oracle?"
   ]
  },
  {
   "cell_type": "markdown",
   "id": "bbc552cb",
   "metadata": {},
   "source": [
    "**027.** Which command is used to drop a column in Oracle?"
   ]
  },
  {
   "cell_type": "markdown",
   "id": "a6c671ac",
   "metadata": {},
   "source": [
    "**028.** What is the purpose of the DESC command in SQL*Plus?"
   ]
  },
  {
   "cell_type": "markdown",
   "id": "65b99b63",
   "metadata": {},
   "source": [
    "## DML (Data Manipulation Language)"
   ]
  },
  {
   "cell_type": "markdown",
   "id": "52cefece",
   "metadata": {},
   "source": [
    "**029.** What does DML stand for in SQL?"
   ]
  },
  {
   "cell_type": "markdown",
   "id": "717e8b7a",
   "metadata": {},
   "source": [
    "**030.** Which command is used to insert new rows into a table?"
   ]
  },
  {
   "cell_type": "markdown",
   "id": "9d486c77",
   "metadata": {},
   "source": [
    "**031.** Write a query to insert a new department into the DEPT table."
   ]
  },
  {
   "cell_type": "markdown",
   "id": "e9ef8c7f",
   "metadata": {},
   "source": [
    "**032.** Write a query to insert a new employee into the EMP table."
   ]
  },
  {
   "cell_type": "markdown",
   "id": "44090403",
   "metadata": {},
   "source": [
    "**033.** Which command is used to update existing records in a table?"
   ]
  },
  {
   "cell_type": "markdown",
   "id": "10e2b595",
   "metadata": {},
   "source": [
    "**034.** Write a query to update salary of employee KING to 6000."
   ]
  },
  {
   "cell_type": "markdown",
   "id": "0526e4d4",
   "metadata": {},
   "source": [
    "**035.** Which command is used to remove specific rows from a table?"
   ]
  },
  {
   "cell_type": "markdown",
   "id": "ae3c3d28",
   "metadata": {},
   "source": [
    "**036.** Write a query to delete employees whose commission is NULL."
   ]
  },
  {
   "cell_type": "markdown",
   "id": "5b9af872",
   "metadata": {},
   "source": [
    "**037.** What is the difference between DELETE and TRUNCATE?"
   ]
  },
  {
   "cell_type": "markdown",
   "id": "e3ecaaae",
   "metadata": {},
   "source": [
    "**038.** What happens if you don’t provide a WHERE clause in DELETE?"
   ]
  },
  {
   "cell_type": "markdown",
   "id": "cda19bfa",
   "metadata": {},
   "source": [
    "## Constraints"
   ]
  },
  {
   "cell_type": "markdown",
   "id": "0e82cb16",
   "metadata": {},
   "source": [
    "**039.** What is a constraint in SQL?"
   ]
  },
  {
   "cell_type": "markdown",
   "id": "0898d1e0",
   "metadata": {},
   "source": [
    "**040.** Which constraint ensures a column cannot be NULL?"
   ]
  },
  {
   "cell_type": "markdown",
   "id": "1fd6a27a",
   "metadata": {},
   "source": [
    "**041.** Which constraint enforces entity integrity in a table?"
   ]
  },
  {
   "cell_type": "markdown",
   "id": "4908e269",
   "metadata": {},
   "source": [
    "**042.** Which constraint enforces referential integrity between two tables?"
   ]
  },
  {
   "cell_type": "markdown",
   "id": "7b92f7d9",
   "metadata": {},
   "source": [
    "**043.** What is the difference between PRIMARY KEY and UNIQUE?"
   ]
  },
  {
   "cell_type": "markdown",
   "id": "878615ac",
   "metadata": {},
   "source": [
    "**044.** Can a table have more than one PRIMARY KEY?"
   ]
  },
  {
   "cell_type": "markdown",
   "id": "6454f341",
   "metadata": {},
   "source": [
    "**045.** Can a table have more than one UNIQUE key?"
   ]
  },
  {
   "cell_type": "markdown",
   "id": "3cd9df2e",
   "metadata": {},
   "source": [
    "**046.** What does the CHECK constraint do?"
   ]
  },
  {
   "cell_type": "markdown",
   "id": "81a2c5d4",
   "metadata": {},
   "source": [
    "**047.** What is the purpose of the DEFAULT constraint?"
   ]
  },
  {
   "cell_type": "markdown",
   "id": "8fc72177",
   "metadata": {},
   "source": [
    "**048.** Write a query to create DEPT table with NOT NULL on DNAME and LOC."
   ]
  },
  {
   "cell_type": "markdown",
   "id": "c02fe087",
   "metadata": {},
   "source": [
    "**049.** Write a query to create EMP table with CHECK on SAL > 0."
   ]
  },
  {
   "cell_type": "markdown",
   "id": "25802b32",
   "metadata": {},
   "source": [
    "## Functions: Number"
   ]
  },
  {
   "cell_type": "markdown",
   "id": "1a322f35",
   "metadata": {},
   "source": [
    "**050.** What does the ABS function do in Oracle?"
   ]
  },
  {
   "cell_type": "markdown",
   "id": "c2dc6559",
   "metadata": {},
   "source": [
    "**051.** Which function is used to get the remainder of a division?"
   ]
  },
  {
   "cell_type": "markdown",
   "id": "72a685f1",
   "metadata": {},
   "source": [
    "**052.** What is the difference between ROUND and TRUNC?"
   ]
  },
  {
   "cell_type": "markdown",
   "id": "837747a2",
   "metadata": {},
   "source": [
    "**053.** Write a query to round 1.23456 to 3 decimal places."
   ]
  },
  {
   "cell_type": "markdown",
   "id": "849c08f4",
   "metadata": {},
   "source": [
    "**054.** Write a query to truncate 1.23456 to 3 decimal places."
   ]
  },
  {
   "cell_type": "markdown",
   "id": "26b989b3",
   "metadata": {},
   "source": [
    "**055.** Which function returns the highest value among columns?"
   ]
  },
  {
   "cell_type": "markdown",
   "id": "16f96d2b",
   "metadata": {},
   "source": [
    "**056.** What is the purpose of the CEIL and FLOOR functions?"
   ]
  },
  {
   "cell_type": "markdown",
   "id": "b36a2bbd",
   "metadata": {},
   "source": [
    "**057.** Which function is used to calculate power of a number?"
   ]
  },
  {
   "cell_type": "markdown",
   "id": "75694fe9",
   "metadata": {},
   "source": [
    "**058.** What is the use of the SQRT function?"
   ]
  },
  {
   "cell_type": "markdown",
   "id": "0a17c4d7",
   "metadata": {},
   "source": [
    "**059.** What does the EXP function return?"
   ]
  },
  {
   "cell_type": "markdown",
   "id": "950280d7",
   "metadata": {},
   "source": [
    "## Functions: String"
   ]
  },
  {
   "cell_type": "markdown",
   "id": "b7544f3b",
   "metadata": {},
   "source": [
    "**060.** Which function converts characters to uppercase?"
   ]
  },
  {
   "cell_type": "markdown",
   "id": "fe6cc32b",
   "metadata": {},
   "source": [
    "**061.** Which function converts characters to lowercase?"
   ]
  },
  {
   "cell_type": "markdown",
   "id": "ab60ac73",
   "metadata": {},
   "source": [
    "**062.** Which function capitalizes the first letter of each word?"
   ]
  },
  {
   "cell_type": "markdown",
   "id": "e057177c",
   "metadata": {},
   "source": [
    "**063.** What does the LENGTH function return?"
   ]
  },
  {
   "cell_type": "markdown",
   "id": "7665dca5",
   "metadata": {},
   "source": [
    "**064.** Write a query to display employees with name length = 5."
   ]
  },
  {
   "cell_type": "markdown",
   "id": "813e7d1b",
   "metadata": {},
   "source": [
    "**065.** How do you extract a part of a string in Oracle?"
   ]
  },
  {
   "cell_type": "markdown",
   "id": "d9a43543",
   "metadata": {},
   "source": [
    "**066.** Which function finds the position of a substring inside a string?"
   ]
  },
  {
   "cell_type": "markdown",
   "id": "5d7eb616",
   "metadata": {},
   "source": [
    "**067.** What is the difference between LPAD and RPAD?"
   ]
  },
  {
   "cell_type": "markdown",
   "id": "36e3a15e",
   "metadata": {},
   "source": [
    "**068.** What is the purpose of LTRIM, RTRIM, and TRIM?"
   ]
  },
  {
   "cell_type": "markdown",
   "id": "8fccd71c",
   "metadata": {},
   "source": [
    "**069.** Which function replaces part of a string with another string?"
   ]
  },
  {
   "cell_type": "markdown",
   "id": "d6787d94",
   "metadata": {},
   "source": [
    "## Functions: Date"
   ]
  },
  {
   "cell_type": "markdown",
   "id": "7278f94f",
   "metadata": {},
   "source": [
    "**070.** What does the SYSDATE function return?"
   ]
  },
  {
   "cell_type": "markdown",
   "id": "cc29917c",
   "metadata": {},
   "source": [
    "**071.** Which function is used to format dates into strings?"
   ]
  },
  {
   "cell_type": "markdown",
   "id": "ea8875d4",
   "metadata": {},
   "source": [
    "**072.** Write a query to display current date in DD/MM/YY format."
   ]
  },
  {
   "cell_type": "markdown",
   "id": "6510d274",
   "metadata": {},
   "source": [
    "**073.** What is the difference between SYSDATE and SYSTIMESTAMP?"
   ]
  },
  {
   "cell_type": "markdown",
   "id": "7bc52806",
   "metadata": {},
   "source": [
    "**074.** How do you convert a string to a date in Oracle?"
   ]
  },
  {
   "cell_type": "markdown",
   "id": "73560e37",
   "metadata": {},
   "source": [
    "**075.** What is the use of the ADD_MONTHS function?"
   ]
  },
  {
   "cell_type": "markdown",
   "id": "eb85302c",
   "metadata": {},
   "source": [
    "**076.** Which function returns the last day of the month?"
   ]
  },
  {
   "cell_type": "markdown",
   "id": "bb0bae2d",
   "metadata": {},
   "source": [
    "**077.** How do you calculate the number of months between two dates?"
   ]
  },
  {
   "cell_type": "markdown",
   "id": "1cd5c6ad",
   "metadata": {},
   "source": [
    "**078.** What is the purpose of the NEXT_DAY function?"
   ]
  },
  {
   "cell_type": "markdown",
   "id": "59c9072a",
   "metadata": {},
   "source": [
    "## Functions: Conversion"
   ]
  },
  {
   "cell_type": "markdown",
   "id": "5c9a8274",
   "metadata": {},
   "source": [
    "**079.** What is the use of the TO_CHAR function in Oracle?"
   ]
  },
  {
   "cell_type": "markdown",
   "id": "2363293f",
   "metadata": {},
   "source": [
    "**080.** Write a query to convert SYSDATE into 'YYYY-MM-DD' format using TO_CHAR."
   ]
  },
  {
   "cell_type": "markdown",
   "id": "bd9ba5af",
   "metadata": {},
   "source": [
    "**081.** What is the use of the TO_DATE function in Oracle?"
   ]
  },
  {
   "cell_type": "markdown",
   "id": "44612934",
   "metadata": {},
   "source": [
    "**082.** Write a query to convert string '24-SEP-25' into DATE using TO_DATE."
   ]
  },
  {
   "cell_type": "markdown",
   "id": "3fe52288",
   "metadata": {},
   "source": [
    "**083.** What is the use of the TO_NUMBER function in Oracle?"
   ]
  },
  {
   "cell_type": "markdown",
   "id": "80c492c9",
   "metadata": {},
   "source": [
    "**084.** What is the difference between CAST and CONVERT in Oracle?"
   ]
  },
  {
   "cell_type": "markdown",
   "id": "6f35fdfc",
   "metadata": {},
   "source": [
    "## Functions: Aggregate"
   ]
  },
  {
   "cell_type": "markdown",
   "id": "fd66fc4e",
   "metadata": {},
   "source": [
    "**085.** What does the MAX aggregate function return?"
   ]
  },
  {
   "cell_type": "markdown",
   "id": "e64af510",
   "metadata": {},
   "source": [
    "**086.** Which aggregate function is used to calculate total salary?"
   ]
  },
  {
   "cell_type": "markdown",
   "id": "4efd9d89",
   "metadata": {},
   "source": [
    "**087.** What is the difference between COUNT(*) and COUNT(column)?"
   ]
  },
  {
   "cell_type": "markdown",
   "id": "8f268a1d",
   "metadata": {},
   "source": [
    "**088.** How do you count distinct values in a column?"
   ]
  },
  {
   "cell_type": "markdown",
   "id": "0488527a",
   "metadata": {},
   "source": [
    "**089.** Why is it important to use NVL in aggregate queries?"
   ]
  },
  {
   "cell_type": "markdown",
   "id": "2e79d46a",
   "metadata": {},
   "source": [
    "**090.** Write a query to display count of employees in each department."
   ]
  },
  {
   "cell_type": "markdown",
   "id": "9c695c4d",
   "metadata": {},
   "source": [
    "**091.** Write a query to display minimum and maximum salary for each department."
   ]
  },
  {
   "cell_type": "markdown",
   "id": "98d54478",
   "metadata": {},
   "source": [
    "**092.** Write a query to display count of employees in each job role."
   ]
  },
  {
   "cell_type": "markdown",
   "id": "5225f296",
   "metadata": {},
   "source": [
    "**093.** What is the difference between WHERE and HAVING clause?"
   ]
  },
  {
   "cell_type": "markdown",
   "id": "2b896082",
   "metadata": {},
   "source": [
    "**094.** Which clause is executed first: GROUP BY or HAVING?"
   ]
  },
  {
   "cell_type": "markdown",
   "id": "93fe34bd",
   "metadata": {},
   "source": [
    "## Joins & Subqueries"
   ]
  },
  {
   "cell_type": "markdown",
   "id": "7f62ae41",
   "metadata": {},
   "source": [
    "**095.** What is an equijoin?"
   ]
  },
  {
   "cell_type": "markdown",
   "id": "40017968",
   "metadata": {},
   "source": [
    "**096.** What is a non-equijoin?"
   ]
  },
  {
   "cell_type": "markdown",
   "id": "2bf5057f",
   "metadata": {},
   "source": [
    "**097.** What is a Cartesian join?"
   ]
  },
  {
   "cell_type": "markdown",
   "id": "fbefc6df",
   "metadata": {},
   "source": [
    "**098.** Why are self-joins used in hierarchical queries?"
   ]
  },
  {
   "cell_type": "markdown",
   "id": "d0e40272",
   "metadata": {},
   "source": [
    "**099.** What is the difference between INNER JOIN and OUTER JOIN?"
   ]
  },
  {
   "cell_type": "markdown",
   "id": "e10aac4f",
   "metadata": {},
   "source": [
    "**100.** What is the difference between LEFT OUTER JOIN and RIGHT OUTER JOIN?"
   ]
  },
  {
   "cell_type": "markdown",
   "id": "dad35fd9",
   "metadata": {},
   "source": [
    "**101.** What is a FULL OUTER JOIN?"
   ]
  },
  {
   "cell_type": "markdown",
   "id": "10b1d3d5",
   "metadata": {},
   "source": [
    "**102.** Write a query to join EMP and DEPT to display employee name and department name."
   ]
  },
  {
   "cell_type": "markdown",
   "id": "8b4b61bc",
   "metadata": {},
   "source": [
    "**103.** Write a query to find employees who earn more than the average salary of their department."
   ]
  },
  {
   "cell_type": "markdown",
   "id": "116a6255",
   "metadata": {},
   "source": [
    "**104.** Write a query to list employees who joined in the same month as their manager."
   ]
  },
  {
   "cell_type": "markdown",
   "id": "aedae748",
   "metadata": {},
   "source": [
    "**105.** What is a correlated subquery?"
   ]
  },
  {
   "cell_type": "markdown",
   "id": "5471601c",
   "metadata": {},
   "source": [
    "## DCL (Data Control Language)"
   ]
  },
  {
   "cell_type": "markdown",
   "id": "da16eda1",
   "metadata": {},
   "source": [
    "**106.** What does DCL stand for in SQL?"
   ]
  },
  {
   "cell_type": "markdown",
   "id": "81903fdf",
   "metadata": {},
   "source": [
    "**107.** Which command is used to grant privileges to a user?"
   ]
  },
  {
   "cell_type": "markdown",
   "id": "ce2ab771",
   "metadata": {},
   "source": [
    "**108.** Which command is used to revoke privileges from a user?"
   ]
  },
  {
   "cell_type": "markdown",
   "id": "55315674",
   "metadata": {},
   "source": [
    "**109.** Write a query to grant CREATE TABLE privilege to USER1."
   ]
  },
  {
   "cell_type": "markdown",
   "id": "a6412da6",
   "metadata": {},
   "source": [
    "**110.** Write a query to revoke CREATE SESSION privilege from USER1."
   ]
  },
  {
   "cell_type": "markdown",
   "id": "2508f499",
   "metadata": {},
   "source": [
    "**111.** What is the difference between GRANT and REVOKE?"
   ]
  },
  {
   "cell_type": "markdown",
   "id": "a2a26e4b",
   "metadata": {},
   "source": [
    "## TCL (Transaction Control Language)"
   ]
  },
  {
   "cell_type": "markdown",
   "id": "eed1c47f",
   "metadata": {},
   "source": [
    "**112.** What does TCL stand for in SQL?"
   ]
  },
  {
   "cell_type": "markdown",
   "id": "90e271a2",
   "metadata": {},
   "source": [
    "**113.** Which command is used to save a transaction permanently?"
   ]
  },
  {
   "cell_type": "markdown",
   "id": "b62d261e",
   "metadata": {},
   "source": [
    "**114.** Which command is used to undo changes in the current transaction?"
   ]
  },
  {
   "cell_type": "markdown",
   "id": "76699404",
   "metadata": {},
   "source": [
    "**115.** Which command is used to undo all changes since the last COMMIT?"
   ]
  },
  {
   "cell_type": "markdown",
   "id": "0fbfa0dc",
   "metadata": {},
   "source": [
    "**116.** Write a query to demonstrate COMMIT after inserting rows into DEPT table."
   ]
  },
  {
   "cell_type": "markdown",
   "id": "70790053",
   "metadata": {},
   "source": [
    "**117.** Write a query to demonstrate ROLLBACK after deleting rows from EMP table."
   ]
  }
 ],
 "metadata": {
  "language_info": {
   "name": "python"
  }
 },
 "nbformat": 4,
 "nbformat_minor": 5
}
