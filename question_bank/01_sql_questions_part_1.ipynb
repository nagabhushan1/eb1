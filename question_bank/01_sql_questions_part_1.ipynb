{
 "cells": [
  {
   "cell_type": "markdown",
   "id": "80d0fc94",
   "metadata": {},
   "source": [
    "#### 1. What is SQL?"
   ]
  },
  {
   "cell_type": "markdown",
   "id": "80b0d82a",
   "metadata": {},
   "source": [
    "#### 2. What is DBMS?"
   ]
  },
  {
   "cell_type": "markdown",
   "id": "005eb5d8",
   "metadata": {},
   "source": [
    "#### 3. What is RDBMS?"
   ]
  },
  {
   "cell_type": "markdown",
   "id": "75ba18f9",
   "metadata": {},
   "source": [
    "#### 4. Differentiate between DBMS and RDBMS."
   ]
  },
  {
   "cell_type": "markdown",
   "id": "68e6c63c",
   "metadata": {},
   "source": [
    "#### 5. Differentiate between SQL and RDBMS."
   ]
  },
  {
   "cell_type": "markdown",
   "id": "711822f1",
   "metadata": {},
   "source": [
    "#### 6. What is a relational database?"
   ]
  },
  {
   "cell_type": "markdown",
   "id": "b05d4321",
   "metadata": {},
   "source": [
    "#### 7. What are the types of DBMS?"
   ]
  },
  {
   "cell_type": "markdown",
   "id": "fa15d976",
   "metadata": {},
   "source": [
    "#### 8. What are the different versions of RDBMS software?"
   ]
  },
  {
   "cell_type": "markdown",
   "id": "ff3df83e",
   "metadata": {},
   "source": [
    "#### 9. What is data?"
   ]
  },
  {
   "cell_type": "markdown",
   "id": "83cb719a",
   "metadata": {},
   "source": [
    "#### 10. What is a database?"
   ]
  },
  {
   "cell_type": "markdown",
   "id": "a43b6ed3",
   "metadata": {},
   "source": [
    "#### 11. What are the main functions of database management software?"
   ]
  },
  {
   "cell_type": "markdown",
   "id": "7205d96e",
   "metadata": {},
   "source": [
    "#### 12. What are the applications of SQL?"
   ]
  },
  {
   "cell_type": "markdown",
   "id": "533364a1",
   "metadata": {},
   "source": [
    "#### 13. What is a query in SQL?"
   ]
  },
  {
   "cell_type": "markdown",
   "id": "564c9f13",
   "metadata": {},
   "source": [
    "#### 14. What are DDL commands in SQL?"
   ]
  },
  {
   "cell_type": "markdown",
   "id": "32e9ddf3",
   "metadata": {},
   "source": [
    "#### 15. Explain the DDL commands: CREATE, ALTER, DROP, TRUNCATE, RENAME."
   ]
  },
  {
   "cell_type": "markdown",
   "id": "d1429c41",
   "metadata": {},
   "source": [
    "#### 16. What are DML commands in SQL?"
   ]
  },
  {
   "cell_type": "markdown",
   "id": "4bf8b82a",
   "metadata": {},
   "source": [
    "#### 17. Explain the DML commands: SELECT, INSERT, UPDATE, DELETE."
   ]
  },
  {
   "cell_type": "markdown",
   "id": "cf17a915",
   "metadata": {},
   "source": [
    "#### 18. Differentiate between DDL and DML."
   ]
  },
  {
   "cell_type": "markdown",
   "id": "733a8702",
   "metadata": {},
   "source": [
    "#### 19. What are CRUD operations?"
   ]
  },
  {
   "cell_type": "markdown",
   "id": "1ca1f7c3",
   "metadata": {},
   "source": [
    "#### 20. What is the purpose of the WHERE clause in SQL?"
   ]
  },
  {
   "cell_type": "markdown",
   "id": "f5b9f0e3",
   "metadata": {},
   "source": [
    "#### 21. Write the syntax for CREATE, ALTER, and DROP."
   ]
  },
  {
   "cell_type": "markdown",
   "id": "0c69e25a",
   "metadata": {},
   "source": [
    "#### 22. Write a query to rename a table."
   ]
  },
  {
   "cell_type": "markdown",
   "id": "33f0d64b",
   "metadata": {},
   "source": [
    "#### 23. When do we use the COLUMN keyword while altering a table?"
   ]
  },
  {
   "cell_type": "markdown",
   "id": "9daa5777",
   "metadata": {},
   "source": [
    "#### 24. What is the use of SELECT * FROM dual in Oracle?"
   ]
  },
  {
   "cell_type": "markdown",
   "id": "da2050cb",
   "metadata": {},
   "source": [
    "#### 25. What is a constraint in SQL?"
   ]
  },
  {
   "cell_type": "markdown",
   "id": "6b1a3537",
   "metadata": {},
   "source": [
    "#### 26. What are the different types of constraints in SQL?"
   ]
  },
  {
   "cell_type": "markdown",
   "id": "6b996acd",
   "metadata": {},
   "source": [
    "#### 27. Why are constraints needed?"
   ]
  },
  {
   "cell_type": "markdown",
   "id": "a6e59169",
   "metadata": {},
   "source": [
    "#### 28. What is a primary key?"
   ]
  },
  {
   "cell_type": "markdown",
   "id": "3b5e7e95",
   "metadata": {},
   "source": [
    "#### 29. Differentiate between PRIMARY KEY and UNIQUE KEY."
   ]
  },
  {
   "cell_type": "markdown",
   "id": "9d5ef2cc",
   "metadata": {},
   "source": [
    "#### 30. Differentiate between PRIMARY KEY and FOREIGN KEY."
   ]
  },
  {
   "cell_type": "markdown",
   "id": "2c18ec1d",
   "metadata": {},
   "source": [
    "#### 31. How do you add a primary key on an existing table?"
   ]
  },
  {
   "cell_type": "markdown",
   "id": "a1689de9",
   "metadata": {},
   "source": [
    "#### 32. What are the key constraints available in SQL?"
   ]
  },
  {
   "cell_type": "markdown",
   "id": "e976c3e8",
   "metadata": {},
   "source": [
    "#### 33. What is data persistence, and why is it important?"
   ]
  },
  {
   "cell_type": "markdown",
   "id": "11693bb8",
   "metadata": {},
   "source": [
    "#### 34. What is data independence?"
   ]
  },
  {
   "cell_type": "markdown",
   "id": "63c4be6d",
   "metadata": {},
   "source": [
    "#### 35. Differentiate between physical and logical layers in DBMS."
   ]
  },
  {
   "cell_type": "markdown",
   "id": "89c66254",
   "metadata": {},
   "source": [
    "#### 36. What are the three main components in the relational model?"
   ]
  },
  {
   "cell_type": "markdown",
   "id": "8dcb3a1d",
   "metadata": {},
   "source": [
    "#### 37. What are ACID properties?"
   ]
  },
  {
   "cell_type": "markdown",
   "id": "2354c5f8",
   "metadata": {},
   "source": [
    "#### 38. Explain each ACID property."
   ]
  },
  {
   "cell_type": "markdown",
   "id": "699a22c4",
   "metadata": {},
   "source": [
    "#### 39. What are transactions in SQL?"
   ]
  },
  {
   "cell_type": "markdown",
   "id": "6f536f05",
   "metadata": {},
   "source": [
    "#### 40. What does it mean to be ACID compliant?"
   ]
  },
  {
   "cell_type": "markdown",
   "id": "1e9333c2",
   "metadata": {},
   "source": [
    "#### 41. What is a JOIN in SQL?"
   ]
  },
  {
   "cell_type": "markdown",
   "id": "cf47562c",
   "metadata": {},
   "source": [
    "#### 42. Explain INNER JOIN, LEFT JOIN, RIGHT JOIN, FULL OUTER JOIN."
   ]
  },
  {
   "cell_type": "markdown",
   "id": "6f4ad7a6",
   "metadata": {},
   "source": [
    "#### 43. What is an index in SQL?"
   ]
  },
  {
   "cell_type": "markdown",
   "id": "248324cd",
   "metadata": {},
   "source": [
    "#### 44. What is indexing?"
   ]
  },
  {
   "cell_type": "markdown",
   "id": "e090070a",
   "metadata": {},
   "source": [
    "#### 45. What is normalization?"
   ]
  },
  {
   "cell_type": "markdown",
   "id": "5a822eb5",
   "metadata": {},
   "source": [
    "#### 46. Why is normalization important?"
   ]
  },
  {
   "cell_type": "markdown",
   "id": "500bd296",
   "metadata": {},
   "source": [
    "#### 47. What are anomalies in databases?"
   ]
  },
  {
   "cell_type": "markdown",
   "id": "82a29064",
   "metadata": {},
   "source": [
    "#### 48. Explain 1NF, 2NF, 3NF, and BCNF with examples."
   ]
  },
  {
   "cell_type": "markdown",
   "id": "d88d6c7d",
   "metadata": {},
   "source": [
    "#### 49. What is denormalization?"
   ]
  },
  {
   "cell_type": "markdown",
   "id": "3c63120b",
   "metadata": {},
   "source": [
    "#### 50. What is the purpose of denormalization?"
   ]
  },
  {
   "cell_type": "markdown",
   "id": "5c7decc2",
   "metadata": {},
   "source": [
    "#### 51. What is transitive dependency in normalization?"
   ]
  },
  {
   "cell_type": "markdown",
   "id": "f72a714f",
   "metadata": {},
   "source": [
    "#### 52. Differentiate between DROP and DELETE."
   ]
  },
  {
   "cell_type": "markdown",
   "id": "ffe1666f",
   "metadata": {},
   "source": [
    "#### 53. Differentiate between DROP and TRUNCATE."
   ]
  },
  {
   "cell_type": "markdown",
   "id": "8bef14b7",
   "metadata": {},
   "source": [
    "#### 54. What does the TRUNCATE command do?"
   ]
  },
  {
   "cell_type": "markdown",
   "id": "7ea0aea6",
   "metadata": {},
   "source": [
    "#### 55. Differentiate between ALTER and UPDATE."
   ]
  },
  {
   "cell_type": "markdown",
   "id": "967f0ca7",
   "metadata": {},
   "source": [
    "#### 56. Differentiate between CHAR and VARCHAR."
   ]
  },
  {
   "cell_type": "markdown",
   "id": "37f9e395",
   "metadata": {},
   "source": [
    "#### 57. Differentiate between VARCHAR and VARCHAR2."
   ]
  },
  {
   "cell_type": "markdown",
   "id": "6c28d007",
   "metadata": {},
   "source": [
    "#### 58. What is the purpose of the DISTINCT keyword in SQL?"
   ]
  },
  {
   "cell_type": "markdown",
   "id": "0003b846",
   "metadata": {},
   "source": [
    "#### 59. What are the different types of databases?"
   ]
  },
  {
   "cell_type": "markdown",
   "id": "24c2f9f7",
   "metadata": {},
   "source": [
    "#### 60. What are CRUD operations?"
   ]
  },
  {
   "cell_type": "markdown",
   "id": "30e7864b",
   "metadata": {},
   "source": [
    "#### 61. What is OLTP (Online Transaction Processing)?"
   ]
  },
  {
   "cell_type": "markdown",
   "id": "ff16a2c0",
   "metadata": {},
   "source": [
    "#### 62. What is OLAP (Online Analytical Processing)?"
   ]
  },
  {
   "cell_type": "markdown",
   "id": "4d5e08fd",
   "metadata": {},
   "source": [
    "#### 63. Differentiate between transactional and analytical platforms."
   ]
  },
  {
   "cell_type": "markdown",
   "id": "5756916b",
   "metadata": {},
   "source": [
    "#### 64. What is ETL (Extract, Transform, Load)?"
   ]
  },
  {
   "cell_type": "markdown",
   "id": "432cc6c9",
   "metadata": {},
   "source": [
    "#### 65. What is PL/SQL?"
   ]
  },
  {
   "cell_type": "markdown",
   "id": "a31c9cfb",
   "metadata": {},
   "source": [
    "#### 66. What is a deadlock in DBMS?"
   ]
  },
  {
   "cell_type": "markdown",
   "id": "0f6871f3",
   "metadata": {},
   "source": [
    "#### 67. What is an object-oriented database (OODBMS), and how is it different from RDBMS?"
   ]
  },
  {
   "cell_type": "markdown",
   "id": "f0d72faf",
   "metadata": {},
   "source": [
    "#### 68. What are anomalies in relational databases?"
   ]
  },
  {
   "cell_type": "markdown",
   "id": "547cba1e",
   "metadata": {},
   "source": [
    "#### 69. What are different types of DBMS (Hierarchical, Network, Relational, etc.)?"
   ]
  },
  {
   "cell_type": "markdown",
   "id": "9580cf52",
   "metadata": {},
   "source": [
    "#### 70. What is a hierarchical DBMS?"
   ]
  },
  {
   "cell_type": "markdown",
   "id": "e66a5b40",
   "metadata": {},
   "source": [
    "#### 71. Why is data considered the most important part of any application?"
   ]
  },
  {
   "cell_type": "markdown",
   "id": "4dfae163",
   "metadata": {},
   "source": [
    "#### 72. What is the principle of data independence, and why is it important?"
   ]
  },
  {
   "cell_type": "markdown",
   "id": "50280b68",
   "metadata": {},
   "source": [
    "#### 73. Explain data persistence with an example."
   ]
  },
  {
   "cell_type": "markdown",
   "id": "44da45fc",
   "metadata": {},
   "source": [
    "#### 74. How was data stored and managed before RDBMS?"
   ]
  },
  {
   "cell_type": "markdown",
   "id": "8f3f0a10",
   "metadata": {},
   "source": [
    "#### 75. Why must data be stored from the first day of an application’s lifecycle?"
   ]
  },
  {
   "cell_type": "markdown",
   "id": "ace7f089",
   "metadata": {},
   "source": [
    "#### 76. What are the main components of a relational data model?"
   ]
  },
  {
   "cell_type": "markdown",
   "id": "2ea7ca1f",
   "metadata": {},
   "source": [
    "#### 77. What are database objects in RDBMS? Give examples."
   ]
  },
  {
   "cell_type": "markdown",
   "id": "d9e1f8b8",
   "metadata": {},
   "source": [
    "#### 78. What role do integrity rules play in the relational data model?"
   ]
  },
  {
   "cell_type": "markdown",
   "id": "e33dbbb3",
   "metadata": {},
   "source": [
    "#### 79. Differentiate between transactional and analytical platforms."
   ]
  },
  {
   "cell_type": "markdown",
   "id": "db1455c4",
   "metadata": {},
   "source": [
    "#### 80. What is ETL, and why is it important in data engineering?"
   ]
  },
  {
   "cell_type": "markdown",
   "id": "e5b2fa01",
   "metadata": {},
   "source": [
    "#### 81. Compare normalized vs. denormalized databases in OLTP and OLAP systems."
   ]
  },
  {
   "cell_type": "markdown",
   "id": "ed1505e9",
   "metadata": {},
   "source": [
    "#### 82. How does Business Intelligence (BI) interact with RDBMS in analytical systems?"
   ]
  },
  {
   "cell_type": "markdown",
   "id": "ccc3fce4",
   "metadata": {},
   "source": [
    "#### 83. What does it mean for a database to be ACID compliant in OLTP?"
   ]
  },
  {
   "cell_type": "markdown",
   "id": "6d5704e8",
   "metadata": {},
   "source": [
    "#### 84. What are operators in SQL, and why are they important?"
   ]
  },
  {
   "cell_type": "markdown",
   "id": "eb97e48e",
   "metadata": {},
   "source": [
    "#### 85. Differentiate between arithmetic, relational, logical, and special operators with examples."
   ]
  },
  {
   "cell_type": "markdown",
   "id": "e219958f",
   "metadata": {},
   "source": [
    "#### 86. Give an example of a special operator in SQL and explain its use."
   ]
  },
  {
   "cell_type": "markdown",
   "id": "bf0a30b3",
   "metadata": {},
   "source": [
    "#### 87. What is operator precedence in SQL?"
   ]
  },
  {
   "cell_type": "markdown",
   "id": "038fc2e9",
   "metadata": {},
   "source": [
    "#### 88. Explain associativity in SQL operators with examples."
   ]
  },
  {
   "cell_type": "markdown",
   "id": "a9f459e1",
   "metadata": {},
   "source": [
    "#### 89. How is NULL handled in SQL expressions?"
   ]
  },
  {
   "cell_type": "markdown",
   "id": "42daf771",
   "metadata": {},
   "source": [
    "#### 90. Differentiate between NULL and Zero in SQL."
   ]
  },
  {
   "cell_type": "markdown",
   "id": "581b428c",
   "metadata": {},
   "source": [
    "#### 91. Why is NULL considered an unknown value in databases?"
   ]
  },
  {
   "cell_type": "markdown",
   "id": "78d4f4db",
   "metadata": {},
   "source": [
    "#### 92. What is the default date format in Oracle?"
   ]
  },
  {
   "cell_type": "markdown",
   "id": "c74be157",
   "metadata": {},
   "source": [
    "#### 93. What does data integrity mean in databases?"
   ]
  },
  {
   "cell_type": "markdown",
   "id": "624708dd",
   "metadata": {},
   "source": [
    "#### 94. How do constraints maintain data integrity?"
   ]
  },
  {
   "cell_type": "markdown",
   "id": "f8759eaf",
   "metadata": {},
   "source": [
    "#### 95. Explain the CHECK constraint with an example."
   ]
  },
  {
   "cell_type": "markdown",
   "id": "6cb18afc",
   "metadata": {},
   "source": [
    "#### 96. Why are constraints enforced at the column level?"
   ]
  },
  {
   "cell_type": "markdown",
   "id": "ed4eb9b4",
   "metadata": {},
   "source": [
    "#### 97. What are the five SQL sub-languages and their purposes?"
   ]
  },
  {
   "cell_type": "markdown",
   "id": "46521287",
   "metadata": {},
   "source": [
    "#### 98. Differentiate between DQL and DML."
   ]
  },
  {
   "cell_type": "markdown",
   "id": "7cf3edbe",
   "metadata": {},
   "source": [
    "#### 99. Why are DDL commands auto-committed in SQL?"
   ]
  },
  {
   "cell_type": "markdown",
   "id": "3b189272",
   "metadata": {},
   "source": [
    "#### 100. What is the use of DCL commands in SQL?"
   ]
  },
  {
   "cell_type": "markdown",
   "id": "d1e06ab9",
   "metadata": {},
   "source": [
    "#### 101. Differentiate between COMMIT, ROLLBACK, and SAVEPOINT in TCL."
   ]
  },
  {
   "cell_type": "markdown",
   "id": "9ca982c0",
   "metadata": {},
   "source": [
    "#### 102. What is the use of aliases in SQL?"
   ]
  },
  {
   "cell_type": "markdown",
   "id": "92c5ec61",
   "metadata": {},
   "source": [
    "#### 103. Differentiate between aggregate functions and scalar functions."
   ]
  },
  {
   "cell_type": "markdown",
   "id": "4f4d0089",
   "metadata": {},
   "source": [
    "#### 104. What is the purpose of GROUP BY in SQL?"
   ]
  },
  {
   "cell_type": "markdown",
   "id": "2d78653a",
   "metadata": {},
   "source": [
    "#### 105. What is the HAVING clause, and how is it different from WHERE?"
   ]
  },
  {
   "cell_type": "markdown",
   "id": "2d8b107b",
   "metadata": {},
   "source": [
    "#### 106. What are subqueries in SQL?"
   ]
  },
  {
   "cell_type": "markdown",
   "id": "ce3aac2c",
   "metadata": {},
   "source": [
    "#### 107. Differentiate between single-row and multiple-row subqueries."
   ]
  },
  {
   "cell_type": "markdown",
   "id": "2bde816e",
   "metadata": {},
   "source": [
    "#### 108. What are correlated subqueries in SQL?"
   ]
  }
 ],
 "metadata": {},
 "nbformat": 4,
 "nbformat_minor": 5
}
