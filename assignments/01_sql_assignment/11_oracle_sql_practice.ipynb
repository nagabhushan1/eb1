{
 "cells": [
  {
   "cell_type": "markdown",
   "id": "df301de8",
   "metadata": {},
   "source": [
    "#### Oracle SQL Practice\n",
    "\n",
    "You will:\n",
    "1. Create tables\n",
    "2. Insert sample data\n",
    "3. Solve practice queries"
   ]
  },
  {
   "cell_type": "markdown",
   "id": "6ea74b8d",
   "metadata": {},
   "source": [
    "##### 1. DDL Statements (Run these first)"
   ]
  },
  {
   "cell_type": "code",
   "execution_count": null,
   "id": "24f6fc6b",
   "metadata": {},
   "outputs": [],
   "source": [
    "-- Create table for Manufacturers\n",
    "CREATE TABLE Manufacturers (\n",
    "    Code NUMBER PRIMARY KEY,\n",
    "    Name VARCHAR2(255) NOT NULL\n",
    ");\n",
    "\n",
    "-- Create table for Products\n",
    "CREATE TABLE Products (\n",
    "    Code NUMBER PRIMARY KEY,\n",
    "    Name VARCHAR2(255) NOT NULL,\n",
    "    Price NUMBER(10,2) NOT NULL, \n",
    "    Manufacturer NUMBER NOT NULL,\n",
    "    CONSTRAINT fk_manufacturer FOREIGN KEY (Manufacturer) REFERENCES Manufacturers(Code)\n",
    ");\n"
   ]
  },
  {
   "cell_type": "markdown",
   "id": "a457fdd7",
   "metadata": {},
   "source": [
    "##### 2. Insert Sample Data"
   ]
  },
  {
   "cell_type": "code",
   "execution_count": null,
   "id": "542d8663",
   "metadata": {},
   "outputs": [],
   "source": [
    "INSERT INTO Manufacturers(Code, Name) VALUES (1, 'Apple India');\n",
    "INSERT INTO Manufacturers(Code, Name) VALUES (2, 'Samsung Electronics');\n",
    "INSERT INTO Manufacturers(Code, Name) VALUES (3, 'Dell Technologies');\n",
    "INSERT INTO Manufacturers(Code, Name) VALUES (4, 'HP Inc.');\n",
    "INSERT INTO Manufacturers(Code, Name) VALUES (5, 'Xiaomi India');\n",
    "INSERT INTO Manufacturers(Code, Name) VALUES (6, 'OnePlus');\n",
    "\n",
    "INSERT INTO Products(Code, Name, Price, Manufacturer) VALUES (1, 'iPhone 16 Pro Max', 149000, 1);\n",
    "INSERT INTO Products(Code, Name, Price, Manufacturer) VALUES (2, 'Galaxy Z Fold 7', 160000, 2);\n",
    "INSERT INTO Products(Code, Name, Price, Manufacturer) VALUES (3, 'Dell XPS 17 Laptop', 210000, 3);\n",
    "INSERT INTO Products(Code, Name, Price, Manufacturer) VALUES (4, 'HP Smart Tank Printer', 18000, 4);\n",
    "INSERT INTO Products(Code, Name, Price, Manufacturer) VALUES (5, 'Xiaomi Smart TV 65\"', 70000, 5);\n",
    "INSERT INTO Products(Code, Name, Price, Manufacturer) VALUES (6, 'OnePlus Pad Pro', 48000, 6);\n",
    "INSERT INTO Products(Code, Name, Price, Manufacturer) VALUES (7, 'Galaxy Watch Ultra', 65000, 2);\n",
    "INSERT INTO Products(Code, Name, Price, Manufacturer) VALUES (8, 'Apple Vision Pro (India)', 299000, 1);\n",
    "INSERT INTO Products(Code, Name, Price, Manufacturer) VALUES (9, 'Dell Ultrasharp Monitor', 95000, 3);\n",
    "INSERT INTO Products(Code, Name, Price, Manufacturer) VALUES (10, 'OnePlus Buds Pro 3', 15000, 6);\n"
   ]
  },
  {
   "cell_type": "markdown",
   "id": "0ca99e9c",
   "metadata": {},
   "source": [
    "##### 3. Practice Questions (Write SQL Queries Below Each Question)"
   ]
  },
  {
   "cell_type": "markdown",
   "id": "01a4359c",
   "metadata": {},
   "source": [
    "**1.1 Select the names of all the products in the store.**"
   ]
  },
  {
   "cell_type": "code",
   "execution_count": null,
   "id": "fd438735",
   "metadata": {},
   "outputs": [],
   "source": []
  },
  {
   "cell_type": "markdown",
   "id": "ca18f546",
   "metadata": {},
   "source": [
    "**1.2 Select the names and the prices of all the products in the store.**"
   ]
  },
  {
   "cell_type": "code",
   "execution_count": null,
   "id": "48997079",
   "metadata": {},
   "outputs": [],
   "source": []
  },
  {
   "cell_type": "markdown",
   "id": "416d03ac",
   "metadata": {},
   "source": [
    "**1.3 Select the name of the products with a price less than or equal to ₹20,000.**"
   ]
  },
  {
   "cell_type": "code",
   "execution_count": null,
   "id": "1fa6a071",
   "metadata": {},
   "outputs": [],
   "source": []
  },
  {
   "cell_type": "markdown",
   "id": "86347566",
   "metadata": {},
   "source": [
    "**1.4 Select all the products with a price between ₹15,000 and ₹70,000.**"
   ]
  },
  {
   "cell_type": "code",
   "execution_count": null,
   "id": "3749166f",
   "metadata": {},
   "outputs": [],
   "source": []
  },
  {
   "cell_type": "markdown",
   "id": "3216ead8",
   "metadata": {},
   "source": [
    "**1.5 Select the name and price in paise.**"
   ]
  },
  {
   "cell_type": "code",
   "execution_count": null,
   "id": "fe85fc41",
   "metadata": {},
   "outputs": [],
   "source": []
  },
  {
   "cell_type": "markdown",
   "id": "4ae2df45",
   "metadata": {},
   "source": [
    "**1.6 Compute the average price of all the products.**"
   ]
  },
  {
   "cell_type": "code",
   "execution_count": null,
   "id": "b4910d47",
   "metadata": {},
   "outputs": [],
   "source": []
  },
  {
   "cell_type": "markdown",
   "id": "4ecd62c5",
   "metadata": {},
   "source": [
    "**1.7 Compute the average price of all products with manufacturer code equal to 2 (Samsung Electronics).**"
   ]
  },
  {
   "cell_type": "code",
   "execution_count": null,
   "id": "ff942619",
   "metadata": {},
   "outputs": [],
   "source": []
  },
  {
   "cell_type": "markdown",
   "id": "138f059f",
   "metadata": {},
   "source": [
    "**1.8 Compute the number of products with a price larger than or equal to ₹1,00,000.**"
   ]
  },
  {
   "cell_type": "code",
   "execution_count": null,
   "id": "1c86c587",
   "metadata": {},
   "outputs": [],
   "source": []
  },
  {
   "cell_type": "markdown",
   "id": "0b489dc5",
   "metadata": {},
   "source": [
    "**1.9 Select the name and price of all products with a price larger than or equal to ₹1,00,000, and sort first by price (in descending order), and then by name (in ascending order).**"
   ]
  },
  {
   "cell_type": "code",
   "execution_count": null,
   "id": "b11dfc51",
   "metadata": {},
   "outputs": [],
   "source": []
  },
  {
   "cell_type": "markdown",
   "id": "526fa198",
   "metadata": {},
   "source": [
    "**1.10 Select all the data from the products, including all the data for each product's manufacturer.**"
   ]
  },
  {
   "cell_type": "code",
   "execution_count": null,
   "id": "aecd2a3b",
   "metadata": {},
   "outputs": [],
   "source": []
  },
  {
   "cell_type": "markdown",
   "id": "edbb6abb",
   "metadata": {},
   "source": [
    "**1.11 Select the product name, price, and manufacturer name of all the products.**"
   ]
  },
  {
   "cell_type": "code",
   "execution_count": null,
   "id": "d3143d43",
   "metadata": {},
   "outputs": [],
   "source": []
  },
  {
   "cell_type": "markdown",
   "id": "70dae26e",
   "metadata": {},
   "source": [
    "**1.12 Select the average price of each manufacturer's products, showing only the manufacturer's code.**"
   ]
  },
  {
   "cell_type": "code",
   "execution_count": null,
   "id": "8686b246",
   "metadata": {},
   "outputs": [],
   "source": []
  }
 ],
 "metadata": {
  "language_info": {
   "name": "python"
  }
 },
 "nbformat": 4,
 "nbformat_minor": 5
}
