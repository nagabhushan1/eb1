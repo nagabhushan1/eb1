{
 "cells": [
  {
   "cell_type": "markdown",
   "id": "d2db102b",
   "metadata": {},
   "source": [
    "### Q01. Reverse Characters of Each Word\n",
    "\n",
    "**Problem Statement:**\n",
    "Write a Python program that takes a string as input and reverses the characters of each word, while keeping the word order unchanged.\n",
    "\n",
    "**Example**\n",
    "```\n",
    "Input: \"Python is fun\"\n",
    "Output: \"nohtyP si nuf\"\n",
    "```"
   ]
  },
  {
   "cell_type": "markdown",
   "id": "dd2b254d",
   "metadata": {},
   "source": [
    "### Q02. Reverse the Order of Words in a String\n",
    "\n",
    "**Problem Statement:**\n",
    "Write a Python program that takes a string as input and reverses the order of words, while keeping the characters in each word unchanged.\n",
    "\n",
    "**Example**\n",
    "```\n",
    "Input: \"Coding makes life easier\"\n",
    "Output: \"easier life makes Coding\"\n",
    "```"
   ]
  },
  {
   "cell_type": "markdown",
   "id": "4056173a",
   "metadata": {},
   "source": [
    "### Q03. Print Characters at Even and Odd Indexes Separately\n",
    "\n",
    "**Problem Statement:**\n",
    "Write a Python program that takes a string as input and prints the characters present at even indexes and odd indexes separately.\n",
    "\n",
    "**Example**\n",
    "```\n",
    "Input: \"Python\"\n",
    "Output:\n",
    "- Even indexes: \"Pto\"\n",
    "- Odd indexes: \"yhn\"\n",
    "```"
   ]
  },
  {
   "cell_type": "markdown",
   "id": "4e9d6b7e",
   "metadata": {},
   "source": [
    "### Q04. Merge Two Strings by Alternating Characters\n",
    "\n",
    "**Problem Statement:**\n",
    "Write a Python program that takes two strings as input and merges them into a single string by taking characters alternately from each.\n",
    "\n",
    "**Example**\n",
    "```\n",
    "Input: \"ABC\", \"123\"\n",
    "Output: \"A1B2C3\"\n",
    "```"
   ]
  },
  {
   "cell_type": "markdown",
   "id": "f9f573cb",
   "metadata": {},
   "source": [
    "### Q05. Remove Duplicate Characters from a String\n",
    "\n",
    "**Problem Statement:**\n",
    "Write a Python program that takes any string (word or sentence) as input and removes all duplicate characters while preserving the order of their first appearance.\n",
    "\n",
    "**Example**\n",
    "```\n",
    "Input: \"Learn programming with Python\"\n",
    "Output: \"Learn progmiwtPyh\"\n",
    "```"
   ]
  },
  {
   "cell_type": "markdown",
   "id": "7f0b38d0",
   "metadata": {},
   "source": [
    "### Q06. Count the Occurrences of Each Character\n",
    "\n",
    "**Problem Statement:**\n",
    "Write a Python program that counts the number of occurrences of each character in the given string. The program should consider spaces and punctuation as characters too.\n",
    "\n",
    "**Example**\n",
    "```\n",
    "Input: \"Data Science\"\n",
    "Output: {\"D\":1, \"a\":2, \"t\":1, \" \":1, \"S\":1, \"c\":2, \"i\":1, \"e\":2, \"n\":1}\n",
    "```"
   ]
  },
  {
   "cell_type": "markdown",
   "id": "aef0aa80",
   "metadata": {},
   "source": [
    "### Q07. Count the Occurrences of Vowels\n",
    "\n",
    "**Problem Statement:**\n",
    "Write a Python program that counts how many times each vowel (a, e, i, o, u) occurs in the given string, regardless of case.\n",
    "\n",
    "**Example**\n",
    "```\n",
    "Input: \"Machine Learning is amazing\"\n",
    "Output: {\"a\":3, \"e\":2, \"i\":3, \"o\":0, \"u\":0}\n",
    "```"
   ]
  },
  {
   "cell_type": "markdown",
   "id": "817b01a9",
   "metadata": {},
   "source": [
    "### Q08. Print a Square Pattern of a Fixed Digit\n",
    "\n",
    "**Problem Statement:**\n",
    "Write a Python program that prints a square pattern of size n × n using a fixed digit provided by the user.\n",
    "\n",
    "**Example**\n",
    "```\n",
    "n = 4, digit = 7\n",
    "Output:\n",
    "7777\n",
    "7777\n",
    "7777\n",
    "7777\n",
    "```"
   ]
  },
  {
   "cell_type": "markdown",
   "id": "7a30e422",
   "metadata": {},
   "source": [
    "### Q09. Print a Right-Angle Triangle Pattern with *\n",
    "\n",
    "**Problem Statement:**\n",
    "Write a Python program that prints a right-angle triangle pattern of size n using * symbols.\n",
    "\n",
    "**Example**\n",
    "```\n",
    "n = 5\n",
    "Output:\n",
    "*\n",
    "**\n",
    "***\n",
    "****\n",
    "*****\n",
    "```"
   ]
  },
  {
   "cell_type": "markdown",
   "id": "87866e01",
   "metadata": {},
   "source": [
    "### Q10. Print a Pyramid Pattern with *\n",
    "\n",
    "**Problem Statement:**\n",
    "Write a Python program that prints a pyramid pattern of size n using * symbols.\n",
    "\n",
    "**Example**\n",
    "```\n",
    "n = 4\n",
    "Output:\n",
    "   *\n",
    "  ***\n",
    " *****\n",
    "*******\n",
    "```"
   ]
  }
 ],
 "metadata": {},
 "nbformat": 4,
 "nbformat_minor": 5
}
