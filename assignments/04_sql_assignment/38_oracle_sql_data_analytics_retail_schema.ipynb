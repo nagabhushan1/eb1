{
 "cells": [
  {
   "cell_type": "markdown",
   "id": "dbd686ad",
   "metadata": {},
   "source": [
    "# Retail SQL Practice – Use Cases"
   ]
  },
  {
   "cell_type": "markdown",
   "id": "12f859ef",
   "metadata": {},
   "source": [
    "##### Q01. What are the different types of order statuses recorded in the system?"
   ]
  },
  {
   "cell_type": "markdown",
   "id": "9872e4bc",
   "metadata": {},
   "source": [
    "##### Q02. List all orders that have been marked as **Complete**."
   ]
  },
  {
   "cell_type": "markdown",
   "id": "9f880bdf",
   "metadata": {},
   "source": [
    "##### Q03. List all orders that have been marked as **Closed**."
   ]
  },
  {
   "cell_type": "markdown",
   "id": "2777cf3a",
   "metadata": {},
   "source": [
    "##### Q04. Retrieve all orders that are either **Closed** or **Complete**."
   ]
  },
  {
   "cell_type": "markdown",
   "id": "86b63f64",
   "metadata": {},
   "source": [
    "##### Q05. Using the `IN` operator, retrieve all orders that are either **Closed** or **Complete**."
   ]
  },
  {
   "cell_type": "markdown",
   "id": "059da480",
   "metadata": {},
   "source": [
    "##### Q06. How many orders have been placed in total?"
   ]
  },
  {
   "cell_type": "markdown",
   "id": "f1465b30",
   "metadata": {},
   "source": [
    "##### Q07. How many order items have been recorded across all orders?"
   ]
  },
  {
   "cell_type": "markdown",
   "id": "884a7d37",
   "metadata": {},
   "source": [
    "##### Q08. How many distinct order statuses exist in the system?"
   ]
  },
  {
   "cell_type": "markdown",
   "id": "4a50de26",
   "metadata": {},
   "source": [
    "##### Q09. How many unique order dates are present in the system?"
   ]
  },
  {
   "cell_type": "markdown",
   "id": "b40a4c2a",
   "metadata": {},
   "source": [
    "##### Q10. Display all columns from the order items table."
   ]
  },
  {
   "cell_type": "markdown",
   "id": "d79b7b11",
   "metadata": {},
   "source": [
    "##### Q11. For a given order (say Order ID = 2), what is the total sales amount (sum of order item subtotals)?"
   ]
  },
  {
   "cell_type": "markdown",
   "id": "ee9d6572",
   "metadata": {},
   "source": [
    "##### Q12. Display all orders in the system with their details."
   ]
  },
  {
   "cell_type": "markdown",
   "id": "98430024",
   "metadata": {},
   "source": [
    "##### Q13. How many orders are there for each order status? Show counts in descending order of frequency."
   ]
  },
  {
   "cell_type": "markdown",
   "id": "2cd27808",
   "metadata": {},
   "source": [
    "##### Q14. How many orders were placed on each order date? Show counts in descending order."
   ]
  },
  {
   "cell_type": "markdown",
   "id": "9ab7bfda",
   "metadata": {},
   "source": [
    "##### Q15. How many orders were placed in each month? Show counts in descending order."
   ]
  },
  {
   "cell_type": "markdown",
   "id": "96a1a2af",
   "metadata": {},
   "source": [
    "##### Q16. Display all columns from the order items table."
   ]
  },
  {
   "cell_type": "markdown",
   "id": "bdb7e37e",
   "metadata": {},
   "source": [
    "##### Q17. What is the total revenue generated for each order ID?"
   ]
  },
  {
   "cell_type": "markdown",
   "id": "81435ee7",
   "metadata": {},
   "source": [
    "##### Q18. For order dates where the number of orders is at least 120, list those dates with their counts (only for orders in COMPLETE or CLOSED status). Show counts in descending order."
   ]
  },
  {
   "cell_type": "markdown",
   "id": "93692d2c",
   "metadata": {},
   "source": [
    "##### Q19. Identify orders where the total revenue is greater than or equal to 2000."
   ]
  },
  {
   "cell_type": "markdown",
   "id": "5ecb5583",
   "metadata": {},
   "source": [
    "##### Q20. Retrieve all orders along with their order items. If an order has no items, show the order with NULL values for item details."
   ]
  },
  {
   "cell_type": "markdown",
   "id": "920e97ab",
   "metadata": {},
   "source": [
    "##### Q21. For orders in COMPLETE or CLOSED status, show order revenue per product on each order date. Sort by date and revenue."
   ]
  },
  {
   "cell_type": "markdown",
   "id": "645a958b",
   "metadata": {},
   "source": [
    "##### Q22. Create a summary table that shows the total daily revenue for all orders in *Complete* or *Closed* status."
   ]
  },
  {
   "cell_type": "markdown",
   "id": "987ce552",
   "metadata": {},
   "source": [
    "##### Q23. Display all records from the daily revenue table, sorted by order date."
   ]
  },
  {
   "cell_type": "markdown",
   "id": "6ccd25de",
   "metadata": {},
   "source": [
    "##### Q24. Create a summary table that shows the daily product-level revenue (total sales per product per day) for orders in *Complete* or *Closed* status."
   ]
  },
  {
   "cell_type": "markdown",
   "id": "a9cd47b2",
   "metadata": {},
   "source": [
    "##### Q25. Display all records from the daily product revenue table, sorted by date and revenue (highest revenue first)."
   ]
  },
  {
   "cell_type": "markdown",
   "id": "f6e4fe0c",
   "metadata": {},
   "source": [
    "##### Q26. For each order date, calculate the monthly revenue total by summing daily revenues within the same month."
   ]
  },
  {
   "cell_type": "markdown",
   "id": "f42bae76",
   "metadata": {},
   "source": [
    "##### Q27. Display daily revenues along with the total revenue across all dates."
   ]
  },
  {
   "cell_type": "markdown",
   "id": "c3961489",
   "metadata": {},
   "source": [
    "##### Q28. On a specific date (e.g., 2014-01-01), assign global ranks to products by revenue using both RANK and DENSE_RANK. Show results in descending order of revenue."
   ]
  },
  {
   "cell_type": "markdown",
   "id": "bc4541e4",
   "metadata": {},
   "source": [
    "##### Q29. For January 2014, list the top 5 products per day based on revenue, using DENSE_RANK within each order date. Sort results by date and revenue."
   ]
  }
 ],
 "metadata": {},
 "nbformat": 4,
 "nbformat_minor": 5
}
