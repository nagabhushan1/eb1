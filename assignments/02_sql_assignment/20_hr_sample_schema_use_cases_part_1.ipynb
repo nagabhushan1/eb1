{
  "cells": [
    {
      "cell_type": "markdown",
      "metadata": {},
      "source": "# \ud83d\udcd8 Working with HR Schema\n\nIn this exercise, we will solve the following use cases on the **HR sample database**.  \nEach requirement is given below as a separate task."
    },
    {
      "cell_type": "markdown",
      "metadata": {},
      "source": "#### \ud83d\udd39 Use Case 1\n> **Describe all the tables** available in the HR schema and explain how the tables are related to each other."
    },
    {
      "cell_type": "markdown",
      "metadata": {},
      "source": "#### \ud83d\udd39 Use Case 2\n> Retrieve the **last name** and **email** of all employees."
    },
    {
      "cell_type": "markdown",
      "metadata": {},
      "source": "#### \ud83d\udd39 Use Case 3\n> Retrieve **all columns** from the `departments` table."
    },
    {
      "cell_type": "markdown",
      "metadata": {},
      "source": "#### \ud83d\udd39 Use Case 4\n> Retrieve the **last name, first name, salary**, and **salary + 300** as an incremented salary from the `employees` table."
    },
    {
      "cell_type": "markdown",
      "metadata": {},
      "source": "#### \ud83d\udd39 Use Case 5\n> Retrieve the **last name, salary, commission percentage, and annual salary** of employees.  \n> Formula:  \n> `annual_salary = (salary + (commission_pct * salary)) * 12`"
    },
    {
      "cell_type": "markdown",
      "metadata": {},
      "source": "#### \ud83d\udd39 Use Case 6\n> Find the **IDs of departments** in which employees are working."
    },
    {
      "cell_type": "markdown",
      "metadata": {},
      "source": "#### \ud83d\udd39 Use Case 7\n> Display the **last name, job ID, and department ID** of the employee whose last name is **Whalen**."
    },
    {
      "cell_type": "markdown",
      "metadata": {},
      "source": "#### \ud83d\udd39 Use Case 8\n> Retrieve the **last name** and **salary** of all employees who have a **salary greater than 5000** and work in **department 90**."
    },
    {
      "cell_type": "markdown",
      "metadata": {},
      "source": "#### \ud83d\udd39 Use Case 9\n> Retrieve the **last name, salary, and hire date** of all employees working in departments **60** and **90** who were hired **after 1-JAN-07**.  \n> Sort the data so that the **most recently hired employees** appear first."
    },
    {
      "cell_type": "markdown",
      "metadata": {},
      "source": "#### \ud83d\udd39 Use Case 10\n> Retrieve the **last name** and **salary** of all employees working as **SA_REP** or **AD_PRES** with a **salary greater than 5000**.  \n> Sort the results in **ascending order of last name**."
    },
    {
      "cell_type": "markdown",
      "metadata": {},
      "source": "#### \ud83d\udd39 Use Case 11\n> Retrieve the **last names** of employees whose **second-last character** in their last name is **e**."
    },
    {
      "cell_type": "markdown",
      "metadata": {},
      "source": "#### \ud83d\udd39 Use Case 12\n> Retrieve the **salary and last name** of all employees whose **manager_id** is **100, 101, or 201**."
    },
    {
      "cell_type": "markdown",
      "metadata": {},
      "source": "#### \ud83d\udd39 Use Case 13\n> Retrieve the **salary and last name** of all employees whose **salary** is between **5000 and 10000**."
    },
    {
      "cell_type": "markdown",
      "metadata": {},
      "source": "#### \ud83d\udd39 Use Case 14\n> Retrieve the **names of employees** who **do not have managers**."
    }
  ],
  "metadata": {
    "kernelspec": {
      "display_name": "SQL",
      "language": "sql",
      "name": "sql"
    },
    "language_info": {
      "name": "sql"
    }
  },
  "nbformat": 4,
  "nbformat_minor": 5
}