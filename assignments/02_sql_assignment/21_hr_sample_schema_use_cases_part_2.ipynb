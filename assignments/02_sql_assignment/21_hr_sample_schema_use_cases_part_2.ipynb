{
  "cells": [
    {
      "cell_type": "markdown",
      "metadata": {},
      "source": "# \ud83d\udcd8 HR Database \u2013 Use Cases (Part 2)\n\nIn this exercise, we will solve the following use cases on the **HR sample database**."
    },
    {
      "cell_type": "markdown",
      "metadata": {},
      "source": "#### \ud83d\udd39 Use Case 15\n> Find the **average, sum, maximum, and minimum salary** of all employees."
    },
    {
      "cell_type": "markdown",
      "metadata": {},
      "source": "#### \ud83d\udd39 Use Case 16\n> Find the **count of employees** and the **count of departments**."
    },
    {
      "cell_type": "markdown",
      "metadata": {},
      "source": "#### \ud83d\udd39 Use Case 17\n> Find the **count of department IDs** in the `employees` table."
    },
    {
      "cell_type": "markdown",
      "metadata": {},
      "source": "#### \ud83d\udd39 Use Case 18\n> Find the **average salary** for all employees in each department, where the average salary is **greater than 5000**."
    },
    {
      "cell_type": "markdown",
      "metadata": {},
      "source": "#### \ud83d\udd39 Functions Exploration\n> Demonstrating single-row and date functions on the HR schema."
    },
    {
      "cell_type": "markdown",
      "metadata": {},
      "source": "#### \ud83d\udd39 Use Case 19\n> Find the **employee name** and the **department name** in which the employee is working."
    },
    {
      "cell_type": "markdown",
      "metadata": {},
      "source": "#### \ud83d\udd39 Use Case 20\n> Find the **salary** and the **region name** in which employee **Ernst** is working."
    },
    {
      "cell_type": "markdown",
      "metadata": {},
      "source": "#### \ud83d\udd39 Use Case 21a\n> Find all **department names** and the **manager names** of each department."
    },
    {
      "cell_type": "markdown",
      "metadata": {},
      "source": "#### \ud83d\udd39 Use Case 21b\n> Find all **department names** and the **manager names** of each department, including departments that **do not have managers**."
    },
    {
      "cell_type": "markdown",
      "metadata": {},
      "source": "#### \ud83d\udd39 Use Case 22\n> Find all **department names** which do **not have any employees**."
    },
    {
      "cell_type": "markdown",
      "metadata": {},
      "source": "#### \ud83d\udd39 Use Case 23\n> Find the **names of employees** who are **not managing any department**."
    }
  ],
  "metadata": {
    "kernelspec": {
      "display_name": "SQL",
      "language": "sql",
      "name": "sql"
    },
    "language_info": {
      "name": "sql"
    }
  },
  "nbformat": 4,
  "nbformat_minor": 5
}