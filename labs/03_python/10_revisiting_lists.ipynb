{
 "cells": [
  {
   "cell_type": "markdown",
   "id": "07b07e16",
   "metadata": {},
   "source": [
    "### Revisiting Lists\n",
    "Python lists are dynamic, mutable sequences used to store ordered collections of items.  \n",
    "We’ll explore creating lists, appending elements, slicing, concatenation, comprehensions, and copying."
   ]
  },
  {
   "cell_type": "code",
   "execution_count": null,
   "id": "f4fccbf9",
   "metadata": {},
   "outputs": [],
   "source": [
    "# Creating empty lists\n",
    "list1 = []\n",
    "print(list1)\n",
    "print(type(list1))\n",
    "\n",
    "list2 = list(range(0, 10, 2))\n",
    "print(list2)\n",
    "print(type(list2))\n",
    "\n",
    "str1 = \"Learning Python is fun\"\n",
    "l = str1.split()\n",
    "print(l)\n",
    "print(type(l))"
   ]
  },
  {
   "cell_type": "markdown",
   "id": "01c04b09",
   "metadata": {},
   "source": [
    "#### Adding Elements to a List\n",
    "We can append items of different types to a list. Lists grow dynamically as elements are added."
   ]
  },
  {
   "cell_type": "code",
   "execution_count": null,
   "id": "c703eeec",
   "metadata": {},
   "outputs": [],
   "source": [
    "list4 = []\n",
    "print(list4, len(list4))\n",
    "\n",
    "list4.append(1)\n",
    "list4.append(20.5)\n",
    "list4.append(\"Hello\")\n",
    "list4.append(True)\n",
    "print(list4, len(list4))"
   ]
  },
  {
   "cell_type": "markdown",
   "id": "a46ad71e",
   "metadata": {},
   "source": [
    "#### List Slicing\n",
    "Slicing allows extracting sublists using `[start:end:step]`. Negative step reverses the list."
   ]
  },
  {
   "cell_type": "code",
   "execution_count": null,
   "id": "d6453123",
   "metadata": {},
   "outputs": [],
   "source": [
    "l2 = [10, 20, 30, 40, 50, 60, 70, 80, 90, 100]\n",
    "print(l2)\n",
    "print(l2[2:7])      # elements from index 2 to 6\n",
    "print(l2[2:9:2])    # every 2nd element from index 2 to 8\n",
    "print(l2[2:700])    # slicing beyond length is safe\n",
    "print(l2[::-1])     # reversed list\n",
    "print(l2[4:0:-2])   # reverse step slicing"
   ]
  },
  {
   "cell_type": "markdown",
   "id": "4395a26e",
   "metadata": {},
   "source": [
    "#### Concatenating Lists\n",
    "The `+` operator joins two lists into a new list."
   ]
  },
  {
   "cell_type": "code",
   "execution_count": null,
   "id": "1f9dd38d",
   "metadata": {},
   "outputs": [],
   "source": [
    "l1 = [1, 2, 3]\n",
    "l2 = [4, 5, 6]\n",
    "l3 = l1 + l2\n",
    "print(l3)"
   ]
  },
  {
   "cell_type": "markdown",
   "id": "6ad51fa2",
   "metadata": {},
   "source": [
    "#### Building a List of Multiples\n",
    "Example: Add numbers divisible by 10 up to 100 using a loop."
   ]
  },
  {
   "cell_type": "code",
   "execution_count": null,
   "id": "8c7f49a5",
   "metadata": {},
   "outputs": [],
   "source": [
    "l4 = []\n",
    "for i in range(1, 101):\n",
    "    if i % 10 == 0:\n",
    "        l4.append(i)\n",
    "print(l4)"
   ]
  },
  {
   "cell_type": "markdown",
   "id": "09653a04",
   "metadata": {},
   "source": [
    "#### Copying Lists\n",
    "Assignment creates a reference, while `.copy()` creates a shallow copy."
   ]
  },
  {
   "cell_type": "code",
   "execution_count": null,
   "id": "6fc5b174",
   "metadata": {},
   "outputs": [],
   "source": [
    "l5 = [5, 6, 7]\n",
    "l6 = l5  # reference\n",
    "l5.append(100)\n",
    "print(\"l5:\", l5)\n",
    "print(\"l6:\", l6)\n",
    "\n",
    "l7 = l5.copy()  # shallow copy\n",
    "l5.append(222)\n",
    "print(\"l5:\", l5)\n",
    "print(\"l6:\", l6)\n",
    "print(\"l7:\", l7)"
   ]
  },
  {
   "cell_type": "markdown",
   "id": "46605379",
   "metadata": {},
   "source": [
    "#### List Comprehensions\n",
    "Compact syntax for creating lists in a single line."
   ]
  },
  {
   "cell_type": "code",
   "execution_count": null,
   "id": "ee16b0b9",
   "metadata": {},
   "outputs": [],
   "source": [
    "s = [x * x for x in range(1, 11)]\n",
    "print(s)\n",
    "\n",
    "s2 = [x for x in s if x % 2 == 0]\n",
    "print(s2)"
   ]
  },
  {
   "cell_type": "markdown",
   "id": "4d1128d2",
   "metadata": {},
   "source": [
    "#### Working with Words\n",
    "We can apply list comprehensions to strings and words."
   ]
  },
  {
   "cell_type": "code",
   "execution_count": null,
   "id": "6998e18e",
   "metadata": {},
   "outputs": [],
   "source": [
    "words = ['Identifiers', 'Keywords', 'Datatypes', 'Operators']\n",
    "c = [w[0] for w in words]  # first character of each word\n",
    "print(c)\n",
    "\n",
    "str2 = \"the quick brown fox jumps over the lazy dog\"\n",
    "words = str2.split()\n",
    "a = [(w.upper(), len(w)) for w in words]  # uppercase + length\n",
    "print(a)"
   ]
  },
  {
   "cell_type": "markdown",
   "id": "7e8d45f6",
   "metadata": {},
   "source": [
    "#### Elements Not in Another List\n",
    "Retrieve all elements of one list that are not present in another."
   ]
  },
  {
   "cell_type": "code",
   "execution_count": null,
   "id": "f8a31f9f",
   "metadata": {},
   "outputs": [],
   "source": [
    "list1 = ['a', 'b', 'c', 'd', 'e', 'f']\n",
    "list2 = ['a', 'b', 'c']\n",
    "list3 = [e for e in list1 if e not in list2]\n",
    "print(list3)"
   ]
  },
  {
   "cell_type": "markdown",
   "id": "b00cb2a0",
   "metadata": {},
   "source": [
    "### Common List Functions\n",
    "Python lists come with several built-in methods for manipulation."
   ]
  },
  {
   "cell_type": "code",
   "execution_count": null,
   "id": "7127d56f",
   "metadata": {},
   "outputs": [],
   "source": [
    "list1 = ['a', 'b', 'c', 'd', 'e', 'f', 'a', 'a']\n",
    "\n",
    "# Length\n",
    "print(len(list1))\n",
    "\n",
    "# Count occurrences\n",
    "print(list1.count('a'))\n",
    "print(list1.count('b'))\n",
    "\n",
    "# Append\n",
    "list1.append('Hello')\n",
    "print(list1)\n",
    "\n",
    "# Insert at index\n",
    "list1.insert(1, 8888)\n",
    "print(list1)\n",
    "\n",
    "# Remove first occurrence\n",
    "list1.remove('a')\n",
    "print(list1)"
   ]
  },
  {
   "cell_type": "markdown",
   "id": "a508aa65",
   "metadata": {},
   "source": [
    "#### List Operators\n",
    "Using `+`, `*`, and membership operators with lists."
   ]
  },
  {
   "cell_type": "code",
   "execution_count": null,
   "id": "cb625a5e",
   "metadata": {},
   "outputs": [],
   "source": [
    "l1 = [100, 200, 300]\n",
    "l2 = l1 + l1\n",
    "print(l2)\n",
    "\n",
    "l3 = l1 * 5\n",
    "print(l3)\n",
    "\n",
    "print(l1 == l2)   # equality\n",
    "print(100 in l1)  # membership\n",
    "\n",
    "l3.clear()\n",
    "print(l3)  # cleared list"
   ]
  },
  {
   "cell_type": "markdown",
   "id": "10ce15e4",
   "metadata": {},
   "source": [
    "#### Nested Lists\n",
    "Lists can contain other lists. Indexing can go multiple levels deep."
   ]
  },
  {
   "cell_type": "code",
   "execution_count": null,
   "id": "85b23626",
   "metadata": {},
   "outputs": [],
   "source": [
    "l6 = [[1, 2], [3, 4]]\n",
    "print(l6)\n",
    "print(l6[1])     # [3, 4]\n",
    "print(l6[1][0])  # 3"
   ]
  }
 ],
 "metadata": {},
 "nbformat": 4,
 "nbformat_minor": 5
}
