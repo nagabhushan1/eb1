{
 "cells": [
  {
   "cell_type": "markdown",
   "id": "228ea08a",
   "metadata": {},
   "source": [
    "### PasswordManager\n",
    "\n",
    "- Write a Python class called Password manager. The class should have a list called old passwords that holds all of the user's past passwords. The last item of the list is the user's current password. There should be a method called get password that returns the current password and a method called set password that sets the user's password. The set password method should only change the password if the attempted password is different from all the user's past passwords. Finally, create a method called is correct that receives a string and returns a boolean True or False depending on whether the string is equal to the current password or not.\n",
    "---\n",
    "\n",
    "### Problem Statement\n",
    "Create a class `PasswordManager` that stores all past passwords in a list `old_passwords`. The last item is the current password. Implement:\n",
    "- `get_password()` → returns current password\n",
    "- `set_password(new_password)` → sets password only if it was never used before\n",
    "- `is_correct(pwd)` → returns True if matches current password"
   ]
  },
  {
   "cell_type": "markdown",
   "id": "86945b23",
   "metadata": {},
   "source": [
    "#### Functionality\n",
    "- Maintain history in `old_passwords` (list)\n",
    "- Disallow reuse of any past password\n",
    "- Case-sensitive comparison\n",
    "- Start with an initial password via constructor"
   ]
  },
  {
   "cell_type": "markdown",
   "id": "958aadb8",
   "metadata": {},
   "source": [
    "#### Sample Test Cases\n",
    "```python\n",
    "pm = PasswordManager('pass123')\n",
    "pm.set_password('pass456')\n",
    "print(pm.get_password())  # Expected: pass456\n",
    "print(pm.is_correct('pass456'))  # Expected: True\n",
    "```"
   ]
  },
  {
   "cell_type": "markdown",
   "id": "d3f17ddc",
   "metadata": {},
   "source": [
    "#### Hidden Test Cases (Probables)\n",
    "```python\n",
    "pm = PasswordManager('A1!a1!')\n",
    "pm.set_password('A1!a1!')  # reuse rejected\n",
    "print(pm.get_password())  # A1!a1!\n",
    "print(pm.is_correct('x'))  # False\n",
    "```\n",
    "---"
   ]
  },
  {
   "cell_type": "markdown",
   "id": "219a3772",
   "metadata": {},
   "source": [
    "#### Design Empty Classes\n"
   ]
  },
  {
   "cell_type": "code",
   "execution_count": null,
   "id": "7fac2a7c",
   "metadata": {},
   "outputs": [],
   "source": [
    "class PasswordManager:\n",
    "    \"\"\" This is the password manager class\"\"\"\n",
    "    \n",
    "    def __init__(self):\n",
    "        \"\"\" Initialize with initial password, store all old passwords\"\"\"\n",
    "        pass\n",
    "    \n",
    "    def get_password(self):\n",
    "        \"\"\" Return the current password\"\"\"\n",
    "        pass\n",
    "    \n",
    "    def set_password(self):\n",
    "        \"\"\"Check the given password, \n",
    "        if it is already in the list of old passwords, print a message\n",
    "        else update the password \"\"\"\n",
    "        pass\n",
    "    \n",
    "    def is_correct(self):\n",
    "        \"\"\"Check if given password matches the current password\"\"\"\n",
    "        pass"
   ]
  },
  {
   "cell_type": "code",
   "execution_count": null,
   "id": "baede313",
   "metadata": {},
   "outputs": [],
   "source": [
    "class PasswordManager:\n",
    "    \"\"\" This is the password manager class\"\"\"\n",
    "    \n",
    "    def __init__(self, initial_password):\n",
    "        \"\"\" Initialize with initial password, store all old passwords\"\"\"\n",
    "        self.old_passwords = [initial_password]\n",
    "    \n",
    "    def get_password(self):\n",
    "        \"\"\" Return the current password\"\"\"\n",
    "        return self.old_passwords[-1]\n",
    "    \n",
    "    def set_password(self, new_password):\n",
    "        \"\"\"Check the given password, \n",
    "        if it is already in the list of old passwords, print a message\n",
    "        else update the password \"\"\"\n",
    "        if new_password in self.old_passwords:\n",
    "            print(\"Password is used before. Try another one\")\n",
    "            return\n",
    "        self.old_passwords.append(new_password)\n",
    "        print(\"Password updated successfully\")\n",
    "    \n",
    "    def is_correct(self, password):\n",
    "        \"\"\"Check if given password matches the current password\"\"\"\n",
    "        return password == self.get_password()"
   ]
  },
  {
   "cell_type": "code",
   "execution_count": null,
   "id": "5b4eccbb",
   "metadata": {},
   "outputs": [],
   "source": [
    "pm = PasswordManager('pass123')"
   ]
  },
  {
   "cell_type": "code",
   "execution_count": null,
   "id": "b9bfaa96",
   "metadata": {},
   "outputs": [],
   "source": [
    "pm.set_password('pass456')           # Expected print"
   ]
  },
  {
   "cell_type": "code",
   "execution_count": null,
   "id": "2162d5a0",
   "metadata": {},
   "outputs": [],
   "source": [
    "print(pm.get_password())             # Expected: pass456"
   ]
  },
  {
   "cell_type": "code",
   "execution_count": null,
   "id": "ed4671c2",
   "metadata": {},
   "outputs": [],
   "source": [
    "print(pm.is_correct('pass456'))      # Expected: True"
   ]
  },
  {
   "cell_type": "code",
   "execution_count": null,
   "id": "a1779572",
   "metadata": {},
   "outputs": [],
   "source": [
    "pm.set_password('pass123')           # Expected reuse rejection"
   ]
  }
 ],
 "metadata": {
  "kernelspec": {
   "display_name": "Python 3",
   "language": "python",
   "name": "python3"
  }
 },
 "nbformat": 4,
 "nbformat_minor": 5
}
