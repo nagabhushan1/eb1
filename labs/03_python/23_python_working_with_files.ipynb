{
 "cells": [
  {
   "cell_type": "markdown",
   "id": "3856db96",
   "metadata": {},
   "source": [
    "### Working with Files in Python\n",
    "File handling is a fundamental part of any programming language. In Python, we use the built-in `open()` function to work with files.\n",
    "\n",
    "**Types of Files:**\n",
    "- **Text files:** Contain human-readable data (like `.txt`, `.csv`).\n",
    "- **Binary files:** Contain non-text data (like images, videos, or executables).\n",
    "\n",
    "**Common File Modes:**\n",
    "| Mode | Description |\n",
    "|------|--------------|\n",
    "| `'r'` | Read (default mode) |\n",
    "| `'w'` | Write (creates/overwrites) |\n",
    "| `'a'` | Append (adds data to end) |\n",
    "| `'rb'` | Read binary |\n",
    "| `'wb'` | Write binary |\n",
    "\n",
    "Let's start by creating and exploring text files."
   ]
  },
  {
   "cell_type": "markdown",
   "id": "51337e8b",
   "metadata": {},
   "source": [
    "### Opening a File in Write Mode\n",
    "We can open a file using `open(filename, mode)`.\n",
    "When opened in `'w'` mode, Python creates the file if it doesn’t exist or **overwrites** it if it does."
   ]
  },
  {
   "cell_type": "code",
   "execution_count": null,
   "id": "36e5e2f9",
   "metadata": {},
   "outputs": [],
   "source": [
    "f = open('/content/testfile.txt', 'w')\n",
    "print('File Name:', f.name)\n",
    "print('File Mode:', f.mode)\n",
    "print('Is the file readable:', f.readable())\n",
    "print('Is the file writable:', f.writable())\n",
    "print('Is the file closed:', f.closed)\n",
    "f.close()\n",
    "print('Is the file closed:', f.closed)"
   ]
  },
  {
   "cell_type": "markdown",
   "id": "74bd7800",
   "metadata": {},
   "source": [
    "### Writing Data to a File\n",
    "Using the `'w'` mode, we can write text data using the `write()` method.\n",
    "Each line can be added using a loop. After writing, we must close the file to save changes."
   ]
  },
  {
   "cell_type": "code",
   "execution_count": null,
   "id": "bce99ecd",
   "metadata": {},
   "outputs": [],
   "source": [
    "f1 = open('/content/anotherfile.txt', 'w')\n",
    "for i in range(25):\n",
    "    f1.write('This is a sample line ' + str(i + 1) + '\\n')\n",
    "f1.close()\n",
    "print('Is the file closed:', f1.closed)"
   ]
  },
  {
   "cell_type": "markdown",
   "id": "b309175a",
   "metadata": {},
   "source": [
    "### Reading Data from a File\n",
    "Files opened in `'r'` mode allow reading content. We can use:\n",
    "- `read()` to read the whole file\n",
    "- `readline()` to read one line at a time\n",
    "- `readlines()` to get all lines as a list\n",
    "\n",
    "Here we’ll use `readlines()` and iterate through each line."
   ]
  },
  {
   "cell_type": "code",
   "execution_count": null,
   "id": "606d9e5d",
   "metadata": {},
   "outputs": [],
   "source": [
    "f2 = open('/content/anotherfile.txt', 'r')\n",
    "print('File Name:', f2.name)\n",
    "print('File Mode:', f2.mode)\n",
    "print('Is the file readable:', f2.readable())\n",
    "print('Is the file writable:', f2.writable())\n",
    "\n",
    "lines = f2.readlines()\n",
    "for line in lines:\n",
    "    print(line.strip())  # strip() removes newline characters\n",
    "\n",
    "f2.close()\n",
    "print('Is the file closed:', f2.closed)"
   ]
  },
  {
   "cell_type": "markdown",
   "id": "0259ede4",
   "metadata": {},
   "source": [
    "### Summary\n",
    "- Use the `open()` function with appropriate mode (`'r'`, `'w'`, `'a'`, `'rb'`, `'wb'`).\n",
    "- Always close files using `close()` to free system resources.\n",
    "- Use `read()`, `readline()`, or `readlines()` for reading operations.\n",
    "- Prefer using **context managers** (`with open(...) as f:`) in production code for automatic file handling.\n",
    "\n",
    "This section focused on **text files**; binary files (images, audio, video) follow similar principles but require binary modes like `'rb'` or `'wb'`."
   ]
  }
 ],
 "metadata": {},
 "nbformat": 4,
 "nbformat_minor": 5
}