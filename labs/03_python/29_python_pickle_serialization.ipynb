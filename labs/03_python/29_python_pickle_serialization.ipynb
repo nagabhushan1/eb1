{
 "cells": [
  {
   "cell_type": "markdown",
   "id": "9c6196c0",
   "metadata": {},
   "source": [
    "\n",
    "# Serialization and Deserialization using `pickle`\n",
    "\n",
    "The **`pickle`** module in Python is used to **serialize** and **deserialize** Python objects.  \n",
    "Serialization means converting a Python object into a **byte stream** that can be stored in a file or transmitted over a network.  \n",
    "Deserialization is the process of converting that byte stream back into a Python object.\n",
    "\n",
    "---\n",
    "\n",
    "### ⚙️ Why Use Pickle?\n",
    "- To **store Python objects** (like lists, dictionaries, or custom classes) into files.  \n",
    "- To **transfer objects** between programs or processes.  \n",
    "- To **cache data** for later use without recomputation.\n",
    "\n",
    "---\n",
    "\n",
    "### ⚠️ Important Notes\n",
    "- Pickled files are **binary files** and should always be opened in binary mode (`wb` or `rb`).  \n",
    "- Pickle is **Python-specific**, so it cannot be reliably used across different programming languages.  \n",
    "- Never unpickle data from untrusted sources — it may execute malicious code.\n",
    "\n",
    "---\n"
   ]
  },
  {
   "cell_type": "markdown",
   "id": "07073911",
   "metadata": {},
   "source": [
    "\n",
    "## 🔸 Pickling (Serialization)\n",
    "Convert Python objects into a byte stream and save them into a `.pkl` file using `pickle.dump()`.\n"
   ]
  },
  {
   "cell_type": "code",
   "execution_count": null,
   "id": "5cd2eab3",
   "metadata": {},
   "outputs": [],
   "source": [
    "\n",
    "import pickle\n",
    "\n",
    "data = [\n",
    "    {'name': 'laptop', 'price': 80000},\n",
    "    {'name': 'mobile', 'price': 50000}\n",
    "]\n",
    "\n",
    "print(data)\n",
    "\n",
    "with open('sample_data.pkl', 'wb') as file:\n",
    "    pickle.dump(data, file)\n",
    "\n",
    "print('Object has been pickled successfully')\n"
   ]
  },
  {
   "cell_type": "markdown",
   "id": "7cdc6d4a",
   "metadata": {},
   "source": [
    "\n",
    "## 🔹 Unpickling (Deserialization)\n",
    "Read the byte stream from the `.pkl` file and reconstruct the original Python object using `pickle.load()`.\n"
   ]
  },
  {
   "cell_type": "code",
   "execution_count": null,
   "id": "956212aa",
   "metadata": {},
   "outputs": [],
   "source": [
    "\n",
    "import pickle\n",
    "\n",
    "with open('sample_data.pkl', 'rb') as file:\n",
    "    load_data = pickle.load(file)\n",
    "\n",
    "print(load_data)\n",
    "print('Object has been unpickled successfully')\n"
   ]
  },
  {
   "cell_type": "markdown",
   "id": "9ca0e793",
   "metadata": {},
   "source": [
    "\n",
    "---\n",
    "### ✅ Summary\n",
    "| Operation | Function | Mode | Description |\n",
    "|------------|-----------|------|--------------|\n",
    "| Pickling | `pickle.dump(obj, file)` | `'wb'` | Writes object to a binary file |\n",
    "| Unpickling | `pickle.load(file)` | `'rb'` | Reads object from a binary file |\n",
    "\n",
    "---\n",
    "**Best Practice:** Use Pickle for internal data storage or inter-process communication within trusted environments.\n"
   ]
  }
 ],
 "metadata": {},
 "nbformat": 4,
 "nbformat_minor": 5
}
