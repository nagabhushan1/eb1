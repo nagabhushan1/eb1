{
 "cells": [
  {
   "cell_type": "markdown",
   "id": "8e8aafb2",
   "metadata": {},
   "source": [
    "### Strings in Python\n",
    "A string is a sequence of characters. Strings can be created using single quotes (`'`), double quotes (`\"`), or triple quotes (`'''` or `\"\"\"`). Triple quotes allow strings to span multiple lines."
   ]
  },
  {
   "cell_type": "code",
   "execution_count": null,
   "id": "32a2d48d",
   "metadata": {},
   "outputs": [],
   "source": [
    "s1 = 'Hello'\n",
    "print(s1)\n",
    "print(type(s1))\n",
    "print(id(s1))\n",
    "\n",
    "s2 = \"Hello\"\n",
    "print(s2)\n",
    "print(type(s2))\n",
    "print(id(s2))\n",
    "\n",
    "c1 = 'A'\n",
    "print(c1)\n",
    "print(type(c1))\n",
    "print(id(c1))\n",
    "\n",
    "s3 = \"\"\"Hello\"\"\"\n",
    "print(s3)\n",
    "print(type(s3))\n",
    "print(id(s3))\n",
    "\n",
    "s4 = '''Hello'''\n",
    "print(s4)\n",
    "print(type(s4))\n",
    "print(id(s4))"
   ]
  },
  {
   "cell_type": "markdown",
   "id": "8caf7c02",
   "metadata": {},
   "source": [
    "### Multiline Strings\n",
    "Triple quotes can also be used to create multiline strings. These can contain both single and double quotes without escaping."
   ]
  },
  {
   "cell_type": "code",
   "execution_count": null,
   "id": "f81fbe78",
   "metadata": {},
   "outputs": [],
   "source": [
    "s4 = \"\"\"Hello\n",
    "This is a multi\n",
    "line string \"\"\"\n",
    "print(s4)\n",
    "print(type(s4))\n",
    "print(id(s4))\n",
    "\n",
    "s5 = \"\"\"Hello\n",
    "This is a multi\n",
    "line string. 'Today' \"\"\"\n",
    "print(s5)\n",
    "print(type(s5))\n",
    "print(id(s5))\n",
    "\n",
    "s6 = '''Hello\n",
    "This is a multi\n",
    "line string. \"Today\" '''\n",
    "print(s6)\n",
    "print(type(s6))\n",
    "print(id(s6))"
   ]
  },
  {
   "cell_type": "markdown",
   "id": "2509aad0",
   "metadata": {},
   "source": [
    "### String Indexing and Slicing\n",
    "Strings use zero-based indexing. Positive indices count from the start, while negative indices count from the end.\n",
    "\n",
    "The slice operator `[start:end:step]` is used to extract substrings."
   ]
  },
  {
   "cell_type": "code",
   "execution_count": null,
   "id": "43699f61",
   "metadata": {},
   "outputs": [],
   "source": [
    "s7 = \"Phone\"\n",
    "print(s7[0])\n",
    "print(s7[1])\n",
    "print(s7[2])\n",
    "print(s7[3])\n",
    "print(s7[4])\n",
    "\n",
    "# Uncommenting below will raise IndexError\n",
    "# print(s7[5])\n",
    "\n",
    "print(s7[-1])\n",
    "print(s7[-2])\n",
    "print(s7[-3])\n",
    "print(s7[-4])\n",
    "print(s7[-5])"
   ]
  },
  {
   "cell_type": "markdown",
   "id": "de673d72",
   "metadata": {},
   "source": [
    "### String Slicing Examples"
   ]
  },
  {
   "cell_type": "code",
   "execution_count": null,
   "id": "b10babd9",
   "metadata": {},
   "outputs": [],
   "source": [
    "s8 = \"ABCDEFGHIJ\"\n",
    "print(s8[1:4])       # Start index to End-1\n",
    "print(s8[1:8:2])    # With step\n",
    "print(s8[1:800])    # Slice beyond length does not raise error\n",
    "print(s8[-2:-8:-1]) # Negative slice\n",
    "\n",
    "# Reverse string\n",
    "print(s8[::-1])"
   ]
  },
  {
   "cell_type": "markdown",
   "id": "ca8b9859",
   "metadata": {},
   "source": [
    "### String Functions\n",
    "Python provides many built-in string functions for transformations and formatting."
   ]
  },
  {
   "cell_type": "code",
   "execution_count": null,
   "id": "f09ed04d",
   "metadata": {},
   "outputs": [],
   "source": [
    "s9 = \"toDay is a wonDERfuL dAY\"\n",
    "print(\"Length of String:\", len(s9))\n",
    "print(\"Upper case:\", s9.upper())\n",
    "print(\"Lower case:\", s9.lower())\n",
    "print(\"Swap case:\", s9.swapcase())\n",
    "print(\"Title Case:\", s9.title())\n",
    "print(\"Capitalize:\", s9.capitalize())"
   ]
  },
  {
   "cell_type": "markdown",
   "id": "caeff703",
   "metadata": {},
   "source": [
    "### Concatenation and Repetition\n",
    "Strings can be concatenated using the `+` operator and repeated using the `*` operator."
   ]
  },
  {
   "cell_type": "code",
   "execution_count": null,
   "id": "5dd4751c",
   "metadata": {},
   "outputs": [],
   "source": [
    "print(\"Hello\" + \" \" + \"World\")\n",
    "\n",
    "print(\"-\" * 50)\n",
    "print(50 * \"-\")"
   ]
  },
  {
   "cell_type": "markdown",
   "id": "a8f2f779",
   "metadata": {},
   "source": [
    "### Splitting Strings\n",
    "The `split()` method breaks a string into a list of substrings. By default, the delimiter is whitespace, but a custom delimiter can be specified."
   ]
  },
  {
   "cell_type": "code",
   "execution_count": null,
   "id": "3d3c3729",
   "metadata": {},
   "outputs": [],
   "source": [
    "s10 = \"Learning Python is fun\"\n",
    "print(s10.split())\n",
    "print(type(s10.split()))\n",
    "print(s10.split(\"n\"))"
   ]
  },
  {
   "cell_type": "markdown",
   "id": "33008d08",
   "metadata": {},
   "source": [
    "### Type Casting in Python\n",
    "Python allows conversion between fundamental datatypes using casting functions like `int()`, `float()`, `complex()`, `bool()`, and `str()`."
   ]
  },
  {
   "cell_type": "code",
   "execution_count": null,
   "id": "664eaf36",
   "metadata": {},
   "outputs": [],
   "source": [
    "print(int(123.78))\n",
    "# print(int(10+5j))  # TypeError: cannot convert complex to int\n",
    "print(int(True))\n",
    "print(int(False))\n",
    "print(int(\"10\"))\n",
    "# print(int(\"10.6\"))  # ValueError"
   ]
  },
  {
   "cell_type": "markdown",
   "id": "92339c6e",
   "metadata": {},
   "source": [
    "### Float Conversion\n",
    "The `float()` function converts integers, booleans, and strings to float. Complex numbers cannot be directly converted to float."
   ]
  },
  {
   "cell_type": "code",
   "execution_count": null,
   "id": "bba5df6e",
   "metadata": {},
   "outputs": [],
   "source": [
    "print(float(10))\n",
    "# print(float(10+5j))  # TypeError\n",
    "print(float(True))\n",
    "print(float(\"10\"))\n",
    "print(float(\"10.6\"))"
   ]
  },
  {
   "cell_type": "markdown",
   "id": "f32c14f7",
   "metadata": {},
   "source": [
    "### Complex Conversion\n",
    "The `complex()` function creates complex numbers from integers, floats, or strings. You can also specify the real and imaginary parts separately."
   ]
  },
  {
   "cell_type": "code",
   "execution_count": null,
   "id": "6904eeed",
   "metadata": {},
   "outputs": [],
   "source": [
    "print(complex(10))\n",
    "print(complex(10.7))\n",
    "print(complex(\"10\"))\n",
    "print(complex(\"10.6\"))\n",
    "print(complex(10, 5))\n",
    "print(complex(10, -3))"
   ]
  },
  {
   "cell_type": "markdown",
   "id": "912f8845",
   "metadata": {},
   "source": [
    "### Boolean Conversion\n",
    "The `bool()` function converts values into boolean. Zero and empty values evaluate to `False`, while all others evaluate to `True`."
   ]
  },
  {
   "cell_type": "code",
   "execution_count": null,
   "id": "758c153f",
   "metadata": {},
   "outputs": [],
   "source": [
    "print(bool(0))\n",
    "print(bool(1))\n",
    "print(bool(10))\n",
    "print(bool(0.0))\n",
    "print(bool(10+5j))\n",
    "print(bool(\"True\"))\n",
    "print(bool(\"False\"))\n",
    "print(bool(\"\"))"
   ]
  },
  {
   "cell_type": "markdown",
   "id": "af994dbf",
   "metadata": {},
   "source": [
    "### String Conversion\n",
    "The `str()` function converts values of any datatype to their string representation."
   ]
  },
  {
   "cell_type": "code",
   "execution_count": null,
   "id": "370c090c",
   "metadata": {},
   "outputs": [],
   "source": [
    "print(str(10))\n",
    "print(str(10.5))\n",
    "print(str(10 + 5j))\n",
    "print(str(True))"
   ]
  },
  {
   "cell_type": "markdown",
   "id": "a258fa86",
   "metadata": {},
   "source": [
    "### Immutability of Fundamental Datatypes\n",
    "Fundamental datatypes in Python (`int`, `float`, `bool`, `complex`, and `str`) are immutable. Once an object is created, its value cannot be changed. If you assign a new value, a new object is created with a different memory address."
   ]
  },
  {
   "cell_type": "code",
   "execution_count": null,
   "id": "506282e7",
   "metadata": {},
   "outputs": [],
   "source": [
    "var1 = \"Hello\"\n",
    "print(var1)\n",
    "print(id(var1))\n",
    "\n",
    "var1 = 100\n",
    "print(var1)\n",
    "print(id(var1))\n",
    "\n",
    "var2 = 100\n",
    "print(var2)\n",
    "print(id(var2))\n",
    "\n",
    "print(var1 is var2)"
   ]
  },
  {
   "cell_type": "markdown",
   "id": "daba4bf8",
   "metadata": {},
   "source": [
    "### Key Takeaways\n",
    "- Strings can be defined using single, double, or triple quotes, with triple quotes supporting multiline text.\n",
    "- Indexing and slicing allow precise extraction of string parts.\n",
    "- Python provides numerous string functions for case conversion, formatting, and splitting.\n",
    "- Type casting functions convert values between fundamental datatypes.\n",
    "- All fundamental datatypes in Python are immutable, meaning their values cannot be modified in place."
   ]
  }
 ],
 "metadata": {},
 "nbformat": 4,
 "nbformat_minor": 5
}