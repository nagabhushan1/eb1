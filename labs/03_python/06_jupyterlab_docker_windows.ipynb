{
 "cells": [
  {
   "cell_type": "markdown",
   "metadata": {},
   "source": [
    "# JupyterLab with Python using Docker (Windows Version)\n",
    "\n",
    "This notebook provides step-by-step instructions to download and run a **Python JupyterLab Docker container** with the password set to `python3`.\n",
    "\n",
    "We will use the official `jupyter/minimal-notebook` Docker image.\n"
   ]
  },
  {
   "cell_type": "markdown",
   "metadata": {},
   "source": [
    "## Step 1: Launch Command Prompt\n",
    "\n",
    "On Windows, press **Win + R**, type `cmd` (for Command Prompt) and press **Enter**.\n",
    "\n",
    "This will open a terminal window where you can run Docker commands."
   ]
  },
  {
   "cell_type": "markdown",
   "metadata": {},
   "source": [
    "## Step 2: Download Docker Image\n",
    "\n",
    "Run the following command to download the official Jupyter minimal notebook image:\n"
   ]
  },
  {
   "cell_type": "code",
   "execution_count": null,
   "metadata": {},
   "outputs": [],
   "source": [
    "docker pull jupyter/minimal-notebook:latest"
   ]
  },
  {
   "cell_type": "markdown",
   "metadata": {},
   "source": [
    "## Step 3: Run the Container (Windows)\n",
    "\n",
    "Run the following command in your terminal. It will start JupyterLab on port 8888 and set the password to `python3`.\n",
    "\n",
    "**Command Prompt version:**"
   ]
  },
  {
   "cell_type": "code",
   "execution_count": null,
   "metadata": {},
   "outputs": [],
   "source": [
    "docker run -it --rm ^\n",
    "    -p 8888:8888 ^\n",
    "    -e JUPYTER_ENABLE_LAB=yes ^\n",
    "    -e RESTARTABLE=yes ^\n",
    "    -e JUPYTER_TOKEN= ^\n",
    "    -e JUPYTER_PASSWORD=python3 ^\n",
    "    -v %cd%/notebooks:/home/jovyan/work ^\n",
    "    jupyter/minimal-notebook:latest"
   ]
  },
  {
   "cell_type": "markdown",
   "metadata": {},
   "source": [
    "### Notes:\n",
    "- Open [http://localhost:8888](http://localhost:8888) in your browser.\n",
    "- Login password = **python3**.\n",
    "- `-v %cd%/notebooks:/home/jovyan/work` (CMD) mounts your local `notebooks` folder into the container.\n",
    "- Use `Ctrl+C` in the terminal to stop the container.\n",
    "- The container will be removed automatically after stopping (`--rm`)."
   ]
  }
 ],
 "metadata": {
  "kernelspec": {
   "display_name": "Python 3",
   "language": "python",
   "name": "python3"
  },
  "language_info": {
   "name": "python",
   "pygments_lexer": "ipython3"
  }
 },
 "nbformat": 4,
 "nbformat_minor": 5
}
