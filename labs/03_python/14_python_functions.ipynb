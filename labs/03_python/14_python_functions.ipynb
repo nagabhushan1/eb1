{
 "cells": [
  {
   "cell_type": "markdown",
   "id": "877b83cb",
   "metadata": {},
   "source": [
    "### Functions in Python\n",
    "Functions are reusable blocks of code designed to perform a specific task. They help improve readability, modularity, and reusability.\n",
    "\n",
    "There are two types of functions:\n",
    "- **Built-in functions**: Already provided by Python (e.g., `print()`, `len()`, `type()`).\n",
    "- **User-defined functions**: Created by the programmer using the `def` keyword.\n",
    "\n",
    "Two important keywords when working with functions are:\n",
    "- `def`: Used to define a function (mandatory).\n",
    "- `return`: Used to send values back to the caller (optional)."
   ]
  },
  {
   "cell_type": "markdown",
   "id": "86ad9ab7",
   "metadata": {},
   "source": [
    "### Defining and Calling Functions\n",
    "A function is defined using the `def` keyword and called by writing its name followed by parentheses."
   ]
  },
  {
   "cell_type": "code",
   "execution_count": null,
   "id": "07d61d2f",
   "metadata": {},
   "outputs": [],
   "source": [
    "def f1():\n",
    "    print(\"Python as a functional programming language\")\n",
    "    print(\"Python as a functional programming language\")\n",
    "    print(\"Python as a functional programming language\")\n",
    "    print(\"Python as a functional programming language\")\n",
    "    print(\"Python as a functional programming language\")\n",
    "\n",
    "# Function call\n",
    "f1()"
   ]
  },
  {
   "cell_type": "markdown",
   "id": "3c8596ea",
   "metadata": {},
   "source": [
    "### A Simple Greeting Function\n",
    "This function has no parameters and simply prints a message when called."
   ]
  },
  {
   "cell_type": "code",
   "execution_count": null,
   "id": "c692d6bf",
   "metadata": {},
   "outputs": [],
   "source": [
    "def greet():\n",
    "    print(\"Hello!\")\n",
    "\n",
    "greet()"
   ]
  },
  {
   "cell_type": "markdown",
   "id": "6f055203",
   "metadata": {},
   "source": [
    "### Parameters and Arguments\n",
    "Functions can take inputs (called **parameters**) and accept values (called **arguments**) when invoked."
   ]
  },
  {
   "cell_type": "code",
   "execution_count": null,
   "id": "72a0d845",
   "metadata": {},
   "outputs": [],
   "source": [
    "def square_number(num):\n",
    "    print(num * num)\n",
    "\n",
    "square_number(5)\n",
    "square_number(6)"
   ]
  },
  {
   "cell_type": "markdown",
   "id": "a240a7c3",
   "metadata": {},
   "source": [
    "### Returning a Single Value\n",
    "Functions can return a result using the `return` keyword. In this example, the function computes and returns the sum of two numbers."
   ]
  },
  {
   "cell_type": "code",
   "execution_count": null,
   "id": "8a1ba2d3",
   "metadata": {},
   "outputs": [],
   "source": [
    "def add(num1, num2):\n",
    "    return num1 + num2\n",
    "\n",
    "result = add(3, 5)\n",
    "print(result)\n",
    "\n",
    "print(add(7, 9))"
   ]
  },
  {
   "cell_type": "markdown",
   "id": "e0141c95",
   "metadata": {},
   "source": [
    "### Checking Even or Odd\n",
    "Here is a function that checks whether a given number is even or odd."
   ]
  },
  {
   "cell_type": "code",
   "execution_count": null,
   "id": "45ba6049",
   "metadata": {},
   "outputs": [],
   "source": [
    "def check_even_odd(num):\n",
    "    if num % 2 == 0:\n",
    "        print(num, \"is Even\")\n",
    "    else:\n",
    "        print(num, \"is Odd\")\n",
    "\n",
    "check_even_odd(10)\n",
    "check_even_odd(7)"
   ]
  },
  {
   "cell_type": "markdown",
   "id": "16cd87ac",
   "metadata": {},
   "source": [
    "### Returning Multiple Values\n",
    "Functions in Python can return multiple values, usually packed into a tuple. These values can later be **unpacked** into separate variables."
   ]
  },
  {
   "cell_type": "code",
   "execution_count": null,
   "id": "051f9e7c",
   "metadata": {},
   "outputs": [],
   "source": [
    "def calc(num1, num2):\n",
    "    sum_val = num1 + num2\n",
    "    diff = num1 - num2\n",
    "    prod = num1 * num2\n",
    "    div = num1 / num2\n",
    "    return sum_val, diff, prod, div  # Packing tuple\n",
    "\n",
    "# Unpacking tuple\n",
    "a, b, c, d = calc(10, 2)\n",
    "print(a)\n",
    "print(b)\n",
    "print(c)\n",
    "print(d)\n",
    "\n",
    "print(type(calc(10, 2)))"
   ]
  },
  {
   "cell_type": "markdown",
   "id": "23b9411f",
   "metadata": {},
   "source": [
    "### Key Takeaways\n",
    "- Functions make code reusable and modular.\n",
    "- The `def` keyword is mandatory for defining functions.\n",
    "- The `return` keyword is optional; if omitted, the function returns `None`.\n",
    "- Parameters allow passing inputs, and arguments provide values during the call.\n",
    "- Functions can return single or multiple values (packed as a tuple).\n",
    "- Packing and unpacking help in handling multiple return values efficiently."
   ]
  }
 ],
 "metadata": {},
 "nbformat": 4,
 "nbformat_minor": 5
}