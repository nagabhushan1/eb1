{
 "cells": [
  {
   "cell_type": "markdown",
   "id": "fc3d2098",
   "metadata": {},
   "source": [
    "\n",
    "# Multiple Inheritance in Python\n",
    "\n",
    "In Python, **Multiple Inheritance** means that a **derived class** can inherit attributes and methods from **more than one base class**.  \n",
    "This allows the derived class to have combined functionalities of all its parent classes.\n"
   ]
  },
  {
   "cell_type": "code",
   "execution_count": null,
   "id": "d6860ccd",
   "metadata": {},
   "outputs": [],
   "source": [
    "\n",
    "class OperatingSystem:\n",
    "    multiTasking = True\n",
    "    name = \"Mac OS\"\n",
    "\n",
    "\n",
    "class Apple:\n",
    "    website = \"www.apple.com\"\n",
    "    name = \"Apple\"\n"
   ]
  },
  {
   "cell_type": "markdown",
   "id": "e52b7ec8",
   "metadata": {},
   "source": [
    "\n",
    "Here:  \n",
    "- The `OperatingSystem` class has attributes `multiTasking` and `name`.  \n",
    "- The `Apple` class has attributes `website` and `name`.  \n",
    "\n",
    "Notice both classes have an attribute called **name** — we’ll see later how Python resolves that.\n"
   ]
  },
  {
   "cell_type": "code",
   "execution_count": null,
   "id": "75f56ff7",
   "metadata": {},
   "outputs": [],
   "source": [
    "\n",
    "class MacBook(OperatingSystem, Apple):\n",
    "    def __init__(self):\n",
    "        if self.multiTasking:\n",
    "            print(f\"This is a multitasking system. Visit {self.website} for more details.\")\n",
    "        print(f\"Name attribute: {self.name}\")\n"
   ]
  },
  {
   "cell_type": "markdown",
   "id": "4be6df3a",
   "metadata": {},
   "source": [
    "\n",
    "In this example:  \n",
    "- The `MacBook` class inherits from **both** `OperatingSystem` and `Apple`.  \n",
    "- It can access attributes from **both parent classes**.  \n",
    "- The `__init__()` method prints the value of `multiTasking`, `website`, and `name`.\n"
   ]
  },
  {
   "cell_type": "code",
   "execution_count": null,
   "id": "d93dbf29",
   "metadata": {},
   "outputs": [],
   "source": [
    "macBook = MacBook()"
   ]
  },
  {
   "cell_type": "markdown",
   "id": "7a1ef150",
   "metadata": {},
   "source": [
    "\n",
    "**Expected Output:**\n",
    "```\n",
    "This is a multitasking system. Visit www.apple.com for more details.\n",
    "Name attribute: Mac OS\n",
    "```\n",
    "\n",
    "Explanation:  \n",
    "- The `multiTasking` attribute is inherited from the **OperatingSystem** class.  \n",
    "- The `website` attribute is inherited from the **Apple** class.  \n",
    "- The `name` attribute exists in **both** base classes — but Python picks the **first one in the inheritance order**, i.e., from `OperatingSystem`.\n"
   ]
  },
  {
   "cell_type": "markdown",
   "id": "d3d5ef15",
   "metadata": {},
   "source": [
    "\n",
    "## Method Resolution Order (MRO)\n",
    "\n",
    "When multiple inheritance occurs, Python follows a specific **Method Resolution Order (MRO)**.\n"
   ]
  },
  {
   "cell_type": "code",
   "execution_count": null,
   "id": "d37ffcf3",
   "metadata": {},
   "outputs": [],
   "source": [
    "\n",
    "print(MacBook.__mro__)\n",
    "print(MacBook.mro())\n"
   ]
  },
  {
   "cell_type": "markdown",
   "id": "21463a19",
   "metadata": {},
   "source": [
    "\n",
    "This means:\n",
    "1. Python first looks into the **MacBook** class.  \n",
    "2. If not found, it checks **OperatingSystem**.  \n",
    "3. Then **Apple**.  \n",
    "4. Finally, the built-in **object** class.\n",
    "\n",
    "So, when there is a **conflict** (like both base classes having `name`), the **first class listed in parentheses** during inheritance takes priority.\n"
   ]
  }
 ],
 "metadata": {},
 "nbformat": 4,
 "nbformat_minor": 5
}
