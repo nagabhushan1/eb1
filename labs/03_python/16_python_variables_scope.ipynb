{
 "cells": [
  {
   "cell_type": "markdown",
   "id": "ecbc1924",
   "metadata": {},
   "source": [
    "### Types of Variables in Python\n",
    "Variables in Python can be categorized based on their scope:\n",
    "- **Global Variables**: Declared outside of any function and accessible throughout the program.\n",
    "- **Local Variables**: Declared inside a function and accessible only within that function.\n",
    "- **`global` keyword**: Allows a function to create or modify variables in the global scope."
   ]
  },
  {
   "cell_type": "markdown",
   "id": "39b92db2",
   "metadata": {},
   "source": [
    "### Global Variables\n",
    "Global variables are declared outside of functions and can be accessed inside any function."
   ]
  },
  {
   "cell_type": "code",
   "execution_count": null,
   "id": "05256261",
   "metadata": {},
   "outputs": [],
   "source": [
    "a = 10\n",
    "\n",
    "def f1():\n",
    "    print(a)\n",
    "\n",
    "def f2():\n",
    "    print(a)\n",
    "\n",
    "f1()\n",
    "f2()\n",
    "print(a)"
   ]
  },
  {
   "cell_type": "markdown",
   "id": "0b837df5",
   "metadata": {},
   "source": [
    "### Local Variables\n",
    "Local variables are declared inside a function. They are only accessible within that function, and trying to access them outside raises a `NameError`."
   ]
  },
  {
   "cell_type": "code",
   "execution_count": null,
   "id": "64798913",
   "metadata": {},
   "outputs": [],
   "source": [
    "def f1():\n",
    "    aa = 10\n",
    "    print(aa)\n",
    "\n",
    "def f2():\n",
    "    # Uncommenting below will raise NameError\n",
    "    # print(aa)\n",
    "    pass\n",
    "\n",
    "f1()\n",
    "f2()"
   ]
  },
  {
   "cell_type": "markdown",
   "id": "ed1e3e95",
   "metadata": {},
   "source": [
    "### Using the `global` Keyword\n",
    "The `global` keyword allows variables declared inside a function to be treated as global. This means they can be accessed and modified outside the function or in other functions."
   ]
  },
  {
   "cell_type": "code",
   "execution_count": null,
   "id": "35e9779b",
   "metadata": {},
   "outputs": [],
   "source": [
    "def f1():\n",
    "    global ab\n",
    "    ab = 10\n",
    "    print(ab)\n",
    "\n",
    "def f2():\n",
    "    print(ab)\n",
    "\n",
    "f1()\n",
    "f2()"
   ]
  },
  {
   "cell_type": "markdown",
   "id": "3cafa5ec",
   "metadata": {},
   "source": [
    "### Key Takeaways\n",
    "- **Global variables** are accessible throughout the program.\n",
    "- **Local variables** are limited to the function where they are defined.\n",
    "- The **`global` keyword** allows creating or modifying global variables from within a function."
   ]
  }
 ],
 "metadata": {},
 "nbformat": 4,
 "nbformat_minor": 5
}