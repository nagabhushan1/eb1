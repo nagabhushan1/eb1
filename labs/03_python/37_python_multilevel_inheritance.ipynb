{
 "cells": [
  {
   "cell_type": "markdown",
   "id": "3df52570",
   "metadata": {},
   "source": [
    "\n",
    "# Multilevel Inheritance in Python\n",
    "\n",
    "In **Multilevel Inheritance**, a class inherits from another class, which itself inherits from a third class.  \n",
    "This creates a **hierarchy** where attributes and methods are passed down through multiple generations.\n"
   ]
  },
  {
   "cell_type": "markdown",
   "id": "d5074d73",
   "metadata": {},
   "source": [
    "### Defining the Base Class"
   ]
  },
  {
   "cell_type": "code",
   "execution_count": null,
   "id": "61ea8281",
   "metadata": {},
   "outputs": [],
   "source": [
    "\n",
    "class MusicalInstruments:\n",
    "    numberOfMajorKeys = 12\n"
   ]
  },
  {
   "cell_type": "markdown",
   "id": "a20d3516",
   "metadata": {},
   "source": [
    "### Creating an Intermediate Class that Inherits from the Base Class"
   ]
  },
  {
   "cell_type": "code",
   "execution_count": null,
   "id": "ff0d7b36",
   "metadata": {},
   "outputs": [],
   "source": [
    "\n",
    "class StringInstruments(MusicalInstruments):\n",
    "    typeOfWood = \"Tonewood\"\n"
   ]
  },
  {
   "cell_type": "markdown",
   "id": "4d6a0dc7",
   "metadata": {},
   "source": [
    "\n",
    "The `StringInstruments` class now inherits the `numberOfMajorKeys` attribute from `MusicalInstruments`  \n",
    "and adds its own attribute `typeOfWood`.\n"
   ]
  },
  {
   "cell_type": "markdown",
   "id": "65ec33f0",
   "metadata": {},
   "source": [
    "### Creating a Derived Class (Guitar) that Inherits from StringInstruments"
   ]
  },
  {
   "cell_type": "code",
   "execution_count": null,
   "id": "c60aabd6",
   "metadata": {},
   "outputs": [],
   "source": [
    "\n",
    "class Guitar(StringInstruments):\n",
    "    def __init__(self):\n",
    "        self.numberOfStrings = 6\n",
    "        print(f\"This guitar consists of {self.numberOfStrings} strings, \"\n",
    "              f\"is made of {self.typeOfWood}, and can play {self.numberOfMajorKeys} keys.\")\n"
   ]
  },
  {
   "cell_type": "code",
   "execution_count": null,
   "id": "c0506bde",
   "metadata": {},
   "outputs": [],
   "source": [
    "guitar = Guitar()"
   ]
  },
  {
   "cell_type": "markdown",
   "id": "661cda83",
   "metadata": {},
   "source": [
    "\n",
    "**Expected Output:**\n",
    "```\n",
    "This guitar consists of 6 strings, is made of Tonewood, and can play 12 keys.\n",
    "```\n"
   ]
  },
  {
   "cell_type": "markdown",
   "id": "10bf688a",
   "metadata": {},
   "source": [
    "\n",
    "### Explanation\n",
    "- `numberOfStrings` → defined in the **Guitar** class (child).  \n",
    "- `typeOfWood` → inherited from **StringInstruments** (parent).  \n",
    "- `numberOfMajorKeys` → inherited from **MusicalInstruments** (grandparent).  \n",
    "\n",
    "This demonstrates that attributes flow **top-down** across the inheritance chain.\n"
   ]
  },
  {
   "cell_type": "markdown",
   "id": "edaf51b9",
   "metadata": {},
   "source": [
    "\n",
    "### Multilevel Inheritance Hierarchy\n",
    "\n",
    "```\n",
    "MusicalInstruments\n",
    "        ↓\n",
    "StringInstruments\n",
    "        ↓\n",
    "     Guitar\n",
    "```\n"
   ]
  },
  {
   "cell_type": "markdown",
   "id": "44a468e8",
   "metadata": {},
   "source": [
    "\n",
    "### Summary\n",
    "\n",
    "- The concept of **Multilevel Inheritance** in Python  \n",
    "- How attributes and methods are passed through multiple levels of inheritance  \n",
    "- How a derived class (e.g., `Guitar`) can access data from its parent and grandparent classes  \n"
   ]
  }
 ],
 "metadata": {
  "language_info": {
   "name": "python"
  }
 },
 "nbformat": 4,
 "nbformat_minor": 5
}
