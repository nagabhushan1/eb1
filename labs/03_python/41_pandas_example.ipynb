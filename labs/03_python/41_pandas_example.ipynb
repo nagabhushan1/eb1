{
 "cells": [
  {
   "cell_type": "markdown",
   "id": "b5f64c07",
   "metadata": {},
   "source": [
    "#Pandas_CSV_and_GroupBy.ipynb\n",
    "\n",
    "## 🧩 Overview\n",
    "This notebook demonstrates **CSV file handling and GroupBy operations** in Pandas."
   ]
  },
  {
   "cell_type": "markdown",
   "id": "37187e08",
   "metadata": {},
   "source": [
    "##  Installation and Import"
   ]
  },
  {
   "cell_type": "code",
   "execution_count": null,
   "id": "ca30077c",
   "metadata": {},
   "outputs": [],
   "source": [
    "!pip install pandas\n",
    "import pandas as pd"
   ]
  },
  {
   "cell_type": "markdown",
   "id": "0164c76d",
   "metadata": {},
   "source": [
    "##  Reading a CSV File"
   ]
  },
  {
   "cell_type": "code",
   "execution_count": null,
   "id": "9377730f",
   "metadata": {},
   "outputs": [],
   "source": [
    "dataPath = r'C:\\\\Users\\\\admin\\\\Downloads\\\\orders.csv'\n",
    "print(dataPath)\n",
    "\n",
    "df = pd.read_csv(dataPath)"
   ]
  },
  {
   "cell_type": "markdown",
   "id": "f8a2561b",
   "metadata": {},
   "source": [
    "##  Exploring the DataFrame"
   ]
  },
  {
   "cell_type": "code",
   "execution_count": null,
   "id": "ae4ebe6c",
   "metadata": {},
   "outputs": [],
   "source": [
    "df.head()\n",
    "\n",
    "df.tail()"
   ]
  },
  {
   "cell_type": "markdown",
   "id": "772b263c",
   "metadata": {},
   "source": [
    "##  Renaming Columns"
   ]
  },
  {
   "cell_type": "code",
   "execution_count": null,
   "id": "f45f96e9",
   "metadata": {},
   "outputs": [],
   "source": [
    "orders_columns = ['order_id', 'order_date', 'order_customer_id', 'order_status']\n",
    "df = pd.read_csv(dataPath, names=orders_columns)\n",
    "df.head()\n",
    "df.columns"
   ]
  },
  {
   "cell_type": "markdown",
   "id": "662c6f2c",
   "metadata": {},
   "source": [
    "##  Querying the DataFrame"
   ]
  },
  {
   "cell_type": "code",
   "execution_count": null,
   "id": "76373268",
   "metadata": {},
   "outputs": [],
   "source": [
    "df.query?\n",
    "\n",
    "df['order_status'].unique()\n",
    "\n",
    "df.query('order_status == \"COMPLETE\"')\n",
    "\n",
    "df.query('order_status == \"COMPLETE\" and order_date == \"2013-07-25 00:00:00.0\"')\n",
    "\n",
    "df.query('order_status == \"COMPLETE\" or order_status == \"CLOSED\"')\n",
    "\n",
    "df.query('order_status == (\"COMPLETE\", \"CLOSED\")')"
   ]
  },
  {
   "cell_type": "markdown",
   "id": "34292ff7",
   "metadata": {},
   "source": [
    "##  Aggregation with GroupBy"
   ]
  },
  {
   "cell_type": "code",
   "execution_count": null,
   "id": "04d0b0ac",
   "metadata": {},
   "outputs": [],
   "source": [
    "help(df.groupby)\n",
    "\n",
    "df.groupby('order_status')['order_id'].agg(order_count='count')"
   ]
  },
  {
   "cell_type": "markdown",
   "id": "610a78e6",
   "metadata": {},
   "source": [
    "##  String Operations"
   ]
  },
  {
   "cell_type": "code",
   "execution_count": null,
   "id": "5c610666",
   "metadata": {},
   "outputs": [],
   "source": [
    "x = '1,2013-07-25 00:00:00.0,11599,CLOSED'\n",
    "print(x.split(','))\n",
    "print(x.split(',')[1])\n",
    "print(x.split(',')[1][:7])"
   ]
  },
  {
   "cell_type": "markdown",
   "id": "e0280e2f",
   "metadata": {},
   "source": [
    "##  Creating a Derived Column"
   ]
  },
  {
   "cell_type": "code",
   "execution_count": null,
   "id": "dd869a67",
   "metadata": {},
   "outputs": [],
   "source": [
    "df['order_month'] = df.apply(lambda order: order.order_date[:7], axis=1)\n",
    "df['order_month'].head()"
   ]
  },
  {
   "cell_type": "markdown",
   "id": "74c88c43",
   "metadata": {},
   "source": [
    "##  Multi-Level GroupBy"
   ]
  },
  {
   "cell_type": "code",
   "execution_count": null,
   "id": "90412a1a",
   "metadata": {},
   "outputs": [],
   "source": [
    "df.groupby(['order_month', 'order_status'])['order_id'].agg(order_count='count')\n",
    "\n",
    "df.groupby(['order_month', 'order_status'])['order_id'].agg(order_count='count').reset_index()"
   ]
  },
  {
   "cell_type": "markdown",
   "id": "054ac187",
   "metadata": {},
   "source": [
    "##  Summary\n",
    "- Loaded data using `read_csv()`\n",
    "- Filtered records with `query()`\n",
    "- Created derived columns using `apply()`\n",
    "- Aggregated data using `groupby()`\n",
    "\n",
    "This notebook provides a solid foundation for data manipulation and analysis in Pandas."
   ]
  }
 ],
 "metadata": {},
 "nbformat": 4,
 "nbformat_minor": 5
}
