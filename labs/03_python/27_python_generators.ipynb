{
 "cells": [
  {
   "cell_type": "markdown",
   "id": "318b87b3",
   "metadata": {},
   "source": [
    "\n",
    "# Python Generators\n",
    "\n",
    "A **generator** in Python is a special type of function that produces values one at a time, instead of computing and storing them all in memory.  \n",
    "It uses the `yield` keyword instead of `return`. When a generator function is called, it returns a generator object which can be iterated using `next()`.\n"
   ]
  },
  {
   "cell_type": "markdown",
   "id": "cd23aeff",
   "metadata": {},
   "source": [
    "\n",
    "### Example 1: Generator Function with `yield`\n",
    "This generator function yields numbers from 1 to 4. Each time `next()` is called, the function resumes execution from where it last stopped.\n"
   ]
  },
  {
   "cell_type": "code",
   "execution_count": null,
   "id": "702113fd",
   "metadata": {},
   "outputs": [],
   "source": [
    "\n",
    "def generator_demo():\n",
    "    for i in range(1, 5):\n",
    "        print(\"Generating:\", i)\n",
    "        yield i\n",
    "\n",
    "gen = generator_demo()\n",
    "print(next(gen))\n",
    "print(next(gen))\n",
    "print(next(gen))\n",
    "print(next(gen))\n"
   ]
  },
  {
   "cell_type": "markdown",
   "id": "663de439",
   "metadata": {},
   "source": [
    "\n",
    "### Example 2: Difference between List Comprehension and Generator Expression\n",
    "\n",
    "A **list comprehension** creates the entire list in memory at once.  \n",
    "A **generator expression** computes values lazily — one at a time — making it more memory-efficient.\n"
   ]
  },
  {
   "cell_type": "code",
   "execution_count": null,
   "id": "8797aa7c",
   "metadata": {},
   "outputs": [],
   "source": [
    "\n",
    "# This will lead to a memory error — do not execute!\n",
    "# list_comp = [x * x for x in range(1, 10**20)]\n",
    "# print(list_comp)\n",
    "\n",
    "# This will not lead to memory issues\n",
    "g = (x * x for x in range(1, 10**20))\n",
    "print(g)\n",
    "print(next(g))\n",
    "print(next(g))\n",
    "print(next(g))\n",
    "print(next(g))\n"
   ]
  },
  {
   "cell_type": "markdown",
   "id": "0d53616d",
   "metadata": {},
   "source": [
    "\n",
    "### Optional Example: Checking Memory Efficiency\n",
    "Let's compare memory usage between a list and a generator.\n"
   ]
  },
  {
   "cell_type": "code",
   "execution_count": null,
   "id": "e4969b44",
   "metadata": {},
   "outputs": [],
   "source": [
    "\n",
    "import sys\n",
    "\n",
    "list_comp = [x * x for x in range(1000)]\n",
    "gen_expr = (x * x for x in range(1000))\n",
    "\n",
    "print(\"List size:\", sys.getsizeof(list_comp))\n",
    "print(\"Generator size:\", sys.getsizeof(gen_expr))\n"
   ]
  }
 ],
 "metadata": {},
 "nbformat": 4,
 "nbformat_minor": 5
}
