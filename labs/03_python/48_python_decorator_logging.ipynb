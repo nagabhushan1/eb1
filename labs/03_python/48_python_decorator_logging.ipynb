{
 "cells": [
  {
   "cell_type": "markdown",
   "id": "ebbf31d0",
   "metadata": {},
   "source": [
    "\n",
    "# Understanding Python Decorators\n",
    "\n",
    "This notebook provides simple, practical examples of Python **decorators** — functions that modify or extend the behavior of other functions without changing their code.\n",
    "\n",
    "---\n"
   ]
  },
  {
   "cell_type": "markdown",
   "id": "ca45d9af",
   "metadata": {},
   "source": [
    "\n",
    "## Example 1: Basic Decorator\n",
    "\n",
    "A simple decorator that prints messages before and after a function runs.\n"
   ]
  },
  {
   "cell_type": "code",
   "execution_count": null,
   "id": "db4310a2",
   "metadata": {},
   "outputs": [],
   "source": [
    "\n",
    "def simple_decorator(func):\n",
    "    def wrapper():\n",
    "        print(\"Before the function is called.\")\n",
    "        func()\n",
    "        print(\"After the function is called.\")\n",
    "    return wrapper\n",
    "\n",
    "@simple_decorator\n",
    "def say_hello():\n",
    "    print(\"Hello, World!\")\n",
    "\n",
    "say_hello()\n"
   ]
  },
  {
   "cell_type": "markdown",
   "id": "8ffe99bf",
   "metadata": {},
   "source": [
    "\n",
    "## Example 2: Decorator with `*args` and `**kwargs`\n",
    "\n",
    "This decorator can handle functions with any number of arguments.\n"
   ]
  },
  {
   "cell_type": "code",
   "execution_count": null,
   "id": "71fa82fe",
   "metadata": {},
   "outputs": [],
   "source": [
    "\n",
    "def smart_decorator(func):\n",
    "    def wrapper(*args, **kwargs):\n",
    "        print(\"Function arguments:\", args, kwargs)\n",
    "        result = func(*args, **kwargs)\n",
    "        print(\"Function executed successfully.\")\n",
    "        return result\n",
    "    return wrapper\n",
    "\n",
    "@smart_decorator\n",
    "def greet_person(name, age):\n",
    "    print(f\"Hello {name}, you are {age} years old.\")\n",
    "\n",
    "greet_person(\"Emma\", 28)\n"
   ]
  },
  {
   "cell_type": "markdown",
   "id": "3dc76ded",
   "metadata": {},
   "source": [
    "\n",
    "## Example 3: Returning Values from a Decorated Function\n",
    "\n",
    "A decorator can also modify or return results from the wrapped function.\n"
   ]
  },
  {
   "cell_type": "code",
   "execution_count": null,
   "id": "5398217d",
   "metadata": {},
   "outputs": [],
   "source": [
    "\n",
    "def double_result(func):\n",
    "    def wrapper(*args, **kwargs):\n",
    "        result = func(*args, **kwargs)\n",
    "        return result * 2\n",
    "    return wrapper\n",
    "\n",
    "@double_result\n",
    "def add(a, b):\n",
    "    return a + b\n",
    "\n",
    "print(add(5, 10))\n"
   ]
  },
  {
   "cell_type": "markdown",
   "id": "ae680cca",
   "metadata": {},
   "source": [
    "\n",
    "## Example 4: Stacking Multiple Decorators\n",
    "\n",
    "You can apply multiple decorators to the same function.  \n",
    "They are executed **from bottom to top**.\n"
   ]
  },
  {
   "cell_type": "code",
   "execution_count": null,
   "id": "d15e340d",
   "metadata": {},
   "outputs": [],
   "source": [
    "\n",
    "def bold_decorator(func):\n",
    "    def wrapper():\n",
    "        return f\"<b>{func()}</b>\"\n",
    "    return wrapper\n",
    "\n",
    "def italic_decorator(func):\n",
    "    def wrapper():\n",
    "        return f\"<i>{func()}</i>\"\n",
    "    return wrapper\n",
    "\n",
    "@bold_decorator\n",
    "@italic_decorator\n",
    "def formatted_text():\n",
    "    return \"Decorators are powerful!\"\n",
    "\n",
    "print(formatted_text())\n"
   ]
  },
  {
   "cell_type": "markdown",
   "id": "db545872",
   "metadata": {},
   "source": [
    "\n",
    "## Example 5: Logging to a File\n",
    "\n",
    "This decorator writes log messages to a file instead of printing to the console.\n"
   ]
  },
  {
   "cell_type": "code",
   "execution_count": null,
   "id": "8780d280",
   "metadata": {},
   "outputs": [],
   "source": [
    "\n",
    "def log_decorator(func):\n",
    "    def wrapper(*args, **kwargs):\n",
    "        with open(\"app_log.txt\", \"a\") as log_file:\n",
    "            log_file.write(f\"Calling function: {func.__name__}\\n\")\n",
    "        result = func(*args, **kwargs)\n",
    "        with open(\"app_log.txt\", \"a\") as log_file:\n",
    "            log_file.write(f\"Completed function: {func.__name__}\\n\")\n",
    "        return result\n",
    "    return wrapper\n",
    "\n",
    "@log_decorator\n",
    "def multiply(a, b):\n",
    "    print(f\"Multiplying {a} * {b}\")\n",
    "    return a * b\n",
    "\n",
    "@log_decorator\n",
    "def order_summary(*items, **details):\n",
    "    print(\"Items Ordered:\", items)\n",
    "    print(\"Order Details:\", details)\n",
    "\n",
    "\n",
    "@log_decorator\n",
    "def show_profile(**kwargs):\n",
    "    for key, value in kwargs.items():\n",
    "        print(f\"{key}: {value}\")\n",
    "\n",
    "\n",
    "@log_decorator\n",
    "def greet_people(greeting, *names):\n",
    "    for name in names:\n",
    "        print(f\"{greeting}, {name}!\")\n",
    "\n",
    "\n",
    "greet_people(\"Hello\", \"Alice\", \"Bob\", \"Charlie\")\n",
    "show_profile(name=\"John\", role=\"Trainer\", skill=\"Python\")\n",
    "order_summary(\"Pizza\", \"Pasta\", name=\"Alex\", payment=\"Card\", address=\"London\")\n",
    "print(multiply(6, 7))\n",
    "greet_people(\"Hello\", \"Raj\", \"Tina\", \"Adam\")\n",
    "show_profile(name=\"Ravi\", role=\"Developer\", skill=\"AWS\", sport = \"Badminton\")"
   ]
  },
  {
   "cell_type": "markdown",
   "id": "85e6bfaf",
   "metadata": {},
   "source": [
    "\n",
    "## Summary\n",
    "\n",
    "Decorators allow you to:\n",
    "- Add functionality without changing existing code.\n",
    "- Reuse common patterns like logging or timing.\n",
    "- Combine multiple behaviors by stacking decorators.\n",
    "\n",
    "**Common uses:** logging, authentication, caching, and performance measurement.\n"
   ]
  }
 ],
 "metadata": {
  "language_info": {
   "name": "python"
  }
 },
 "nbformat": 4,
 "nbformat_minor": 5
}
