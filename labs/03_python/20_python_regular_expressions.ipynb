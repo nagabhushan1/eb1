{
 "cells": [
  {
   "cell_type": "markdown",
   "id": "681b6b44",
   "metadata": {},
   "source": [
    "### Regular Expressions (re module) in Python\n",
    "Regular Expressions (regex) are patterns used to match, search, and manipulate text.\n",
    "\n",
    "Python provides the built-in **`re` module** for working with regular expressions.\n",
    "\n",
    "Common use cases:\n",
    "- Validate inputs (like email, phone numbers)\n",
    "- Search specific patterns in text\n",
    "- Replace or extract information\n",
    "\n",
    "Let's begin with simple string handling before diving into regex functions."
   ]
  },
  {
   "cell_type": "code",
   "execution_count": null,
   "id": "8ac4b03b",
   "metadata": {},
   "outputs": [],
   "source": [
    "print('Hello, World')"
   ]
  },
  {
   "cell_type": "markdown",
   "id": "7ed66a8c",
   "metadata": {},
   "source": [
    "### String Literals and Escape Characters\n",
    "Python string literals can include escape sequences (like `\\n`, `\\t`) for newlines or tabs."
   ]
  },
  {
   "cell_type": "code",
   "execution_count": null,
   "id": "82abbbbc",
   "metadata": {},
   "outputs": [],
   "source": [
    "x = 'Hello\\nWorld'\n",
    "print(x)\n",
    "\n",
    "x = 'Hello\\tWorld'\n",
    "print(x)\n",
    "\n",
    "x = 'Hello \\'World\\''\n",
    "print(x)\n",
    "\n",
    "x = 'Hello \"World\"'\n",
    "print(x)"
   ]
  },
  {
   "cell_type": "markdown",
   "id": "5bf26bd8",
   "metadata": {},
   "source": [
    "### File Paths and Raw Strings\n",
    "Backslashes (`\\`) are treated as escape characters. To prevent this, prefix the string with `r` to make it a **raw string**."
   ]
  },
  {
   "cell_type": "code",
   "execution_count": null,
   "id": "2c05527c",
   "metadata": {},
   "outputs": [],
   "source": [
    "path = 'C:\\\\Users\\\\tmp\\\\new'\n",
    "print(path)\n",
    "\n",
    "# Using raw string\n",
    "path = r'C:\\Users\\tmp\\new'\n",
    "print(path)"
   ]
  },
  {
   "cell_type": "markdown",
   "id": "0918f086",
   "metadata": {},
   "source": [
    "### Basic Pattern Matching using `re.match()`\n",
    "The `match()` function checks for a pattern only at the **beginning** of a string."
   ]
  },
  {
   "cell_type": "code",
   "execution_count": null,
   "id": "bd310ff2",
   "metadata": {},
   "outputs": [],
   "source": [
    "import re\n",
    "\n",
    "text = 'Python is super super easy'\n",
    "regex = r'Python'\n",
    "\n",
    "match = re.match(regex, text)\n",
    "print(match)\n",
    "print(match.span())\n",
    "\n",
    "start, end = match.span()\n",
    "print(text[start:end])"
   ]
  },
  {
   "cell_type": "markdown",
   "id": "ec653e15",
   "metadata": {},
   "source": [
    "### Difference Between `match()` and `search()`\n",
    "`match()` looks only at the beginning, whereas `search()` finds the first occurrence **anywhere** in the string."
   ]
  },
  {
   "cell_type": "code",
   "execution_count": null,
   "id": "559a1955",
   "metadata": {},
   "outputs": [],
   "source": [
    "regex = r'super'\n",
    "match = re.match(regex, text)\n",
    "print('Using match():', match)\n",
    "\n",
    "match = re.search(regex, text)\n",
    "print('Using search():', match)\n",
    "print(text[match.start(): match.end()])"
   ]
  },
  {
   "cell_type": "markdown",
   "id": "1374081f",
   "metadata": {},
   "source": [
    "### Finding All Occurrences using `findall()`\n",
    "The `findall()` function returns a list of all matches found in the text."
   ]
  },
  {
   "cell_type": "code",
   "execution_count": null,
   "id": "0edb5c9e",
   "metadata": {},
   "outputs": [],
   "source": [
    "regex = r'super'\n",
    "match = re.findall(regex, text)\n",
    "print(match)\n",
    "print(type(match))"
   ]
  },
  {
   "cell_type": "markdown",
   "id": "473c6a37",
   "metadata": {},
   "source": [
    "### Metacharacters\n",
    "Metacharacters define the structure of patterns.\n",
    "\n",
    "Common metacharacters: `. ^ $ * + ? |`\n",
    "\n",
    "Example below shows the OR operator `|` and quantifiers."
   ]
  },
  {
   "cell_type": "code",
   "execution_count": null,
   "id": "eac0aa71",
   "metadata": {},
   "outputs": [],
   "source": [
    "text = 'Python is super super easy'\n",
    "regex = r'Python | super'\n",
    "print(re.findall(regex, text))"
   ]
  },
  {
   "cell_type": "markdown",
   "id": "e6396777",
   "metadata": {},
   "source": [
    "### Quantifiers\n",
    "Quantifiers specify how many times a character or pattern should repeat."
   ]
  },
  {
   "cell_type": "code",
   "execution_count": null,
   "id": "684a83e8",
   "metadata": {},
   "outputs": [],
   "source": [
    "text = 'The pole, role, subrole, and rrole are part of company roles'\n",
    "print(re.findall(r'r*ole', text))  # zero or more r's before ole\n",
    "print(re.findall(r'r+ole', text))  # one or more r's before ole\n",
    "print(re.findall(r'r?ole', text))  # zero or one r before ole"
   ]
  },
  {
   "cell_type": "markdown",
   "id": "ad4667ca",
   "metadata": {},
   "source": [
    "### Range Quantifiers `{m,n}`\n",
    "Specifies how many times the preceding element must appear.\n",
    "Example: Match any string that starts with 'g' followed by 2–5 'o's and ends with 'gle'."
   ]
  },
  {
   "cell_type": "code",
   "execution_count": null,
   "id": "8b3a6dbb",
   "metadata": {},
   "outputs": [],
   "source": [
    "text = 'gogle google gooogle goooogle gooooogle goooooooogle goooooooogle'\n",
    "regex = r'go{2,5}gle'\n",
    "print(re.findall(regex, text))"
   ]
  },
  {
   "cell_type": "markdown",
   "id": "c7471252",
   "metadata": {},
   "source": [
    "### Character Classes `[ ]`\n",
    "Character classes match any one character within the brackets.\n",
    "\n",
    "`[aeiou]` → matches any vowel.\n",
    "\n",
    "Use `re.IGNORECASE` or shorthand `re.I` for case-insensitive matching."
   ]
  },
  {
   "cell_type": "code",
   "execution_count": null,
   "id": "fdd94e57",
   "metadata": {},
   "outputs": [],
   "source": [
    "text = 'python java data science data engineering ai AI'\n",
    "print(re.findall(r'[aeiou]', text))\n",
    "print(re.findall(r'[aeiou]', text, re.IGNORECASE))\n",
    "print(re.findall(r'[aeiou][AEIOU]', text, re.I))"
   ]
  },
  {
   "cell_type": "markdown",
   "id": "3fef8f16",
   "metadata": {},
   "source": [
    "### Anchors `^` and `$`\n",
    "- `^` checks if a string starts with a given pattern.\n",
    "- `$` checks if a string ends with a given pattern."
   ]
  },
  {
   "cell_type": "code",
   "execution_count": null,
   "id": "896c01c3",
   "metadata": {},
   "outputs": [],
   "source": [
    "text = 'python has no connection with snake python'\n",
    "print(re.search(r'^python', text))  # pattern occurs at beginning\n",
    "print(re.search(r'python$', text))  # pattern occurs at end"
   ]
  },
  {
   "cell_type": "markdown",
   "id": "b83eefc7",
   "metadata": {},
   "source": [
    "### Shorthand Character Classes\n",
    "These special codes make pattern matching simpler:\n",
    "\n",
    "| Code | Description |\n",
    "|------|--------------|\n",
    "| `\\d` | Any digit (0–9) |\n",
    "| `\\D` | Any non-digit |\n",
    "| `\\w` | Any word character (letter, digit, underscore) |\n",
    "| `\\W` | Any non-word character |\n",
    "| `\\s` | Any whitespace |\n",
    "| `\\S` | Any non-whitespace |"
   ]
  },
  {
   "cell_type": "code",
   "execution_count": null,
   "id": "04503323",
   "metadata": {},
   "outputs": [],
   "source": [
    "text = 'I am Arjun and my emp id is 123456 and department id is 23'\n",
    "print(re.findall(r'\\d', text))   # digits\n",
    "print(re.findall(r'\\d{4}', text)) # 4 consecutive digits\n",
    "print(re.findall(r'\\D', text))   # non-digits\n",
    "print(re.findall(r'\\w', text))   # word characters\n",
    "print(re.findall(r'\\W', text))   # non-word characters\n",
    "print(re.findall(r'\\s', text))   # spaces\n",
    "print(re.findall(r'\\S', text))   # non-spaces"
   ]
  },
  {
   "cell_type": "markdown",
   "id": "91ec8c3f",
   "metadata": {},
   "source": [
    "### Key Takeaways\n",
    "- Use raw strings (`r''`) for regex patterns.\n",
    "- `match()` → checks from start only.\n",
    "- `search()` → finds first occurrence.\n",
    "- `findall()` → returns all occurrences.\n",
    "- Metacharacters (`. ^ $ * + ? |`) and shorthand classes (`\\d`, `\\w`, etc.) help create powerful text patterns.\n",
    "- Always test and refine regex patterns before using them in production."
   ]
  }
 ],
 "metadata": {},
 "nbformat": 4,
 "nbformat_minor": 5
}