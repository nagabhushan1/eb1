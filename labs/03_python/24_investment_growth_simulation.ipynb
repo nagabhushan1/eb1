{
 "cells": [
  {
   "cell_type": "markdown",
   "id": "0c1c5b13",
   "metadata": {},
   "source": [
    "### Investment Growth Simulation Model — Progressive Development\n",
    "This notebook demonstrates how a simple financial calculation evolves into a full-fledged **investment growth simulation** through multiple iterations.\n",
    "\n",
    "**Use Case:**\n",
    "We want to estimate the future value of investments over time, considering both **fixed interest rates** (like a savings account) and **variable market returns** (like stocks).\n",
    "\n",
    "Each iteration refines the logic — starting with a basic one-year calculation, and gradually introducing loops, collections, functions, randomization, and file persistence.\n",
    "\n",
    "---"
   ]
  },
  {
   "cell_type": "markdown",
   "id": "00a4881d",
   "metadata": {},
   "source": [
    "### Iteration 1 — Simple One-Year Growth\n",
    "We start by calculating the total amount after **one year** at a fixed rate of 10%."
   ]
  },
  {
   "cell_type": "code",
   "execution_count": null,
   "id": "863682e6",
   "metadata": {},
   "outputs": [],
   "source": [
    "amount = 1000000\n",
    "rate = 10\n",
    "amount_1_year = amount + amount * rate / 100\n",
    "print(amount_1_year)"
   ]
  },
  {
   "cell_type": "markdown",
   "id": "8962116c",
   "metadata": {},
   "source": [
    "### Iteration 2 — Manual Multi-Year Calculation\n",
    "Extending the logic to **five years**, computing interest step-by-step for each year."
   ]
  },
  {
   "cell_type": "code",
   "execution_count": null,
   "id": "c790082a",
   "metadata": {},
   "outputs": [],
   "source": [
    "amount = 1000000\n",
    "rate = 10\n",
    "amount_1_year = amount + amount * rate / 100\n",
    "amount_2_year = amount_1_year + amount_1_year * rate / 100\n",
    "amount_3_year = amount_2_year + amount_2_year * rate / 100\n",
    "amount_4_year = amount_3_year + amount_3_year * rate / 100\n",
    "amount_5_year = amount_4_year + amount_4_year * rate / 100\n",
    "print(amount_5_year)"
   ]
  },
  {
   "cell_type": "markdown",
   "id": "43aa1533",
   "metadata": {},
   "source": [
    "### Iteration 3 — Simplified Compound Logic\n",
    "We refactor the calculation by reusing the same variable to represent **compound interest accumulation**."
   ]
  },
  {
   "cell_type": "code",
   "execution_count": null,
   "id": "7d23375e",
   "metadata": {},
   "outputs": [],
   "source": [
    "amount = 1000000\n",
    "rate = 10\n",
    "for _ in range(5):\n",
    "    amount = amount + amount * rate / 100\n",
    "print(amount)"
   ]
  },
  {
   "cell_type": "markdown",
   "id": "4dfa5dc6",
   "metadata": {},
   "source": [
    "### Iteration 4 — Using Compound Assignment Operator\n",
    "A cleaner version using the shorthand `+=` operator for updating values."
   ]
  },
  {
   "cell_type": "code",
   "execution_count": null,
   "id": "479f94b5",
   "metadata": {},
   "outputs": [],
   "source": [
    "amount = 1000000\n",
    "rate = 10\n",
    "for _ in range(5):\n",
    "    amount += amount * rate / 100\n",
    "print(amount)"
   ]
  },
  {
   "cell_type": "markdown",
   "id": "47cc538b",
   "metadata": {},
   "source": [
    "### Iteration 5 — Introducing Loops and Variables\n",
    "The same logic is now made reusable for **any number of years**."
   ]
  },
  {
   "cell_type": "code",
   "execution_count": null,
   "id": "92b7a4b8",
   "metadata": {},
   "outputs": [],
   "source": [
    "amount = 1000000; rate = 10; years = 5\n",
    "for i in range(years):\n",
    "    amount += amount * rate / 100\n",
    "print(amount)"
   ]
  },
  {
   "cell_type": "markdown",
   "id": "8e980da9",
   "metadata": {},
   "source": [
    "### Iteration 6 — Modularizing with Functions and Multiple Investments\n",
    "We define a reusable function `get_amount()` and apply it to multiple investment categories (stocks and savings)."
   ]
  },
  {
   "cell_type": "code",
   "execution_count": null,
   "id": "616db510",
   "metadata": {},
   "outputs": [],
   "source": [
    "def get_amount(initial, rate, years):\n",
    "    amount = initial\n",
    "    for year in range(years):\n",
    "        amount += amount * rate / 100\n",
    "    return amount\n",
    "\n",
    "print('₹500000 investment in stocks with 8% returns for 20 years:', get_amount(500000, 8, 20))\n",
    "print('₹500000 investment in savings with 4% returns for 20 years:', get_amount(500000, 4, 20))"
   ]
  },
  {
   "cell_type": "markdown",
   "id": "7b19882e",
   "metadata": {},
   "source": [
    "### Iteration 7 — Using Collections for Organized Data\n",
    "We now store investments and their rates using **tuples** and **dictionaries** for easier data handling."
   ]
  },
  {
   "cell_type": "code",
   "execution_count": null,
   "id": "d71295af",
   "metadata": {},
   "outputs": [],
   "source": [
    "years = 20\n",
    "investments = [('stock', 500), ('bank', 500)]\n",
    "rates = {'stock': 8, 'bank': 4}\n",
    "\n",
    "for item in investments:\n",
    "    category = item[0]\n",
    "    amount = item[1]\n",
    "    rate = rates[category]\n",
    "    print(category, amount, rate)"
   ]
  },
  {
   "cell_type": "markdown",
   "id": "96d5569a",
   "metadata": {},
   "source": [
    "### Iteration 8 — Randomized Simulation Model\n",
    "To simulate **real-world market fluctuations**, we introduce randomness using Python’s `random` module.\n",
    "\n",
    "Each run may produce slightly different results, reflecting the uncertainty of investment returns."
   ]
  },
  {
   "cell_type": "code",
   "execution_count": null,
   "id": "cfd68d64",
   "metadata": {},
   "outputs": [],
   "source": [
    "import random\n",
    "\n",
    "def get_stock_rate():\n",
    "    return random.randint(-8, 20)\n",
    "\n",
    "def get_bank_rate():\n",
    "    return random.randint(2, 7)\n",
    "\n",
    "def get_amount(initial, rate_fn, years):\n",
    "    amount = initial\n",
    "    for year in range(years):\n",
    "        amount += amount * rate_fn() / 100\n",
    "    return amount\n",
    "\n",
    "def run_simulation():\n",
    "    years = 20\n",
    "    investments = [('stock', 500), ('bank', 500)]\n",
    "    rates = {'stock': get_stock_rate, 'bank': get_bank_rate}\n",
    "    total = 0\n",
    "    for item in investments:\n",
    "        category = item[0]\n",
    "        amount = item[1]\n",
    "        rate_fn = rates[category]\n",
    "        total += get_amount(amount, rate_fn, years)\n",
    "    return total\n",
    "\n",
    "outputs = []\n",
    "for run in range(10000):\n",
    "    outputs.append(run_simulation())\n",
    "\n",
    "print('Max', max(outputs))\n",
    "print('Min', min(outputs))\n",
    "print('Avg', sum(outputs) / len(outputs))"
   ]
  },
  {
   "cell_type": "markdown",
   "id": "3d21e525",
   "metadata": {},
   "source": [
    "### Iteration 9 — Logging Results to File\n",
    "Finally, we persist simulation outputs to a text file along with timestamps for long-term analysis."
   ]
  },
  {
   "cell_type": "code",
   "execution_count": null,
   "id": "a4b5f341",
   "metadata": {},
   "outputs": [],
   "source": [
    "import random\n",
    "from datetime import datetime\n",
    "\n",
    "def get_stock_rate():\n",
    "    return random.randint(-8, 20)\n",
    "\n",
    "def get_bank_rate():\n",
    "    return random.randint(2, 7)\n",
    "\n",
    "def get_amount(initial, rate_fn, years):\n",
    "    amount = initial\n",
    "    for year in range(years):\n",
    "        amount += amount * rate_fn() / 100\n",
    "    return amount\n",
    "\n",
    "def run_simulation():\n",
    "    years = 20\n",
    "    investments = [('stock', 500), ('bank', 500)]\n",
    "    rates = {'stock': get_stock_rate, 'bank': get_bank_rate}\n",
    "    total = 0\n",
    "    for item in investments:\n",
    "        category = item[0]\n",
    "        amount = item[1]\n",
    "        rate_fn = rates[category]\n",
    "        total += get_amount(amount, rate_fn, years)\n",
    "    return total\n",
    "\n",
    "outputs = []\n",
    "for run in range(10000):\n",
    "    outputs.append(run_simulation())\n",
    "\n",
    "with open('simulation_output.txt', 'a') as f:\n",
    "    f.write(50 * '-' + '\\n')\n",
    "    f.write('Execution Time: ' + str(datetime.now()) + '\\n')\n",
    "    f.write('Max: ' + str(max(outputs)) + '\\n')\n",
    "    f.write('Min: ' + str(min(outputs)) + '\\n')\n",
    "    f.write('Avg: ' + str(sum(outputs) / len(outputs)) + '\\n')"
   ]
  },
  {
   "cell_type": "markdown",
   "id": "c7ff740b",
   "metadata": {},
   "source": [
    "### Summary\n",
    "This notebook demonstrates a progressive and modular approach to problem-solving in Python:\n",
    "\n",
    "1. **Iteration 1–4:** Focused on understanding compounding through repetitive calculations.\n",
    "2. **Iteration 5:** Introduced looping for scalability.\n",
    "3. **Iteration 6–7:** Leveraged functions and collections to organize logic.\n",
    "4. **Iteration 8:** Added realism through randomization to simulate variable market conditions.\n",
    "5. **Iteration 9:** Persisted results for analysis, combining programmatic simulation with data logging.\n",
    "\n",
    "This iterative approach highlights **how small refactors lead to robust, real-world financial models.**"
   ]
  }
 ],
 "metadata": {},
 "nbformat": 4,
 "nbformat_minor": 5
}