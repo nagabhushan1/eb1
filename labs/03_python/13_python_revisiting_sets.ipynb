{
 "cells": [
  {
   "cell_type": "markdown",
   "id": "062201d0",
   "metadata": {},
   "source": [
    "### Revisiting Sets\n",
    "Sets in Python are unordered collections of unique and mutable elements. They are useful when you need to store non-duplicate values and perform mathematical set operations."
   ]
  },
  {
   "cell_type": "code",
   "execution_count": null,
   "id": "6068334f",
   "metadata": {},
   "outputs": [],
   "source": [
    "se1 = {}\n",
    "print(se1)\n",
    "print(type(se1))  # This creates a dictionary, not a set"
   ]
  },
  {
   "cell_type": "markdown",
   "id": "85e70cf7",
   "metadata": {},
   "source": [
    "### Creating an Empty Set\n",
    "Use the `set()` constructor to create an empty set."
   ]
  },
  {
   "cell_type": "code",
   "execution_count": null,
   "id": "07bd5d84",
   "metadata": {},
   "outputs": [],
   "source": [
    "se2 = set()\n",
    "print(se2)\n",
    "print(type(se2))"
   ]
  },
  {
   "cell_type": "markdown",
   "id": "fe605eb0",
   "metadata": {},
   "source": [
    "### Populating Sets\n",
    "You can populate a set from an iterable like `range`. Use `.add()` to insert a single element and `.update()` to add multiple elements from other iterables."
   ]
  },
  {
   "cell_type": "code",
   "execution_count": null,
   "id": "4a8f2197",
   "metadata": {},
   "outputs": [],
   "source": [
    "se3 = set(range(5))\n",
    "print(se3)\n",
    "print(type(se3))\n",
    "\n",
    "se3.add(10)\n",
    "print(se3)\n",
    "\n",
    "l1 = ['a', 'b']\n",
    "l2 = ['x', 'y']\n",
    "se3.update(l1, l2)\n",
    "print(se3)"
   ]
  },
  {
   "cell_type": "markdown",
   "id": "d79b1197",
   "metadata": {},
   "source": [
    "### Copying a Set\n",
    "The `.copy()` method creates a shallow copy of the set."
   ]
  },
  {
   "cell_type": "code",
   "execution_count": null,
   "id": "bc708ed5",
   "metadata": {},
   "outputs": [],
   "source": [
    "se4 = se3.copy()\n",
    "print(se4)\n",
    "print(type(se4))"
   ]
  },
  {
   "cell_type": "markdown",
   "id": "64305995",
   "metadata": {},
   "source": [
    "### Removing Elements\n",
    "- `.remove(value)` removes a specific element (raises an error if not present).\n",
    "- `.pop()` removes and returns an arbitrary element.\n",
    "- `.clear()` removes all elements from the set."
   ]
  },
  {
   "cell_type": "code",
   "execution_count": null,
   "id": "5aaae993",
   "metadata": {},
   "outputs": [],
   "source": [
    "se4.remove(10)\n",
    "print(se4)\n",
    "\n",
    "se4.pop()\n",
    "print(se4)\n",
    "\n",
    "se4.clear()\n",
    "print(se4)"
   ]
  },
  {
   "cell_type": "markdown",
   "id": "ba446ca7",
   "metadata": {},
   "source": [
    "### Key Takeaways\n",
    "- Sets are unordered and do not allow duplicates.\n",
    "- `{}` creates a dictionary, not a set.\n",
    "- Use `.add()` for single elements and `.update()` for multiple elements.\n",
    "- `.copy()` duplicates a set, while `.remove()`, `.pop()`, and `.clear()` modify its contents."
   ]
  }
 ],
 "metadata": {},
 "nbformat": 4,
 "nbformat_minor": 5
}