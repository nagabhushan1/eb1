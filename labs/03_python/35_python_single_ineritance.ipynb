{
 "cells": [
  {
   "cell_type": "markdown",
   "id": "38c4599a",
   "metadata": {},
   "source": [
    "\n",
    "# Single Inheritance in Python\n",
    "\n",
    "In Object-Oriented Programming, **Inheritance** allows one class (called the *child class* or *derived class*) \n",
    "to inherit attributes and methods from another class (called the *parent class* or *base class*).  \n",
    "This promotes **code reusability** and logical hierarchy.\n"
   ]
  },
  {
   "cell_type": "markdown",
   "id": "5310519d",
   "metadata": {},
   "source": [
    "\n",
    "### Step 1: Create the Base Class (Parent Class)\n",
    "\n",
    "The `Apple` class contains class attributes and a method to display contact details.\n"
   ]
  },
  {
   "cell_type": "code",
   "execution_count": null,
   "id": "e5dc65ea",
   "metadata": {},
   "outputs": [],
   "source": [
    "\n",
    "class Apple:\n",
    "    # Class attributes\n",
    "    manufacturer = \"Apple Inc.\"\n",
    "    contactWebsite = \"www.apple.com/contact\"\n",
    "\n",
    "    # Class method\n",
    "    def contactDetails(self):\n",
    "        print(\"To contact us, visit:\", self.contactWebsite)\n"
   ]
  },
  {
   "cell_type": "markdown",
   "id": "9a81d768",
   "metadata": {},
   "source": [
    "\n",
    "### Step 2: Create the Derived Class (Child Class)\n",
    "\n",
    "The `MacBook` class inherits all attributes and methods from the `Apple` class.\n",
    "It also introduces its own attribute `yearOfManufacture` and a new method `manufactureDetails()`.\n"
   ]
  },
  {
   "cell_type": "code",
   "execution_count": null,
   "id": "fe952057",
   "metadata": {},
   "outputs": [],
   "source": [
    "\n",
    "class MacBook(Apple):  # Inheriting from Apple\n",
    "    def __init__(self):\n",
    "        self.yearOfManufacture = 2017\n",
    "\n",
    "    def manufactureDetails(self):\n",
    "        print(f\"This MacBook was manufactured in the year {self.yearOfManufacture}.\")\n",
    "        print(f\"It was manufactured by {self.manufacturer}.\")\n"
   ]
  },
  {
   "cell_type": "markdown",
   "id": "862e83ee",
   "metadata": {},
   "source": [
    "\n",
    "### Step 3: Create an Object and Demonstrate Inheritance\n",
    "\n",
    "Now, create an object for the `MacBook` class.  \n",
    "It will have access to both its own methods and the methods of its parent class.\n"
   ]
  },
  {
   "cell_type": "code",
   "execution_count": null,
   "id": "4ad6b39d",
   "metadata": {},
   "outputs": [],
   "source": [
    "\n",
    "# Create an object for the derived class\n",
    "macBook = MacBook()\n",
    "\n",
    "# Accessing method of derived class\n",
    "macBook.manufactureDetails()\n",
    "\n",
    "# Accessing inherited method from base class\n",
    "macBook.contactDetails()\n"
   ]
  },
  {
   "cell_type": "markdown",
   "id": "eeec1d79",
   "metadata": {},
   "source": [
    "\n",
    "### Step 4: Summary\n",
    "\n",
    "- **Parent Class (`Apple`)** provides common attributes and methods.  \n",
    "- **Child Class (`MacBook`)** extends the parent class with additional functionality.  \n",
    "- Inheritance ensures **code reusability** and a clear class hierarchy.\n"
   ]
  }
 ],
 "metadata": {},
 "nbformat": 4,
 "nbformat_minor": 5
}
