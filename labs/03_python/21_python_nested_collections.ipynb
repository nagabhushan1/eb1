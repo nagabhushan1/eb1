{
 "cells": [
  {
   "cell_type": "markdown",
   "id": "93da7e0b",
   "metadata": {},
   "source": [
    "### Nested Collections in Python\n",
    "Nested collections are data structures that contain other collections as elements.\n",
    "\n",
    "For example, a dictionary containing lists or another dictionary is a **nested dictionary**.\n",
    "\n",
    "They are useful for representing hierarchical data — such as an online marketplace with multiple stores, each having products and prices."
   ]
  },
  {
   "cell_type": "code",
   "execution_count": null,
   "id": "5b4c5f56",
   "metadata": {},
   "outputs": [],
   "source": [
    "market = {}\n",
    "print(market)\n",
    "print(type(market))"
   ]
  },
  {
   "cell_type": "markdown",
   "id": "58e0f773",
   "metadata": {},
   "source": [
    "### Adding Nested Dictionaries\n",
    "We can dynamically add inner dictionaries as values to represent nested structures."
   ]
  },
  {
   "cell_type": "code",
   "execution_count": null,
   "id": "56166838",
   "metadata": {},
   "outputs": [],
   "source": [
    "market['store1'] = {}\n",
    "market['store2'] = {}\n",
    "print(market)"
   ]
  },
  {
   "cell_type": "markdown",
   "id": "d0048166",
   "metadata": {},
   "source": [
    "### Adding Key–Value Pairs to Nested Dictionaries\n",
    "Each inner dictionary can have its own keys and values — such as store names."
   ]
  },
  {
   "cell_type": "code",
   "execution_count": null,
   "id": "42718fab",
   "metadata": {},
   "outputs": [],
   "source": [
    "market['store1']['name'] = 'Online Store'\n",
    "market['store2']['name'] = 'Offline Store'\n",
    "print(market)"
   ]
  },
  {
   "cell_type": "markdown",
   "id": "d2a6236c",
   "metadata": {},
   "source": [
    "### Adding Lists of Dictionaries Inside Nested Dictionaries\n",
    "You can store lists within dictionaries, and those lists can contain dictionaries themselves — ideal for representing multiple products."
   ]
  },
  {
   "cell_type": "code",
   "execution_count": null,
   "id": "3af9fee1",
   "metadata": {},
   "outputs": [],
   "source": [
    "market['store1']['items'] = [\n",
    "\t{'name': 'laptop', 'price': 80000},\n",
    "\t{'name': 'mobile', 'price': 50000}\n",
    "]\n",
    "\n",
    "market['store2']['items'] = [\n",
    "\t{'name': 'headset', 'price': 5000},\n",
    "\t{'name': 'earphone', 'price': 1000}\n",
    "]\n",
    "print(market)"
   ]
  },
  {
   "cell_type": "markdown",
   "id": "b10904c5",
   "metadata": {},
   "source": [
    "### Pretty Printing Nested Structures Using `json.dumps()`\n",
    "The `json` module’s `dumps()` function can be used to format nested dictionaries into a readable JSON-style output."
   ]
  },
  {
   "cell_type": "code",
   "execution_count": null,
   "id": "b7422627",
   "metadata": {},
   "outputs": [],
   "source": [
    "import json\n",
    "print(json.dumps(market, indent=4))"
   ]
  },
  {
   "cell_type": "markdown",
   "id": "da6a64d2",
   "metadata": {},
   "source": [
    "### Accessing Data in Nested Collections\n",
    "We can access elements using multiple keys — for instance, to get the name of the first store."
   ]
  },
  {
   "cell_type": "code",
   "execution_count": null,
   "id": "e5d7a284",
   "metadata": {},
   "outputs": [],
   "source": [
    "print(market['store1']['name'])"
   ]
  },
  {
   "cell_type": "markdown",
   "id": "d3f38c2e",
   "metadata": {},
   "source": [
    "### Iterating Through Nested Structures\n",
    "You can loop through inner collections to extract or process specific data.\n",
    "Below example prints all items in Store 1 and, if the item is a laptop, prints its price."
   ]
  },
  {
   "cell_type": "code",
   "execution_count": null,
   "id": "a6de1fc3",
   "metadata": {},
   "outputs": [],
   "source": [
    "items = market['store1']['items']\n",
    "for e in items:\n",
    "\tprint(e['name'])\n",
    "\tif e['name'] == 'laptop':\n",
    "\t\tprint(e['price'])"
   ]
  },
  {
   "cell_type": "markdown",
   "id": "bef4d1e2",
   "metadata": {},
   "source": [
    "### Summary\n",
    "- Nested collections let you model hierarchical relationships naturally.\n",
    "- Dictionaries can contain other dictionaries or lists.\n",
    "- Use `json.dumps()` for formatted output.\n",
    "- Use multiple key indexing to access deeply nested elements.\n",
    "- Loops can traverse and filter specific data from complex structures."
   ]
  }
 ],
 "metadata": {},
 "nbformat": 4,
 "nbformat_minor": 5
}