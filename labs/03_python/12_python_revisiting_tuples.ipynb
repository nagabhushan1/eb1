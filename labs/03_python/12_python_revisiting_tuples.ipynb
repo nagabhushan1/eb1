{
 "cells": [
  {
   "cell_type": "markdown",
   "id": "6c6781a6",
   "metadata": {},
   "source": [
    "### Revisiting Tuples\n",
    "A tuple is an ordered, immutable collection of elements. They are often used to store multiple values together and cannot be modified after creation."
   ]
  },
  {
   "cell_type": "code",
   "execution_count": null,
   "id": "01300a3c",
   "metadata": {},
   "outputs": [],
   "source": [
    "t1 = (10, 20, 30, 40)\n",
    "print(t1)\n",
    "print(type(t1))\n",
    "\n",
    "\n",
    "t2 = 1, 2, 3, 4\n",
    "print(t2)\n",
    "print(type(t2))"
   ]
  },
  {
   "cell_type": "markdown",
   "id": "11cb419f",
   "metadata": {},
   "source": [
    "### Single-Element Tuples\n",
    "To create a single-element tuple, a trailing comma is required. Without the comma, Python treats it as a regular value inside parentheses."
   ]
  },
  {
   "cell_type": "code",
   "execution_count": null,
   "id": "769cee45",
   "metadata": {},
   "outputs": [],
   "source": [
    "t3 = (10)\n",
    "print(t3)\n",
    "print(type(t3))\n",
    "\n",
    "\n",
    "t4 = (10,)\n",
    "print(t4)\n",
    "print(type(t4))"
   ]
  },
  {
   "cell_type": "markdown",
   "id": "938d77f7",
   "metadata": {},
   "source": [
    "### Converting a List to a Tuple\n",
    "The `tuple()` constructor converts a list into a tuple. Tuples support indexing, but attempting to assign values or access out-of-range indices raises errors."
   ]
  },
  {
   "cell_type": "code",
   "execution_count": null,
   "id": "7a6fc718",
   "metadata": {},
   "outputs": [],
   "source": [
    "l1 = [1, 2, 3]\n",
    "t5 = tuple(l1)\n",
    "print(t5)\n",
    "print(type(t5))\n",
    "print(t5[0])\n",
    "print(t5[-1])\n",
    "\n",
    "# Uncommenting below will raise IndexError\n",
    "# print(t5[100])\n",
    "\n",
    "# Uncommenting below will raise TypeError\n",
    "# t5[0] = 999"
   ]
  },
  {
   "cell_type": "markdown",
   "id": "6af0728f",
   "metadata": {},
   "source": [
    "### Tuple Operations\n",
    "Tuples support concatenation, repetition, length, and built-in functions like `count`, `index`, `sorted`, `min`, and `max`."
   ]
  },
  {
   "cell_type": "code",
   "execution_count": null,
   "id": "3e6d62b2",
   "metadata": {},
   "outputs": [],
   "source": [
    "print('t2', t2)\n",
    "print('t5', t5)\n",
    "\n",
    "# Concatenation\n",
    "t6 = t2 + t5\n",
    "print('t6', t6)\n",
    "\n",
    "# Repetition\n",
    "t7 = t6 * 2\n",
    "print('t7', t7)\n",
    "\n",
    "print('Length of t7', len(t7))\n",
    "print(t7.count(1))  # number of occurrences\n",
    "print(t7.index(1))  # first occurrence\n",
    "\n",
    "print(sorted(t7))  # sort elements\n",
    "print(sorted(t7, reverse=True))  # reverse order\n",
    "\n",
    "print(min(t7))\n",
    "print(max(t7))"
   ]
  },
  {
   "cell_type": "markdown",
   "id": "889d7b54",
   "metadata": {},
   "source": [
    "### Tuple Packing and Unpacking\n",
    "- **Packing**: Assigning multiple values to a single tuple.\n",
    "- **Unpacking**: Assigning elements of a tuple to multiple variables."
   ]
  },
  {
   "cell_type": "code",
   "execution_count": null,
   "id": "5520abab",
   "metadata": {},
   "outputs": [],
   "source": [
    "a = 10; b = 20; c = 30; d = 40\n",
    "t8 = a, b, c, d\n",
    "print(t8)\n",
    "print(type(t8))\n",
    "\n",
    "# Unpacking\n",
    "p, q, r, s = t8\n",
    "print(\"p=\", p, \"q=\", q, \"r=\", r, \"s=\", s)"
   ]
  },
  {
   "cell_type": "markdown",
   "id": "ab350eec",
   "metadata": {},
   "source": [
    "### Key Takeaways\n",
    "- Tuples are immutable and ordered collections.\n",
    "- Single-element tuples require a trailing comma.\n",
    "- Tuples support concatenation, repetition, and several built-in functions.\n",
    "- Packing and unpacking allow grouping and ungrouping multiple values easily."
   ]
  }
 ],
 "metadata": {},
 "nbformat": 4,
 "nbformat_minor": 5
}