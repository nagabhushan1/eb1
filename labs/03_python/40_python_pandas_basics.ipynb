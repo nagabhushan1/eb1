{
 "cells": [
  {
   "cell_type": "markdown",
   "id": "047b5b23",
   "metadata": {},
   "source": [
    "# 📘 Introduction to Pandas\n",
    "\n",
    "Pandas is a **powerful open-source Python library** used for data manipulation and analysis.  \n",
    "It provides two primary data structures:\n",
    "- **Series** – 1-dimensional labeled array  \n",
    "- **DataFrame** – 2-dimensional labeled data structure (like an Excel sheet)\n",
    "\n",
    "This notebook demonstrates how to:\n",
    "- Install and import Pandas  \n",
    "- Create a DataFrame  \n",
    "- Access specific columns  \n",
    "- Filter rows based on conditions  \n"
   ]
  },
  {
   "cell_type": "markdown",
   "id": "36046522",
   "metadata": {},
   "source": [
    "## ⚙️ Installing Pandas\n",
    "\n",
    "If you are using **Google Colab**, execute the following command before running the notebook:\n",
    "\n",
    "```python\n",
    "!pip install pandas\n",
    "```\n",
    "\n",
    "If you are using a **local Jupyter Notebook**, you can install Pandas using:\n",
    "\n",
    "```bash\n",
    "pip install pandas\n",
    "```\n"
   ]
  },
  {
   "cell_type": "markdown",
   "id": "2bee0eb3",
   "metadata": {},
   "source": [
    "## 🧱 Importing Pandas\n"
   ]
  },
  {
   "cell_type": "code",
   "execution_count": null,
   "id": "97ad3fb9",
   "metadata": {},
   "outputs": [],
   "source": [
    "import pandas as pd"
   ]
  },
  {
   "cell_type": "markdown",
   "id": "aa59c7e5",
   "metadata": {},
   "source": [
    "## 🧮 Creating a DataFrame\n"
   ]
  },
  {
   "cell_type": "code",
   "execution_count": null,
   "id": "9dbf3954",
   "metadata": {},
   "outputs": [],
   "source": [
    "data = {\n",
    "    'Name': ['Arjun', 'Ravi', 'Priya'],\n",
    "    'Age': [20, 30, 21],\n",
    "    'City': ['Bengaluru', 'Mumbai', 'Mysuru']\n",
    "}\n",
    "\n",
    "df = pd.DataFrame(data)\n",
    "print(df)\n"
   ]
  },
  {
   "cell_type": "markdown",
   "id": "1b9513fd",
   "metadata": {},
   "source": [
    "## 🎯 Accessing Columns\n"
   ]
  },
  {
   "cell_type": "code",
   "execution_count": null,
   "id": "d41d2cde",
   "metadata": {},
   "outputs": [],
   "source": [
    "print(df['Name'])\n",
    "print(df[['Name', 'City']])\n"
   ]
  },
  {
   "cell_type": "markdown",
   "id": "169f7d9e",
   "metadata": {},
   "source": [
    "## 🔍 Filtering Rows\n"
   ]
  },
  {
   "cell_type": "code",
   "execution_count": null,
   "id": "1665d56f",
   "metadata": {},
   "outputs": [],
   "source": [
    "# Filter rows where age > 20\n",
    "print(df[df['Age'] > 20])\n"
   ]
  },
  {
   "cell_type": "markdown",
   "id": "7b73ae88",
   "metadata": {},
   "source": [
    "## ✅ Summary\n",
    "\n",
    "In this notebook, you learned how to:\n",
    "- Install and import the Pandas library  \n",
    "- Create a DataFrame using a dictionary  \n",
    "- Access specific columns  \n",
    "- Filter data based on conditions  \n"
   ]
  }
 ],
 "metadata": {},
 "nbformat": 4,
 "nbformat_minor": 5
}
