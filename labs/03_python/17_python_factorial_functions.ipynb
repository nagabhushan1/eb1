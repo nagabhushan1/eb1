{
 "cells": [
  {
   "cell_type": "markdown",
   "id": "b6b6e1c6",
   "metadata": {},
   "source": [
    "### Factorial Functions in Python\n",
    "The factorial of a number `n` is defined as:\n",
    "\n",
    "`n! = n × (n-1) × (n-2) × ... × 1`\n",
    "\n",
    "Special case: `0! = 1`.\n",
    "\n",
    "Factorials are widely used in mathematics, combinatorics, and probability.\n",
    "\n",
    "We can implement factorial in two ways:\n",
    "- **Without recursion (iterative approach)**\n",
    "- **With recursion**"
   ]
  },
  {
   "cell_type": "markdown",
   "id": "9b7e84cb",
   "metadata": {},
   "source": [
    "### Factorial Without Recursion (Iterative Approach)\n",
    "This approach uses a loop to compute the factorial by multiplying numbers from `n` down to `1`."
   ]
  },
  {
   "cell_type": "code",
   "execution_count": null,
   "id": "5f04f223",
   "metadata": {},
   "outputs": [],
   "source": [
    "def fact(num):\n",
    "    result = 1\n",
    "    while num >= 1:\n",
    "        result *= num\n",
    "        num -= 1\n",
    "    return result\n",
    "\n",
    "for i in range(1, 5):\n",
    "    print('factorial of', i, fact(i))"
   ]
  },
  {
   "cell_type": "markdown",
   "id": "0f612a57",
   "metadata": {},
   "source": [
    "### Factorial With Recursion\n",
    "Recursion solves the problem by calling the function itself.\n",
    "\n",
    "- **Base Case**: `0! = 1`\n",
    "- **Recursive Case**: `n! = n × (n-1)!`"
   ]
  },
  {
   "cell_type": "code",
   "execution_count": null,
   "id": "3c5c8f70",
   "metadata": {},
   "outputs": [],
   "source": [
    "def fact1(num):\n",
    "    if num == 0:\n",
    "        result = 1\n",
    "    else:\n",
    "        result = num * fact1(num - 1)\n",
    "    return result\n",
    "\n",
    "for i in range(1, 5):\n",
    "    print('factorial of', i, fact1(i))"
   ]
  },
  {
   "cell_type": "markdown",
   "id": "f1abb2af",
   "metadata": {},
   "source": [
    "### Key Takeaways\n",
    "- Iterative approach avoids recursion depth issues and is efficient for large numbers.\n",
    "- Recursive approach is elegant and closely mirrors the mathematical definition of factorial.\n",
    "- Both methods produce the same results for valid positive integers."
   ]
  }
 ],
 "metadata": {},
 "nbformat": 4,
 "nbformat_minor": 5
}