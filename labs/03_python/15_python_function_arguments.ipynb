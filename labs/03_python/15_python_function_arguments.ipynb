{
 "cells": [
  {
   "cell_type": "markdown",
   "id": "c88f922c",
   "metadata": {},
   "source": [
    "### Types of Arguments in Python\n",
    "Functions in Python can accept different types of arguments:\n",
    "- **Positional Arguments**: Values are passed based on their position.\n",
    "- **Keyword Arguments**: Parameters are passed with names, so order doesn’t matter.\n",
    "- **Default Arguments**: Parameters have default values if not provided.\n",
    "- **Variable-length Arguments (`*args`)**: Accept multiple inputs as a tuple."
   ]
  },
  {
   "cell_type": "markdown",
   "id": "612b9c38",
   "metadata": {},
   "source": [
    "### Positional Arguments\n",
    "Arguments are matched with parameters based on their position."
   ]
  },
  {
   "cell_type": "code",
   "execution_count": null,
   "id": "86218ac1",
   "metadata": {},
   "outputs": [],
   "source": [
    "def add(num1, num2):\n",
    "    return num1 + num2\n",
    "\n",
    "result = add(3, 5)\n",
    "print(result)"
   ]
  },
  {
   "cell_type": "markdown",
   "id": "332c7e6e",
   "metadata": {},
   "source": [
    "### Keyword Arguments\n",
    "Keyword arguments are passed by explicitly naming parameters. Order does not matter when keywords are used.\n",
    "\n",
    "**Rule**: Positional arguments must always come before keyword arguments."
   ]
  },
  {
   "cell_type": "code",
   "execution_count": null,
   "id": "f0cc6e09",
   "metadata": {},
   "outputs": [],
   "source": [
    "def greet(name, msg):\n",
    "    print(\"Hello!\", name, msg)\n",
    "\n",
    "# Positional arguments\n",
    "greet('Ravi', 'Good Morning')\n",
    "greet('Good Morning', 'Ravi')\n",
    "\n",
    "# Keyword arguments\n",
    "greet(msg='Good Morning', name='Ravi')\n",
    "\n",
    "# Combination of positional and keyword\n",
    "greet('Ravi', msg='Good Morning')\n",
    "\n",
    "# Invalid usage: positional after keyword would raise SyntaxError\n",
    "# greet('Good Morning', name='Ravi')"
   ]
  },
  {
   "cell_type": "markdown",
   "id": "d5769c83",
   "metadata": {},
   "source": [
    "### Default Arguments\n",
    "Default values are used if no value is provided for the parameter."
   ]
  },
  {
   "cell_type": "code",
   "execution_count": null,
   "id": "62f1b890",
   "metadata": {},
   "outputs": [],
   "source": [
    "def greet(name='Guest'):\n",
    "    print(\"Hello!\", name)\n",
    "\n",
    "# Providing argument\n",
    "greet('Ravi')\n",
    "\n",
    "# Using default value\n",
    "greet()"
   ]
  },
  {
   "cell_type": "markdown",
   "id": "8eee7ea3",
   "metadata": {},
   "source": [
    "### Variable-Length Arguments (`*args`)\n",
    "Functions can accept a variable number of arguments. They are collected into a tuple inside the function."
   ]
  },
  {
   "cell_type": "code",
   "execution_count": null,
   "id": "49e84714",
   "metadata": {},
   "outputs": [],
   "source": [
    "def sum(*n):\n",
    "    total = 0\n",
    "    for e in n:\n",
    "        total += e\n",
    "    print(\"The Sum is\", total)\n",
    "\n",
    "sum()\n",
    "sum(10, 20)\n",
    "sum(10, 20, 30)"
   ]
  },
  {
   "cell_type": "markdown",
   "id": "18102542",
   "metadata": {},
   "source": [
    "### Key Takeaways\n",
    "- **Positional Arguments**: Values are passed in the correct order.\n",
    "- **Keyword Arguments**: Pass values by naming parameters, order doesn’t matter.\n",
    "- **Default Arguments**: Provide fallback values if none are given.\n",
    "- **Variable-length Arguments**: Allow functions to accept multiple arguments, grouped as a tuple."
   ]
  }
 ],
 "metadata": {},
 "nbformat": 4,
 "nbformat_minor": 5
}