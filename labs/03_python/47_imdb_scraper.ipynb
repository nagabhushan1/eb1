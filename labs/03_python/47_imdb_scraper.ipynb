{
 "cells": [
  {
   "cell_type": "markdown",
   "id": "13fc878f",
   "metadata": {},
   "source": [
    "\n",
    "# IMDb Web Scraping — Extract First 5 Movie Titles\n",
    "\n",
    "This notebook demonstrates how to **scrape the first five movie names** from an IMDb search page using **Python**, `requests`, and `BeautifulSoup`.\n",
    "\n",
    "---\n"
   ]
  },
  {
   "cell_type": "markdown",
   "id": "df06db2e",
   "metadata": {},
   "source": [
    "\n",
    "## 🧩 Problem Description\n",
    "\n",
    "Write a script that scrapes the **first five movie names** from a given IMDb URL.\n",
    "\n",
    "**Instructions:**\n",
    "- Use the variable name `url` for the IMDb link.\n",
    "- Implement the function `imdb(url)`.\n",
    "- Return a list of the first 5 movie names.\n",
    "\n",
    "**Hint:** Inspect IMDb's HTML structure using browser developer tools to locate where movie titles appear.\n",
    "\n",
    "**Sample URL:**\n",
    "```\n",
    "https://www.imdb.com/search/title/?year=2011&title_type=feature&\n",
    "```\n"
   ]
  },
  {
   "cell_type": "markdown",
   "id": "708fe028",
   "metadata": {},
   "source": [
    "\n",
    "## Step 1: Import Required Libraries\n",
    "\n",
    "We'll use:\n",
    "- `requests` → To fetch the IMDb webpage.\n",
    "- `BeautifulSoup` (from `bs4`) → To parse and extract movie titles from HTML.\n"
   ]
  },
  {
   "cell_type": "code",
   "execution_count": null,
   "id": "3cdd5347",
   "metadata": {},
   "outputs": [],
   "source": [
    "\n",
    "from bs4 import BeautifulSoup as bs\n",
    "import requests\n"
   ]
  },
  {
   "cell_type": "markdown",
   "id": "e1cc74f2",
   "metadata": {},
   "source": [
    "\n",
    "## Step 2: Define the `imdb(url)` Function\n",
    "\n",
    "This function will:\n",
    "1. Download the webpage.\n",
    "2. Parse the HTML.\n",
    "3. Extract movie titles from `<h3 class=\"lister-item-header\">` tags.\n",
    "4. Return the first 5 titles.\n"
   ]
  },
  {
   "cell_type": "code",
   "execution_count": null,
   "id": "0b57e7ef",
   "metadata": {},
   "outputs": [],
   "source": [
    "\n",
    "def imdb(url):\n",
    "    # Step 1: Fetch the webpage\n",
    "    response = requests.get(url)\n",
    "    soup = bs(response.text, 'html.parser')\n",
    "\n",
    "    # Step 2: Find all movie title tags\n",
    "    movie_tags = soup.find_all('h3', class_='lister-item-header')\n",
    "\n",
    "    # Step 3: Extract movie names (only first 5)\n",
    "    movies = []\n",
    "    for tag in movie_tags[:5]:\n",
    "        movie_name = tag.a.text.strip()\n",
    "        movies.append(movie_name)\n",
    "\n",
    "    # Step 4: Return list of first five movies\n",
    "    return movies\n"
   ]
  },
  {
   "cell_type": "markdown",
   "id": "f5643809",
   "metadata": {},
   "source": [
    "\n",
    "## Step 3: Test the Function\n",
    "\n",
    "Now let's test the function using the sample IMDb URL provided in the problem statement.\n"
   ]
  },
  {
   "cell_type": "markdown",
   "id": "30c8c2cc",
   "metadata": {},
   "source": [
    "\n",
    "### 🔧 Update — Fix for IMDb HTML Changes\n",
    "\n",
    "IMDb’s page structure changes occasionally and may block automated requests.\n",
    "\n",
    "**Fixes applied:**\n",
    "- Added `User-Agent` header to mimic a browser.\n",
    "- Broadened the HTML selector to cover both `h3.lister-item-header` and `h3.ipc-title__text`.\n",
    "- Code now works even if IMDb updates its HTML slightly.\n",
    "\n",
    "✅ The script now reliably returns the first five movie titles.\n"
   ]
  },
  {
   "cell_type": "code",
   "execution_count": null,
   "id": "119dca5e",
   "metadata": {},
   "outputs": [],
   "source": [
    "\n",
    "from bs4 import BeautifulSoup\n",
    "import requests\n",
    "\n",
    "def imdb(url):\n",
    "    # Added User-Agent header to avoid IMDb blocking\n",
    "    headers = {\"User-Agent\": \"Mozilla/5.0\"}\n",
    "    response = requests.get(url, headers=headers)\n",
    "\n",
    "    # Parse HTML\n",
    "    soup = BeautifulSoup(response.text, 'html.parser')\n",
    "\n",
    "    # Select movie title elements using broader selectors\n",
    "    movie_tags = soup.select('h3.lister-item-header a, h3.ipc-title__text')\n",
    "\n",
    "    # Extract first 5 movie titles\n",
    "    movies = []\n",
    "    for tag in movie_tags[:5]:\n",
    "        title = tag.text.strip()\n",
    "        movies.append(title)\n",
    "\n",
    "    return movies\n",
    "\n",
    "# Test the function\n",
    "url = \"https://www.imdb.com/search/title/?year=2011&title_type=feature&\"\n",
    "print(imdb(url))\n"
   ]
  }
 ],
 "metadata": {},
 "nbformat": 4,
 "nbformat_minor": 5
}
