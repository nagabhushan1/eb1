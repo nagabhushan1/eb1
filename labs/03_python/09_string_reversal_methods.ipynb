{
 "cells": [
  {
   "cell_type": "markdown",
   "id": "86ab2838",
   "metadata": {},
   "source": [
    "# String Reversal in Python\n",
    "\n",
    "This notebook demonstrates different ways to reverse a string in Python:\n",
    "1. Using **string slicing**\n",
    "2. Using **reversed() function**\n",
    "3. Using **while loop**\n",
    "4. Explaining what `reversed()` actually returns\n"
   ]
  },
  {
   "cell_type": "markdown",
   "id": "ea35caea",
   "metadata": {},
   "source": [
    "## 1. Using String Slicing\n",
    "The slicing method `s[::-1]` creates a new string with characters taken in reverse order.\n"
   ]
  },
  {
   "cell_type": "code",
   "execution_count": null,
   "id": "e70098b9",
   "metadata": {},
   "outputs": [],
   "source": [
    "s = \"Python\"\n",
    "output = s[::-1]\n",
    "print(output)  # nohtyP"
   ]
  },
  {
   "cell_type": "markdown",
   "id": "ad694ae4",
   "metadata": {},
   "source": [
    "## 2. Using reversed() and join()\n",
    "The `reversed()` function returns an **iterator**. We can convert it into a string using `\"\".join()`.\n"
   ]
  },
  {
   "cell_type": "code",
   "execution_count": null,
   "id": "6e06a884",
   "metadata": {},
   "outputs": [],
   "source": [
    "s = \"Python\"\n",
    "r = reversed(s)\n",
    "output = \"\".join(r)\n",
    "print(output)  # nohtyP"
   ]
  },
  {
   "cell_type": "markdown",
   "id": "699de241",
   "metadata": {},
   "source": [
    "## 3. Using While Loop\n",
    "We can also manually reverse a string character by character.\n"
   ]
  },
  {
   "cell_type": "code",
   "execution_count": null,
   "id": "7aa6d489",
   "metadata": {},
   "outputs": [],
   "source": [
    "s = \"Python\"\n",
    "output = \"\"\n",
    "i = len(s) - 1\n",
    "\n",
    "while i >= 0:\n",
    "    output = output + s[i]\n",
    "    i = i - 1\n",
    "\n",
    "print(output)  # nohtyP"
   ]
  },
  {
   "cell_type": "markdown",
   "id": "f555359e",
   "metadata": {},
   "source": [
    "## 4. What does `reversed()` return?\n",
    "When we just call `reversed(s)`, it does **not** return the reversed string.  \n",
    "It returns a `reversed` object (an iterator).\n"
   ]
  },
  {
   "cell_type": "code",
   "execution_count": null,
   "id": "6e8a0ee4",
   "metadata": {},
   "outputs": [],
   "source": [
    "s = \"Python\"\n",
    "r = reversed(s)\n",
    "print(r)  # shows <reversed object at 0x...>"
   ]
  },
  {
   "cell_type": "markdown",
   "id": "c5b118ea",
   "metadata": {},
   "source": [
    "## 5. Consuming the reversed object\n",
    "We can convert the iterator to a list, string, or iterate through it:\n"
   ]
  },
  {
   "cell_type": "code",
   "execution_count": null,
   "id": "51cf2b83",
   "metadata": {},
   "outputs": [],
   "source": [
    "s = \"Python\"\n",
    "\n",
    "# Convert to list\n",
    "print(list(reversed(s)))\n",
    "\n",
    "# Join into string\n",
    "print(\"\".join(reversed(s)))\n",
    "\n",
    "# Loop through\n",
    "for ch in reversed(s):\n",
    "    print(ch, end=\"\")\n"
   ]
  }
 ],
 "metadata": {},
 "nbformat": 4,
 "nbformat_minor": 5
}
