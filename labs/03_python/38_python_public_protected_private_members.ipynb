{
 "cells": [
  {
   "cell_type": "markdown",
   "id": "63cf8dd0",
   "metadata": {},
   "source": [
    "\n",
    "### Public, Protected, and Private Members in Python\n",
    "\n",
    "Unlike languages such as Java or C++, Python does **not** enforce access control with keywords.  \n",
    "Instead, it relies on **naming conventions** that developers agree to follow:\n",
    "\n",
    "- **Public** → accessible everywhere  \n",
    "- **Protected** → intended for class and subclasses  \n",
    "- **Private** → intended only for use within the defining class\n"
   ]
  },
  {
   "cell_type": "markdown",
   "id": "55641f3c",
   "metadata": {},
   "source": [
    "\n",
    "### Analogy\n",
    "- **Public** → A note placed *outside your house* — anyone can read it.  \n",
    "- **Protected** → A note placed *inside your house* — only family (class + subclasses) should read it.  \n",
    "- **Private** → A note *locked in your room* — only you (the defining class) can access it.\n"
   ]
  },
  {
   "cell_type": "markdown",
   "id": "ccba73cc",
   "metadata": {},
   "source": [
    "## Public Members"
   ]
  },
  {
   "cell_type": "code",
   "execution_count": null,
   "id": "6acb0d77",
   "metadata": {},
   "outputs": [],
   "source": [
    "\n",
    "class Car:\n",
    "    def __init__(self):\n",
    "        self.numberOfWheels = 4  # Public attribute\n",
    "\n",
    "car = Car()\n",
    "print(\"Public attribute - numberOfWheels:\", car.numberOfWheels)\n"
   ]
  },
  {
   "cell_type": "markdown",
   "id": "72a640e2",
   "metadata": {},
   "source": [
    "\n",
    "Public members use **no leading underscore**.  \n",
    "They can be accessed and modified from anywhere in the program.\n"
   ]
  },
  {
   "cell_type": "markdown",
   "id": "69b12309",
   "metadata": {},
   "source": [
    "## Protected Members (By Convention)"
   ]
  },
  {
   "cell_type": "code",
   "execution_count": null,
   "id": "3933e588",
   "metadata": {},
   "outputs": [],
   "source": [
    "\n",
    "class Car:\n",
    "    def __init__(self):\n",
    "        self._color = \"Black\"  # Protected attribute by convention\n",
    "\n",
    "class BMW(Car):\n",
    "    def __init__(self):\n",
    "        super().__init__()\n",
    "        print(\"Protected attribute inside subclass:\", self._color)\n",
    "\n",
    "bmw = BMW()\n",
    "\n",
    "# Technically possible (but discouraged) access from outside:\n",
    "print(\"Discouraged external access to protected attribute:\", bmw._color)\n"
   ]
  },
  {
   "cell_type": "markdown",
   "id": "eee5ba6e",
   "metadata": {},
   "source": [
    "\n",
    "Protected members use a **single leading underscore (`_`)**.  \n",
    "They can be accessed outside the class, but doing so is **discouraged**.  \n",
    "Intended for **internal use** within the class and its subclasses.\n"
   ]
  },
  {
   "cell_type": "markdown",
   "id": "5f3c07dd",
   "metadata": {},
   "source": [
    "## Private Members (Name Mangling)"
   ]
  },
  {
   "cell_type": "code",
   "execution_count": null,
   "id": "5c81817b",
   "metadata": {},
   "outputs": [],
   "source": [
    "\n",
    "class Car:\n",
    "    def __init__(self):\n",
    "        self.__yearOfManufacture = 2017  # Private (name-mangled)\n",
    "\n",
    "car = Car()\n",
    "\n",
    "# Direct access raises an error\n",
    "try:\n",
    "    print(car.__yearOfManufacture)\n",
    "except AttributeError as e:\n",
    "    print(\"Direct access error:\", e)\n",
    "\n",
    "# Accessing using name mangling (not recommended)\n",
    "print(\"Access via name mangling:\", car._Car__yearOfManufacture)\n"
   ]
  },
  {
   "cell_type": "markdown",
   "id": "e8aa7aaa",
   "metadata": {},
   "source": [
    "\n",
    "Private members use **two leading underscores (`__`)**.  \n",
    "Python internally renames them using **name mangling** — `_ClassName__attribute`.  \n",
    "This prevents accidental override or access in subclasses.\n"
   ]
  },
  {
   "cell_type": "markdown",
   "id": "c70927fe",
   "metadata": {},
   "source": [
    "\n",
    "## Summary Table\n",
    "\n",
    "| Access Type | Naming | Intended Access | Example |\n",
    "|--------------|---------|----------------|----------|\n",
    "| Public | `name` | Everywhere | `car.numberOfWheels` |\n",
    "| Protected (convention) | `_name` | Class + Subclasses | `bmw._color` |\n",
    "| Private (mangled) | `__name` | Class only | `car._Car__yearOfManufacture` |\n"
   ]
  }
 ],
 "metadata": {
  "language_info": {
   "name": "python"
  }
 },
 "nbformat": 4,
 "nbformat_minor": 5
}
