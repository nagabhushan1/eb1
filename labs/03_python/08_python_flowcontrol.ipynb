{
 "cells": [
  {
   "cell_type": "markdown",
   "id": "eb26d29f",
   "metadata": {},
   "source": [
    "### Input and Output\n",
    "The `input()` function reads user input as a string. You can convert the input to other types using functions like `int()` or `float()`."
   ]
  },
  {
   "cell_type": "code",
   "execution_count": null,
   "id": "2bc7fbe6",
   "metadata": {},
   "outputs": [],
   "source": [
    "# Take user input and compute sum of two numbers\n",
    "x = int(input(\"Enter num1:\"))\n",
    "y = int(input(\"Enter num2:\"))\n",
    "print(\"Sum is:\", x + y)\n",
    "\n",
    "# Take three numbers as input and print the minimum number\n",
    "a = int(input(\"Enter a:\"))\n",
    "b = int(input(\"Enter b:\"))\n",
    "c = int(input(\"Enter c:\"))\n",
    "\n",
    "min_value = a if a < b and a < c else b if b < c else c\n",
    "print(min_value)"
   ]
  },
  {
   "cell_type": "markdown",
   "id": "9235e53c",
   "metadata": {},
   "source": [
    "### Flow Control in Python\n",
    "Flow control determines the order in which Python statements are executed at runtime.\n",
    "\n",
    "- **Conditional Statements**: `if`, `if-elif`, `if-elif-else`\n",
    "- **Iterative Statements**: `for`, `while`\n",
    "- **Transfer Statements**: `break`, `continue`, `pass`"
   ]
  },
  {
   "cell_type": "markdown",
   "id": "fb07be08",
   "metadata": {},
   "source": [
    "### If Statement\n",
    "Executes a block of code if the condition is `True`."
   ]
  },
  {
   "cell_type": "code",
   "execution_count": null,
   "id": "3d289fca",
   "metadata": {},
   "outputs": [],
   "source": [
    "user_input = input(\"Enter username: \")\n",
    "\n",
    "if user_input == 'root':\n",
    "    print('Task 1 for root user')\n",
    "    print('Task 2 for root user')\n",
    "\n",
    "print(\"Thank you\")"
   ]
  },
  {
   "cell_type": "markdown",
   "id": "5125ae51",
   "metadata": {},
   "source": [
    "### If-Elif-Else Statement\n",
    "Executes one block of code among multiple conditions."
   ]
  },
  {
   "cell_type": "code",
   "execution_count": null,
   "id": "aa6049eb",
   "metadata": {},
   "outputs": [],
   "source": [
    "user_input = input(\"Enter username: \")\n",
    "\n",
    "if user_input == 'root':\n",
    "    print('Task 1 for root user')\n",
    "    print('Task 2 for root user')\n",
    "elif user_input == 'user1':\n",
    "    print('Hello user1')\n",
    "else:\n",
    "    print('Hello Guest')\n",
    "\n",
    "print(\"Thank you\")"
   ]
  },
  {
   "cell_type": "markdown",
   "id": "074968e1",
   "metadata": {},
   "source": [
    "### Iterative Statements - For Loop\n",
    "`for` loops are used to iterate over a sequence such as a list, string, or range."
   ]
  },
  {
   "cell_type": "code",
   "execution_count": null,
   "id": "8bd79853",
   "metadata": {},
   "outputs": [],
   "source": [
    "print(range(10))\n",
    "\n",
    "for i in range(10):\n",
    "    print(i)\n",
    "\n",
    "for i in range(10): print(i)\n",
    "\n",
    "list1 = [1, 2, 3, 4, 5]\n",
    "for e in list1:\n",
    "    print(e)\n",
    "\n",
    "str1 = \"Python\"\n",
    "for c in str1:\n",
    "    print(c)\n",
    "\n",
    "for x in range(21):\n",
    "    if (x % 2 != 0):\n",
    "        print(x)\n",
    "\n",
    "list2 = [10, 20, 30, 40, 50]\n",
    "sum = 0\n",
    "for e in list2:\n",
    "    sum += e\n",
    "print(\"Sum of all elements in the list is:\", sum)\n",
    "\n",
    "for i in range(4):\n",
    "    for j in range(5):\n",
    "        print(\"i =\", i, \" j=\", j)"
   ]
  },
  {
   "cell_type": "markdown",
   "id": "ff902acd",
   "metadata": {},
   "source": [
    "### Iterative Statements - While Loop\n",
    "`while` loops continue executing as long as the condition is `True`."
   ]
  },
  {
   "cell_type": "code",
   "execution_count": null,
   "id": "9b507897",
   "metadata": {},
   "outputs": [],
   "source": [
    "counter = 0\n",
    "while counter < 5:\n",
    "    print(\"Within the while loop and the iteration is\", counter)\n",
    "    counter += 1\n",
    "print(\"End of while loop\")\n",
    "\n",
    "name = \"\"\n",
    "while name != 'root':\n",
    "    name = input('Enter the username:')\n",
    "print(\"Thank you\")"
   ]
  },
  {
   "cell_type": "markdown",
   "id": "08b8e982",
   "metadata": {},
   "source": [
    "### Transfer Statements\n",
    "Transfer statements alter the normal flow of execution in loops.\n",
    "\n",
    "- `break`: exits the loop.\n",
    "- `continue`: skips the current iteration and moves to the next.\n",
    "- `pass`: a placeholder statement that does nothing."
   ]
  },
  {
   "cell_type": "code",
   "execution_count": null,
   "id": "f57dee31",
   "metadata": {},
   "outputs": [],
   "source": [
    "# break\n",
    "for i in range(10):\n",
    "    print(i)\n",
    "    if i == 6:\n",
    "        print(\"Breaking the loop at 6\")\n",
    "        break\n",
    "\n",
    "# continue\n",
    "for i in range(10):\n",
    "    if i % 2 == 0:\n",
    "        continue\n",
    "    print(i)\n",
    "\n",
    "# loops with else block\n",
    "cart = [10, 20, 30, 50]\n",
    "for item in cart:\n",
    "    if item >= 100:\n",
    "        print(\"This order can't be processed\")\n",
    "        break\n",
    "    print(item)\n",
    "else:\n",
    "    print(\"All cart items processed in the order\")\n",
    "\n",
    "# pass\n",
    "if True:\n",
    "    pass\n",
    "\n",
    "def f1():\n",
    "    pass\n",
    "\n",
    "x = f1()\n",
    "print(x)"
   ]
  },
  {
   "cell_type": "markdown",
   "id": "78564b47",
   "metadata": {},
   "source": [
    "### Del Keyword\n",
    "The `del` keyword is used to delete variables, objects, or items from collections."
   ]
  },
  {
   "cell_type": "code",
   "execution_count": null,
   "id": "5626c046",
   "metadata": {},
   "outputs": [],
   "source": [
    "x = 10\n",
    "print(x)\n",
    "del x\n",
    "# Uncommenting below will raise NameError because x is deleted\n",
    "# print(x)"
   ]
  },
  {
   "cell_type": "markdown",
   "id": "ae70cea3",
   "metadata": {},
   "source": [
    "### Key Takeaways\n",
    "- `input()` reads input as strings, which can be typecast to other types.\n",
    "- Flow control in Python includes conditional, iterative, and transfer statements.\n",
    "- `if`, `if-elif-else` manage decision-making.\n",
    "- `for` and `while` loops handle iteration.\n",
    "- `break`, `continue`, and `pass` influence loop execution.\n",
    "- The `del` keyword deletes variables or objects."
   ]
  }
 ],
 "metadata": {},
 "nbformat": 4,
 "nbformat_minor": 5
}