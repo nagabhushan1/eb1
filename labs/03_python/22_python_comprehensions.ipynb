{
 "cells": [
  {
   "cell_type": "markdown",
   "id": "f1627d7d",
   "metadata": {},
   "source": [
    "### Comprehensions in Python\n",
    "Comprehensions are a concise and efficient way to create collections such as **lists**, **sets**, and **dictionaries** in Python.\n",
    "\n",
    "They provide a compact syntax for generating new sequences from existing iterables."
   ]
  },
  {
   "cell_type": "markdown",
   "id": "25581984",
   "metadata": {},
   "source": [
    "### List Comprehension\n",
    "List comprehensions allow you to create lists in a single line. They are often used for mapping or filtering data.\n",
    "\n",
    "**Syntax:** `[expression for item in iterable if condition]`"
   ]
  },
  {
   "cell_type": "code",
   "execution_count": null,
   "id": "8f4aeba7",
   "metadata": {},
   "outputs": [],
   "source": [
    "# Generate a list of squares of even numbers from 1 to 10\n",
    "list_comp = [x * x for x in range(1, 11) if x % 2 == 0]\n",
    "print(list_comp)\n",
    "print(type(list_comp))"
   ]
  },
  {
   "cell_type": "markdown",
   "id": "61d12d58",
   "metadata": {},
   "source": [
    "### Set Comprehension\n",
    "Set comprehensions are similar to list comprehensions but use curly braces `{}`.\n",
    "They automatically remove duplicate values and produce a `set`."
   ]
  },
  {
   "cell_type": "code",
   "execution_count": null,
   "id": "9b20c2c0",
   "metadata": {},
   "outputs": [],
   "source": [
    "s = {x * x for x in range(1, 11)}\n",
    "print(s)\n",
    "print(type(s))"
   ]
  },
  {
   "cell_type": "markdown",
   "id": "5547e662",
   "metadata": {},
   "source": [
    "### Dictionary Comprehension\n",
    "Dictionary comprehensions help create dictionaries quickly by transforming or filtering key–value pairs.\n",
    "\n",
    "**Syntax:** `{key_expression: value_expression for item in iterable}`"
   ]
  },
  {
   "cell_type": "code",
   "execution_count": null,
   "id": "9962e090",
   "metadata": {},
   "outputs": [],
   "source": [
    "d3 = {'stock': 8, 'saving': 4}\n",
    "for k, v in d3.items():\n",
    "    print(k, '-', v)\n",
    "\n",
    "d4 = {key: value * 2 for key, value in d3.items()}\n",
    "print(d4)"
   ]
  },
  {
   "cell_type": "markdown",
   "id": "0c4d502e",
   "metadata": {},
   "source": [
    "### Tuple Comprehensions → Actually Generators\n",
    "Python does **not** support tuple comprehensions directly.\n",
    "When you use parentheses `()` instead of brackets, it creates a **generator expression** instead of a tuple.\n",
    "\n",
    "Generators are iterators that produce items on demand, saving memory."
   ]
  },
  {
   "cell_type": "code",
   "execution_count": null,
   "id": "52fe869b",
   "metadata": {},
   "outputs": [],
   "source": [
    "# Tuple comprehension behaves like a generator\n",
    "expr = (x * x for x in range(1, 6))\n",
    "print(expr)\n",
    "print(type(expr))\n",
    "\n",
    "# Convert generator to tuple to view results\n",
    "tuple_result = tuple(expr)\n",
    "print(tuple_result)\n",
    "print(type(tuple_result))"
   ]
  },
  {
   "cell_type": "markdown",
   "id": "e68b5365",
   "metadata": {},
   "source": [
    "### Summary\n",
    "- **List Comprehension:** `[ ]` → Creates a list.\n",
    "- **Set Comprehension:** `{ }` → Creates a set (removes duplicates).\n",
    "- **Dictionary Comprehension:** `{key: value}` → Creates a dictionary.\n",
    "- **Tuple Comprehension:** Not supported; creates a **generator expression** instead.\n",
    "\n",
    "Comprehensions improve code readability and performance when working with iterable data."
   ]
  }
 ],
 "metadata": {},
 "nbformat": 4,
 "nbformat_minor": 5
}