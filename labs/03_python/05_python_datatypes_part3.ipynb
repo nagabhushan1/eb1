{
 "cells": [
  {
   "cell_type": "markdown",
   "id": "c85cbec2",
   "metadata": {},
   "source": [
    "### Range\n",
    "The `range` type represents a sequence of numbers. It is immutable. You can specify start, stop, and step values to generate sequences."
   ]
  },
  {
   "cell_type": "code",
   "execution_count": null,
   "id": "f5a361db",
   "metadata": {},
   "outputs": [],
   "source": [
    "print(range(10))  # Generate numbers from 0 to 9\n",
    "\n",
    "r1 = range(10)\n",
    "for n in r1:\n",
    "    print(n)\n",
    "\n",
    "r2 = range(10, 20)\n",
    "for n in r2:\n",
    "    print(n)\n",
    "\n",
    "r3 = range(10, 20, 2)\n",
    "for n in r3:\n",
    "    print(n)\n",
    "\n",
    "print(type(r3))\n",
    "print(r3[1])\n",
    "\n",
    "# Uncommenting below will raise IndexError\n",
    "# print(r3[100])\n",
    "\n",
    "# Uncommenting below will raise TypeError\n",
    "# r3[1] = 200\n",
    "\n",
    "l1 = list(range(10))\n",
    "print(l1)\n",
    "print(type(l1))"
   ]
  },
  {
   "cell_type": "markdown",
   "id": "3e568762",
   "metadata": {},
   "source": [
    "### List\n",
    "A `list` is used to represent a group of values. Lists preserve insertion order, allow heterogeneous elements, and are mutable (values can be changed). Lists support both positive and negative indexing."
   ]
  },
  {
   "cell_type": "code",
   "execution_count": null,
   "id": "3ce9baff",
   "metadata": {},
   "outputs": [],
   "source": [
    "l2 = [1, 2, \"Hello\", \"Python\", 5]\n",
    "print(l2)\n",
    "print(type(l2))\n",
    "print(id(l2))\n",
    "\n",
    "print(l2[0])\n",
    "print(type(l2[0]))\n",
    "print(id(l2[0]))\n",
    "\n",
    "l2[0] = 'Modified Value'\n",
    "print(l2[0])\n",
    "print(type(l2[0]))\n",
    "print(id(l2[0]))\n",
    "print(l2)\n",
    "print(type(l2))\n",
    "print(id(l2))\n",
    "\n",
    "l3 = l2\n",
    "print(l3)\n",
    "print(l2 is l3)\n",
    "\n",
    "l4 = l3 * 2\n",
    "print(l4)\n",
    "\n",
    "l5 = l4 + l3\n",
    "print(l5)"
   ]
  },
  {
   "cell_type": "markdown",
   "id": "032f7df7",
   "metadata": {},
   "source": [
    "### Tuple\n",
    "A `tuple` is similar to a list, but it is immutable. Once created, its elements cannot be changed."
   ]
  },
  {
   "cell_type": "code",
   "execution_count": null,
   "id": "7fc369ab",
   "metadata": {},
   "outputs": [],
   "source": [
    "t1 = (1, 2, \"Hello\", \"Python\", 5)\n",
    "print(t1)\n",
    "print(type(t1))\n",
    "\n",
    "# Uncommenting below will raise TypeError\n",
    "# t1[0] = 'Modified Value'"
   ]
  },
  {
   "cell_type": "markdown",
   "id": "58a70db3",
   "metadata": {},
   "source": [
    "### Dictionary\n",
    "A `dict` represents data as key-value pairs. Keys must be unique and immutable. Values can be updated."
   ]
  },
  {
   "cell_type": "code",
   "execution_count": null,
   "id": "3aa21ab2",
   "metadata": {},
   "outputs": [],
   "source": [
    "d1 = {'R': 'Red', 'B': 'Blue'}\n",
    "print(d1)\n",
    "print(type(d1))\n",
    "\n",
    "d1['G'] = 'Green'\n",
    "print(d1)\n",
    "print(type(d1))"
   ]
  },
  {
   "cell_type": "markdown",
   "id": "64afb370",
   "metadata": {},
   "source": [
    "### Set\n",
    "A `set` is an unordered collection of unique elements. Sets do not allow duplicates, preserve no order, and do not support indexing. They are mutable and growable."
   ]
  },
  {
   "cell_type": "code",
   "execution_count": null,
   "id": "f6aa04c4",
   "metadata": {},
   "outputs": [],
   "source": [
    "s1 = {100, 0, 100, 10, 'Hello'}\n",
    "print(s1)\n",
    "print(type(s1))\n",
    "\n",
    "# Uncommenting below will raise TypeError\n",
    "# print(s1[0])\n",
    "\n",
    "s1.add(25)\n",
    "print(s1)"
   ]
  },
  {
   "cell_type": "markdown",
   "id": "b2f47cad",
   "metadata": {},
   "source": [
    "### Frozenset\n",
    "A `frozenset` is similar to a set but immutable. It does not allow adding or removing elements after creation."
   ]
  },
  {
   "cell_type": "code",
   "execution_count": null,
   "id": "faed6a36",
   "metadata": {},
   "outputs": [],
   "source": [
    "s2 = frozenset({100, 0, 100, 10, 'Hello'})\n",
    "print(s2)\n",
    "print(type(s2))\n",
    "\n",
    "# Uncommenting below will raise TypeError\n",
    "# print(s2[2])\n",
    "\n",
    "# Uncommenting below will raise AttributeError\n",
    "# s2.add(25)"
   ]
  },
  {
   "cell_type": "markdown",
   "id": "c53ad1fd",
   "metadata": {},
   "source": [
    "### NoneType\n",
    "The `None` type represents the absence of a value. It is often used as a placeholder or default value in functions."
   ]
  },
  {
   "cell_type": "code",
   "execution_count": null,
   "id": "1f4e3c2a",
   "metadata": {},
   "outputs": [],
   "source": [
    "# Example 1: Assigning None to a variable\n",
    "x = None\n",
    "print(x)\n",
    "print(type(x))\n",
    "\n",
    "# Example 2: Function returning None\n",
    "def greet():\n",
    "    print(\"Hello!\")\n",
    "\n",
    "result = greet()\n",
    "print(result)\n",
    "print(type(result))"
   ]
  },
  {
   "cell_type": "markdown",
   "id": "aeb8534f",
   "metadata": {},
   "source": [
    "### Key Takeaways\n",
    "- **Range**: Immutable sequence of numbers.\n",
    "- **List**: Mutable, ordered collection that allows heterogeneous elements.\n",
    "- **Tuple**: Immutable ordered collection.\n",
    "- **Dictionary**: Key-value mapping, keys must be unique.\n",
    "- **Set**: Mutable collection of unique, unordered elements.\n",
    "- **Frozenset**: Immutable version of a set.\n",
    "- **NoneType**: Represents absence of a value, commonly used as default or placeholder."
   ]
  }
 ],
 "metadata": {},
 "nbformat": 4,
 "nbformat_minor": 5
}