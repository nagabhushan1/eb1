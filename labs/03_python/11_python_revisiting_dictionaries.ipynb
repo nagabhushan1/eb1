{
 "cells": [
  {
   "cell_type": "markdown",
   "id": "b2b8b3e9",
   "metadata": {},
   "source": [
    "### Revisiting Dictionaries\n",
    "Dictionaries in Python are collections of key-value pairs. They are created using curly braces `{}` or the `dict()` constructor."
   ]
  },
  {
   "cell_type": "code",
   "execution_count": null,
   "id": "a9b14f27",
   "metadata": {},
   "outputs": [],
   "source": [
    "d1 = {}\n",
    "print(d1)\n",
    "print(type(d1))\n",
    "\n",
    "\n",
    "d2 = dict()\n",
    "print(d2)\n",
    "print(type(d2))"
   ]
  },
  {
   "cell_type": "markdown",
   "id": "c1179746",
   "metadata": {},
   "source": [
    "### Adding and Updating Values\n",
    "You can add new key-value pairs or update existing ones by assigning values to keys."
   ]
  },
  {
   "cell_type": "code",
   "execution_count": null,
   "id": "2f7528dd",
   "metadata": {},
   "outputs": [],
   "source": [
    "d2 = dict()\n",
    "d2['stock'] = 8\n",
    "d2['savings'] = 5\n",
    "print(d2)"
   ]
  },
  {
   "cell_type": "markdown",
   "id": "1006453e",
   "metadata": {},
   "source": [
    "### Copying and Clearing\n",
    "- `copy()` creates a shallow copy of the dictionary.\n",
    "- `clear()` removes all items from the dictionary.\n",
    "- `del` deletes the dictionary object entirely."
   ]
  },
  {
   "cell_type": "code",
   "execution_count": null,
   "id": "5fa4dd57",
   "metadata": {},
   "outputs": [],
   "source": [
    "d3 = d2.copy()\n",
    "d2.clear()\n",
    "print(d2)\n",
    "\n",
    "del d2\n",
    "# Uncommenting below will raise NameError because d2 is deleted\n",
    "# print(d2)\n",
    "\n",
    "print(d3)"
   ]
  },
  {
   "cell_type": "markdown",
   "id": "0a0656a4",
   "metadata": {},
   "source": [
    "### Dictionary Views\n",
    "Dictionaries provide views of their keys and values using `.keys()` and `.values()`."
   ]
  },
  {
   "cell_type": "code",
   "execution_count": null,
   "id": "7059663a",
   "metadata": {},
   "outputs": [],
   "source": [
    "print(d3.keys())\n",
    "print(d3.values())"
   ]
  },
  {
   "cell_type": "markdown",
   "id": "5b15ab1c",
   "metadata": {},
   "source": [
    "### Iterating Over Items\n",
    "The `.items()` method returns key-value pairs, which can be iterated over in a loop."
   ]
  },
  {
   "cell_type": "code",
   "execution_count": null,
   "id": "51d6f539",
   "metadata": {},
   "outputs": [],
   "source": [
    "for k, v in d3.items():\n",
    "    print(k, \"-\", v)"
   ]
  },
  {
   "cell_type": "markdown",
   "id": "2753cf15",
   "metadata": {},
   "source": [
    "### Key Takeaways\n",
    "- Dictionaries store data as key-value pairs.\n",
    "- They can be created with `{}` or `dict()`.\n",
    "- Use assignment to add or update values.\n",
    "- `copy()` creates a duplicate, `clear()` empties a dictionary, and `del` removes it completely.\n",
    "- `.keys()` and `.values()` provide views of dictionary contents.\n",
    "- `.items()` allows iteration over key-value pairs."
   ]
  }
 ],
 "metadata": {},
 "nbformat": 4,
 "nbformat_minor": 5
}