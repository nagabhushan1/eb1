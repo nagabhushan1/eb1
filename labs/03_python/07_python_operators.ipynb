{
 "cells": [
  {
   "cell_type": "markdown",
   "id": "131c6cba",
   "metadata": {},
   "source": [
    "### Arithmetic Operators\n",
    "Arithmetic operators in Python include `+`, `-`, `*`, `/`, `//`, `%`, and `**`.\n",
    "\n",
    "- `/` (division) always returns a float value.\n",
    "- `//` (floor division) performs integer division if both operands are integers, otherwise returns a float."
   ]
  },
  {
   "cell_type": "code",
   "execution_count": null,
   "id": "5067e46e",
   "metadata": {},
   "outputs": [],
   "source": [
    "a = 10\n",
    "b = 2\n",
    "print('a+b', a+b)\n",
    "print('a-b', a-b)\n",
    "print('a*b', a*b)\n",
    "print('a/b', a/b)\n",
    "print('a//b', a//b)\n",
    "print('a%b', a%b)\n",
    "print('a**b', a**b)"
   ]
  },
  {
   "cell_type": "markdown",
   "id": "f38dd8ed",
   "metadata": {},
   "source": [
    "### Relational Operators\n",
    "Relational operators compare values: `>`, `>=`, `<`, `<=`.\n",
    "They return `True` or `False`."
   ]
  },
  {
   "cell_type": "code",
   "execution_count": null,
   "id": "be6e421e",
   "metadata": {},
   "outputs": [],
   "source": [
    "a = 10\n",
    "b = 20\n",
    "print('a>b', a>b)\n",
    "print('a>=b', a>=b)\n",
    "print('a<b', a<b)\n",
    "print('a<=b', a<=b)"
   ]
  },
  {
   "cell_type": "markdown",
   "id": "838b85de",
   "metadata": {},
   "source": [
    "### Relational Operators on Strings\n",
    "When used with strings, comparisons are made lexicographically (character by character using ASCII values)."
   ]
  },
  {
   "cell_type": "code",
   "execution_count": null,
   "id": "04aa108e",
   "metadata": {},
   "outputs": [],
   "source": [
    "a = \"Hello\"\n",
    "b = \"hello\"\n",
    "print('a>b', a>b)\n",
    "print('a>=b', a>=b)\n",
    "print('a<b', a<b)\n",
    "print('a<=b', a<=b)"
   ]
  },
  {
   "cell_type": "markdown",
   "id": "d264355a",
   "metadata": {},
   "source": [
    "### Relational Operator Chaining\n",
    "Multiple comparisons can be chained. The overall result is `True` only if all comparisons are true."
   ]
  },
  {
   "cell_type": "code",
   "execution_count": null,
   "id": "b7c19bd0",
   "metadata": {},
   "outputs": [],
   "source": [
    "print(10 < 20 < 30)\n",
    "print(10 < 20 > 30)"
   ]
  },
  {
   "cell_type": "markdown",
   "id": "ae18b115",
   "metadata": {},
   "source": [
    "### Equality Operators\n",
    "Equality operators include `==` and `!=`. They compare values for equality or inequality."
   ]
  },
  {
   "cell_type": "code",
   "execution_count": null,
   "id": "8681f9a0",
   "metadata": {},
   "outputs": [],
   "source": [
    "print(10 == 20)\n",
    "print(10 != 20)\n",
    "print(10 == 20 == 30)"
   ]
  },
  {
   "cell_type": "markdown",
   "id": "e8157340",
   "metadata": {},
   "source": [
    "### Logical Operators\n",
    "Logical operators include `and`, `or`, and `not`. They operate on boolean values."
   ]
  },
  {
   "cell_type": "code",
   "execution_count": null,
   "id": "001210dc",
   "metadata": {},
   "outputs": [],
   "source": [
    "print(True and False)\n",
    "print(True or False)\n",
    "print(not False)"
   ]
  },
  {
   "cell_type": "markdown",
   "id": "5ff8e503",
   "metadata": {},
   "source": [
    "### Bitwise Operators\n",
    "Bitwise operators perform operations at the bit level. They include `&`, `|`, `^`, `~`, `<<`, and `>>`."
   ]
  },
  {
   "cell_type": "code",
   "execution_count": null,
   "id": "41434480",
   "metadata": {},
   "outputs": [],
   "source": [
    "print()  # AND\n",
    "print(1 & 1)\n",
    "print(1 & 0)\n",
    "print(0 & 1)\n",
    "print(0 & 0)\n",
    "\n",
    "print()  # OR\n",
    "print(1 | 1)\n",
    "print(1 | 0)\n",
    "print(0 | 1)\n",
    "print(0 | 0)\n",
    "\n",
    "print()  # XOR\n",
    "print(1 ^ 1)\n",
    "print(1 ^ 0)\n",
    "print(0 ^ 1)\n",
    "print(0 ^ 0)"
   ]
  },
  {
   "cell_type": "markdown",
   "id": "e4e2fd16",
   "metadata": {},
   "source": [
    "### Assignment Operators\n",
    "Assignment operators assign values to variables. They include simple assignment `=` and compound assignment operators like `+=`, `-=`, `*=`, `/=`, `%=`, `//=`, and `**=`."
   ]
  },
  {
   "cell_type": "code",
   "execution_count": null,
   "id": "9433d462",
   "metadata": {},
   "outputs": [],
   "source": [
    "x = 10\n",
    "print(x)\n",
    "\n",
    "x = x + 30\n",
    "print(x)\n",
    "\n",
    "x += 30\n",
    "print(x)\n",
    "\n",
    "x //= 7\n",
    "print(x)\n",
    "\n",
    "x **= 3\n",
    "print(x)"
   ]
  },
  {
   "cell_type": "markdown",
   "id": "b0b273c5",
   "metadata": {},
   "source": [
    "### Identity Operators\n",
    "Identity operators `is` and `is not` compare object identities (memory addresses)."
   ]
  },
  {
   "cell_type": "code",
   "execution_count": null,
   "id": "dd4f4628",
   "metadata": {},
   "outputs": [],
   "source": [
    "a = 50\n",
    "print(a)\n",
    "print(id(a))\n",
    "\n",
    "b = 50\n",
    "print(b)\n",
    "print(id(b))\n",
    "\n",
    "print(a is b)\n",
    "print(a is not b)"
   ]
  },
  {
   "cell_type": "markdown",
   "id": "7675356b",
   "metadata": {},
   "source": [
    "### Membership Operators\n",
    "Membership operators `in` and `not in` check whether a value exists in a sequence such as a string, list, or tuple."
   ]
  },
  {
   "cell_type": "code",
   "execution_count": null,
   "id": "21c5f83a",
   "metadata": {},
   "outputs": [],
   "source": [
    "str1 = \"Learning Python is fun\"\n",
    "print(\"fun\" in str1)\n",
    "\n",
    "list1 = [1, 2, 3, 4]\n",
    "if 3 in list1:\n",
    "    print('found')\n",
    "else:\n",
    "    print('not found')"
   ]
  },
  {
   "cell_type": "markdown",
   "id": "33641bd9",
   "metadata": {},
   "source": [
    "### Ternary Operator\n",
    "The ternary operator provides a shorthand way of writing conditional expressions in the form: `x = value_if_true if condition else value_if_false`."
   ]
  },
  {
   "cell_type": "code",
   "execution_count": null,
   "id": "7b88dfee",
   "metadata": {},
   "outputs": [],
   "source": [
    "a = 10\n",
    "b = 20\n",
    "c = 30 if a > b else 40\n",
    "print(c)"
   ]
  },
  {
   "cell_type": "markdown",
   "id": "7c8d8a67",
   "metadata": {},
   "source": [
    "### Operator Precedence\n",
    "Operator precedence determines the order in which operators are evaluated. Parentheses can be used to override precedence."
   ]
  },
  {
   "cell_type": "code",
   "execution_count": null,
   "id": "13d440eb",
   "metadata": {},
   "outputs": [],
   "source": [
    "a = 30; b = 20; c = 10; d = 5\n",
    "print(a+b*c-d)\n",
    "print((a+b)*c-d)\n",
    "print(a+b*(c-d))\n",
    "print(a+(b*c)-d)\n",
    "print((a+b)*(c-d))\n",
    "print(a+(b*c)/d)\n",
    "print(a+(b*c)//d)\n",
    "print((a+b*c)/d)\n",
    "print((a+b)*c/d)\n",
    "print((a+b)*(c/d))\n",
    "print((a+b)*c/d)\n",
    "\n",
    "print(3/2*4+3+(10/5)**3-2)"
   ]
  },
  {
   "cell_type": "markdown",
   "id": "39bcf334",
   "metadata": {},
   "source": [
    "### Key Takeaways\n",
    "- **Arithmetic Operators** perform mathematical operations.\n",
    "- **Relational Operators** compare values, including lexicographic string comparisons.\n",
    "- **Equality Operators** check if values are equal or not.\n",
    "- **Logical Operators** combine boolean values.\n",
    "- **Bitwise Operators** work at the binary level.\n",
    "- **Assignment Operators** assign and update values.\n",
    "- **Identity Operators** compare memory addresses.\n",
    "- **Membership Operators** test for membership in a sequence.\n",
    "- **Ternary Operator** provides inline conditional assignment.\n",
    "- **Operator Precedence** determines the order of evaluation."
   ]
  }
 ],
 "metadata": {},
 "nbformat": 4,
 "nbformat_minor": 5
}