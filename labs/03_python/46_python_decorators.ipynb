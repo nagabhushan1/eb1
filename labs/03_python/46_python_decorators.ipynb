{
 "cells": [
  {
   "cell_type": "markdown",
   "id": "73bb5e5c",
   "metadata": {},
   "source": [
    "\n",
    "# Understanding `*args` and `**kwargs` in Python\n",
    "\n",
    "This notebook explains `*args` and `**kwargs` with simple, **clear**, and **practical** examples.\n"
   ]
  },
  {
   "cell_type": "markdown",
   "id": "ee0dab3e",
   "metadata": {},
   "source": [
    "\n",
    "## Example 1: Using `*args` — Flexible Positional Arguments\n",
    "\n",
    "`*args` allows a function to accept **any number of positional arguments**.  \n",
    "All arguments are received as a tuple inside the function.\n"
   ]
  },
  {
   "cell_type": "code",
   "execution_count": null,
   "id": "3c62b7f4",
   "metadata": {},
   "outputs": [],
   "source": [
    "\n",
    "def add_numbers(*args):\n",
    "    total = 0\n",
    "    for num in args:\n",
    "        total += num\n",
    "    return total\n",
    "\n",
    "print(add_numbers(5, 10))\n",
    "print(add_numbers(1, 2, 3, 4, 5))\n"
   ]
  },
  {
   "cell_type": "markdown",
   "id": "52e0ec43",
   "metadata": {},
   "source": [
    "\n",
    "## Example 2: Mixing Fixed Arguments with `*args`\n",
    "\n",
    "You can use a required argument followed by `*args` to handle variable inputs.\n"
   ]
  },
  {
   "cell_type": "code",
   "execution_count": null,
   "id": "e54d561f",
   "metadata": {},
   "outputs": [],
   "source": [
    "\n",
    "def greet_people(greeting, *names):\n",
    "    for name in names:\n",
    "        print(f\"{greeting}, {name}!\")\n",
    "\n",
    "greet_people(\"Hello\", \"Alice\", \"Bob\", \"Charlie\")\n"
   ]
  },
  {
   "cell_type": "markdown",
   "id": "4288844d",
   "metadata": {},
   "source": [
    "\n",
    "## Example 3: Using `**kwargs` — Flexible Keyword Arguments\n",
    "\n",
    "`**kwargs` allows a function to accept **any number of keyword arguments** as a dictionary.\n"
   ]
  },
  {
   "cell_type": "code",
   "execution_count": null,
   "id": "e59298ab",
   "metadata": {},
   "outputs": [],
   "source": [
    "\n",
    "def show_profile(**kwargs):\n",
    "    for key, value in kwargs.items():\n",
    "        print(f\"{key}: {value}\")\n",
    "\n",
    "show_profile(name=\"John\", role=\"Trainer\", skill=\"Python\")\n"
   ]
  },
  {
   "cell_type": "markdown",
   "id": "8f84b05f",
   "metadata": {},
   "source": [
    "\n",
    "## Example 4: Combining `*args` and `**kwargs`\n",
    "\n",
    "You can use both together when you need to handle **variable positional and keyword arguments**.\n"
   ]
  },
  {
   "cell_type": "code",
   "execution_count": null,
   "id": "4ed02c36",
   "metadata": {},
   "outputs": [],
   "source": [
    "\n",
    "def order_summary(*items, **details):\n",
    "    print(\"Items Ordered:\", items)\n",
    "    print(\"Order Details:\", details)\n",
    "\n",
    "order_summary(\"Pizza\", \"Pasta\", name=\"Alex\", payment=\"Card\", address=\"London\")\n"
   ]
  },
  {
   "cell_type": "markdown",
   "id": "12fca97e",
   "metadata": {},
   "source": [
    "\n",
    "## Example 5: Passing `*args` and `**kwargs` to Another Function\n",
    "\n",
    "You can forward arguments from one function to another using unpacking.\n"
   ]
  },
  {
   "cell_type": "code",
   "execution_count": null,
   "id": "94ee5851",
   "metadata": {},
   "outputs": [],
   "source": [
    "\n",
    "def display_info(name, age, city):\n",
    "    print(f\"{name} is {age} years old and lives in {city}.\")\n",
    "\n",
    "def unpack_and_display(*args, **kwargs):\n",
    "    display_info(*args, **kwargs)\n",
    "\n",
    "unpack_and_display(\"Emma\", 28, city=\"New York\")\n"
   ]
  },
  {
   "cell_type": "markdown",
   "id": "39f565b1",
   "metadata": {},
   "source": [
    "\n",
    "## Summary\n",
    "\n",
    "| Use Case | Syntax | Type | Example |\n",
    "|-----------|---------|------|----------|\n",
    "| Variable number of positional args | `*args` | Tuple | `def f(*args):` |\n",
    "| Variable number of keyword args | `**kwargs` | Dict | `def f(**kwargs):` |\n",
    "| Both together | `def f(*args, **kwargs)` | Mixed | Flexible APIs |\n"
   ]
  },
  {
   "cell_type": "markdown",
   "id": "88555092",
   "metadata": {},
   "source": [
    "\n",
    "# Understanding Decorators in Python\n",
    "\n",
    "Decorators are a way to **modify or extend the behavior** of a function without changing its actual code.  \n",
    "They take one function and return another function.\n"
   ]
  },
  {
   "cell_type": "markdown",
   "id": "0921b639",
   "metadata": {},
   "source": [
    "\n",
    "## Example 1: Basic Decorator\n",
    "\n",
    "A simple decorator that prints messages before and after the execution of a function.\n"
   ]
  },
  {
   "cell_type": "code",
   "execution_count": null,
   "id": "262d26ff",
   "metadata": {},
   "outputs": [],
   "source": [
    "\n",
    "def simple_decorator(func):\n",
    "    def wrapper():\n",
    "        print(\"Before the function is called.\")\n",
    "        func()\n",
    "        print(\"After the function is called.\")\n",
    "    return wrapper\n",
    "\n",
    "@simple_decorator\n",
    "def say_hello():\n",
    "    print(\"Hello, World!\")\n",
    "\n",
    "say_hello()\n"
   ]
  },
  {
   "cell_type": "markdown",
   "id": "65d430d5",
   "metadata": {},
   "source": [
    "\n",
    "## Example 2: Decorator with `*args` and `**kwargs`\n",
    "\n",
    "This decorator works with functions that have parameters of any kind.\n"
   ]
  },
  {
   "cell_type": "code",
   "execution_count": null,
   "id": "b0553b27",
   "metadata": {},
   "outputs": [],
   "source": [
    "\n",
    "def smart_decorator(func):\n",
    "    def wrapper(*args, **kwargs):\n",
    "        print(\"Function arguments:\", args, kwargs)\n",
    "        result = func(*args, **kwargs)\n",
    "        print(\"Function executed successfully.\")\n",
    "        return result\n",
    "    return wrapper\n",
    "\n",
    "@smart_decorator\n",
    "def greet_person(name, age):\n",
    "    print(f\"Hello {name}, you are {age} years old.\")\n",
    "\n",
    "greet_person(\"Emma\", 28)\n"
   ]
  },
  {
   "cell_type": "markdown",
   "id": "34ef36b9",
   "metadata": {},
   "source": [
    "\n",
    "## Example 3: Returning Values from a Decorated Function\n",
    "\n",
    "Decorators can also modify or return results from the wrapped function.\n"
   ]
  },
  {
   "cell_type": "code",
   "execution_count": null,
   "id": "5653e957",
   "metadata": {},
   "outputs": [],
   "source": [
    "\n",
    "def double_result(func):\n",
    "    def wrapper(*args, **kwargs):\n",
    "        result = func(*args, **kwargs)\n",
    "        return result * 2\n",
    "    return wrapper\n",
    "\n",
    "@double_result\n",
    "def add(a, b):\n",
    "    return a + b\n",
    "\n",
    "print(add(5, 10))\n"
   ]
  },
  {
   "cell_type": "markdown",
   "id": "2c0e6ef9",
   "metadata": {},
   "source": [
    "\n",
    "## Example 4: Stacking Multiple Decorators\n",
    "\n",
    "You can apply multiple decorators on a single function — they are applied from **bottom to top**.\n"
   ]
  },
  {
   "cell_type": "code",
   "execution_count": null,
   "id": "2341bf76",
   "metadata": {},
   "outputs": [],
   "source": [
    "\n",
    "def bold_decorator(func):\n",
    "    def wrapper():\n",
    "        return f\"<b>{func()}</b>\"\n",
    "    return wrapper\n",
    "\n",
    "def italic_decorator(func):\n",
    "    def wrapper():\n",
    "        return f\"<i>{func()}</i>\"\n",
    "    return wrapper\n",
    "\n",
    "@bold_decorator\n",
    "@italic_decorator\n",
    "def formatted_text():\n",
    "    return \"Decorators are powerful!\"\n",
    "\n",
    "print(formatted_text())\n"
   ]
  },
  {
   "cell_type": "markdown",
   "id": "3e73cb2f",
   "metadata": {},
   "source": [
    "\n",
    "## Example 5: Using Decorators in Real Scenarios (Logging Example)\n",
    "\n",
    "A practical use case — logging function calls.\n"
   ]
  },
  {
   "cell_type": "code",
   "execution_count": null,
   "id": "8b87cf94",
   "metadata": {},
   "outputs": [],
   "source": [
    "\n",
    "def log_decorator(func):\n",
    "    def wrapper(*args, **kwargs):\n",
    "        print(f\"Calling function: {func.__name__}\")\n",
    "        result = func(*args, **kwargs)\n",
    "        print(f\"Completed function: {func.__name__}\")\n",
    "        return result\n",
    "    return wrapper\n",
    "\n",
    "@log_decorator\n",
    "def multiply(a, b):\n",
    "    print(f\"Multiplying {a} * {b}\")\n",
    "    return a * b\n",
    "\n",
    "print(multiply(6, 7))\n"
   ]
  },
  {
   "cell_type": "markdown",
   "id": "66b554be",
   "metadata": {},
   "source": [
    "\n",
    "## Summary\n",
    "\n",
    "Decorators let you:\n",
    "- Add functionality without modifying the original function.\n",
    "- Reuse behavior across multiple functions.\n",
    "- Use with or without parameters (`*args`, `**kwargs`).\n",
    "- Stack multiple decorators for layered behavior.\n",
    "\n",
    "**Common use cases:** Logging, authentication, measuring execution time, and enforcing rules.\n"
   ]
  }
 ],
 "metadata": {},
 "nbformat": 4,
 "nbformat_minor": 5
}
