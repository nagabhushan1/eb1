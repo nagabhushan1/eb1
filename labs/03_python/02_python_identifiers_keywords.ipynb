{
 "cells": [
  {
   "cell_type": "markdown",
   "id": "c7b4faf7",
   "metadata": {},
   "source": [
    "### Identifiers\n",
    "In Python, an **identifier** is the name given to entities such as classes, functions, modules, and variables.\n",
    "\n",
    "**Rules for Identifiers:**\n",
    "- Can include alphabets (lowercase/uppercase), digits (0–9), and underscore `_`.\n",
    "- Cannot start with a digit.\n",
    "- Are case-sensitive.\n",
    "- Keywords cannot be used as identifiers.\n",
    "\n",
    "The following code demonstrates valid and invalid identifiers."
   ]
  },
  {
   "cell_type": "code",
   "execution_count": null,
   "id": "3318234e",
   "metadata": {},
   "outputs": [],
   "source": [
    "a = 10\n",
    "print(a)\n",
    "\n",
    "cash = 500\n",
    "\n",
    "# Invalid identifier: contains special character\n",
    "# ca$h = 500  # SyntaxError\n",
    "\n",
    "total = 1000\n",
    "print(total)\n",
    "\n",
    "TOTAL = 5000\n",
    "print(total)  # 1000\n",
    "print(TOTAL)  # 5000\n",
    "\n",
    "total123 = 4000\n",
    "print(total123)\n",
    "\n",
    "# Invalid identifier: starts with a digit\n",
    "# 123total = 8000  # SyntaxError\n",
    "\n",
    "# Invalid identifier: keyword used as identifier\n",
    "# while = 500  # SyntaxError"
   ]
  },
  {
   "cell_type": "markdown",
   "id": "fd00cb72",
   "metadata": {},
   "source": [
    "### Reserved Keywords\n",
    "Python has a set of **reserved keywords** that cannot be used as identifiers. These words represent predefined functionality in the language.\n",
    "\n",
    "- Python 3.11.x has 35 reserved keywords.\n",
    "- All keywords are lowercase alphabets, except for `True`, `False`, and `None`.\n",
    "\n",
    "The following code lists all keywords available in Python:"
   ]
  },
  {
   "cell_type": "code",
   "execution_count": null,
   "id": "0d94d8ff",
   "metadata": {},
   "outputs": [],
   "source": [
    "import keyword\n",
    "keyword.kwlist"
   ]
  }
 ],
 "metadata": {},
 "nbformat": 4,
 "nbformat_minor": 5
}