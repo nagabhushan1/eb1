{
 "cells": [
  {
   "cell_type": "markdown",
   "id": "228ea08a",
   "metadata": {},
   "source": [
    "## Q1. PasswordManager\n",
    "\n",
    "---\n",
    "\n",
    "### Problem Statement\n",
    "Create a class `PasswordManager` that stores all past passwords in a list `old_passwords`. The last item is the current password. Implement:\n",
    "- `get_password()` → returns current password\n",
    "- `set_password(new_password)` → sets password only if it was never used before\n",
    "- `is_correct(pwd)` → returns True if matches current password"
   ]
  },
  {
   "cell_type": "markdown",
   "id": "86945b23",
   "metadata": {},
   "source": [
    "### Functionality\n",
    "- Maintain history in `old_passwords` (list)\n",
    "- Disallow reuse of any past password\n",
    "- Case-sensitive comparison\n",
    "- Start with an initial password via constructor"
   ]
  },
  {
   "cell_type": "markdown",
   "id": "958aadb8",
   "metadata": {},
   "source": [
    "### Sample Test Case (Visible)\n",
    "```python\n",
    "pm = PasswordManager('pass123')\n",
    "pm.set_password('pass456')\n",
    "print(pm.get_password())  # Expected: pass456\n",
    "print(pm.is_correct('pass456'))  # Expected: True\n",
    "```"
   ]
  },
  {
   "cell_type": "markdown",
   "id": "d3f17ddc",
   "metadata": {},
   "source": [
    "### Hidden Test Cases (Examples)\n",
    "```python\n",
    "pm = PasswordManager('A1!a1!')\n",
    "pm.set_password('A1!a1!')  # reuse rejected\n",
    "print(pm.get_password())  # A1!a1!\n",
    "print(pm.is_correct('x'))  # False\n",
    "```\n",
    "---"
   ]
  },
  {
   "cell_type": "code",
   "execution_count": null,
   "id": "baede313",
   "metadata": {},
   "outputs": [],
   "source": [
    "class PasswordManager:\n",
    "    def __init__(self, initial_password):\n",
    "        self.old_passwords = [initial_password]\n",
    "    def get_password(self):\n",
    "        return self.old_passwords[-1]\n",
    "    def set_password(self, new_password):\n",
    "        if new_password in self.old_passwords:\n",
    "            print(\"Password has been used before. Choose a different one.\")\n",
    "            return\n",
    "        self.old_passwords.append(new_password)\n",
    "        print(\"Password updated successfully.\")\n",
    "    def is_correct(self, password):\n",
    "        return password == self.get_password()"
   ]
  },
  {
   "cell_type": "code",
   "execution_count": null,
   "id": "5b4eccbb",
   "metadata": {},
   "outputs": [],
   "source": [
    "pm = PasswordManager('pass123')\n",
    "pm.set_password('pass456')           # Expected print\n",
    "print(pm.get_password())             # Expected: pass456\n",
    "print(pm.is_correct('pass456'))      # Expected: True\n",
    "pm.set_password('pass123')           # Expected reuse rejection"
   ]
  },
  {
   "cell_type": "markdown",
   "id": "c532d5e5",
   "metadata": {},
   "source": [
    "---"
   ]
  },
  {
   "cell_type": "markdown",
   "id": "00d185b1",
   "metadata": {},
   "source": [
    "## Q2. BankAccount\n",
    "\n",
    "---\n",
    "\n",
    "### Problem Statement\n",
    "Create a class `BankAccount` with attributes `account_holder` and `balance`. Implement methods to deposit, withdraw (only if sufficient funds), and get balance."
   ]
  },
  {
   "cell_type": "markdown",
   "id": "3a606039",
   "metadata": {},
   "source": [
    "### Functionality\n",
    "- `deposit(amount)` → add to balance; guard negatives\n",
    "- `withdraw(amount)` → only if balance ≥ amount; else print message\n",
    "- `get_balance()` → return balance\n",
    "- Initialize with holder and optional starting balance (default 0)"
   ]
  },
  {
   "cell_type": "markdown",
   "id": "0a72cf69",
   "metadata": {},
   "source": [
    "### Sample Test Case (Visible)\n",
    "```python\n",
    "acc = BankAccount('John', 5000)\n",
    "acc.deposit(1000)\n",
    "acc.withdraw(2000)\n",
    "print(acc.get_balance())  # Expected: 4000\n",
    "```"
   ]
  },
  {
   "cell_type": "markdown",
   "id": "460f49e6",
   "metadata": {},
   "source": [
    "### Hidden Test Cases (Examples)\n",
    "```python\n",
    "acc = BankAccount('Ravi', 10000)\n",
    "acc.withdraw(12000)  # prints Insufficient balance\n",
    "print(acc.get_balance()) # 10000\n",
    "```\n",
    "---"
   ]
  },
  {
   "cell_type": "code",
   "execution_count": null,
   "id": "7dc9acac",
   "metadata": {},
   "outputs": [],
   "source": [
    "class BankAccount:\n",
    "    def __init__(self, account_holder, balance=0):\n",
    "        self.account_holder = account_holder\n",
    "        self.balance = balance\n",
    "    def deposit(self, amount):\n",
    "        if amount <= 0:\n",
    "            print(\"Deposit amount must be positive.\")\n",
    "            return\n",
    "        self.balance += amount\n",
    "    def withdraw(self, amount):\n",
    "        if amount <= 0:\n",
    "            print(\"Withdraw amount must be positive.\")\n",
    "            return\n",
    "        if amount > self.balance:\n",
    "            print(\"Insufficient balance\")\n",
    "            return\n",
    "        self.balance -= amount\n",
    "    def get_balance(self):\n",
    "        return self.balance"
   ]
  },
  {
   "cell_type": "code",
   "execution_count": null,
   "id": "cdc3751c",
   "metadata": {},
   "outputs": [],
   "source": [
    "acc = BankAccount('John', 5000)\n",
    "acc.deposit(1000)\n",
    "acc.withdraw(2000)\n",
    "print(acc.get_balance())  # Expected: 4000"
   ]
  },
  {
   "cell_type": "markdown",
   "id": "0b11a933",
   "metadata": {},
   "source": [
    "---"
   ]
  },
  {
   "cell_type": "markdown",
   "id": "bcda3862",
   "metadata": {},
   "source": [
    "## Q3. Student Marks & Average\n",
    "\n",
    "---\n",
    "\n",
    "### Problem Statement\n",
    "Create a class `Student` with attributes `name` and `marks` (list). Implement methods to add marks, compute average, and check if the student has passed (average ≥ 40)."
   ]
  },
  {
   "cell_type": "markdown",
   "id": "d2a1e57d",
   "metadata": {},
   "source": [
    "### Functionality\n",
    "- `add_mark(mark)` → append\n",
    "- `average_mark()` → average or 0 if no marks\n",
    "- `is_pass()` → True if avg ≥ 40\n",
    "- Initialize with name and optional mark list"
   ]
  },
  {
   "cell_type": "markdown",
   "id": "6ada8bc1",
   "metadata": {},
   "source": [
    "### Sample Test Case (Visible)\n",
    "```python\n",
    "s1 = Student('Alice', [45, 67, 38])\n",
    "print(s1.average_mark())  # Expected: 50.0\n",
    "print(s1.is_pass())        # Expected: True\n",
    "```"
   ]
  },
  {
   "cell_type": "markdown",
   "id": "b7d98943",
   "metadata": {},
   "source": [
    "### Hidden Test Cases (Examples)\n",
    "```python\n",
    "s2 = Student('Bob', [20, 30, 25])\n",
    "print(s2.average_mark())  # 25.0\n",
    "print(s2.is_pass())       # False\n",
    "```\n",
    "---"
   ]
  },
  {
   "cell_type": "code",
   "execution_count": null,
   "id": "0ed441f3",
   "metadata": {},
   "outputs": [],
   "source": [
    "class Student:\n",
    "    def __init__(self, name, marks=None):\n",
    "        self.name = name\n",
    "        self.marks = list(marks) if marks is not None else []\n",
    "    def add_mark(self, mark):\n",
    "        self.marks.append(mark)\n",
    "    def average_mark(self):\n",
    "        return sum(self.marks)/len(self.marks) if self.marks else 0\n",
    "    def is_pass(self):\n",
    "        return self.average_mark() >= 40"
   ]
  },
  {
   "cell_type": "code",
   "execution_count": null,
   "id": "5081f35f",
   "metadata": {},
   "outputs": [],
   "source": [
    "s1 = Student('Alice', [45, 67, 38])\n",
    "print(s1.average_mark())\n",
    "print(s1.is_pass())"
   ]
  },
  {
   "cell_type": "markdown",
   "id": "208314f3",
   "metadata": {},
   "source": [
    "---"
   ]
  },
  {
   "cell_type": "markdown",
   "id": "6548c37f",
   "metadata": {},
   "source": [
    "## Q4. Employee Salary Increment\n",
    "\n",
    "---\n",
    "\n",
    "### Problem Statement\n",
    "Create a class `Employee` with attributes `emp_id`, `emp_name`, and `salary`. Implement methods to apply increment by percentage and display employee details."
   ]
  },
  {
   "cell_type": "markdown",
   "id": "6229cf12",
   "metadata": {},
   "source": [
    "### Functionality\n",
    "- `apply_increment(percent)` → increase salary by percent (guard negative)\n",
    "- `display()` → print details"
   ]
  },
  {
   "cell_type": "markdown",
   "id": "c105b3a7",
   "metadata": {},
   "source": [
    "### Sample Test Case (Visible)\n",
    "```python\n",
    "e = Employee(101, 'Rahul', 50000)\n",
    "e.apply_increment(10)\n",
    "e.display()  # Expected line with Salary: 55000\n",
    "```"
   ]
  },
  {
   "cell_type": "markdown",
   "id": "e0bc994f",
   "metadata": {},
   "source": [
    "### Hidden Test Cases (Examples)\n",
    "```python\n",
    "e2 = Employee(102, 'Meena', 75000)\n",
    "e2.apply_increment(15)\n",
    "e2.display()  # Salary: 86250\n",
    "```\n",
    "---"
   ]
  },
  {
   "cell_type": "code",
   "execution_count": null,
   "id": "90ea43cb",
   "metadata": {},
   "outputs": [],
   "source": [
    "class Employee:\n",
    "    def __init__(self, emp_id, emp_name, salary):\n",
    "        self.emp_id = emp_id\n",
    "        self.emp_name = emp_name\n",
    "        self.salary = salary\n",
    "    def apply_increment(self, percent):\n",
    "        if percent < 0:\n",
    "            print(\"Invalid increment percentage.\")\n",
    "            return\n",
    "        self.salary += self.salary * (percent / 100)\n",
    "    def display(self):\n",
    "        print(f\"Employee ID: {self.emp_id}, Name: {self.emp_name}, Salary: {int(self.salary)}\")"
   ]
  },
  {
   "cell_type": "code",
   "execution_count": null,
   "id": "15d1de1d",
   "metadata": {},
   "outputs": [],
   "source": [
    "e = Employee(101, 'Rahul', 50000)\n",
    "e.apply_increment(10)\n",
    "e.display()"
   ]
  },
  {
   "cell_type": "markdown",
   "id": "33e759ce",
   "metadata": {},
   "source": [
    "---"
   ]
  },
  {
   "cell_type": "markdown",
   "id": "b5ab604a",
   "metadata": {},
   "source": [
    "## Q5. Book Price Discount\n",
    "\n",
    "---\n",
    "\n",
    "### Problem Statement\n",
    "Create a class `Book` with attributes `title`, `author`, and `price`. Implement methods to apply discount and display details."
   ]
  },
  {
   "cell_type": "markdown",
   "id": "1fc8c39c",
   "metadata": {},
   "source": [
    "### Functionality\n",
    "- `discount(percent)` → reduce price by percent (0–100)\n",
    "- `display()` → print book details with price"
   ]
  },
  {
   "cell_type": "markdown",
   "id": "b83d89ef",
   "metadata": {},
   "source": [
    "### Sample Test Case (Visible)\n",
    "```python\n",
    "b = Book('Wings of Fire', 'A.P.J. Abdul Kalam', 500)\n",
    "b.discount(10)\n",
    "b.display()  # Price: 450.0\n",
    "```"
   ]
  },
  {
   "cell_type": "markdown",
   "id": "2ecce606",
   "metadata": {},
   "source": [
    "### Hidden Test Cases (Examples)\n",
    "```python\n",
    "b2 = Book('Ramayana','Valmiki',800)\n",
    "b2.discount(25)\n",
    "b2.display()  # Price: 600.0\n",
    "```\n",
    "---"
   ]
  },
  {
   "cell_type": "code",
   "execution_count": null,
   "id": "c02ae62d",
   "metadata": {},
   "outputs": [],
   "source": [
    "class Book:\n",
    "    def __init__(self, title, author, price):\n",
    "        self.title = title\n",
    "        self.author = author\n",
    "        self.price = float(price)\n",
    "    def discount(self, percent):\n",
    "        if percent < 0 or percent > 100:\n",
    "            print('Invalid discount percentage.'); return\n",
    "        self.price -= self.price * (percent/100)\n",
    "    def display(self):\n",
    "        print(f\"Title: {self.title}, Author: {self.author}, Price: {self.price:.1f}\")"
   ]
  },
  {
   "cell_type": "code",
   "execution_count": null,
   "id": "18efeacb",
   "metadata": {},
   "outputs": [],
   "source": [
    "b = Book('Wings of Fire', 'A.P.J. Abdul Kalam', 500)\n",
    "b.discount(10)\n",
    "b.display()"
   ]
  },
  {
   "cell_type": "markdown",
   "id": "b8fb87c6",
   "metadata": {},
   "source": [
    "---"
   ]
  },
  {
   "cell_type": "markdown",
   "id": "9ffa13c5",
   "metadata": {},
   "source": [
    "## Q6. Laptop Inventory / Price Update\n",
    "\n",
    "---\n",
    "\n",
    "### Problem Statement\n",
    "Create a class `Laptop` with attributes `brand`, `model`, and `price`. Implement a method to change price by a percent (increase or decrease) and display info."
   ]
  },
  {
   "cell_type": "markdown",
   "id": "3807a76c",
   "metadata": {},
   "source": [
    "### Functionality\n",
    "- `update_price(percent, increase=True)` → adjust price\n",
    "- `display()` → show details"
   ]
  },
  {
   "cell_type": "markdown",
   "id": "19a7546a",
   "metadata": {},
   "source": [
    "### Sample Test Case (Visible)\n",
    "```python\n",
    "l = Laptop('Dell','Inspiron',60000)\n",
    "l.update_price(10)\n",
    "l.display()  # 66000.0\n",
    "```"
   ]
  },
  {
   "cell_type": "markdown",
   "id": "8b0e18a2",
   "metadata": {},
   "source": [
    "### Hidden Test Cases (Examples)\n",
    "```python\n",
    "l2 = Laptop('HP','Pavilion',50000)\n",
    "l2.update_price(20, increase=False)\n",
    "l2.display()  # 40000.0\n",
    "```\n",
    "---"
   ]
  },
  {
   "cell_type": "code",
   "execution_count": null,
   "id": "12cd2262",
   "metadata": {},
   "outputs": [],
   "source": [
    "class Laptop:\n",
    "    def __init__(self, brand, model, price):\n",
    "        self.brand = brand; self.model = model; self.price = float(price)\n",
    "    def update_price(self, percent, increase=True):\n",
    "        if percent < 0: print('Invalid percentage.'); return\n",
    "        if increase: self.price += self.price*(percent/100)\n",
    "        else: self.price -= self.price*(percent/100)\n",
    "    def display(self):\n",
    "        print(f\"Brand: {self.brand}, Model: {self.model}, Price: {self.price:.1f}\")"
   ]
  },
  {
   "cell_type": "code",
   "execution_count": null,
   "id": "ef9c84c1",
   "metadata": {},
   "outputs": [],
   "source": [
    "l = Laptop('Dell','Inspiron',60000)\n",
    "l.update_price(10)\n",
    "l.display()"
   ]
  },
  {
   "cell_type": "markdown",
   "id": "5be1daef",
   "metadata": {},
   "source": [
    "---"
   ]
  },
  {
   "cell_type": "markdown",
   "id": "b0b7f240",
   "metadata": {},
   "source": [
    "## Q7. Point Class – Distance Between Two Points\n",
    "\n",
    "---\n",
    "\n",
    "### Problem Statement\n",
    "Create a class `Point` that represents x,y and can compute distance from origin and distance to another point."
   ]
  },
  {
   "cell_type": "markdown",
   "id": "a6939ccd",
   "metadata": {},
   "source": [
    "### Functionality\n",
    "- `distance_from_origin()`\n",
    "- `distance_between_points(other)`"
   ]
  },
  {
   "cell_type": "markdown",
   "id": "cb16cef4",
   "metadata": {},
   "source": [
    "### Sample Test Case (Visible)\n",
    "```python\n",
    "p1 = Point(3,4)\n",
    "p2 = Point(6,8)\n",
    "```"
   ]
  },
  {
   "cell_type": "markdown",
   "id": "2bbaa46f",
   "metadata": {},
   "source": [
    "### Hidden Test Cases (Examples)\n",
    "```python\n",
    "p1 = Point(0,0)\n",
    "p2 = Point(1,1)  # distance ≈ 1.41\n",
    "```\n",
    "---"
   ]
  },
  {
   "cell_type": "code",
   "execution_count": null,
   "id": "6e420ad4",
   "metadata": {},
   "outputs": [],
   "source": [
    "import math\n",
    "class Point:\n",
    "    def __init__(self, x, y):\n",
    "        self.x=x; self.y=y\n",
    "    def distance_from_origin(self):\n",
    "        return math.hypot(self.x, self.y)\n",
    "    def distance_between_points(self, other):\n",
    "        return math.hypot(self.x-other.x, self.y-other.y)"
   ]
  },
  {
   "cell_type": "code",
   "execution_count": null,
   "id": "bb27c5ed",
   "metadata": {},
   "outputs": [],
   "source": [
    "p1 = Point(3,4); p2 = Point(6,8)\n",
    "print(round(p1.distance_between_points(p2),2))  # Expected: 5.0\n",
    "print(round(p1.distance_from_origin(),2))        # Expected: 5.0"
   ]
  },
  {
   "cell_type": "markdown",
   "id": "017968a7",
   "metadata": {},
   "source": [
    "---"
   ]
  },
  {
   "cell_type": "markdown",
   "id": "7fc4ea22",
   "metadata": {},
   "source": [
    "## Q8. Rectangle – Area & Perimeter\n",
    "\n",
    "---\n",
    "\n",
    "### Problem Statement\n",
    "Create `Rectangle(length,breadth)` with methods `area()` and `perimeter()`."
   ]
  },
  {
   "cell_type": "markdown",
   "id": "d6310330",
   "metadata": {},
   "source": [
    "### Functionality\n",
    "- Compute area and perimeter"
   ]
  },
  {
   "cell_type": "markdown",
   "id": "ff4cef7c",
   "metadata": {},
   "source": [
    "### Sample Test Case (Visible)\n",
    "```python\n",
    "rect = Rectangle(5,3)\n",
    "```"
   ]
  },
  {
   "cell_type": "markdown",
   "id": "e9f8401d",
   "metadata": {},
   "source": [
    "### Hidden Test Cases (Examples)\n",
    "```python\n",
    "rect = Rectangle(10,2)\n",
    "```\n",
    "---"
   ]
  },
  {
   "cell_type": "code",
   "execution_count": null,
   "id": "548ce19b",
   "metadata": {},
   "outputs": [],
   "source": [
    "class Rectangle:\n",
    "    def __init__(self, length, breadth):\n",
    "        self.length=length; self.breadth=breadth\n",
    "    def area(self):\n",
    "        return self.length*self.breadth\n",
    "    def perimeter(self):\n",
    "        return 2*(self.length+self.breadth)"
   ]
  },
  {
   "cell_type": "code",
   "execution_count": null,
   "id": "6ada45fd",
   "metadata": {},
   "outputs": [],
   "source": [
    "rect = Rectangle(5,3)\n",
    "print(rect.area())       # Expected: 15\n",
    "print(rect.perimeter())  # Expected: 16"
   ]
  },
  {
   "cell_type": "markdown",
   "id": "28edfe84",
   "metadata": {},
   "source": [
    "---"
   ]
  },
  {
   "cell_type": "markdown",
   "id": "4ad0adfe",
   "metadata": {},
   "source": [
    "## Q9. Circle – Area & Circumference using π\n",
    "\n",
    "---\n",
    "\n",
    "### Problem Statement\n",
    "Implement `Circle(radius)` with `get_area()` and `get_circumference()` using `math.pi` and round to 2 decimals."
   ]
  },
  {
   "cell_type": "markdown",
   "id": "ad297762",
   "metadata": {},
   "source": [
    "### Functionality\n",
    "- Round to 2 decimals"
   ]
  },
  {
   "cell_type": "markdown",
   "id": "6dafd0e1",
   "metadata": {},
   "source": [
    "### Sample Test Case (Visible)\n",
    "```python\n",
    "c = Circle(5)\n",
    "print(c.get_area()); print(c.get_circumference())  # 78.54, 31.42\n",
    "```"
   ]
  },
  {
   "cell_type": "markdown",
   "id": "dc8a1d4d",
   "metadata": {},
   "source": [
    "### Hidden Test Cases (Examples)\n",
    "```python\n",
    "c = Circle(2.5)  # 19.63, 15.71\n",
    "```\n",
    "---"
   ]
  },
  {
   "cell_type": "code",
   "execution_count": null,
   "id": "aa361942",
   "metadata": {},
   "outputs": [],
   "source": [
    "import math\n",
    "class Circle:\n",
    "    def __init__(self, radius):\n",
    "        self.radius = radius\n",
    "    def get_area(self):\n",
    "        return round(math.pi*self.radius**2,2)\n",
    "    def get_circumference(self):\n",
    "        return round(2*math.pi*self.radius,2)"
   ]
  },
  {
   "cell_type": "code",
   "execution_count": null,
   "id": "4a485e63",
   "metadata": {},
   "outputs": [],
   "source": [
    "c = Circle(5)\n",
    "print(c.get_area())\n",
    "print(c.get_circumference())"
   ]
  },
  {
   "cell_type": "markdown",
   "id": "0364e576",
   "metadata": {},
   "source": [
    "---"
   ]
  },
  {
   "cell_type": "markdown",
   "id": "8d6dc45f",
   "metadata": {},
   "source": [
    "## Q10. Movie Rating / Ticket Price Calculator\n",
    "\n",
    "---\n",
    "\n",
    "### Problem Statement\n",
    "Create `Movie(title, rating, base_price)` and compute price: rating ≥8 → +50; 5–<8 → +20; else −10."
   ]
  },
  {
   "cell_type": "markdown",
   "id": "09806d1d",
   "metadata": {},
   "source": [
    "### Functionality\n",
    "- Return rounded price"
   ]
  },
  {
   "cell_type": "markdown",
   "id": "f36ba6de",
   "metadata": {},
   "source": [
    "### Sample Test Case (Visible)\n",
    "```python\n",
    "m = Movie('Inception', 8.8, 150)\n",
    "print(m.get_ticket_price())  # 200.0\n",
    "```"
   ]
  },
  {
   "cell_type": "markdown",
   "id": "ac7edbc2",
   "metadata": {},
   "source": [
    "### Hidden Test Cases (Examples)\n",
    "```python\n",
    "Movie('Avatar',7.5,120) → 140.0\n",
    "```\n",
    "---"
   ]
  },
  {
   "cell_type": "code",
   "execution_count": null,
   "id": "5b0f268e",
   "metadata": {},
   "outputs": [],
   "source": [
    "class Movie:\n",
    "    def __init__(self, title, rating, base_price):\n",
    "        self.title=title; self.rating=rating; self.base_price=base_price\n",
    "    def get_ticket_price(self):\n",
    "        if self.rating>=8: price=self.base_price+50\n",
    "        elif self.rating>=5: price=self.base_price+20\n",
    "        else: price=self.base_price-10\n",
    "        return round(price,2)"
   ]
  },
  {
   "cell_type": "code",
   "execution_count": null,
   "id": "36d37998",
   "metadata": {},
   "outputs": [],
   "source": [
    "m = Movie('Inception',8.8,150)\n",
    "print(m.get_ticket_price())  # Expected: 200.0"
   ]
  },
  {
   "cell_type": "markdown",
   "id": "cc47e897",
   "metadata": {},
   "source": [
    "---"
   ]
  },
  {
   "cell_type": "markdown",
   "id": "fd1ceaae",
   "metadata": {},
   "source": [
    "## Q11. Password Strength Validator\n",
    "\n",
    "---\n",
    "\n",
    "### Problem Statement\n",
    "Validate password meets all rules: length≥8, has lowercase, uppercase, digit, and special from `!@#$%^&*()-_+=[]{};:'\",.<>/?\\|`."
   ]
  },
  {
   "cell_type": "markdown",
   "id": "9fdd3f44",
   "metadata": {},
   "source": [
    "### Functionality\n",
    "- `PasswordValidator(password).is_strong()` returns True/False"
   ]
  },
  {
   "cell_type": "markdown",
   "id": "654edc25",
   "metadata": {},
   "source": [
    "### Sample Test Case (Visible)\n",
    "```python\n",
    "PasswordValidator('Abc@1234').is_strong()  # True\n",
    "```"
   ]
  },
  {
   "cell_type": "markdown",
   "id": "b9e68ec4",
   "metadata": {},
   "source": [
    "### Hidden Test Cases (Examples)\n",
    "```python\n",
    "PasswordValidator('weak').is_strong()  # False\n",
    "```\n",
    "---"
   ]
  },
  {
   "cell_type": "code",
   "execution_count": null,
   "id": "4a502c8c",
   "metadata": {},
   "outputs": [],
   "source": [
    "class PasswordValidator:\n",
    "    def __init__(self, password):\n",
    "        self.password = password\n",
    "    def is_strong(self):\n",
    "        specials = set(\"!@#$%^&*()-_+=[]{};:'\\\",.<>/?\\\\|\")\n",
    "        return (len(self.password)>=8 and\n",
    "                any(c.islower() for c in self.password) and\n",
    "                any(c.isupper() for c in self.password) and\n",
    "                any(c.isdigit() for c in self.password) and\n",
    "                any(c in specials for c in self.password))"
   ]
  },
  {
   "cell_type": "code",
   "execution_count": null,
   "id": "c585e194",
   "metadata": {},
   "outputs": [],
   "source": [
    "print(PasswordValidator('Abc@1234').is_strong())  # Expected: True\n",
    "print(PasswordValidator('weak').is_strong())       # Expected: False"
   ]
  },
  {
   "cell_type": "markdown",
   "id": "0f46c928",
   "metadata": {},
   "source": [
    "---"
   ]
  },
  {
   "cell_type": "markdown",
   "id": "8a7f973d",
   "metadata": {},
   "source": [
    "## Q12. Account with PIN Verification\n",
    "\n",
    "---\n",
    "\n",
    "### Problem Statement\n",
    "Create `Account(balance=0)` with `set_pin(pin)`, `validate_pin(pin)`, `deposit`, `withdraw(amount,pin)` prints messages, `balance` stored."
   ]
  },
  {
   "cell_type": "markdown",
   "id": "bdc55786",
   "metadata": {},
   "source": [
    "### Functionality\n",
    "- 4-digit int pin 0–9999\n",
    "- Messages: Invalid PIN / Insufficient balance / Amount withdrawn: X"
   ]
  },
  {
   "cell_type": "markdown",
   "id": "ab0f1663",
   "metadata": {},
   "source": [
    "### Sample Test Case (Visible)\n",
    "```python\n",
    "acc = Account(500)\n",
    "acc.set_pin(1234)\n",
    "print(acc.validate_pin(1234))\n",
    "acc.withdraw(200,1234)\n",
    "```"
   ]
  },
  {
   "cell_type": "markdown",
   "id": "78001430",
   "metadata": {},
   "source": [
    "### Hidden Test Cases (Examples)\n",
    "```python\n",
    "acc2 = Account(1000); acc2.set_pin(2222)\n",
    "acc2.withdraw(1500,2222)  # Insufficient balance\n",
    "```\n",
    "---"
   ]
  },
  {
   "cell_type": "code",
   "execution_count": null,
   "id": "2c7ad7a9",
   "metadata": {},
   "outputs": [],
   "source": [
    "class Account:\n",
    "    def __init__(self, balance=0):\n",
    "        self.balance = balance; self._pin=None\n",
    "    def set_pin(self, pin):\n",
    "        if not isinstance(pin,int) or pin<0 or pin>9999:\n",
    "            print('PIN must be a 4-digit integer (0-9999).'); return\n",
    "        self._pin = pin\n",
    "    def validate_pin(self, pin):\n",
    "        return self._pin is not None and pin==self._pin\n",
    "    def deposit(self, amount):\n",
    "        if amount<=0: print('Deposit amount must be positive.'); return\n",
    "        self.balance += amount\n",
    "    def withdraw(self, amount, pin):\n",
    "        if not self.validate_pin(pin): print('Invalid PIN'); return\n",
    "        if amount>self.balance: print('Insufficient balance'); return\n",
    "        self.balance -= amount; print(f'Amount withdrawn: {amount}')"
   ]
  },
  {
   "cell_type": "code",
   "execution_count": null,
   "id": "30b28c3d",
   "metadata": {},
   "outputs": [],
   "source": [
    "acc = Account(500)\n",
    "acc.set_pin(1234)\n",
    "print(acc.validate_pin(1234))  # Expected: True\n",
    "acc.withdraw(200,1234)         # Expected: Amount withdrawn: 200"
   ]
  },
  {
   "cell_type": "markdown",
   "id": "2311570e",
   "metadata": {},
   "source": [
    "---"
   ]
  },
  {
   "cell_type": "markdown",
   "id": "d8b324a6",
   "metadata": {},
   "source": [
    "## Q13. List Shallow Copy vs Deep Copy using Classes\n",
    "\n",
    "---\n",
    "\n",
    "### Problem Statement\n",
    "Create `Team(name, members)` with cloning methods."
   ]
  },
  {
   "cell_type": "markdown",
   "id": "1b656a45",
   "metadata": {},
   "source": [
    "### Functionality\n",
    "- `shallow_clone()` using `copy.copy`\n",
    "- `deep_clone()` using `copy.deepcopy`"
   ]
  },
  {
   "cell_type": "markdown",
   "id": "d28db595",
   "metadata": {},
   "source": [
    "### Sample Test Case (Visible)\n",
    "```python\n",
    "t1 = Team('Alpha',['Ann','Ben'])\n",
    "t2 = t1.shallow_clone(); t3 = t1.deep_clone()\n",
    "t2.members.append('Cara'); t3.members.append('Dan')\n",
    "print(t1.members); print(t2.members); print(t3.members)\n",
    "```"
   ]
  },
  {
   "cell_type": "markdown",
   "id": "55d3f692",
   "metadata": {},
   "source": [
    "### Hidden Test Cases (Examples)\n",
    "```python\n",
    "Team('Ops',['X']).deep_clone() -> modifying clone doesn't change original\n",
    "```\n",
    "---"
   ]
  },
  {
   "cell_type": "code",
   "execution_count": null,
   "id": "c41f45c3",
   "metadata": {},
   "outputs": [],
   "source": [
    "import copy\n",
    "class Team:\n",
    "    def __init__(self, name, members):\n",
    "        self.name=name; self.members=list(members)\n",
    "    def shallow_clone(self):\n",
    "        return copy.copy(self)\n",
    "    def deep_clone(self):\n",
    "        return copy.deepcopy(self)"
   ]
  },
  {
   "cell_type": "code",
   "execution_count": null,
   "id": "f459a92a",
   "metadata": {},
   "outputs": [],
   "source": [
    "t1 = Team('Alpha',['Ann','Ben'])\n",
    "t2 = t1.shallow_clone(); t3 = t1.deep_clone()\n",
    "t2.members.append('Cara'); t3.members.append('Dan')\n",
    "print(t1.members)  # ['Ann','Ben','Cara']\n",
    "print(t2.members)  # ['Ann','Ben','Cara']\n",
    "print(t3.members)  # ['Ann','Ben','Dan']"
   ]
  },
  {
   "cell_type": "markdown",
   "id": "ed870da3",
   "metadata": {},
   "source": [
    "---"
   ]
  },
  {
   "cell_type": "markdown",
   "id": "37d5ed5f",
   "metadata": {},
   "source": [
    "## Q14. Employee Registry – Storing Objects in List\n",
    "\n",
    "---\n",
    "\n",
    "### Problem Statement\n",
    "Create `Emp(emp_id,name,salary)` and `Registry` to add employees and compute summary info."
   ]
  },
  {
   "cell_type": "markdown",
   "id": "42d09f85",
   "metadata": {},
   "source": [
    "### Functionality\n",
    "- `add_employee(emp)`\n",
    "- `total_employees()`\n",
    "- `average_salary()`\n",
    "- `highest_paid()` → (name,salary)"
   ]
  },
  {
   "cell_type": "markdown",
   "id": "ab749cdf",
   "metadata": {},
   "source": [
    "### Sample Test Case (Visible)\n",
    "```python\n",
    "r = Registry()\n",
    "r.add_employee(Emp(1,'Asha',50000))\n",
    "r.add_employee(Emp(2,'Bala',70000))\n",
    "print(r.total_employees())  # 2+\n",
    "```"
   ]
  },
  {
   "cell_type": "markdown",
   "id": "cc887ff6",
   "metadata": {},
   "source": [
    "### Hidden Test Cases (Examples)\n",
    "```python\n",
    "Empty registry -> avg 0\n",
    "```\n",
    "---"
   ]
  },
  {
   "cell_type": "code",
   "execution_count": null,
   "id": "2a8f3753",
   "metadata": {},
   "outputs": [],
   "source": [
    "class Emp:\n",
    "    def __init__(self, emp_id, name, salary):\n",
    "        self.emp_id=emp_id; self.name=name; self.salary=salary\n",
    "class Registry:\n",
    "    def __init__(self):\n",
    "        self._emps=[]\n",
    "    def add_employee(self, emp):\n",
    "        if not isinstance(emp, Emp): raise TypeError('Expected Emp instance')\n",
    "        self._emps.append(emp)\n",
    "    def total_employees(self):\n",
    "        return len(self._emps)\n",
    "    def average_salary(self):\n",
    "        return (sum(e.salary for e in self._emps)/len(self._emps)) if self._emps else 0\n",
    "    def highest_paid(self):\n",
    "        if not self._emps: return (None,0)\n",
    "        top = max(self._emps, key=lambda e:e.salary)\n",
    "        return (top.name, top.salary)"
   ]
  },
  {
   "cell_type": "code",
   "execution_count": null,
   "id": "3a44b147",
   "metadata": {},
   "outputs": [],
   "source": [
    "r = Registry()\n",
    "r.add_employee(Emp(1,'Asha',50000))\n",
    "r.add_employee(Emp(2,'Bala',70000))\n",
    "r.add_employee(Emp(3,'Chin',60000))\n",
    "print(r.total_employees())\n",
    "print(r.highest_paid())\n",
    "print(round(r.average_salary()))"
   ]
  },
  {
   "cell_type": "markdown",
   "id": "543cd79c",
   "metadata": {},
   "source": [
    "---"
   ]
  },
  {
   "cell_type": "markdown",
   "id": "1e6b35e8",
   "metadata": {},
   "source": [
    "## Q15. Employee → Manager Override Example\n",
    "\n",
    "---\n",
    "\n",
    "### Problem Statement\n",
    "Create `EmployeeBase(emp_id,name,salary)` with `annual_bonus()`=10% salary. Create `Manager` inheriting and overriding bonus to 20% + 100×team_size."
   ]
  },
  {
   "cell_type": "markdown",
   "id": "3ee0367a",
   "metadata": {},
   "source": [
    "### Functionality\n",
    "- Demonstrate method overriding"
   ]
  },
  {
   "cell_type": "markdown",
   "id": "0293243a",
   "metadata": {},
   "source": [
    "### Sample Test Case (Visible)\n",
    "```python\n",
    "e = EmployeeBase(1,'Asha',600000)\n",
    "m = Manager(2,'Bala',900000,team_size=5)\n",
    "print(int(e.annual_bonus()))\n",
    "print(int(m.annual_bonus()))  # 180500\n",
    "```"
   ]
  },
  {
   "cell_type": "markdown",
   "id": "694d2728",
   "metadata": {},
   "source": [
    "### Hidden Test Cases (Examples)\n",
    "```python\n",
    "Manager(3,'Chin',750000,0).annual_bonus() -> 150000\n",
    "```\n",
    "---"
   ]
  },
  {
   "cell_type": "code",
   "execution_count": null,
   "id": "d5fd61ad",
   "metadata": {},
   "outputs": [],
   "source": [
    "class EmployeeBase:\n",
    "    def __init__(self, emp_id, name, salary):\n",
    "        self.emp_id=emp_id; self.name=name; self.salary=salary\n",
    "    def annual_bonus(self):\n",
    "        return 0.10*self.salary\n",
    "class Manager(EmployeeBase):\n",
    "    def __init__(self, emp_id, name, salary, team_size):\n",
    "        super().__init__(emp_id,name,salary); self.team_size=team_size\n",
    "    def annual_bonus(self):\n",
    "        return 0.20*self.salary + 100*self.team_size"
   ]
  },
  {
   "cell_type": "code",
   "execution_count": null,
   "id": "1e4fa542",
   "metadata": {},
   "outputs": [],
   "source": [
    "e = EmployeeBase(1,'Asha',600000)\n",
    "m = Manager(2,'Bala',900000,team_size=5)\n",
    "print(int(e.annual_bonus()))\n",
    "print(int(m.annual_bonus()))"
   ]
  },
  {
   "cell_type": "markdown",
   "id": "736f660c",
   "metadata": {},
   "source": [
    "---"
   ]
  },
  {
   "cell_type": "markdown",
   "id": "bb2edbc3",
   "metadata": {},
   "source": [
    "## Q16. Library System – Borrow / Return Book\n",
    "\n",
    "---\n",
    "\n",
    "### Problem Statement\n",
    "Create `Book(title,author)` and `Library` that manages title→copies inventory with `add_book`, `available`, `borrow`, `return_book` messages."
   ]
  },
  {
   "cell_type": "markdown",
   "id": "3ad4d1a4",
   "metadata": {},
   "source": [
    "### Functionality\n",
    "- Print messages: Borrowed / Not available / Returned"
   ]
  },
  {
   "cell_type": "markdown",
   "id": "d06e340e",
   "metadata": {},
   "source": [
    "### Sample Test Case (Visible)\n",
    "```python\n",
    "lib = Library(); lib.add_book(Book('Dune','Frank Herbert'),2)\n",
    "print(lib.available('Dune'))\n",
    "lib.borrow('Dune'); print(lib.available('Dune'))\n",
    "lib.return_book('Dune'); print(lib.available('Dune'))\n",
    "```"
   ]
  },
  {
   "cell_type": "markdown",
   "id": "19630550",
   "metadata": {},
   "source": [
    "### Hidden Test Cases (Examples)\n",
    "```python\n",
    "Empty library borrow -> Not available\n",
    "```\n",
    "---"
   ]
  },
  {
   "cell_type": "code",
   "execution_count": null,
   "id": "056e9627",
   "metadata": {},
   "outputs": [],
   "source": [
    "class Book:\n",
    "    def __init__(self, title, author):\n",
    "        self.title=title; self.author=author\n",
    "class Library:\n",
    "    def __init__(self): self._inventory={}\n",
    "    def add_book(self, book, copies=1):\n",
    "        if copies<=0: print('Copies must be positive.'); return\n",
    "        self._inventory[book.title]=self._inventory.get(book.title,0)+copies\n",
    "    def available(self, title):\n",
    "        return self._inventory.get(title,0)\n",
    "    def borrow(self, title):\n",
    "        c=self._inventory.get(title,0)\n",
    "        if c>0: self._inventory[title]=c-1; print(f'Borrowed: {title}')\n",
    "        else: print('Not available')\n",
    "    def return_book(self, title):\n",
    "        self._inventory[title]=self._inventory.get(title,0)+1; print(f'Returned: {title}')"
   ]
  },
  {
   "cell_type": "code",
   "execution_count": null,
   "id": "43c850d3",
   "metadata": {},
   "outputs": [],
   "source": [
    "lib = Library()\n",
    "lib.add_book(Book('Dune','Frank Herbert'),2)\n",
    "print(lib.available('Dune'))\n",
    "lib.borrow('Dune')\n",
    "print(lib.available('Dune'))\n",
    "lib.return_book('Dune')\n",
    "print(lib.available('Dune'))"
   ]
  },
  {
   "cell_type": "markdown",
   "id": "6560bf65",
   "metadata": {},
   "source": [
    "---"
   ]
  },
  {
   "cell_type": "markdown",
   "id": "0875860e",
   "metadata": {},
   "source": [
    "## Q17. Shopping Cart with Discounts (OOP)\n",
    "\n",
    "---\n",
    "\n",
    "### Problem Statement\n",
    "Create `Item(name,price,quantity=1)` and `ShoppingCart` with `add_item`, `total`, and `apply_discount(percent)` which returns discounted total without mutating prices; print 'Invalid discount' if out of [0,100]."
   ]
  },
  {
   "cell_type": "markdown",
   "id": "c3c37729",
   "metadata": {},
   "source": [
    "### Functionality\n",
    "- Round outputs to 2 decimals when printing"
   ]
  },
  {
   "cell_type": "markdown",
   "id": "45affd7f",
   "metadata": {},
   "source": [
    "### Sample Test Case (Visible)\n",
    "```python\n",
    "cart = ShoppingCart()\n",
    "cart.add_item(Item('Pen',10.0,3))\n",
    "cart.add_item(Item('Notebook',50.0,2))\n",
    "print(cart.total())\n",
    "print(cart.apply_discount(10))\n",
    "```"
   ]
  },
  {
   "cell_type": "markdown",
   "id": "20abd02f",
   "metadata": {},
   "source": [
    "### Hidden Test Cases (Examples)\n",
    "```python\n",
    "apply_discount(200) → prints Invalid discount and returns original total\n",
    "```\n",
    "---"
   ]
  },
  {
   "cell_type": "code",
   "execution_count": null,
   "id": "15fa0f9c",
   "metadata": {},
   "outputs": [],
   "source": [
    "class Item:\n",
    "    def __init__(self, name, price, quantity=1):\n",
    "        self.name=name; self.price=float(price); self.quantity=int(quantity)\n",
    "class ShoppingCart:\n",
    "    def __init__(self): self._items=[]\n",
    "    def add_item(self, item):\n",
    "        if not isinstance(item, Item): raise TypeError('Item expected')\n",
    "        self._items.append(item)\n",
    "    def total(self):\n",
    "        return round(sum(i.price*i.quantity for i in self._items),2)\n",
    "    def apply_discount(self, percent):\n",
    "        if percent<0 or percent>100:\n",
    "            print('Invalid discount'); return self.total()\n",
    "        return round(self.total()*(1-percent/100.0),2)"
   ]
  },
  {
   "cell_type": "code",
   "execution_count": null,
   "id": "47f73e37",
   "metadata": {},
   "outputs": [],
   "source": [
    "cart = ShoppingCart()\n",
    "cart.add_item(Item('Pen',10.0,3))\n",
    "cart.add_item(Item('Notebook',50.0,2))\n",
    "print(cart.total())            # Expected: 130.0\n",
    "print(cart.apply_discount(10)) # Expected: 117.0"
   ]
  },
  {
   "cell_type": "markdown",
   "id": "7100a3c0",
   "metadata": {},
   "source": [
    "---"
   ]
  },
  {
   "cell_type": "markdown",
   "id": "fa5e30aa",
   "metadata": {},
   "source": [
    "## Q18. ATM Simulator – PIN, Balance, Withdraw\n",
    "\n",
    "---\n",
    "\n",
    "### Problem Statement\n",
    "Build an `ATM` class with PIN setup/validation, deposit, withdrawal, and balance inquiry with printed messages."
   ]
  },
  {
   "cell_type": "markdown",
   "id": "bdc7ccc8",
   "metadata": {},
   "source": [
    "### Functionality\n",
    "- `set_pin(pin)` 0–9999; messages: Invalid PIN / Insufficient balance / Amount withdrawn: X / Balance: X"
   ]
  },
  {
   "cell_type": "markdown",
   "id": "e379d809",
   "metadata": {},
   "source": [
    "### Sample Test Case (Visible)\n",
    "```python\n",
    "atm = ATM(1000)\n",
    "atm.set_pin(4321)\n",
    "atm.deposit(500)\n",
    "atm.withdraw(250,4321)\n",
    "atm.balance_inquiry(4321)\n",
    "```"
   ]
  },
  {
   "cell_type": "markdown",
   "id": "e8685aaa",
   "metadata": {},
   "source": [
    "### Hidden Test Cases (Examples)\n",
    "```python\n",
    "Wrong PIN withdraw → 'Invalid PIN'\n",
    "```\n",
    "---"
   ]
  },
  {
   "cell_type": "code",
   "execution_count": null,
   "id": "63b2bd3d",
   "metadata": {},
   "outputs": [],
   "source": [
    "class ATM:\n",
    "    def __init__(self, balance=0):\n",
    "        self.balance = balance; self._pin=None\n",
    "    def set_pin(self, pin):\n",
    "        if not isinstance(pin,int) or pin<0 or pin>9999:\n",
    "            print('PIN must be a 4-digit integer (0-9999).'); return\n",
    "        self._pin=pin\n",
    "    def validate_pin(self, pin):\n",
    "        return self._pin is not None and pin==self._pin\n",
    "    def deposit(self, amount):\n",
    "        if amount and amount>0: self.balance+=amount\n",
    "    def withdraw(self, amount, pin):\n",
    "        if not self.validate_pin(pin): print('Invalid PIN'); return\n",
    "        if amount>self.balance: print('Insufficient balance'); return\n",
    "        self.balance -= amount; print(f'Amount withdrawn: {int(amount) if amount==int(amount) else amount}')\n",
    "    def balance_inquiry(self, pin):\n",
    "        if not self.validate_pin(pin): print('Invalid PIN'); return\n",
    "        print(f'Balance: {int(self.balance) if self.balance==int(self.balance) else self.balance}')"
   ]
  },
  {
   "cell_type": "code",
   "execution_count": null,
   "id": "32269613",
   "metadata": {},
   "outputs": [],
   "source": [
    "atm = ATM(1000)\n",
    "atm.set_pin(4321)\n",
    "atm.deposit(500)\n",
    "atm.withdraw(250,4321)\n",
    "atm.balance_inquiry(4321)"
   ]
  },
  {
   "cell_type": "markdown",
   "id": "a3350e50",
   "metadata": {},
   "source": [
    "---"
   ]
  }
 ],
 "metadata": {
  "kernelspec": {
   "display_name": "Python 3",
   "language": "python",
   "name": "python3"
  }
 },
 "nbformat": 4,
 "nbformat_minor": 5
}
