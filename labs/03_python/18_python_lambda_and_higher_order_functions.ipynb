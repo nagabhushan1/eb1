{
 "cells": [
  {
   "cell_type": "markdown",
   "id": "3fe14553",
   "metadata": {},
   "source": [
    "### Anonymous Functions (Lambda Functions) in Python\n",
    "In Python, functions are objects. Functions can be defined in the usual way using `def`, or created as anonymous (unnamed) functions using the `lambda` keyword.\n",
    "\n",
    "- **`def`**: Used for standard function definitions.\n",
    "- **`lambda`**: Used to create small, anonymous functions, typically for short operations."
   ]
  },
  {
   "cell_type": "markdown",
   "id": "070a8e8a",
   "metadata": {},
   "source": [
    "### Squaring a Number\n",
    "Functions can be defined in the usual way, or using a `lambda` expression."
   ]
  },
  {
   "cell_type": "code",
   "execution_count": null,
   "id": "61d64cae",
   "metadata": {},
   "outputs": [],
   "source": [
    "def square_number(n):\n",
    "    print(n * n)\n",
    "\n",
    "square_number(5)\n",
    "\n",
    "sqr = lambda n: n * n\n",
    "print('The square of 5 is', sqr(5))\n",
    "print('The square of 8 is', sqr(8))"
   ]
  },
  {
   "cell_type": "markdown",
   "id": "1e34e6fd",
   "metadata": {},
   "source": [
    "### Adding Two Numbers\n",
    "Both `def` and `lambda` can be used for addition."
   ]
  },
  {
   "cell_type": "code",
   "execution_count": null,
   "id": "723ce414",
   "metadata": {},
   "outputs": [],
   "source": [
    "def add(n1, n2):\n",
    "    return n1 + n2\n",
    "\n",
    "result = add(3, 5)\n",
    "print(result)\n",
    "\n",
    "add1 = lambda n1, n2: n1 + n2\n",
    "print('The sum of 5+12 is', add1(5, 12))\n",
    "print('The sum of 8+6 is', add1(8, 6))"
   ]
  },
  {
   "cell_type": "markdown",
   "id": "a0554d90",
   "metadata": {},
   "source": [
    "### Higher-Order Functions\n",
    "Higher-order functions are functions that take other functions as arguments. Examples in Python include `map()`, `filter()`, and `reduce()`."
   ]
  },
  {
   "cell_type": "markdown",
   "id": "6fc579e5",
   "metadata": {},
   "source": [
    "### Using `filter()`\n",
    "`filter()` returns elements of a sequence that satisfy a given condition.\n",
    "\n",
    "- **Without lambda**: Define a function `isEven`.\n",
    "- **With lambda**: Use a concise expression."
   ]
  },
  {
   "cell_type": "code",
   "execution_count": null,
   "id": "5769c421",
   "metadata": {},
   "outputs": [],
   "source": [
    "def isEven(x):\n",
    "    if x % 2 == 0:\n",
    "        return True\n",
    "    else:\n",
    "        return False\n",
    "\n",
    "l1 = [1, 2, 4, 5, 6, 21, 24, 25]\n",
    "l2 = list(filter(isEven, l1))\n",
    "print(l2)\n",
    "\n",
    "l3 = [11, 21, 42, 52, 61, 21, 24, 257]\n",
    "l4 = list(filter(lambda x: x % 2 == 0, l3))\n",
    "print(l4)"
   ]
  },
  {
   "cell_type": "markdown",
   "id": "8178b7ef",
   "metadata": {},
   "source": [
    "### Using `map()`\n",
    "`map()` applies a function to every element in a sequence.\n",
    "\n",
    "- **Without lambda**: Define a function `double_l`.\n",
    "- **With lambda**: Perform transformations directly."
   ]
  },
  {
   "cell_type": "code",
   "execution_count": null,
   "id": "f0d8424d",
   "metadata": {},
   "outputs": [],
   "source": [
    "l1 = [1, 2, 3, 4, 5, 6, 7, 8, 9]\n",
    "def double_l(x):\n",
    "    return x * 2\n",
    "l2 = list(map(double_l, l1))\n",
    "print(l1)\n",
    "print(l2)\n",
    "\n",
    "l3 = [1, 2, 3, 4, 5]\n",
    "l4 = list(map(lambda x: x * 2, l3))\n",
    "l5 = list(map(lambda x: x * x, l3))\n",
    "print('l3', l3)\n",
    "print('l4', l4)\n",
    "print('l5', l5)"
   ]
  },
  {
   "cell_type": "markdown",
   "id": "fc34b178",
   "metadata": {},
   "source": [
    "### Using `reduce()`\n",
    "The `reduce()` function from the `functools` module applies a function cumulatively to elements in a sequence."
   ]
  },
  {
   "cell_type": "code",
   "execution_count": null,
   "id": "7fcc961d",
   "metadata": {},
   "outputs": [],
   "source": [
    "from functools import reduce\n",
    "\n",
    "l7 = [1, 2, 3, 4, 5]\n",
    "res = reduce(lambda x, y: x + y, l7)\n",
    "print(res)"
   ]
  },
  {
   "cell_type": "markdown",
   "id": "2a1e6390",
   "metadata": {},
   "source": [
    "### Function Alias\n",
    "In Python, functions are objects. We can assign them to another name (alias) and call them using that alias."
   ]
  },
  {
   "cell_type": "code",
   "execution_count": null,
   "id": "a43102f5",
   "metadata": {},
   "outputs": [],
   "source": [
    "def greet():\n",
    "    print(\"Hello!\")\n",
    "\n",
    "greet()  # Function call\n",
    "\n",
    "say_hello = greet  # Alias\n",
    "say_hello()  # Function call using alias"
   ]
  },
  {
   "cell_type": "markdown",
   "id": "471baa5f",
   "metadata": {},
   "source": [
    "### Key Takeaways\n",
    "- Anonymous functions are defined using the `lambda` keyword.\n",
    "- `filter()`, `map()`, and `reduce()` are examples of higher-order functions that take other functions as arguments.\n",
    "- Functions are objects and can be assigned to aliases.\n",
    "- Use `lambda` for short, simple operations, and `def` for more complex logic."
   ]
  }
 ],
 "metadata": {},
 "nbformat": 4,
 "nbformat_minor": 5
}