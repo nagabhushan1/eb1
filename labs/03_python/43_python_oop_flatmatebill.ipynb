{
  "nbformat": 4,
  "nbformat_minor": 0,
  "metadata": {
    "colab": {
      "provenance": []
    },
    "kernelspec": {
      "name": "python3",
      "display_name": "Python 3"
    },
    "language_info": {
      "name": "python"
    }
  },
  "cells": [
    {
      "cell_type": "code",
      "execution_count": 10,
      "metadata": {
        "id": "-BKfzgA0LMDW"
      },
      "outputs": [],
      "source": [
        "class Bill:\n",
        "  \"\"\"\n",
        "  Object that contains data about a bill, such as total amount and period of the bill.\n",
        "  \"\"\"\n",
        "  def __init__(self, amount, period):\n",
        "    self.amount = amount\n",
        "    self.period = period"
      ]
    },
    {
      "cell_type": "code",
      "source": [
        "class Flatmate:\n",
        "  \"\"\"\n",
        "  Creates a flatmate person who lives in the flat and pays a share of the bill.\n",
        "  \"\"\"\n",
        "  def __init__(self, name, days_in_house):\n",
        "    self.name = name\n",
        "    self.days_in_house = days_in_house\n",
        "\n",
        "  def pays(self, bill, flatmate2):\n",
        "    weight = self.days_in_house / (self.days_in_house + flatmate2.days_in_house)\n",
        "    to_pay = bill.amount * weight\n",
        "    return to_pay\n"
      ],
      "metadata": {
        "id": "wzxRiOzmkf6W"
      },
      "execution_count": 11,
      "outputs": []
    },
    {
      "cell_type": "code",
      "source": [
        "class WriteResults:\n",
        "  \"\"\"\n",
        "  Writes the results to a text file.\n",
        "  \"\"\"\n",
        "  def __init__(self, filename):\n",
        "    self.filename = filename\n",
        "\n",
        "  def write(self, flatmate1, flatmate2, bill):\n",
        "    with open(f\"{self.filename}\", \"w\") as file:\n",
        "      file.write(f\"{flatmate1.name} pays: {flatmate1.pays(bill=bill, flatmate2=flatmate2)}\\n\")\n",
        "      file.write(f\"{flatmate2.name} pays: {flatmate2.pays(bill=bill, flatmate2=flatmate1)}\\n\")\n",
        "      file.close()\n",
        ""
      ],
      "metadata": {
        "id": "j8UVi-34UnNy"
      },
      "execution_count": 12,
      "outputs": []
    },
    {
      "cell_type": "code",
      "source": [
        "the_bill = Bill(amount=120, period=\"March 2021\")\n",
        "john = Flatmate(name=\"John\", days_in_house=20)\n",
        "marry = Flatmate(name=\"Marry\", days_in_house=25)\n",
        "\n",
        "print(f\"{john.name} pays: \", john.pays(bill=the_bill, flatmate2=marry))\n",
        "print(f\"{marry.name} pays: \", marry.pays(bill=the_bill, flatmate2=john))\n",
        "\n",
        "writeresults = WriteResults(filename=\"results.txt\")\n",
        "writeresults.write(flatmate1=john, flatmate2=marry, bill=the_bill)"
      ],
      "metadata": {
        "colab": {
          "base_uri": "https://localhost:8080/"
        },
        "id": "AFtd9Br4lIV0",
        "outputId": "71f67e22-64f7-43b0-a322-ba7aae3595e9"
      },
      "execution_count": 13,
      "outputs": [
        {
          "output_type": "stream",
          "name": "stdout",
          "text": [
            "John pays:  53.33333333333333\n",
            "Marry pays:  66.66666666666667\n"
          ]
        }
      ]
    },
    {
      "cell_type": "code",
      "source": [],
      "metadata": {
        "id": "PYJeqmD_l5IP"
      },
      "execution_count": 13,
      "outputs": []
    }
  ]
}