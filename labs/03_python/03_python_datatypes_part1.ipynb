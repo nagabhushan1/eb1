{
 "cells": [
  {
   "cell_type": "markdown",
   "id": "179b90b5",
   "metadata": {},
   "source": [
    "### Introduction to Datatypes\n",
    "In Python, a **datatype** represents the type of data that a variable holds. Python is a dynamically typed language, which means we do not explicitly declare variable types. The interpreter automatically determines the datatype based on the assigned value.\n",
    "\n",
    "Some common built-in datatypes are: `int`, `float`, `complex`, `bytes`, `bytearray`, `range`, `str`, `bool`, `list`, `tuple`, `set`, `frozenset`, `dict`, and `NoneType`.\n",
    "\n",
    "Some useful built-in functions include:\n",
    "- `type()`: to check the type of a variable\n",
    "- `id()`: to check the memory address of an object\n",
    "- `print()`: to display output\n",
    "\n",
    "Note: In Python, everything is an object."
   ]
  },
  {
   "cell_type": "markdown",
   "id": "f7a30b4d",
   "metadata": {},
   "source": [
    "### Integer Example\n",
    "The `int` type represents whole numbers. Python supports very large integers automatically."
   ]
  },
  {
   "cell_type": "code",
   "execution_count": null,
   "id": "d39e131c",
   "metadata": {},
   "outputs": [],
   "source": [
    "a = 10\n",
    "print(a)           # Value\n",
    "print(type(a))     # Type\n",
    "print(id(a))       # Memory address\n",
    "\n",
    "b = 99999999999999999999999999999999999999999999999999999999999998888888888888888888888888888888888888777777777766\n",
    "print(b)\n",
    "print(type(b))\n",
    "print(id(b))"
   ]
  },
  {
   "cell_type": "markdown",
   "id": "c1b560b0",
   "metadata": {},
   "source": [
    "### Number Systems\n",
    "By default, numbers are represented in decimal (base-10). Python also supports binary (base-2), octal (base-8), and hexadecimal (base-16)."
   ]
  },
  {
   "cell_type": "code",
   "execution_count": null,
   "id": "62b762be",
   "metadata": {},
   "outputs": [],
   "source": [
    "a = 0B1111   # Binary with uppercase B\n",
    "print(a)\n",
    "print(type(a))\n",
    "\n",
    "a = 0b111    # Binary with lowercase b\n",
    "print(a)\n",
    "print(type(a))\n",
    "\n",
    "a = 0o1111   # Octal with lowercase o\n",
    "print(a)\n",
    "print(type(a))\n",
    "\n",
    "a = 0O1456   # Octal with uppercase O\n",
    "print(a)\n",
    "print(type(a))\n",
    "\n",
    "a = 0X1456   # Hexadecimal with uppercase X\n",
    "print(a)\n",
    "print(type(a))\n",
    "\n",
    "a = 0xFACE   # Hexadecimal with lowercase x\n",
    "print(a)\n",
    "print(type(a))"
   ]
  },
  {
   "cell_type": "markdown",
   "id": "7febd6bd",
   "metadata": {},
   "source": [
    "### Base Conversions\n",
    "Python provides built-in functions to convert numbers into other number systems:\n",
    "- `bin()`: convert to binary\n",
    "- `oct()`: convert to octal\n",
    "- `hex()`: convert to hexadecimal"
   ]
  },
  {
   "cell_type": "code",
   "execution_count": null,
   "id": "31bd9966",
   "metadata": {},
   "outputs": [],
   "source": [
    "print(bin(15))\n",
    "print(bin(0X1456))\n",
    "print(bin(0O1456))\n",
    "\n",
    "print(oct(15))\n",
    "print(oct(0X1456))\n",
    "print(oct(0b111))\n",
    "\n",
    "print(hex(15))\n",
    "print(hex(0X1456))\n",
    "print(hex(0b111))\n",
    "print(hex(200))"
   ]
  },
  {
   "cell_type": "markdown",
   "id": "9b715bba",
   "metadata": {},
   "source": [
    "### Float Type\n",
    "The `float` type represents decimal values. Floats can also be expressed in exponential notation using `e` or `E`."
   ]
  },
  {
   "cell_type": "code",
   "execution_count": null,
   "id": "9922ffc0",
   "metadata": {},
   "outputs": [],
   "source": [
    "f = 1.234\n",
    "print(f)\n",
    "print(type(f))\n",
    "\n",
    "f = 1.2e3\n",
    "print(f)\n",
    "print(type(f))\n",
    "\n",
    "f = 1.2E3\n",
    "print(f)\n",
    "print(type(f))"
   ]
  },
  {
   "cell_type": "markdown",
   "id": "3a393e4f",
   "metadata": {},
   "source": [
    "Attempting to use non-decimal forms like hexadecimal with float values is invalid and raises a `SyntaxError`."
   ]
  },
  {
   "cell_type": "code",
   "execution_count": null,
   "id": "04d3035e",
   "metadata": {},
   "outputs": [],
   "source": [
    "# f = 0X1456.3  # This would raise SyntaxError"
   ]
  },
  {
   "cell_type": "markdown",
   "id": "3e25b3c4",
   "metadata": {},
   "source": [
    "### Complex Type\n",
    "Python supports complex numbers, written as `a + bj`.\n",
    "- `.real` returns the real part\n",
    "- `.imag` returns the imaginary part"
   ]
  },
  {
   "cell_type": "code",
   "execution_count": null,
   "id": "657bce92",
   "metadata": {},
   "outputs": [],
   "source": [
    "c = 10+20j\n",
    "print(c)\n",
    "print(type(c))\n",
    "print(c.real)\n",
    "print(c.imag)"
   ]
  },
  {
   "cell_type": "markdown",
   "id": "e5071dd8",
   "metadata": {},
   "source": [
    "### Boolean Type\n",
    "The `bool` type has two values: `True` and `False`. Internally, `True` is `1` and `False` is `0`. Therefore, booleans can be used in arithmetic operations."
   ]
  },
  {
   "cell_type": "code",
   "execution_count": null,
   "id": "980dfe5e",
   "metadata": {},
   "outputs": [],
   "source": [
    "b = True\n",
    "print(b)\n",
    "print(type(b))\n",
    "\n",
    "b = False\n",
    "print(b)\n",
    "print(type(b))\n",
    "\n",
    "# Comparison returns a boolean\n",
    "a = 10\n",
    "b = 20\n",
    "c = a < b\n",
    "print(c)\n",
    "\n",
    "print(True + True)   # 1 + 1 = 2\n",
    "print(True + False)  # 1 + 0 = 1\n",
    "print(False + False) # 0 + 0 = 0\n",
    "\n",
    "print(100 + True)    # 100 + 1 = 101"
   ]
  },
  {
   "cell_type": "markdown",
   "id": "f737ce56",
   "metadata": {},
   "source": [
    "### Bytes Type\n",
    "The `bytes` type is an immutable sequence of integers between 0 and 255."
   ]
  },
  {
   "cell_type": "code",
   "execution_count": null,
   "id": "3127fcc5",
   "metadata": {},
   "outputs": [],
   "source": [
    "b = [10, 20, 30, 40, 50]\n",
    "b1 = bytes(b)\n",
    "\n",
    "for e in b1:\n",
    "    print(e)\n",
    "\n",
    "print(type(b1))"
   ]
  },
  {
   "cell_type": "markdown",
   "id": "190c4f21",
   "metadata": {},
   "source": [
    "If any value is outside the range 0–255, Python raises a `ValueError`."
   ]
  },
  {
   "cell_type": "code",
   "execution_count": null,
   "id": "e74e3943",
   "metadata": {},
   "outputs": [],
   "source": [
    "# b = [10, 20, 30, 40, 50, 257]  # Uncommenting will raise ValueError\n",
    "# b1 = bytes(b)"
   ]
  },
  {
   "cell_type": "markdown",
   "id": "cea46b42",
   "metadata": {},
   "source": [
    "Bytes objects are immutable. Attempting to modify them raises a `TypeError`."
   ]
  },
  {
   "cell_type": "code",
   "execution_count": null,
   "id": "c835704e",
   "metadata": {},
   "outputs": [],
   "source": [
    "b = [10, 20, 30, 40, 50]\n",
    "b1 = bytes(b)\n",
    "\n",
    "# Uncommenting below will raise TypeError\n",
    "# b1[0] = 25"
   ]
  },
  {
   "cell_type": "markdown",
   "id": "d417f73f",
   "metadata": {},
   "source": [
    "### Bytearray Type\n",
    "The `bytearray` type is similar to `bytes`, but it is mutable. This means individual elements can be modified."
   ]
  },
  {
   "cell_type": "code",
   "execution_count": null,
   "id": "ffc51fe5",
   "metadata": {},
   "outputs": [],
   "source": [
    "b = [10, 20, 30, 40, 50]\n",
    "b1 = bytearray(b)\n",
    "\n",
    "b1[0] = 25\n",
    "print(b1[0])\n",
    "print(type(b1))"
   ]
  }
 ],
 "metadata": {},
 "nbformat": 4,
 "nbformat_minor": 5
}