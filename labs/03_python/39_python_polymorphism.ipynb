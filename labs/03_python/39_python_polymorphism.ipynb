{
 "cells": [
  {
   "cell_type": "markdown",
   "id": "e7dba784",
   "metadata": {},
   "source": [
    "\n",
    "# Polymorphism in Python\n",
    "\n",
    "Polymorphism is the ability of an entity to take on **many forms**.  \n",
    "In Python, the same function or operator can behave differently based on the context.\n",
    "\n",
    "For example, the `+` operator behaves differently depending on the data type:\n",
    "- With **numbers**, it performs addition.\n",
    "- With **strings**, it performs concatenation.\n"
   ]
  },
  {
   "cell_type": "markdown",
   "id": "45765fe2",
   "metadata": {},
   "source": [
    "\n",
    "## Example — Operator Overloading in Python\n"
   ]
  },
  {
   "cell_type": "code",
   "execution_count": null,
   "id": "02b9b7a2",
   "metadata": {},
   "outputs": [],
   "source": [
    "\n",
    "print(10 + 5)      # Addition for integers\n",
    "print(\"Hello \" + \"World\")  # Concatenation for strings\n"
   ]
  },
  {
   "cell_type": "markdown",
   "id": "17a6eeda",
   "metadata": {},
   "source": [
    "\n",
    "Now, let's understand **method overriding**, where a derived class redefines a method from its base class.\n"
   ]
  },
  {
   "cell_type": "markdown",
   "id": "7d2c6159",
   "metadata": {},
   "source": [
    "## Base Class Definition"
   ]
  },
  {
   "cell_type": "code",
   "execution_count": null,
   "id": "c35d55eb",
   "metadata": {},
   "outputs": [],
   "source": [
    "\n",
    "class Employee:\n",
    "    def setNumberOfWorkingHours(self):\n",
    "        self.numberOfWorkingHours = 40\n",
    "\n",
    "    def displayNumberOfWorkingHours(self):\n",
    "        print(self.numberOfWorkingHours)\n",
    "\n",
    "# Create Employee object\n",
    "employee = Employee()\n",
    "employee.setNumberOfWorkingHours()\n",
    "print(\"Number of working hours of employee: \", end=\"\")\n",
    "employee.displayNumberOfWorkingHours()\n"
   ]
  },
  {
   "cell_type": "markdown",
   "id": "7b2aa25e",
   "metadata": {},
   "source": [
    "\n",
    "### Explanation\n",
    "- The `Employee` class defines two methods: `setNumberOfWorkingHours()` and `displayNumberOfWorkingHours()`.\n",
    "- The first method sets the value, while the second displays it.\n"
   ]
  },
  {
   "cell_type": "markdown",
   "id": "348c1e16",
   "metadata": {},
   "source": [
    "## Derived Class with Method Overriding"
   ]
  },
  {
   "cell_type": "code",
   "execution_count": null,
   "id": "e0764687",
   "metadata": {},
   "outputs": [],
   "source": [
    "\n",
    "class Trainee(Employee):\n",
    "    def setNumberOfWorkingHours(self):\n",
    "        self.numberOfWorkingHours = 45\n",
    "\n",
    "# Create Trainee object\n",
    "trainee = Trainee()\n",
    "trainee.setNumberOfWorkingHours()\n",
    "print(\"Number of working hours of trainee: \", end=\"\")\n",
    "trainee.displayNumberOfWorkingHours()\n"
   ]
  },
  {
   "cell_type": "markdown",
   "id": "e8a4377c",
   "metadata": {},
   "source": [
    "\n",
    "### Explanation\n",
    "- The `Trainee` class inherits from `Employee` but **overrides** the `setNumberOfWorkingHours()` method.  \n",
    "- When invoked from a `Trainee` object, the method assigns **45** instead of **40**.\n"
   ]
  },
  {
   "cell_type": "markdown",
   "id": "2d8b1982",
   "metadata": {},
   "source": [
    "## Accessing Base Class Method using `super()`"
   ]
  },
  {
   "cell_type": "code",
   "execution_count": null,
   "id": "ada67404",
   "metadata": {},
   "outputs": [],
   "source": [
    "\n",
    "class Trainee(Employee):\n",
    "    def setNumberOfWorkingHours(self):\n",
    "        self.numberOfWorkingHours = 45\n",
    "\n",
    "    def resetNumberOfWorkingHours(self):\n",
    "        super().setNumberOfWorkingHours()  # Access base class method\n",
    "\n",
    "# Create Trainee object\n",
    "trainee = Trainee()\n",
    "trainee.setNumberOfWorkingHours()\n",
    "print(\"Number of working hours of trainee before reset: \", end=\"\")\n",
    "trainee.displayNumberOfWorkingHours()\n",
    "\n",
    "trainee.resetNumberOfWorkingHours()\n",
    "print(\"Number of working hours of trainee after reset: \", end=\"\")\n",
    "trainee.displayNumberOfWorkingHours()\n"
   ]
  },
  {
   "cell_type": "markdown",
   "id": "5b2529b1",
   "metadata": {},
   "source": [
    "\n",
    "### Explanation\n",
    "- The `resetNumberOfWorkingHours()` method uses `super()` to invoke the **base class** implementation.  \n",
    "- This resets `numberOfWorkingHours` from **45** back to **40**.\n",
    "\n",
    "This demonstrates **method overriding** and **method reuse** using `super()` in Python.\n"
   ]
  },
  {
   "cell_type": "markdown",
   "id": "ba15f4af",
   "metadata": {},
   "source": [
    "\n",
    "## Summary\n",
    "- Polymorphism allows the same function or operator to behave differently depending on the context.  \n",
    "- Method overriding enables derived classes to redefine methods from the base class.  \n",
    "- The `super()` function helps access the base class version of a method for code reuse.\n"
   ]
  }
 ],
 "metadata": {},
 "nbformat": 4,
 "nbformat_minor": 5
}
