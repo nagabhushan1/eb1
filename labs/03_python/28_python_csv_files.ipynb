{
 "cells": [
  {
   "cell_type": "markdown",
   "id": "d4d1f430",
   "metadata": {},
   "source": [
    "\n",
    "# Working with CSV Files\n",
    "\n",
    "Python provides a built-in `csv` module to handle reading and writing CSV files efficiently.  \n",
    "This notebook demonstrates how to read CSV files using both `csv.reader` and `csv.DictReader`.\n"
   ]
  },
  {
   "cell_type": "markdown",
   "id": "8b58b4df",
   "metadata": {},
   "source": [
    "\n",
    "### Reading CSV Files using `csv.reader`\n",
    "\n",
    "- The `csv.reader()` function reads the file line by line.  \n",
    "- Each row is returned as a list of strings.  \n",
    "- The `next(reader)` function is used to read the header row separately.\n"
   ]
  },
  {
   "cell_type": "code",
   "execution_count": null,
   "id": "738f665d",
   "metadata": {},
   "outputs": [],
   "source": [
    "\n",
    "import csv\n",
    "\n",
    "with open('nyse_sample_data.csv', mode='r') as file:\n",
    "    reader = csv.reader(file)\n",
    "\n",
    "    # Read the header\n",
    "    header = next(reader)\n",
    "    print('Header:', header)\n",
    "    print('-' * 50)\n",
    "\n",
    "    # Print each row\n",
    "    for row in reader:\n",
    "        print(row)\n"
   ]
  },
  {
   "cell_type": "markdown",
   "id": "51906919",
   "metadata": {},
   "source": [
    "\n",
    "### Reading CSV Files using `csv.DictReader`\n",
    "\n",
    "- `DictReader` reads each row into an ordered dictionary, where keys are column headers.  \n",
    "- This allows easy access to column values by name instead of index.  \n",
    "- Example: `row['close_price']` accesses the value in the `close_price` column.\n"
   ]
  },
  {
   "cell_type": "code",
   "execution_count": null,
   "id": "6f55515a",
   "metadata": {},
   "outputs": [],
   "source": [
    "\n",
    "import csv\n",
    "\n",
    "total = 0\n",
    "count = 0\n",
    "\n",
    "with open('nyse_sample_data.csv', mode='r') as file:\n",
    "    reader = csv.DictReader(file)\n",
    "\n",
    "    print(reader.fieldnames)  # Display column headers\n",
    "    \n",
    "    for row in reader:\n",
    "        total += float(row['close_price'])\n",
    "        count += 1\n",
    "\n",
    "avg_close = total / count\n",
    "print(\"Average close price:\", round(avg_close, 2))\n"
   ]
  }
 ],
 "metadata": {},
 "nbformat": 4,
 "nbformat_minor": 5
}
