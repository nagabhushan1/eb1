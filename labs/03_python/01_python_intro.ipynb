{
 "cells": [
  {
   "cell_type": "markdown",
   "id": "b593e10a",
   "metadata": {},
   "source": [
    "### Print Hello World\n",
    "This is the most basic Python program. It demonstrates how to output text to the console using the `print()` function."
   ]
  },
  {
   "cell_type": "code",
   "execution_count": null,
   "id": "3b25081d",
   "metadata": {},
   "outputs": [],
   "source": [
    "print(\"Hello, World\")"
   ]
  },
  {
   "cell_type": "markdown",
   "id": "9ea5fd70",
   "metadata": {},
   "source": [
    "### Print Python Version\n",
    "The `sys` module provides access to system-specific parameters and functions. Here, `sys.version` returns the version of Python currently running."
   ]
  },
  {
   "cell_type": "code",
   "execution_count": null,
   "id": "b7cf9ca0",
   "metadata": {},
   "outputs": [],
   "source": [
    "import sys\n",
    "print(sys.version)"
   ]
  },
  {
   "cell_type": "markdown",
   "id": "80e6adbe",
   "metadata": {},
   "source": [
    "### Python as a Scripting Language\n",
    "Python can be used as a scripting language to execute instructions sequentially. Here, multiple print statements are executed one after another."
   ]
  },
  {
   "cell_type": "code",
   "execution_count": null,
   "id": "6f0397b1",
   "metadata": {},
   "outputs": [],
   "source": [
    "print(\"Python as a scripting language\")\n",
    "print(\"Python as a scripting language\")\n",
    "print(\"Python as a scripting language\")\n",
    "print(\"Python as a scripting language\")\n",
    "print(\"Python as a scripting language\")"
   ]
  },
  {
   "cell_type": "markdown",
   "id": "2de7cc85",
   "metadata": {},
   "source": [
    "### Python as a Functional Programming Language\n",
    "Python supports functions as first-class citizens. You can define functions and call them to encapsulate logic. Below, the function `f1` prints multiple lines when invoked."
   ]
  },
  {
   "cell_type": "code",
   "execution_count": null,
   "id": "75868d2e",
   "metadata": {},
   "outputs": [],
   "source": [
    "def f1():\n",
    "\tprint(\"Python as a functional programming language\")\n",
    "\tprint(\"Python as a functional programming language\")\n",
    "\tprint(\"Python as a functional programming language\")\n",
    "\tprint(\"Python as a functional programming language\")\n",
    "\tprint(\"Python as a functional programming language\")\n",
    "\n",
    "f1()"
   ]
  },
  {
   "cell_type": "markdown",
   "id": "68c606f6",
   "metadata": {},
   "source": [
    "### Python as an Object-Oriented Programming Language\n",
    "Python supports object-oriented programming (OOP). Classes encapsulate data and behavior. Here, the class `c1` has a method `f2`, which is invoked through an object `obj1`."
   ]
  },
  {
   "cell_type": "code",
   "execution_count": null,
   "id": "769820d2",
   "metadata": {},
   "outputs": [],
   "source": [
    "class c1:\n",
    "\tdef f2(self):\n",
    "\t\tprint(\"Python as a object oriented programming language\")\n",
    "\t\tprint(\"Python as a object oriented programming language\")\n",
    "\t\tprint(\"Python as a object oriented programming language\")\n",
    "\t\tprint(\"Python as a object oriented programming language\")\n",
    "\t\tprint(\"Python as a object oriented programming language\")\n",
    "\n",
    "obj1 = c1()\n",
    "obj1.f2()"
   ]
  }
 ],
 "metadata": {},
 "nbformat": 4,
 "nbformat_minor": 5
}