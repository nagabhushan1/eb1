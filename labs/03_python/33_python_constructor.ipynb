{
 "cells": [
  {
   "cell_type": "markdown",
   "id": "9c576f04",
   "metadata": {},
   "source": [
    "\n",
    "# Constructors in Python (`__init__` Method)\n",
    "\n",
    "A **constructor** in Python refers to a special method called `__init__`.  \n",
    "It is automatically executed **whenever a new object is created** from a class.\n",
    "\n",
    "### Key Points:\n",
    "- The method name must be `__init__`.  \n",
    "- Used for **object initialization** (assigning values to attributes).  \n",
    "- Always takes `self` as the **first parameter**, referring to the instance being created.\n",
    "\n",
    "---\n"
   ]
  },
  {
   "cell_type": "markdown",
   "id": "0042d389",
   "metadata": {},
   "source": [
    "\n",
    "## Example 1: Class Without a Constructor\n",
    "\n",
    "In this example, the attribute `name` is assigned manually inside another method.  \n",
    "If we forget to call that method before using the attribute, we get an error.\n"
   ]
  },
  {
   "cell_type": "code",
   "execution_count": null,
   "id": "c5fef866",
   "metadata": {},
   "outputs": [],
   "source": [
    "\n",
    "# Class without __init__\n",
    "class Employee:\n",
    "    def enterEmployeeDetails(self):\n",
    "        self.name = 'Arjun'\n",
    "\n",
    "    def displayEmployeeDetails(self):\n",
    "        print(self.name)\n",
    "\n",
    "# Create an object\n",
    "employee = Employee()\n",
    "employee.displayEmployeeDetails()  # Error if enterEmployeeDetails() not called first\n"
   ]
  },
  {
   "cell_type": "markdown",
   "id": "991e9e9b",
   "metadata": {},
   "source": [
    "\n",
    "Since there is **no constructor**, the attribute `name` is not initialized automatically.  \n",
    "This can lead to an `AttributeError` if `displayEmployeeDetails()` is called before `enterEmployeeDetails()`.\n",
    "\n",
    "---\n"
   ]
  },
  {
   "cell_type": "markdown",
   "id": "10de43ba",
   "metadata": {},
   "source": [
    "\n",
    "## Example 2: Using `__init__()` for Object Initialization\n",
    "\n",
    "The `__init__()` method runs **automatically** when a new object is created.\n"
   ]
  },
  {
   "cell_type": "code",
   "execution_count": null,
   "id": "d6e243ff",
   "metadata": {},
   "outputs": [],
   "source": [
    "\n",
    "class Employee:\n",
    "    def __init__(self):\n",
    "        self.name = 'Arjun'\n",
    "\n",
    "    def displayEmployeeDetails(self):\n",
    "        print(self.name)\n",
    "\n",
    "# Create an object\n",
    "employee = Employee()\n",
    "employee.displayEmployeeDetails()\n"
   ]
  },
  {
   "cell_type": "markdown",
   "id": "3641c519",
   "metadata": {},
   "source": [
    "\n",
    "Now, as soon as the object is created, the constructor initializes the `name` attribute.  \n",
    "We no longer need to call a separate method for initialization.\n",
    "\n",
    "---\n"
   ]
  },
  {
   "cell_type": "markdown",
   "id": "c1f53c2a",
   "metadata": {},
   "source": [
    "\n",
    "## Example 3: Hardcoded Values Inside `__init__()`\n",
    "If the values inside `__init__()` are hardcoded, all objects will have the same initial values.\n"
   ]
  },
  {
   "cell_type": "code",
   "execution_count": null,
   "id": "ec70528d",
   "metadata": {},
   "outputs": [],
   "source": [
    "\n",
    "class Employee:\n",
    "    def __init__(self):\n",
    "        self.name = 'Arjun'\n",
    "\n",
    "    def displayEmployeeDetails(self):\n",
    "        print(self.name)\n",
    "\n",
    "# Create two objects\n",
    "employeeOne = Employee()\n",
    "employeeTwo = Employee()\n",
    "\n",
    "employeeOne.displayEmployeeDetails()\n",
    "employeeTwo.displayEmployeeDetails()\n"
   ]
  },
  {
   "cell_type": "markdown",
   "id": "c0612300",
   "metadata": {},
   "source": [
    "\n",
    "In this case, both objects print the same name because the constructor assigns a **fixed value**.\n",
    "\n",
    "---\n"
   ]
  },
  {
   "cell_type": "markdown",
   "id": "5f93f41f",
   "metadata": {},
   "source": [
    "\n",
    "## Example 4: Parameterized Constructor\n",
    "\n",
    "We can make constructors more flexible by passing parameters during object creation.\n"
   ]
  },
  {
   "cell_type": "code",
   "execution_count": null,
   "id": "42abb634",
   "metadata": {},
   "outputs": [],
   "source": [
    "\n",
    "class Employee:\n",
    "    def __init__(self, name):\n",
    "        self.name = name\n",
    "\n",
    "    def displayEmployeeDetails(self):\n",
    "        print(self.name)\n",
    "\n",
    "# Create two objects with different names\n",
    "employeeOne = Employee(\"Arjun\")\n",
    "employeeTwo = Employee(\"Raju\")\n",
    "\n",
    "employeeOne.displayEmployeeDetails()\n",
    "employeeTwo.displayEmployeeDetails()\n"
   ]
  },
  {
   "cell_type": "markdown",
   "id": "1cb5efe4",
   "metadata": {},
   "source": [
    "\n",
    "Here, each object is initialized with its own data, making the class reusable and dynamic.\n",
    "\n",
    "---\n"
   ]
  },
  {
   "cell_type": "markdown",
   "id": "7e031c4e",
   "metadata": {},
   "source": [
    "\n",
    "## 💡 Why Use `__init__()`?\n",
    "\n",
    "- Ensures every object is **fully initialized** before use.  \n",
    "- Avoids runtime errors like `AttributeError`.  \n",
    "- Helps in maintaining **data consistency** across multiple methods.  \n",
    "\n",
    "When all attributes are initialized within `__init__()`, the object is said to be a **fully initialized object**.\n",
    "\n",
    "---\n",
    "\n",
    "### ✅ Summary\n",
    "\n",
    "| Concept | Description |\n",
    "|----------|--------------|\n",
    "| **Without `__init__()`** | Attributes must be set manually, risk of missing initialization. |\n",
    "| **With `__init__()`** | Attributes are initialized automatically when the object is created. |\n",
    "| **Parameterized Constructor** | Accepts arguments for dynamic initialization. |\n",
    "\n",
    "---\n",
    "\n",
    "**Conclusion:**  \n",
    "`__init__()` makes objects reliable, consistent, and ready to use immediately after creation.\n"
   ]
  }
 ],
 "metadata": {},
 "nbformat": 4,
 "nbformat_minor": 5
}
