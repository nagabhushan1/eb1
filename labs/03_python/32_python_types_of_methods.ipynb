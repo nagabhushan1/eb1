{
 "cells": [
  {
   "cell_type": "markdown",
   "id": "9ac62bbf",
   "metadata": {},
   "source": [
    "\n",
    "# Types of Methods in Python  \n",
    "### Instance Methods and Static Methods\n",
    "\n",
    "In Python, methods define the behavior of a class or its instances.  \n",
    "There are two primary types of methods discussed here:\n",
    "1. **Instance Methods**\n",
    "2. **Static Methods**\n",
    "\n",
    "---\n"
   ]
  },
  {
   "cell_type": "markdown",
   "id": "7d8f947c",
   "metadata": {},
   "source": [
    "\n",
    "## 🧩 Instance Methods\n",
    "\n",
    "**Instance Methods** are the most common type of methods.  \n",
    "They belong to an **object (instance)** of a class and automatically receive the object reference (`self`) as the first argument.\n",
    "\n",
    "### Key Characteristics:\n",
    "- Require the `self` parameter.  \n",
    "- Can **access and modify** instance attributes.  \n",
    "- Are called using the **object name**.\n",
    "\n",
    "---\n",
    "### Example 1: Simple Instance Method\n"
   ]
  },
  {
   "cell_type": "code",
   "execution_count": null,
   "id": "b2424092",
   "metadata": {},
   "outputs": [],
   "source": [
    "\n",
    "class Employee:\n",
    "    def employeeDetails(self):\n",
    "        self.name = 'Arjun'\n",
    "\n",
    "employee = Employee()\n",
    "employee.employeeDetails()\n",
    "print(employee.name)\n"
   ]
  },
  {
   "cell_type": "markdown",
   "id": "0d0e9e54",
   "metadata": {},
   "source": [
    "\n",
    "In this example, the method `employeeDetails()` assigns an instance attribute `name` to the object.  \n",
    "Since it uses `self`, it is an **instance method**.\n",
    "\n",
    "---\n",
    "### Example 2: Instance Method Calling Another Instance Method\n"
   ]
  },
  {
   "cell_type": "code",
   "execution_count": null,
   "id": "7cf932ce",
   "metadata": {},
   "outputs": [],
   "source": [
    "\n",
    "class Employee:\n",
    "    def employeeDetails(self):\n",
    "        self.name = 'Arjun'\n",
    "\n",
    "    def welcomeMessage(self):\n",
    "        print(\"Welcome to our organization!\")\n",
    "\n",
    "employee = Employee()\n",
    "employee.employeeDetails()\n",
    "print(employee.name)\n",
    "employee.welcomeMessage()\n"
   ]
  },
  {
   "cell_type": "markdown",
   "id": "896c20af",
   "metadata": {},
   "source": [
    "\n",
    "In this example:\n",
    "- `employeeDetails()` initializes an instance variable.  \n",
    "- `welcomeMessage()` is another instance method that simply prints a message.\n",
    "\n",
    "Both methods belong to the **object**, not the class itself.\n",
    "\n",
    "---\n"
   ]
  },
  {
   "cell_type": "markdown",
   "id": "b412bf72",
   "metadata": {},
   "source": [
    "\n",
    "## ⚙️ Static Methods\n",
    "\n",
    "**Static Methods** do **not take the `self` parameter**.  \n",
    "They are defined using the `@staticmethod` **decorator**, which tells Python that the method should not be tied to any particular instance.\n",
    "\n",
    "### Key Characteristics:\n",
    "- Do **not require `self`**.  \n",
    "- Cannot access or modify instance attributes.  \n",
    "- Belong to the **class itself**, not individual objects.  \n",
    "- Can be called using either the class name or an object reference.\n",
    "\n",
    "---\n",
    "### Example 3: Static Method in Action\n"
   ]
  },
  {
   "cell_type": "code",
   "execution_count": null,
   "id": "e5d402bd",
   "metadata": {},
   "outputs": [],
   "source": [
    "\n",
    "class Employee:\n",
    "    def employeeDetails(self):\n",
    "        self.name = 'Arjun'\n",
    "\n",
    "    @staticmethod\n",
    "    def welcomeMessage():\n",
    "        print(\"Welcome to our organization!\")\n",
    "\n",
    "employee = Employee()\n",
    "employee.employeeDetails()\n",
    "print(employee.name)\n",
    "employee.welcomeMessage()  # Can also call as Employee.welcomeMessage()\n"
   ]
  },
  {
   "cell_type": "markdown",
   "id": "b4fe810b",
   "metadata": {},
   "source": [
    "\n",
    "### 🧠 Why Use Static Methods?\n",
    "- For **utility functions** that logically belong to a class but don’t depend on its attributes.  \n",
    "- They keep your code organized without requiring unnecessary object context.\n",
    "\n",
    "---\n",
    "\n",
    "## 🧾 Comparison: Instance vs Static Methods\n",
    "\n",
    "| Feature | Instance Method | Static Method |\n",
    "|----------|-----------------|----------------|\n",
    "| Requires `self` | ✅ Yes | ❌ No |\n",
    "| Access instance attributes | ✅ Yes | ❌ No |\n",
    "| Belongs to | Object | Class |\n",
    "| Can be called via | Object | Class or Object |\n",
    "| Defined using | `def method(self):` | `@staticmethod` decorator |\n",
    "| Example use | Accessing/modifying object data | Utility or helper functions |\n",
    "\n",
    "---\n",
    "\n",
    "### ✅ Summary\n",
    "- Use **Instance Methods** when behavior depends on object data.  \n",
    "- Use **Static Methods** for general-purpose operations that don’t need object or class data.\n",
    "\n",
    "---\n"
   ]
  }
 ],
 "metadata": {},
 "nbformat": 4,
 "nbformat_minor": 5
}
