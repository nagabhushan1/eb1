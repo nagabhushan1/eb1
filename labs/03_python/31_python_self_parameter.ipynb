{
 "cells": [
  {
   "cell_type": "markdown",
   "id": "21103974",
   "metadata": {},
   "source": [
    "\n",
    "# Understanding the `self` Parameter in Python Classes\n",
    "\n",
    "The `self` parameter is one of the most fundamental concepts in Python's Object-Oriented Programming.  \n",
    "It represents the **instance** of the class and allows access to its **attributes** and **methods**.\n",
    "\n",
    "Whenever you call a method using an object, Python automatically passes the reference to that object as the first argument — conventionally named `self`.\n",
    "\n",
    "---\n"
   ]
  },
  {
   "cell_type": "markdown",
   "id": "9b6efd45",
   "metadata": {},
   "source": [
    "\n",
    "## Example 1: Missing `self` Parameter\n",
    "\n",
    "If a method inside a class does not include the `self` parameter, Python will still try to pass the object reference when the method is called through an object — resulting in an error.\n"
   ]
  },
  {
   "cell_type": "code",
   "execution_count": null,
   "id": "bcc196fc",
   "metadata": {},
   "outputs": [],
   "source": [
    "\n",
    "# Example: Without self parameter\n",
    "class Employee:\n",
    "    def employeeDetails():\n",
    "        pass\n",
    "\n",
    "employee = Employee()\n",
    "employee.employeeDetails()  # TypeError\n"
   ]
  },
  {
   "cell_type": "markdown",
   "id": "4dcaa2e4",
   "metadata": {},
   "source": [
    "\n",
    "**Output:**\n",
    "```\n",
    "TypeError: Employee.employeeDetails() takes 0 positional arguments but 1 was given\n",
    "```\n",
    "Even though we didn’t explicitly pass any argument, Python **automatically sends the object reference** (`employee`) as the first argument.\n",
    "\n",
    "To fix this, the method must accept that argument — typically named `self`.\n"
   ]
  },
  {
   "cell_type": "markdown",
   "id": "729c159d",
   "metadata": {},
   "source": [
    "\n",
    "## Example 2: Correct Usage with `self`\n"
   ]
  },
  {
   "cell_type": "code",
   "execution_count": null,
   "id": "4a17ef2f",
   "metadata": {},
   "outputs": [],
   "source": [
    "\n",
    "# Corrected version\n",
    "class Employee:\n",
    "    def employeeDetails(self):\n",
    "        pass\n",
    "\n",
    "employee = Employee()\n",
    "employee.employeeDetails()  # Works fine\n"
   ]
  },
  {
   "cell_type": "markdown",
   "id": "371789c9",
   "metadata": {},
   "source": [
    "\n",
    "---\n",
    "## Example 3: Creating Attributes Without `self`\n",
    "\n",
    "Let’s see what happens if we create an attribute without using `self`.\n"
   ]
  },
  {
   "cell_type": "code",
   "execution_count": null,
   "id": "8097f6d0",
   "metadata": {},
   "outputs": [],
   "source": [
    "\n",
    "class Employee:\n",
    "    def employeeDetails(self):\n",
    "        self.name = 'Arjun'\n",
    "        age = 25\n",
    "        print('Age', age)\n",
    "\n",
    "    def printEmployeeDetails(self):\n",
    "        print(\"Printing employee details in another method\")\n",
    "        print('Name of the employee:', self.name)\n",
    "        print('Age of the employee:', age)  # Accessing variable local to employeeDetails\n",
    "\n",
    "employee = Employee()\n",
    "employee.employeeDetails()\n",
    "employee.printEmployeeDetails()\n"
   ]
  },
  {
   "cell_type": "markdown",
   "id": "0419ddb0",
   "metadata": {},
   "source": [
    "\n",
    "**Output:**\n",
    "```\n",
    "NameError: name 'age' is not defined\n",
    "```\n",
    "This happens because `age` was created as a **local variable**, not an instance attribute.  \n",
    "Its scope is limited to the method where it was defined, and it cannot be accessed by other methods.\n",
    "\n",
    "---\n"
   ]
  },
  {
   "cell_type": "markdown",
   "id": "ca646ce2",
   "metadata": {},
   "source": [
    "\n",
    "## Example 4: Correct Usage with `self` for Instance Attributes\n"
   ]
  },
  {
   "cell_type": "code",
   "execution_count": null,
   "id": "c89759f6",
   "metadata": {},
   "outputs": [],
   "source": [
    "\n",
    "class Employee:\n",
    "    def employeeDetails(self):\n",
    "        self.name = 'Arjun'\n",
    "        self.age = 25\n",
    "        print('Age', self.age)\n",
    "\n",
    "    def printEmployeeDetails(self):\n",
    "        print(\"Printing employee details in another method\")\n",
    "        print('Name of the employee:', self.name)\n",
    "        print('Age of the employee:', self.age)\n",
    "\n",
    "employee = Employee()\n",
    "employee.employeeDetails()\n",
    "employee.printEmployeeDetails()\n"
   ]
  },
  {
   "cell_type": "markdown",
   "id": "6e17c01e",
   "metadata": {},
   "source": [
    "\n",
    "Now, both `name` and `age` are **instance attributes**, accessible across all methods of the same object.\n",
    "\n",
    "---\n"
   ]
  },
  {
   "cell_type": "markdown",
   "id": "481af17a",
   "metadata": {},
   "source": [
    "\n",
    "## 🧠 Key Takeaways about `self`\n",
    "\n",
    "- `self` refers to the **current instance** of the class.  \n",
    "- It allows you to access variables and methods that belong to the **same object**.  \n",
    "- Without `self`, variables exist **only within the current method**.  \n",
    "- You can technically rename `self` to anything, but **`self` is the Python convention** — and everyone expects to see it.\n",
    "\n",
    "---\n",
    "\n",
    "**In short:**  \n",
    "`self` acts as a bridge between the class definition and the actual object that uses it.\n"
   ]
  }
 ],
 "metadata": {},
 "nbformat": 4,
 "nbformat_minor": 5
}
