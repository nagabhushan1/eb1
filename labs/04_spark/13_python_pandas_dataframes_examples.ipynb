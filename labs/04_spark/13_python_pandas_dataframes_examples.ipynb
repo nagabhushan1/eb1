{
 "cells": [
  {
   "cell_type": "markdown",
   "id": "7130ba24",
   "metadata": {},
   "source": [
    "\n",
    "# Python Pandas DataFrame Examples\n",
    "\n",
    "This notebook demonstrates equivalent **Python Pandas DataFrame operations** mirroring the same examples shown in the PySpark version.\n",
    "\n",
    "---\n"
   ]
  },
  {
   "cell_type": "code",
   "execution_count": null,
   "id": "ded17757",
   "metadata": {},
   "outputs": [],
   "source": [
    "\n",
    "import pandas as pd\n",
    "import numpy as np\n"
   ]
  },
  {
   "cell_type": "markdown",
   "id": "1a03a6ed",
   "metadata": {},
   "source": [
    "### 1️⃣ Create a DataFrame from a Python Collection"
   ]
  },
  {
   "cell_type": "code",
   "execution_count": null,
   "id": "4b748eef",
   "metadata": {},
   "outputs": [],
   "source": [
    "\n",
    "data = [(\"Ravi\", 25, \"Bengaluru\"),\n",
    "        (\"Priya\", 30, \"Hyderabad\"),\n",
    "        (\"Ankit\", 28, \"Pune\"),\n",
    "        (\"Lakshmi\", 32, \"Chennai\")]\n",
    "columns = [\"Name\", \"Age\", \"City\"]\n",
    "df = pd.DataFrame(data, columns=columns)\n",
    "df\n"
   ]
  },
  {
   "cell_type": "markdown",
   "id": "13ca46a2",
   "metadata": {},
   "source": [
    "### 2️⃣ Selecting Columns"
   ]
  },
  {
   "cell_type": "code",
   "execution_count": null,
   "id": "49b39189",
   "metadata": {},
   "outputs": [],
   "source": [
    "\n",
    "df[[\"Name\", \"Age\"]]\n"
   ]
  },
  {
   "cell_type": "markdown",
   "id": "f96c7705",
   "metadata": {},
   "source": [
    "### 3️⃣ Filtering Rows"
   ]
  },
  {
   "cell_type": "code",
   "execution_count": null,
   "id": "dace733e",
   "metadata": {},
   "outputs": [],
   "source": [
    "\n",
    "df[df[\"Age\"] > 28]\n"
   ]
  },
  {
   "cell_type": "markdown",
   "id": "3bbcacea",
   "metadata": {},
   "source": [
    "### 4️⃣ Add or Transform Columns"
   ]
  },
  {
   "cell_type": "code",
   "execution_count": null,
   "id": "c6e83ac4",
   "metadata": {},
   "outputs": [],
   "source": [
    "\n",
    "df[\"Age_After_5_Years\"] = df[\"Age\"] + 5\n",
    "df\n"
   ]
  },
  {
   "cell_type": "markdown",
   "id": "fd22eb9e",
   "metadata": {},
   "source": [
    "### 5️⃣ Rename Columns"
   ]
  },
  {
   "cell_type": "code",
   "execution_count": null,
   "id": "6d5422bc",
   "metadata": {},
   "outputs": [],
   "source": [
    "\n",
    "df_renamed = df.rename(columns={\"City\": \"Location\"})\n",
    "df_renamed\n"
   ]
  },
  {
   "cell_type": "markdown",
   "id": "c687e296",
   "metadata": {},
   "source": [
    "### 6️⃣ Drop Columns"
   ]
  },
  {
   "cell_type": "code",
   "execution_count": null,
   "id": "39be3299",
   "metadata": {},
   "outputs": [],
   "source": [
    "\n",
    "df_dropped = df.drop(columns=[\"City\"])\n",
    "df_dropped\n"
   ]
  },
  {
   "cell_type": "markdown",
   "id": "0ab534e5",
   "metadata": {},
   "source": [
    "### 7️⃣ Group By and Aggregations"
   ]
  },
  {
   "cell_type": "code",
   "execution_count": null,
   "id": "0ee32346",
   "metadata": {},
   "outputs": [],
   "source": [
    "\n",
    "group_data = [(\"IT\", 40000), (\"HR\", 25000), (\"IT\", 45000), (\"Finance\", 30000)]\n",
    "df_group = pd.DataFrame(group_data, columns=[\"Department\", \"Salary\"])\n",
    "\n",
    "df_group.groupby(\"Department\").agg(\n",
    "    Avg_Salary=(\"Salary\", \"mean\"),\n",
    "    Max_Salary=(\"Salary\", \"max\"),\n",
    "    Count=(\"Salary\", \"count\")\n",
    ").reset_index()\n"
   ]
  },
  {
   "cell_type": "markdown",
   "id": "205ad8d4",
   "metadata": {},
   "source": [
    "### 8️⃣ Sorting Data"
   ]
  },
  {
   "cell_type": "code",
   "execution_count": null,
   "id": "f146b762",
   "metadata": {},
   "outputs": [],
   "source": [
    "\n",
    "df.sort_values(by=\"Age\", ascending=False)\n"
   ]
  },
  {
   "cell_type": "markdown",
   "id": "08da0f0c",
   "metadata": {},
   "source": [
    "### 9️⃣ Removing Duplicates"
   ]
  },
  {
   "cell_type": "code",
   "execution_count": null,
   "id": "dc071ada",
   "metadata": {},
   "outputs": [],
   "source": [
    "\n",
    "dup_data = [(\"Ravi\", \"IT\"), (\"Ravi\", \"IT\"), (\"Priya\", \"HR\")]\n",
    "df_dup = pd.DataFrame(dup_data, columns=[\"Name\", \"Dept\"])\n",
    "df_dup.drop_duplicates()\n"
   ]
  },
  {
   "cell_type": "markdown",
   "id": "d2d2d5ea",
   "metadata": {},
   "source": [
    "### 🔟 Joins Between DataFrames"
   ]
  },
  {
   "cell_type": "code",
   "execution_count": null,
   "id": "03a8af0f",
   "metadata": {},
   "outputs": [],
   "source": [
    "\n",
    "dept_data = [(\"Ravi\", \"IT\"), (\"Priya\", \"HR\"), (\"Ankit\", \"Finance\")]\n",
    "df_dept = pd.DataFrame(dept_data, columns=[\"Name\", \"Department\"])\n",
    "\n",
    "joined = pd.merge(df, df_dept, on=\"Name\", how=\"inner\")\n",
    "joined\n"
   ]
  },
  {
   "cell_type": "markdown",
   "id": "e8624238",
   "metadata": {},
   "source": [
    "### 1️⃣1️⃣ Handling Null Values"
   ]
  },
  {
   "cell_type": "code",
   "execution_count": null,
   "id": "fb8815c8",
   "metadata": {},
   "outputs": [],
   "source": [
    "\n",
    "null_data = [(\"Ravi\", np.nan), (\"Priya\", 30), (\"Ankit\", np.nan)]\n",
    "df_null = pd.DataFrame(null_data, columns=[\"Name\", \"Age\"])\n",
    "\n",
    "df_null.fillna({\"Age\": 25}), df_null.dropna()\n"
   ]
  },
  {
   "cell_type": "markdown",
   "id": "f94333cc",
   "metadata": {},
   "source": [
    "### 1️⃣2️⃣ Conditional Column with `np.where()`"
   ]
  },
  {
   "cell_type": "code",
   "execution_count": null,
   "id": "0c1f0632",
   "metadata": {},
   "outputs": [],
   "source": [
    "\n",
    "df[\"Category\"] = np.where(df[\"Age\"] > 30, \"Senior\", \"Junior\")\n",
    "df\n"
   ]
  },
  {
   "cell_type": "markdown",
   "id": "29fcab4f",
   "metadata": {},
   "source": [
    "### 1️⃣3️⃣ DataFrame Summary and Statistics"
   ]
  },
  {
   "cell_type": "code",
   "execution_count": null,
   "id": "99223015",
   "metadata": {},
   "outputs": [],
   "source": [
    "\n",
    "df.describe(), df.info()\n"
   ]
  },
  {
   "cell_type": "markdown",
   "id": "cf4a99fe",
   "metadata": {},
   "source": [
    "### 1️⃣4️⃣ Reindexing and Reset Index"
   ]
  },
  {
   "cell_type": "code",
   "execution_count": null,
   "id": "1bf6554a",
   "metadata": {},
   "outputs": [],
   "source": [
    "\n",
    "df_reset = df.reset_index(drop=True)\n",
    "df_reset\n"
   ]
  },
  {
   "cell_type": "markdown",
   "id": "f3c005b5",
   "metadata": {},
   "source": [
    "\n",
    "---\n",
    "\n",
    "### ✅ Summary of APIs Covered\n",
    "\n",
    "| Operation | Pandas API | Description |\n",
    "|------------|-------------|-------------|\n",
    "| Create DataFrame | `pd.DataFrame()` | From list/collection |\n",
    "| Select Columns | `df[col]` | Choose specific columns |\n",
    "| Filter Rows | `df[df.col > val]` | Apply condition filters |\n",
    "| Add Column | `df['new'] = ...` | Add or modify a column |\n",
    "| Rename Column | `rename()` | Rename existing column |\n",
    "| Drop Column | `drop()` | Remove a column |\n",
    "| Group & Aggregate | `groupby().agg()` | Aggregate functions |\n",
    "| Sort | `sort_values()` | Ascending/Descending |\n",
    "| Remove Duplicates | `drop_duplicates()` | Keep unique rows |\n",
    "| Join | `merge()` | Combine multiple DataFrames |\n",
    "| Handle Nulls | `fillna()`, `dropna()` | Manage missing values |\n",
    "| Conditional Logic | `np.where()` | Add derived columns |\n",
    "| Statistics | `describe()`, `info()` | Summary metrics |\n",
    "| Indexing | `reset_index()` | Reorder rows |\n",
    "\n",
    "---\n",
    "\n"
   ]
  }
 ],
 "metadata": {
  "language_info": {
   "name": "python"
  }
 },
 "nbformat": 4,
 "nbformat_minor": 5
}
