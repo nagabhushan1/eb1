{
 "cells": [
  {
   "cell_type": "markdown",
   "id": "f885e0aa",
   "metadata": {},
   "source": [
    "\n",
    "# Apache Spark DataFrame Joins \n"
   ]
  },
  {
   "cell_type": "markdown",
   "id": "e1b78ef0",
   "metadata": {},
   "source": [
    "## Step 1: Create Spark Session"
   ]
  },
  {
   "cell_type": "code",
   "execution_count": null,
   "id": "093fbed6",
   "metadata": {},
   "outputs": [],
   "source": [
    "\n",
    "from pyspark.sql import SparkSession\n",
    "spark = SparkSession.builder.appName(\"SparkJoinExamples\").getOrCreate()\n"
   ]
  },
  {
   "cell_type": "markdown",
   "id": "f09c1222",
   "metadata": {},
   "source": [
    "## Step 2: Create Sample DataFrames"
   ]
  },
  {
   "cell_type": "code",
   "execution_count": null,
   "id": "524e5cd3",
   "metadata": {},
   "outputs": [],
   "source": [
    "\n",
    "employees = [\n",
    "    (1, \"Ravi\", \"IT\", 50000),\n",
    "    (2, \"Priya\", \"HR\", 45000),\n",
    "    (3, \"Ankit\", \"IT\", 55000),\n",
    "    (4, \"Lakshmi\", \"Finance\", 60000),\n",
    "    (5, \"John\", None, 40000)\n",
    "]\n",
    "\n",
    "departments = [\n",
    "    (\"IT\", \"Bengaluru\"),\n",
    "    (\"HR\", \"Hyderabad\"),\n",
    "    (\"Finance\", \"Chennai\"),\n",
    "    (\"Marketing\", \"Pune\")\n",
    "]\n",
    "\n",
    "df_emp = spark.createDataFrame(employees, [\"emp_id\", \"name\", \"dept_name\", \"salary\"])\n",
    "df_dept = spark.createDataFrame(departments, [\"dept_name\", \"location\"])\n",
    "\n",
    "df_emp.show()\n",
    "df_dept.show()\n"
   ]
  },
  {
   "cell_type": "markdown",
   "id": "eb64965a",
   "metadata": {},
   "source": [
    "\n",
    "## Inner Join  \n",
    "**What it does:** Returns only matching records between both DataFrames.  \n",
    "**Use case:** To fetch employee details along with their department location.  \n",
    "**Expected output:** Only employees whose department exists in `df_dept`.\n"
   ]
  },
  {
   "cell_type": "code",
   "execution_count": null,
   "id": "997895f3",
   "metadata": {},
   "outputs": [],
   "source": [
    "\n",
    "inner_join_df = df_emp.join(df_dept, on=\"dept_name\", how=\"inner\")\n",
    "inner_join_df.show()\n"
   ]
  },
  {
   "cell_type": "markdown",
   "id": "7d001bda",
   "metadata": {},
   "source": [
    "\n",
    "## Left Join (Left Outer Join)  \n",
    "**What it does:** Returns all rows from the left DataFrame (`employees`) and matching rows from the right.  \n",
    "**Use case:** To list all employees, even if their department doesn’t exist in the department list.  \n",
    "**Expected output:** Every employee, with `location` as `null` for unmatched departments.\n"
   ]
  },
  {
   "cell_type": "code",
   "execution_count": null,
   "id": "0598f3cb",
   "metadata": {},
   "outputs": [],
   "source": [
    "\n",
    "left_join_df = df_emp.join(df_dept, on=\"dept_name\", how=\"left\")\n",
    "left_join_df.show()\n"
   ]
  },
  {
   "cell_type": "markdown",
   "id": "b7240d1d",
   "metadata": {},
   "source": [
    "\n",
    "## Right Join (Right Outer Join)  \n",
    "**What it does:** Returns all rows from the right DataFrame (`departments`) and matching rows from the left.  \n",
    "**Use case:** To find all departments, even those that have no employees.  \n",
    "**Expected output:** Every department, with `null` values for employees not assigned to any department.\n"
   ]
  },
  {
   "cell_type": "code",
   "execution_count": null,
   "id": "39f8f0d8",
   "metadata": {},
   "outputs": [],
   "source": [
    "\n",
    "right_join_df = df_emp.join(df_dept, on=\"dept_name\", how=\"right\")\n",
    "right_join_df.show()\n"
   ]
  },
  {
   "cell_type": "markdown",
   "id": "be3c412c",
   "metadata": {},
   "source": [
    "\n",
    "## Full Outer Join  \n",
    "**What it does:** Returns all records from both DataFrames, matching where possible.  \n",
    "**Use case:** To perform a full comparison between employees and departments.  \n",
    "**Expected output:** All departments and employees, matched or unmatched.\n"
   ]
  },
  {
   "cell_type": "code",
   "execution_count": null,
   "id": "6e80ed3b",
   "metadata": {},
   "outputs": [],
   "source": [
    "\n",
    "full_outer_df = df_emp.join(df_dept, on=\"dept_name\", how=\"outer\")\n",
    "full_outer_df.show()\n"
   ]
  },
  {
   "cell_type": "markdown",
   "id": "2474fc57",
   "metadata": {},
   "source": [
    "\n",
    "## Left Semi Join  \n",
    "**What it does:** Returns only employees whose department exists in the department DataFrame.  \n",
    "**Use case:** To filter out employees with invalid or missing department references.  \n",
    "**Expected output:** Employees belonging to valid departments only.\n"
   ]
  },
  {
   "cell_type": "code",
   "execution_count": null,
   "id": "a2e75aa4",
   "metadata": {},
   "outputs": [],
   "source": [
    "\n",
    "semi_join_df = df_emp.join(df_dept, on=\"dept_name\", how=\"left_semi\")\n",
    "semi_join_df.show()\n"
   ]
  },
  {
   "cell_type": "markdown",
   "id": "a09c8342",
   "metadata": {},
   "source": [
    "\n",
    "## Left Anti Join  \n",
    "**What it does:** Returns employees whose department does **not** exist in the department DataFrame.  \n",
    "**Use case:** To find mismatched or orphaned records.  \n",
    "**Expected output:** Employees where `dept_name` is missing in `df_dept`.\n"
   ]
  },
  {
   "cell_type": "code",
   "execution_count": null,
   "id": "bf8d357d",
   "metadata": {},
   "outputs": [],
   "source": [
    "\n",
    "anti_join_df = df_emp.join(df_dept, on=\"dept_name\", how=\"left_anti\")\n",
    "anti_join_df.show()\n"
   ]
  },
  {
   "cell_type": "markdown",
   "id": "609e09ee",
   "metadata": {},
   "source": [
    "\n",
    "## Cross Join (Cartesian Product)  \n",
    "**What it does:** Returns all possible combinations of rows between both DataFrames.  \n",
    "**Use case:** Used in simulation, testing, or generating combinations (rare in production).  \n",
    "**Expected output:** Every employee combined with every department.\n"
   ]
  },
  {
   "cell_type": "code",
   "execution_count": null,
   "id": "2f1c8184",
   "metadata": {},
   "outputs": [],
   "source": [
    "\n",
    "cross_join_df = df_emp.crossJoin(df_dept)\n",
    "cross_join_df.show(10)\n"
   ]
  },
  {
   "cell_type": "markdown",
   "id": "59ced3f9",
   "metadata": {},
   "source": [
    "\n",
    "## Join with Multiple Conditions  \n",
    "**What it does:** Joins on more than one condition.  \n",
    "**Use case:** When the relationship depends on multiple columns (like `dept_name` and `country`).  \n",
    "**Expected output:** Employees matched with departments in India having the same `dept_name`.\n"
   ]
  },
  {
   "cell_type": "code",
   "execution_count": null,
   "id": "7e1bbd03",
   "metadata": {},
   "outputs": [],
   "source": [
    "\n",
    "dept_extended = [\n",
    "    (\"IT\", \"Bengaluru\", \"India\"),\n",
    "    (\"HR\", \"Hyderabad\", \"India\"),\n",
    "    (\"Finance\", \"Chennai\", \"India\"),\n",
    "    (\"Marketing\", \"Pune\", \"India\")\n",
    "]\n",
    "df_dept2 = spark.createDataFrame(dept_extended, [\"dept_name\", \"location\", \"country\"])\n",
    "\n",
    "multi_cond_df = df_emp.join(\n",
    "    df_dept2,\n",
    "    (df_emp.dept_name == df_dept2.dept_name) & (df_dept2.country == \"India\"),\n",
    "    \"inner\"\n",
    ")\n",
    "multi_cond_df.show()\n"
   ]
  },
  {
   "cell_type": "markdown",
   "id": "eff88461",
   "metadata": {},
   "source": [
    "\n",
    "## Joins Using Aliases  \n",
    "**What it does:** Simplifies references to column names when both DataFrames have overlapping names.  \n",
    "**Use case:** Improves readability in joins where multiple columns share the same name.  \n",
    "**Expected output:** Selected columns with clear prefixes or labels.\n"
   ]
  },
  {
   "cell_type": "code",
   "execution_count": null,
   "id": "0aefe3b7",
   "metadata": {},
   "outputs": [],
   "source": [
    "\n",
    "emp_alias = df_emp.alias(\"e\")\n",
    "dept_alias = df_dept.alias(\"d\")\n",
    "\n",
    "alias_join_df = emp_alias.join(\n",
    "    dept_alias,\n",
    "    emp_alias.dept_name == dept_alias.dept_name,\n",
    "    \"inner\"\n",
    ").select(\"e.emp_id\", \"e.name\", \"d.location\")\n",
    "alias_join_df.show()\n"
   ]
  },
  {
   "cell_type": "markdown",
   "id": "5570368b",
   "metadata": {},
   "source": [
    "\n",
    "## Handling Duplicate Columns After Join  \n",
    "**What it does:** Removes duplicate or redundant columns after a join operation.  \n",
    "**Use case:** When joining DataFrames with the same column names, only required fields are selected.  \n",
    "**Expected output:** Clean, non-redundant columns from the join.\n"
   ]
  },
  {
   "cell_type": "code",
   "execution_count": null,
   "id": "46641e5e",
   "metadata": {},
   "outputs": [],
   "source": [
    "\n",
    "join_with_duplicates = df_emp.join(df_dept, \"dept_name\", \"inner\")\n",
    "clean_df = join_with_duplicates.select(\"emp_id\", \"name\", \"dept_name\", \"location\", \"salary\")\n",
    "clean_df.show()\n"
   ]
  },
  {
   "cell_type": "markdown",
   "id": "6c615242",
   "metadata": {},
   "source": [
    "\n",
    "## Validate Join Results  \n",
    "**What it does:** Performs post-join validation to check data consistency.  \n",
    "**Use case:** Ensures all employees have a valid department and identifies mismatches.  \n",
    "**Expected output:** A count of employees with invalid departments.\n"
   ]
  },
  {
   "cell_type": "code",
   "execution_count": null,
   "id": "ce982681",
   "metadata": {},
   "outputs": [],
   "source": [
    "\n",
    "missing_dept_employees = df_emp.join(df_dept, \"dept_name\", \"left_anti\").count()\n",
    "print(f\"Employees with missing department: {missing_dept_employees}\")\n"
   ]
  },
  {
   "cell_type": "markdown",
   "id": "3aa170f9",
   "metadata": {},
   "source": [
    "\n",
    "## Summary of Join Types\n",
    "\n",
    "| Join Type | Syntax Example | Rows Returned |\n",
    "|------------|----------------|----------------|\n",
    "| Inner | `df1.join(df2, on, \"inner\")` | Matching rows only |\n",
    "| Left Outer | `df1.join(df2, on, \"left\")` | All left + matching right |\n",
    "| Right Outer | `df1.join(df2, on, \"right\")` | All right + matching left |\n",
    "| Full Outer | `df1.join(df2, on, \"outer\")` | All rows from both sides |\n",
    "| Left Semi | `df1.join(df2, on, \"left_semi\")` | Left rows with match |\n",
    "| Left Anti | `df1.join(df2, on, \"left_anti\")` | Left rows without match |\n",
    "| Cross Join | `df1.crossJoin(df2)` | Cartesian product |\n",
    "| Multi-condition | `df1.join(df2, cond1 & cond2)` | Matches on multiple conditions |\n",
    "| Alias Join | `df1.alias(\"a\").join(df2.alias(\"b\"), ...)` | Cleaner joins using aliases |\n"
   ]
  }
 ],
 "metadata": {
  "language_info": {
   "name": "python"
  }
 },
 "nbformat": 4,
 "nbformat_minor": 5
}
