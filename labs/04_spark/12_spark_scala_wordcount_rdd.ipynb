{
 "cells": [
  {
   "cell_type": "markdown",
   "id": "2148d323",
   "metadata": {},
   "source": [
    "\n",
    "### WordCount using Spark's Scala API\n",
    "\n",
    "## Objective\n",
    "This notebook demonstrates how to perform the **WordCount** operation using **Apache Spark with Scala**.\n",
    "\n",
    "### Steps Covered\n",
    "1. Create a SparkSession  \n",
    "2. Load a text file into an RDD  \n",
    "3. Split lines into words  \n",
    "4. Map each word into (word, 1) pairs  \n",
    "5. Reduce by key to count occurrences  \n",
    "6. Collect and print the results\n",
    "\n",
    "### Background\n",
    "In Apache Spark, the **RDD (Resilient Distributed Dataset)** is a distributed collection of elements that can be processed in parallel.  \n",
    "WordCount is one of the most common examples used to understand RDD transformations and actions.\n",
    "    "
   ]
  },
  {
   "cell_type": "markdown",
   "id": "e773099f",
   "metadata": {},
   "source": [
    "### Step 1: Initialize SparkSession"
   ]
  },
  {
   "cell_type": "code",
   "execution_count": null,
   "id": "0eb3099a",
   "metadata": {},
   "outputs": [],
   "source": [
    "\n",
    "import org.apache.spark.sql.SparkSession\n",
    "val spark = SparkSession.builder.getOrCreate()\n",
    "    "
   ]
  },
  {
   "cell_type": "markdown",
   "id": "cf3c2859",
   "metadata": {},
   "source": [
    "### Step 2: Load text file into an RDD"
   ]
  },
  {
   "cell_type": "code",
   "execution_count": null,
   "id": "6a4d4aa1",
   "metadata": {},
   "outputs": [],
   "source": [
    "\n",
    "val filePath = \"samplefile.txt\"\n",
    "val linesRdd = spark.sparkContext.textFile(filePath)\n",
    "    "
   ]
  },
  {
   "cell_type": "markdown",
   "id": "d926bb07",
   "metadata": {},
   "source": [
    "### Step 3: Split lines into words"
   ]
  },
  {
   "cell_type": "code",
   "execution_count": null,
   "id": "cd1339b3",
   "metadata": {},
   "outputs": [],
   "source": [
    "\n",
    "val wordsRdd = linesRdd.flatMap(x => x.split(\" \"))\n",
    "    "
   ]
  },
  {
   "cell_type": "markdown",
   "id": "aa05fd41",
   "metadata": {},
   "source": [
    "### Step 4: Map words to (word, 1) pairs"
   ]
  },
  {
   "cell_type": "code",
   "execution_count": null,
   "id": "0b3c9209",
   "metadata": {},
   "outputs": [],
   "source": [
    "\n",
    "val wordsMapRdd = wordsRdd.map(x => (x, 1))\n",
    "    "
   ]
  },
  {
   "cell_type": "markdown",
   "id": "4ac04ffb",
   "metadata": {},
   "source": [
    "### Step 5: Reduce by key to count occurrences"
   ]
  },
  {
   "cell_type": "code",
   "execution_count": null,
   "id": "4d4cc252",
   "metadata": {},
   "outputs": [],
   "source": [
    "\n",
    "val wordCountRdd = wordsMapRdd.reduceByKey((x, y) => x + y)\n",
    "    "
   ]
  },
  {
   "cell_type": "markdown",
   "id": "c20a26f2",
   "metadata": {},
   "source": [
    "### Step 6: Collect and print results"
   ]
  },
  {
   "cell_type": "code",
   "execution_count": null,
   "id": "c5874ca3",
   "metadata": {},
   "outputs": [],
   "source": [
    "\n",
    "wordCountRdd.collect()\n",
    "wordCountRdd.collect().foreach(println)\n",
    "    "
   ]
  }
 ],
 "metadata": {},
 "nbformat": 4,
 "nbformat_minor": 5
}
