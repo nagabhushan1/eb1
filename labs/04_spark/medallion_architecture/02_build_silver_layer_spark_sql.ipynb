{
 "cells": [
  {
   "cell_type": "markdown",
   "id": "657d6988",
   "metadata": {},
   "source": [
    "### Silver Layer — Clean & Standardized Data (SQL Only)\n"
   ]
  },
  {
   "cell_type": "markdown",
   "id": "1cecd171",
   "metadata": {},
   "source": [
    "#### Environment Setup"
   ]
  },
  {
   "cell_type": "code",
   "execution_count": null,
   "id": "d720de05",
   "metadata": {},
   "outputs": [],
   "source": [
    "\n",
    "from pyspark.sql import SparkSession\n",
    "spark = SparkSession.builder.appName(\"Medallion-SQL\").getOrCreate()\n",
    "print(\"Spark version:\", spark.version)\n",
    "DATA_BASE = \"/content\"\n"
   ]
  },
  {
   "cell_type": "markdown",
   "id": "5431784e",
   "metadata": {},
   "source": [
    "#### Create `silver` database"
   ]
  },
  {
   "cell_type": "code",
   "execution_count": null,
   "id": "564efa07",
   "metadata": {},
   "outputs": [],
   "source": [
    "spark.sql(\"\"\"CREATE DATABASE IF NOT EXISTS silver\"\"\")"
   ]
  },
  {
   "cell_type": "markdown",
   "id": "9461a9b2",
   "metadata": {},
   "source": [
    "#### Customers: trim, normalize labels, deduplicate by latest `cst_create_date`"
   ]
  },
  {
   "cell_type": "code",
   "execution_count": null,
   "id": "1727bab8",
   "metadata": {},
   "outputs": [],
   "source": [
    "spark.sql(\"\"\"DROP TABLE IF EXISTS silver.crm_cust_info\"\"\")"
   ]
  },
  {
   "cell_type": "code",
   "execution_count": null,
   "id": "e8945fc7",
   "metadata": {},
   "outputs": [],
   "source": [
    "spark.sql(\"\"\"CREATE TABLE silver.crm_cust_info\n",
    "USING parquet\n",
    "AS\n",
    "WITH stg AS (\n",
    "  SELECT\n",
    "    CAST(cst_id AS STRING)      AS cst_id,\n",
    "    TRIM(cst_firstname)         AS cst_firstname,\n",
    "    TRIM(cst_lastname)          AS cst_lastname,\n",
    "    UPPER(TRIM(cst_gndr))       AS cst_gndr_raw,\n",
    "    UPPER(TRIM(cst_marital_status)) AS cst_marital_status_raw,\n",
    "    CAST(cst_create_date AS TIMESTAMP) AS cst_create_date\n",
    "  FROM bronze.crm_cust_info\n",
    "),\n",
    "norm AS (\n",
    "  SELECT\n",
    "    cst_id, cst_firstname, cst_lastname,\n",
    "    CASE WHEN cst_gndr_raw IN ('F','FEMALE') THEN 'Female'\n",
    "         WHEN cst_gndr_raw IN ('M','MALE')   THEN 'Male'\n",
    "         ELSE 'n/a' END AS cst_gndr,\n",
    "    CASE WHEN cst_marital_status_raw IN ('S','SINGLE') THEN 'Single'\n",
    "         WHEN cst_marital_status_raw IN ('M','MARRIED') THEN 'Married'\n",
    "         ELSE 'n/a' END AS cst_marital_status,\n",
    "    cst_create_date\n",
    "  FROM stg\n",
    "),\n",
    "latest AS (\n",
    "  SELECT * FROM (\n",
    "    SELECT n.*,\n",
    "           ROW_NUMBER() OVER (PARTITION BY n.cst_id ORDER BY n.cst_create_date DESC NULLS LAST) AS rn\n",
    "    FROM norm n\n",
    "  ) t WHERE rn = 1\n",
    ")\n",
    "SELECT cst_id, cst_firstname, cst_lastname, cst_gndr, cst_marital_status, cst_create_date\n",
    "FROM latest\n",
    "WHERE cst_id IS NOT NULL\"\"\")"
   ]
  },
  {
   "cell_type": "markdown",
   "id": "6e3ec11a",
   "metadata": {},
   "source": [
    "Preview `silver.crm_cust_info`"
   ]
  },
  {
   "cell_type": "code",
   "execution_count": null,
   "id": "ddfe64c1",
   "metadata": {},
   "outputs": [],
   "source": [
    "spark.sql(\"\"\"SELECT * FROM silver.crm_cust_info LIMIT 20\"\"\").show(20, truncate=False)"
   ]
  },
  {
   "cell_type": "markdown",
   "id": "c44cd445",
   "metadata": {},
   "source": [
    "Row count `silver.crm_cust_info`"
   ]
  },
  {
   "cell_type": "code",
   "execution_count": null,
   "id": "e5b7652d",
   "metadata": {},
   "outputs": [],
   "source": [
    "spark.sql(\"\"\"SELECT COUNT(*) AS rows FROM silver.crm_cust_info\"\"\").show(truncate=False)"
   ]
  },
  {
   "cell_type": "markdown",
   "id": "2067052e",
   "metadata": {},
   "source": [
    "#### Products: trim/cast to canonical types (uses actual columns from `prd_info.csv`)"
   ]
  },
  {
   "cell_type": "code",
   "execution_count": null,
   "id": "7717158f",
   "metadata": {},
   "outputs": [],
   "source": [
    "spark.sql(\"\"\"DROP TABLE IF EXISTS silver.crm_prd_info\"\"\")"
   ]
  },
  {
   "cell_type": "code",
   "execution_count": null,
   "id": "647598a6",
   "metadata": {},
   "outputs": [],
   "source": [
    "spark.sql(\"\"\"CREATE TABLE silver.crm_prd_info\n",
    "USING parquet\n",
    "AS\n",
    "SELECT\n",
    "  CAST(prd_id AS STRING)        AS prd_id,\n",
    "  CAST(prd_key AS STRING)       AS prd_key,\n",
    "  TRIM(prd_nm)                  AS prd_nm,\n",
    "  CAST(prd_cost AS DOUBLE)      AS prd_cost,\n",
    "  TRIM(prd_line)                AS prd_line,\n",
    "  CAST(prd_start_dt AS TIMESTAMP) AS prd_start_dt,\n",
    "  CAST(prd_end_dt   AS TIMESTAMP) AS prd_end_dt\n",
    "FROM bronze.crm_prd_info\"\"\")"
   ]
  },
  {
   "cell_type": "markdown",
   "id": "6ca9c407",
   "metadata": {},
   "source": [
    "Preview `silver.crm_prd_info`"
   ]
  },
  {
   "cell_type": "code",
   "execution_count": null,
   "id": "f81b965d",
   "metadata": {},
   "outputs": [],
   "source": [
    "spark.sql(\"\"\"SELECT * FROM silver.crm_prd_info LIMIT 20\"\"\").show(20, truncate=False)"
   ]
  },
  {
   "cell_type": "markdown",
   "id": "8219d563",
   "metadata": {},
   "source": [
    "Row count `silver.crm_prd_info`"
   ]
  },
  {
   "cell_type": "code",
   "execution_count": null,
   "id": "e43d13f0",
   "metadata": {},
   "outputs": [],
   "source": [
    "spark.sql(\"\"\"SELECT COUNT(*) AS rows FROM silver.crm_prd_info\"\"\").show(truncate=False)"
   ]
  },
  {
   "cell_type": "markdown",
   "id": "4d3cdb78",
   "metadata": {},
   "source": [
    "#### Sales: cast numeric/date fields and rename to canonical names"
   ]
  },
  {
   "cell_type": "code",
   "execution_count": null,
   "id": "335dffbe",
   "metadata": {},
   "outputs": [],
   "source": [
    "spark.sql(\"\"\"DROP TABLE IF EXISTS silver.crm_sales_details\"\"\")"
   ]
  },
  {
   "cell_type": "code",
   "execution_count": null,
   "id": "2154f423",
   "metadata": {},
   "outputs": [],
   "source": [
    "spark.sql(\"\"\"CREATE TABLE silver.crm_sales_details\n",
    "USING parquet\n",
    "AS\n",
    "SELECT\n",
    "  CAST(sls_ord_num AS STRING)          AS sale_id,\n",
    "  CAST(sls_cust_id AS STRING)          AS cst_id,\n",
    "  CAST(sls_prd_key AS STRING)          AS prd_key,\n",
    "  CAST(sls_quantity AS INT)            AS qty,\n",
    "  CAST(sls_price AS DOUBLE)            AS price,\n",
    "  CAST(sls_sales AS DOUBLE)            AS amount,\n",
    "  CAST(sls_order_dt AS TIMESTAMP)      AS order_dt,\n",
    "  CAST(sls_ship_dt AS TIMESTAMP)       AS ship_dt,\n",
    "  CAST(sls_due_dt AS TIMESTAMP)        AS due_dt\n",
    "FROM bronze.crm_sales_details\n",
    "WHERE sls_cust_id IS NOT NULL AND sls_prd_key IS NOT NULL\"\"\")"
   ]
  },
  {
   "cell_type": "markdown",
   "id": "59cd1a13",
   "metadata": {},
   "source": [
    "Preview `silver.crm_sales_details`"
   ]
  },
  {
   "cell_type": "code",
   "execution_count": null,
   "id": "b8937547",
   "metadata": {},
   "outputs": [],
   "source": [
    "spark.sql(\"\"\"SELECT * FROM silver.crm_sales_details LIMIT 20\"\"\").show(20, truncate=False)"
   ]
  },
  {
   "cell_type": "markdown",
   "id": "7c3ef581",
   "metadata": {},
   "source": [
    "Row count `silver.crm_sales_details`"
   ]
  },
  {
   "cell_type": "code",
   "execution_count": null,
   "id": "8bc5fcd5",
   "metadata": {},
   "outputs": [],
   "source": [
    "spark.sql(\"\"\"SELECT COUNT(*) AS rows FROM silver.crm_sales_details\"\"\").show(truncate=False)"
   ]
  },
  {
   "cell_type": "markdown",
   "id": "d5d3c8ad",
   "metadata": {},
   "source": [
    "#### Passthrough `erp_cust_az12` to Silver"
   ]
  },
  {
   "cell_type": "code",
   "execution_count": null,
   "id": "3f5c7866",
   "metadata": {},
   "outputs": [],
   "source": [
    "spark.sql(\"\"\"DROP TABLE IF EXISTS silver.erp_cust_az12\"\"\")"
   ]
  },
  {
   "cell_type": "code",
   "execution_count": null,
   "id": "e5fae3bd",
   "metadata": {},
   "outputs": [],
   "source": [
    "spark.sql(\"\"\"CREATE TABLE silver.erp_cust_az12 USING parquet AS SELECT * FROM bronze.erp_cust_az12\"\"\")"
   ]
  },
  {
   "cell_type": "code",
   "execution_count": null,
   "id": "5fba8f8f",
   "metadata": {},
   "outputs": [],
   "source": [
    "spark.sql(\"\"\"SELECT COUNT(*) AS rows FROM silver.erp_cust_az12\"\"\").show(truncate=False)"
   ]
  },
  {
   "cell_type": "markdown",
   "id": "af7b7128",
   "metadata": {},
   "source": [
    "#### Passthrough `erp_loc_a101` to Silver"
   ]
  },
  {
   "cell_type": "code",
   "execution_count": null,
   "id": "5e119312",
   "metadata": {},
   "outputs": [],
   "source": [
    "spark.sql(\"\"\"DROP TABLE IF EXISTS silver.erp_loc_a101\"\"\")"
   ]
  },
  {
   "cell_type": "code",
   "execution_count": null,
   "id": "9304cc7c",
   "metadata": {},
   "outputs": [],
   "source": [
    "spark.sql(\"\"\"CREATE TABLE silver.erp_loc_a101 USING parquet AS SELECT * FROM bronze.erp_loc_a101\"\"\")"
   ]
  },
  {
   "cell_type": "code",
   "execution_count": null,
   "id": "f13b3fb0",
   "metadata": {},
   "outputs": [],
   "source": [
    "spark.sql(\"\"\"SELECT COUNT(*) AS rows FROM silver.erp_loc_a101\"\"\").show(truncate=False)"
   ]
  },
  {
   "cell_type": "markdown",
   "id": "45cd6bb7",
   "metadata": {},
   "source": [
    "#### Passthrough `erp_px_cat_g1v2` to Silver"
   ]
  },
  {
   "cell_type": "code",
   "execution_count": null,
   "id": "366ef45d",
   "metadata": {},
   "outputs": [],
   "source": [
    "spark.sql(\"\"\"DROP TABLE IF EXISTS silver.erp_px_cat_g1v2\"\"\")"
   ]
  },
  {
   "cell_type": "code",
   "execution_count": null,
   "id": "0c95571b",
   "metadata": {},
   "outputs": [],
   "source": [
    "spark.sql(\"\"\"CREATE TABLE silver.erp_px_cat_g1v2 USING parquet AS SELECT * FROM bronze.erp_px_cat_g1v2\"\"\")"
   ]
  },
  {
   "cell_type": "code",
   "execution_count": null,
   "id": "a2ab680c",
   "metadata": {},
   "outputs": [],
   "source": [
    "spark.sql(\"\"\"SELECT COUNT(*) AS rows FROM silver.erp_px_cat_g1v2\"\"\").show(truncate=False)"
   ]
  }
 ],
 "metadata": {
  "language_info": {
   "name": "python"
  }
 },
 "nbformat": 4,
 "nbformat_minor": 5
}
