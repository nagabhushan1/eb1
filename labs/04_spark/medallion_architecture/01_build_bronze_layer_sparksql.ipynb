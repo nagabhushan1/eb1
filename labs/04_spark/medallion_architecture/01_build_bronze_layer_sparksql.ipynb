{
 "cells": [
  {
   "cell_type": "markdown",
   "id": "f42ebc18",
   "metadata": {},
   "source": [
    "### Bronze Layer — Raw, Unprocessed Data (SQL Only)\n",
    "Registers the **six source CSVs** as Bronze tables. **One SQL statement per cell**. Each preview uses `.show()` so output is visible in Colab."
   ]
  },
  {
   "cell_type": "markdown",
   "id": "f7b61ed1",
   "metadata": {},
   "source": [
    "#### Environment Setup"
   ]
  },
  {
   "cell_type": "code",
   "execution_count": null,
   "id": "9e4a80e0",
   "metadata": {},
   "outputs": [],
   "source": [
    "\n",
    "from pyspark.sql import SparkSession\n",
    "spark = SparkSession.builder.appName(\"Medallion-SQL\").getOrCreate()\n",
    "print(\"Spark version:\", spark.version)\n",
    "DATA_BASE = \"/content\"\n"
   ]
  },
  {
   "cell_type": "markdown",
   "id": "1e2d7744",
   "metadata": {},
   "source": [
    "#### Create `bronze` database"
   ]
  },
  {
   "cell_type": "code",
   "execution_count": null,
   "id": "5f61f3ba",
   "metadata": {},
   "outputs": [],
   "source": [
    "spark.sql(\"\"\"CREATE DATABASE IF NOT EXISTS bronze\"\"\")"
   ]
  },
  {
   "cell_type": "markdown",
   "id": "44f404e4",
   "metadata": {},
   "source": [
    "#### Recreate `bronze.crm_sales_details` from `/content/sales_details.csv`"
   ]
  },
  {
   "cell_type": "code",
   "execution_count": null,
   "id": "4bac8c37",
   "metadata": {},
   "outputs": [],
   "source": [
    "spark.sql(\"\"\"DROP TABLE IF EXISTS bronze.crm_sales_details\"\"\")"
   ]
  },
  {
   "cell_type": "code",
   "execution_count": null,
   "id": "d3509de3",
   "metadata": {},
   "outputs": [],
   "source": [
    "spark.sql(\"\"\"CREATE TABLE bronze.crm_sales_details\n",
    "USING csv\n",
    "OPTIONS (header 'true', inferSchema 'true', delimiter ',', path '/content/sales_details.csv')\"\"\")"
   ]
  },
  {
   "cell_type": "markdown",
   "id": "06a15958",
   "metadata": {},
   "source": [
    "Preview `bronze.crm_sales_details` (first 20 rows)"
   ]
  },
  {
   "cell_type": "code",
   "execution_count": null,
   "id": "7bfe06db",
   "metadata": {},
   "outputs": [],
   "source": [
    "spark.sql(\"\"\"SELECT * FROM bronze.crm_sales_details LIMIT 20\"\"\").show(20, truncate=False)"
   ]
  },
  {
   "cell_type": "markdown",
   "id": "1820ec22",
   "metadata": {},
   "source": [
    "Row count `bronze.crm_sales_details`"
   ]
  },
  {
   "cell_type": "code",
   "execution_count": null,
   "id": "7ca77626",
   "metadata": {},
   "outputs": [],
   "source": [
    "spark.sql(\"\"\"SELECT COUNT(*) AS rows FROM bronze.crm_sales_details\"\"\").show(truncate=False)"
   ]
  },
  {
   "cell_type": "markdown",
   "id": "de1a51df",
   "metadata": {},
   "source": [
    "#### Recreate `bronze.crm_cust_info` from `/content/cust_info.csv`"
   ]
  },
  {
   "cell_type": "code",
   "execution_count": null,
   "id": "b107086c",
   "metadata": {},
   "outputs": [],
   "source": [
    "spark.sql(\"\"\"DROP TABLE IF EXISTS bronze.crm_cust_info\"\"\")"
   ]
  },
  {
   "cell_type": "code",
   "execution_count": null,
   "id": "037d376a",
   "metadata": {},
   "outputs": [],
   "source": [
    "spark.sql(\"\"\"CREATE TABLE bronze.crm_cust_info\n",
    "USING csv\n",
    "OPTIONS (header 'true', inferSchema 'true', delimiter ',', path '/content/cust_info.csv')\"\"\")"
   ]
  },
  {
   "cell_type": "markdown",
   "id": "a8e97088",
   "metadata": {},
   "source": [
    "Preview `bronze.crm_cust_info` (first 20 rows)"
   ]
  },
  {
   "cell_type": "code",
   "execution_count": null,
   "id": "df29f1d6",
   "metadata": {},
   "outputs": [],
   "source": [
    "spark.sql(\"\"\"SELECT * FROM bronze.crm_cust_info LIMIT 20\"\"\").show(20, truncate=False)"
   ]
  },
  {
   "cell_type": "markdown",
   "id": "dc765fdc",
   "metadata": {},
   "source": [
    "Row count `bronze.crm_cust_info`"
   ]
  },
  {
   "cell_type": "code",
   "execution_count": null,
   "id": "3f8eeb4d",
   "metadata": {},
   "outputs": [],
   "source": [
    "spark.sql(\"\"\"SELECT COUNT(*) AS rows FROM bronze.crm_cust_info\"\"\").show(truncate=False)"
   ]
  },
  {
   "cell_type": "markdown",
   "id": "6a84bf8a",
   "metadata": {},
   "source": [
    "#### Recreate `bronze.crm_prd_info` from `/content/prd_info.csv`"
   ]
  },
  {
   "cell_type": "code",
   "execution_count": null,
   "id": "169685db",
   "metadata": {},
   "outputs": [],
   "source": [
    "spark.sql(\"\"\"DROP TABLE IF EXISTS bronze.crm_prd_info\"\"\")"
   ]
  },
  {
   "cell_type": "code",
   "execution_count": null,
   "id": "9cc54a25",
   "metadata": {},
   "outputs": [],
   "source": [
    "spark.sql(\"\"\"CREATE TABLE bronze.crm_prd_info\n",
    "USING csv\n",
    "OPTIONS (header 'true', inferSchema 'true', delimiter ',', path '/content/prd_info.csv')\"\"\")"
   ]
  },
  {
   "cell_type": "markdown",
   "id": "b12a3cd3",
   "metadata": {},
   "source": [
    "Preview `bronze.crm_prd_info` (first 20 rows)"
   ]
  },
  {
   "cell_type": "code",
   "execution_count": null,
   "id": "89c5f2df",
   "metadata": {},
   "outputs": [],
   "source": [
    "spark.sql(\"\"\"SELECT * FROM bronze.crm_prd_info LIMIT 20\"\"\").show(20, truncate=False)"
   ]
  },
  {
   "cell_type": "markdown",
   "id": "7beafb14",
   "metadata": {},
   "source": [
    "Row count `bronze.crm_prd_info`"
   ]
  },
  {
   "cell_type": "code",
   "execution_count": null,
   "id": "8752c8f4",
   "metadata": {},
   "outputs": [],
   "source": [
    "spark.sql(\"\"\"SELECT COUNT(*) AS rows FROM bronze.crm_prd_info\"\"\").show(truncate=False)"
   ]
  },
  {
   "cell_type": "markdown",
   "id": "f5a0f33d",
   "metadata": {},
   "source": [
    "#### Recreate `bronze.erp_cust_az12` from `/content/CUST_AZ12.csv`"
   ]
  },
  {
   "cell_type": "code",
   "execution_count": null,
   "id": "7ac81ef0",
   "metadata": {},
   "outputs": [],
   "source": [
    "spark.sql(\"\"\"DROP TABLE IF EXISTS bronze.erp_cust_az12\"\"\")"
   ]
  },
  {
   "cell_type": "code",
   "execution_count": null,
   "id": "1b1fd61f",
   "metadata": {},
   "outputs": [],
   "source": [
    "spark.sql(\"\"\"CREATE TABLE bronze.erp_cust_az12\n",
    "USING csv\n",
    "OPTIONS (header 'true', inferSchema 'true', delimiter ',', path '/content/CUST_AZ12.csv')\"\"\")"
   ]
  },
  {
   "cell_type": "markdown",
   "id": "7e5ee9be",
   "metadata": {},
   "source": [
    "Preview `bronze.erp_cust_az12` (first 20 rows)"
   ]
  },
  {
   "cell_type": "code",
   "execution_count": null,
   "id": "6b3d0247",
   "metadata": {},
   "outputs": [],
   "source": [
    "spark.sql(\"\"\"SELECT * FROM bronze.erp_cust_az12 LIMIT 20\"\"\").show(20, truncate=False)"
   ]
  },
  {
   "cell_type": "markdown",
   "id": "bbde7bfc",
   "metadata": {},
   "source": [
    "Row count `bronze.erp_cust_az12`"
   ]
  },
  {
   "cell_type": "code",
   "execution_count": null,
   "id": "29a85ddc",
   "metadata": {},
   "outputs": [],
   "source": [
    "spark.sql(\"\"\"SELECT COUNT(*) AS rows FROM bronze.erp_cust_az12\"\"\").show(truncate=False)"
   ]
  },
  {
   "cell_type": "markdown",
   "id": "7d8b32a7",
   "metadata": {},
   "source": [
    "#### Recreate `bronze.erp_loc_a101` from `/content/LOC_A101.csv`"
   ]
  },
  {
   "cell_type": "code",
   "execution_count": null,
   "id": "9825bd25",
   "metadata": {},
   "outputs": [],
   "source": [
    "spark.sql(\"\"\"DROP TABLE IF EXISTS bronze.erp_loc_a101\"\"\")"
   ]
  },
  {
   "cell_type": "code",
   "execution_count": null,
   "id": "b9d7b9ed",
   "metadata": {},
   "outputs": [],
   "source": [
    "spark.sql(\"\"\"CREATE TABLE bronze.erp_loc_a101\n",
    "USING csv\n",
    "OPTIONS (header 'true', inferSchema 'true', delimiter ',', path '/content/LOC_A101.csv')\"\"\")"
   ]
  },
  {
   "cell_type": "markdown",
   "id": "a1c366c7",
   "metadata": {},
   "source": [
    "Preview `bronze.erp_loc_a101` (first 20 rows)"
   ]
  },
  {
   "cell_type": "code",
   "execution_count": null,
   "id": "339aff7b",
   "metadata": {},
   "outputs": [],
   "source": [
    "spark.sql(\"\"\"SELECT * FROM bronze.erp_loc_a101 LIMIT 20\"\"\").show(20, truncate=False)"
   ]
  },
  {
   "cell_type": "markdown",
   "id": "dc9edbe5",
   "metadata": {},
   "source": [
    "Row count `bronze.erp_loc_a101`"
   ]
  },
  {
   "cell_type": "code",
   "execution_count": null,
   "id": "96f41a94",
   "metadata": {},
   "outputs": [],
   "source": [
    "spark.sql(\"\"\"SELECT COUNT(*) AS rows FROM bronze.erp_loc_a101\"\"\").show(truncate=False)"
   ]
  },
  {
   "cell_type": "markdown",
   "id": "58893177",
   "metadata": {},
   "source": [
    "#### Recreate `bronze.erp_px_cat_g1v2` from `/content/PX_CAT_G1V2.csv`"
   ]
  },
  {
   "cell_type": "code",
   "execution_count": null,
   "id": "085ffd81",
   "metadata": {},
   "outputs": [],
   "source": [
    "spark.sql(\"\"\"DROP TABLE IF EXISTS bronze.erp_px_cat_g1v2\"\"\")"
   ]
  },
  {
   "cell_type": "code",
   "execution_count": null,
   "id": "c3fdc25a",
   "metadata": {},
   "outputs": [],
   "source": [
    "spark.sql(\"\"\"CREATE TABLE bronze.erp_px_cat_g1v2\n",
    "USING csv\n",
    "OPTIONS (header 'true', inferSchema 'true', delimiter ',', path '/content/PX_CAT_G1V2.csv')\"\"\")"
   ]
  },
  {
   "cell_type": "markdown",
   "id": "81660a44",
   "metadata": {},
   "source": [
    "Preview `bronze.erp_px_cat_g1v2` (first 20 rows)"
   ]
  },
  {
   "cell_type": "code",
   "execution_count": null,
   "id": "a66551d4",
   "metadata": {},
   "outputs": [],
   "source": [
    "spark.sql(\"\"\"SELECT * FROM bronze.erp_px_cat_g1v2 LIMIT 20\"\"\").show(20, truncate=False)"
   ]
  },
  {
   "cell_type": "markdown",
   "id": "16798ee8",
   "metadata": {},
   "source": [
    "Row count `bronze.erp_px_cat_g1v2`"
   ]
  },
  {
   "cell_type": "code",
   "execution_count": null,
   "id": "e1677b6f",
   "metadata": {},
   "outputs": [],
   "source": [
    "spark.sql(\"\"\"SELECT COUNT(*) AS rows FROM bronze.erp_px_cat_g1v2\"\"\").show(truncate=False)"
   ]
  }
 ],
 "metadata": {
  "language_info": {
   "name": "python"
  }
 },
 "nbformat": 4,
 "nbformat_minor": 5
}
