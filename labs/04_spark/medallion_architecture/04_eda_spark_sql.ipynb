{
 "cells": [
  {
   "cell_type": "markdown",
   "id": "f50f45e6",
   "metadata": {},
   "source": [
    "### EDA — **Gold Only**\n",
    "\n",
    "Sources:\n",
    "- `gold.fact_sales` (sale_id, customer_id, product_key, qty, price, amount, order_dt, ship_dt, due_dt)\n",
    "- `gold.dim_customers` (customer_id, first_name, last_name, gender, marital_status)\n",
    "- `gold.dim_products`  (product_key, product_id, product_name, product_line, prd_cost)\n"
   ]
  },
  {
   "cell_type": "markdown",
   "id": "127bb4f9",
   "metadata": {},
   "source": [
    "#### Environment Setup"
   ]
  },
  {
   "cell_type": "code",
   "execution_count": null,
   "id": "b019ecef",
   "metadata": {},
   "outputs": [],
   "source": [
    "\n",
    "from pyspark.sql import SparkSession\n",
    "spark = SparkSession.builder.appName(\"Gold-EDA-DirectJoins\").getOrCreate()\n",
    "print(\"Spark version:\", spark.version)\n"
   ]
  },
  {
   "cell_type": "markdown",
   "id": "22bc9b21",
   "metadata": {},
   "source": [
    "#### Tables in `gold` schema"
   ]
  },
  {
   "cell_type": "code",
   "execution_count": null,
   "id": "7d3f98d9",
   "metadata": {},
   "outputs": [],
   "source": [
    "spark.sql(\"\"\"SHOW TABLES IN gold\"\"\").show(20, truncate=False)"
   ]
  },
  {
   "cell_type": "markdown",
   "id": "bd6a0ea1",
   "metadata": {},
   "source": [
    "#### Row counts — facts and dimensions"
   ]
  },
  {
   "cell_type": "code",
   "execution_count": null,
   "id": "30386346",
   "metadata": {},
   "outputs": [],
   "source": [
    "spark.sql(\"\"\"SELECT 'gold.fact_sales' AS object, COUNT(*) AS rows FROM gold.fact_sales\n",
    "UNION ALL SELECT 'gold.dim_customers', COUNT(*) FROM gold.dim_customers\n",
    "UNION ALL SELECT 'gold.dim_products', COUNT(*) FROM gold.dim_products\"\"\").show(20, truncate=False)"
   ]
  },
  {
   "cell_type": "markdown",
   "id": "3b6cdf8a",
   "metadata": {},
   "source": [
    "#### Null checks in fact (keys & measures)"
   ]
  },
  {
   "cell_type": "code",
   "execution_count": null,
   "id": "7db5d3d2",
   "metadata": {},
   "outputs": [],
   "source": [
    "spark.sql(\"\"\"SELECT\n",
    "  SUM(CASE WHEN customer_id IS NULL THEN 1 ELSE 0 END) AS null_customer_id,\n",
    "  SUM(CASE WHEN product_key IS NULL THEN 1 ELSE 0 END) AS null_product_key,\n",
    "  SUM(CASE WHEN qty    IS NULL THEN 1 ELSE 0 END) AS null_qty,\n",
    "  SUM(CASE WHEN price  IS NULL THEN 1 ELSE 0 END) AS null_price,\n",
    "  SUM(CASE WHEN amount IS NULL THEN 1 ELSE 0 END) AS null_amount\n",
    "FROM gold.fact_sales\"\"\").show(20, truncate=False)"
   ]
  },
  {
   "cell_type": "markdown",
   "id": "2b65db2c",
   "metadata": {},
   "source": [
    "#### Daily revenue trend"
   ]
  },
  {
   "cell_type": "code",
   "execution_count": null,
   "id": "c26571a8",
   "metadata": {},
   "outputs": [],
   "source": [
    "spark.sql(\"\"\"SELECT DATE(order_dt) AS order_date,\n",
    "       COUNT(*) AS orders,\n",
    "       SUM(qty) AS total_qty,\n",
    "       CAST(SUM(amount) AS DECIMAL(18,2)) AS revenue\n",
    "FROM gold.fact_sales\n",
    "WHERE order_dt IS NOT NULL AND qty IS NOT NULL AND amount IS NOT NULL\n",
    "GROUP BY DATE(order_dt)\n",
    "ORDER BY order_date\"\"\").show(20, truncate=False)"
   ]
  },
  {
   "cell_type": "markdown",
   "id": "e6f1ac84",
   "metadata": {},
   "source": [
    "#### Monthly revenue trend"
   ]
  },
  {
   "cell_type": "code",
   "execution_count": null,
   "id": "ed9f5d4f",
   "metadata": {},
   "outputs": [],
   "source": [
    "spark.sql(\"\"\"SELECT DATE_TRUNC('month', order_dt) AS month_start,\n",
    "       CAST(SUM(amount) AS DECIMAL(18,2)) AS revenue,\n",
    "       SUM(qty) AS total_qty,\n",
    "       COUNT(*) AS orders\n",
    "FROM gold.fact_sales\n",
    "WHERE order_dt IS NOT NULL AND qty IS NOT NULL AND amount IS NOT NULL\n",
    "GROUP BY DATE_TRUNC('month', order_dt)\n",
    "ORDER BY month_start\"\"\").show(20, truncate=False)"
   ]
  },
  {
   "cell_type": "markdown",
   "id": "ed295650",
   "metadata": {},
   "source": [
    "#### Top 10 customers by revenue"
   ]
  },
  {
   "cell_type": "code",
   "execution_count": null,
   "id": "5f5308ff",
   "metadata": {},
   "outputs": [],
   "source": [
    "spark.sql(\"\"\"SELECT f.customer_id,\n",
    "       dc.first_name,\n",
    "       dc.last_name,\n",
    "       CAST(SUM(f.amount) AS DECIMAL(18,2)) AS revenue,\n",
    "       COUNT(*) AS orders\n",
    "FROM gold.fact_sales f\n",
    "LEFT JOIN gold.dim_customers dc\n",
    "  ON f.customer_id = dc.customer_id\n",
    "WHERE f.amount IS NOT NULL\n",
    "GROUP BY f.customer_id, dc.first_name, dc.last_name\n",
    "ORDER BY revenue DESC\n",
    "LIMIT 10\"\"\").show(20, truncate=False)"
   ]
  }
 ],
 "metadata": {
  "language_info": {
   "name": "python"
  }
 },
 "nbformat": 4,
 "nbformat_minor": 5
}
