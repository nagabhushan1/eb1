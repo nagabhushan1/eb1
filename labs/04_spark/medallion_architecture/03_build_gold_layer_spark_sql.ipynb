{
 "cells": [
  {
   "cell_type": "markdown",
   "id": "86451844",
   "metadata": {},
   "source": [
    "### Gold Layer — Business-Ready Data\n",
    "Dims and fact built from Silver."
   ]
  },
  {
   "cell_type": "markdown",
   "id": "fccc0f0e",
   "metadata": {},
   "source": [
    "#### Environment Setup"
   ]
  },
  {
   "cell_type": "code",
   "execution_count": null,
   "id": "2cf96589",
   "metadata": {},
   "outputs": [],
   "source": [
    "\n",
    "from pyspark.sql import SparkSession\n",
    "spark = SparkSession.builder.appName(\"Medallion-SQL\").getOrCreate()\n",
    "print(\"Spark version:\", spark.version)\n",
    "DATA_BASE = \"/content\"\n"
   ]
  },
  {
   "cell_type": "markdown",
   "id": "7bad6e96",
   "metadata": {},
   "source": [
    "#### Create `gold` database"
   ]
  },
  {
   "cell_type": "code",
   "execution_count": null,
   "id": "4bc58303",
   "metadata": {},
   "outputs": [],
   "source": [
    "spark.sql(\"\"\"CREATE DATABASE IF NOT EXISTS gold\"\"\")"
   ]
  },
  {
   "cell_type": "markdown",
   "id": "7997010f",
   "metadata": {},
   "source": [
    "#### Dimension: Customers"
   ]
  },
  {
   "cell_type": "code",
   "execution_count": null,
   "id": "a976785e",
   "metadata": {},
   "outputs": [],
   "source": [
    "spark.sql(\"\"\"DROP TABLE IF EXISTS gold.dim_customers\"\"\")"
   ]
  },
  {
   "cell_type": "code",
   "execution_count": null,
   "id": "c2988d14",
   "metadata": {},
   "outputs": [],
   "source": [
    "spark.sql(\"\"\"CREATE TABLE gold.dim_customers\n",
    "USING parquet\n",
    "AS\n",
    "SELECT\n",
    "  cst_id        AS customer_id,\n",
    "  cst_firstname AS first_name,\n",
    "  cst_lastname  AS last_name,\n",
    "  cst_gndr      AS gender,\n",
    "  cst_marital_status AS marital_status,\n",
    "  cst_create_date    AS record_created_at\n",
    "FROM silver.crm_cust_info\"\"\")"
   ]
  },
  {
   "cell_type": "code",
   "execution_count": null,
   "id": "c8489e25",
   "metadata": {},
   "outputs": [],
   "source": [
    "spark.sql(\"\"\"SELECT * FROM gold.dim_customers LIMIT 20\"\"\").show(20, truncate=False)"
   ]
  },
  {
   "cell_type": "code",
   "execution_count": null,
   "id": "fb80aa0c",
   "metadata": {},
   "outputs": [],
   "source": [
    "spark.sql(\"\"\"SELECT COUNT(*) AS rows FROM gold.dim_customers\"\"\").show(truncate=False)"
   ]
  },
  {
   "cell_type": "markdown",
   "id": "e61f6ebf",
   "metadata": {},
   "source": [
    "#### Dimension: Products"
   ]
  },
  {
   "cell_type": "code",
   "execution_count": null,
   "id": "f9302cc9",
   "metadata": {},
   "outputs": [],
   "source": [
    "spark.sql(\"\"\"DROP TABLE IF EXISTS gold.dim_products\"\"\")"
   ]
  },
  {
   "cell_type": "code",
   "execution_count": null,
   "id": "549a9fa9",
   "metadata": {},
   "outputs": [],
   "source": [
    "spark.sql(\"\"\"CREATE TABLE gold.dim_products\n",
    "USING parquet\n",
    "AS\n",
    "SELECT\n",
    "  prd_id      AS product_id,\n",
    "  prd_key     AS product_key,\n",
    "  prd_nm      AS product_name,\n",
    "  prd_line    AS product_line,\n",
    "  prd_cost    AS prd_cost,\n",
    "  prd_start_dt,\n",
    "  prd_end_dt\n",
    "FROM silver.crm_prd_info\"\"\")"
   ]
  },
  {
   "cell_type": "code",
   "execution_count": null,
   "id": "93af5cdc",
   "metadata": {},
   "outputs": [],
   "source": [
    "spark.sql(\"\"\"SELECT * FROM gold.dim_products LIMIT 20\"\"\").show(20, truncate=False)"
   ]
  },
  {
   "cell_type": "code",
   "execution_count": null,
   "id": "ff301f3c",
   "metadata": {},
   "outputs": [],
   "source": [
    "spark.sql(\"\"\"SELECT COUNT(*) AS rows FROM gold.dim_products\"\"\").show(truncate=False)"
   ]
  },
  {
   "cell_type": "markdown",
   "id": "1c357c3c",
   "metadata": {},
   "source": [
    "#### Fact: Sales (includes `product_key` for joining to product dimension)"
   ]
  },
  {
   "cell_type": "code",
   "execution_count": null,
   "id": "bf2594fe",
   "metadata": {},
   "outputs": [],
   "source": [
    "spark.sql(\"\"\"DROP TABLE IF EXISTS gold.fact_sales\"\"\")"
   ]
  },
  {
   "cell_type": "code",
   "execution_count": null,
   "id": "90b1e254",
   "metadata": {},
   "outputs": [],
   "source": [
    "spark.sql(\"\"\"CREATE TABLE gold.fact_sales\n",
    "USING parquet\n",
    "AS\n",
    "SELECT\n",
    "  s.sale_id,\n",
    "  s.cst_id      AS customer_id,\n",
    "  s.prd_key     AS product_key,\n",
    "  s.qty, s.price, s.amount,\n",
    "  s.order_dt, s.ship_dt, s.due_dt\n",
    "FROM silver.crm_sales_details s\n",
    "LEFT JOIN gold.dim_products p\n",
    "  ON s.prd_key = p.product_key\"\"\")"
   ]
  },
  {
   "cell_type": "code",
   "execution_count": null,
   "id": "975ebc34",
   "metadata": {},
   "outputs": [],
   "source": [
    "spark.sql(\"\"\"SELECT * FROM gold.fact_sales LIMIT 20\"\"\").show(20, truncate=False)"
   ]
  },
  {
   "cell_type": "code",
   "execution_count": null,
   "id": "ecf9e152",
   "metadata": {},
   "outputs": [],
   "source": [
    "spark.sql(\"\"\"SELECT COUNT(*) AS rows FROM gold.fact_sales\"\"\").show(truncate=False)"
   ]
  },
  {
   "cell_type": "code",
   "execution_count": null,
   "id": "628a82a6",
   "metadata": {},
   "outputs": [],
   "source": [
    "spark.sql(\"\"\"SELECT * FROM gold.vw_sales_star LIMIT 20\"\"\").show(20, truncate=False)"
   ]
  }
 ],
 "metadata": {
  "language_info": {
   "name": "python"
  }
 },
 "nbformat": 4,
 "nbformat_minor": 5
}
