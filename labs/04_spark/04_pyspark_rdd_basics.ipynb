{
  "cells": [
    {
      "cell_type": "markdown",
      "metadata": {},
      "source": [
        "# PySpark RDD Operations Example\n",
        "\n",
        "This notebook demonstrates basic and advanced operations on an RDD (Resilient Distributed Dataset) in PySpark. It covers creating an RDD from a sample list, performing various transformations and actions, and applying set operations on RDDs.\n"
      ]
    },
    {
      "cell_type": "markdown",
      "metadata": {},
      "source": [
        "#### Initializing Spark Session\n",
        "To begin working with PySpark, a Spark session needs to be initialized. This session acts as the entry point for interacting with Spark.\n",
        "\n",
        "```python\n",
        "from pyspark.sql import SparkSession\n",
        "spark = SparkSession.builder.getOrCreate()\n",
        "```"
      ]
    },
    {
      "cell_type": "markdown",
      "metadata": {},
      "source": [
        "#### Creating an RDD from a List\n",
        "An RDD (Resilient Distributed Dataset) is the fundamental data structure in Spark, representing a distributed collection of elements that can be processed in parallel. Create an RDD from a list:\n",
        "\n",
        "```python\n",
        "sampleList = [10, 11, 22, 23, 34, 35, 40, 45, 60]\n",
        "sampleRdd = spark.sparkContext.parallelize(sampleList)\n",
        "```"
      ]
    },
    {
      "cell_type": "markdown",
      "metadata": {},
      "source": [
        "#### Counting Elements in the RDD\n",
        "The `count()` action returns the number of elements in the RDD.\n",
        "\n",
        "```python\n",
        "sampleRdd.count()\n",
        "```"
      ]
    },
    {
      "cell_type": "markdown",
      "metadata": {},
      "source": [
        "#### Collecting All Elements of the RDD\n",
        "The `collect()` action retrieves all the elements of the RDD into a list. *Be cautious with large RDDs, as collecting too much data can lead to memory issues.*\n",
        "\n",
        "```python\n",
        "sampleRdd.collect()\n",
        "```"
      ]
    },
    {
      "cell_type": "markdown",
      "metadata": {},
      "source": [
        "#### Retrieving the First Element of the RDD\n",
        "The `first()` action returns the first element of the RDD.\n",
        "\n",
        "```python\n",
        "sampleRdd.first()\n",
        "```"
      ]
    },
    {
      "cell_type": "markdown",
      "metadata": {},
      "source": [
        "#### Taking the First 3 Elements of the RDD\n",
        "The `take(n)` action returns the first `n` elements from the RDD.\n",
        "\n",
        "```python\n",
        "sampleRdd.take(3)\n",
        "```"
      ]
    },
    {
      "cell_type": "markdown",
      "metadata": {},
      "source": [
        "#### Summing All Elements in the RDD\n",
        "The `sum()` action computes the sum of all elements in the RDD.\n",
        "\n",
        "```python\n",
        "sampleRdd.sum()\n",
        "```"
      ]
    },
    {
      "cell_type": "markdown",
      "metadata": {},
      "source": [
        "#### Finding the Minimum Value in the RDD\n",
        "The `min()` action returns the smallest element in the RDD.\n",
        "\n",
        "```python\n",
        "sampleRdd.min()\n",
        "```"
      ]
    },
    {
      "cell_type": "markdown",
      "metadata": {},
      "source": [
        "#### Finding the Maximum Value in the RDD\n",
        "The `max()` action returns the largest element in the RDD.\n",
        "\n",
        "```python\n",
        "sampleRdd.max()\n",
        "```"
      ]
    },
    {
      "cell_type": "markdown",
      "metadata": {},
      "source": [
        "#### Calculating the Mean of the RDD Elements\n",
        "The `mean()` action computes the average of the elements in the RDD.\n",
        "\n",
        "```python\n",
        "sampleRdd.mean()\n",
        "```"
      ]
    },
    {
      "cell_type": "markdown",
      "metadata": {},
      "source": [
        "#### Calculating the Variance of the RDD Elements\n",
        "The `variance()` action calculates how much the elements in the RDD deviate from the mean.\n",
        "\n",
        "```python\n",
        "sampleRdd.variance()\n",
        "```"
      ]
    },
    {
      "cell_type": "markdown",
      "metadata": {},
      "source": [
        "#### Calculating the Standard Deviation of the RDD Elements\n",
        "The `stdev()` action calculates the standard deviation, which is the square root of the variance.\n",
        "\n",
        "```python\n",
        "sampleRdd.stdev()\n",
        "```"
      ]
    },
    {
      "cell_type": "markdown",
      "metadata": {},
      "source": [
        "#### Getting RDD Statistics\n",
        "The `stats()` action returns an object containing statistics like count, mean, variance, and more.\n",
        "\n",
        "```python\n",
        "sampleRdd.stats()\n",
        "```"
      ]
    },
    {
      "cell_type": "markdown",
      "metadata": {},
      "source": [
        "#### Applying a map Transformation\n",
        "The `map()` transformation applies a function to each element in the RDD, returning a new RDD with the transformed elements.\n",
        "\n",
        "```python\n",
        "sampleRdd.map(lambda x: (x, 1)).collect()\n",
        "```"
      ]
    },
    {
      "cell_type": "markdown",
      "metadata": {},
      "source": [
        "#### Mapping to a Tuple with a String\n",
        "Use the `map()` transformation to pair each element with a string.\n",
        "\n",
        "```python\n",
        "sampleRdd.map(lambda x: (x, \"Hello\")).collect()\n",
        "```"
      ]
    },
    {
      "cell_type": "markdown",
      "metadata": {},
      "source": [
        "#### Mapping to a Complex Tuple\n",
        "Use the `map()` transformation to create a complex tuple with multiple values derived from each element.\n",
        "\n",
        "```python\n",
        "sampleRdd.map(lambda x: (x, \"Hello\", x+10, x*x)).collect()\n",
        "```"
      ]
    },
    {
      "cell_type": "markdown",
      "metadata": {},
      "source": [
        "#### Reducing the RDD Elements\n",
        "The `reduce()` action combines elements of the RDD using a specified binary operation, returning a single result.\n",
        "\n",
        "```python\n",
        "sampleRdd.reduce(lambda x, y: x+y)\n",
        "```"
      ]
    },
    {
      "cell_type": "markdown",
      "metadata": {},
      "source": [
        "#### Filtering Odd Elements\n",
        "The `filter()` transformation returns a new RDD containing only the elements that satisfy a specified condition.\n",
        "\n",
        "```python\n",
        "sampleRdd.filter(lambda x: x % 2 == 1).collect()\n",
        "```"
      ]
    },
    {
      "cell_type": "markdown",
      "metadata": {},
      "source": [
        "#### Reducing Filtered Odd Elements\n",
        "Filter the RDD to keep only odd elements and then sum them using `reduce()`.\n",
        "\n",
        "```python\n",
        "sampleRdd.filter(lambda x: x % 2 == 1).reduce(lambda x, y: x+y)\n",
        "```"
      ]
    },
    {
      "cell_type": "markdown",
      "metadata": {},
      "source": [
        "#### Mapping Filtered Elements\n",
        "Filter the RDD to keep only odd elements and then map them to their triple value using `map()`.\n",
        "\n",
        "```python\n",
        "sampleRdd.filter(lambda x: x % 2 == 1).map(lambda x: x+x+x).collect()\n",
        "```"
      ]
    },
    {
      "cell_type": "markdown",
      "metadata": {},
      "source": [
        "#### Reducing the Triple Value of Filtered Elements\n",
        "Filter the RDD to keep only odd elements, map them to their triple value, and then sum the results using `reduce()`.\n",
        "\n",
        "```python\n",
        "sampleRdd.filter(lambda x: x % 2 == 1).map(lambda x: x+x+x).reduce(lambda x, y: x+y)\n",
        "```"
      ]
    },
    {
      "cell_type": "markdown",
      "metadata": {},
      "source": [
        "#### Set Operations on RDDs\n",
        "RDDs can be used to perform set operations like `union()`, `intersection()`, and `subtract()`. Create two RDDs for set operations:\n",
        "\n",
        "```python\n",
        "rdd1 = spark.sparkContext.parallelize([1,2,3,4,5])\n",
        "rdd2 = spark.sparkContext.parallelize([3,4,5,6,7])\n",
        "```"
      ]
    },
    {
      "cell_type": "markdown",
      "metadata": {},
      "source": [
        "#### Union of Two RDDs\n",
        "The `union()` transformation combines the elements of two RDDs, returning a new RDD containing all elements from both.\n",
        "\n",
        "```python\n",
        "rdd1.union(rdd2).collect()\n",
        "```"
      ]
    },
    {
      "cell_type": "markdown",
      "metadata": {},
      "source": [
        "#### Distinct Union of Two RDDs\n",
        "The `distinct()` transformation removes duplicates from an RDD. Apply it after `union()` to get distinct elements from both RDDs.\n",
        "\n",
        "```python\n",
        "rdd1.union(rdd2).distinct().collect()\n",
        "```"
      ]
    },
    {
      "cell_type": "markdown",
      "metadata": {},
      "source": [
        "#### Intersection of Two RDDs\n",
        "The `intersection()` transformation returns an RDD containing elements common to both RDDs.\n",
        "\n",
        "```python\n",
        "rdd1.intersection(rdd2).collect()\n",
        "```"
      ]
    },
    {
      "cell_type": "markdown",
      "metadata": {},
      "source": [
        "#### Subtraction of Two RDDs\n",
        "The `subtract()` transformation returns an RDD containing elements in the first RDD but not in the second.\n",
        "\n",
        "```python\n",
        "rdd1.subtract(rdd2).collect()\n",
        "```"
      ]
    },
    {
      "cell_type": "markdown",
      "metadata": {},
      "source": [
        "#### Reflections"
      ]
    },
    {
      "cell_type": "markdown",
      "metadata": {},
      "source": [
        "- **RDD Basics in PySpark**: How to create an RDD from a list using `sc.parallelize()` and perform fundamental operations.\n",
        "- **Counting and Collecting**: Techniques for counting elements in an RDD and collecting them into a list.\n",
        "- **Retrieving Elements**: How to retrieve the first element and a subset of elements from an RDD.\n",
        "- **Computing Statistics**: Methods for computing the sum, minimum, maximum, mean, variance, and standard deviation of RDD elements.\n",
        "- **RDD Transformations and Actions**: How to use `map()`, `filter()`, and `reduce()` to manipulate and process data in an RDD.\n",
        "- **Combining and Comparing RDDs**: Techniques for performing set operations like `union()`, `intersection()`, and `subtract()` on RDDs.\n",
        "- **Applying Functions to RDD Elements**: Use of lambda functions within RDD transformations to create complex mappings and filters."
      ]
    }
  ],
  "metadata": {
    "kernelspec": {
      "display_name": "Python 3",
      "language": "python",
      "name": "python3"
    },
    "language_info": {
      "codemirror_mode": {
        "name": "ipython",
        "version": 3
      },
      "file_extension": ".py",
      "mimetype": "text/x-python",
      "name": "python",
      "nbconvert_exporter": "python",
      "version": "3.8"
    }
  },
  "nbformat": 4,
  "nbformat_minor": 2
}
