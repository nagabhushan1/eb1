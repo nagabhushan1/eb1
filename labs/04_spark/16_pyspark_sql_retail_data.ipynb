{
  "cells": [
    {
      "cell_type": "markdown",
      "metadata": {},
      "source": [
        "# Retail data — Spark SQL only\n",
        "This notebook loads headerless CSVs from `/content`, registers temp views, and demonstrates common analytics using **pure SQL**."
      ]
    },
    {
      "cell_type": "markdown",
      "metadata": {},
      "source": [
        "## Setup"
      ]
    },
    {
      "cell_type": "code",
      "execution_count": null,
      "metadata": {},
      "outputs": [],
      "source": [
        "from pyspark.sql import SparkSession\n",
        "from pyspark.sql.types import StructType, StructField, IntegerType, StringType, DoubleType, TimestampType\n",
        "spark = SparkSession.builder.appName(\"Retail-Data-PySpark-SQL\").getOrCreate()\n",
        "INPUT_ROOT = \"/content\"  # headerless CSVs"
      ]
    },
    {
      "cell_type": "markdown",
      "metadata": {},
      "source": [
        "## Define schemas (match the column order in the CSV files)"
      ]
    },
    {
      "cell_type": "code",
      "execution_count": null,
      "metadata": {},
      "outputs": [],
      "source": [
        "orders_schema = StructType([\n",
        "    StructField(\"order_id\", IntegerType(), True),\n",
        "    StructField(\"order_date\", TimestampType(), True),\n",
        "    StructField(\"order_customer_id\", IntegerType(), True),\n",
        "    StructField(\"order_status\", StringType(), True)\n",
        "])\n",
        "\n",
        "order_items_schema = StructType([\n",
        "    StructField(\"order_item_id\", IntegerType(), True),\n",
        "    StructField(\"order_item_order_id\", IntegerType(), True),\n",
        "    StructField(\"order_item_product_id\", IntegerType(), True),\n",
        "    StructField(\"order_item_quantity\", IntegerType(), True),\n",
        "    StructField(\"order_item_subtotal\", DoubleType(), True),\n",
        "    StructField(\"order_item_product_price\", DoubleType(), True)\n",
        "])\n",
        "\n",
        "customers_schema = StructType([\n",
        "    StructField(\"customer_id\", IntegerType(), True),\n",
        "    StructField(\"customer_fname\", StringType(), True),\n",
        "    StructField(\"customer_lname\", StringType(), True),\n",
        "    StructField(\"customer_email\", StringType(), True),\n",
        "    StructField(\"customer_password\", StringType(), True),\n",
        "    StructField(\"customer_street\", StringType(), True),\n",
        "    StructField(\"customer_city\", StringType(), True),\n",
        "    StructField(\"customer_state\", StringType(), True),\n",
        "    StructField(\"customer_zipcode\", StringType(), True)\n",
        "])\n",
        "\n",
        "categories_schema = StructType([\n",
        "    StructField(\"category_id\", IntegerType(), True),\n",
        "    StructField(\"category_department_id\", IntegerType(), True),\n",
        "    StructField(\"category_name\", StringType(), True)\n",
        "])\n",
        "\n",
        "products_schema = StructType([\n",
        "    StructField(\"product_id\", IntegerType(), True),\n",
        "    StructField(\"product_category_id\", IntegerType(), True),\n",
        "    StructField(\"product_name\", StringType(), True),\n",
        "    StructField(\"product_description\", StringType(), True),\n",
        "    StructField(\"product_price\", DoubleType(), True),\n",
        "    StructField(\"product_image\", StringType(), True)\n",
        "])\n",
        "\n",
        "departments_schema = StructType([\n",
        "    StructField(\"department_id\", IntegerType(), True),\n",
        "    StructField(\"department_name\", StringType(), True)\n",
        "])"
      ]
    },
    {
      "cell_type": "markdown",
      "metadata": {},
      "source": [
        "## Load CSVs (header=False) and register temp views"
      ]
    },
    {
      "cell_type": "code",
      "execution_count": null,
      "metadata": {},
      "outputs": [],
      "source": [
        "orders = spark.read.option(\"header\", False).schema(orders_schema).csv(f\"{INPUT_ROOT}/orders.csv\")\n",
        "order_items = spark.read.option(\"header\", False).schema(order_items_schema).csv(f\"{INPUT_ROOT}/order_items.csv\")\n",
        "customers = spark.read.option(\"header\", False).schema(customers_schema).csv(f\"{INPUT_ROOT}/customers.csv\")\n",
        "categories = spark.read.option(\"header\", False).schema(categories_schema).csv(f\"{INPUT_ROOT}/categories.csv\")\n",
        "products = spark.read.option(\"header\", False).schema(products_schema).csv(f\"{INPUT_ROOT}/products.csv\")\n",
        "departments = spark.read.option(\"header\", False).schema(departments_schema).csv(f\"{INPUT_ROOT}/departments.csv\")\n",
        "\n",
        "orders.createOrReplaceTempView(\"orders\")\n",
        "order_items.createOrReplaceTempView(\"order_items\")\n",
        "customers.createOrReplaceTempView(\"customers\")\n",
        "categories.createOrReplaceTempView(\"categories\")\n",
        "products.createOrReplaceTempView(\"products\")\n",
        "departments.createOrReplaceTempView(\"departments\")"
      ]
    },
    {
      "cell_type": "markdown",
      "metadata": {},
      "source": [
        "## SQL — count of orders"
      ]
    },
    {
      "cell_type": "code",
      "execution_count": null,
      "metadata": {},
      "outputs": [],
      "source": [
        "spark.sql(\"\"\"\n",
        "SELECT COUNT(*) AS orders_count\n",
        "FROM orders\n",
        "\"\"\").show(truncate=False)"
      ]
    },
    {
      "cell_type": "markdown",
      "id": "bdbe8f0e",
      "metadata": {},
      "source": [
        "## SQL — distinct order status"
      ]
    },
    {
      "cell_type": "code",
      "execution_count": null,
      "id": "4eb0032c",
      "metadata": {},
      "outputs": [],
      "source": [
        "spark.sql(\"\"\"\n",
        "SELECT DISTINCT order_status\n",
        "FROM orders\n",
        "ORDER BY order_status\n",
        "\"\"\").show(truncate=False)"
      ]
    },
    {
      "cell_type": "markdown",
      "metadata": {},
      "source": [
        "## SQL — derive `line_amount` on order_items"
      ]
    },
    {
      "cell_type": "code",
      "execution_count": null,
      "metadata": {},
      "outputs": [],
      "source": [
        "spark.sql(\"\"\"\n",
        "SELECT\n",
        "  order_item_id,\n",
        "  order_item_order_id,\n",
        "  order_item_quantity * order_item_product_price AS line_amount\n",
        "FROM order_items\n",
        "LIMIT 5\n",
        "\"\"\").show(truncate=False)"
      ]
    },
    {
      "cell_type": "markdown",
      "metadata": {},
      "source": [
        "## SQL — group revenue per order"
      ]
    },
    {
      "cell_type": "code",
      "execution_count": null,
      "metadata": {},
      "outputs": [],
      "source": [
        "spark.sql(\"\"\"\n",
        "SELECT\n",
        "  order_item_order_id AS order_id,\n",
        "  ROUND(SUM(order_item_quantity * order_item_product_price), 2) AS order_revenue\n",
        "FROM order_items\n",
        "GROUP BY order_item_order_id\n",
        "ORDER BY order_revenue DESC\n",
        "LIMIT 10\n",
        "\"\"\").show(truncate=False)"
      ]
    },
    {
      "cell_type": "markdown",
      "metadata": {},
      "source": [
        "## SQL — concatenate full name"
      ]
    },
    {
      "cell_type": "code",
      "execution_count": null,
      "metadata": {},
      "outputs": [],
      "source": [
        "spark.sql(\"\"\"\n",
        "SELECT\n",
        "  customer_id,\n",
        "  CONCAT_WS(' ', customer_fname, customer_lname) AS full_name\n",
        "FROM customers\n",
        "LIMIT 5\n",
        "\"\"\").show(truncate=False)"
      ]
    },
    {
      "cell_type": "markdown",
      "metadata": {},
      "source": [
        "## SQL — filter where status == 'COMPLETE'"
      ]
    },
    {
      "cell_type": "code",
      "execution_count": null,
      "metadata": {},
      "outputs": [],
      "source": [
        "spark.sql(\"\"\"\n",
        "SELECT order_id, order_status\n",
        "FROM orders\n",
        "WHERE order_status = 'COMPLETE'\n",
        "LIMIT 5\n",
        "\"\"\").show(truncate=False)"
      ]
    },
    {
      "cell_type": "markdown",
      "metadata": {},
      "source": [
        "## SQL — revenue for a specific order (order_id = 2)"
      ]
    },
    {
      "cell_type": "code",
      "execution_count": null,
      "metadata": {},
      "outputs": [],
      "source": [
        "spark.sql(\"\"\"\n",
        "SELECT ROUND(SUM(order_item_quantity * order_item_product_price), 2) AS revenue_for_order_2\n",
        "FROM order_items\n",
        "WHERE order_item_order_id = 2\n",
        "\"\"\").show(truncate=False)"
      ]
    },
    {
      "cell_type": "markdown",
      "metadata": {},
      "source": [
        "## SQL — revenue by category (order_items → products → categories)"
      ]
    },
    {
      "cell_type": "code",
      "execution_count": null,
      "metadata": {},
      "outputs": [],
      "source": [
        "spark.sql(\"\"\"\n",
        "SELECT\n",
        "  c.category_id,\n",
        "  c.category_name,\n",
        "  ROUND(SUM(oi.order_item_quantity * oi.order_item_product_price), 2) AS revenue\n",
        "FROM order_items oi\n",
        "JOIN products p\n",
        "  ON oi.order_item_product_id = p.product_id\n",
        "JOIN categories c\n",
        "  ON p.product_category_id = c.category_id\n",
        "GROUP BY c.category_id, c.category_name\n",
        "ORDER BY revenue DESC\n",
        "LIMIT 10\n",
        "\"\"\").show(truncate=False)"
      ]
    },
    {
      "cell_type": "markdown",
      "metadata": {},
      "source": [
        "## SQL — top products by revenue"
      ]
    },
    {
      "cell_type": "code",
      "execution_count": null,
      "metadata": {},
      "outputs": [],
      "source": [
        "spark.sql(\"\"\"\n",
        "SELECT\n",
        "  p.product_id,\n",
        "  p.product_name,\n",
        "  ROUND(SUM(oi.order_item_quantity * oi.order_item_product_price), 2) AS revenue\n",
        "FROM order_items oi\n",
        "JOIN products p\n",
        "  ON oi.order_item_product_id = p.product_id\n",
        "GROUP BY p.product_id, p.product_name\n",
        "ORDER BY revenue DESC\n",
        "LIMIT 10\n",
        "\"\"\").show(truncate=False)"
      ]
    }
  ],
  "metadata": {
    "kernelspec": {
      "display_name": "Python 3",
      "language": "python",
      "name": "python3"
    }
  },
  "nbformat": 4,
  "nbformat_minor": 5
}
