{
 "cells": [
  {
   "cell_type": "markdown",
   "id": "11082de0",
   "metadata": {},
   "source": [
    "\n",
    "# 🛒 AWS DynamoDB – eCommerce Use Case\n",
    "\n",
    "This lab demonstrates how to create and manage a **DynamoDB table** in the AWS Management Console for an **eCommerce application**.\n",
    "\n",
    "You will create a table, insert items of variable lengths, and explore data using the console.\n"
   ]
  },
  {
   "cell_type": "markdown",
   "id": "64a140c6",
   "metadata": {},
   "source": [
    "\n",
    "## ✅ Objective\n",
    "\n",
    "- Create a DynamoDB table for storing **eCommerce Orders**\n",
    "- Understand the use of **Partition Key** and **Sort Key**\n",
    "- Add and explore items with **different attributes**\n",
    "- Query items using the **console SQL editor**\n",
    "- Review additional console options such as **Indexes**, **Backups**, and **Monitoring**\n"
   ]
  },
  {
   "cell_type": "markdown",
   "id": "2a60d575",
   "metadata": {},
   "source": [
    "\n",
    "## ⚙️ Step 1 – Open DynamoDB Console\n",
    "\n",
    "1. Log in to the **AWS Management Console**\n",
    "2. In the search bar, type **DynamoDB** and select the service\n",
    "3. From the left navigation pane, click **Tables**\n",
    "4. Choose **Create table**\n"
   ]
  },
  {
   "cell_type": "markdown",
   "id": "1d89de2f",
   "metadata": {},
   "source": [
    "\n",
    "## 🧩 Step 2 – Create a Table\n",
    "\n",
    "1. **Table name:** `OrdersTable`\n",
    "2. **Partition key:** `OrderID` (String)\n",
    "3. **Sort key:** `CustomerID` (String)\n",
    "4. Keep remaining settings as **default**\n",
    "   - Table class: **Standard**\n",
    "   - Capacity mode: **Provisioned**\n",
    "   - Read capacity: 5\n",
    "   - Write capacity: 5\n",
    "5. Click **Create table**\n"
   ]
  },
  {
   "cell_type": "markdown",
   "id": "ab949efd",
   "metadata": {},
   "source": [
    "\n",
    "## 📋 Step 3 – Verify Table Creation\n",
    "\n",
    "- Wait until the table status shows **Active**\n",
    "- Select the table to view its **General information**\n",
    "  - Partition Key: `OrderID`\n",
    "  - Sort Key: `CustomerID`\n",
    "- Note that **Items count = 0** initially\n"
   ]
  },
  {
   "cell_type": "markdown",
   "id": "6e57a7b8",
   "metadata": {},
   "source": [
    "\n",
    "## 🧱 Step 4 – Add Items\n",
    "\n",
    "1. From the table view, select **Explore items**\n",
    "2. Click **Create item**\n",
    "3. Enter details as follows:\n",
    "\n",
    "### Example 1 – Standard Order\n",
    "```json\n",
    "{\n",
    "  \"OrderID\": \"ORD1001\",\n",
    "  \"CustomerID\": \"CUST001\",\n",
    "  \"ProductName\": \"Wireless Mouse\",\n",
    "  \"Quantity\": 2,\n",
    "  \"Price\": 25.99,\n",
    "  \"PaymentMode\": \"CreditCard\",\n",
    "  \"ShippingAddress\": \"Bangalore, India\"\n",
    "}\n",
    "```\n",
    "\n",
    "Click **Create item**.\n"
   ]
  },
  {
   "cell_type": "markdown",
   "id": "40b3bb1f",
   "metadata": {},
   "source": [
    "\n",
    "### Example 2 – Different Attributes (Flexibility)\n",
    "\n",
    "```json\n",
    "{\n",
    "  \"OrderID\": \"ORD1002\",\n",
    "  \"CustomerID\": \"CUST002\",\n",
    "  \"ProductName\": \"Bluetooth Speaker\",\n",
    "  \"Quantity\": 1,\n",
    "  \"Price\": 45.50,\n",
    "  \"Discount\": 10,\n",
    "  \"CouponApplied\": \"WELCOME10\",\n",
    "  \"Tags\": [\"Electronics\", \"Portable\"],\n",
    "  \"Status\": \"Delivered\"\n",
    "}\n",
    "```\n",
    "\n",
    "Click **Create item**.\n"
   ]
  },
  {
   "cell_type": "markdown",
   "id": "6e06b9e3",
   "metadata": {},
   "source": [
    "\n",
    "### Example 3 – Nested Data (JSON / List Example)\n",
    "\n",
    "```json\n",
    "{\n",
    "  \"OrderID\": \"ORD1003\",\n",
    "  \"CustomerID\": \"CUST003\",\n",
    "  \"Products\": [\n",
    "    {\"Name\": \"Keyboard\", \"Qty\": 1, \"Price\": 30},\n",
    "    {\"Name\": \"Monitor\", \"Qty\": 1, \"Price\": 150}\n",
    "  ],\n",
    "  \"PaymentMode\": \"UPI\",\n",
    "  \"ShippingAddress\": \"Mumbai, India\",\n",
    "  \"TotalAmount\": 180\n",
    "}\n",
    "```\n",
    "\n",
    "Click **Create item**.\n"
   ]
  },
  {
   "cell_type": "markdown",
   "id": "ec83195b",
   "metadata": {},
   "source": [
    "\n",
    "### Example 4 – Minimal Attributes\n",
    "\n",
    "```json\n",
    "{\n",
    "  \"OrderID\": \"ORD1004\",\n",
    "  \"CustomerID\": \"CUST004\",\n",
    "  \"ProductName\": \"Gift Card\",\n",
    "  \"Amount\": 1000\n",
    "}\n",
    "```\n",
    "\n",
    "Click **Create item**.\n"
   ]
  },
  {
   "cell_type": "markdown",
   "id": "e08595e9",
   "metadata": {},
   "source": [
    "\n",
    "### Example 5 – Attribute with Map and List\n",
    "\n",
    "```json\n",
    "{\n",
    "  \"OrderID\": \"ORD1005\",\n",
    "  \"CustomerID\": \"CUST005\",\n",
    "  \"ProductName\": \"Smart Watch\",\n",
    "  \"Specifications\": {\n",
    "    \"Brand\": \"FitPulse\",\n",
    "    \"Color\": \"Black\",\n",
    "    \"Battery\": \"7 days\"\n",
    "  },\n",
    "  \"Accessories\": [\"Charging Cable\", \"User Manual\"],\n",
    "  \"Price\": 85.75,\n",
    "  \"Status\": \"In Transit\"\n",
    "}\n",
    "```\n",
    "\n",
    "Click **Create item**.\n"
   ]
  },
  {
   "cell_type": "markdown",
   "id": "262c97df",
   "metadata": {},
   "source": [
    "\n",
    "## 🔍 Step 5 – Explore and Query Items\n",
    "\n",
    "1. Go to the **Explore items** tab\n",
    "2. You can now see all your inserted items with variable attributes\n",
    "3. Select the **PartiQL editor** tab to run queries\n",
    "\n",
    "### Example Queries\n",
    "\n",
    "- Retrieve all orders\n",
    "  ```sql\n",
    "  SELECT * FROM \"OrdersTable\";\n",
    "  ```\n",
    "\n",
    "- Retrieve specific order\n",
    "  ```sql\n",
    "  SELECT * FROM \"OrdersTable\" WHERE \"OrderID\" = 'ORD1002';\n",
    "  ```\n",
    "\n",
    "- Retrieve all orders for a specific customer\n",
    "  ```sql\n",
    "  SELECT * FROM \"OrdersTable\" WHERE \"CustomerID\" = 'CUST003';\n",
    "  ```\n"
   ]
  },
  {
   "cell_type": "markdown",
   "id": "be8e84e9",
   "metadata": {},
   "source": [
    "\n",
    "## 📊 Step 6 – Review Table Options\n",
    "\n",
    "### Indexes\n",
    "- Use **Global Secondary Indexes (GSI)** if you frequently query by non-key attributes (e.g., `Status`, `PaymentMode`).\n",
    "\n",
    "### Monitoring\n",
    "- View **read/write capacity usage** and **throttling metrics** in the **Monitoring** tab (powered by CloudWatch).\n",
    "\n",
    "### Backups\n",
    "- Go to the **Backups** tab to create **on-demand backups** or **point-in-time recovery**.\n",
    "\n",
    "### Export and Import\n",
    "- You can export data to **S3** or import from **S3** directly using the **Export/Import** option.\n",
    "\n",
    "### Global Tables\n",
    "- Use this to replicate your table across **multiple regions** for high availability.\n"
   ]
  },
  {
   "cell_type": "markdown",
   "id": "44257f5c",
   "metadata": {},
   "source": [
    "\n",
    "## 🧹 Cleanup\n",
    "\n",
    "1. Go to **Tables** in the DynamoDB console\n",
    "2. Select `OrdersTable`\n",
    "3. Choose **Delete table**\n",
    "4. Confirm deletion to avoid unnecessary costs\n"
   ]
  }
 ],
 "metadata": {
  "language_info": {
   "name": "python"
  }
 },
 "nbformat": 4,
 "nbformat_minor": 5
}
