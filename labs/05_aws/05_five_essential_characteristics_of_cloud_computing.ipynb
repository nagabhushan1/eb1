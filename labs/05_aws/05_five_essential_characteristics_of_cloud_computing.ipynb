{
 "cells": [
  {
   "cell_type": "markdown",
   "id": "ce8dd2a9",
   "metadata": {},
   "source": [
    "\n",
    "# Five Essential Characteristics of Cloud Computing\n",
    "\n",
    "## Introduction\n",
    "\n",
    "In the previous lecture, we explored **what cloud computing is**, understood its **definition**, and examined the **key benefits**.  \n",
    "We also compared **business expectations** with the **advantages** of adopting cloud computing.\n",
    "\n",
    "Now, let’s dive deeper and explore the **five essential characteristics** that define any cloud computing environment.  \n",
    "Whenever companies like **Microsoft Azure**, **Amazon Web Services (AWS)**, or **Google Cloud Platform (GCP)** claim to be “cloud providers,”  \n",
    "they are referring to these five key characteristics.\n"
   ]
  },
  {
   "cell_type": "markdown",
   "id": "cb80fd7c",
   "metadata": {},
   "source": [
    "\n",
    "## The Five Essential Characteristics\n",
    "\n",
    "1. **On-Demand Self-Service**  \n",
    "2. **Broad Network Access**  \n",
    "3. **Resource Pooling**  \n",
    "4. **Rapid Elasticity**  \n",
    "5. **Measured Service**\n",
    "\n",
    "These are the foundational attributes that make cloud computing powerful and scalable.  \n",
    "Let’s explore how cloud providers can offer these features so effectively.\n"
   ]
  },
  {
   "cell_type": "markdown",
   "id": "6125868c",
   "metadata": {},
   "source": [
    "\n",
    "## Understanding the Foundation — Virtualization\n",
    "\n",
    "To understand cloud characteristics, we must first grasp **virtualization** —  \n",
    "the technology that makes cloud computing possible.\n"
   ]
  },
  {
   "cell_type": "markdown",
   "id": "f88b8edf",
   "metadata": {},
   "source": [
    "\n",
    "### What is Virtualization?\n",
    "\n",
    "Virtualization is a **software-based technique** that creates **virtual machines (VMs)**  \n",
    "representing shared physical infrastructure components such as:\n",
    "\n",
    "- CPU (Processor)\n",
    "- RAM (Memory)\n",
    "- Storage (Hard Disk)\n",
    "- Network Interfaces\n",
    "\n",
    "It allows a single large physical machine to be divided into multiple smaller, independent virtual machines.\n"
   ]
  },
  {
   "cell_type": "markdown",
   "id": "2f2ca0bc",
   "metadata": {},
   "source": [
    "\n",
    "### Example: Traditional vs Virtualized Setup\n",
    "\n",
    "In a traditional environment:\n",
    "- Each application runs on its own **physical server**.\n",
    "- Servers often use only **30% of their capacity**, wasting valuable resources.\n",
    "\n",
    "In a virtualized environment:\n",
    "- A **hypervisor** (a software layer) divides the physical server into multiple **virtual machines**.\n",
    "- Each VM can run a different application (Java, Node.js, Python, etc.).\n",
    "- The hypervisor allocates CPU, RAM, and disk dynamically as needed.\n",
    "\n",
    "![](images/virtualization_concept.png?raw=true)\n",
    "\n",
    "This means that instead of three physical servers running three different applications,  \n",
    "you can have **two physical servers** hosting multiple **virtual machines**,  \n",
    "each configured for specific workloads — saving cost, energy, and space.\n"
   ]
  },
  {
   "cell_type": "markdown",
   "id": "56f3abf7",
   "metadata": {},
   "source": [
    "\n",
    "## The Role of the Hypervisor\n",
    "\n",
    "A **hypervisor** is the software that enables virtualization.  \n",
    "It sits between the physical hardware and the virtual machines, managing their creation and operation.\n",
    "\n",
    "![](images/hypervisor_layers.png?raw=true)\n",
    "\n",
    "It allows you to:\n",
    "- Slice and assign CPU, RAM, and storage resources.\n",
    "- Create or delete VMs dynamically.\n",
    "- Isolate each VM for security and stability.\n",
    "\n",
    "Thus, **virtualization enables cloud computing** by allowing providers to deliver resources like **VMs on demand**.\n"
   ]
  },
  {
   "cell_type": "markdown",
   "id": "d0a5e357",
   "metadata": {},
   "source": [
    "\n",
    "## Redefining Cloud Computing with Virtualization\n",
    "\n",
    "From this perspective, we can define cloud computing as:\n",
    "\n",
    "> **Cloud Computing is the delivery of virtualized computing resources (VMs) as a service, on demand, via the internet.**\n",
    "\n",
    "When a user requests a small VM (say 0.5 CPU, 1 GB RAM, 10 GB storage),  \n",
    "the cloud provider uses virtualization to carve out those resources from massive physical servers.\n"
   ]
  },
  {
   "cell_type": "markdown",
   "id": "b75df24d",
   "metadata": {},
   "source": [
    "\n",
    "## 1️⃣ On-Demand Self-Service\n",
    "\n",
    "Cloud consumers can **provision computing resources automatically**, without manual intervention from the provider.\n",
    "\n",
    "- Users can **log in**, **create**, and **delete** VMs or storage themselves.\n",
    "- Everything happens through a **web console**, **CLI**, or **API**.\n",
    "- This feature allows instant scalability and independence.\n",
    "\n",
    "![](images/on_demand_self_service.png?raw=true)\n",
    "\n",
    "> Example: Creating a VM on Azure or AWS takes just a few clicks — no human approval needed.\n"
   ]
  },
  {
   "cell_type": "markdown",
   "id": "2dc8f284",
   "metadata": {},
   "source": [
    "\n",
    "## 2️⃣ Broad Network Access\n",
    "\n",
    "Cloud resources are accessible over the network using **standard protocols**.  \n",
    "This allows access via multiple device types and platforms.\n",
    "\n",
    "- Accessible via **web browsers**, **mobile apps**, **SDKs**, or **command-line tools**.\n",
    "- Enables **anytime, anywhere** access to services like storage, compute, and networking.\n",
    "\n",
    "![](images/broad_network_access.png?raw=true)\n",
    "\n",
    "> Example: You can manage your AWS EC2 instance from your laptop, phone, or API client — all connected via the internet.\n"
   ]
  },
  {
   "cell_type": "markdown",
   "id": "4e0159a0",
   "metadata": {},
   "source": [
    "\n",
    "## 3️⃣ Resource Pooling\n",
    "\n",
    "Cloud providers use a **multi-tenant model**, pooling physical resources to serve multiple consumers.\n",
    "\n",
    "- Each user gets a **virtual slice** of shared infrastructure.  \n",
    "- Physical resources (CPU, memory, storage) are dynamically allocated and reassigned.  \n",
    "- Consumers have **no control or knowledge** over the exact physical location of their resources.\n",
    "\n",
    "![](images/resource_pooling.png?raw=true)\n",
    "\n",
    "> Example: Multiple users’ VMs can reside on the same physical machine, yet remain securely isolated.\n"
   ]
  },
  {
   "cell_type": "markdown",
   "id": "7144d3a5",
   "metadata": {},
   "source": [
    "\n",
    "## 4️⃣ Rapid Elasticity\n",
    "\n",
    "Cloud systems can **scale resources up or down** quickly and automatically based on demand.\n",
    "\n",
    "- Users can adjust CPU, memory, or storage instantly.\n",
    "- Resources appear unlimited to the consumer.\n",
    "- This elasticity ensures efficient use and cost optimization.\n",
    "\n",
    "![](images/rapid_elasticity.png?raw=true)\n",
    "\n",
    "> Example: An e-commerce app scales up servers during sales events and scales down afterward.\n"
   ]
  },
  {
   "cell_type": "markdown",
   "id": "40202a08",
   "metadata": {},
   "source": [
    "\n",
    "## 5️⃣ Measured Service\n",
    "\n",
    "Cloud systems automatically monitor and record resource usage for transparency and billing.\n",
    "\n",
    "- Every operation (VM uptime, bandwidth, CPU cycles) is tracked.\n",
    "- Billing is based on **pay-as-you-go** or **subscription models**.\n",
    "- Enables performance optimization and cost control.\n",
    "\n",
    "![](images/measured_service.png?raw=true)\n",
    "\n",
    "> Example: Your AWS bill reflects exact usage — how many hours your VM ran, storage used, and data transferred.\n"
   ]
  },
  {
   "cell_type": "markdown",
   "id": "6eaefb9f",
   "metadata": {},
   "source": [
    "\n",
    "## Summary\n",
    "\n",
    "Let’s summarize the **Five Essential Characteristics of Cloud Computing**:\n",
    "\n",
    "| Characteristic | Description |\n",
    "|----------------|--------------|\n",
    "| **On-Demand Self-Service** | Users provision resources automatically without human intervention. |\n",
    "| **Broad Network Access** | Resources accessible via standard network protocols and various devices. |\n",
    "| **Resource Pooling** | Shared infrastructure serving multiple consumers with resource abstraction. |\n",
    "| **Rapid Elasticity** | Dynamic scaling of resources up or down based on demand. |\n",
    "| **Measured Service** | Automatic monitoring, metering, and billing based on usage. |\n",
    "\n",
    "![](images/five_characteristics_summary.png?raw=true)\n"
   ]
  },
  {
   "cell_type": "markdown",
   "id": "e02b8504",
   "metadata": {},
   "source": [
    "\n",
    "## Final Note\n",
    "\n",
    "Every cloud platform you use — AWS, Azure, Google Cloud, or SAP BTP —  \n",
    "implements these five characteristics at its core.\n",
    "\n",
    "These features make the cloud **scalable, reliable, and cost-effective** for individuals and enterprises alike.\n",
    "\n",
    "In the next lecture, we’ll explore the **Three Cloud Service Models** —  \n",
    "**IaaS**, **PaaS**, and **SaaS**, and understand how they differ in their architecture and usage.\n",
    "\n",
    "> ✅ **By now you should be able to:**\n",
    "> - Explain the concept of **virtualization** and its role in cloud computing.  \n",
    "> - Define and describe the **five essential characteristics** of the cloud.  \n",
    "> - Relate these characteristics to real-world examples of major cloud providers.\n"
   ]
  }
 ],
 "metadata": {},
 "nbformat": 4,
 "nbformat_minor": 5
}
