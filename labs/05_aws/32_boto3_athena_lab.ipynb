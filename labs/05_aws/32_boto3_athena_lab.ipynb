{
 "cells": [
  {
   "cell_type": "markdown",
   "id": "60d0d14e",
   "metadata": {},
   "source": [
    "# AWS Athena with Boto3\n",
    "Region: **us-east-1**\n",
    "\n",
    "This notebook demonstrates how to run Athena queries using the `boto3` SDK for Python.\n",
    "\n",
    "### Workflow:\n",
    "1. Define the Athena client and key configurations\n",
    "2. Create a database and table from an existing CSV file in S3\n",
    "3. Run sample SQL queries (Count, Group By)\n",
    "4. Fetch and display query results\n",
    "5. Clean up temporary resources if needed\n",
    "\n",
    "---\n",
    "### Prerequisites\n",
    "- AWS account with **AmazonAthenaFullAccess** and **AmazonS3FullAccess**\n",
    "- AWS credentials configured (`aws configure`)\n",
    "- CSV file already uploaded to S3 (`orders.csv`)\n",
    "- Athena output S3 bucket available for query results"
   ]
  },
  {
   "cell_type": "markdown",
   "id": "2ba6f6b3",
   "metadata": {},
   "source": [
    "## Step 1: Setup Athena Client and Configurations"
   ]
  },
  {
   "cell_type": "code",
   "execution_count": null,
   "id": "500f4ffc",
   "metadata": {},
   "outputs": [],
   "source": [
    "import boto3\n",
    "import time\n",
    "\n",
    "region = 'us-east-1'\n",
    "database = 'salesdb'\n",
    "table_name = 'orders'\n",
    "s3_data = 's3://my-athena-lab-data222/orders/'   # Replace with your S3 location for orders.csv\n",
    "s3_output = 's3://my-athena-lab-output222/'      # Replace with your Athena output location\n",
    "\n",
    "athena_client = boto3.client('athena', region_name=region)\n",
    "print('Athena client initialized successfully.')"
   ]
  },
  {
   "cell_type": "markdown",
   "id": "35745064",
   "metadata": {},
   "source": [
    "## Step 2: Helper Function to Run Athena Query"
   ]
  },
  {
   "cell_type": "code",
   "execution_count": null,
   "id": "3f3bbf8d",
   "metadata": {},
   "outputs": [],
   "source": [
    "def run_athena_query(query, database, output_location):\n",
    "    \"\"\"Execute Athena query and return QueryExecutionId.\"\"\"\n",
    "    response = athena_client.start_query_execution(\n",
    "        QueryString=query,\n",
    "        QueryExecutionContext={'Database': database},\n",
    "        ResultConfiguration={'OutputLocation': output_location}\n",
    "    )\n",
    "    return response['QueryExecutionId']\n",
    "\n",
    "def wait_for_query(execution_id):\n",
    "    \"\"\"Wait until Athena query finishes.\"\"\"\n",
    "    state = 'RUNNING'\n",
    "    while state in ['RUNNING', 'QUEUED']:\n",
    "        response = athena_client.get_query_execution(QueryExecutionId=execution_id)\n",
    "        state = response['QueryExecution']['Status']['State']\n",
    "        if state in ['SUCCEEDED', 'FAILED', 'CANCELLED']:\n",
    "            break\n",
    "        time.sleep(2)\n",
    "    return state"
   ]
  },
  {
   "cell_type": "markdown",
   "id": "11c8bb32",
   "metadata": {},
   "source": [
    "## Step 3: Create Database"
   ]
  },
  {
   "cell_type": "code",
   "execution_count": null,
   "id": "a2637c74",
   "metadata": {},
   "outputs": [],
   "source": [
    "query = f\"\"\"CREATE DATABASE IF NOT EXISTS {database};\"\"\"\n",
    "execution_id = run_athena_query(query, database, s3_output)\n",
    "state = wait_for_query(execution_id)\n",
    "print('Database creation status:', state)"
   ]
  },
  {
   "cell_type": "markdown",
   "id": "9f9d1942",
   "metadata": {},
   "source": [
    "## Step 4: Create Table for Orders CSV"
   ]
  },
  {
   "cell_type": "code",
   "execution_count": null,
   "id": "b2c87d98",
   "metadata": {},
   "outputs": [],
   "source": [
    "create_table_query = f\"\"\"\n",
    "CREATE EXTERNAL TABLE IF NOT EXISTS {database}.{table_name} (\n",
    "  order_id INT,\n",
    "  order_date STRING,\n",
    "  order_customer_id INT,\n",
    "  order_status STRING\n",
    ")\n",
    "ROW FORMAT SERDE 'org.apache.hadoop.hive.serde2.lazy.LazySimpleSerDe'\n",
    "WITH SERDEPROPERTIES (\n",
    "  'serialization.format' = ',',\n",
    "  'field.delim' = ','\n",
    ")\n",
    "LOCATION '{s3_data}'\n",
    "TBLPROPERTIES ('skip.header.line.count'='0');\n",
    "\"\"\"\n",
    "\n",
    "execution_id = run_athena_query(create_table_query, database, s3_output)\n",
    "state = wait_for_query(execution_id)\n",
    "print('Table creation status:', state)"
   ]
  },
  {
   "cell_type": "markdown",
   "id": "5d5029d7",
   "metadata": {},
   "source": [
    "## Step 5: Run Sample Query - Total Orders"
   ]
  },
  {
   "cell_type": "code",
   "execution_count": null,
   "id": "4b49a41d",
   "metadata": {},
   "outputs": [],
   "source": [
    "query = f\"SELECT COUNT(*) AS total_orders FROM {table_name};\"\n",
    "execution_id = run_athena_query(query, database, s3_output)\n",
    "state = wait_for_query(execution_id)\n",
    "\n",
    "if state == 'SUCCEEDED':\n",
    "    results = athena_client.get_query_results(QueryExecutionId=execution_id)\n",
    "    for row in results['ResultSet']['Rows']:\n",
    "        print([col.get('VarCharValue', '') for col in row['Data']])\n",
    "else:\n",
    "    print('Query failed:', state)"
   ]
  },
  {
   "cell_type": "markdown",
   "id": "df2866d5",
   "metadata": {},
   "source": [
    "## Step 6: Run Query - Orders by Status"
   ]
  },
  {
   "cell_type": "code",
   "execution_count": null,
   "id": "f670c2d6",
   "metadata": {},
   "outputs": [],
   "source": [
    "query = f\"SELECT order_status, COUNT(*) AS total FROM {table_name} GROUP BY order_status;\"\n",
    "execution_id = run_athena_query(query, database, s3_output)\n",
    "state = wait_for_query(execution_id)\n",
    "\n",
    "if state == 'SUCCEEDED':\n",
    "    results = athena_client.get_query_results(QueryExecutionId=execution_id)\n",
    "    print('order_status | total')\n",
    "    print('-------------------')\n",
    "    for row in results['ResultSet']['Rows'][1:]:  # Skip header\n",
    "        cols = [col.get('VarCharValue', '') for col in row['Data']]\n",
    "        print(f\"{cols[0]} | {cols[1]}\")\n",
    "else:\n",
    "    print('Query failed:', state)"
   ]
  },
  {
   "cell_type": "markdown",
   "id": "14b3d767",
   "metadata": {},
   "source": [
    "## Step 7: Optional Cleanup"
   ]
  },
  {
   "cell_type": "code",
   "execution_count": null,
   "id": "b0843e08",
   "metadata": {},
   "outputs": [],
   "source": [
    "# Example cleanup queries\n",
    "# DROP TABLE orders;\n",
    "# DROP DATABASE salesdb;"
   ]
  }
 ],
 "metadata": {
  "language_info": {
   "name": "python"
  }
 },
 "nbformat": 4,
 "nbformat_minor": 5
}
