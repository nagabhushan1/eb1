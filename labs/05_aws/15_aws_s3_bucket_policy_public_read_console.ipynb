{
 "cells": [
  {
   "cell_type": "markdown",
   "id": "ab7bda17",
   "metadata": {},
   "source": [
    "\n",
    "# AWS S3 Bucket Policy — Public Read Access (Console Lab)\n",
    "\n",
    "### 🎯 Objective\n",
    "Use the **AWS Management Console** to make an S3 object publicly readable **with a bucket policy**, and verify using the **object URL** in an incognito window. You will also learn all building blocks of a bucket policy and the interaction with **Block Public Access**.\n",
    "\n",
    "> ⚠️ **Security note (for lab only):** Public buckets/objects are discouraged in production. Prefer **Amazon CloudFront with Origin Access Control (OAC)**, **pre‑signed URLs**, or **fine‑grained IAM**. Re‑enable *Block public access* and remove the policy when you finish.\n"
   ]
  },
  {
   "cell_type": "markdown",
   "id": "2d16407f",
   "metadata": {},
   "source": [
    "\n",
    "## 🧠 Concepts You Must Know\n",
    "\n",
    "**S3 access controls (four layers):**\n",
    "- **Bucket policy** — JSON policy attached to a *bucket*. Great for global rules (allow/deny) that apply to many objects.\n",
    "- **IAM identity policy** — permissions attached to users/roles (e.g., developers, applications).\n",
    "- **ACLs** — legacy, object/bucket level grants. Avoid unless there is a special need.\n",
    "- **Block public access** — _guardrail_ that can **override** any policy/ACL to prevent public exposure.\n",
    "\n",
    "**Bucket policy building blocks:**\n",
    "- `Version` — policy language version: `2012-10-17`.\n",
    "- `Statement` — one or more entries:\n",
    "  - `Sid` — optional identifier.\n",
    "  - `Effect` — `Allow` or `Deny`.\n",
    "  - `Principal` — who the statement applies to. `\"*\"` means “everyone” (the public internet).\n",
    "  - `Action` — API(s) you allow/deny, e.g. `s3:GetObject` (read an object), `s3:ListBucket` (list object keys).\n",
    "  - `Resource` — **ARN** of what you control.  \n",
    "    - Bucket: `arn:aws:s3:::bucket-name`  \n",
    "    - Objects: `arn:aws:s3:::bucket-name/*` (note the `/*` suffix for objects)\n",
    "  - `Condition` — optional constraints (IP allowlist, VPC, referer, etc.).\n",
    "\n",
    "**Common pitfalls**\n",
    "- Forgetting `/*` in the object resource → `AccessDenied` for object reads.\n",
    "- Leaving **Block public access** enabled → policy appears fine but still blocked.\n",
    "- Allowing `ListBucket` when you only need `GetObject`.\n"
   ]
  },
  {
   "cell_type": "markdown",
   "id": "5a5d4044",
   "metadata": {},
   "source": [
    "\n",
    "## 🧰 Prerequisites\n",
    "\n",
    "- AWS account with access to **S3**.\n",
    "- Any sample file to upload, e.g. `developer.jpg` or `orders.csv`.\n",
    "- Region of your choice (e.g. `us-east-1`).\n",
    "- A browser (use **Incognito/Private** window for validation).\n"
   ]
  },
  {
   "cell_type": "markdown",
   "id": "a9d3a2a7",
   "metadata": {},
   "source": [
    "\n",
    "## Step 1 — Create a bucket and upload an object (private by default)\n",
    "\n",
    "1. In the console, open **S3 → Buckets → Create bucket**.  \n",
    "2. Bucket name must be globally unique, e.g. `bp-demo-<yourname>-<yyyyMMdd>`.\n",
    "3. Keep **Block *all* public access** **enabled** (default).  \n",
    "4. Create the bucket.\n",
    "5. Open the bucket → **Upload** → add your file (e.g., `developer.jpg`).\n",
    "\n",
    "Your bucket resembles this after upload:\n"
   ]
  },
  {
   "cell_type": "markdown",
   "id": "beb2f818",
   "metadata": {},
   "source": [
    "![](sandbox:/mnt/data/520b7baf-bcfc-49a5-bbec-e9a775dfe6a3.png)"
   ]
  },
  {
   "cell_type": "markdown",
   "id": "7ae06602",
   "metadata": {},
   "source": [
    "\n",
    "### Validate it’s private\n",
    "- Click the object, copy the **Object URL**.\n",
    "- Open the URL in an **Incognito** tab. You should get **AccessDenied** — that’s expected because the bucket is private.\n"
   ]
  },
  {
   "cell_type": "markdown",
   "id": "2c80029c",
   "metadata": {},
   "source": [
    "\n",
    "## Step 2 — Understand & (temporarily) relax *Block public access*\n",
    "\n",
    "S3 includes a guardrail called **Block public access**. If it is turned on, public ACLs and public bucket policies are **ignored**.\n",
    "\n",
    "- Go to **Bucket → Permissions → Block public access (bucket settings) → Edit**.\n",
    "- If you plan to apply a public bucket policy for this lab, **uncheck**:\n",
    "  - *Block all public access* (or at minimum the policy-related checkboxes).  \n",
    "- Save and confirm by typing **confirm** when prompted.\n",
    "\n",
    "> Keep this off **only** for the duration of the lab; you will re-enable it in cleanup.\n",
    "\n",
    "Screens from the console:\n"
   ]
  },
  {
   "cell_type": "markdown",
   "id": "fbebb789",
   "metadata": {},
   "source": [
    "![](sandbox:/mnt/data/6b70462c-9e8e-4f52-9100-36243df973b3.png)\n",
    "\n",
    "![](sandbox:/mnt/data/1f61447c-6f7d-4e95-9735-e30c7f53d1de.png)"
   ]
  },
  {
   "cell_type": "markdown",
   "id": "e22712e7",
   "metadata": {},
   "source": [
    "\n",
    "## Step 3 — Open the **Bucket policy** editor\n",
    "\n",
    "- Go to **Bucket → Permissions → Bucket policy → Edit**.\n",
    "\n",
    "This is where we’ll paste JSON that allows the public to read objects:\n",
    "\n"
   ]
  },
  {
   "cell_type": "markdown",
   "id": "fb547f94",
   "metadata": {},
   "source": [
    "![](sandbox:/mnt/data/de034917-24a2-41a7-b8f5-56de6e985550.png)"
   ]
  },
  {
   "cell_type": "markdown",
   "id": "78f9b5b7",
   "metadata": {},
   "source": [
    "\n",
    "## Step 4 — Generate a minimal public‑read policy (using the Policy Generator)\n",
    "\n",
    "1. Click **Policy generator** (opens in a new tab).  \n",
    "2. **Select type of policy:** `S3 Bucket Policy`.  \n",
    "3. **Effect:** `Allow`  \n",
    "4. **Principal:** `*` (everyone)  \n",
    "5. **AWS Service:** `Amazon S3`  \n",
    "6. **Actions:** check **`GetObject`** (read objects).  \n",
    "7. **Amazon Resource Name (ARN):** `arn:aws:s3:::<your-bucket-name>/*`  \n",
    "   - The `/*` suffix means “all **objects** in this bucket.”  \n",
    "8. Click **Add Statement**, then **Generate Policy** and copy the JSON.\n",
    "\n",
    "Policy‑generator screens:\n"
   ]
  },
  {
   "cell_type": "markdown",
   "id": "a1707376",
   "metadata": {},
   "source": [
    "![](sandbox:/mnt/data/f6b8b4ae-c4e4-44e3-b13d-abf2cacd75ed.png)\n",
    "\n",
    "![](sandbox:/mnt/data/1e591ce3-e5e7-4724-9ce1-11f08ea65b7d.png)\n",
    "\n",
    "![](sandbox:/mnt/data/5406a66b-7e1d-4099-abcf-4cb949ff3d77.png)"
   ]
  },
  {
   "cell_type": "markdown",
   "id": "24f7597c",
   "metadata": {},
   "source": [
    "\n",
    "### ✅ Minimal public‑read bucket policy (copy/paste)\n",
    "\n",
    "Replace `<your-bucket-name>` and paste into the **Bucket policy** editor:\n",
    "\n",
    "```json\n",
    "{\n",
    "  \"Version\": \"2012-10-17\",\n",
    "  \"Statement\": [\n",
    "    {\n",
    "      \"Sid\": \"AllowPublicRead\",\n",
    "      \"Effect\": \"Allow\",\n",
    "      \"Principal\": \"*\",\n",
    "      \"Action\": [\"s3:GetObject\"],\n",
    "      \"Resource\": [\"arn:aws:s3:::<your-bucket-name>/*\"]\n",
    "    }\n",
    "  ]\n",
    "}\n",
    "```\n",
    "\n",
    "> Why only `s3:GetObject`?  \n",
    "> - It lets the public **download** objects if they know the exact key.  \n",
    "> - It does **not** let the public list your bucket keys. (Listing would also require `s3:ListBucket` on the bucket ARN `arn:aws:s3:::<bucket>` — we are intentionally **not** granting that.)\n",
    "\n",
    "After pasting, choose **Save changes**.\n",
    "\n",
    "Editing and saving the policy example:\n"
   ]
  },
  {
   "cell_type": "markdown",
   "id": "588d3719",
   "metadata": {},
   "source": [
    "![](sandbox:/mnt/data/88dc51c8-29d4-43b2-bda9-ae6bbea104b2.png)"
   ]
  },
  {
   "cell_type": "markdown",
   "id": "85a6b395",
   "metadata": {},
   "source": [
    "\n",
    "## Step 5 — Validate with the object URL (Incognito)\n",
    "\n",
    "1. Go back to your object (e.g., `developer.jpg`) and copy the **Object URL**.\n",
    "2. Open a **new incognito/private** browser tab and paste the URL.\n",
    "3. You should now see the object load (image displays or file downloads).\n",
    "\n",
    "Example of copying the object URL from the Properties tab:\n"
   ]
  },
  {
   "cell_type": "markdown",
   "id": "cf41fbe8",
   "metadata": {},
   "source": [
    "![](sandbox:/mnt/data/46417997-d97e-4a65-b250-7900921fa185.png)"
   ]
  },
  {
   "cell_type": "markdown",
   "id": "24983efa",
   "metadata": {},
   "source": [
    "\n",
    "### Understanding S3 URL forms (for reference)\n",
    "- **Virtual‑hosted‑style:** `https://<bucket>.s3.<region>.amazonaws.com/<key>`  \n",
    "- **Path‑style (legacy):** `https://s3.<region>.amazonaws.com/<bucket>/<key>`  \n",
    "- **Static website endpoint:** `http://<bucket>.s3-website-<region>.amazonaws.com/<key>` (separate feature; not required for this lab)\n"
   ]
  },
  {
   "cell_type": "markdown",
   "id": "24603896",
   "metadata": {},
   "source": [
    "\n",
    "## Optional — Scope access to a folder/prefix only\n",
    "\n",
    "If you only want to expose files under `public/`:\n",
    "\n",
    "```json\n",
    "{\n",
    "  \"Version\": \"2012-10-17\",\n",
    "  \"Statement\": [\n",
    "    {\n",
    "      \"Sid\": \"AllowPublicReadUnderPrefix\",\n",
    "      \"Effect\": \"Allow\",\n",
    "      \"Principal\": \"*\",\n",
    "      \"Action\": [\"s3:GetObject\"],\n",
    "      \"Resource\": [\"arn:aws:s3:::<your-bucket-name>/public/*\"]\n",
    "    }\n",
    "  ]\n",
    "}\n",
    "```\n"
   ]
  },
  {
   "cell_type": "markdown",
   "id": "14523a11",
   "metadata": {},
   "source": [
    "\n",
    "## Troubleshooting\n",
    "\n",
    "- **Still AccessDenied?**  \n",
    "  - Re‑check **Block public access** is **disabled** on the bucket during the lab.  \n",
    "  - Ensure `Resource` uses `arn:aws:s3:::<bucket>/*` (with `/*`) for object reads.  \n",
    "  - Confirm you pasted JSON into **Bucket policy**, not **CORS** or **ACLs**.  \n",
    "  - If your org has SCPs/Service‑Control Policies, they can override your bucket policy.\n",
    "- **Object URL 404 Not Found**  \n",
    "  - The **key name** (path & case) must match exactly. Verify under the **Objects** tab.\n",
    "- **Accidentally granted listing**  \n",
    "  - If you added `s3:ListBucket` on `arn:aws:s3:::<bucket>`, the public can enumerate keys. Remove that statement unless you truly need it.\n"
   ]
  },
  {
   "cell_type": "markdown",
   "id": "a3d2a850",
   "metadata": {},
   "source": [
    "\n",
    "## 🧹 Cleanup (VERY IMPORTANT)\n",
    "\n",
    "1. **Remove** the bucket policy (Permissions → Bucket policy → Delete and Save).  \n",
    "2. **Re‑enable** **Block *all* public access** for the bucket.  \n",
    "3. Delete the object(s) if you no longer need them.  \n",
    "4. Optionally, delete the bucket.\n",
    "\n",
    "This returns your environment to a secure default.\n"
   ]
  },
  {
   "cell_type": "markdown",
   "id": "795625f2",
   "metadata": {},
   "source": [
    "\n",
    "## 🧭 Reflection & Key Takeaways\n",
    "\n",
    "| Topic | Insight |\n",
    "|---|---|\n",
    "| Bucket policy vs IAM policy | Bucket policies protect a **resource**; IAM policies grant rights to a **principal**. |\n",
    "| `GetObject` vs `ListBucket` | Reading an object needs `GetObject` on `arn:aws:s3:::bucket/*`; listing keys needs `ListBucket` on `arn:aws:s3:::bucket`. |\n",
    "| Block public access | Acts as a **master switch** to stop public exposure regardless of policies/ACLs. |\n",
    "| Public access risks | Prefer CloudFront OAC, pre‑signed URLs, or VPC/private access for production. |\n",
    "| Least privilege | Grant only the exact actions and resources required, and only for the duration needed. |\n",
    "\n",
    "You have now created, explained, and validated a **bucket policy** for public reads — and you know how to roll it back safely.\n"
   ]
  },
  {
   "cell_type": "markdown",
   "id": "4df82e0b",
   "metadata": {},
   "source": [
    "![](sandbox:/mnt/data/75782226-dbdd-4aca-9318-48176b36405a.png)"
   ]
  }
 ],
 "metadata": {
  "language_info": {
   "name": "python"
  }
 },
 "nbformat": 4,
 "nbformat_minor": 5
}
