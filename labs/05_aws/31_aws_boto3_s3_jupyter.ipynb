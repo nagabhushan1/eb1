{
 "cells": [
  {
   "cell_type": "markdown",
   "id": "677e6dca",
   "metadata": {},
   "source": [
    "# AWS S3 with Boto3 - Client and Resource Interfaces"
   ]
  },
  {
   "cell_type": "markdown",
   "id": "7f2e64b4",
   "metadata": {},
   "source": [
    "## Introduction and Setup\n",
    "\n",
    "### About Boto3\n",
    "`boto3` is the official AWS SDK for Python. It allows you to interact with AWS services programmatically, including creating, uploading, downloading, and deleting S3 objects.\n",
    "\n",
    "### Prerequisites\n",
    "1. An AWS account.\n",
    "2. IAM user with **AmazonS3FullAccess** (or limited S3 access) permissions.\n",
    "3. AWS credentials configured using:\n",
    "   ```bash\n",
    "   aws configure\n",
    "   ```\n",
    "   or environment variables in PyCharm/Jupyter.\n",
    "\n",
    "### Environment Setup\n",
    "- **In PyCharm:**\n",
    "  1. Open Terminal and run `pip install boto3`.\n",
    "  2. Configure AWS credentials via Command Prompt using `aws configure`.\n",
    "  3. Run each code block in Python Console or Jupyter plugin.\n",
    "\n",
    "- **In Jupyter Notebook:**\n",
    "  1. Run `!pip install boto3` inside a cell if not installed.\n",
    "  2. Ensure AWS credentials are available (via `~/.aws/credentials` or environment variables).\n"
   ]
  },
  {
   "cell_type": "markdown",
   "id": "8546fa2b",
   "metadata": {},
   "source": [
    "## Section 1: Using `boto3.client`"
   ]
  },
  {
   "cell_type": "code",
   "execution_count": null,
   "id": "58f7acd4",
   "metadata": {},
   "outputs": [],
   "source": [
    "import boto3\n",
    "\n",
    "# Create S3 client instance\n",
    "client = boto3.client('s3')"
   ]
  },
  {
   "cell_type": "code",
   "execution_count": null,
   "id": "fb367b38",
   "metadata": {},
   "outputs": [],
   "source": [
    "bucket_name = \"my-first-s3-lab-demo-1015\"\n",
    "client.create_bucket(Bucket=bucket_name)\n",
    "print(f\"Bucket '{bucket_name}' created successfully.\")"
   ]
  },
  {
   "cell_type": "code",
   "execution_count": null,
   "id": "2c3f5c44",
   "metadata": {},
   "outputs": [],
   "source": [
    "with open(\"Test.txt\", \"w\") as f:\n",
    "    f.write(\"Hello World from Boto3 Client!\")\n",
    "print(\"Local file created: Test.txt\")"
   ]
  },
  {
   "cell_type": "code",
   "execution_count": null,
   "id": "5aeacfa8",
   "metadata": {},
   "outputs": [],
   "source": [
    "client.upload_file(Filename=\"Test.txt\", Bucket=bucket_name, Key=\"Test_in_bucket.txt\")\n",
    "print(\"File uploaded to S3 successfully.\")"
   ]
  },
  {
   "cell_type": "code",
   "execution_count": null,
   "id": "0bbca167",
   "metadata": {},
   "outputs": [],
   "source": [
    "client.download_file(Bucket=bucket_name, Key=\"Test_in_bucket.txt\", Filename=\"Test_local.txt\")\n",
    "print(\"File downloaded from S3 as Test_local.txt\")"
   ]
  },
  {
   "cell_type": "code",
   "execution_count": null,
   "id": "55062a55",
   "metadata": {},
   "outputs": [],
   "source": [
    "with open(\"Test_local.txt\", \"r\") as f:\n",
    "    content = f.read()\n",
    "print(\"File content:\", content)"
   ]
  },
  {
   "cell_type": "code",
   "execution_count": null,
   "id": "93720fc0",
   "metadata": {},
   "outputs": [],
   "source": [
    "client.delete_object(Bucket=bucket_name, Key=\"Test_in_bucket.txt\")\n",
    "print(\"Object deleted from S3.\")"
   ]
  },
  {
   "cell_type": "code",
   "execution_count": null,
   "id": "98904fa0",
   "metadata": {},
   "outputs": [],
   "source": [
    "try:\n",
    "    client.download_file(Bucket=bucket_name, Key=\"Test_in_bucket.txt\", Filename=\"MissingFile.txt\")\n",
    "except Exception as e:\n",
    "    print(\"Expected Error (File Missing):\", e)"
   ]
  },
  {
   "cell_type": "markdown",
   "id": "9adf72bc",
   "metadata": {},
   "source": [
    "## Section 2: Using `boto3.resource`"
   ]
  },
  {
   "cell_type": "code",
   "execution_count": null,
   "id": "89ac06e8",
   "metadata": {},
   "outputs": [],
   "source": [
    "s3 = boto3.resource('s3')"
   ]
  },
  {
   "cell_type": "code",
   "execution_count": null,
   "id": "a6784d40",
   "metadata": {},
   "outputs": [],
   "source": [
    "for bucket in s3.buckets.all():\n",
    "    print(bucket.name)"
   ]
  },
  {
   "cell_type": "code",
   "execution_count": null,
   "id": "e50566ad",
   "metadata": {},
   "outputs": [],
   "source": [
    "bucket = s3.Bucket(bucket_name)\n",
    "print(f\"Working with bucket: {bucket.name}\")"
   ]
  },
  {
   "cell_type": "code",
   "execution_count": null,
   "id": "61dcee76",
   "metadata": {},
   "outputs": [],
   "source": [
    "bucket.upload_file(Filename=\"Test_local.txt\", Key=\"another_file.txt\")\n",
    "print(\"File uploaded as another_file.txt\")"
   ]
  },
  {
   "cell_type": "code",
   "execution_count": null,
   "id": "ea26c73d",
   "metadata": {},
   "outputs": [],
   "source": [
    "for obj in bucket.objects.all():\n",
    "    print(\"Found object:\", obj.key)"
   ]
  },
  {
   "cell_type": "code",
   "execution_count": null,
   "id": "679e0763",
   "metadata": {},
   "outputs": [],
   "source": [
    "bucket.download_file(Key=\"another_file.txt\", Filename=\"another_local_file.txt\")\n",
    "print(\"Downloaded 'another_file.txt' to 'another_local_file.txt'\")"
   ]
  },
  {
   "cell_type": "code",
   "execution_count": null,
   "id": "458a670c",
   "metadata": {},
   "outputs": [],
   "source": [
    "objects = list(bucket.objects.filter(Prefix=\"Test\"))\n",
    "for obj in objects:\n",
    "    print(\"Filtered object:\", obj.key)"
   ]
  },
  {
   "cell_type": "code",
   "execution_count": null,
   "id": "e5d5d159",
   "metadata": {},
   "outputs": [],
   "source": [
    "bucket.upload_file(Filename=\"Test_local.txt\", Key=\"someDirectory/Test.txt\")\n",
    "print(\"Uploaded file to subdirectory 'someDirectory/'\")"
   ]
  },
  {
   "cell_type": "code",
   "execution_count": null,
   "id": "82be4470",
   "metadata": {},
   "outputs": [],
   "source": [
    "for file in bucket.objects.all():\n",
    "    print(file.key)"
   ]
  },
  {
   "cell_type": "markdown",
   "id": "d47317fd",
   "metadata": {},
   "source": [
    "## Conclusion\n",
    "\n",
    "| Aspect | boto3.client | boto3.resource |\n",
    "|--------|---------------|----------------|\n",
    "| **Level** | Low-level | High-level (OOP style) |\n",
    "| **Return Type** | Dictionary responses | Python objects |\n",
    "| **Use Case** | Fine control, APIs, automation scripts | Easier data manipulation, readability |\n",
    "\n",
    "### ✅ Best Practices\n",
    "- Always use **unique bucket names** (S3 is global namespace).\n",
    "- Clean up resources after testing.\n",
    "- Prefer `resource` for readability; use `client` for explicit control.\n"
   ]
  }
 ],
 "metadata": {},
 "nbformat": 4,
 "nbformat_minor": 5
}
