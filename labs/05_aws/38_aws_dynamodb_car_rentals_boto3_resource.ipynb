{
 "cells": [
  {
   "cell_type": "markdown",
   "id": "5080cb93",
   "metadata": {},
   "source": [
    "\n",
    "# 🚗 AWS DynamoDB – Car Rentals Lab (Using boto3.resource)\n",
    "\n",
    "This lab demonstrates how to use **`boto3.resource()`** to interact with **DynamoDB** through a real-world **Car Rentals** example.\n",
    "\n",
    "We will create a table, insert data, query, update, delete, and finally clean up the resources — all using the high-level **boto3.resource()** interface.\n"
   ]
  },
  {
   "cell_type": "markdown",
   "id": "fee81fee",
   "metadata": {},
   "source": [
    "\n",
    "## ✅ Prerequisites\n",
    "\n",
    "- AWS account and credentials configured (`aws configure`)\n",
    "- IAM user or role with `AmazonDynamoDBFullAccess`\n",
    "- Python 3.7+ and `boto3` installed\n",
    "\n",
    "```bash\n",
    "pip install boto3\n",
    "```\n"
   ]
  },
  {
   "cell_type": "markdown",
   "id": "6a20672a",
   "metadata": {},
   "source": [
    "\n",
    "## ⚙️ Step 1 – Create DynamoDB Table\n",
    "\n",
    "We’ll create a table named **CarRentals_Resource** with:\n",
    "- **Partition key:** `RentalID` (String)\n",
    "- **Sort key:** `CustomerID` (String)\n"
   ]
  },
  {
   "cell_type": "code",
   "execution_count": null,
   "id": "10783758",
   "metadata": {},
   "outputs": [],
   "source": [
    "\n",
    "import boto3\n",
    "from boto3.dynamodb.conditions import Key, Attr\n",
    "import time\n",
    "\n",
    "# Initialize DynamoDB resource\n",
    "dynamodb = boto3.resource('dynamodb', region_name='us-east-1')\n",
    "\n",
    "table_name = 'CarRentals_Resource'\n",
    "\n",
    "# Create table\n",
    "table = dynamodb.create_table(\n",
    "    TableName=table_name,\n",
    "    KeySchema=[\n",
    "        {'AttributeName': 'RentalID', 'KeyType': 'HASH'},  # Partition key\n",
    "        {'AttributeName': 'CustomerID', 'KeyType': 'RANGE'}  # Sort key\n",
    "    ],\n",
    "    AttributeDefinitions=[\n",
    "        {'AttributeName': 'RentalID', 'AttributeType': 'S'},\n",
    "        {'AttributeName': 'CustomerID', 'AttributeType': 'S'}\n",
    "    ],\n",
    "    ProvisionedThroughput={\n",
    "        'ReadCapacityUnits': 5,\n",
    "        'WriteCapacityUnits': 5\n",
    "    }\n",
    ")\n",
    "\n",
    "print(\"Creating table...\")\n",
    "table.wait_until_exists()\n",
    "print(f\"✅ Table '{table_name}' is active now.\")\n"
   ]
  },
  {
   "cell_type": "markdown",
   "id": "ff388d4f",
   "metadata": {},
   "source": [
    "\n",
    "## 🚘 Step 2 – Insert Car Rental Records\n",
    "\n",
    "We’ll insert three records showing DynamoDB’s flexibility in handling different attributes.\n"
   ]
  },
  {
   "cell_type": "code",
   "execution_count": null,
   "id": "6b23162e",
   "metadata": {},
   "outputs": [],
   "source": [
    "\n",
    "table = dynamodb.Table(table_name)\n",
    "\n",
    "rental_records = [\n",
    "    {\n",
    "        'RentalID': 'RNT2001',\n",
    "        'CustomerID': 'CUST201',\n",
    "        'CarModel': 'Tata Nexon',\n",
    "        'RentalDays': 3,\n",
    "        'PickupCity': 'Bangalore',\n",
    "        'DropoffCity': 'Coimbatore',\n",
    "        'PaymentMode': 'UPI',\n",
    "        'TotalAmount': 8500\n",
    "    },\n",
    "    {\n",
    "        'RentalID': 'RNT2002',\n",
    "        'CustomerID': 'CUST202',\n",
    "        'CarModel': 'Maruti Baleno',\n",
    "        'RentalDays': 2,\n",
    "        'PickupCity': 'Chennai',\n",
    "        'Extras': {'Insurance': 'Yes', 'GPS': 'No'},\n",
    "        'Discount': 15\n",
    "    },\n",
    "    {\n",
    "        'RentalID': 'RNT2003',\n",
    "        'CustomerID': 'CUST203',\n",
    "        'CarModel': 'Honda Amaze',\n",
    "        'RentalDays': 5,\n",
    "        'PickupCity': 'Hyderabad',\n",
    "        'DropoffCity': 'Hyderabad',\n",
    "        'Extras': ['MusicSystem', 'ChildSeat'],\n",
    "        'TotalAmount': 11200\n",
    "    }\n",
    "]\n",
    "\n",
    "for record in rental_records:\n",
    "    table.put_item(Item=record)\n",
    "\n",
    "print(\"✅ Inserted 3 car rental records successfully.\")\n"
   ]
  },
  {
   "cell_type": "markdown",
   "id": "93179f8d",
   "metadata": {},
   "source": [
    "\n",
    "## 🔍 Step 3 – Scan and Query the Table\n",
    "\n",
    "Retrieve all rentals or filter by attributes.\n"
   ]
  },
  {
   "cell_type": "code",
   "execution_count": null,
   "id": "a9c797de",
   "metadata": {},
   "outputs": [],
   "source": [
    "\n",
    "# Scan all records\n",
    "response = table.scan()\n",
    "print(\"All Car Rental Records:\")\n",
    "for item in response['Items']:\n",
    "    print(item)\n"
   ]
  },
  {
   "cell_type": "code",
   "execution_count": null,
   "id": "b1bb0959",
   "metadata": {},
   "outputs": [],
   "source": [
    "\n",
    "# Query by RentalID\n",
    "response = table.query(\n",
    "    KeyConditionExpression=Key('RentalID').eq('RNT2001')\n",
    ")\n",
    "\n",
    "print(\"Query Result for RentalID = RNT2001:\")\n",
    "for item in response['Items']:\n",
    "    print(item)\n"
   ]
  },
  {
   "cell_type": "markdown",
   "id": "ac868029",
   "metadata": {},
   "source": [
    "\n",
    "## ✏️ Step 4 – Update an Item\n",
    "\n",
    "Update the `TotalAmount` or add a new attribute such as `DiscountApplied`.\n"
   ]
  },
  {
   "cell_type": "code",
   "execution_count": null,
   "id": "29f1852d",
   "metadata": {},
   "outputs": [],
   "source": [
    "\n",
    "response = table.update_item(\n",
    "    Key={\n",
    "        'RentalID': 'RNT2001',\n",
    "        'CustomerID': 'CUST201'\n",
    "    },\n",
    "    UpdateExpression='SET TotalAmount = :val1, DiscountApplied = :val2',\n",
    "    ExpressionAttributeValues={\n",
    "        ':val1': 8800,\n",
    "        ':val2': True\n",
    "    },\n",
    "    ReturnValues='UPDATED_NEW'\n",
    ")\n",
    "\n",
    "print(\"✅ Updated Item:\", response['Attributes'])\n"
   ]
  },
  {
   "cell_type": "markdown",
   "id": "d6bc4fa8",
   "metadata": {},
   "source": [
    "\n",
    "## ❌ Step 5 – Delete an Item\n",
    "\n",
    "Remove one car rental record.\n"
   ]
  },
  {
   "cell_type": "code",
   "execution_count": null,
   "id": "38f0fc27",
   "metadata": {},
   "outputs": [],
   "source": [
    "\n",
    "response = table.delete_item(\n",
    "    Key={\n",
    "        'RentalID': 'RNT2002',\n",
    "        'CustomerID': 'CUST202'\n",
    "    }\n",
    ")\n",
    "\n",
    "print(\"✅ Deleted record RNT2002 successfully.\")\n"
   ]
  },
  {
   "cell_type": "markdown",
   "id": "a31878f0",
   "metadata": {},
   "source": [
    "\n",
    "## 🧹 Step 6 – Cleanup\n",
    "\n",
    "Delete the table once validation is complete.\n"
   ]
  },
  {
   "cell_type": "code",
   "execution_count": null,
   "id": "25f9d26a",
   "metadata": {},
   "outputs": [],
   "source": [
    "\n",
    "table.delete()\n",
    "print(f\"🗑️ Deleting table '{table_name}'...\")\n",
    "\n",
    "# Wait until the table no longer exists\n",
    "while True:\n",
    "    try:\n",
    "        dynamodb.Table(table_name).load()\n",
    "        print(\"⏳ Waiting for table deletion...\")\n",
    "        time.sleep(5)\n",
    "    except dynamodb.meta.client.exceptions.ResourceNotFoundException:\n",
    "        print(f\"✅ Table '{table_name}' deleted successfully.\")\n",
    "        break\n"
   ]
  }
 ],
 "metadata": {},
 "nbformat": 4,
 "nbformat_minor": 5
}
