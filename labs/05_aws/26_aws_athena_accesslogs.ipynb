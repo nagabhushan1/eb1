{
 "cells": [
  {
   "cell_type": "markdown",
   "metadata": {},
   "source": [
    "# 🧭 AWS Athena Console-Based Lab: Querying access.log.1\n",
    "\n",
    "This lab guides you through creating a fully functional **Athena-based log analysis** setup using **only the AWS Console** — no code, no boto3.\n",
    "\n",
    "You’ll upload Apache web server logs (`access.log.1`) into Amazon S3, define a schema in Athena, and query it directly from the console."
   ]
  },
  {
   "cell_type": "markdown",
   "metadata": {},
   "source": [
    "## 🪣 Step 1: Create S3 Buckets and Folders\n",
    "\n",
    "1. Open the AWS Console → **S3 Service**.\n",
    "2. Click **Create bucket**.\n",
    "3. Name it something globally unique, e.g.:\n",
    "   ```\n",
    "   athena-accesslogs-lab-98\n",
    "   ```\n",
    "4. Keep region as `ap-south-1` (or your nearest region).\n",
    "5. Leave other defaults and click **Create bucket**.\n",
    "\n",
    "### Inside the bucket, create two folders:\n",
    "```\n",
    "data/\n",
    "output/\n",
    "```\n",
    "\n",
    "### Upload your log file\n",
    "Upload `access.log.1` into:\n",
    "```\n",
    "s3://athena-accesslogs-lab-98/data/\n",
    "```"
   ]
  },
  {
   "cell_type": "markdown",
   "metadata": {},
   "source": [
    "## 👤 Step 2: Create or Verify IAM Role\n",
    "\n",
    "Ensure your IAM user or role has these permissions:\n",
    "- `AmazonS3FullAccess`\n",
    "- `AWSGlueServiceRole`\n",
    "- `AmazonAthenaFullAccess`\n",
    "\n",
    "If not, create a new role or attach these policies in **IAM → Roles → Create role**."
   ]
  },
  {
   "cell_type": "markdown",
   "metadata": {},
   "source": [
    "## 📊 Step 3: Configure Athena Settings\n",
    "\n",
    "1. Open the **Athena Console** → [https://console.aws.amazon.com/athena/](https://console.aws.amazon.com/athena/)\n",
    "2. Click the ⚙️ **Settings** icon.\n",
    "3. Under *Query result location*, set:\n",
    "   ```\n",
    "   s3://athena-accesslogs-lab-98/output/\n",
    "   ```\n",
    "4. Save settings."
   ]
  },
  {
   "cell_type": "markdown",
   "metadata": {},
   "source": [
    "## 🗄️ Step 4: Create Database in Athena\n",
    "\n",
    "In the **Query Editor**, paste and run:\n",
    "\n",
    "```sql\n",
    "CREATE DATABASE IF NOT EXISTS accesslogsdb;\n",
    "```"
   ]
  },
  {
   "cell_type": "markdown",
   "metadata": {},
   "source": [
    "## 🧩 Step 5: Create External Table for Logs\n",
    "\n",
    "Paste and run the following SQL in the Athena Query Editor:\n",
    "\n",
    "```sql\n",
    "\n",
    "\n",
    "CREATE EXTERNAL TABLE IF NOT EXISTS accesslogsdb.access_log (\n",
    "  host STRING,\n",
    "  identity STRING,\n",
    "  user STRING,\n",
    "  time STRING,\n",
    "  request STRING,\n",
    "  status INT,\n",
    "  size STRING,\n",
    "  referer STRING,\n",
    "  agent STRING\n",
    ")\n",
    "ROW FORMAT SERDE 'org.apache.hadoop.hive.serde2.RegexSerDe'\n",
    "WITH SERDEPROPERTIES (\n",
    "  \"input.regex\" = \"^(\\\\S+) (\\\\S+) (\\\\S+) \\\\[(.*?)\\\\] \\\"(.*?)\\\" (\\\\d{3}) (\\\\S+) \\\"(.*?)\\\" \\\"(.*?)\\\"$\"\n",
    ")\n",
    "LOCATION 's3://athena-accesslogs-lab-<yourinitials>/data/'\n",
    "TBLPROPERTIES ('skip.header.line.count'='0');\n",
    "\n",
    "```"
   ]
  },
  {
   "cell_type": "markdown",
   "metadata": {},
   "source": [
    "## 🔍 Step 6: Run Analysis Queries\n",
    "\n",
    "### ✅ Total Records\n",
    "```sql\n",
    "SELECT COUNT(*) FROM accesslogsdb.access_log;\n",
    "```\n",
    "\n",
    "### 🌐 Top 10 IPs by Traffic\n",
    "```sql\n",
    "SELECT host, COUNT(*) AS hits\n",
    "FROM accesslogsdb.access_log\n",
    "GROUP BY host\n",
    "ORDER BY hits DESC\n",
    "LIMIT 10;\n",
    "```\n",
    "\n",
    "### 🚫 Identify 404 Errors\n",
    "```sql\n",
    "SELECT * FROM accesslogsdb.access_log WHERE status = 404;\n",
    "```\n",
    "\n",
    "### 🔝 Most Requested URLs\n",
    "```sql\n",
    "SELECT split(request, ' ')[2] AS url, COUNT(*) AS hits\n",
    "FROM accesslogsdb.access_log\n",
    "GROUP BY split(request, ' ')[2]\n",
    "ORDER BY hits DESC\n",
    "LIMIT 10;\n",
    "\n",
    "```"
   ]
  },
  {
   "cell_type": "markdown",
   "metadata": {},
   "source": [
    "## 🧾 Step 7: Verify Results\n",
    "\n",
    "Check the Athena query results directly in the console.\n",
    "All output files will also appear automatically in:\n",
    "```\n",
    "s3://athena-accesslogs-lab-98/output/\n",
    "```\n",
    "\n",
    "You can download them for further analysis if needed."
   ]
  },
  {
   "cell_type": "markdown",
   "metadata": {},
   "source": [
    "## 🧹 Step 8: Cleanup (Optional)\n",
    "\n",
    "After completing the lab, clean up resources:\n",
    "\n",
    "```sql\n",
    "DROP TABLE accesslogsdb.access_log;\n",
    "DROP DATABASE accesslogsdb;\n",
    "```\n",
    "\n",
    "Then delete files and folders from your S3 bucket to avoid storage costs."
   ]
  }
 ],
 "metadata": {
  "kernelspec": {
   "display_name": "Markdown + SQL",
   "language": "markdown",
   "name": "python3"
  },
  "language_info": {
   "name": "markdown"
  }
 },
 "nbformat": 4,
 "nbformat_minor": 5
}
