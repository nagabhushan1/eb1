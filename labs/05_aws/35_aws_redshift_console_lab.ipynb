{
 "cells": [
  {
   "cell_type": "markdown",
   "id": "faa0a99a",
   "metadata": {},
   "source": [
    "# Amazon Redshift Console Lab\n",
    "Region: **us-east-1**\n",
    "\n",
    "This notebook is a **lab guide** for performing an end-to-end Redshift Serverless workflow **entirely through the AWS Management Console** \n",
    "\n",
    "Follow each step using the AWS Console and the built-in **Query Editor v2**. You can use this notebook as a **step-by-step manual** to record SQL queries and notes.\n",
    "\n",
    "---"
   ]
  },
  {
   "cell_type": "markdown",
   "id": "aab153a6",
   "metadata": {},
   "source": [
    "## Step 1: Create Namespace and Workgroup\n",
    "1. Log in to the **AWS Management Console**.\n",
    "2. Navigate to **Amazon Redshift → Redshift Serverless**.\n",
    "3. Click **Create workgroup** or **Get started** if setting up for the first time.\n",
    "4. You can choose **Default settings** for simplicity.\n",
    "   - Namespace: `redshift-serverless-lab`\n",
    "   - Workgroup: `redshift-workgroup-lab`\n",
    "   - Database: `dev`\n",
    "5. Wait for both Namespace and Workgroup to become active.\n",
    "\n",
    "📘 *A namespace defines data storage and permissions; a workgroup defines compute resources.*"
   ]
  },
  {
   "cell_type": "markdown",
   "id": "26862865",
   "metadata": {},
   "source": [
    "## Step 2: Attach IAM Role and Configure S3 Access\n",
    "To load or unload data between S3 and Redshift Serverless:\n",
    "\n",
    "1. Go to **Redshift Serverless Console → Namespaces → [Your Namespace]**.\n",
    "2. Under **Security and Encryption**, click **Manage IAM roles**.\n",
    "3. Attach an IAM role that has permissions like:\n",
    "   - `AmazonS3ReadOnlyAccess` (for loading data)\n",
    "   - `AmazonS3FullAccess` (if you plan to unload data)\n",
    "4. Save the role association.\n",
    "\n",
    "✅ *This enables COPY and UNLOAD commands to work with your S3 buckets.*"
   ]
  },
  {
   "cell_type": "markdown",
   "id": "ced9d040",
   "metadata": {},
   "source": [
    "## Step 3: Open Query Editor v2\n",
    "1. In the Redshift Serverless console, click **Query data**.\n",
    "2. This opens **Query Editor v2**.\n",
    "3. Choose your **workgroup** to connect.\n",
    "4. Select your authentication method (user/password or IAM).\n",
    "5. Once connected, you will see a SQL editor interface to run queries directly in Redshift Serverless."
   ]
  },
  {
   "cell_type": "markdown",
   "id": "68892159",
   "metadata": {},
   "source": [
    "## Step 4: Create Table (Tickit Data Example)\n",
    "Run the following SQL statements in **Query Editor v2** to create a table and load sample Tickit data from S3:\n",
    "\n",
    "```sql\n",
    "CREATE TABLE IF NOT EXISTS tickit_sales (\n",
    "  salesid INTEGER NOT NULL,\n",
    "  listid INTEGER NOT NULL,\n",
    "  sellerid INTEGER NOT NULL,\n",
    "  buyerid INTEGER NOT NULL,\n",
    "  eventid INTEGER NOT NULL,\n",
    "  dateid SMALLINT NOT NULL,\n",
    "  qtysold SMALLINT NOT NULL,\n",
    "  pricepaid DECIMAL(8,2),\n",
    "  commission DECIMAL(8,2),\n",
    "  saletime TIMESTAMP\n",
    ");\n",
    "```\n",
    "\n",
    "Now load data from the AWS public Tickit dataset:\n",
    "\n",
    "```sql\n",
    "COPY tickit_sales\n",
    "FROM 's3://awssampledbuswest2/tickit/spectrum/sales/'\n",
    "IAM_ROLE 'arn:aws:iam::123456789012:role/YourRedshiftRole'\n",
    "FORMAT AS PARQUET;\n",
    "```\n",
    "\n",
    "📘 *The COPY command imports data from S3 into Redshift using the IAM role.*"
   ]
  },
  {
   "cell_type": "markdown",
   "id": "6339c29a",
   "metadata": {},
   "source": [
    "## Step 5: Run Analytical Queries\n",
    "After loading the data, you can execute queries to analyze it.\n",
    "\n",
    "### Total Number of Sales\n",
    "```sql\n",
    "SELECT COUNT(*) AS total_sales FROM tickit_sales;\n",
    "```\n",
    "\n",
    "### Top 5 Events by Total Revenue\n",
    "```sql\n",
    "SELECT eventid, SUM(pricepaid) AS total_revenue\n",
    "FROM tickit_sales\n",
    "GROUP BY eventid\n",
    "ORDER BY total_revenue DESC\n",
    "LIMIT 5;\n",
    "```\n",
    "\n",
    "### Average Ticket Price by Seller\n",
    "```sql\n",
    "SELECT sellerid, AVG(pricepaid) AS avg_price\n",
    "FROM tickit_sales\n",
    "GROUP BY sellerid\n",
    "ORDER BY avg_price DESC\n",
    "LIMIT 10;\n",
    "```"
   ]
  },
  {
   "cell_type": "markdown",
   "id": "239d5ab9",
   "metadata": {},
   "source": [
    "## Step 6: Unload Query Results Back to S3\n",
    "You can export query results to S3 using the `UNLOAD` command.\n",
    "\n",
    "```sql\n",
    "UNLOAD ('SELECT * FROM tickit_sales WHERE qtysold > 5')\n",
    "TO 's3://your-output-bucket/tickit_unload/'\n",
    "IAM_ROLE 'arn:aws:iam::123456789012:role/YourRedshiftRole'\n",
    "PARQUET\n",
    "ALLOWOVERWRITE;\n",
    "```\n",
    "\n",
    "✅ *This writes the query results in Parquet format back to your S3 bucket.*"
   ]
  },
  {
   "cell_type": "markdown",
   "id": "ac5ed663",
   "metadata": {},
   "source": [
    "## Step 7: Cleanup Resources\n",
    "Once your lab is complete, clean up to avoid unnecessary costs.\n",
    "\n",
    "```sql\n",
    "DROP TABLE IF EXISTS tickit_sales;\n",
    "```\n",
    "\n",
    "You can also delete your Redshift **workgroup** and **namespace** from the AWS Console to stop serverless billing."
   ]
  },
  {
   "cell_type": "markdown",
   "id": "955e2668",
   "metadata": {},
   "source": [
    "## ✅ Summary\n",
    "- This lab used  **AWS Console** and **Query Editor v2**.\n",
    "- You learned how to:\n",
    "  1. Create Redshift Serverless resources\n",
    "  2. Attach IAM roles for S3 access\n",
    "  3. Load and query Tickit data\n",
    "  4. Unload data back to S3\n",
    "  5. Clean up resources safely\n",
    "\n",
    "---"
   ]
  }
 ],
 "metadata": {
  "language_info": {
   "name": "python"
  }
 },
 "nbformat": 4,
 "nbformat_minor": 5
}
