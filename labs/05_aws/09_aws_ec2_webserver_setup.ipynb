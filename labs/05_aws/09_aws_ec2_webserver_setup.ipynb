{
 "cells": [
  {
   "cell_type": "markdown",
   "id": "0ac65982",
   "metadata": {},
   "source": [
    "### EC2 Web Server Setup using Apache on Amazon Linux\n",
    "\n",
    "This notebook demonstrates how to manually set up a simple web server on an **Amazon Linux EC2 instance**. The server will host a static HTML page (`index.html`) served through Apache HTTP Server.\n",
    "\n",
    "_Ensure http traffic is allowed while creating the EC2 instance_"
   ]
  },
  {
   "cell_type": "markdown",
   "id": "03e1f1bb",
   "metadata": {},
   "source": [
    "### Step 1: Connect to EC2 Instance\n",
    "We begin by connecting to our EC2 instance using SSH. Ensure that your key pair (`.pem` file) has appropriate permissions and the EC2 instance is in a running state."
   ]
  },
  {
   "cell_type": "code",
   "execution_count": null,
   "id": "2ad452f9",
   "metadata": {},
   "outputs": [],
   "source": [
    "ssh -i \"your-key.pem\" ec2-user@<your-public-ip>"
   ]
  },
  {
   "cell_type": "markdown",
   "id": "4add3b8e",
   "metadata": {},
   "source": [
    "### Step 2: Update System Packages\n",
    "Before installation, it's always a good practice to update your system packages to the latest versions."
   ]
  },
  {
   "cell_type": "code",
   "execution_count": null,
   "id": "3a979a8d",
   "metadata": {},
   "outputs": [],
   "source": [
    "sudo yum update -y"
   ]
  },
  {
   "cell_type": "markdown",
   "id": "abb25d09",
   "metadata": {},
   "source": [
    "### Step 3: Install Apache Web Server\n",
    "Here, we install **Apache (httpd)**, one of the most widely used web servers, using the Amazon Linux package manager."
   ]
  },
  {
   "cell_type": "code",
   "execution_count": null,
   "id": "c5d2c853",
   "metadata": {},
   "outputs": [],
   "source": [
    "sudo yum install -y httpd"
   ]
  },
  {
   "cell_type": "markdown",
   "id": "277cfa6c",
   "metadata": {},
   "source": [
    "### Step 4: Start and Enable Apache Service\n",
    "After installation, we start the Apache service and enable it to automatically start on system boot."
   ]
  },
  {
   "cell_type": "code",
   "execution_count": null,
   "id": "a6610638",
   "metadata": {},
   "outputs": [],
   "source": [
    "sudo systemctl start httpd\n",
    "sudo systemctl enable httpd\n",
    "sudo systemctl status httpd"
   ]
  },
  {
   "cell_type": "markdown",
   "id": "68ebcc05",
   "metadata": {},
   "source": [
    "### Step 5: Create a Simple Web Page\n",
    "Now, let’s create a sample `index.html` file inside the default web directory `/var/www/html`. This page will be served when we access the EC2 public IP through a browser."
   ]
  },
  {
   "cell_type": "code",
   "execution_count": null,
   "id": "f33047e7",
   "metadata": {},
   "outputs": [],
   "source": [
    "echo \"<html><h1>Welcome to AWS</h1></html>\" | sudo tee /var/www/html/index.html\n",
    "\n",
    "cat /var/www/html/index.html"
   ]
  },
  {
   "cell_type": "markdown",
   "id": "5c066716",
   "metadata": {},
   "source": [
    "### Step 6: Test Your Web Server\n",
    "Finally, open your browser and enter your EC2 instance’s public IP:\n",
    "```\n",
    "http://<your-ec2-public-ip>/\n",
    "```\n",
    "You should now see your custom `index.html` page displayed.\n"
   ]
  }
 ],
 "metadata": {
  "language_info": {
   "name": "python"
  }
 },
 "nbformat": 4,
 "nbformat_minor": 5
}
