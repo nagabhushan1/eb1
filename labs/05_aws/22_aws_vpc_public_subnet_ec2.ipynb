{
 "cells": [
  {
   "cell_type": "markdown",
   "id": "ff170204",
   "metadata": {},
   "source": [
    "\n",
    "# AWS Lab Exercise — Public Subnet (Console Based)\n",
    "\n",
    "### Objective\n",
    "In this exercise, you will create a **Public Subnet** inside a custom **VPC** in the **Mumbai Region (ap-south-1)** and launch an **EC2 instance** inside it that can connect to the internet.\n",
    "\n",
    "---\n",
    "\n",
    "### Architecture Diagram\n",
    "A simple architecture for this lab:\n",
    "\n",
    "```\n",
    "Region: ap-south-1 (Mumbai)\n",
    "└── VPC (10.100.0.0/16)\n",
    "    ├── Public Subnet (10.100.0.0/24)\n",
    "    │     └── EC2 Instance (Public IP + Private IP)\n",
    "    └── Internet Gateway (IGW)\n",
    "          └── Route Table with default route (0.0.0.0/0 → IGW)\n",
    "```\n",
    "\n",
    "---\n",
    "\n",
    "### High-Level Steps\n",
    "1. Create a new VPC  \n",
    "2. Create an Internet Gateway and associate it with your VPC  \n",
    "3. Create a Public Subnet and enable Auto-assign Public IP  \n",
    "4. Create a Route Table and add a route to the Internet Gateway  \n",
    "5. Associate the Route Table with your Subnet  \n",
    "6. Launch an EC2 instance in the Public Subnet  \n",
    "7. Connect to the instance using its Public IP\n",
    "\n",
    "---\n"
   ]
  },
  {
   "cell_type": "markdown",
   "id": "485de69f",
   "metadata": {},
   "source": [
    "\n",
    "## Step 1: Create a VPC\n",
    "\n",
    "1. Open the **AWS Management Console** → navigate to **VPC service** → **Your VPCs** → click **Create VPC**.  \n",
    "2. Choose **VPC Only**.  \n",
    "3. Enter the following details:\n",
    "   - **Name tag:** `VPC-A`  \n",
    "   - **IPv4 CIDR block:** `10.100.0.0/16`  \n",
    "   - **Tenancy:** Default  \n",
    "4. Click **Create VPC**.  \n",
    "5. Verify that your VPC appears in the list with state `Available`.\n"
   ]
  },
  {
   "cell_type": "markdown",
   "id": "ffef5457",
   "metadata": {},
   "source": [
    "\n",
    "## Step 2: Create an Internet Gateway\n",
    "\n",
    "1. In the left panel, choose **Internet Gateways** → click **Create internet gateway**.  \n",
    "2. **Name tag:** `VPC-A-IGW`.  \n",
    "3. Click **Create internet gateway**.  \n",
    "4. Once created, select the Internet Gateway → choose **Actions** → **Attach to VPC**.  \n",
    "5. Select **VPC-A** and click **Attach Internet Gateway**.  \n",
    "\n",
    "This Internet Gateway will allow instances in your public subnet to communicate with the Internet.\n"
   ]
  },
  {
   "cell_type": "markdown",
   "id": "bcc32959",
   "metadata": {},
   "source": [
    "\n",
    "## Step 3: Create a Public Subnet\n",
    "\n",
    "1. Go to **Subnets** → click **Create subnet**.  \n",
    "2. Select **VPC ID:** `VPC-A`.  \n",
    "3. For **Subnet name**, enter `VPC-A-Public`.  \n",
    "4. Choose an **Availability Zone** (e.g., `ap-south-1a`).  \n",
    "5. Enter **IPv4 CIDR block:** `10.100.0.0/24`.  \n",
    "6. Click **Create subnet**.  \n",
    "7. After creation, select the subnet → **Actions** → **Edit subnet settings** → enable **Auto-assign IP settings** → check **Enable auto-assign public IPv4 address** → click **Save**.\n",
    "\n",
    "This ensures every instance launched in this subnet gets a public IP automatically.\n"
   ]
  },
  {
   "cell_type": "markdown",
   "id": "53aa2970",
   "metadata": {},
   "source": [
    "\n",
    "## Step 4: Create a Route Table\n",
    "\n",
    "1. Go to **Route Tables** → click **Create route table**.  \n",
    "2. **Name tag:** `VPC-A-Public-RT`.  \n",
    "3. Select **VPC:** `VPC-A`.  \n",
    "4. Click **Create route table**.  \n",
    "5. Select your route table → go to **Routes** tab → click **Edit routes** → **Add route**.  \n",
    "   - **Destination:** `0.0.0.0/0`  \n",
    "   - **Target:** select the Internet Gateway (`VPC-A-IGW`).  \n",
    "6. Click **Save changes**.\n",
    "\n",
    "This route allows outbound traffic from the subnet to the Internet.\n"
   ]
  },
  {
   "cell_type": "markdown",
   "id": "28508dfe",
   "metadata": {},
   "source": [
    "\n",
    "## Step 5: Associate Route Table with Subnet\n",
    "\n",
    "1. Go to **Route Tables** → select `VPC-A-Public-RT`.  \n",
    "2. In the **Subnet associations** tab → click **Edit subnet associations**.  \n",
    "3. Select the checkbox for **VPC-A-Public** subnet.  \n",
    "4. Click **Save associations**.\n",
    "\n",
    "This links the route table (with internet access) to the public subnet.\n"
   ]
  },
  {
   "cell_type": "markdown",
   "id": "b5be0d57",
   "metadata": {},
   "source": [
    "\n",
    "## Step 6: Launch an EC2 Instance in the Public Subnet\n",
    "\n",
    "1. Navigate to **EC2 Service** → **Instances** → click **Launch Instance**.  \n",
    "2. **Name:** `EC2-A`.  \n",
    "3. Select **Amazon Linux** as the OS image (default).  \n",
    "4. Choose **Instance type:** `t2.micro` (Free tier eligible).  \n",
    "5. **Key pair:** Select an existing key pair (or create one).  \n",
    "6. Under **Network settings**, click **Edit**:\n",
    "   - **VPC:** `VPC-A`  \n",
    "   - **Subnet:** `VPC-A-Public`  \n",
    "   - Ensure **Auto-assign Public IP** is enabled.  \n",
    "7. Under **Firewall (security group)** → **Create security group**:\n",
    "   - **Name:** `EC2-A-SG`  \n",
    "   - **Inbound rule:** Type: SSH, Port: 22, Source: My IP  \n",
    "8. Keep storage default (8 GiB, gp3).  \n",
    "9. Click **Launch Instance**.  \n",
    "\n",
    "Once the instance launches, note its **Public IPv4 address** from the **Instances** dashboard.\n"
   ]
  },
  {
   "cell_type": "markdown",
   "id": "5f64034e",
   "metadata": {},
   "source": [
    "\n",
    "## Step 7: Connect to EC2 Instance\n",
    "\n",
    "You can connect to the instance using **SSH** (from your workstation or CloudShell):\n",
    "\n",
    "- **User:** `ec2-user`  \n",
    "- **Public IP:** (copy from EC2 console)  \n",
    "- **SSH command example:**\n",
    "  ```bash\n",
    "  ssh -i your-key.pem ec2-user@<Public-IP>\n",
    "  ```\n",
    "\n",
    "Once connected, test internet access using:\n",
    "```bash\n",
    "ping google.com\n",
    "```\n",
    "\n",
    "If successful, your public subnet and internet connectivity are working correctly!\n"
   ]
  },
  {
   "cell_type": "markdown",
   "id": "6cb66037",
   "metadata": {},
   "source": [
    "\n",
    "---\n",
    "\n",
    "## Reflection\n",
    "\n",
    "✅ Why is this subnet considered *public*?  \n",
    "→ Because it has a route to an Internet Gateway and auto-assigns public IPs.  \n",
    "\n",
    "✅ What would make a subnet *private*?  \n",
    "→ Absence of an Internet Gateway route and no public IP assignment.  \n",
    "\n",
    "✅ Key Learning  \n",
    "You have created a fully functional public subnet, attached an Internet Gateway, configured routes, and successfully launched an EC2 instance accessible from the internet.\n",
    "\n",
    "---\n"
   ]
  }
 ],
 "metadata": {},
 "nbformat": 4,
 "nbformat_minor": 5
}
