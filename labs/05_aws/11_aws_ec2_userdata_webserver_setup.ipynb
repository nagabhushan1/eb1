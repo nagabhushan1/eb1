{
 "cells": [
  {
   "cell_type": "markdown",
   "id": "8b3c7e84",
   "metadata": {},
   "source": [
    "### EC2 User Data Script for Automatic Web Server Setup\n",
    "\n",
    "This notebook provides a **user-data script** that automatically installs Apache (`httpd`), creates a sample HTML page displaying `HelloAWS`, and starts the web server as soon as the EC2 instance is launched.\n",
    "\n",
    "The steps are executed automatically when the instance boots for the first time."
   ]
  },
  {
   "cell_type": "markdown",
   "id": "8b24e189",
   "metadata": {},
   "source": [
    "### Step 1: Create and Launch EC2 Instance with User Data\n",
    "You can launch an EC2 instance from the AWS Management Console or using the AWS CLI. The user data script below ensures the web server is ready upon launch."
   ]
  },
  {
   "cell_type": "code",
   "execution_count": null,
   "id": "113a731f",
   "metadata": {},
   "outputs": [],
   "source": [
    "#!/bin/bash -xe\n",
    "# ===== User Data Script: Simple Apache Web Server Setup =====\n",
    "\n",
    "# Update the instance\n",
    "yum update -y\n",
    "\n",
    "# Install Apache\n",
    "yum install -y httpd\n",
    "\n",
    "# Create the web page\n",
    "echo '<html><h1>Hello World</h1></html>' > /var/www/html/index.html\n",
    "\n",
    "# Enable and start the Apache service\n",
    "systemctl enable httpd\n",
    "systemctl start httpd\n",
    "\n"
   ]
  },
  {
   "cell_type": "markdown",
   "id": "626f0d5d",
   "metadata": {},
   "source": [
    "### Step 2: AWS Console Launch Instructions\n",
    "1. Go to **EC2 → Launch Instance**.\n",
    "2. Under **Advanced Details → User Data**, paste the above script.\n",
    "3. Choose an **Amazon Linux 2 AMI**.\n",
    "4. Select an **instance type** (e.g., `t2.micro`).\n",
    "5. Ensure **HTTP (port 80)** is allowed in your **Security Group**.\n",
    "6. Launch the instance and wait for initialization."
   ]
  },
  {
   "cell_type": "markdown",
   "id": "61710f72",
   "metadata": {},
   "source": [
    "### Step 3: Verify Web Server\n",
    "Once the instance state is `running`, open your browser and go to:\n",
    "```\n",
    "http://<your-ec2-public-ip>/\n",
    "```\n",
    "You should immediately see:\n",
    "\n",
    "<h2>Hello World</h2>\n"
   ]
  }
 ],
 "metadata": {
  "language_info": {
   "name": "python"
  }
 },
 "nbformat": 4,
 "nbformat_minor": 5
}
