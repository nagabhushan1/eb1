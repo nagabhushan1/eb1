{
 "cells": [
  {
   "cell_type": "markdown",
   "id": "710620fa",
   "metadata": {},
   "source": [
    "\n",
    "# AWS S3 Versioning — Managing Object Versions\n",
    "\n",
    "### 🎯 Objective\n",
    "In this lab, you will learn how to use **Amazon S3 Versioning** to preserve, retrieve, and restore versions of your data by comparing two buckets — one without versioning and another with versioning enabled.\n",
    "\n",
    "---\n",
    "\n",
    "### 🧠 Key Concepts\n",
    "\n",
    "| Concept | Description |\n",
    "|----------|--------------|\n",
    "| **Versioning** | Maintains multiple variants of an object in the same bucket. |\n",
    "| **Version ID** | Unique identifier assigned automatically to each version. |\n",
    "| **Delete Marker** | A placeholder that hides an object instead of deleting it permanently. |\n",
    "| **Suspended State** | Stops creating new versions but retains old ones. |\n",
    "\n",
    "---\n",
    "\n",
    "### ⚙️ Prerequisites\n",
    "- AWS account with permissions for S3.\n",
    "- Region: **us-east-1**\n",
    "- Sample datasets:\n",
    "  - `orders.csv` (used for non-versioned bucket)\n",
    "  - `customers.csv` (used for versioned bucket)\n",
    "\n",
    "---\n"
   ]
  },
  {
   "cell_type": "markdown",
   "id": "ad13c3a0",
   "metadata": {},
   "source": [
    "\n",
    "## Step 1: Create a Non-Versioned Bucket\n",
    "\n",
    "1. Go to **S3 → Create bucket**.\n",
    "2. Enter a globally unique bucket name, e.g.:\n",
    "   ```\n",
    "   non-versioned-bucket-trainer-1234\n",
    "   ```\n",
    "3. Region: **us-east-1**.\n",
    "4. Keep **Block all public access** enabled.\n",
    "5. Under **Bucket Versioning**, ensure it is **Disabled (default)**.\n",
    "6. Click **Create bucket**.\n",
    "\n",
    "✅ **Result:** A standard S3 bucket without versioning is created.\n"
   ]
  },
  {
   "cell_type": "markdown",
   "id": "b641d416",
   "metadata": {},
   "source": [
    "\n",
    "## Step 2: Upload Sample File (`orders.csv`)\n",
    "\n",
    "1. Open your bucket **non-versioned-bucket-trainer-1234**.\n",
    "2. Click **Upload → Add files** → choose `orders.csv`.\n",
    "3. Click **Upload**.\n",
    "\n",
    "✅ **Result:** The file `orders.csv` is uploaded successfully (no version ID assigned).\n"
   ]
  },
  {
   "cell_type": "markdown",
   "id": "d4602831",
   "metadata": {},
   "source": [
    "\n",
    "## Step 3: Modify and Re-upload the File\n",
    "\n",
    "1. Edit your local `orders.csv` file — e.g., add or change one row.\n",
    "2. Re-upload it to the same bucket with the same name (`orders.csv`).\n",
    "3. When prompted, click **Replace existing object** → **Yes**.\n",
    "\n",
    "✅ **Observation:** The previous file is overwritten permanently.  \n",
    "⛔ **No version history** is maintained in non-versioned buckets.\n"
   ]
  },
  {
   "cell_type": "markdown",
   "id": "406fcca0",
   "metadata": {},
   "source": [
    "\n",
    "## Step 4: Create a Versioned Bucket\n",
    "\n",
    "1. Go to **S3 → Create bucket**.\n",
    "2. Enter a globally unique bucket name, e.g.:\n",
    "   ```\n",
    "   versioned-bucket-trainer-1234\n",
    "   ```\n",
    "3. Region: **us-east-1**.\n",
    "4. Scroll down to **Bucket Versioning** → **Enable**.\n",
    "5. Click **Create bucket**.\n",
    "\n",
    "✅ **Result:** A versioned S3 bucket is created.\n"
   ]
  },
  {
   "cell_type": "markdown",
   "id": "af4111c9",
   "metadata": {},
   "source": [
    "\n",
    "## Step 5: Upload Sample File (`customers.csv`)\n",
    "\n",
    "1. Open the bucket **versioned-bucket-trainer-1234**.\n",
    "2. Click **Upload → Add files** → choose `customers.csv`.\n",
    "3. Click **Upload**.\n",
    "\n",
    "✅ **Result:** The first version of `customers.csv` is uploaded.  \n",
    "You can check the **Version ID** column to confirm.\n"
   ]
  },
  {
   "cell_type": "markdown",
   "id": "5941cc34",
   "metadata": {},
   "source": [
    "\n",
    "## Step 6: Modify and Re-upload the File\n",
    "\n",
    "1. Edit your local `customers.csv` file — add or modify one record.\n",
    "2. Re-upload it to the same bucket with the same name (`customers.csv`).\n",
    "3. Click **Upload → Add files → customers.csv → Upload**.\n",
    "\n",
    "✅ **Result:** A **new version** of `customers.csv` is created — the old version is retained.  \n",
    "You can confirm this by toggling **Show versions** in the S3 console.\n"
   ]
  },
  {
   "cell_type": "markdown",
   "id": "8c0cc32e",
   "metadata": {},
   "source": [
    "\n",
    "## Step 7: View Object Versions\n",
    "\n",
    "1. Open the bucket **versioned-bucket-trainer-1234**.\n",
    "2. Click the **Show versions** toggle (top-right in object list).  \n",
    "3. You will now see multiple versions of `customers.csv` — each with a unique **Version ID**.\n",
    "\n",
    "✅ **Observation:** Each upload creates a distinct version instead of overwriting the file.\n"
   ]
  },
  {
   "cell_type": "markdown",
   "id": "c14803ca",
   "metadata": {},
   "source": [
    "\n",
    "## Step 8: Restore an Older Version\n",
    "\n",
    "1. Download the previous version of `customers.csv`.\n",
    "2. Compare it with the latest version to see differences.\n",
    "3. You can re-upload the previous version manually to restore it as the current version.\n",
    "\n",
    "✅ **Result:** You’ve successfully restored an older object version.\n"
   ]
  },
  {
   "cell_type": "markdown",
   "id": "f2c0ddd9",
   "metadata": {},
   "source": [
    "\n",
    "## Step 9: Delete the File and Observe the Delete Marker\n",
    "\n",
    "1. Delete `customers.csv` from the versioned bucket.\n",
    "2. Enable **Show versions** again → you’ll see a **Delete marker**.  \n",
    "3. Remove the delete marker to restore all versions.\n",
    "\n",
    "✅ **Observation:** Deletion in versioned buckets is reversible unless you delete the delete marker.\n"
   ]
  },
  {
   "cell_type": "markdown",
   "id": "7130f5ee",
   "metadata": {},
   "source": [
    "\n",
    "## Step 10: Cleanup\n",
    "\n",
    "1. Permanently delete all versions in both buckets.\n",
    "2. Delete both buckets (`non-versioned-bucket-trainer-1234` and `versioned-bucket-trainer-1234`).\n",
    "\n",
    "✅ **Environment cleaned up successfully.**\n"
   ]
  },
  {
   "cell_type": "markdown",
   "id": "f8bb36f3",
   "metadata": {},
   "source": [
    "\n",
    "## 🧭 Reflection Section\n",
    "\n",
    "| Concept | Observation |\n",
    "|----------|--------------|\n",
    "| **Versioning Enabled** | Retains all versions of an object for rollback or recovery. |\n",
    "| **Non-Versioned Bucket** | Overwrites and deletes objects permanently. |\n",
    "| **Delete Marker** | Non-destructive delete mechanism. |\n",
    "| **Restoration** | Easy to recover older versions if versioning is enabled. |\n",
    "\n",
    "---\n",
    "\n",
    "### 🧠 Key Learnings\n",
    "- S3 versioning is a **data protection mechanism** for accidental overwrites or deletions.  \n",
    "- You can view, restore, or delete specific object versions.  \n",
    "\n",
    "---\n",
    "\n"
   ]
  },
  {
   "cell_type": "markdown",
   "id": "114a2658",
   "metadata": {},
   "source": []
  }
 ],
 "metadata": {
  "language_info": {
   "name": "python"
  }
 },
 "nbformat": 4,
 "nbformat_minor": 5
}
