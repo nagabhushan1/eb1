{
 "cells": [
  {
   "cell_type": "markdown",
   "id": "75cc1961",
   "metadata": {},
   "source": [
    "# 🧭 Developing a Data Catalog with AWS Glue Crawlers\n",
    "\n",
    "**Mode:** Console-only • **Region:** `us-east-1`\n",
    "\n",
    "### 🎯 Objective\n",
    "Build a Glue **Data Catalog** by running a **Crawler** over CSV data in S3.\n",
    "\n",
    "### Why this matters\n",
    "Glue Crawlers automatically discover schema (columns, data types, partitions) and create tables in the **Glue Data Catalog** that services like **Athena**, **Redshift Spectrum**, and **EMR** can query.\n"
   ]
  },
  {
   "cell_type": "markdown",
   "id": "9cf81241",
   "metadata": {},
   "source": [
    "## ✅ Prerequisites\n",
    "- AWS account with access to **S3, IAM, Glue**.\n",
    "- Create an S3 bucket (globally unique): **`glue-lab24-crawler-us-east-1`**\n",
    "- Upload your files into: `s3://glue-lab24-crawler-us-east-1/sales-data/`\n",
    "  - `orders_with_header.csv`\n",
    "  - `customers_with_header.csv`\n",
    "- You’ll create an IAM role **AWSGlueServiceRoleLab24** below.\n"
   ]
  },
  {
   "cell_type": "markdown",
   "id": "06c86528",
   "metadata": {},
   "source": [
    "## 1) Create IAM role for the crawler\n",
    "1. AWS Console → **IAM → Roles → Create role**  \n",
    "2. **Trusted entity**: AWS service → **Glue**  \n",
    "3. **Permissions**: attach\n",
    "   - `AWSGlueServiceRole`\n",
    "   - `AmazonS3FullAccess` *(or a least‑privilege policy to your bucket path)*  \n",
    "4. **Role name**: `AWSGlueServiceRoleLab24`\n"
   ]
  },
  {
   "cell_type": "markdown",
   "id": "92063250",
   "metadata": {},
   "source": [
    "## 2) Create a new Crawler\n",
    "1. AWS Console → **AWS Glue → Crawlers → Create crawler**\n",
    "2. **Name**: `sales-data-crawler24`\n",
    "3. **Data source**: **S3**\n",
    "4. **S3 path**: `s3://glue-lab24-crawler-us-east-1/sales-data/`\n",
    "5. **IAM role**: *Choose existing* → `AWSGlueServiceRoleLab24`\n",
    "6. **Target** → **Create a database**: `sales_data_db24`\n",
    "7. **Schedule**: *On demand*\n",
    "8. **Table name changes**: keep defaults\n",
    "9. **Create crawler**\n"
   ]
  },
  {
   "cell_type": "markdown",
   "id": "741a1a8d",
   "metadata": {},
   "source": [
    "## 3) Run the crawler and verify tables\n",
    "1. Select **sales-data-crawler24 → Run**. Wait for **Completed**.\n",
    "2. Go to **Glue → Data Catalog → Databases → sales_data_db24 → Tables**.\n",
    "3. You should see tables inferred for your CSVs (example: `orders_with_header`, `customers_with_header`).\n",
    "4. Open a table → **Schema** to review columns and data types.\n",
    "\n",
    "### Notes\n",
    "- If headers aren’t detected or delimiters differ, you’ll fix that in **Lab 25 (Custom Classifier)**.\n"
   ]
  },
  {
   "cell_type": "markdown",
   "id": "f5c623cf",
   "metadata": {},
   "source": [
    "## 🧹 Cleanup\n",
    "- Stop/delete the crawler if no longer needed.\n",
    "- Delete the IAM roles and S3 buckets.\n"
   ]
  },
  {
   "cell_type": "markdown",
   "id": "f719a0cd",
   "metadata": {},
   "source": [
    "## 🧭 Reflection\n",
    "- **Crawler** = automated schema discovery.  \n",
    "- **Data Catalog** = central metadata store for your lakehouse. "
   ]
  }
 ],
 "metadata": {
  "language_info": {
   "name": "python"
  }
 },
 "nbformat": 4,
 "nbformat_minor": 5
}
