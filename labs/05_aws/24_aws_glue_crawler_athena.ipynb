{
 "cells": [
  {
   "cell_type": "markdown",
   "id": "7418e680",
   "metadata": {},
   "source": [
    "\n",
    "# 🧩 AWS Glue Crawler + Athena Lab\n",
    "**Objective:** Learn how to catalog and query data in S3 using AWS Glue and Amazon Athena — without provisioning servers.\n",
    "\n",
    "---\n",
    "\n",
    "## 🧭 Lab Overview\n",
    "\n",
    "This lab demonstrates how to perform **in-place SQL queries** directly on files stored in Amazon S3.  \n",
    "You will learn how to catalog data using AWS Glue and query it interactively using Amazon Athena.\n",
    "\n",
    "### Key Learning Outcomes\n",
    "- Create and configure IAM roles for Glue.\n",
    "- Set up an S3 bucket and upload data.\n",
    "- Use AWS Glue Crawler to discover schema and create metadata.\n",
    "- Query S3 data directly using Athena.\n"
   ]
  },
  {
   "cell_type": "markdown",
   "id": "4c867a65",
   "metadata": {},
   "source": [
    "\n",
    "## ⚙️ Prerequisites\n",
    "\n",
    "- AWS account with console access\n",
    "- Region: **US-East-1 (N. Virginia)** or consistent region throughout the lab\n",
    "- Dataset: `iris_all.csv` \n",
    "- Permissions to create:\n",
    "  - IAM Role\n",
    "  - S3 Bucket\n",
    "  - AWS Glue Crawler\n",
    "  - Athena queries\n"
   ]
  },
  {
   "cell_type": "markdown",
   "id": "24c3518e",
   "metadata": {},
   "source": [
    "\n",
    "## 🪪 Step 1: Create IAM Role for AWS Glue\n",
    "\n",
    "1. Open the **IAM Console** → *Roles* → **Create Role**  \n",
    "2. Choose **AWS Service** → select **Glue** → **Next**  \n",
    "3. Attach the managed policy **AWSGlueServiceRole**  \n",
    "4. Continue to the review screen and name the role:  \n",
    "   ```\n",
    "   AWSGlueServiceRoleDefault\n",
    "   ```\n",
    "5. Click **Create Role**\n",
    "\n",
    "> 💡 This role allows AWS Glue to access S3 buckets with names starting with `aws-glue-`.\n"
   ]
  },
  {
   "cell_type": "markdown",
   "id": "cd2ea668",
   "metadata": {},
   "source": [
    "\n",
    "## 🪣 Step 2: Create S3 Bucket and Upload Dataset\n",
    "\n",
    "1. Open the **S3 Console** → **Create Bucket**  \n",
    "2. Use this naming pattern:  \n",
    "   ```\n",
    "   aws-glue-yourname\n",
    "   ```\n",
    "   Example: `aws-glue-labdemo`  \n",
    "3. Choose the same region as your IAM role (e.g., *us-east-1*)  \n",
    "4. Inside the bucket, create the folder structure:\n",
    "   ```\n",
    "   iris/\n",
    "     └── csv/\n",
    "   ```\n",
    "5. Upload the file `iris_all.csv` to this location:\n",
    "   ```\n",
    "   s3://aws-glue-yourname/iris/csv/\n",
    "   ```\n"
   ]
  },
  {
   "cell_type": "markdown",
   "id": "6775e409",
   "metadata": {},
   "source": [
    "\n",
    "## 🧬 Step 3: Create and Configure AWS Glue Crawler\n",
    "\n",
    "1. From the **AWS Glue Console**, go to **Crawlers** → **Add Crawler**  \n",
    "2. Name the crawler:\n",
    "   ```\n",
    "   iris_csv_crawler\n",
    "   ```\n",
    "3. For *Source Type*, choose **Data Stores**  \n",
    "4. Select **S3** as the data source  \n",
    "5. Browse and select the folder path: `s3://aws-glue-yourname/iris/csv/`  \n",
    "6. Choose **No** for “Add another data store”  \n",
    "7. For the IAM role, choose the one you created earlier:  \n",
    "   ```\n",
    "   AWSGlueServiceRoleDefault\n",
    "   ```\n",
    "8. Set the crawler schedule to **Run on Demand**  \n",
    "9. Under *Output*, add a new database named:\n",
    "   ```\n",
    "   demo_db\n",
    "   ```\n",
    "10. Add a table prefix (optional):\n",
    "   ```\n",
    "   iris_\n",
    "   ```\n",
    "11. Review and click **Finish**.\n"
   ]
  },
  {
   "cell_type": "markdown",
   "id": "1f683fe0",
   "metadata": {},
   "source": [
    "\n",
    "## ▶️ Step 4: Run the Crawler\n",
    "\n",
    "1. Select your crawler: **iris_csv_crawler**  \n",
    "2. Click **Run Crawler**  \n",
    "3. Wait for the crawler to complete. Once done, it should display:\n",
    "   ```\n",
    "   1 table added to the data catalog\n",
    "   ```\n"
   ]
  },
  {
   "cell_type": "markdown",
   "id": "82162445",
   "metadata": {},
   "source": [
    "\n",
    "## 🧾 Step 5: Verify Metadata in the Glue Catalog\n",
    "\n",
    "1. In Glue Console → *Databases* → select **demo_db**  \n",
    "2. Click on the table **iris_csv**  \n",
    "3. Review the schema detected by the crawler:\n",
    "\n",
    "| Column Name   | Data Type |\n",
    "|----------------|-----------|\n",
    "| sepal_length   | double    |\n",
    "| sepal_width    | double    |\n",
    "| petal_length   | double    |\n",
    "| petal_width    | double    |\n",
    "| class          | string    |\n",
    "\n",
    "> 🧠 The crawler used a CSV classifier and automatically inferred column names and data types.\n"
   ]
  },
  {
   "cell_type": "markdown",
   "id": "f24222f9",
   "metadata": {},
   "source": [
    "\n",
    "## 🧮 Step 6: Query the Data Using Amazon Athena\n",
    "\n",
    "1. Open the **Amazon Athena Console**  \n",
    "2. Ensure the region matches your Glue Catalog  \n",
    "3. In *Settings*, configure a query result location, e.g.:\n",
    "   ```\n",
    "   s3://aws-glue-yourname/athena-results/\n",
    "   ```\n",
    "4. Select database **demo_db**  \n",
    "5. Open table **iris_csv**  \n",
    "6. Choose **Preview Table** — Athena will execute:\n",
    "   ```sql\n",
    "   SELECT * FROM \"demo_db\".\"iris_csv\" LIMIT 10;\n",
    "   ```\n",
    "7. Confirm that 10 rows are displayed.\n"
   ]
  },
  {
   "cell_type": "markdown",
   "id": "2fb66d36",
   "metadata": {},
   "source": [
    "\n",
    "## 🧠 Step 7: Try Custom Queries\n",
    "\n",
    "### a) Filter for a specific class\n",
    "```sql\n",
    "SELECT * \n",
    "FROM demo_db.iris_csv \n",
    "WHERE class = 'Iris-setosa';\n",
    "```\n",
    "\n",
    "### b) Count rows with partial match\n",
    "```sql\n",
    "SELECT class, COUNT(*) AS total\n",
    "FROM demo_db.iris_csv\n",
    "WHERE class LIKE '%setosa%'\n",
    "GROUP BY class;\n",
    "```\n",
    "\n",
    "### c) Compute derived column\n",
    "```sql\n",
    "SELECT sepal_length * sepal_width AS sepal_area, class\n",
    "FROM demo_db.iris_csv\n",
    "LIMIT 10;\n",
    "```\n"
   ]
  },
  {
   "cell_type": "markdown",
   "id": "4d15546e",
   "metadata": {},
   "source": [
    "\n",
    "## 🔍 Step 8: Reflection\n",
    "\n",
    "- You queried data directly from S3 without loading it into a database.  \n",
    "- AWS Glue automatically created a catalog of your dataset.  \n",
    "- Athena used that catalog to run serverless SQL queries.\n",
    "\n",
    "✅ No servers to manage.  \n",
    "✅ Pay only for the queries you run.  \n",
    "✅ Ideal for data exploration in Data Lakes.\n"
   ]
  },
  {
   "cell_type": "markdown",
   "id": "7f4a7692",
   "metadata": {},
   "source": [
    "\n",
    "## 🧹 Step 9: Cleanup (Optional)\n",
    "\n",
    "To avoid incurring charges:\n",
    "\n",
    "1. Delete the Athena query result folder from S3.  \n",
    "2. Delete the **Glue Crawler** and **Database** (`demo_db`).  \n",
    "3. Delete the **S3 Bucket** used in this lab.  \n",
    "4. Optionally, remove the **IAM Role** if not reused.\n"
   ]
  },
  {
   "cell_type": "markdown",
   "id": "98565dc7",
   "metadata": {},
   "source": [
    "\n",
    "## 🪞 References\n",
    "\n",
    "- [AWS Glue Documentation](https://docs.aws.amazon.com/glue/latest/dg/what-is-glue.html)  \n",
    "- [Amazon Athena Documentation](https://docs.aws.amazon.com/athena/latest/ug/what-is.html)\n"
   ]
  }
 ],
 "metadata": {
  "language_info": {
   "name": "python"
  }
 },
 "nbformat": 4,
 "nbformat_minor": 5
}
