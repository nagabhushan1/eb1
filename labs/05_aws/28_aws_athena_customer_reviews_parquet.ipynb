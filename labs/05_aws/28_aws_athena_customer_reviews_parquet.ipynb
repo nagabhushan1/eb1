{
 "cells": [
  {
   "cell_type": "markdown",
   "id": "755435fe",
   "metadata": {},
   "source": [
    "\n",
    "# 🧩 AWS Athena Customer Reviews\n",
    "\n",
    "**Objective:** Learn how to query large `Parquet` datasets in Amazon S3 using Amazon Athena.\n",
    "\n",
    "---\n",
    "\n",
    "## 🧭 Lab Overview\n",
    "\n",
    "In this lab, you will:\n",
    "1. Download the customer reviews dataset from the Git repository.\n",
    "2. Upload it to your S3 bucket.\n",
    "3. Create a table manually in Athena using the `CREATE TABLE` script.\n",
    "4. Run analytical queries to explore sentiment and star rating relationships.\n",
    "5. Observe how Athena queries Parquet efficiently without scanning unnecessary data.\n",
    "\n",
    "---\n",
    "\n",
    "## ⚙️ Prerequisites\n",
    "\n",
    "- AWS Account with Athena and S3 permissions.\n",
    "- Region: **US-East-1 (N. Virginia)** (or any consistent region).\n",
    "- Access to S3 bucket (you may reuse your course bucket).\n",
    "- Athena Query Editor access and an existing **database**, for example `demo_db`.\n",
    "- Parquet file: `customer_reviews.parquet` (~30 MB, ~100K reviews).\n"
   ]
  },
  {
   "cell_type": "markdown",
   "id": "9856b951",
   "metadata": {},
   "source": [
    "\n",
    "## 🪣 Step 1: Download and Upload Dataset to S3\n",
    "\n",
    "1. Navigate to your **Data Lake Git repository** → `customer_review/data/` folder.\n",
    "2. Download the Parquet file (~30 MB) containing customer reviews.\n",
    "3. Open **AWS S3 Console**.\n",
    "4. In your course bucket (e.g., `aws-glue-yourname`), create a new folder:\n",
    "   ```\n",
    "   customer_review_parquet/\n",
    "   ```\n",
    "5. Upload the Parquet file to this folder.\n",
    "6. Copy the **S3 URI** of this folder (e.g.):\n",
    "   ```\n",
    "   s3://aws-glue-yourname/customer_review_parquet/\n",
    "   ```\n"
   ]
  },
  {
   "cell_type": "markdown",
   "id": "beebbcb5",
   "metadata": {},
   "source": [
    "\n",
    "## 🧾 Step 2: Create Table in Athena\n",
    "\n",
    "We will manually define the schema and point Athena to our Parquet files using a `CREATE TABLE` statement.\n",
    "\n",
    "In the Athena Query Editor, make sure the **database** is set to `demo_db`.  \n",
    "Then, paste and run the following script (update the `LOCATION` with your own S3 path):\n"
   ]
  },
  {
   "cell_type": "code",
   "execution_count": null,
   "id": "cfbc1823",
   "metadata": {},
   "outputs": [],
   "source": [
    "\n",
    "CREATE EXTERNAL TABLE `amazon_reviews_parquet`(\n",
    "  `marketplace` string, \n",
    "  `customer_id` string, \n",
    "  `review_id` string, \n",
    "  `product_id` string, \n",
    "  `product_parent` string, \n",
    "  `product_title` string, \n",
    "  `product_category` string,  \n",
    "  `star_rating` int, \n",
    "  `helpful_votes` int, \n",
    "  `total_votes` int, \n",
    "  `vine` string, \n",
    "  `verified_purchase` string, \n",
    "  `review_headline` string, \n",
    "  `review_body` string, \n",
    "  `review_date` string,   \n",
    "  `sentiment` string)\n",
    "ROW FORMAT SERDE \n",
    "  'org.apache.hadoop.hive.ql.io.parquet.serde.ParquetHiveSerDe' \n",
    "STORED AS INPUTFORMAT \n",
    "  'org.apache.hadoop.hive.ql.io.parquet.MapredParquetInputFormat' \n",
    "OUTPUTFORMAT \n",
    "  'org.apache.hadoop.hive.ql.io.parquet.MapredParquetOutputFormat'\n",
    "LOCATION\n",
    "  's3://aws-glue-yourname/customer_review_parquet/';\n"
   ]
  },
  {
   "cell_type": "markdown",
   "id": "acf6e5b5",
   "metadata": {},
   "source": [
    "\n",
    "✅ **Expected Outcome:**  \n",
    "Athena should successfully create the table `amazon_reviews_parquet`.  \n",
    "If an older version exists, delete it first and re-run this script.\n"
   ]
  },
  {
   "cell_type": "markdown",
   "id": "153beb7e",
   "metadata": {},
   "source": [
    "\n",
    "## 🧮 Step 3: Preview and Explore Data\n",
    "\n",
    "### Preview the first 10 rows\n"
   ]
  },
  {
   "cell_type": "code",
   "execution_count": null,
   "id": "75ccfe1d",
   "metadata": {},
   "outputs": [],
   "source": [
    "\n",
    "SELECT * \n",
    "FROM \"amazon_reviews_parquet\"\n",
    "LIMIT 10;\n"
   ]
  },
  {
   "cell_type": "markdown",
   "id": "4a336fc3",
   "metadata": {},
   "source": [
    "\n",
    "### Check distinct sentiment values\n"
   ]
  },
  {
   "cell_type": "code",
   "execution_count": null,
   "id": "46f08288",
   "metadata": {},
   "outputs": [],
   "source": [
    "\n",
    "SELECT DISTINCT sentiment\n",
    "FROM \"amazon_reviews_parquet\"\n",
    "LIMIT 10;\n"
   ]
  },
  {
   "cell_type": "markdown",
   "id": "d36f51e7",
   "metadata": {},
   "source": [
    "\n",
    "## 📊 Step 4: Analytical Queries\n",
    "\n",
    "### Count total number of reviews\n"
   ]
  },
  {
   "cell_type": "code",
   "execution_count": null,
   "id": "99981a8a",
   "metadata": {},
   "outputs": [],
   "source": [
    "\n",
    "SELECT COUNT(*) AS total_reviews\n",
    "FROM \"amazon_reviews_parquet\";\n"
   ]
  },
  {
   "cell_type": "markdown",
   "id": "807fed9f",
   "metadata": {},
   "source": [
    "\n",
    "### Count reviews per sentiment\n"
   ]
  },
  {
   "cell_type": "code",
   "execution_count": null,
   "id": "ed3d4a71",
   "metadata": {},
   "outputs": [],
   "source": [
    "\n",
    "SELECT sentiment, COUNT(*) AS total_reviews\n",
    "FROM \"amazon_reviews_parquet\"\n",
    "GROUP BY sentiment\n",
    "ORDER BY total_reviews DESC;\n"
   ]
  },
  {
   "cell_type": "markdown",
   "id": "feac675b",
   "metadata": {},
   "source": [
    "\n",
    "### Analyze relationship between star rating and sentiment\n"
   ]
  },
  {
   "cell_type": "code",
   "execution_count": null,
   "id": "57bf639f",
   "metadata": {},
   "outputs": [],
   "source": [
    "\n",
    "SELECT star_rating, sentiment, COUNT(*) AS total_reviews\n",
    "FROM \"amazon_reviews_parquet\"\n",
    "GROUP BY star_rating, sentiment\n",
    "ORDER BY star_rating, sentiment;\n"
   ]
  },
  {
   "cell_type": "markdown",
   "id": "afefda50",
   "metadata": {},
   "source": [
    "\n",
    "### Find top-rated products\n"
   ]
  },
  {
   "cell_type": "code",
   "execution_count": null,
   "id": "977455c0",
   "metadata": {},
   "outputs": [],
   "source": [
    "\n",
    "SELECT \n",
    "    product_title, star_rating,\n",
    "    sentiment, review_headline, review_body\n",
    "FROM \"amazon_reviews_parquet\"\n",
    "ORDER BY star_rating DESC\n",
    "LIMIT 10;\n"
   ]
  },
  {
   "cell_type": "markdown",
   "id": "212ff3a6",
   "metadata": {},
   "source": [
    "\n",
    "### Find 5-star reviews that are not positive\n"
   ]
  },
  {
   "cell_type": "code",
   "execution_count": null,
   "id": "e72663a1",
   "metadata": {},
   "outputs": [],
   "source": [
    "\n",
    "SELECT\n",
    "    product_title, star_rating,\n",
    "    sentiment, review_headline, review_body\n",
    "FROM \"amazon_reviews_parquet\"\n",
    "WHERE star_rating = 5\n",
    "  AND sentiment != 'POSITIVE'\n",
    "LIMIT 10;\n"
   ]
  },
  {
   "cell_type": "markdown",
   "id": "72f87714",
   "metadata": {},
   "source": [
    "\n",
    "✅ **Observation:**  \n",
    "Athena queries run directly on S3 data without needing ETL or databases.  \n",
    "Parquet’s columnar structure helps Athena scan only required columns, reducing data scanned and improving performance.\n"
   ]
  },
  {
   "cell_type": "markdown",
   "id": "ce408c68",
   "metadata": {},
   "source": [
    "\n",
    "## 🧠 Step 5: Reflection\n",
    "\n",
    "- Parquet format allows selective column reads — efficient and fast.  \n",
    "- Athena integrates seamlessly with S3, enabling serverless querying.  \n",
    "- Sentiment fields enrich analytical capabilities for customer insights.  \n",
    "- Misclassifications in sentiment detection are possible; review examples help interpret them.\n",
    "\n",
    "---\n",
    "\n",
    "## 🧹 Cleanup (Optional)\n",
    "\n",
    "1. Delete the Athena query results folder from S3.\n",
    "2. Drop the table if not needed:\n",
    "   ```sql\n",
    "   DROP TABLE amazon_reviews_parquet;\n",
    "   ```\n",
    "3. Optionally, delete the uploaded data from your S3 bucket.\n",
    "\n",
    "---\n",
    "\n",
    "## 🪞 References\n",
    "\n",
    "- [Amazon Athena Documentation](https://docs.aws.amazon.com/athena/latest/ug/what-is.html)\n",
    "- [AWS Parquet and Query Performance](https://docs.aws.amazon.com/athena/latest/ug/parquet.html)\n"
   ]
  }
 ],
 "metadata": {
  "language_info": {
   "name": "python"
  }
 },
 "nbformat": 4,
 "nbformat_minor": 5
}
