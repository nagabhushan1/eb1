{
 "cells": [
  {
   "cell_type": "markdown",
   "id": "0263a3b2",
   "metadata": {},
   "source": [
    "\n",
    "# 🚗 AWS DynamoDB – Car Rentals Lab (Using boto3.client)\n",
    "\n",
    "This lab demonstrates how to use **`boto3.client()`** to work with **DynamoDB** in a real-world **Car Rentals** use case.\n",
    "\n",
    "We will create a table, insert records, query data, update items, and finally delete the table — all using **boto3.client()**.\n"
   ]
  },
  {
   "cell_type": "markdown",
   "id": "7b30f6dc",
   "metadata": {},
   "source": [
    "\n",
    "## ✅ Prerequisites\n",
    "\n",
    "- AWS account and credentials configured (`aws configure`)\n",
    "- IAM user or role with `AmazonDynamoDBFullAccess`\n",
    "- Python 3.7+ and `boto3` installed\n",
    "\n",
    "```bash\n",
    "pip install boto3\n",
    "```\n"
   ]
  },
  {
   "cell_type": "markdown",
   "id": "786b3448",
   "metadata": {},
   "source": [
    "\n",
    "## ⚙️ Step 1 – Create DynamoDB Table\n",
    "\n",
    "We’ll create a table named **CarRentals** with:\n",
    "- **Partition key:** `RentalID` (String)\n",
    "- **Sort key:** `CustomerID` (String)\n"
   ]
  },
  {
   "cell_type": "code",
   "execution_count": null,
   "id": "97429e03",
   "metadata": {},
   "outputs": [],
   "source": [
    "\n",
    "import boto3\n",
    "import time\n",
    "\n",
    "# Initialize DynamoDB client\n",
    "dynamodb = boto3.client('dynamodb', region_name='us-east-1')\n",
    "\n",
    "table_name = 'CarRentals'\n",
    "\n",
    "# Create table\n",
    "response = dynamodb.create_table(\n",
    "    TableName=table_name,\n",
    "    KeySchema=[\n",
    "        {'AttributeName': 'RentalID', 'KeyType': 'HASH'},  # Partition key\n",
    "        {'AttributeName': 'CustomerID', 'KeyType': 'RANGE'}  # Sort key\n",
    "    ],\n",
    "    AttributeDefinitions=[\n",
    "        {'AttributeName': 'RentalID', 'AttributeType': 'S'},\n",
    "        {'AttributeName': 'CustomerID', 'AttributeType': 'S'}\n",
    "    ],\n",
    "    ProvisionedThroughput={\n",
    "        'ReadCapacityUnits': 5,\n",
    "        'WriteCapacityUnits': 5\n",
    "    }\n",
    ")\n",
    "\n",
    "print(\"Creating table...\")\n",
    "# Wait until the table is active\n",
    "waiter = dynamodb.get_waiter('table_exists')\n",
    "waiter.wait(TableName=table_name)\n",
    "print(f\"✅ Table '{table_name}' is active now.\")\n"
   ]
  },
  {
   "cell_type": "markdown",
   "id": "a2bbb636",
   "metadata": {},
   "source": [
    "\n",
    "## 🚘 Step 2 – Insert Car Rental Records\n",
    "\n",
    "Let’s insert diverse rental records showing DynamoDB’s schema flexibility.\n"
   ]
  },
  {
   "cell_type": "code",
   "execution_count": null,
   "id": "3457d06c",
   "metadata": {},
   "outputs": [],
   "source": [
    "\n",
    "# Insert multiple car rental records\n",
    "items = [\n",
    "    {\n",
    "        'RentalID': {'S': 'RNT1001'},\n",
    "        'CustomerID': {'S': 'CUST001'},\n",
    "        'CarModel': {'S': 'Toyota Camry'},\n",
    "        'RentalDays': {'N': '3'},\n",
    "        'PickupCity': {'S': 'Bangalore'},\n",
    "        'DropoffCity': {'S': 'Mysuru'},\n",
    "        'PaymentMode': {'S': 'CreditCard'},\n",
    "        'TotalAmount': {'N': '7200'}\n",
    "    },\n",
    "    {\n",
    "        'RentalID': {'S': 'RNT1002'},\n",
    "        'CustomerID': {'S': 'CUST002'},\n",
    "        'CarModel': {'S': 'Hyundai i20'},\n",
    "        'RentalDays': {'N': '2'},\n",
    "        'PickupCity': {'S': 'Chennai'},\n",
    "        'Insurance': {'M': {'Type': {'S': 'Comprehensive'}, 'Provider': {'S': 'ICICI Lombard'}}},\n",
    "        'Discount': {'N': '10'}\n",
    "    },\n",
    "    {\n",
    "        'RentalID': {'S': 'RNT1003'},\n",
    "        'CustomerID': {'S': 'CUST003'},\n",
    "        'CarModel': {'S': 'Honda City'},\n",
    "        'RentalDays': {'N': '4'},\n",
    "        'Extras': {'L': [{'S': 'GPS'}, {'S': 'ChildSeat'}]},\n",
    "        'PickupCity': {'S': 'Hyderabad'},\n",
    "        'DropoffCity': {'S': 'Hyderabad'},\n",
    "        'TotalAmount': {'N': '9000'}\n",
    "    }\n",
    "]\n",
    "\n",
    "for item in items:\n",
    "    dynamodb.put_item(TableName=table_name, Item=item)\n",
    "\n",
    "print(\"✅ Inserted 3 car rental records successfully.\")\n"
   ]
  },
  {
   "cell_type": "markdown",
   "id": "0905f363",
   "metadata": {},
   "source": [
    "\n",
    "## 🔍 Step 3 – Scan and Query the Table\n",
    "\n",
    "We can scan all records or query specific rentals.\n"
   ]
  },
  {
   "cell_type": "code",
   "execution_count": null,
   "id": "2a7780dc",
   "metadata": {},
   "outputs": [],
   "source": [
    "\n",
    "# Scan all items in the table\n",
    "response = dynamodb.scan(TableName=table_name)\n",
    "print(\"All Rental Records:\")\n",
    "for item in response['Items']:\n",
    "    print(item)\n"
   ]
  },
  {
   "cell_type": "code",
   "execution_count": null,
   "id": "f953ed69",
   "metadata": {},
   "outputs": [],
   "source": [
    "\n",
    "# Query by RentalID\n",
    "from boto3.dynamodb.conditions import Key\n",
    "\n",
    "# DynamoDB client queries require KeyConditionExpression strings\n",
    "response = dynamodb.query(\n",
    "    TableName=table_name,\n",
    "    KeyConditionExpression='RentalID = :r_id',\n",
    "    ExpressionAttributeValues={':r_id': {'S': 'RNT1001'}}\n",
    ")\n",
    "\n",
    "print(\"Query result for RentalID = RNT1001:\")\n",
    "for item in response['Items']:\n",
    "    print(item)\n"
   ]
  },
  {
   "cell_type": "markdown",
   "id": "3289dfe0",
   "metadata": {},
   "source": [
    "\n",
    "## ✏️ Step 4 – Update an Item\n",
    "Update the `TotalAmount` for a specific rental.\n"
   ]
  },
  {
   "cell_type": "code",
   "execution_count": null,
   "id": "f6b0e654",
   "metadata": {},
   "outputs": [],
   "source": [
    "\n",
    "response = dynamodb.update_item(\n",
    "    TableName=table_name,\n",
    "    Key={\n",
    "        'RentalID': {'S': 'RNT1001'},\n",
    "        'CustomerID': {'S': 'CUST001'}\n",
    "    },\n",
    "    UpdateExpression='SET TotalAmount = :t',\n",
    "    ExpressionAttributeValues={':t': {'N': '7500'}},\n",
    "    ReturnValues='UPDATED_NEW'\n",
    ")\n",
    "\n",
    "print(\"✅ Updated TotalAmount:\", response['Attributes'])\n"
   ]
  },
  {
   "cell_type": "markdown",
   "id": "0f9f284a",
   "metadata": {},
   "source": [
    "\n",
    "## ❌ Step 5 – Delete an Item\n",
    "Remove one rental record from the table.\n"
   ]
  },
  {
   "cell_type": "code",
   "execution_count": null,
   "id": "8fdeec15",
   "metadata": {},
   "outputs": [],
   "source": [
    "\n",
    "response = dynamodb.delete_item(\n",
    "    TableName=table_name,\n",
    "    Key={\n",
    "        'RentalID': {'S': 'RNT1002'},\n",
    "        'CustomerID': {'S': 'CUST002'}\n",
    "    }\n",
    ")\n",
    "\n",
    "print(\"✅ Deleted record RNT1002 successfully.\")\n"
   ]
  },
  {
   "cell_type": "markdown",
   "id": "e93ae5a0",
   "metadata": {},
   "source": [
    "\n",
    "## 🧹 Step 6 – Cleanup\n",
    "Delete the DynamoDB table.\n"
   ]
  },
  {
   "cell_type": "code",
   "execution_count": null,
   "id": "8badb050",
   "metadata": {},
   "outputs": [],
   "source": [
    "\n",
    "dynamodb.delete_table(TableName=table_name)\n",
    "print(f\"🗑️ Deleting table '{table_name}'...\")\n",
    "\n",
    "# Wait until deletion completes\n",
    "while True:\n",
    "    try:\n",
    "        dynamodb.describe_table(TableName=table_name)\n",
    "        print(\"⏳ Waiting for table deletion...\")\n",
    "        time.sleep(5)\n",
    "    except dynamodb.exceptions.ResourceNotFoundException:\n",
    "        print(f\"✅ Table '{table_name}' deleted successfully.\")\n",
    "        break\n"
   ]
  }
 ],
 "metadata": {},
 "nbformat": 4,
 "nbformat_minor": 5
}
