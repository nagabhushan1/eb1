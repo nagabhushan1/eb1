{
 "cells": [
  {
   "cell_type": "markdown",
   "id": "c9bde180",
   "metadata": {},
   "source": [
    "\n",
    "# EC2 Spark + Jupyter Setup (Amazon Linux 2023)\n",
    "\n",
    "This notebook provides a detailed guide to setting up Docker and running a Jupyter Spark container on an EC2 instance with Amazon Linux 2023.\n"
   ]
  },
  {
   "cell_type": "markdown",
   "id": "fabcbfc9",
   "metadata": {},
   "source": [
    "\n",
    "## Step 1: Launch EC2 Instance\n",
    "\n",
    "1. Go to **AWS Console → EC2 → Launch Instance**.\n",
    "2. Choose **Amazon Linux 2023** as the AMI.\n",
    "3. Select instance type (recommended: `t2.large` or higher).\n",
    "4. Under **Advanced Details → User Data**, paste the script below:\n"
   ]
  },
  {
   "cell_type": "code",
   "execution_count": null,
   "id": "7b07056d",
   "metadata": {},
   "outputs": [],
   "source": [
    "#!/bin/bash\n",
    "yum update -y\n",
    "\n",
    "# Install Docker\n",
    "if grep -qi \"amazon linux 2\" /etc/system-release; then\n",
    "  amazon-linux-extras enable docker\n",
    "fi\n",
    "yum install -y docker\n",
    "\n",
    "# Start Docker\n",
    "systemctl enable docker\n",
    "systemctl start docker\n",
    "\n",
    "# Add ec2-user to docker group\n",
    "usermod -aG docker ec2-user\n",
    "\n",
    "# Pull and run Jupyter Spark container\n",
    "docker run -d -p 8888:8888 --name spark jupyter/all-spark-notebook:95f855f8e55f\n"
   ]
  },
  {
   "cell_type": "markdown",
   "id": "4c3ad476",
   "metadata": {},
   "source": [
    "\n",
    "## Step 2: Configure Security Group\n",
    "\n",
    "Add an inbound rule in the EC2 security group:\n",
    "- Type: Custom TCP\n",
    "- Port: 8888\n",
    "- Source: 0.0.0.0/0 (or your IP address)\n"
   ]
  },
  {
   "cell_type": "markdown",
   "id": "5fbb5d9c",
   "metadata": {},
   "source": [
    "\n",
    "## Step 3: Access Jupyter Notebook\n",
    "\n",
    "1. Launch instance and wait 2 minutes.\n",
    "2. SSH into instance and verify Docker:\n",
    "```bash\n",
    "sudo docker ps\n",
    "```\n",
    "3. Get the access URL:\n",
    "```bash\n",
    "cat /var/log/jupyter-url.txt\n",
    "```\n",
    "4. Get the password\n",
    "```bash\n",
    "sudo docker logs spark | grep token\n",
    "```"
   ]
  },
  {
   "cell_type": "markdown",
   "id": "ba319a65",
   "metadata": {},
   "source": [
    "\n",
    "## Step 4: Verify Spark Setup\n",
    "\n",
    "Once inside Jupyter, run the code below to verify Spark installation.\n"
   ]
  },
  {
   "cell_type": "code",
   "execution_count": null,
   "id": "18ed8ac0",
   "metadata": {},
   "outputs": [],
   "source": [
    "\n",
    "import pyspark\n",
    "from pyspark.sql import SparkSession\n",
    "\n",
    "spark = SparkSession.builder.appName('EC2Test').getOrCreate()\n",
    "print(\"Spark version:\", spark.version)\n"
   ]
  },
  {
   "cell_type": "markdown",
   "id": "8bda4d27",
   "metadata": {},
   "source": [
    "\n",
    "If you see the Spark version printed, your setup is complete!\n"
   ]
  }
 ],
 "metadata": {
  "language_info": {
   "name": "python"
  }
 },
 "nbformat": 4,
 "nbformat_minor": 5
}
