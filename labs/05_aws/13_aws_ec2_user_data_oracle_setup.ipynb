{
  "cells": [
    {
      "cell_type": "markdown",
      "metadata": {},
      "source": [
        "# \ud83e\uddf1 Oracle SQL*Plus Setup on Amazon Linux 2023 using Docker\n",
        "\n",
        "This notebook provides the minimal and working EC2 **User Data Script** to automatically deploy **Oracle XE (SQL*Plus)** inside a Docker container on **Amazon Linux 2023**.\n",
        "\n",
        "---"
      ]
    },
    {
      "cell_type": "markdown",
      "metadata": {},
      "source": [
        "## \u2705 EC2 User Data Script\n",
        "\n",
        "Copy the following script into the **User Data** section when launching your EC2 instance.\n",
        "\n",
        "```bash\n",
        "#!/bin/bash -xe\n",
        "# ===== Oracle SQL*Plus on Amazon Linux 2023 (Fixed Version) =====\n",
        "\n",
        "# Update and install Docker\n",
        "dnf update -y\n",
        "dnf install -y docker\n",
        "\n",
        "# Enable and start Docker\n",
        "systemctl enable docker\n",
        "systemctl start docker\n",
        "\n",
        "# Add ec2-user to Docker group\n",
        "usermod -aG docker ec2-user\n",
        "\n",
        "# Create and fix permissions for persistent Oracle data\n",
        "mkdir -p /home/ec2-user/oracle-data\n",
        "chmod 777 /home/ec2-user/oracle-data\n",
        "\n",
        "# Pull Oracle XE image (includes SQL*Plus)\n",
        "docker pull gvenzl/oracle-xe:21-slim\n",
        "\n",
        "# Run Oracle XE container\n",
        "docker run -d \\\n",
        "  --name oracle-xe \\\n",
        "  -p 1521:1521 -p 5500:5500 \\\n",
        "  -e ORACLE_PASSWORD=oracle \\\n",
        "  -v /home/ec2-user/oracle-data:/opt/oracle/oradata \\\n",
        "  --shm-size=1g \\\n",
        "  gvenzl/oracle-xe:21-slim\n",
        "\n",
        "echo \"Oracle XE container started. Initialization takes around 2-3 minutes.\"\n",
        "echo \"Check logs using: docker logs -f oracle-xe\"\n",
        "```\n",
        "\n",
        "---"
      ]
    },
    {
      "cell_type": "markdown",
      "metadata": {},
      "source": [
        "## \ud83e\uddfe Verification Steps\n",
        "\n",
        "After the instance starts, connect via SSH and verify:\n",
        "\n",
        "```bash\n",
        "sudo su ec2-user\n",
        "docker ps -a\n",
        "docker logs -f oracle-xe     # Wait until 'DATABASE IS READY TO USE!'\n",
        "docker exec -it oracle-xe sqlplus system/oracle@//localhost:1521/XEPDB1\n",
        "```\n",
        "\n",
        "Run a simple test query in SQL*Plus:\n",
        "```sql\n",
        "SELECT sysdate FROM dual;\n",
        "```\n",
        "\n",
        "---"
      ]
    },
    {
      "cell_type": "markdown",
      "metadata": {},
      "source": [
        "## \u2699\ufe0f Requirements\n",
        "\n",
        "| Item | Recommendation |\n",
        "|------|----------------|\n",
        "| Instance Type | t3.small (2 GB RAM) or higher |\n",
        "| Storage | 20 GB minimum |\n",
        "| OS | Amazon Linux 2023 |\n",
        "| Docker Image | gvenzl/oracle-xe:21-slim |\n",
        "\n",
        "---"
      ]
    },
    {
      "cell_type": "markdown",
      "metadata": {},
      "source": [
        "## \u2705 Summary\n",
        "\n",
        "- Installs Docker on Amazon Linux 2023\n",
        "- Sets correct directory permissions for Oracle data\n",
        "- Deploys Oracle XE container with SQL*Plus ready to use\n",
        "- Ideal for quick training or testing environments\n",
        "\n",
        "---"
      ]
    }
  ],
  "metadata": {
    "kernelspec": {
      "display_name": "Markdown",
      "language": "markdown",
      "name": "markdown"
    },
    "language_info": {
      "name": "markdown"
    }
  },
  "nbformat": 4,
  "nbformat_minor": 5
}