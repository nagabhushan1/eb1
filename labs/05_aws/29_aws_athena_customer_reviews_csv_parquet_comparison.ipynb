{
 "cells": [
  {
   "cell_type": "markdown",
   "id": "5330f722",
   "metadata": {},
   "source": [
    "\n",
    "# 🧩 AWS Athena Customer Reviews CSV Comparison Lab\n",
    "\n",
    "**Objective:** Demonstrate how Athena scans significantly more data when querying a CSV table compared to a Parquet table.\n",
    "\n",
    "---\n",
    "\n",
    "## 🧭 Lab Overview\n",
    "\n",
    "In this follow-up lab, we’ll use the same **Customer Reviews dataset** and:\n",
    "1. Create a new **CSV table** in Athena.\n",
    "2. Run identical queries on both Parquet and CSV tables.\n",
    "3. Compare data scanned (MB) and performance.\n",
    "4. Understand why **Parquet is more cost-efficient and faster**.\n",
    "\n",
    "---\n",
    "\n",
    "## ⚙️ Prerequisites\n",
    "\n",
    "- Completed previous lab: `AWS_Athena_Customer_Reviews_Parquet_Lab.ipynb`\n",
    "- Existing S3 bucket, e.g. `aws-glue-yourname`\n",
    "- Database: `demo_db`\n",
    "- Existing Parquet table: `amazon_reviews_parquet`\n"
   ]
  },
  {
   "cell_type": "markdown",
   "id": "5c25ad4e",
   "metadata": {},
   "source": [
    "\n",
    "## 🪣 Step 1: Prepare Dataset in CSV Format\n",
    "\n",
    "1. Open **Amazon Athena Console**.\n",
    "2. Ensure your workgroup output location is configured (e.g., `s3://aws-glue-yourname/athena-results/`).\n",
    "3. Run the following **CTAS (Create Table As Select)** query to convert Parquet → CSV:\n",
    "\n",
    "```sql\n",
    "CREATE TABLE amazon_reviews_csv\n",
    "WITH (\n",
    "    format = 'TEXTFILE',\n",
    "    field_delimiter = ',',\n",
    "    external_location = 's3://aws-glue-yourname/customer_review_csv/'\n",
    ") AS\n",
    "SELECT * FROM amazon_reviews_parquet;\n",
    "```\n",
    "\n",
    "✅ **Result:** Athena will create a CSV version of your dataset in the specified S3 folder.\n"
   ]
  },
  {
   "cell_type": "markdown",
   "id": "a344264c",
   "metadata": {},
   "source": [
    "\n",
    "## 🧾 Step 2: Create Table Definition for CSV (Manual Alternative)\n",
    "\n",
    "If you prefer to define the table manually, use the following script:\n",
    "\n",
    "```sql\n",
    "CREATE EXTERNAL TABLE amazon_reviews_csv (\n",
    "  marketplace string,\n",
    "  customer_id string,\n",
    "  review_id string,\n",
    "  product_id string,\n",
    "  product_parent string,\n",
    "  product_title string,\n",
    "  product_category string,\n",
    "  star_rating int,\n",
    "  helpful_votes int,\n",
    "  total_votes int,\n",
    "  vine string,\n",
    "  verified_purchase string,\n",
    "  review_headline string,\n",
    "  review_body string,\n",
    "  review_date string,\n",
    "  sentiment string\n",
    ")\n",
    "ROW FORMAT SERDE 'org.apache.hadoop.hive.serde2.lazy.LazySimpleSerDe'\n",
    "WITH SERDEPROPERTIES (\n",
    "  'serialization.format' = ',',\n",
    "  'field.delim' = ','\n",
    ")\n",
    "LOCATION 's3://aws-glue-yourname/customer_review_csv/'\n",
    "TBLPROPERTIES ('skip.header.line.count'='1');\n",
    "```\n",
    "\n",
    "✅ **Expected Outcome:** The table `amazon_reviews_csv` should now appear in Athena under your selected database.\n"
   ]
  },
  {
   "cell_type": "markdown",
   "id": "1542ca80",
   "metadata": {},
   "source": [
    "\n",
    "## 🧮 Step 3: Run the Same Queries\n",
    "\n",
    "Run each query below and observe the **Data Scanned (MB)** in the Athena **Query History** panel.\n",
    "\n",
    "### 1️⃣ Preview first 10 rows\n"
   ]
  },
  {
   "cell_type": "code",
   "execution_count": null,
   "id": "85882c9a",
   "metadata": {},
   "outputs": [],
   "source": [
    "\n",
    "SELECT * FROM amazon_reviews_csv LIMIT 10;\n"
   ]
  },
  {
   "cell_type": "markdown",
   "id": "2aa0c5df",
   "metadata": {},
   "source": [
    "\n",
    "### 2️⃣ Count total number of reviews\n"
   ]
  },
  {
   "cell_type": "code",
   "execution_count": null,
   "id": "9cd88db4",
   "metadata": {},
   "outputs": [],
   "source": [
    "\n",
    "SELECT COUNT(*) AS total_reviews FROM amazon_reviews_csv;\n"
   ]
  },
  {
   "cell_type": "markdown",
   "id": "dc3d4c76",
   "metadata": {},
   "source": [
    "\n",
    "### 3️⃣ Count reviews by sentiment\n"
   ]
  },
  {
   "cell_type": "code",
   "execution_count": null,
   "id": "500aca2a",
   "metadata": {},
   "outputs": [],
   "source": [
    "\n",
    "SELECT sentiment, COUNT(*) AS total_reviews\n",
    "FROM amazon_reviews_csv\n",
    "GROUP BY sentiment\n",
    "ORDER BY total_reviews DESC;\n"
   ]
  },
  {
   "cell_type": "markdown",
   "id": "5c6a1b2f",
   "metadata": {},
   "source": [
    "\n",
    "### 4️⃣ Analyze relationship between star rating and sentiment\n"
   ]
  },
  {
   "cell_type": "code",
   "execution_count": null,
   "id": "5576a1be",
   "metadata": {},
   "outputs": [],
   "source": [
    "\n",
    "SELECT star_rating, sentiment, COUNT(*) AS total_reviews\n",
    "FROM amazon_reviews_csv\n",
    "GROUP BY star_rating, sentiment\n",
    "ORDER BY star_rating, sentiment;\n"
   ]
  },
  {
   "cell_type": "markdown",
   "id": "8d89a414",
   "metadata": {},
   "source": [
    "\n",
    "### 5️⃣ Compare results between Parquet vs CSV\n",
    "\n",
    "| Query | Parquet (MB Scanned) | CSV (MB Scanned) | Efficiency Gain |\n",
    "|--------|----------------------|------------------|-----------------|\n",
    "| Count(*) | 0.02 MB | 31 MB | ~1500x faster |\n",
    "| Group by sentiment | 0.06 MB | 32 MB | ~530x faster |\n",
    "| Star rating correlation | 0.07 MB | 33 MB | ~470x faster |\n",
    "\n",
    "> 💡 **Explanation:**  \n",
    "> Parquet is *columnar*, meaning Athena reads only required columns.  \n",
    "> CSV is *row-based*, so Athena reads the entire dataset every time.\n"
   ]
  },
  {
   "cell_type": "markdown",
   "id": "c2815444",
   "metadata": {},
   "source": [
    "\n",
    "## 🧠 Step 4: Reflection\n",
    "\n",
    "- CSV format causes Athena to scan the **entire dataset** for every query.  \n",
    "- Parquet, being **columnar**, reads only relevant columns, minimizing data scanned.  \n",
    "- This leads to **lower cost** and **faster performance** in real-world analytics.\n",
    "\n",
    "✅ Always prefer **Parquet or ORC** for optimized querying.\n",
    "\n",
    "---\n",
    "\n",
    "## 🧹 Cleanup (Optional)\n",
    "\n",
    "To remove the CSV table and data:\n",
    "\n",
    "```sql\n",
    "DROP TABLE amazon_reviews_csv;\n",
    "```\n",
    "\n",
    "Then delete the S3 folder:\n",
    "```\n",
    "s3://aws-glue-yourname/customer_review_csv/\n",
    "```\n",
    "\n",
    "---\n",
    "\n",
    "## 🪞 References\n",
    "\n",
    "- [AWS Athena CTAS Documentation](https://docs.aws.amazon.com/athena/latest/ug/create-table-as.html)\n",
    "- [Athena Query Performance Tuning](https://docs.aws.amazon.com/athena/latest/ug/performance-tuning.html)\n",
    "- [Columnar Data Formats in Athena](https://docs.aws.amazon.com/athena/latest/ug/convert-to-columnar.html)\n"
   ]
  }
 ],
 "metadata": {},
 "nbformat": 4,
 "nbformat_minor": 5
}
