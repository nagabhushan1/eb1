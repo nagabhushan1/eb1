{
 "cells": [
  {
   "cell_type": "markdown",
   "id": "ae378bb2",
   "metadata": {},
   "source": [
    "\n",
    "# AWS Lab Exercise — IAM Role for EC2 Accessing S3 (Console Based)\n",
    "\n",
    "### 🎯 Objective\n",
    "Learn how to use **IAM Roles** to grant permissions to AWS services.  \n",
    "In this lab, you will create a role that allows an **EC2 instance** to access **S3** — without using any access keys.\n",
    "\n",
    "---\n",
    "\n",
    "### 🧭 Overview\n",
    "You will perform the following steps:\n",
    "\n",
    "1. Create an IAM Role for EC2 with S3 ReadOnly permissions.  \n",
    "2. Launch an EC2 instance with that role.  \n",
    "3. Connect to EC2 and verify access to S3 using AWS CLI.  \n",
    "4. Validate that upload/delete actions are restricted.  \n",
    "\n",
    "---\n"
   ]
  },
  {
   "cell_type": "markdown",
   "id": "e29194e4",
   "metadata": {},
   "source": [
    "\n",
    "## Step 1: Create an IAM Role for EC2\n",
    "\n",
    "1. Navigate to **IAM → Roles → Create role**.  \n",
    "2. Under **Trusted entity type**, select **AWS Service**.  \n",
    "3. Under Use Case, Choose **EC2** → click **Next**.  \n",
    "4. Under **Permissions policies**, attach:  \n",
    "   - `AmazonS3ReadOnlyAccess`  \n",
    "5. Click **Next**, then name the role:  \n",
    "   - `EC2_S3ReadOnlyRole`  \n",
    "6. Review and click **Create role**.\n",
    "\n",
    "✅ **Concept:** The EC2_S3ReadOnlyRole grants temporary credentials to any EC2 instance it is attached to, allowing it to list and read data from S3.\n"
   ]
  },
  {
   "cell_type": "markdown",
   "id": "d9210987",
   "metadata": {},
   "source": [
    "\n",
    "## Step 2: Launch an EC2 Instance with the IAM Role\n",
    "\n",
    "1. Go to **EC2 → Launch Instance**.  \n",
    "2. Choose **Amazon Linux 2 AMI**.  \n",
    "3. Select instance type **t2.micro**.  \n",
    "4. Under **Advanced Details → IAM Instance Profile**, choose:  \n",
    "   - `EC2_S3ReadOnlyRole`  \n",
    "5. Select your existing **key pair** (e.g., `my-key`).  \n",
    "6. Keep the region as **us-east-1**.  \n",
    "7. Launch the instance.\n",
    "\n",
    "✅ **Note:** Attaching the role here ensures the EC2 instance automatically receives permissions to access S3 without configuring access keys.\n"
   ]
  },
  {
   "cell_type": "markdown",
   "id": "82646d41",
   "metadata": {},
   "source": [
    "\n",
    "## Step 3: Connect to EC2 Instance\n",
    "\n",
    "Once the instance is running, connect using SSH:\n",
    "\n",
    "```bash\n",
    "ssh -i my-key.pem ec2-user@<public-dns>\n",
    "```\n",
    "\n",
    "### Verify IAM Identity\n",
    "```bash\n",
    "aws sts get-caller-identity\n",
    "```\n",
    "Expected output should display the **role ARN**, such as:\n",
    "```\n",
    "arn:aws:iam::<account-id>:role/EC2_S3ReadOnlyRole\n",
    "```\n"
   ]
  },
  {
   "cell_type": "markdown",
   "id": "7ce6bfbe",
   "metadata": {},
   "source": [
    "\n",
    "## Step 4: Access S3 Data from EC2\n",
    "\n",
    "Run the following commands to verify access to S3:\n",
    "\n",
    "### List S3 Buckets\n",
    "```bash\n",
    "aws s3 ls\n",
    "```\n",
    "\n",
    "You should see the list of available buckets.\n",
    "\n",
    "### Download a File from S3\n",
    "```bash\n",
    "aws s3 cp s3://company-data-lab-yourname/orders.csv /tmp/\n",
    "```\n",
    "✅ File should download successfully.\n",
    "\n",
    "### View the File\n",
    "```bash\n",
    "cat /tmp/orders.csv\n",
    "```\n",
    "\n",
    "✅ The file contents should display properly.\n"
   ]
  },
  {
   "cell_type": "markdown",
   "id": "357bbb1a",
   "metadata": {},
   "source": [
    "\n",
    "## Step 5: Validate Access Restrictions\n",
    "\n",
    "Try performing an action not allowed by the role:\n",
    "\n",
    "### Attempt to Delete a File\n",
    "```bash\n",
    "aws s3 rm s3://company-data-lab-yourname/orders.csv\n",
    "```\n",
    "Expected output:\n",
    "```\n",
    "An error occurred (AccessDenied) when calling the DeleteObject operation:\n",
    "Access Denied\n",
    "```\n",
    "\n",
    "✅ **Observation:** The `AmazonS3ReadOnlyAccess` policy only permits viewing and downloading objects, not deletion or upload.\n"
   ]
  },
  {
   "cell_type": "markdown",
   "id": "c2c78acb",
   "metadata": {},
   "source": [
    "\n",
    "---\n",
    "\n",
    "## Reflection\n",
    "\n",
    "| AWS Entity | Type | Credential | Access to S3 | Persistence |\n",
    "|-------------|-------|-------------|--------------|-------------|\n",
    "| IAM User | Permanent | Access Key | Depends on policy | Long-term |\n",
    "| IAM Role | Temporary | No key needed | Based on attached policy | Temporary |\n",
    "\n",
    "✅ **Key Learnings:**\n",
    "- IAM Roles provide **temporary, secure access** without storing credentials.  \n",
    "- Roles can be attached to AWS services like EC2, Lambda, Glue, or Redshift.  \n",
    "- Managed policies like `AmazonS3ReadOnlyAccess` control exactly what actions can be performed.  \n",
    "- EC2 can interact with S3 safely through the **Instance Profile** mechanism.\n",
    "\n",
    "---\n",
    "\n",
    "### 🧠 **Summary**\n",
    "- You created an IAM Role for EC2.  \n",
    "- Attached it during EC2 launch.  \n",
    "- Verified access to S3 without credentials.  \n",
    "- Observed restricted behavior when trying to modify or delete data.\n",
    "\n",
    "---\n"
   ]
  }
 ],
 "metadata": {
  "language_info": {
   "name": "python"
  }
 },
 "nbformat": 4,
 "nbformat_minor": 5
}
