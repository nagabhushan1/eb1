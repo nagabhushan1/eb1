{
 "cells": [
  {
   "cell_type": "markdown",
   "id": "2d5924e9",
   "metadata": {},
   "source": [
    "# Data Warehousing Architectures – Advanced Options"
   ]
  },
  {
   "cell_type": "markdown",
   "id": "3170d7d4",
   "metadata": {},
   "source": [
    "\n",
    "So far we’ve seen **centralized warehouses** and **data marts**. \n",
    "Organizations also have more advanced architectural choices.\n"
   ]
  },
  {
   "cell_type": "markdown",
   "id": "4775f0a8",
   "metadata": {},
   "source": [
    "\n",
    "## Centralized vs. Component-Based\n",
    "\n",
    "- **Centralized Warehouse (EDW)**  \n",
    "  - Default go-to option.  \n",
    "  - Provides *one-stop shopping* for analytics.  \n",
    "  - Requires strong **data governance** and cross-organizational cooperation.  \n",
    "  - Small changes can ripple across the whole system.  \n",
    "  - Platforms: Relational DBs (Oracle, SQL Server, Db2), Data Warehouse Appliances, or even **Data Lakes** built on Hadoop/S3.  \n",
    "\n",
    "- **Component-Based Warehouse**  \n",
    "  - Multiple data environments (warehouses + marts) operating together.  \n",
    "  - **Advantages**: Isolation of changes, mix-and-match technology, flexibility.  \n",
    "  - **Challenges**: Risk of inconsistent data, complex cross-integration.  \n"
   ]
  },
  {
   "cell_type": "markdown",
   "id": "83e47748",
   "metadata": {},
   "source": [
    "\n",
    "## Enterprise Data Warehouse (EDW)\n",
    "\n",
    "- Centralized warehouse serving most or all enterprise needs.  \n",
    "- May use relational DBs, specialized appliances, or big data platforms.  \n",
    "- Can overlap with data lakes for scalability and flexibility.  \n"
   ]
  },
  {
   "cell_type": "markdown",
   "id": "e010f7db",
   "metadata": {},
   "source": [
    "\n",
    "## Architected Component Approaches\n",
    "\n",
    "### Dependent Data Marts (Classic CIF Model)\n",
    "- **Corporate Information Factory (CIF)** – proposed by *Bill Inmon*.  \n",
    "- Combines an EDW with dependent marts.  \n",
    "- Strict rules for architecture and access.  \n",
    "- Rarely used today but historically significant.  \n",
    "\n",
    "### Front-End Data Marts\n",
    "- Data marts sit **before** the warehouse.  \n",
    "- Example: SAP NA vs SAP International → marts per system → partial data flows into warehouse.  \n",
    "- Useful when regional systems need their own primary analytics.  \n",
    "\n",
    "### Data Mart-Only Bus (Kimball Approach)\n",
    "- Proposed by *Ralph Kimball*.  \n",
    "- Based on **conformed dimensions** (consistent definitions across marts: customers, products, employees, geographies).  \n",
    "- Ensures “apples-to-apples” comparisons across marts.  \n",
    "- Conceptually powerful but challenging to maintain.  \n"
   ]
  },
  {
   "cell_type": "markdown",
   "id": "8f298484",
   "metadata": {},
   "source": [
    "\n",
    "## Non-Architected / Federated Approach\n",
    "\n",
    "- Collection of **independent data marts**.  \n",
    "- No strict integration, often inconsistent.  \n",
    "- Popular in late 1990s as a fallback when centralized systems failed.  \n",
    "- **Today**: Considered a *last resort*. Data lakes and modern warehouses are better alternatives.  \n"
   ]
  },
  {
   "cell_type": "markdown",
   "id": "3e6adc1e",
   "metadata": {},
   "source": [
    "\n",
    "# Multi-Dimensional Databases (Cubes)\n",
    "\n",
    "- Specialized databases optimized for **dimensional data**.  \n",
    "- Not relational; inherently aware of measures and dimensions.  \n",
    "- **Advantages**: Very fast query performance, ideal for smaller-scale warehouses/marts (<100 GB).  \n",
    "- **Disadvantages**: Less flexible, difficult structural changes, vendor lock-in.  \n",
    "- **Modern Use**: Often combined with relational DBs. Example:  \n",
    "  - Warehouse on RDBMS → downstream marts built on cubes.  \n",
    "  - Mix-and-match architectures are common.  \n",
    "- BI tools (Tableau, Power BI) typically abstract the architecture from end-users.  \n"
   ]
  },
  {
   "cell_type": "markdown",
   "id": "287a6cf2",
   "metadata": {},
   "source": [
    "\n",
    "# Operational Data Store (ODS)\n",
    "\n",
    "- **Definition**: Like a warehouse, integrates data from multiple sources.  \n",
    "- **Focus**: *Current operational data*, not historical.  \n",
    "- **Key Traits**:  \n",
    "  - Often near real-time data feeds from source systems.  \n",
    "  - Supports operational BI: “Tell me what is happening right now.”  \n",
    "  - Popular in late 1990s–2000s as a complement to warehouses.  \n",
    "\n",
    "### ODS + Data Warehouse Coexistence\n",
    "- **Parallel Feeds**: Sources feed both ODS and DW independently.  \n",
    "- **Staged Feed**: Sources → ODS → DW (ODS acts as staging).  \n",
    "\n",
    "### Current Relevance\n",
    "- Less common today due to:  \n",
    "  - Reduced latency in modern warehouses.  \n",
    "  - Real-time ingestion capabilities of big data platforms.  \n",
    "- Still used in mission-critical operations.  \n",
    "- Sometimes embedded as a component of **data lakes**.  \n"
   ]
  },
  {
   "cell_type": "markdown",
   "id": "000a0a58",
   "metadata": {},
   "source": [
    "\n",
    "## Big Picture\n",
    "\n",
    "Modern environments may combine:  \n",
    "- **Data Warehouses**  \n",
    "- **Data Lakes**  \n",
    "- **Data Virtualization**  \n",
    "- **Operational Data Stores**  \n",
    "- **Business Intelligence Tools**  \n",
    "\n",
    "Together, these support both **strategic and operational analytics** for truly data-driven organizations.  \n"
   ]
  }
 ],
 "metadata": {},
 "nbformat": 4,
 "nbformat_minor": 5
}