{
 "cells": [
  {
   "cell_type": "markdown",
   "id": "7322f554",
   "metadata": {},
   "source": [
    "# Data Warehousing Architecture and Data Marts"
   ]
  },
  {
   "cell_type": "markdown",
   "id": "28d053fa",
   "metadata": {},
   "source": [
    "\n",
    "As organizations mature in their data practices, architectural choices become important. \n",
    "There are several approaches to designing a data warehouse environment.\n"
   ]
  },
  {
   "cell_type": "markdown",
   "id": "dddc4355",
   "metadata": {},
   "source": [
    "\n",
    "## Centralized Data Warehouse\n",
    "\n",
    "- **Definition**: A single, centralized database that consolidates all data for reporting, BI, and analytics.  \n",
    "- **Advantage**: Provides true *one-stop shopping* — all required data is in one place.  \n",
    "- **Challenges**:  \n",
    "  - Early relational databases (1980s–1990s) struggled with performance at large scale.  \n",
    "  - The discipline of data warehousing was new, leading to mistakes in design and modeling.  \n",
    "  - Requires high levels of organizational and departmental cooperation, which can be difficult.  \n",
    "\n",
    "**Today:**  \n",
    "- Technology has matured significantly.  \n",
    "- Knowledge base is broader, making centralized data warehouses more practical.  \n",
    "- **Data lakes** (based on big data technology) often appear centralized from a user perspective, \n",
    "  further enabling the one-stop shopping concept.\n"
   ]
  },
  {
   "cell_type": "markdown",
   "id": "9b694a6b",
   "metadata": {},
   "source": [
    "\n",
    "## Data Marts\n",
    "\n",
    "A **data mart** is a smaller, more focused subset of a data warehouse. They can be categorized into two types:\n"
   ]
  },
  {
   "cell_type": "markdown",
   "id": "43f9d79c",
   "metadata": {},
   "source": [
    "\n",
    "### Dependent Data Marts\n",
    "- Source data comes from an existing **data warehouse**.  \n",
    "- Data is mostly uniform across marts.  \n",
    "- Architecturally straightforward, with a clear left-to-right flow.  \n",
    "- Analogy: The **retailer** drawing stock from a **wholesaler** (the data warehouse).\n"
   ]
  },
  {
   "cell_type": "markdown",
   "id": "2e9743ae",
   "metadata": {},
   "source": [
    "\n",
    "### Independent Data Marts\n",
    "- Source data comes **directly from operational systems**, not from a data warehouse.  \n",
    "- Typically lack uniformity; the same subject (e.g., customers, products) may look different across marts.  \n",
    "- Conceptually similar to **1980s extract files**, but usually organized dimensionally.  \n",
    "- Often lead to a “**spaghetti architecture**” when many independent marts exist.\n"
   ]
  },
  {
   "cell_type": "markdown",
   "id": "909ecd97",
   "metadata": {},
   "source": [
    "\n",
    "## Comparing Data Warehouse and Independent Data Mart\n",
    "\n",
    "| Feature                  | Data Warehouse                          | Independent Data Mart             |\n",
    "|---------------------------|------------------------------------------|-----------------------------------|\n",
    "| **Sources**              | Dozens to hundreds of systems            | Few systems (1–6 typical)         |\n",
    "| **ETL Flow**             | Directly from many sources into warehouse| Directly from sources into each mart |\n",
    "| **Data Volume**          | Very large                               | Smaller scale                     |\n",
    "| **Organization**         | Dimensionally organized                  | Dimensionally organized           |\n",
    "| **Uniformity**           | High consistency                         | Low consistency                   |\n",
    "\n",
    "**Observation**: The line between data warehouses and independent data marts is blurry.  \n",
    "- Independent marts resemble small warehouses.  \n",
    "- Ultimately, the distinction is often subjective — “in the eye of the beholder.”\n"
   ]
  }
 ],
 "metadata": {},
 "nbformat": 4,
 "nbformat_minor": 5
}