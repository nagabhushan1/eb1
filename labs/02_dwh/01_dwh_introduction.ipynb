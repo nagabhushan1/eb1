{
 "cells": [
  {
   "cell_type": "markdown",
   "id": "406e815c",
   "metadata": {},
   "source": [
    "# Data Warehousing - Introduction and Concepts"
   ]
  },
  {
   "cell_type": "markdown",
   "id": "b570fae5",
   "metadata": {},
   "source": [
    "\n",
    "A **data warehouse** is a centralized repository designed to store large volumes of data. \n",
    "Unlike a traditional database that primarily supports day-to-day transactions, a data warehouse is focused on **analysis and decision-making**.\n",
    "\n",
    "- **Database vs. Data Warehouse**  \n",
    "  - *Database*: Platform where operational data is created and stored.  \n",
    "  - *Data Warehouse*: Usage of data for analysis, typically built on top of a database.  \n",
    "\n",
    "Data warehouses do not generate data through transactions (e.g., online purchases, course registrations, employee hiring). \n",
    "Instead, they **collect and consolidate data** from various operational systems and external sources.\n"
   ]
  },
  {
   "cell_type": "markdown",
   "id": "188d0f8e",
   "metadata": {},
   "source": [
    "\n",
    "## Key Characteristics of a Data Warehouse (Bill Inmon’s Rules)\n",
    "\n",
    "In 1990, **Bill Inmon**, known as the *Father of Data Warehousing*, defined four essential characteristics:\n",
    "\n",
    "1. **Integrated**  \n",
    "   - Data from multiple operational and external systems is combined into a unified format.  \n",
    "\n",
    "2. **Subject-Oriented**  \n",
    "   - Data is organized by subject areas (e.g., customers, products, sales), not by application.  \n",
    "\n",
    "3. **Time-Variant**  \n",
    "   - Contains **historical data** (not just current state), enabling trend analysis over time.  \n",
    "\n",
    "4. **Non-Volatile**  \n",
    "   - Data is **stable between refresh cycles**.  \n",
    "   - New or updated data is loaded in periodic batches (e.g., nightly).  \n",
    "   - Once loaded, data is not modified by transactional updates.  \n"
   ]
  },
  {
   "cell_type": "markdown",
   "id": "9c068198",
   "metadata": {},
   "source": [
    "\n",
    "## How Data Flows into a Data Warehouse\n",
    "\n",
    "- Data is **copied, not moved** from operational systems.  \n",
    "- Source systems continue to operate independently.  \n",
    "- The warehouse is periodically refreshed (commonly once per day).  \n",
    "- Data is often **restructured and reorganized** to optimize analytical queries.\n"
   ]
  },
  {
   "cell_type": "markdown",
   "id": "a286179a",
   "metadata": {},
   "source": [
    "\n",
    "# Why Build a Data Warehouse?\n",
    "\n",
    "Organizations invest time, resources, and money into building a data warehouse for two main reasons:\n",
    "\n",
    "1. **Data-Driven Decision Making**  \n",
    "   - Decisions are based on reliable data, not just intuition or experience.  \n",
    "   - Enables analysis across past, present, and predictive (future) perspectives.  \n",
    "   - Even supports exploration of the *unknown* through advanced analytics.  \n",
    "\n",
    "2. **One-Stop Shopping**  \n",
    "   - All data is consolidated into a single repository.  \n",
    "   - Eliminates the need to gather scattered data from multiple operational systems.  \n",
    "   - Analysts can focus on *analysis*, not on repeatedly collecting and integrating data.  \n"
   ]
  },
  {
   "cell_type": "markdown",
   "id": "c92ed7fd",
   "metadata": {},
   "source": [
    "\n",
    "## Data Warehousing and Business Intelligence (BI)\n",
    "\n",
    "- **Business Intelligence (BI)** and **Data Warehousing** emerged around the same time (~1990).  \n",
    "- They reinforced each other:  \n",
    "  - BI popularized data warehousing by providing tools to extract value.  \n",
    "  - Data warehouses fueled BI with integrated, historical data.  \n",
    "- Together, they form the backbone of modern data-driven organizations.\n"
   ]
  },
  {
   "cell_type": "markdown",
   "id": "ccd66337",
   "metadata": {},
   "source": [
    "\n",
    "# Data Warehouse vs. Data Lake\n",
    "\n",
    "The terms **data warehouse** and **data lake** are often used interchangeably, but they serve different purposes.\n",
    "\n",
    "### Data Warehouse\n",
    "- Typically built on **relational databases** (e.g., Oracle, SQL Server, IBM Db2).  \n",
    "- Stores **structured data** (numbers, dates, strings).  \n",
    "- Data is loaded in periodic batches.  \n",
    "- Sometimes uses **multidimensional databases (cubes)** for OLAP analysis.  \n",
    "\n",
    "### Data Lake\n",
    "- Built on **big data environments** (e.g., Hadoop, Spark, cloud-native storage).  \n",
    "- Designed to handle the **3Vs of Big Data**:\n",
    "  - **Volume** – Massive amounts of data.  \n",
    "  - **Velocity** – Rapid ingestion of new and updated data.  \n",
    "  - **Variety** – Structured, semi-structured (JSON, XML, text), and unstructured data (audio, video).  \n",
    "- More flexible than traditional warehouses for handling modern data types.\n"
   ]
  },
  {
   "cell_type": "markdown",
   "id": "36bfc697",
   "metadata": {},
   "source": [
    "\n",
    "## Complementary Use\n",
    "\n",
    "- Data lakes are sometimes viewed as the *next generation* of data warehousing.  \n",
    "- However, most organizations still maintain **robust warehouses** alongside **data lakes**.  \n",
    "- SQL remains the backbone:  \n",
    "  - Supports BI on both warehouses and lakes.  \n",
    "  - Allows unified analysis across environments.  \n"
   ]
  },
  {
   "cell_type": "markdown",
   "id": "dddc5b8e",
   "metadata": {},
   "source": [
    "\n",
    "## Unified Goal\n",
    "\n",
    "Both **data warehouses** and **data lakes** ultimately exist to:  \n",
    "- Enable **business intelligence**  \n",
    "- Expand analytical capabilities  \n",
    "- Drive **data-driven decision making**\n"
   ]
  }
 ],
 "metadata": {},
 "nbformat": 4,
 "nbformat_minor": 5
}