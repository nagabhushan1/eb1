{
 "cells": [
  {
   "cell_type": "markdown",
   "id": "a8428b5c",
   "metadata": {},
   "source": [
    "# SQL CRUD Operations\n",
    "This notebook demonstrates **CRUD operations**\n",
    "\n",
    "- CREATE (Insert)\n",
    "- READ (Select, WHERE, DISTINCT)\n",
    "- UPDATE\n",
    "- DELETE\n",
    "- ROLLBACK\n",
    "\n",
    "CRUD = Create, Read, Update, Delete. These are **DML (Data Manipulation Language)** operations "
   ]
  },
  {
   "cell_type": "markdown",
   "id": "c239adcc",
   "metadata": {},
   "source": [
    "## 1) CREATE — INSERT"
   ]
  },
  {
   "cell_type": "code",
   "execution_count": null,
   "id": "f150aeb4",
   "metadata": {},
   "outputs": [],
   "source": [
    "CREATE TABLE CUSTOMERS_CRUD (\n",
    "    CustomerID NUMBER PRIMARY KEY,\n",
    "    CustomerName VARCHAR2(50),\n",
    "    City VARCHAR2(50),\n",
    "    Status VARCHAR2(20)\n",
    ");"
   ]
  },
  {
   "cell_type": "code",
   "execution_count": null,
   "id": "1e71bb2c",
   "metadata": {},
   "outputs": [],
   "source": [
    "DESC CUSTOMERS_CRUD;"
   ]
  },
  {
   "cell_type": "code",
   "execution_count": null,
   "id": "74a2e7c3",
   "metadata": {},
   "outputs": [],
   "source": [
    "INSERT ALL\n",
    "  INTO CUSTOMERS_CRUD VALUES (1, 'Arjun Sharma', 'Bengaluru', 'Active')\n",
    "  INTO CUSTOMERS_CRUD VALUES (2, 'Priya Nair', 'Chennai', 'Active')\n",
    "  INTO CUSTOMERS_CRUD VALUES (3, 'Ramesh Iyer', 'Hyderabad', 'Inactive')\n",
    "  INTO CUSTOMERS_CRUD VALUES (4, 'Kavita Desai', 'Mumbai', 'Active')\n",
    "  INTO CUSTOMERS_CRUD VALUES (5, 'Meena Joshi', 'Pune', 'Inactive')\n",
    "SELECT * FROM dual;"
   ]
  },
  {
   "cell_type": "code",
   "execution_count": null,
   "id": "495ef49f",
   "metadata": {},
   "outputs": [],
   "source": [
    "SELECT * FROM CUSTOMERS_CRUD;"
   ]
  },
  {
   "cell_type": "markdown",
   "id": "3ccce787",
   "metadata": {},
   "source": [
    "## 2) READ — SELECT"
   ]
  },
  {
   "cell_type": "code",
   "execution_count": null,
   "id": "e1142adb",
   "metadata": {},
   "outputs": [],
   "source": [
    "SELECT * FROM CUSTOMERS_CRUD; -- All rows and columns"
   ]
  },
  {
   "cell_type": "code",
   "execution_count": null,
   "id": "527ada70",
   "metadata": {},
   "outputs": [],
   "source": [
    "SELECT CustomerName, City FROM CUSTOMERS_CRUD; -- Specific columns"
   ]
  },
  {
   "cell_type": "code",
   "execution_count": null,
   "id": "15d5a3fb",
   "metadata": {},
   "outputs": [],
   "source": [
    "SELECT DISTINCT City FROM CUSTOMERS_CRUD; -- Unique values only"
   ]
  },
  {
   "cell_type": "code",
   "execution_count": null,
   "id": "548578db",
   "metadata": {},
   "outputs": [],
   "source": [
    "SELECT * FROM CUSTOMERS_CRUD WHERE City='Chennai'; -- Filter with WHERE"
   ]
  },
  {
   "cell_type": "code",
   "execution_count": null,
   "id": "becbf0ee",
   "metadata": {},
   "outputs": [],
   "source": [
    "SELECT * FROM CUSTOMERS_CRUD WHERE Status='Active' AND City='Bengaluru'; -- AND condition"
   ]
  },
  {
   "cell_type": "code",
   "execution_count": null,
   "id": "d50f9676",
   "metadata": {},
   "outputs": [],
   "source": [
    "SELECT * FROM CUSTOMERS_CRUD WHERE City IN ('Mumbai','Pune'); -- IN operator"
   ]
  },
  {
   "cell_type": "code",
   "execution_count": null,
   "id": "632ebbaa",
   "metadata": {},
   "outputs": [],
   "source": [
    "SELECT * FROM CUSTOMERS_CRUD WHERE CustomerID BETWEEN 2 AND 4; -- BETWEEN operator"
   ]
  },
  {
   "cell_type": "code",
   "execution_count": null,
   "id": "9d6d97a4",
   "metadata": {},
   "outputs": [],
   "source": [
    "SELECT * FROM CUSTOMERS_CRUD WHERE CustomerName LIKE 'A%'; -- LIKE pattern matching"
   ]
  },
  {
   "cell_type": "markdown",
   "id": "7550d2b9",
   "metadata": {},
   "source": [
    "## 3) UPDATE\n",
    "Modify existing rows in a table."
   ]
  },
  {
   "cell_type": "code",
   "execution_count": null,
   "id": "74e130b9",
   "metadata": {},
   "outputs": [],
   "source": [
    "SELECT * FROM CUSTOMERS_CRUD WHERE CustomerID=2; -- Before update"
   ]
  },
  {
   "cell_type": "code",
   "execution_count": null,
   "id": "7558de26",
   "metadata": {},
   "outputs": [],
   "source": [
    "UPDATE CUSTOMERS_CRUD SET City='Mumbai' WHERE CustomerID=2;"
   ]
  },
  {
   "cell_type": "code",
   "execution_count": null,
   "id": "5d89e8eb",
   "metadata": {},
   "outputs": [],
   "source": [
    "SELECT * FROM CUSTOMERS_CRUD WHERE CustomerID=2; -- After update"
   ]
  },
  {
   "cell_type": "markdown",
   "id": "fe27193b",
   "metadata": {},
   "source": [
    "## 4) DELETE\n",
    "Remove rows from a table."
   ]
  },
  {
   "cell_type": "code",
   "execution_count": null,
   "id": "f2cd189d",
   "metadata": {},
   "outputs": [],
   "source": [
    "SELECT * FROM CUSTOMERS_CRUD WHERE CustomerID=3; -- Before delete"
   ]
  },
  {
   "cell_type": "code",
   "execution_count": null,
   "id": "c7432936",
   "metadata": {},
   "outputs": [],
   "source": [
    "DELETE FROM CUSTOMERS_CRUD WHERE CustomerID=3;"
   ]
  },
  {
   "cell_type": "code",
   "execution_count": null,
   "id": "db52e0a8",
   "metadata": {},
   "outputs": [],
   "source": [
    "SELECT * FROM CUSTOMERS_CRUD WHERE CustomerID=3; -- After delete"
   ]
  },
  {
   "cell_type": "code",
   "execution_count": null,
   "id": "23566d30",
   "metadata": {},
   "outputs": [],
   "source": [
    "DELETE FROM CUSTOMERS_CRUD WHERE CustomerID=4; -- Delete row"
   ]
  },
  {
   "cell_type": "markdown",
   "id": "7eed6ab3",
   "metadata": {},
   "source": [
    "## Cheat Sheet\n",
    "| Operation | Command | Example | Notes |\n",
    "|-----------|---------|---------|-------|\n",
    "| CREATE    | INSERT  | `INSERT INTO Customers VALUES (1,'Arjun','Bengaluru','Active')` | Adds rows |\n",
    "| READ      | SELECT  | `SELECT DISTINCT City FROM Customers` | Retrieves rows; `DISTINCT` removes duplicates; `WHERE` filters |\n",
    "| UPDATE    | UPDATE  | `UPDATE Customers SET City='Mumbai' WHERE CustomerID=2` | Changes rows; use WHERE carefully |\n",
    "| DELETE    | DELETE  | `DELETE FROM Customers WHERE CustomerID=3` | Removes rows; use WHERE carefully |\n",
    "| ROLLBACK  | ROLLBACK| `ROLLBACK;` | Undoes uncommitted DML; not for DDL |\n"
   ]
  }
 ],
 "metadata": {
  "language_info": {
   "name": "python"
  }
 },
 "nbformat": 4,
 "nbformat_minor": 5
}
