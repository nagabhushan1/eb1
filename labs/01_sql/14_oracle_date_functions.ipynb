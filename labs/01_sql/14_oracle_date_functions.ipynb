{
 "cells": [
  {
   "cell_type": "markdown",
   "id": "a0647e02",
   "metadata": {},
   "source": [
    "### SYSDATE Function\n",
    "The `SYSDATE` function returns the current system date and time."
   ]
  },
  {
   "cell_type": "code",
   "execution_count": null,
   "id": "30ceffae",
   "metadata": {},
   "outputs": [],
   "source": [
    "SELECT SYSDATE AS TODAY FROM DUAL;"
   ]
  },
  {
   "cell_type": "code",
   "execution_count": null,
   "id": "87da52b6",
   "metadata": {},
   "outputs": [],
   "source": [
    "SELECT SYSDATE + 1 AS TOMORROW FROM DUAL;"
   ]
  },
  {
   "cell_type": "code",
   "execution_count": null,
   "id": "d137a17d",
   "metadata": {},
   "outputs": [],
   "source": [
    "SELECT SYSDATE - 1 AS YESTERDAY FROM DUAL;"
   ]
  },
  {
   "cell_type": "code",
   "execution_count": null,
   "id": "97c6f258",
   "metadata": {},
   "outputs": [],
   "source": [
    "SELECT SYSDATE - SYSDATE FROM DUAL;"
   ]
  },
  {
   "cell_type": "markdown",
   "id": "fcea4a29",
   "metadata": {},
   "source": [
    "### TO_CHAR Function (Date Formatting)\n",
    "The `TO_CHAR` function converts a date to a string with a specified format."
   ]
  },
  {
   "cell_type": "code",
   "execution_count": null,
   "id": "e6c04f99",
   "metadata": {},
   "outputs": [],
   "source": [
    "SELECT TO_CHAR(SYSDATE, 'DD/MM/YY') FROM DUAL;"
   ]
  },
  {
   "cell_type": "code",
   "execution_count": null,
   "id": "5416c366",
   "metadata": {},
   "outputs": [],
   "source": [
    "SELECT TO_CHAR(SYSDATE, 'DAY') FROM DUAL;"
   ]
  },
  {
   "cell_type": "code",
   "execution_count": null,
   "id": "c08c12c8",
   "metadata": {},
   "outputs": [],
   "source": [
    "SELECT TO_CHAR(SYSDATE, 'day') FROM DUAL;"
   ]
  },
  {
   "cell_type": "code",
   "execution_count": null,
   "id": "48079d4a",
   "metadata": {},
   "outputs": [],
   "source": [
    "SELECT TO_CHAR(SYSDATE, 'DY') FROM DUAL;"
   ]
  },
  {
   "cell_type": "markdown",
   "id": "3ac6fddb",
   "metadata": {},
   "source": [
    "### SYSTIMESTAMP Function\n",
    "The `SYSTIMESTAMP` function returns the system date and time with fractional seconds and time zone."
   ]
  },
  {
   "cell_type": "code",
   "execution_count": null,
   "id": "a68a9e1a",
   "metadata": {},
   "outputs": [],
   "source": [
    "SELECT SYSTIMESTAMP FROM DUAL;"
   ]
  },
  {
   "cell_type": "code",
   "execution_count": null,
   "id": "cf5fe0e0",
   "metadata": {},
   "outputs": [],
   "source": [
    "SELECT TO_CHAR(SYSTIMESTAMP, 'HH:MI:SS') FROM DUAL;"
   ]
  },
  {
   "cell_type": "markdown",
   "id": "7cc2482b",
   "metadata": {},
   "source": [
    "### TO_DATE Function\n",
    "The `TO_DATE` function converts a string into a date using the specified format."
   ]
  },
  {
   "cell_type": "code",
   "execution_count": null,
   "id": "8093d3a1",
   "metadata": {},
   "outputs": [],
   "source": [
    "SELECT TO_DATE('24/09/25', 'DD/MM/YY') FROM DUAL;"
   ]
  },
  {
   "cell_type": "markdown",
   "id": "360b0a30",
   "metadata": {},
   "source": [
    "### TO_CHAR with HIREDATE\n",
    "Query to list all employees who joined on Thursday using `TO_CHAR` on the hire date."
   ]
  },
  {
   "cell_type": "code",
   "execution_count": null,
   "id": "4a0f057f",
   "metadata": {},
   "outputs": [],
   "source": [
    "SELECT * FROM EMP WHERE TO_CHAR(HIREDATE, 'DAY') = 'THURSDAY';"
   ]
  },
  {
   "cell_type": "markdown",
   "id": "4d8cc4e9",
   "metadata": {},
   "source": [
    "### ADD_MONTHS Function\n",
    "The `ADD_MONTHS` function adds a specified number of months to a date."
   ]
  },
  {
   "cell_type": "code",
   "execution_count": null,
   "id": "c3a80c1d",
   "metadata": {},
   "outputs": [],
   "source": [
    "SELECT ename, ADD_MONTHS(hiredate, 6) AS review_date FROM emp;"
   ]
  },
  {
   "cell_type": "markdown",
   "id": "50972dd2",
   "metadata": {},
   "source": [
    "### LAST_DAY Function\n",
    "The `LAST_DAY` function returns the last day of the month for a given date."
   ]
  },
  {
   "cell_type": "code",
   "execution_count": null,
   "id": "8bb8fbb0",
   "metadata": {},
   "outputs": [],
   "source": [
    "SELECT LAST_DAY(SYSDATE) AS month_end FROM dual;"
   ]
  },
  {
   "cell_type": "markdown",
   "id": "029d971b",
   "metadata": {},
   "source": [
    "### MONTHS_BETWEEN Function\n",
    "The `MONTHS_BETWEEN` function returns the number of months between two dates."
   ]
  },
  {
   "cell_type": "code",
   "execution_count": null,
   "id": "b33fb6e8",
   "metadata": {},
   "outputs": [],
   "source": [
    "SELECT ename, MONTHS_BETWEEN(SYSDATE, hiredate) AS months_worked FROM emp;"
   ]
  },
  {
   "cell_type": "markdown",
   "id": "d183f804",
   "metadata": {},
   "source": [
    "### NEXT_DAY Function\n",
    "The `NEXT_DAY` function returns the date of the next specified weekday after a given date."
   ]
  },
  {
   "cell_type": "code",
   "execution_count": null,
   "id": "00319e6c",
   "metadata": {},
   "outputs": [],
   "source": [
    "SELECT NEXT_DAY(SYSDATE, 'FRIDAY') AS next_friday FROM dual;"
   ]
  }
 ],
 "metadata": {},
 "nbformat": 4,
 "nbformat_minor": 5
}
