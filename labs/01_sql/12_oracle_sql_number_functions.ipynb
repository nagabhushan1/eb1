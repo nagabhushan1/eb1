{
 "cells": [
  {
   "cell_type": "markdown",
   "id": "eb5518d0",
   "metadata": {},
   "source": [
    "### ABS Function\n",
    "The `ABS` function returns the absolute value of a number, removing any negative sign."
   ]
  },
  {
   "cell_type": "code",
   "execution_count": null,
   "id": "36d71882",
   "metadata": {},
   "outputs": [],
   "source": [
    "SELECT ABS(-50) FROM DUAL;"
   ]
  },
  {
   "cell_type": "markdown",
   "id": "31bb8695",
   "metadata": {},
   "source": [
    "### MOD Function\n",
    "The `MOD` function returns the remainder of a division."
   ]
  },
  {
   "cell_type": "code",
   "execution_count": null,
   "id": "32dd3c95",
   "metadata": {},
   "outputs": [],
   "source": [
    "SELECT MOD(27, 4) AS REMAINDER FROM DUAL;"
   ]
  },
  {
   "cell_type": "markdown",
   "id": "05e5d839",
   "metadata": {},
   "source": [
    "### ROUND Function\n",
    "The `ROUND` function rounds a number to the nearest integer or to a specified number of decimal places."
   ]
  },
  {
   "cell_type": "code",
   "execution_count": null,
   "id": "bea61807",
   "metadata": {},
   "outputs": [],
   "source": [
    "SELECT ROUND(1.8) FROM DUAL;"
   ]
  },
  {
   "cell_type": "code",
   "execution_count": null,
   "id": "256f9df8",
   "metadata": {},
   "outputs": [],
   "source": [
    "SELECT ROUND(1.23456) FROM DUAL;"
   ]
  },
  {
   "cell_type": "code",
   "execution_count": null,
   "id": "223a36ce",
   "metadata": {},
   "outputs": [],
   "source": [
    "SELECT ROUND(1.23456, 3) FROM DUAL;"
   ]
  },
  {
   "cell_type": "markdown",
   "id": "416182ce",
   "metadata": {},
   "source": [
    "### TRUNC Function\n",
    "The `TRUNC` function truncates (removes) the decimal part of a number without rounding. It can also truncate to a specified number of decimal places."
   ]
  },
  {
   "cell_type": "code",
   "execution_count": null,
   "id": "6c8bdbe2",
   "metadata": {},
   "outputs": [],
   "source": [
    "SELECT TRUNC(1.8) FROM DUAL;"
   ]
  },
  {
   "cell_type": "code",
   "execution_count": null,
   "id": "07d1d85c",
   "metadata": {},
   "outputs": [],
   "source": [
    "SELECT TRUNC(1.23456, 3) FROM DUAL;"
   ]
  },
  {
   "cell_type": "markdown",
   "id": "473fab4d",
   "metadata": {},
   "source": [
    "### GREATEST Function\n",
    "The `GREATEST` function returns the largest value from a list of numbers."
   ]
  },
  {
   "cell_type": "code",
   "execution_count": null,
   "id": "5caf762f",
   "metadata": {},
   "outputs": [],
   "source": [
    "SELECT GREATEST(3, 5, 8, 9) FROM DUAL;"
   ]
  },
  {
   "cell_type": "markdown",
   "id": "769965a5",
   "metadata": {},
   "source": [
    "### CEIL Function\n",
    "The `CEIL` function returns the smallest integer greater than or equal to a number."
   ]
  },
  {
   "cell_type": "code",
   "execution_count": null,
   "id": "234c4908",
   "metadata": {},
   "outputs": [],
   "source": [
    "SELECT CEIL(10.5) FROM DUAL;"
   ]
  },
  {
   "cell_type": "markdown",
   "id": "fd2abe7b",
   "metadata": {},
   "source": [
    "### FLOOR Function\n",
    "The `FLOOR` function returns the largest integer less than or equal to a number."
   ]
  },
  {
   "cell_type": "code",
   "execution_count": null,
   "id": "a7eadb0f",
   "metadata": {},
   "outputs": [],
   "source": [
    "SELECT FLOOR(10.5) FROM DUAL;"
   ]
  },
  {
   "cell_type": "markdown",
   "id": "fc1debf6",
   "metadata": {},
   "source": [
    "### POWER Function\n",
    "The `POWER` function raises a number to the power of another number."
   ]
  },
  {
   "cell_type": "code",
   "execution_count": null,
   "id": "9a597c91",
   "metadata": {},
   "outputs": [],
   "source": [
    "SELECT POWER(2, 3) FROM DUAL;"
   ]
  },
  {
   "cell_type": "code",
   "execution_count": null,
   "id": "580eef62",
   "metadata": {},
   "outputs": [],
   "source": [
    "SELECT POWER(4, 3) FROM DUAL;"
   ]
  },
  {
   "cell_type": "markdown",
   "id": "a6f6f8be",
   "metadata": {},
   "source": [
    "### SQRT Function\n",
    "The `SQRT` function returns the square root of a number."
   ]
  },
  {
   "cell_type": "code",
   "execution_count": null,
   "id": "26496073",
   "metadata": {},
   "outputs": [],
   "source": [
    "SELECT SQRT(16) FROM DUAL;"
   ]
  },
  {
   "cell_type": "markdown",
   "id": "0fc9cc6a",
   "metadata": {},
   "source": [
    "### EXP Function\n",
    "The `EXP` function returns Euler’s number `e` raised to the power of a given number."
   ]
  },
  {
   "cell_type": "code",
   "execution_count": null,
   "id": "886e78a7",
   "metadata": {},
   "outputs": [],
   "source": [
    "SELECT EXP(1) FROM DUAL;"
   ]
  },
  {
   "cell_type": "code",
   "execution_count": null,
   "id": "7098da64",
   "metadata": {},
   "outputs": [],
   "source": [
    "SELECT EXP(2) FROM DUAL;"
   ]
  }
 ],
 "metadata": {},
 "nbformat": 4,
 "nbformat_minor": 5
}
