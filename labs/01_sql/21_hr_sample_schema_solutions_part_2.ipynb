{
  "cells": [
    {
      "cell_type": "markdown",
      "metadata": {},
      "source": "# \ud83d\udcd8 HR Database \u2013 Solutions (Part 2)\n\nThis notebook contains the SQL solutions for the HR schema use cases (15\u201323)."
    },
    {
      "cell_type": "markdown",
      "metadata": {},
      "source": "#### \ud83d\udd39 Use Case 15\n> Find the **average, sum, maximum, and minimum salary** of all employees."
    },
    {
      "cell_type": "code",
      "execution_count": null,
      "metadata": {},
      "outputs": [],
      "source": "SELECT salary FROM employees;"
    },
    {
      "cell_type": "code",
      "execution_count": null,
      "metadata": {},
      "outputs": [],
      "source": "SELECT AVG(salary)\nFROM employees;"
    },
    {
      "cell_type": "code",
      "execution_count": null,
      "metadata": {},
      "outputs": [],
      "source": "SELECT ROUND(AVG(salary),2), SUM(salary), MIN(salary), MAX(salary)\nFROM employees;"
    },
    {
      "cell_type": "markdown",
      "metadata": {},
      "source": "#### \ud83d\udd39 Use Case 16\n> Find the **count of employees** and the **count of departments**."
    },
    {
      "cell_type": "code",
      "execution_count": null,
      "metadata": {},
      "outputs": [],
      "source": "SELECT COUNT(*) FROM employees;"
    },
    {
      "cell_type": "code",
      "execution_count": null,
      "metadata": {},
      "outputs": [],
      "source": "SELECT COUNT(*) FROM departments;"
    },
    {
      "cell_type": "markdown",
      "metadata": {},
      "source": "#### \ud83d\udd39 Use Case 17\n> Find the **count of department IDs** in the `employees` table."
    },
    {
      "cell_type": "code",
      "execution_count": null,
      "metadata": {},
      "outputs": [],
      "source": "SELECT COUNT(department_id) FROM employees;"
    },
    {
      "cell_type": "code",
      "execution_count": null,
      "metadata": {},
      "outputs": [],
      "source": "SELECT COUNT(commission_pct) FROM employees;"
    },
    {
      "cell_type": "code",
      "execution_count": null,
      "metadata": {},
      "outputs": [],
      "source": "SELECT COUNT(DISTINCT department_id) FROM employees;"
    },
    {
      "cell_type": "code",
      "execution_count": null,
      "metadata": {},
      "outputs": [],
      "source": "SELECT COUNT(DISTINCT manager_id) FROM employees;"
    },
    {
      "cell_type": "markdown",
      "metadata": {},
      "source": "#### \ud83d\udd39 Use Case 18\n> Find the **average salary** for all employees in each department, where the average salary is **greater than 5000**."
    },
    {
      "cell_type": "code",
      "execution_count": null,
      "metadata": {},
      "outputs": [],
      "source": "SELECT department_id, ROUND(AVG(salary),2) AS \"avg sal\"\nFROM employees\nWHERE department_id IS NOT NULL\nGROUP BY department_id\nHAVING AVG(salary) > 5000\nORDER BY AVG(salary);"
    },
    {
      "cell_type": "code",
      "execution_count": null,
      "metadata": {},
      "outputs": [],
      "source": "SELECT department_id, ROUND(AVG(salary),2) AS \"avg sal\"\nFROM employees\nWHERE department_id IS NOT NULL\nGROUP BY department_id\nHAVING AVG(salary) > 5000\nORDER BY \"avg sal\";"
    },
    {
      "cell_type": "code",
      "execution_count": null,
      "metadata": {},
      "outputs": [],
      "source": "-- Bonus: Under each manager, find the total no. of employees working under them\nSELECT manager_id, COUNT(*)\nFROM employees\nWHERE manager_id IS NOT NULL\nGROUP BY manager_id;"
    },
    {
      "cell_type": "code",
      "execution_count": null,
      "metadata": {},
      "outputs": [],
      "source": "-- Bonus: Find manager_id's with 5 or more employees\nSELECT manager_id, COUNT(*)\nFROM employees\nWHERE manager_id IS NOT NULL\nGROUP BY manager_id\nHAVING COUNT(*) >=5;"
    },
    {
      "cell_type": "markdown",
      "metadata": {},
      "source": "#### \ud83d\udd39 Functions Exploration\n> Demonstrating single-row and date functions on the HR schema."
    },
    {
      "cell_type": "code",
      "execution_count": null,
      "metadata": {},
      "outputs": [],
      "source": "SELECT CONCAT('Hello', 'World') FROM dual;"
    },
    {
      "cell_type": "code",
      "execution_count": null,
      "metadata": {},
      "outputs": [],
      "source": "SELECT SUBSTR('HelloWorld',1,5) FROM dual;"
    },
    {
      "cell_type": "code",
      "execution_count": null,
      "metadata": {},
      "outputs": [],
      "source": "SELECT SUBSTR('1234-5678-9000-8765',16,4) FROM dual;"
    },
    {
      "cell_type": "code",
      "execution_count": null,
      "metadata": {},
      "outputs": [],
      "source": "SELECT LPAD(24000,10,'X') FROM dual;"
    },
    {
      "cell_type": "code",
      "execution_count": null,
      "metadata": {},
      "outputs": [],
      "source": "SELECT RPAD(24000,10,'X') FROM dual;"
    },
    {
      "cell_type": "code",
      "execution_count": null,
      "metadata": {},
      "outputs": [],
      "source": "SELECT LPAD(SUBSTR('1234-5678-9000-8765',16,4),16,'X') FROM dual;"
    },
    {
      "cell_type": "code",
      "execution_count": null,
      "metadata": {},
      "outputs": [],
      "source": "SELECT last_name, hire_date\nFROM employees\nWHERE hire_date < '01-FEB-88';"
    },
    {
      "cell_type": "code",
      "execution_count": null,
      "metadata": {},
      "outputs": [],
      "source": "SELECT SYSDATE FROM dual;"
    },
    {
      "cell_type": "code",
      "execution_count": null,
      "metadata": {},
      "outputs": [],
      "source": "SELECT last_name, ROUND(((SYSDATE-hire_date)/7),2) AS WEEKS\nFROM employees\nWHERE department_id = 90;"
    },
    {
      "cell_type": "code",
      "execution_count": null,
      "metadata": {},
      "outputs": [],
      "source": "SELECT SYSDATE + 10 FROM dual;"
    },
    {
      "cell_type": "code",
      "execution_count": null,
      "metadata": {},
      "outputs": [],
      "source": "SELECT SYSDATE - 10 FROM dual;"
    },
    {
      "cell_type": "code",
      "execution_count": null,
      "metadata": {},
      "outputs": [],
      "source": "SELECT last_name, ROUND(MONTHS_BETWEEN(SYSDATE, hire_date),2)\nFROM employees;"
    },
    {
      "cell_type": "code",
      "execution_count": null,
      "metadata": {},
      "outputs": [],
      "source": "SELECT ADD_MONTHS(SYSDATE,-10) FROM dual;"
    },
    {
      "cell_type": "code",
      "execution_count": null,
      "metadata": {},
      "outputs": [],
      "source": "SELECT NEXT_DAY(SYSDATE, 'fri') FROM dual;"
    },
    {
      "cell_type": "code",
      "execution_count": null,
      "metadata": {},
      "outputs": [],
      "source": "SELECT LAST_DAY(SYSDATE) FROM dual;"
    },
    {
      "cell_type": "code",
      "execution_count": null,
      "metadata": {},
      "outputs": [],
      "source": "SELECT hire_date, last_name, LAST_DAY(ADD_MONTHS(hire_date,6))-1 AS \"first incr date\"\nFROM employees\nWHERE LOWER(last_name) = 'whalen';"
    },
    {
      "cell_type": "markdown",
      "metadata": {},
      "source": "#### \ud83d\udd39 Use Case 19\n> Find the **employee name** and the **department name** in which the employee is working."
    },
    {
      "cell_type": "code",
      "execution_count": null,
      "metadata": {},
      "outputs": [],
      "source": "SELECT last_name, department_name\nFROM employees JOIN departments\nON employees.department_id = departments.department_id;"
    },
    {
      "cell_type": "markdown",
      "metadata": {},
      "source": "#### \ud83d\udd39 Use Case 20\n> Find the **salary** and the **region name** in which employee **Ernst** is working."
    },
    {
      "cell_type": "code",
      "execution_count": null,
      "metadata": {},
      "outputs": [],
      "source": "SELECT salary, region_name\nFROM employees e JOIN departments d\nON e.department_id = d.department_id\nJOIN locations l ON d.location_id = l.location_id\nJOIN countries c ON l.country_id = c.country_id\nJOIN regions r ON c.region_id = r.region_id\nWHERE last_name = 'Ernst';"
    },
    {
      "cell_type": "markdown",
      "metadata": {},
      "source": "#### \ud83d\udd39 Use Case 21a\n> Find all **department names** and the **manager names** of each department."
    },
    {
      "cell_type": "code",
      "execution_count": null,
      "metadata": {},
      "outputs": [],
      "source": "SELECT department_name, last_name AS \"manager name\"\nFROM employees JOIN departments\nON departments.manager_id = employees.employee_id;"
    },
    {
      "cell_type": "code",
      "execution_count": null,
      "metadata": {},
      "outputs": [],
      "source": "-- Bonus: Departments with more than 10 employees\nSELECT department_name, COUNT(*)\nFROM employees e JOIN departments d\nON e.department_id = d.department_id\nGROUP BY department_name\nHAVING COUNT(*) >= 10;"
    },
    {
      "cell_type": "code",
      "execution_count": null,
      "metadata": {},
      "outputs": [],
      "source": "-- Bonus: Total salary by country\nSELECT country_name, SUM(salary), COUNT(*)\nFROM employees e JOIN departments d\nON e.department_id = d.department_id\nJOIN locations l ON d.location_id = l.location_id\nJOIN countries c ON c.country_id = l.country_id\nGROUP BY country_name;"
    },
    {
      "cell_type": "markdown",
      "metadata": {},
      "source": "#### \ud83d\udd39 Use Case 21b\n> Find all **department names** and the **manager names** of each department, including departments that **do not have managers**."
    },
    {
      "cell_type": "code",
      "execution_count": null,
      "metadata": {},
      "outputs": [],
      "source": "SELECT department_name, last_name AS \"mgr name\"\nFROM employees RIGHT JOIN departments\nON employees.employee_id = departments.manager_id;"
    },
    {
      "cell_type": "code",
      "execution_count": null,
      "metadata": {},
      "outputs": [],
      "source": "-- Demonstrating different join types\nSELECT last_name, department_name\nFROM employees e FULL JOIN departments d\nON e.department_id = d.department_id;"
    },
    {
      "cell_type": "code",
      "execution_count": null,
      "metadata": {},
      "outputs": [],
      "source": "SELECT last_name, department_name\nFROM employees e LEFT JOIN departments d\nON e.department_id = d.department_id;"
    },
    {
      "cell_type": "code",
      "execution_count": null,
      "metadata": {},
      "outputs": [],
      "source": "SELECT last_name, department_name\nFROM employees e RIGHT JOIN departments d\nON e.department_id = d.department_id;"
    },
    {
      "cell_type": "markdown",
      "metadata": {},
      "source": "#### \ud83d\udd39 Use Case 22\n> Find all **department names** which do **not have any employees**."
    },
    {
      "cell_type": "code",
      "execution_count": null,
      "metadata": {},
      "outputs": [],
      "source": "SELECT department_name\nFROM departments d\nWHERE NOT EXISTS (\n    SELECT 1 FROM employees e WHERE e.department_id = d.department_id\n);"
    },
    {
      "cell_type": "markdown",
      "metadata": {},
      "source": "#### \ud83d\udd39 Use Case 23\n> Find the **names of employees** who are **not managing any department**."
    },
    {
      "cell_type": "code",
      "execution_count": null,
      "metadata": {},
      "outputs": [],
      "source": "SELECT last_name, first_name\nFROM employees e\nWHERE NOT EXISTS (\n    SELECT 1 FROM departments d WHERE d.manager_id = e.employee_id\n);"
    }
  ],
  "metadata": {
    "kernelspec": {
      "display_name": "SQL",
      "language": "sql",
      "name": "sql"
    },
    "language_info": {
      "name": "sql"
    }
  },
  "nbformat": 4,
  "nbformat_minor": 5
}