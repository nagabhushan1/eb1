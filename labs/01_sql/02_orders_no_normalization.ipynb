{
 "cells": [
  {
   "cell_type": "markdown",
   "id": "1c860baa",
   "metadata": {},
   "source": [
    "# Orders No normalization\n",
    "This table is **not normalized**. It contains repeating groups and redundant data.\n",
    "\n",
    "### Problems:\n",
    "- `ProductList` stores multiple items in a single column (comma-separated)\n",
    "- Customer name and address repeat in every order\n",
    "- Update anomalies: changing a customer's address requires updating multiple rows\n",
    "- Insertion/deletion anomalies possible\n",
    "\n",
    "We will load 50 rows here (using Indian names and products)."
   ]
  },
  {
   "cell_type": "code",
   "execution_count": null,
   "id": "6fc206aa",
   "metadata": {},
   "outputs": [],
   "source": [
    "CREATE TABLE Orders_Unnormalized (\n",
    "    OrderID NUMBER,\n",
    "    CustomerName VARCHAR2(50),\n",
    "    Address VARCHAR2(100),\n",
    "    ProductList VARCHAR2(200),\n",
    "    TotalAmount NUMBER\n",
    ");"
   ]
  },
  {
   "cell_type": "code",
   "execution_count": null,
   "id": "31f45c4e",
   "metadata": {},
   "outputs": [],
   "source": [
    "INSERT ALL\n",
    "  INTO Orders_Unnormalized VALUES (1, 'Arjun Sharma', 'Bengaluru', 'Laptop, Mouse', 1000)\n",
    "  INTO Orders_Unnormalized VALUES (2, 'Priya Nair', 'Chennai', 'Rice, Oil, Sugar', 1050)\n",
    "  INTO Orders_Unnormalized VALUES (3, 'Ramesh Iyer', 'Hyderabad', 'Mobile, Charger', 1100)\n",
    "  INTO Orders_Unnormalized VALUES (4, 'Kavita Desai', 'Mumbai', 'Mixer, Grinder', 1150)\n",
    "  INTO Orders_Unnormalized VALUES (5, 'Meena Joshi', 'Pune', 'TV, Remote', 1200)\n",
    "  INTO Orders_Unnormalized VALUES (6, 'Suresh Reddy', 'Delhi', 'Chair, Table', 1250)\n",
    "  INTO Orders_Unnormalized VALUES (7, 'Ananya Rao', 'Kolkata', 'Pen, Notebook, Bag', 1300)\n",
    "  INTO Orders_Unnormalized VALUES (8, 'Rajesh Gupta', 'Jaipur', 'Shoes, Socks', 1350)\n",
    "  INTO Orders_Unnormalized VALUES (9, 'Neha Kulkarni', 'Ahmedabad', 'Watch, Earphones', 1400)\n",
    "  INTO Orders_Unnormalized VALUES (10, 'Manoj Verma', 'Lucknow', 'Fan, Cooler', 1450)\n",
    "SELECT * FROM dual;"
   ]
  },
  {
   "cell_type": "code",
   "execution_count": null,
   "id": "8734fdb7",
   "metadata": {},
   "outputs": [],
   "source": [
    "INSERT ALL\n",
    "  INTO Orders_Unnormalized VALUES (11, 'Arjun Sharma', 'Bengaluru', 'Laptop, Mouse', 1500)\n",
    "  INTO Orders_Unnormalized VALUES (12, 'Priya Nair', 'Chennai', 'Rice, Oil, Sugar', 1550)\n",
    "  INTO Orders_Unnormalized VALUES (13, 'Ramesh Iyer', 'Hyderabad', 'Mobile, Charger', 1600)\n",
    "  INTO Orders_Unnormalized VALUES (14, 'Kavita Desai', 'Mumbai', 'Mixer, Grinder', 1650)\n",
    "  INTO Orders_Unnormalized VALUES (15, 'Meena Joshi', 'Pune', 'TV, Remote', 1700)\n",
    "  INTO Orders_Unnormalized VALUES (16, 'Suresh Reddy', 'Delhi', 'Chair, Table', 1750)\n",
    "  INTO Orders_Unnormalized VALUES (17, 'Ananya Rao', 'Kolkata', 'Pen, Notebook, Bag', 1800)\n",
    "  INTO Orders_Unnormalized VALUES (18, 'Rajesh Gupta', 'Jaipur', 'Shoes, Socks', 1850)\n",
    "  INTO Orders_Unnormalized VALUES (19, 'Neha Kulkarni', 'Ahmedabad', 'Watch, Earphones', 1900)\n",
    "  INTO Orders_Unnormalized VALUES (20, 'Manoj Verma', 'Lucknow', 'Fan, Cooler', 1950)\n",
    "SELECT * FROM dual;"
   ]
  },
  {
   "cell_type": "code",
   "execution_count": null,
   "id": "64b6d050",
   "metadata": {},
   "outputs": [],
   "source": [
    "INSERT ALL\n",
    "  INTO Orders_Unnormalized VALUES (21, 'Arjun Sharma', 'Bengaluru', 'Laptop, Mouse', 2000)\n",
    "  INTO Orders_Unnormalized VALUES (22, 'Priya Nair', 'Chennai', 'Rice, Oil, Sugar', 2050)\n",
    "  INTO Orders_Unnormalized VALUES (23, 'Ramesh Iyer', 'Hyderabad', 'Mobile, Charger', 2100)\n",
    "  INTO Orders_Unnormalized VALUES (24, 'Kavita Desai', 'Mumbai', 'Mixer, Grinder', 2150)\n",
    "  INTO Orders_Unnormalized VALUES (25, 'Meena Joshi', 'Pune', 'TV, Remote', 2200)\n",
    "  INTO Orders_Unnormalized VALUES (26, 'Suresh Reddy', 'Delhi', 'Chair, Table', 2250)\n",
    "  INTO Orders_Unnormalized VALUES (27, 'Ananya Rao', 'Kolkata', 'Pen, Notebook, Bag', 2300)\n",
    "  INTO Orders_Unnormalized VALUES (28, 'Rajesh Gupta', 'Jaipur', 'Shoes, Socks', 2350)\n",
    "  INTO Orders_Unnormalized VALUES (29, 'Neha Kulkarni', 'Ahmedabad', 'Watch, Earphones', 2400)\n",
    "  INTO Orders_Unnormalized VALUES (30, 'Manoj Verma', 'Lucknow', 'Fan, Cooler', 2450)\n",
    "SELECT * FROM dual;"
   ]
  },
  {
   "cell_type": "code",
   "execution_count": null,
   "id": "abe77803",
   "metadata": {},
   "outputs": [],
   "source": [
    "INSERT ALL\n",
    "  INTO Orders_Unnormalized VALUES (31, 'Arjun Sharma', 'Bengaluru', 'Laptop, Mouse', 2500)\n",
    "  INTO Orders_Unnormalized VALUES (32, 'Priya Nair', 'Chennai', 'Rice, Oil, Sugar', 2550)\n",
    "  INTO Orders_Unnormalized VALUES (33, 'Ramesh Iyer', 'Hyderabad', 'Mobile, Charger', 2600)\n",
    "  INTO Orders_Unnormalized VALUES (34, 'Kavita Desai', 'Mumbai', 'Mixer, Grinder', 2650)\n",
    "  INTO Orders_Unnormalized VALUES (35, 'Meena Joshi', 'Pune', 'TV, Remote', 2700)\n",
    "  INTO Orders_Unnormalized VALUES (36, 'Suresh Reddy', 'Delhi', 'Chair, Table', 2750)\n",
    "  INTO Orders_Unnormalized VALUES (37, 'Ananya Rao', 'Kolkata', 'Pen, Notebook, Bag', 2800)\n",
    "  INTO Orders_Unnormalized VALUES (38, 'Rajesh Gupta', 'Jaipur', 'Shoes, Socks', 2850)\n",
    "  INTO Orders_Unnormalized VALUES (39, 'Neha Kulkarni', 'Ahmedabad', 'Watch, Earphones', 2900)\n",
    "  INTO Orders_Unnormalized VALUES (40, 'Manoj Verma', 'Lucknow', 'Fan, Cooler', 2950)\n",
    "SELECT * FROM dual;"
   ]
  },
  {
   "cell_type": "code",
   "execution_count": null,
   "id": "8fb36ac8",
   "metadata": {},
   "outputs": [],
   "source": [
    "INSERT ALL\n",
    "  INTO Orders_Unnormalized VALUES (41, 'Arjun Sharma', 'Bengaluru', 'Laptop, Mouse', 3000)\n",
    "  INTO Orders_Unnormalized VALUES (42, 'Priya Nair', 'Chennai', 'Rice, Oil, Sugar', 3050)\n",
    "  INTO Orders_Unnormalized VALUES (43, 'Ramesh Iyer', 'Hyderabad', 'Mobile, Charger', 3100)\n",
    "  INTO Orders_Unnormalized VALUES (44, 'Kavita Desai', 'Mumbai', 'Mixer, Grinder', 3150)\n",
    "  INTO Orders_Unnormalized VALUES (45, 'Meena Joshi', 'Pune', 'TV, Remote', 3200)\n",
    "  INTO Orders_Unnormalized VALUES (46, 'Suresh Reddy', 'Delhi', 'Chair, Table', 3250)\n",
    "  INTO Orders_Unnormalized VALUES (47, 'Ananya Rao', 'Kolkata', 'Pen, Notebook, Bag', 3300)\n",
    "  INTO Orders_Unnormalized VALUES (48, 'Rajesh Gupta', 'Jaipur', 'Shoes, Socks', 3350)\n",
    "  INTO Orders_Unnormalized VALUES (49, 'Neha Kulkarni', 'Ahmedabad', 'Watch, Earphones', 3400)\n",
    "  INTO Orders_Unnormalized VALUES (50, 'Manoj Verma', 'Lucknow', 'Fan, Cooler', 3450)\n",
    "SELECT * FROM dual;"
   ]
  },
  {
   "cell_type": "code",
   "execution_count": null,
   "id": "f2ee0e64",
   "metadata": {},
   "outputs": [],
   "source": [
    "SELECT * FROM Orders_Unnormalized;"
   ]
  },
  {
   "cell_type": "markdown",
   "id": "c43cd4d3",
   "metadata": {},
   "source": [
    "### Summary\n",
    "- This unnormalized table violates 1NF because `ProductList` has repeating groups.\n",
    "- Redundancy: Customer data is repeated across many rows.\n",
    "- Update anomaly: Changing address for 'Arjun Sharma' requires editing multiple rows.\n",
    "- Deletion anomaly: If the only order containing 'Mobile' is deleted, product info is lost.\n",
    "- Insertion anomaly: Cannot add a new product without tying it to an order."
   ]
  }
 ],
 "metadata": {
  "language_info": {
   "name": "python"
  }
 },
 "nbformat": 4,
 "nbformat_minor": 5
}
