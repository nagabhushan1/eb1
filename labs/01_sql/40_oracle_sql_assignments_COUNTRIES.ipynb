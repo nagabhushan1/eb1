{
 "cells": [
  {
   "cell_type": "markdown",
   "id": "ae2e23e2",
   "metadata": {},
   "source": [
    "## SQL Assignments - COUNTRIES Schema\n",
    "\n",
    "1. Query the **COUNTRIES** table in the **COUNTRIES** schema to return records where the population is over 200 million. Sort the results in descending population order.\n",
    "\n",
    "2. In the **COUNTRIES** table of the **COUNTRIES** schema filter records to return those where BOTH of the following conditions are met:\n",
    "\n",
    "   **Condition 1:** The population is between 100 and 200 million (inclusive) OR the area of the country is over 5 million km²\n",
    "\n",
    "   **Condition 2:** The country name is a single word (contains no whitespaces)\n",
    "\n",
    "3. From the **COUNTRIES** table in the **COUNTRIES** schema, return a column called `density_km2` (which is the population divided by the area_km2) in addition to the name, population and area_km2 columns.\n",
    "\n",
    "   Add another column to your query called `density_class` which returns ‘High’ if the density_km2 value is over 500, ‘Medium’ if its less than or equal to 500 but higher than 100 and ‘Low’ if its 100 or less.\n",
    "\n",
    "   Filter the resulting table to include only records where the `density_class` is ‘High’.\n",
    "\n",
    "4. Use the **COUNTRIES** table in the **COUNTRIES** schema to return a result that displays the average population (using an aggregate function) for each distinct `region_id`.\n",
    "\n",
    "   Alias the aggregate function expression as `avg_population` and round to 2 decimal places.\n",
    "\n",
    "5. Use the **COUNTRIES** table in the **COUNTRIES** schema to return a result that shows the total population, total area (km²) and population density (which is the population divided by the area (km²)) per each distinct `region_id`.\n",
    "\n",
    "   Order the results in descending order of population density.\n",
    "\n",
    "   *Note: You can alias the columns however you like.*\n",
    "\n",
    "6. Using the **COUNTRIES** schema, return a query that dynamically filters the **COUNTRIES** table to include only the countries where the population is higher than the total average population across all records in the countries table.\n",
    "\n",
    "   Turn this into a view called **vw_above_avg_population** in the **COUNTRIES** schema.\n",
    "\n",
    "   Drop the View.\n",
    "\n",
    "7. Use the **COUNTRIES** table in the **COUNTRIES** schema to return a query that displays the Region Name and Population for each region.\n",
    "\n",
    "   Order the results in descending order of Region Population."
   ]
  }
 ],
 "metadata": {
  "language_info": {
   "name": "python"
  }
 },
 "nbformat": 4,
 "nbformat_minor": 5
}
