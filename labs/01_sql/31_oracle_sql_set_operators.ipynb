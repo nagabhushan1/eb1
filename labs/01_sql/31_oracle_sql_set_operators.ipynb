{
 "cells": [
  {
   "cell_type": "markdown",
   "id": "2a130415",
   "metadata": {},
   "source": [
    "# Set Operators"
   ]
  },
  {
   "cell_type": "markdown",
   "id": "a34654c0",
   "metadata": {},
   "source": [
    "### UNION\n",
    "Combine rows from two queries while removing duplicates, also automatically sorts the resultset"
   ]
  },
  {
   "cell_type": "code",
   "execution_count": null,
   "id": "b1434b0a",
   "metadata": {},
   "outputs": [],
   "source": [
    "SELECT job FROM emp WHERE deptno = 10 UNION SELECT job FROM emp WHERE deptno = 20;"
   ]
  },
  {
   "cell_type": "markdown",
   "id": "0e220214",
   "metadata": {},
   "source": [
    "### UNION ALL\n",
    "Combine rows from two queries, returns unique + duplicate data, no automatic sorting of resultset"
   ]
  },
  {
   "cell_type": "code",
   "execution_count": null,
   "id": "359a8940",
   "metadata": {},
   "outputs": [],
   "source": [
    "SELECT job FROM emp WHERE deptno = 10 UNION ALL SELECT job FROM emp WHERE deptno = 20;"
   ]
  },
  {
   "cell_type": "markdown",
   "id": "c6e8c8e4",
   "metadata": {},
   "source": [
    "### INTERSECT\n",
    "Return only the rows common to both queries."
   ]
  },
  {
   "cell_type": "code",
   "execution_count": null,
   "id": "84752d34",
   "metadata": {},
   "outputs": [],
   "source": [
    "SELECT job FROM emp WHERE deptno = 10 INTERSECT SELECT job FROM emp WHERE deptno = 20;"
   ]
  },
  {
   "cell_type": "markdown",
   "id": "b2acdc0b",
   "metadata": {},
   "source": [
    "### MINUS\n",
    "Return rows from the first query that are not in the second query."
   ]
  },
  {
   "cell_type": "code",
   "execution_count": null,
   "id": "3dd24f01",
   "metadata": {},
   "outputs": [],
   "source": [
    "SELECT job FROM emp WHERE deptno = 10 MINUS SELECT job FROM emp WHERE deptno = 20;"
   ]
  }
 ],
 "metadata": {
  "language_info": {
   "name": "python"
  }
 },
 "nbformat": 4,
 "nbformat_minor": 5
}
