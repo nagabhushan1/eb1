{
 "cells": [
  {
   "cell_type": "markdown",
   "id": "ae28fa45",
   "metadata": {},
   "source": [
    "## Exploring EMP and DEPT Tables\n",
    "Check the structure and row count of EMP and DEPT tables."
   ]
  },
  {
   "cell_type": "code",
   "execution_count": null,
   "id": "18c06dcf",
   "metadata": {},
   "outputs": [],
   "source": [
    "DESC emp;"
   ]
  },
  {
   "cell_type": "code",
   "execution_count": null,
   "id": "e63cfa3f",
   "metadata": {},
   "outputs": [],
   "source": [
    "SELECT * FROM emp;"
   ]
  },
  {
   "cell_type": "code",
   "execution_count": null,
   "id": "12e9041e",
   "metadata": {},
   "outputs": [],
   "source": [
    "SELECT COUNT(*) FROM emp;"
   ]
  },
  {
   "cell_type": "code",
   "execution_count": null,
   "id": "0bf677bd",
   "metadata": {},
   "outputs": [],
   "source": [
    "DESC dept;"
   ]
  },
  {
   "cell_type": "code",
   "execution_count": null,
   "id": "86e7ed4a",
   "metadata": {},
   "outputs": [],
   "source": [
    "SELECT * FROM dept;"
   ]
  },
  {
   "cell_type": "code",
   "execution_count": null,
   "id": "62ec8191",
   "metadata": {},
   "outputs": [],
   "source": [
    "SELECT COUNT(*) FROM dept;"
   ]
  },
  {
   "cell_type": "markdown",
   "id": "07f6db51",
   "metadata": {},
   "source": [
    "## Cartesian Join\n",
    "Joining EMP and DEPT without a condition returns every possible combination of rows."
   ]
  },
  {
   "cell_type": "code",
   "execution_count": null,
   "id": "be48a2a8",
   "metadata": {},
   "outputs": [],
   "source": [
    "SELECT ename, sal, dname, loc FROM emp, dept;"
   ]
  },
  {
   "cell_type": "markdown",
   "id": "72514efa",
   "metadata": {},
   "source": [
    "## Ambiguous Column Reference\n",
    "When tables share column names, Oracle raises an error unless columns are qualified."
   ]
  },
  {
   "cell_type": "code",
   "execution_count": null,
   "id": "2d7f6c73",
   "metadata": {},
   "outputs": [],
   "source": [
    "SELECT ename, sal, deptno, dname, loc FROM emp, dept; -- Fails"
   ]
  },
  {
   "cell_type": "code",
   "execution_count": null,
   "id": "6cc6a4a0",
   "metadata": {},
   "outputs": [],
   "source": [
    "SELECT ename, sal, dept.deptno, dname, loc FROM emp, dept;"
   ]
  },
  {
   "cell_type": "markdown",
   "id": "bd8a31f5",
   "metadata": {},
   "source": [
    "## Using Aliases\n",
    "Aliases make queries shorter and clearer."
   ]
  },
  {
   "cell_type": "code",
   "execution_count": null,
   "id": "eb2d7a56",
   "metadata": {},
   "outputs": [],
   "source": [
    "SELECT e.ename, e.sal, d.deptno, d.dname, d.loc FROM emp e, dept d;"
   ]
  },
  {
   "cell_type": "markdown",
   "id": "778fe997",
   "metadata": {},
   "source": [
    "## Equi Join / Inner Join\n",
    "Select employees with their departments where DEPTNO matches."
   ]
  },
  {
   "cell_type": "code",
   "execution_count": null,
   "id": "184290bb",
   "metadata": {},
   "outputs": [],
   "source": [
    "SELECT e.ename, e.sal, d.deptno, d.dname, d.loc FROM emp e, dept d WHERE e.deptno = d.deptno;"
   ]
  },
  {
   "cell_type": "code",
   "execution_count": null,
   "id": "6ce67b60",
   "metadata": {},
   "outputs": [],
   "source": [
    "SELECT e.ename, e.sal, d.deptno, d.dname, d.loc FROM emp e JOIN dept d ON e.deptno = d.deptno;"
   ]
  },
  {
   "cell_type": "markdown",
   "id": "89229b6f",
   "metadata": {},
   "source": [
    "## Employees in Chicago\n",
    "Select employees who work in Chicago."
   ]
  },
  {
   "cell_type": "code",
   "execution_count": null,
   "id": "e0b131f8",
   "metadata": {},
   "outputs": [],
   "source": [
    "SELECT e.ename, d.loc FROM emp e JOIN dept d ON e.deptno = d.deptno WHERE d.loc = 'CHICAGO';"
   ]
  },
  {
   "cell_type": "markdown",
   "id": "fe5b8bca",
   "metadata": {},
   "source": [
    "## Employee–Manager Relationship\n",
    "Use a self join on EMP to display employee name and their manager name."
   ]
  },
  {
   "cell_type": "code",
   "execution_count": null,
   "id": "ffe32678",
   "metadata": {},
   "outputs": [],
   "source": [
    "SELECT e1.ename AS employee, e2.ename AS manager FROM emp e1 JOIN emp e2 ON e1.mgr = e2.empno;"
   ]
  },
  {
   "cell_type": "markdown",
   "id": "b87e5b96",
   "metadata": {},
   "source": [
    "Select employees whose salary is higher than their managers."
   ]
  },
  {
   "cell_type": "code",
   "execution_count": null,
   "id": "6104e87d",
   "metadata": {},
   "outputs": [],
   "source": [
    "SELECT e1.ename AS employee_name, e1.sal AS employee_salary,\n",
    "       e2.ename AS manager_name, e2.sal AS manager_salary \n",
    "FROM emp e1\n",
    "JOIN emp e2 ON e1.mgr = e2.empno\n",
    "WHERE e1.sal > e2.sal;"
   ]
  },
  {
   "cell_type": "markdown",
   "id": "36ff86bf",
   "metadata": {},
   "source": [
    "### Employees Above Average Salary\n",
    "Compare salaries against the average salary using *subqueries*."
   ]
  },
  {
   "cell_type": "code",
   "execution_count": null,
   "id": "9fed1b37",
   "metadata": {},
   "outputs": [],
   "source": [
    "SELECT AVG(sal) FROM emp;"
   ]
  },
  {
   "cell_type": "code",
   "execution_count": null,
   "id": "1661a754",
   "metadata": {},
   "outputs": [],
   "source": [
    "SELECT * FROM emp WHERE sal > (SELECT AVG(sal) FROM emp);"
   ]
  },
  {
   "cell_type": "code",
   "execution_count": null,
   "id": "9da4372f",
   "metadata": {},
   "outputs": [],
   "source": [
    "SELECT e.ename, e.sal\n",
    "FROM emp e\n",
    "JOIN (SELECT AVG(sal) AS avg_sal FROM emp) a\n",
    "  ON e.sal > a.avg_sal;"
   ]
  },
  {
   "cell_type": "markdown",
   "id": "7ed53ed4",
   "metadata": {},
   "source": [
    "## Non-Equi Joins and Outer Joins with Sample Tables\n",
    "Create sample tables T1 and T2 to demonstrate join types."
   ]
  },
  {
   "cell_type": "code",
   "execution_count": null,
   "id": "da3534dd",
   "metadata": {},
   "outputs": [],
   "source": [
    "CREATE TABLE t1(a VARCHAR(10), b VARCHAR(10), c VARCHAR(10));\n",
    "INSERT INTO t1 VALUES('x', 'y', 'z');\n",
    "INSERT INTO t1 VALUES('p', 'q', 'r');\n",
    "\n",
    "CREATE TABLE t2(a VARCHAR(10), b VARCHAR(10));\n",
    "INSERT INTO t2 VALUES('x', 'y');\n",
    "INSERT INTO t2 VALUES('u', 'v');"
   ]
  },
  {
   "cell_type": "code",
   "execution_count": null,
   "id": "77fba4af",
   "metadata": {},
   "outputs": [],
   "source": [
    "SELECT * FROM t1;"
   ]
  },
  {
   "cell_type": "code",
   "execution_count": null,
   "id": "9253cfb3",
   "metadata": {},
   "outputs": [],
   "source": [
    "SELECT * FROM t2;"
   ]
  },
  {
   "cell_type": "markdown",
   "id": "22d8dc17",
   "metadata": {},
   "source": [
    "## Inner Join\n",
    "Return only rows with matching values in both tables."
   ]
  },
  {
   "cell_type": "code",
   "execution_count": null,
   "id": "148f7c33",
   "metadata": {},
   "outputs": [],
   "source": [
    "SELECT * FROM t1 JOIN t2 ON t1.a = t2.a;"
   ]
  },
  {
   "cell_type": "markdown",
   "id": "f0820e75",
   "metadata": {},
   "source": [
    "## Left Join\n",
    "Return all rows from T1 and matching rows from T2."
   ]
  },
  {
   "cell_type": "code",
   "execution_count": null,
   "id": "1e717c76",
   "metadata": {},
   "outputs": [],
   "source": [
    "SELECT * FROM t1 LEFT JOIN t2 ON t1.a = t2.a;"
   ]
  },
  {
   "cell_type": "markdown",
   "id": "856ee992",
   "metadata": {},
   "source": [
    "## Left Outer Join\n",
    "Same as LEFT JOIN, explicitly using the OUTER keyword."
   ]
  },
  {
   "cell_type": "code",
   "execution_count": null,
   "id": "d678b18a",
   "metadata": {},
   "outputs": [],
   "source": [
    "SELECT * FROM t1 LEFT OUTER JOIN t2 ON t1.a = t2.a;"
   ]
  },
  {
   "cell_type": "markdown",
   "id": "542f75bf",
   "metadata": {},
   "source": [
    "## Right Join\n",
    "Return all rows from T2 and matching rows from T1."
   ]
  },
  {
   "cell_type": "code",
   "execution_count": null,
   "id": "472f8210",
   "metadata": {},
   "outputs": [],
   "source": [
    "SELECT * FROM t1 RIGHT JOIN t2 ON t1.a = t2.a;"
   ]
  },
  {
   "cell_type": "markdown",
   "id": "092e9653",
   "metadata": {},
   "source": [
    "## Right Outer Join\n",
    "Same as RIGHT JOIN, explicitly using the OUTER keyword."
   ]
  },
  {
   "cell_type": "code",
   "execution_count": null,
   "id": "c3780938",
   "metadata": {},
   "outputs": [],
   "source": [
    "SELECT * FROM t1 RIGHT OUTER JOIN t2 ON t1.a = t2.a;"
   ]
  },
  {
   "cell_type": "markdown",
   "id": "ecb1ab0a",
   "metadata": {},
   "source": [
    "## Full Join\n",
    "Return rows when there is a match in either table."
   ]
  },
  {
   "cell_type": "code",
   "execution_count": null,
   "id": "1c35030b",
   "metadata": {},
   "outputs": [],
   "source": [
    "SELECT * FROM t1 FULL JOIN t2 ON t1.a = t2.a;"
   ]
  },
  {
   "cell_type": "markdown",
   "id": "2098894e",
   "metadata": {},
   "source": [
    "## Full Outer Join\n",
    "Same as FULL JOIN, explicitly using the OUTER keyword."
   ]
  },
  {
   "cell_type": "code",
   "execution_count": null,
   "id": "110dbc63",
   "metadata": {},
   "outputs": [],
   "source": [
    "SELECT * FROM t1 FULL OUTER JOIN t2 ON t1.a = t2.a;"
   ]
  }
 ],
 "metadata": {
  "language_info": {
   "name": "python"
  }
 },
 "nbformat": 4,
 "nbformat_minor": 5
}
