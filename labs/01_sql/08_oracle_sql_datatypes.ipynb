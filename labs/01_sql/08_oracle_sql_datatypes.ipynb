{
 "cells": [
  {
   "cell_type": "markdown",
   "id": "98ea44db",
   "metadata": {},
   "source": [
    "# Oracle Datatypes"
   ]
  },
  {
   "cell_type": "markdown",
   "id": "549855b4",
   "metadata": {},
   "source": [
    "## NUMBER(P,S)\n",
    "**Syntax:** `NUMBER(P,S)` — **P**=total digits, **S**=digits after decimal. Digits before decimal = `P-S`.\n",
    "Extra decimals are **rounded**; exceeding total digits raises **ORA-01438**."
   ]
  },
  {
   "cell_type": "code",
   "execution_count": null,
   "id": "9a15c4f1",
   "metadata": {},
   "outputs": [],
   "source": [
    "DROP TABLE test;"
   ]
  },
  {
   "cell_type": "code",
   "execution_count": null,
   "id": "35fe4127",
   "metadata": {},
   "outputs": [],
   "source": [
    "CREATE TABLE test (sno NUMBER(7,2));"
   ]
  },
  {
   "cell_type": "code",
   "execution_count": null,
   "id": "1f243db0",
   "metadata": {},
   "outputs": [],
   "source": [
    "SELECT table_name FROM user_tables WHERE table_name = 'TEST';"
   ]
  },
  {
   "cell_type": "code",
   "execution_count": null,
   "id": "4715892e",
   "metadata": {},
   "outputs": [],
   "source": [
    "DESC test;"
   ]
  },
  {
   "cell_type": "markdown",
   "id": "af9550ce",
   "metadata": {},
   "source": [
    "### Valid inserts"
   ]
  },
  {
   "cell_type": "markdown",
   "id": "dbe5fb3c",
   "metadata": {},
   "source": [
    "Stored exactly; 5 digits before and 2 after the decimal."
   ]
  },
  {
   "cell_type": "code",
   "execution_count": null,
   "id": "b21d7eac",
   "metadata": {},
   "outputs": [],
   "source": [
    "INSERT INTO test VALUES (12345.67);"
   ]
  },
  {
   "cell_type": "code",
   "execution_count": null,
   "id": "5381d592",
   "metadata": {},
   "outputs": [],
   "source": [
    "SELECT * FROM test;"
   ]
  },
  {
   "cell_type": "code",
   "execution_count": null,
   "id": "362bd6f8",
   "metadata": {},
   "outputs": [],
   "source": [
    "INSERT INTO test VALUES (123.6);"
   ]
  },
  {
   "cell_type": "code",
   "execution_count": null,
   "id": "5b3c772e",
   "metadata": {},
   "outputs": [],
   "source": [
    "SELECT * FROM test;"
   ]
  },
  {
   "cell_type": "markdown",
   "id": "37c4edb2",
   "metadata": {},
   "source": [
    "### Invalid inserts"
   ]
  },
  {
   "cell_type": "markdown",
   "id": "d8097250",
   "metadata": {},
   "source": [
    "**ORA-01438** Error"
   ]
  },
  {
   "cell_type": "code",
   "execution_count": null,
   "id": "857cf139",
   "metadata": {},
   "outputs": [],
   "source": [
    "INSERT INTO test VALUES (123456.7);"
   ]
  },
  {
   "cell_type": "code",
   "execution_count": null,
   "id": "33c7c725",
   "metadata": {},
   "outputs": [],
   "source": [
    "SELECT * FROM test;"
   ]
  },
  {
   "cell_type": "markdown",
   "id": "acc048f6",
   "metadata": {},
   "source": [
    "Accepted but **rounded** to `12345.68` because S=2 (depending on client, insert succeeds and value rounds)."
   ]
  },
  {
   "cell_type": "code",
   "execution_count": null,
   "id": "741724ff",
   "metadata": {},
   "outputs": [],
   "source": [
    "INSERT INTO test VALUES (12345.6789);"
   ]
  },
  {
   "cell_type": "code",
   "execution_count": null,
   "id": "ee45d977",
   "metadata": {},
   "outputs": [],
   "source": [
    "SELECT * FROM test;"
   ]
  },
  {
   "cell_type": "markdown",
   "id": "b8f84f5f",
   "metadata": {},
   "source": [
    "## NUMBER(P)\n",
    "**Syntax:** `NUMBER(P)` — no scale, so Oracle stores whole numbers; decimals are **rounded to nearest integer**."
   ]
  },
  {
   "cell_type": "code",
   "execution_count": null,
   "id": "9ed52974",
   "metadata": {},
   "outputs": [],
   "source": [
    "DROP TABLE test;"
   ]
  },
  {
   "cell_type": "code",
   "execution_count": null,
   "id": "3edbb6eb",
   "metadata": {},
   "outputs": [],
   "source": [
    "CREATE TABLE test (sno NUMBER(7));"
   ]
  },
  {
   "cell_type": "code",
   "execution_count": null,
   "id": "2c237e23",
   "metadata": {},
   "outputs": [],
   "source": [
    "SELECT table_name FROM user_tables WHERE table_name = 'TEST';"
   ]
  },
  {
   "cell_type": "code",
   "execution_count": null,
   "id": "f9abb2e6",
   "metadata": {},
   "outputs": [],
   "source": [
    "DESC test;"
   ]
  },
  {
   "cell_type": "markdown",
   "id": "2fa6b74f",
   "metadata": {},
   "source": [
    "### Valid inserts"
   ]
  },
  {
   "cell_type": "markdown",
   "id": "5d2131c1",
   "metadata": {},
   "source": [
    "Rounded to `100` due to no scale."
   ]
  },
  {
   "cell_type": "code",
   "execution_count": null,
   "id": "3360d1ee",
   "metadata": {},
   "outputs": [],
   "source": [
    "INSERT INTO test VALUES (99.9);"
   ]
  },
  {
   "cell_type": "code",
   "execution_count": null,
   "id": "757bd4b2",
   "metadata": {},
   "outputs": [],
   "source": [
    "SELECT * FROM test;"
   ]
  },
  {
   "cell_type": "markdown",
   "id": "3d97f9c8",
   "metadata": {},
   "source": [
    "Exactly 7 digits → valid."
   ]
  },
  {
   "cell_type": "code",
   "execution_count": null,
   "id": "999b1c6e",
   "metadata": {},
   "outputs": [],
   "source": [
    "INSERT INTO test VALUES (1234567);"
   ]
  },
  {
   "cell_type": "code",
   "execution_count": null,
   "id": "1467cf98",
   "metadata": {},
   "outputs": [],
   "source": [
    "SELECT * FROM test;"
   ]
  },
  {
   "cell_type": "markdown",
   "id": "54cecb69",
   "metadata": {},
   "source": [
    "### Invalid inserts"
   ]
  },
  {
   "cell_type": "markdown",
   "id": "21dbe9c7",
   "metadata": {},
   "source": [
    "**ORA-01438** because 8 digits exceed precision 7."
   ]
  },
  {
   "cell_type": "code",
   "execution_count": null,
   "id": "b6aed9e7",
   "metadata": {},
   "outputs": [],
   "source": [
    "INSERT INTO test VALUES (12345678);"
   ]
  },
  {
   "cell_type": "code",
   "execution_count": null,
   "id": "c109a9af",
   "metadata": {},
   "outputs": [],
   "source": [
    "SELECT * FROM test;"
   ]
  },
  {
   "cell_type": "markdown",
   "id": "46daafe1",
   "metadata": {},
   "source": [
    "Rounded to `99` (demonstrates decimal rounding)."
   ]
  },
  {
   "cell_type": "code",
   "execution_count": null,
   "id": "d52dfed3",
   "metadata": {},
   "outputs": [],
   "source": [
    "INSERT INTO test VALUES (99.4);"
   ]
  },
  {
   "cell_type": "code",
   "execution_count": null,
   "id": "4dedb067",
   "metadata": {},
   "outputs": [],
   "source": [
    "SELECT * FROM test;"
   ]
  },
  {
   "cell_type": "markdown",
   "id": "dbbf9751",
   "metadata": {},
   "source": [
    "## INTEGER and FLOAT\n",
    "- `INTEGER` is a subtype of NUMBER with scale 0 (whole numbers).\n",
    "- `FLOAT` is approximate (binary floating), precision optional."
   ]
  },
  {
   "cell_type": "code",
   "execution_count": null,
   "id": "b92e4c55",
   "metadata": {},
   "outputs": [],
   "source": [
    "DROP TABLE test;"
   ]
  },
  {
   "cell_type": "code",
   "execution_count": null,
   "id": "a8fa8390",
   "metadata": {},
   "outputs": [],
   "source": [
    "CREATE TABLE test (i INTEGER, f FLOAT);"
   ]
  },
  {
   "cell_type": "code",
   "execution_count": null,
   "id": "e02e5671",
   "metadata": {},
   "outputs": [],
   "source": [
    "SELECT table_name FROM user_tables WHERE table_name = 'TEST';"
   ]
  },
  {
   "cell_type": "code",
   "execution_count": null,
   "id": "a0641e43",
   "metadata": {},
   "outputs": [],
   "source": [
    "DESC test;"
   ]
  },
  {
   "cell_type": "markdown",
   "id": "b425a5ba",
   "metadata": {},
   "source": [
    "### Valid inserts"
   ]
  },
  {
   "cell_type": "markdown",
   "id": "7de1004d",
   "metadata": {},
   "source": [
    "`i` stores 42; `f` stores an approximate value close to 3.14159 (binary)."
   ]
  },
  {
   "cell_type": "code",
   "execution_count": null,
   "id": "b2f8bcb3",
   "metadata": {},
   "outputs": [],
   "source": [
    "INSERT INTO test (i,f) VALUES (42, 3.14159);"
   ]
  },
  {
   "cell_type": "code",
   "execution_count": null,
   "id": "44911fe3",
   "metadata": {},
   "outputs": [],
   "source": [
    "SELECT * FROM test;"
   ]
  },
  {
   "cell_type": "markdown",
   "id": "e46fb6f0",
   "metadata": {},
   "source": [
    "Large magnitude is allowed for `FLOAT`."
   ]
  },
  {
   "cell_type": "code",
   "execution_count": null,
   "id": "2d113f05",
   "metadata": {},
   "outputs": [],
   "source": [
    "INSERT INTO test (i,f) VALUES (0, 1e125);"
   ]
  },
  {
   "cell_type": "code",
   "execution_count": null,
   "id": "194530b1",
   "metadata": {},
   "outputs": [],
   "source": [
    "SELECT * FROM test;"
   ]
  },
  {
   "cell_type": "markdown",
   "id": "5bc5e052",
   "metadata": {},
   "source": [
    "For `i` Oracle rounds to 4 (INTEGER behaves like NUMBER with scale 0)."
   ]
  },
  {
   "cell_type": "code",
   "execution_count": null,
   "id": "f2d39bb5",
   "metadata": {},
   "outputs": [],
   "source": [
    "INSERT INTO test (i,f) VALUES (3.7, 2.5);"
   ]
  },
  {
   "cell_type": "code",
   "execution_count": null,
   "id": "bfbad05e",
   "metadata": {},
   "outputs": [],
   "source": [
    "SELECT * FROM test;"
   ]
  },
  {
   "cell_type": "markdown",
   "id": "9defd405",
   "metadata": {},
   "source": [
    "May overflow depending on environment — demonstrates limits."
   ]
  },
  {
   "cell_type": "code",
   "execution_count": null,
   "id": "02e066c0",
   "metadata": {},
   "outputs": [],
   "source": [
    "INSERT INTO test (i,f) VALUES (1, 1e4000);"
   ]
  },
  {
   "cell_type": "code",
   "execution_count": null,
   "id": "630efa51",
   "metadata": {},
   "outputs": [],
   "source": [
    "SELECT * FROM test;"
   ]
  },
  {
   "cell_type": "markdown",
   "id": "a18eb25e",
   "metadata": {},
   "source": [
    "## BINARY_FLOAT and BINARY_DOUBLE\n",
    "IEEE 754 single- and double-precision approximate numeric types."
   ]
  },
  {
   "cell_type": "code",
   "execution_count": null,
   "id": "1efd3093",
   "metadata": {},
   "outputs": [],
   "source": [
    "DROP TABLE test;"
   ]
  },
  {
   "cell_type": "code",
   "execution_count": null,
   "id": "c77dcadd",
   "metadata": {},
   "outputs": [],
   "source": [
    "CREATE TABLE test (bf BINARY_FLOAT, bd BINARY_DOUBLE);"
   ]
  },
  {
   "cell_type": "code",
   "execution_count": null,
   "id": "86577a81",
   "metadata": {},
   "outputs": [],
   "source": [
    "SELECT table_name FROM user_tables WHERE table_name = 'TEST';"
   ]
  },
  {
   "cell_type": "code",
   "execution_count": null,
   "id": "7398a26a",
   "metadata": {},
   "outputs": [],
   "source": [
    "DESC test;"
   ]
  },
  {
   "cell_type": "markdown",
   "id": "b5aa2a1d",
   "metadata": {},
   "source": [
    "### Valid inserts"
   ]
  },
  {
   "cell_type": "markdown",
   "id": "830ba656",
   "metadata": {},
   "source": [
    "Stored using IEEE754, so some decimal fractions are not exact."
   ]
  },
  {
   "cell_type": "code",
   "execution_count": null,
   "id": "89c9850b",
   "metadata": {},
   "outputs": [],
   "source": [
    "INSERT INTO test VALUES (CAST(1.2345 AS BINARY_FLOAT), CAST(1.234567890123 AS BINARY_DOUBLE));"
   ]
  },
  {
   "cell_type": "code",
   "execution_count": null,
   "id": "6a0f2fd2",
   "metadata": {},
   "outputs": [],
   "source": [
    "SELECT * FROM test;"
   ]
  },
  {
   "cell_type": "markdown",
   "id": "4170c987",
   "metadata": {},
   "source": [
    "Demonstrates special values (Infinity/NaN)."
   ]
  },
  {
   "cell_type": "code",
   "execution_count": null,
   "id": "f1c7026a",
   "metadata": {},
   "outputs": [],
   "source": [
    "INSERT INTO test VALUES (BINARY_FLOAT_INFINITY, BINARY_DOUBLE_NAN);"
   ]
  },
  {
   "cell_type": "code",
   "execution_count": null,
   "id": "43b4d582",
   "metadata": {},
   "outputs": [],
   "source": [
    "SELECT * FROM test;"
   ]
  },
  {
   "cell_type": "markdown",
   "id": "3edc91dd",
   "metadata": {},
   "source": [
    "### Invalid inserts"
   ]
  },
  {
   "cell_type": "markdown",
   "id": "50eac71a",
   "metadata": {},
   "source": [
    "**ORA-01722** invalid number — cannot convert text to numeric."
   ]
  },
  {
   "cell_type": "code",
   "execution_count": null,
   "id": "edfd787a",
   "metadata": {},
   "outputs": [],
   "source": [
    "INSERT INTO test VALUES ('abc','xyz');"
   ]
  },
  {
   "cell_type": "code",
   "execution_count": null,
   "id": "8df63241",
   "metadata": {},
   "outputs": [],
   "source": [
    "SELECT * FROM test;"
   ]
  },
  {
   "cell_type": "markdown",
   "id": "dce884bb",
   "metadata": {},
   "source": [
    "Very large single-precision may overflow to Infinity."
   ]
  },
  {
   "cell_type": "code",
   "execution_count": null,
   "id": "01b0d1d2",
   "metadata": {},
   "outputs": [],
   "source": [
    "INSERT INTO test VALUES (CAST(1e100 AS BINARY_FLOAT), 0);"
   ]
  },
  {
   "cell_type": "code",
   "execution_count": null,
   "id": "1d70d01b",
   "metadata": {},
   "outputs": [],
   "source": [
    "SELECT * FROM test;"
   ]
  },
  {
   "cell_type": "markdown",
   "id": "331c522b",
   "metadata": {},
   "source": [
    "## CHAR(size)\n",
    "Fixed-length character; Oracle **blank-pads** to the declared size. Max 2000 bytes."
   ]
  },
  {
   "cell_type": "code",
   "execution_count": null,
   "id": "487538ee",
   "metadata": {},
   "outputs": [],
   "source": [
    "DROP TABLE test;"
   ]
  },
  {
   "cell_type": "code",
   "execution_count": null,
   "id": "cd755f32",
   "metadata": {},
   "outputs": [],
   "source": [
    "CREATE TABLE test (name CHAR(5));"
   ]
  },
  {
   "cell_type": "code",
   "execution_count": null,
   "id": "42853567",
   "metadata": {},
   "outputs": [],
   "source": [
    "SELECT table_name FROM user_tables WHERE table_name = 'TEST';"
   ]
  },
  {
   "cell_type": "code",
   "execution_count": null,
   "id": "8ab1e1b6",
   "metadata": {},
   "outputs": [],
   "source": [
    "DESC test;"
   ]
  },
  {
   "cell_type": "markdown",
   "id": "af084ccd",
   "metadata": {},
   "source": [
    "### Valid inserts"
   ]
  },
  {
   "cell_type": "markdown",
   "id": "61a236a1",
   "metadata": {},
   "source": [
    "Stored as `'abc  '` (2 trailing spaces); length reported as 5."
   ]
  },
  {
   "cell_type": "code",
   "execution_count": null,
   "id": "ab23fbce",
   "metadata": {},
   "outputs": [],
   "source": [
    "INSERT INTO test VALUES ('abc');"
   ]
  },
  {
   "cell_type": "code",
   "execution_count": null,
   "id": "09f3ead4",
   "metadata": {},
   "outputs": [],
   "source": [
    "SELECT name, LENGTH(name) AS len FROM test;"
   ]
  },
  {
   "cell_type": "markdown",
   "id": "322ac7fe",
   "metadata": {},
   "source": [
    "Implicit numeric→char conversion; value becomes `'123  '`."
   ]
  },
  {
   "cell_type": "code",
   "execution_count": null,
   "id": "b02f0225",
   "metadata": {},
   "outputs": [],
   "source": [
    "INSERT INTO test VALUES (TO_CHAR(123));"
   ]
  },
  {
   "cell_type": "code",
   "execution_count": null,
   "id": "6ff9a0bf",
   "metadata": {},
   "outputs": [],
   "source": [
    "SELECT name, LENGTH(name) AS len FROM test;"
   ]
  },
  {
   "cell_type": "markdown",
   "id": "2ffca357",
   "metadata": {},
   "source": [
    "### Invalid inserts"
   ]
  },
  {
   "cell_type": "markdown",
   "id": "1b6864dd",
   "metadata": {},
   "source": [
    "**ORA-12899** value too large (length > 5)."
   ]
  },
  {
   "cell_type": "code",
   "execution_count": null,
   "id": "7c89706b",
   "metadata": {},
   "outputs": [],
   "source": [
    "INSERT INTO test VALUES ('abcdef');"
   ]
  },
  {
   "cell_type": "code",
   "execution_count": null,
   "id": "bbe0fdbc",
   "metadata": {},
   "outputs": [],
   "source": [
    "SELECT * FROM test;"
   ]
  },
  {
   "cell_type": "markdown",
   "id": "4189084c",
   "metadata": {},
   "source": [
    "Empty string is **NULL** in Oracle (not an error, illustrates behavior)."
   ]
  },
  {
   "cell_type": "code",
   "execution_count": null,
   "id": "aa507ea4",
   "metadata": {},
   "outputs": [],
   "source": [
    "INSERT INTO test VALUES (NULL);"
   ]
  },
  {
   "cell_type": "code",
   "execution_count": null,
   "id": "27b8818d",
   "metadata": {},
   "outputs": [],
   "source": [
    "SELECT * FROM test;"
   ]
  },
  {
   "cell_type": "markdown",
   "id": "e1c48b74",
   "metadata": {},
   "source": [
    "## VARCHAR2(size)\n",
    "Variable-length character; no padding. Max 4000 bytes."
   ]
  },
  {
   "cell_type": "code",
   "execution_count": null,
   "id": "0633c95a",
   "metadata": {},
   "outputs": [],
   "source": [
    "DROP TABLE test;"
   ]
  },
  {
   "cell_type": "code",
   "execution_count": null,
   "id": "1a596ec0",
   "metadata": {},
   "outputs": [],
   "source": [
    "CREATE TABLE test (name VARCHAR2(5));"
   ]
  },
  {
   "cell_type": "code",
   "execution_count": null,
   "id": "1f04be28",
   "metadata": {},
   "outputs": [],
   "source": [
    "SELECT table_name FROM user_tables WHERE table_name = 'TEST';"
   ]
  },
  {
   "cell_type": "code",
   "execution_count": null,
   "id": "fd7f7423",
   "metadata": {},
   "outputs": [],
   "source": [
    "DESC test;"
   ]
  },
  {
   "cell_type": "markdown",
   "id": "e37bebb0",
   "metadata": {},
   "source": [
    "### Valid inserts"
   ]
  },
  {
   "cell_type": "markdown",
   "id": "5bb81031",
   "metadata": {},
   "source": [
    "Stored exactly `'abc'`; length 3."
   ]
  },
  {
   "cell_type": "code",
   "execution_count": null,
   "id": "1b4f7efa",
   "metadata": {},
   "outputs": [],
   "source": [
    "INSERT INTO test VALUES ('abc');"
   ]
  },
  {
   "cell_type": "code",
   "execution_count": null,
   "id": "d612a0e0",
   "metadata": {},
   "outputs": [],
   "source": [
    "SELECT name, LENGTH(name) AS len FROM test;"
   ]
  },
  {
   "cell_type": "markdown",
   "id": "332561a5",
   "metadata": {},
   "source": [
    "Implicit timestamp→ Invalid value too large"
   ]
  },
  {
   "cell_type": "code",
   "execution_count": null,
   "id": "fa33429c",
   "metadata": {},
   "outputs": [],
   "source": [
    "INSERT INTO test VALUES (TO_CHAR(SYSTIMESTAMP));"
   ]
  },
  {
   "cell_type": "code",
   "execution_count": null,
   "id": "be9c40a6",
   "metadata": {},
   "outputs": [],
   "source": [
    "SELECT name FROM test;"
   ]
  },
  {
   "cell_type": "markdown",
   "id": "826adf22",
   "metadata": {},
   "source": [
    "### Invalid inserts"
   ]
  },
  {
   "cell_type": "markdown",
   "id": "d103f3f7",
   "metadata": {},
   "source": [
    "**ORA-12899**: string longer than 5."
   ]
  },
  {
   "cell_type": "code",
   "execution_count": null,
   "id": "d677911c",
   "metadata": {},
   "outputs": [],
   "source": [
    "INSERT INTO test VALUES ('abcdef');"
   ]
  },
  {
   "cell_type": "code",
   "execution_count": null,
   "id": "9263b19f",
   "metadata": {},
   "outputs": [],
   "source": [
    "SELECT * FROM test;"
   ]
  },
  {
   "cell_type": "markdown",
   "id": "97b4352d",
   "metadata": {},
   "source": [
    "Without TO_CHAR, Oracle attempts implicit conversion; may error if format model mismatches."
   ]
  },
  {
   "cell_type": "code",
   "execution_count": null,
   "id": "813d9baf",
   "metadata": {},
   "outputs": [],
   "source": [
    "INSERT INTO test VALUES (SYSTIMESTAMP);"
   ]
  },
  {
   "cell_type": "code",
   "execution_count": null,
   "id": "2feccf11",
   "metadata": {},
   "outputs": [],
   "source": [
    "SELECT * FROM test;"
   ]
  },
  {
   "cell_type": "markdown",
   "id": "d0d71a90",
   "metadata": {},
   "source": [
    "## VARCHAR(size) — ANSI compatibility\n",
    "Treated like `VARCHAR2` in Oracle; historically 2000-byte max."
   ]
  },
  {
   "cell_type": "code",
   "execution_count": null,
   "id": "657e33d7",
   "metadata": {},
   "outputs": [],
   "source": [
    "DROP TABLE test;"
   ]
  },
  {
   "cell_type": "code",
   "execution_count": null,
   "id": "0c050811",
   "metadata": {},
   "outputs": [],
   "source": [
    "CREATE TABLE test (name VARCHAR(5));"
   ]
  },
  {
   "cell_type": "code",
   "execution_count": null,
   "id": "cf16e4e6",
   "metadata": {},
   "outputs": [],
   "source": [
    "SELECT table_name FROM user_tables WHERE table_name = 'TEST';"
   ]
  },
  {
   "cell_type": "code",
   "execution_count": null,
   "id": "555a5756",
   "metadata": {},
   "outputs": [],
   "source": [
    "DESC test;"
   ]
  },
  {
   "cell_type": "markdown",
   "id": "801c79a8",
   "metadata": {},
   "source": [
    "### Valid inserts"
   ]
  },
  {
   "cell_type": "markdown",
   "id": "9d923b3d",
   "metadata": {},
   "source": [
    "Behaves like `VARCHAR2(5)`."
   ]
  },
  {
   "cell_type": "code",
   "execution_count": null,
   "id": "c8d92475",
   "metadata": {},
   "outputs": [],
   "source": [
    "INSERT INTO test VALUES ('xy');"
   ]
  },
  {
   "cell_type": "code",
   "execution_count": null,
   "id": "ca795a2d",
   "metadata": {},
   "outputs": [],
   "source": [
    "SELECT * FROM test;"
   ]
  },
  {
   "cell_type": "markdown",
   "id": "5bf1cecd",
   "metadata": {},
   "source": [
    "Stores `'abc'`."
   ]
  },
  {
   "cell_type": "code",
   "execution_count": null,
   "id": "01275f5a",
   "metadata": {},
   "outputs": [],
   "source": [
    "INSERT INTO test VALUES ('abc');"
   ]
  },
  {
   "cell_type": "code",
   "execution_count": null,
   "id": "0a227bdf",
   "metadata": {},
   "outputs": [],
   "source": [
    "SELECT * FROM test;"
   ]
  },
  {
   "cell_type": "markdown",
   "id": "9ad50d6f",
   "metadata": {},
   "source": [
    "### Invalid inserts"
   ]
  },
  {
   "cell_type": "markdown",
   "id": "a337319b",
   "metadata": {},
   "source": [
    "**ORA-12899**: too long for 5."
   ]
  },
  {
   "cell_type": "code",
   "execution_count": null,
   "id": "f24e14c3",
   "metadata": {},
   "outputs": [],
   "source": [
    "INSERT INTO test VALUES ('abcdef');"
   ]
  },
  {
   "cell_type": "code",
   "execution_count": null,
   "id": "83c50574",
   "metadata": {},
   "outputs": [],
   "source": [
    "SELECT * FROM test;"
   ]
  },
  {
   "cell_type": "markdown",
   "id": "c25d0451",
   "metadata": {},
   "source": [
    "Implicit date→char allowed; shows format dependence (use TO_CHAR)."
   ]
  },
  {
   "cell_type": "code",
   "execution_count": null,
   "id": "719a7164",
   "metadata": {},
   "outputs": [],
   "source": [
    "INSERT INTO test VALUES (DATE '2025-01-01');"
   ]
  },
  {
   "cell_type": "code",
   "execution_count": null,
   "id": "ea1f0ef5",
   "metadata": {},
   "outputs": [],
   "source": [
    "SELECT * FROM test;"
   ]
  },
  {
   "cell_type": "markdown",
   "id": "8cda035e",
   "metadata": {},
   "source": [
    "## LONG \n",
    "Character data up to 2 GB; only one LONG column per table; "
   ]
  },
  {
   "cell_type": "code",
   "execution_count": null,
   "id": "a77e29b7",
   "metadata": {},
   "outputs": [],
   "source": [
    "DROP TABLE test;"
   ]
  },
  {
   "cell_type": "code",
   "execution_count": null,
   "id": "a306826f",
   "metadata": {},
   "outputs": [],
   "source": [
    "CREATE TABLE test (notes LONG);"
   ]
  },
  {
   "cell_type": "code",
   "execution_count": null,
   "id": "9f013aea",
   "metadata": {},
   "outputs": [],
   "source": [
    "SELECT table_name FROM user_tables WHERE table_name = 'TEST';"
   ]
  },
  {
   "cell_type": "code",
   "execution_count": null,
   "id": "b60f336d",
   "metadata": {},
   "outputs": [],
   "source": [
    "DESC test;"
   ]
  },
  {
   "cell_type": "markdown",
   "id": "78915ff2",
   "metadata": {},
   "source": [
    "### Valid inserts"
   ]
  },
  {
   "cell_type": "markdown",
   "id": "0f46e631",
   "metadata": {},
   "source": [
    "Stores large text (demo is short)."
   ]
  },
  {
   "cell_type": "code",
   "execution_count": null,
   "id": "0d87a972",
   "metadata": {},
   "outputs": [],
   "source": [
    "INSERT INTO test VALUES ('This is LONG data');"
   ]
  },
  {
   "cell_type": "code",
   "execution_count": null,
   "id": "610fd578",
   "metadata": {},
   "outputs": [],
   "source": [
    "SELECT * FROM test;"
   ]
  },
  {
   "cell_type": "markdown",
   "id": "1ba57cb1",
   "metadata": {},
   "source": [
    "Second row inserted."
   ]
  },
  {
   "cell_type": "code",
   "execution_count": null,
   "id": "5b6b2076",
   "metadata": {},
   "outputs": [],
   "source": [
    "INSERT INTO test VALUES ('More LONG data');"
   ]
  },
  {
   "cell_type": "code",
   "execution_count": null,
   "id": "205a7e08",
   "metadata": {},
   "outputs": [],
   "source": [
    "SELECT * FROM test;"
   ]
  },
  {
   "cell_type": "markdown",
   "id": "faff0fdd",
   "metadata": {},
   "source": [
    "## NCHAR / NVARCHAR2 (national character set)\n",
    "`NCHAR(size)` fixed-length; `NVARCHAR2(size)` variable-length Unicode."
   ]
  },
  {
   "cell_type": "code",
   "execution_count": null,
   "id": "e7ddbdb1",
   "metadata": {},
   "outputs": [],
   "source": [
    "DROP TABLE test;"
   ]
  },
  {
   "cell_type": "code",
   "execution_count": null,
   "id": "dfff0e7e",
   "metadata": {},
   "outputs": [],
   "source": [
    "CREATE TABLE test (c NCHAR(4), v NVARCHAR2(6));"
   ]
  },
  {
   "cell_type": "code",
   "execution_count": null,
   "id": "822bd754",
   "metadata": {},
   "outputs": [],
   "source": [
    "SELECT table_name FROM user_tables WHERE table_name = 'TEST';"
   ]
  },
  {
   "cell_type": "code",
   "execution_count": null,
   "id": "d4ec3d97",
   "metadata": {},
   "outputs": [],
   "source": [
    "DESC test;"
   ]
  },
  {
   "cell_type": "markdown",
   "id": "cc9f8f52",
   "metadata": {},
   "source": [
    "### Valid inserts"
   ]
  },
  {
   "cell_type": "code",
   "execution_count": null,
   "id": "fd4e2a00",
   "metadata": {},
   "outputs": [],
   "source": [
    "INSERT INTO test (c,v) VALUES (N'ಕವಿ', N'हिंदी');"
   ]
  },
  {
   "cell_type": "code",
   "execution_count": null,
   "id": "8c988ce7",
   "metadata": {},
   "outputs": [],
   "source": [
    "SELECT c, v FROM test;"
   ]
  },
  {
   "cell_type": "markdown",
   "id": "3ebe1651",
   "metadata": {},
   "source": [
    "### Invalid inserts"
   ]
  },
  {
   "cell_type": "code",
   "execution_count": null,
   "id": "2e588ee8",
   "metadata": {},
   "outputs": [],
   "source": [
    "INSERT INTO test (c,v) VALUES (N'भारत', N'संस्कृत');"
   ]
  },
  {
   "cell_type": "code",
   "execution_count": null,
   "id": "91e398e7",
   "metadata": {},
   "outputs": [],
   "source": [
    "SELECT * FROM test;"
   ]
  },
  {
   "cell_type": "markdown",
   "id": "27449d02",
   "metadata": {},
   "source": [
    "Implicit numeric→char conversions"
   ]
  },
  {
   "cell_type": "code",
   "execution_count": null,
   "id": "4a399471",
   "metadata": {},
   "outputs": [],
   "source": [
    "INSERT INTO test (c,v) VALUES (123, 456);"
   ]
  },
  {
   "cell_type": "code",
   "execution_count": null,
   "id": "66fca337",
   "metadata": {},
   "outputs": [],
   "source": [
    "SELECT * FROM test;"
   ]
  },
  {
   "cell_type": "markdown",
   "id": "34c27d51",
   "metadata": {},
   "source": [
    "## DATE\n",
    "Stores date+time to seconds. Default display via `NLS_DATE_FORMAT`."
   ]
  },
  {
   "cell_type": "code",
   "execution_count": null,
   "id": "b3ed99a2",
   "metadata": {},
   "outputs": [],
   "source": [
    "DROP TABLE test;"
   ]
  },
  {
   "cell_type": "code",
   "execution_count": null,
   "id": "75b02034",
   "metadata": {},
   "outputs": [],
   "source": [
    "CREATE TABLE test (d DATE);"
   ]
  },
  {
   "cell_type": "code",
   "execution_count": null,
   "id": "c9de33ec",
   "metadata": {},
   "outputs": [],
   "source": [
    "SELECT table_name FROM user_tables WHERE table_name = 'TEST';"
   ]
  },
  {
   "cell_type": "code",
   "execution_count": null,
   "id": "6a06f345",
   "metadata": {},
   "outputs": [],
   "source": [
    "DESC test;"
   ]
  },
  {
   "cell_type": "markdown",
   "id": "05d6b3e0",
   "metadata": {},
   "source": [
    "### Valid inserts"
   ]
  },
  {
   "cell_type": "markdown",
   "id": "5abcf8ca",
   "metadata": {},
   "source": [
    "ISO date literal; time defaults to 00:00:00."
   ]
  },
  {
   "cell_type": "code",
   "execution_count": null,
   "id": "a7be744c",
   "metadata": {},
   "outputs": [],
   "source": [
    "INSERT INTO test VALUES (DATE '2025-01-15');"
   ]
  },
  {
   "cell_type": "code",
   "execution_count": null,
   "id": "07175088",
   "metadata": {},
   "outputs": [],
   "source": [
    "SELECT * FROM test;"
   ]
  },
  {
   "cell_type": "markdown",
   "id": "e7161a85",
   "metadata": {},
   "source": [
    "`SYSTIMESTAMP` converted to DATE (drops fractional seconds and TZ)."
   ]
  },
  {
   "cell_type": "code",
   "execution_count": null,
   "id": "de890b1f",
   "metadata": {},
   "outputs": [],
   "source": [
    "INSERT INTO test VALUES (CAST(SYSTIMESTAMP AS DATE));"
   ]
  },
  {
   "cell_type": "code",
   "execution_count": null,
   "id": "ed193a06",
   "metadata": {},
   "outputs": [],
   "source": [
    "SELECT * FROM test;"
   ]
  },
  {
   "cell_type": "code",
   "execution_count": null,
   "id": "fa5d3d08",
   "metadata": {},
   "outputs": [],
   "source": [
    "INSERT INTO test VALUES (TIMESTAMP '2025-01-01 10:00:00');"
   ]
  },
  {
   "cell_type": "code",
   "execution_count": null,
   "id": "9aa7b774",
   "metadata": {},
   "outputs": [],
   "source": [
    "SELECT * FROM test;"
   ]
  },
  {
   "cell_type": "markdown",
   "id": "817be2a1",
   "metadata": {},
   "source": [
    "### Invalid inserts"
   ]
  },
  {
   "cell_type": "markdown",
   "id": "bffd4531",
   "metadata": {},
   "source": [
    "Invalid day → **ORA-01830/01858**."
   ]
  },
  {
   "cell_type": "code",
   "execution_count": null,
   "id": "ddc67acd",
   "metadata": {},
   "outputs": [],
   "source": [
    "INSERT INTO test VALUES ('32-DEC-25');"
   ]
  },
  {
   "cell_type": "code",
   "execution_count": null,
   "id": "13a4c6e5",
   "metadata": {},
   "outputs": [],
   "source": [
    "SELECT * FROM test;"
   ]
  },
  {
   "cell_type": "markdown",
   "id": "2598ebdf",
   "metadata": {},
   "source": [
    "## TIMESTAMP\n",
    "Date/time with fractional seconds; no time zone."
   ]
  },
  {
   "cell_type": "code",
   "execution_count": null,
   "id": "acb52a26",
   "metadata": {},
   "outputs": [],
   "source": [
    "DROP TABLE test;"
   ]
  },
  {
   "cell_type": "code",
   "execution_count": null,
   "id": "bcd09cb6",
   "metadata": {},
   "outputs": [],
   "source": [
    "CREATE TABLE test (ts TIMESTAMP);"
   ]
  },
  {
   "cell_type": "code",
   "execution_count": null,
   "id": "4b1b3b04",
   "metadata": {},
   "outputs": [],
   "source": [
    "SELECT table_name FROM user_tables WHERE table_name = 'TEST';"
   ]
  },
  {
   "cell_type": "code",
   "execution_count": null,
   "id": "359f774f",
   "metadata": {},
   "outputs": [],
   "source": [
    "DESC test;"
   ]
  },
  {
   "cell_type": "markdown",
   "id": "7cdac972",
   "metadata": {},
   "source": [
    "### Valid inserts"
   ]
  },
  {
   "cell_type": "markdown",
   "id": "3401da9d",
   "metadata": {},
   "source": [
    "Implicitly cast to TIMESTAMP (time zone dropped)."
   ]
  },
  {
   "cell_type": "code",
   "execution_count": null,
   "id": "661acc8f",
   "metadata": {},
   "outputs": [],
   "source": [
    "INSERT INTO test VALUES (SYSTIMESTAMP);"
   ]
  },
  {
   "cell_type": "code",
   "execution_count": null,
   "id": "f0cdb267",
   "metadata": {},
   "outputs": [],
   "source": [
    "SELECT * FROM test;"
   ]
  },
  {
   "cell_type": "markdown",
   "id": "98af7122",
   "metadata": {},
   "source": [
    "Explicit literal with fractional seconds."
   ]
  },
  {
   "cell_type": "code",
   "execution_count": null,
   "id": "7e471f7f",
   "metadata": {},
   "outputs": [],
   "source": [
    "INSERT INTO test VALUES (TIMESTAMP '2025-01-01 10:00:00.123456');"
   ]
  },
  {
   "cell_type": "code",
   "execution_count": null,
   "id": "46af342b",
   "metadata": {},
   "outputs": [],
   "source": [
    "SELECT * FROM test;"
   ]
  },
  {
   "cell_type": "markdown",
   "id": "020cbcf2",
   "metadata": {},
   "source": [
    "Implicit DATE→TIMESTAMP allowed (00:00:00); included to discuss conversion."
   ]
  },
  {
   "cell_type": "code",
   "execution_count": null,
   "id": "44c350fa",
   "metadata": {},
   "outputs": [],
   "source": [
    "INSERT INTO test VALUES (DATE '2025-01-01');"
   ]
  },
  {
   "cell_type": "code",
   "execution_count": null,
   "id": "1a315726",
   "metadata": {},
   "outputs": [],
   "source": [
    "SELECT * FROM test;"
   ]
  },
  {
   "cell_type": "markdown",
   "id": "80fc3c82",
   "metadata": {},
   "source": [
    "### Invalid inserts"
   ]
  },
  {
   "cell_type": "markdown",
   "id": "ca5a5200",
   "metadata": {},
   "source": [
    "Invalid month/day → **ORA-01843/01861**."
   ]
  },
  {
   "cell_type": "code",
   "execution_count": null,
   "id": "e72ff245",
   "metadata": {},
   "outputs": [],
   "source": [
    "INSERT INTO test VALUES ('2025-13-40 10:00:00');"
   ]
  },
  {
   "cell_type": "code",
   "execution_count": null,
   "id": "9a1ad410",
   "metadata": {},
   "outputs": [],
   "source": [
    "SELECT * FROM test;"
   ]
  }
 ],
 "metadata": {
  "language_info": {
   "name": "python"
  }
 },
 "nbformat": 4,
 "nbformat_minor": 5
}
