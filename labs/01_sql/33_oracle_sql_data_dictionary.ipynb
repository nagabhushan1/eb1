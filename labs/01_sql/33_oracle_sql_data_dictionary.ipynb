{
 "cells": [
  {
   "cell_type": "markdown",
   "id": "a0381a05",
   "metadata": {},
   "source": [
    "# Oracle Data Dictionary (Metadata)"
   ]
  },
  {
   "cell_type": "markdown",
   "id": "ceaf4076",
   "metadata": {},
   "source": [
    "### Introduction\n",
    "The Oracle **Data Dictionary** is a set of system views that provide metadata about database objects. \n",
    "\n",
    "- `USER_` views → show objects owned by the current user.\n",
    "- `ALL_` views → show objects the user can access (including those owned by others).\n",
    "- `DBA_` views → show all objects in the database (requires DBA privileges)."
   ]
  },
  {
   "cell_type": "markdown",
   "id": "6f558f2b",
   "metadata": {},
   "source": [
    "### Tables\n",
    "List all tables owned by the current user."
   ]
  },
  {
   "cell_type": "code",
   "execution_count": null,
   "id": "59eb57cc",
   "metadata": {},
   "outputs": [],
   "source": [
    "SELECT table_name FROM user_tables;"
   ]
  },
  {
   "cell_type": "markdown",
   "id": "ee8d23c5",
   "metadata": {},
   "source": [
    "Check storage and status of user tables."
   ]
  },
  {
   "cell_type": "code",
   "execution_count": null,
   "id": "bb5c77c6",
   "metadata": {},
   "outputs": [],
   "source": [
    "SELECT table_name, tablespace_name, status FROM user_tables;"
   ]
  },
  {
   "cell_type": "markdown",
   "id": "17dd45be",
   "metadata": {},
   "source": [
    "Describe a specific table structure (e.g., EMP table)."
   ]
  },
  {
   "cell_type": "code",
   "execution_count": null,
   "id": "ad99f7e5",
   "metadata": {},
   "outputs": [],
   "source": [
    "DESC emp;"
   ]
  },
  {
   "cell_type": "markdown",
   "id": "c4f2a75c",
   "metadata": {},
   "source": [
    "### Views\n",
    "List all views created by the current user."
   ]
  },
  {
   "cell_type": "code",
   "execution_count": null,
   "id": "5456df23",
   "metadata": {},
   "outputs": [],
   "source": [
    "SELECT view_name FROM user_views;"
   ]
  },
  {
   "cell_type": "markdown",
   "id": "886e8e72",
   "metadata": {},
   "source": [
    "Check the SQL definition of a specific view."
   ]
  },
  {
   "cell_type": "code",
   "execution_count": null,
   "id": "93c29ee3",
   "metadata": {},
   "outputs": [],
   "source": [
    "SELECT view_name, text FROM user_views WHERE view_name = 'EMP_ABOVE_AVG_SAL';"
   ]
  },
  {
   "cell_type": "markdown",
   "id": "3f6c4dff",
   "metadata": {},
   "source": [
    "### Materialized Views\n",
    "List all materialized views created by the current user."
   ]
  },
  {
   "cell_type": "code",
   "execution_count": null,
   "id": "bb9e1c32",
   "metadata": {},
   "outputs": [],
   "source": [
    "SELECT mview_name, last_refresh_date, refresh_mode FROM user_mviews;"
   ]
  },
  {
   "cell_type": "markdown",
   "id": "df46b184",
   "metadata": {},
   "source": [
    "Describe the structure of a materialized view (e.g., M1)."
   ]
  },
  {
   "cell_type": "code",
   "execution_count": null,
   "id": "8225ecfa",
   "metadata": {},
   "outputs": [],
   "source": [
    "DESC m1;"
   ]
  },
  {
   "cell_type": "markdown",
   "id": "211206d1",
   "metadata": {},
   "source": [
    "### Constraints\n",
    "List constraints defined on a specific table (e.g., EMP)."
   ]
  },
  {
   "cell_type": "code",
   "execution_count": null,
   "id": "6b0de7d0",
   "metadata": {},
   "outputs": [],
   "source": [
    "SELECT constraint_name, constraint_type, table_name \n",
    "FROM user_constraints \n",
    "WHERE table_name = 'EMP';"
   ]
  },
  {
   "cell_type": "markdown",
   "id": "12f0a165",
   "metadata": {},
   "source": [
    "List columns associated with constraints for a specific table."
   ]
  },
  {
   "cell_type": "code",
   "execution_count": null,
   "id": "b9c7a4ba",
   "metadata": {},
   "outputs": [],
   "source": [
    "SELECT constraint_name, column_name, position \n",
    "FROM user_cons_columns \n",
    "WHERE table_name = 'EMP';"
   ]
  }
 ],
 "metadata": {
  "language_info": {
   "name": "python"
  }
 },
 "nbformat": 4,
 "nbformat_minor": 5
}
