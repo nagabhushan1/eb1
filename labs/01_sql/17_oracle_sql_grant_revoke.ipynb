{
 "cells": [
  {
   "cell_type": "markdown",
   "id": "63b5a8d4",
   "metadata": {},
   "source": [
    "### Oracle SQL: GRANT and REVOKE\n",
    "\n",
    "We will:\n",
    "- Create a dedicated user `trainer_user`\n",
    "- Demonstrate a **DDL privilege** (CREATE TABLE)\n",
    "- Demonstrate a **DML privilege** (SELECT)\n",
    "\n",
    "👉 Open two SQL*Plus sessions:\n",
    "- One as `system`\n",
    "- Another as `trainer_user/trainer123@XEPDB1` (After the user is created)\n",
    "\n",
    "_Follow the instructions step by step._"
   ]
  },
  {
   "cell_type": "markdown",
   "id": "9804fd0a",
   "metadata": {},
   "source": [
    "#### Connect to Pluggable Database (PDB)\n",
    "Ensure you are inside `XEPDB1` container before creating users."
   ]
  },
  {
   "cell_type": "code",
   "execution_count": null,
   "id": "bf30deb0",
   "metadata": {},
   "outputs": [],
   "source": [
    "ALTER SESSION SET CONTAINER = XEPDB1;"
   ]
  },
  {
   "cell_type": "code",
   "execution_count": null,
   "id": "975c136c",
   "metadata": {},
   "outputs": [],
   "source": [
    "SHOW CON_NAME;"
   ]
  },
  {
   "cell_type": "markdown",
   "id": "e8a8e5ed",
   "metadata": {},
   "source": [
    "#### Create the user `trainer_user`\n",
    "We create the user with password `trainer123`, grant login privilege, and allow tablespace usage."
   ]
  },
  {
   "cell_type": "code",
   "execution_count": null,
   "id": "225d046a",
   "metadata": {},
   "outputs": [],
   "source": [
    "DROP USER trainer_user CASCADE;"
   ]
  },
  {
   "cell_type": "code",
   "execution_count": null,
   "id": "84435845",
   "metadata": {},
   "outputs": [],
   "source": [
    "CREATE USER trainer_user IDENTIFIED BY trainer123;"
   ]
  },
  {
   "cell_type": "code",
   "execution_count": null,
   "id": "f918059a",
   "metadata": {},
   "outputs": [],
   "source": [
    "GRANT CREATE SESSION TO trainer_user;"
   ]
  },
  {
   "cell_type": "code",
   "execution_count": null,
   "id": "970a0f1a",
   "metadata": {},
   "outputs": [],
   "source": [
    "ALTER USER trainer_user QUOTA UNLIMITED ON USERS;"
   ]
  },
  {
   "cell_type": "code",
   "execution_count": null,
   "id": "ea77c290",
   "metadata": {},
   "outputs": [],
   "source": [
    "ALTER USER trainer_user ACCOUNT UNLOCK;"
   ]
  },
  {
   "cell_type": "markdown",
   "id": "c77ee3ff",
   "metadata": {},
   "source": [
    "#### Verify that the user exists\n",
    "This confirms that the account is available in the current container."
   ]
  },
  {
   "cell_type": "code",
   "execution_count": null,
   "id": "7dab34c1",
   "metadata": {},
   "outputs": [],
   "source": [
    "SELECT username, account_status, common \n",
    "FROM dba_users \n",
    "WHERE username = 'TRAINER_USER';"
   ]
  },
  {
   "cell_type": "markdown",
   "id": "f804114b",
   "metadata": {},
   "source": [
    "#### Login as `trainer_user`\n",
    "From a new SQL*Plus session, connect as:\n"
   ]
  },
  {
   "cell_type": "code",
   "execution_count": null,
   "id": "9eb0bf42",
   "metadata": {},
   "outputs": [],
   "source": [
    "sqlplus trainer_user/trainer123@localhost:1521/XEPDB1"
   ]
  },
  {
   "cell_type": "markdown",
   "id": "3b52c0a4",
   "metadata": {},
   "source": [
    "Check the current user:"
   ]
  },
  {
   "cell_type": "code",
   "execution_count": null,
   "id": "7743eadb",
   "metadata": {},
   "outputs": [],
   "source": [
    "SHOW USER;"
   ]
  },
  {
   "cell_type": "markdown",
   "id": "0c66365e",
   "metadata": {},
   "source": [
    "#### DDL Privilege: CREATE TABLE\n",
    "\n",
    "This shows how the `CREATE TABLE` system privilege works."
   ]
  },
  {
   "cell_type": "markdown",
   "id": "3bee2f30",
   "metadata": {},
   "source": [
    "#### Without privilege\n",
    "Login as `trainer_user` and try:"
   ]
  },
  {
   "cell_type": "code",
   "execution_count": null,
   "id": "38182ca1",
   "metadata": {},
   "outputs": [],
   "source": [
    "CREATE TABLE demo_table(id NUMBER);"
   ]
  },
  {
   "cell_type": "markdown",
   "id": "6f5016a3",
   "metadata": {},
   "source": [
    "👉 Expect **ORA-01031: insufficient privileges**."
   ]
  },
  {
   "cell_type": "markdown",
   "id": "9bd91e45",
   "metadata": {},
   "source": [
    "#### Grant the privilege\n",
    "As `system`user run:"
   ]
  },
  {
   "cell_type": "code",
   "execution_count": null,
   "id": "96e8c73e",
   "metadata": {},
   "outputs": [],
   "source": [
    "GRANT CREATE TABLE TO trainer_user;"
   ]
  },
  {
   "cell_type": "markdown",
   "id": "182cd96c",
   "metadata": {},
   "source": [
    "#### With privilege\n",
    "Login as `trainer_user` again and retry:"
   ]
  },
  {
   "cell_type": "code",
   "execution_count": null,
   "id": "2b9e4b87",
   "metadata": {},
   "outputs": [],
   "source": [
    "CREATE TABLE demo_table(id NUMBER);"
   ]
  },
  {
   "cell_type": "markdown",
   "id": "952838ca",
   "metadata": {},
   "source": [
    "👉 This should now succeed."
   ]
  },
  {
   "cell_type": "markdown",
   "id": "3de9f665",
   "metadata": {},
   "source": [
    "#### Revoke the privilege\n",
    "As `system` user run:"
   ]
  },
  {
   "cell_type": "code",
   "execution_count": null,
   "id": "40e0721e",
   "metadata": {},
   "outputs": [],
   "source": [
    "REVOKE CREATE TABLE FROM trainer_user;"
   ]
  },
  {
   "cell_type": "markdown",
   "id": "4ff663bf",
   "metadata": {},
   "source": [
    "### After revoke\n",
    "As `trainer_user`, try again:"
   ]
  },
  {
   "cell_type": "code",
   "execution_count": null,
   "id": "9e9ff597",
   "metadata": {},
   "outputs": [],
   "source": [
    "CREATE TABLE demo_table2(id NUMBER);"
   ]
  },
  {
   "cell_type": "markdown",
   "id": "f716da01",
   "metadata": {},
   "source": [
    "👉 Expect **ORA-01031: insufficient privileges**"
   ]
  },
  {
   "cell_type": "markdown",
   "id": "112943f0",
   "metadata": {},
   "source": [
    "#### DML Privilege: SELECT\n",
    "\n",
    "This shows how object-level privileges work on tables owned by another user (SYSTEM)."
   ]
  },
  {
   "cell_type": "markdown",
   "id": "5a5be2f4",
   "metadata": {},
   "source": [
    "#### Create a sample table as SYSTEM user\n",
    "Insert a row for demonstration."
   ]
  },
  {
   "cell_type": "code",
   "execution_count": null,
   "id": "4afd1a17",
   "metadata": {},
   "outputs": [],
   "source": [
    "CREATE TABLE students (\n",
    "    student_id NUMBER PRIMARY KEY,\n",
    "    name VARCHAR2(50)\n",
    ");"
   ]
  },
  {
   "cell_type": "code",
   "execution_count": null,
   "id": "4f56b406",
   "metadata": {},
   "outputs": [],
   "source": [
    "INSERT INTO students VALUES (1, 'Arjun');"
   ]
  },
  {
   "cell_type": "code",
   "execution_count": null,
   "id": "180a5b31",
   "metadata": {},
   "outputs": [],
   "source": [
    "COMMIT;"
   ]
  },
  {
   "cell_type": "markdown",
   "id": "dbe463ff",
   "metadata": {},
   "source": [
    "#### Without privilege\n",
    "As `trainer_user`, try:"
   ]
  },
  {
   "cell_type": "code",
   "execution_count": null,
   "id": "7ac17427",
   "metadata": {},
   "outputs": [],
   "source": [
    "SELECT * FROM system.students;"
   ]
  },
  {
   "cell_type": "markdown",
   "id": "66983c69",
   "metadata": {},
   "source": [
    "👉 Expect **ORA-00942: table or view does not exist** (no access)."
   ]
  },
  {
   "cell_type": "markdown",
   "id": "d273a9b3",
   "metadata": {},
   "source": [
    "#### Grant SELECT privilege\n",
    "As `system` user run:"
   ]
  },
  {
   "cell_type": "code",
   "execution_count": null,
   "id": "68eb9a87",
   "metadata": {},
   "outputs": [],
   "source": [
    "GRANT SELECT ON students TO trainer_user;"
   ]
  },
  {
   "cell_type": "markdown",
   "id": "df26a6e5",
   "metadata": {},
   "source": [
    "#### With privilege\n",
    "As `trainer_user`, retry:"
   ]
  },
  {
   "cell_type": "code",
   "execution_count": null,
   "id": "812c6300",
   "metadata": {},
   "outputs": [],
   "source": [
    "SELECT * FROM system.students;"
   ]
  },
  {
   "cell_type": "markdown",
   "id": "c0ee59e7",
   "metadata": {},
   "source": [
    "👉 Now the query should succeed and return results"
   ]
  },
  {
   "cell_type": "markdown",
   "id": "79f15c45",
   "metadata": {},
   "source": [
    "### Try to INSERT"
   ]
  },
  {
   "cell_type": "code",
   "execution_count": null,
   "id": "082e785b",
   "metadata": {},
   "outputs": [],
   "source": [
    "INSERT INTO system.students VALUES(2, 'Ravi')"
   ]
  },
  {
   "cell_type": "markdown",
   "id": "4a0e94ba",
   "metadata": {},
   "source": [
    "👉 Expect **ORA-01031: insufficient privileges**"
   ]
  },
  {
   "cell_type": "markdown",
   "id": "c4a660f6",
   "metadata": {},
   "source": [
    "#### Grant INSERT privilege\n",
    "As `system` user run:"
   ]
  },
  {
   "cell_type": "code",
   "execution_count": null,
   "id": "98fd8fc8",
   "metadata": {},
   "outputs": [],
   "source": [
    "GRANT INSERT ON students TO trainer_user;"
   ]
  },
  {
   "cell_type": "markdown",
   "id": "24b51ca0",
   "metadata": {},
   "source": [
    "#### With privilege\n",
    "As `trainer_user`, retry:"
   ]
  },
  {
   "cell_type": "code",
   "execution_count": null,
   "id": "1bad6021",
   "metadata": {},
   "outputs": [],
   "source": [
    "INSERT INTO system.students VALUES(2, 'Ravi')"
   ]
  },
  {
   "cell_type": "code",
   "execution_count": null,
   "id": "ceb80f9f",
   "metadata": {},
   "outputs": [],
   "source": [
    "SELECT * FROM system.students;"
   ]
  },
  {
   "cell_type": "markdown",
   "id": "bad7ac92",
   "metadata": {},
   "source": [
    "#### Revoke the privilege\n",
    "As `system` run:"
   ]
  },
  {
   "cell_type": "code",
   "execution_count": null,
   "id": "5448e695",
   "metadata": {},
   "outputs": [],
   "source": [
    "REVOKE SELECT ON students FROM trainer_user;"
   ]
  },
  {
   "cell_type": "markdown",
   "id": "05d76a83",
   "metadata": {},
   "source": [
    "#### After revoke\n",
    "As `trainer_user`, retry again:"
   ]
  },
  {
   "cell_type": "code",
   "execution_count": null,
   "id": "4f58a84e",
   "metadata": {},
   "outputs": [],
   "source": [
    "SELECT * FROM system.students;"
   ]
  },
  {
   "cell_type": "markdown",
   "id": "0c5e9da1",
   "metadata": {},
   "source": [
    "## Conclusion\n",
    "- **System privileges (DDL)** such as `CREATE TABLE` control what users can do in their own schema.\n",
    "- **Object privileges (DML)** such as `SELECT` control access to objects owned by other users.\n",
    "- **GRANT** gives a privilege, **REVOKE** removes it."
   ]
  }
 ],
 "metadata": {
  "language_info": {
   "name": "python"
  }
 },
 "nbformat": 4,
 "nbformat_minor": 5
}
