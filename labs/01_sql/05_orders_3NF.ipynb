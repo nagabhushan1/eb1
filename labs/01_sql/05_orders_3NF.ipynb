{
 "cells": [
  {
   "cell_type": "markdown",
   "id": "944d37a1",
   "metadata": {},
   "source": [
    "# Orders_3NF\n",
    "In **3NF**, we remove transitive dependency.\n",
    "\n",
    "### Problems in 2NF:\n",
    "- Product price repeated in every OrderDetails row.\n",
    "- If product price changes, multiple rows must be updated.\n",
    "\n",
    "### Fix in 3NF:\n",
    "- Create separate `Products` table with `ProductID` and `UnitPrice`.\n",
    "- `OrderDetails` now references `ProductID` instead of storing price repeatedly."
   ]
  },
  {
   "cell_type": "code",
   "execution_count": null,
   "id": "f2288fbb",
   "metadata": {},
   "outputs": [],
   "source": [
    "DROP TABLE Customers;"
   ]
  },
  {
   "cell_type": "code",
   "execution_count": null,
   "id": "4b0afa2d",
   "metadata": {},
   "outputs": [],
   "source": [
    "CREATE TABLE Customers (\n",
    "    CustomerID NUMBER PRIMARY KEY,\n",
    "    CustomerName VARCHAR2(50),\n",
    "    Address VARCHAR2(100)\n",
    ");"
   ]
  },
  {
   "cell_type": "code",
   "execution_count": null,
   "id": "a5b80cd4",
   "metadata": {},
   "outputs": [],
   "source": [
    "INSERT ALL\n",
    "  INTO Customers VALUES (1, 'Arjun Sharma', 'Bengaluru')\n",
    "  INTO Customers VALUES (2, 'Priya Nair', 'Chennai')\n",
    "  INTO Customers VALUES (3, 'Ramesh Iyer', 'Hyderabad')\n",
    "  INTO Customers VALUES (4, 'Kavita Desai', 'Mumbai')\n",
    "  INTO Customers VALUES (5, 'Meena Joshi', 'Pune')\n",
    "  INTO Customers VALUES (6, 'Suresh Reddy', 'Delhi')\n",
    "  INTO Customers VALUES (7, 'Ananya Rao', 'Kolkata')\n",
    "  INTO Customers VALUES (8, 'Rajesh Gupta', 'Jaipur')\n",
    "  INTO Customers VALUES (9, 'Neha Kulkarni', 'Ahmedabad')\n",
    "  INTO Customers VALUES (10, 'Manoj Verma', 'Lucknow')\n",
    "SELECT * FROM dual;"
   ]
  },
  {
   "cell_type": "code",
   "execution_count": null,
   "id": "0d8680cd",
   "metadata": {},
   "outputs": [],
   "source": [
    "SELECT * FROM Customers;"
   ]
  },
  {
   "cell_type": "code",
   "execution_count": null,
   "id": "43b8f6d0",
   "metadata": {},
   "outputs": [],
   "source": [
    "DROP TABLE Orders;"
   ]
  },
  {
   "cell_type": "code",
   "execution_count": null,
   "id": "4097b669",
   "metadata": {},
   "outputs": [],
   "source": [
    "CREATE TABLE Orders (\n",
    "    OrderID NUMBER PRIMARY KEY,\n",
    "    CustomerID NUMBER,\n",
    "    OrderDate DATE\n",
    ");"
   ]
  },
  {
   "cell_type": "code",
   "execution_count": null,
   "id": "506a1271",
   "metadata": {},
   "outputs": [],
   "source": [
    "INSERT ALL\n",
    "  INTO Orders VALUES (1, 1, TO_DATE('2025-01-2','YYYY-MM-DD'))\n",
    "  INTO Orders VALUES (2, 2, TO_DATE('2025-01-3','YYYY-MM-DD'))\n",
    "  INTO Orders VALUES (3, 3, TO_DATE('2025-01-4','YYYY-MM-DD'))\n",
    "  INTO Orders VALUES (4, 4, TO_DATE('2025-01-5','YYYY-MM-DD'))\n",
    "  INTO Orders VALUES (5, 5, TO_DATE('2025-01-6','YYYY-MM-DD'))\n",
    "  INTO Orders VALUES (6, 6, TO_DATE('2025-01-7','YYYY-MM-DD'))\n",
    "  INTO Orders VALUES (7, 7, TO_DATE('2025-01-8','YYYY-MM-DD'))\n",
    "  INTO Orders VALUES (8, 8, TO_DATE('2025-01-9','YYYY-MM-DD'))\n",
    "  INTO Orders VALUES (9, 9, TO_DATE('2025-01-10','YYYY-MM-DD'))\n",
    "  INTO Orders VALUES (10, 10, TO_DATE('2025-01-11','YYYY-MM-DD'))\n",
    "SELECT * FROM dual;"
   ]
  },
  {
   "cell_type": "code",
   "execution_count": null,
   "id": "26398b33",
   "metadata": {},
   "outputs": [],
   "source": [
    "INSERT ALL\n",
    "  INTO Orders VALUES (11, 1, TO_DATE('2025-01-12','YYYY-MM-DD'))\n",
    "  INTO Orders VALUES (12, 2, TO_DATE('2025-01-13','YYYY-MM-DD'))\n",
    "  INTO Orders VALUES (13, 3, TO_DATE('2025-01-14','YYYY-MM-DD'))\n",
    "  INTO Orders VALUES (14, 4, TO_DATE('2025-01-15','YYYY-MM-DD'))\n",
    "  INTO Orders VALUES (15, 5, TO_DATE('2025-01-16','YYYY-MM-DD'))\n",
    "  INTO Orders VALUES (16, 6, TO_DATE('2025-01-17','YYYY-MM-DD'))\n",
    "  INTO Orders VALUES (17, 7, TO_DATE('2025-01-18','YYYY-MM-DD'))\n",
    "  INTO Orders VALUES (18, 8, TO_DATE('2025-01-19','YYYY-MM-DD'))\n",
    "  INTO Orders VALUES (19, 9, TO_DATE('2025-01-20','YYYY-MM-DD'))\n",
    "  INTO Orders VALUES (20, 10, TO_DATE('2025-01-21','YYYY-MM-DD'))\n",
    "SELECT * FROM dual;"
   ]
  },
  {
   "cell_type": "code",
   "execution_count": null,
   "id": "711c18a5",
   "metadata": {},
   "outputs": [],
   "source": [
    "INSERT ALL\n",
    "  INTO Orders VALUES (21, 1, TO_DATE('2025-01-22','YYYY-MM-DD'))\n",
    "  INTO Orders VALUES (22, 2, TO_DATE('2025-01-23','YYYY-MM-DD'))\n",
    "  INTO Orders VALUES (23, 3, TO_DATE('2025-01-24','YYYY-MM-DD'))\n",
    "  INTO Orders VALUES (24, 4, TO_DATE('2025-01-25','YYYY-MM-DD'))\n",
    "  INTO Orders VALUES (25, 5, TO_DATE('2025-01-26','YYYY-MM-DD'))\n",
    "  INTO Orders VALUES (26, 6, TO_DATE('2025-01-27','YYYY-MM-DD'))\n",
    "  INTO Orders VALUES (27, 7, TO_DATE('2025-01-28','YYYY-MM-DD'))\n",
    "  INTO Orders VALUES (28, 8, TO_DATE('2025-01-1','YYYY-MM-DD'))\n",
    "  INTO Orders VALUES (29, 9, TO_DATE('2025-01-2','YYYY-MM-DD'))\n",
    "  INTO Orders VALUES (30, 10, TO_DATE('2025-01-3','YYYY-MM-DD'))\n",
    "SELECT * FROM dual;"
   ]
  },
  {
   "cell_type": "code",
   "execution_count": null,
   "id": "c810a48c",
   "metadata": {},
   "outputs": [],
   "source": [
    "INSERT ALL\n",
    "  INTO Orders VALUES (31, 1, TO_DATE('2025-01-4','YYYY-MM-DD'))\n",
    "  INTO Orders VALUES (32, 2, TO_DATE('2025-01-5','YYYY-MM-DD'))\n",
    "  INTO Orders VALUES (33, 3, TO_DATE('2025-01-6','YYYY-MM-DD'))\n",
    "  INTO Orders VALUES (34, 4, TO_DATE('2025-01-7','YYYY-MM-DD'))\n",
    "  INTO Orders VALUES (35, 5, TO_DATE('2025-01-8','YYYY-MM-DD'))\n",
    "  INTO Orders VALUES (36, 6, TO_DATE('2025-01-9','YYYY-MM-DD'))\n",
    "  INTO Orders VALUES (37, 7, TO_DATE('2025-01-10','YYYY-MM-DD'))\n",
    "  INTO Orders VALUES (38, 8, TO_DATE('2025-01-11','YYYY-MM-DD'))\n",
    "  INTO Orders VALUES (39, 9, TO_DATE('2025-01-12','YYYY-MM-DD'))\n",
    "  INTO Orders VALUES (40, 10, TO_DATE('2025-01-13','YYYY-MM-DD'))\n",
    "SELECT * FROM dual;"
   ]
  },
  {
   "cell_type": "code",
   "execution_count": null,
   "id": "8f6c47de",
   "metadata": {},
   "outputs": [],
   "source": [
    "INSERT ALL\n",
    "  INTO Orders VALUES (41, 1, TO_DATE('2025-01-14','YYYY-MM-DD'))\n",
    "  INTO Orders VALUES (42, 2, TO_DATE('2025-01-15','YYYY-MM-DD'))\n",
    "  INTO Orders VALUES (43, 3, TO_DATE('2025-01-16','YYYY-MM-DD'))\n",
    "  INTO Orders VALUES (44, 4, TO_DATE('2025-01-17','YYYY-MM-DD'))\n",
    "  INTO Orders VALUES (45, 5, TO_DATE('2025-01-18','YYYY-MM-DD'))\n",
    "  INTO Orders VALUES (46, 6, TO_DATE('2025-01-19','YYYY-MM-DD'))\n",
    "  INTO Orders VALUES (47, 7, TO_DATE('2025-01-20','YYYY-MM-DD'))\n",
    "  INTO Orders VALUES (48, 8, TO_DATE('2025-01-21','YYYY-MM-DD'))\n",
    "  INTO Orders VALUES (49, 9, TO_DATE('2025-01-22','YYYY-MM-DD'))\n",
    "  INTO Orders VALUES (50, 10, TO_DATE('2025-01-23','YYYY-MM-DD'))\n",
    "SELECT * FROM dual;"
   ]
  },
  {
   "cell_type": "code",
   "execution_count": null,
   "id": "f1c0f06e",
   "metadata": {},
   "outputs": [],
   "source": [
    "SELECT * FROM Orders;"
   ]
  },
  {
   "cell_type": "code",
   "execution_count": null,
   "id": "6509c04f",
   "metadata": {},
   "outputs": [],
   "source": [
    "DROP TABLE Products;"
   ]
  },
  {
   "cell_type": "code",
   "execution_count": null,
   "id": "7462aa31",
   "metadata": {},
   "outputs": [],
   "source": [
    "CREATE TABLE Products (\n",
    "    ProductID NUMBER PRIMARY KEY,\n",
    "    ProductName VARCHAR2(50),\n",
    "    UnitPrice NUMBER\n",
    ");"
   ]
  },
  {
   "cell_type": "code",
   "execution_count": null,
   "id": "5d6d0b18",
   "metadata": {},
   "outputs": [],
   "source": [
    "INSERT ALL\n",
    "  INTO Products VALUES (1, 'Laptop', 800)\n",
    "  INTO Products VALUES (2, 'Mouse', 200)\n",
    "  INTO Products VALUES (3, 'Rice', 500)\n",
    "  INTO Products VALUES (4, 'Oil', 300)\n",
    "  INTO Products VALUES (5, 'Sugar', 250)\n",
    "  INTO Products VALUES (6, 'Mobile', 700)\n",
    "  INTO Products VALUES (7, 'Charger', 150)\n",
    "  INTO Products VALUES (8, 'Mixer', 400)\n",
    "  INTO Products VALUES (9, 'Grinder', 300)\n",
    "  INTO Products VALUES (10, 'TV', 1500)\n",
    "  INTO Products VALUES (11, 'Remote', 200)\n",
    "  INTO Products VALUES (12, 'Chair', 600)\n",
    "  INTO Products VALUES (13, 'Table', 800)\n",
    "  INTO Products VALUES (14, 'Pen', 20)\n",
    "  INTO Products VALUES (15, 'Notebook', 50)\n",
    "  INTO Products VALUES (16, 'Bag', 200)\n",
    "  INTO Products VALUES (17, 'Shoes', 900)\n",
    "  INTO Products VALUES (18, 'Socks', 100)\n",
    "  INTO Products VALUES (19, 'Watch', 1200)\n",
    "  INTO Products VALUES (20, 'Earphones', 400)\n",
    "  INTO Products VALUES (21, 'Fan', 1000)\n",
    "  INTO Products VALUES (22, 'Cooler', 2500)\n",
    "SELECT * FROM dual;"
   ]
  },
  {
   "cell_type": "code",
   "execution_count": null,
   "id": "3e695150",
   "metadata": {},
   "outputs": [],
   "source": [
    "SELECT * FROM Products;"
   ]
  },
  {
   "cell_type": "code",
   "execution_count": null,
   "id": "29da0b23",
   "metadata": {},
   "outputs": [],
   "source": [
    "DROP TABLE OrderDetails;"
   ]
  },
  {
   "cell_type": "code",
   "execution_count": null,
   "id": "eea77663",
   "metadata": {},
   "outputs": [],
   "source": [
    "CREATE TABLE OrderDetails (\n",
    "    OrderID NUMBER,\n",
    "    ProductID NUMBER,\n",
    "    Quantity NUMBER\n",
    ");"
   ]
  },
  {
   "cell_type": "code",
   "execution_count": null,
   "id": "dad2e0d4",
   "metadata": {},
   "outputs": [],
   "source": [
    "INSERT ALL\n",
    "  INTO OrderDetails VALUES (1, 1, 1)\n",
    "  INTO OrderDetails VALUES (1, 2, 1)\n",
    "  INTO OrderDetails VALUES (2, 3, 1)\n",
    "  INTO OrderDetails VALUES (2, 4, 1)\n",
    "  INTO OrderDetails VALUES (2, 5, 1)\n",
    "  INTO OrderDetails VALUES (3, 6, 1)\n",
    "  INTO OrderDetails VALUES (3, 7, 1)\n",
    "  INTO OrderDetails VALUES (4, 8, 1)\n",
    "  INTO OrderDetails VALUES (4, 9, 1)\n",
    "  INTO OrderDetails VALUES (5, 10, 1)\n",
    "  INTO OrderDetails VALUES (5, 11, 1)\n",
    "  INTO OrderDetails VALUES (6, 12, 1)\n",
    "  INTO OrderDetails VALUES (6, 13, 1)\n",
    "  INTO OrderDetails VALUES (7, 14, 1)\n",
    "  INTO OrderDetails VALUES (7, 15, 1)\n",
    "  INTO OrderDetails VALUES (7, 16, 1)\n",
    "  INTO OrderDetails VALUES (8, 17, 1)\n",
    "  INTO OrderDetails VALUES (8, 18, 1)\n",
    "  INTO OrderDetails VALUES (9, 19, 1)\n",
    "  INTO OrderDetails VALUES (9, 20, 1)\n",
    "SELECT * FROM dual;"
   ]
  },
  {
   "cell_type": "code",
   "execution_count": null,
   "id": "6a3c5294",
   "metadata": {},
   "outputs": [],
   "source": [
    "INSERT ALL\n",
    "  INTO OrderDetails VALUES (10, 21, 1)\n",
    "  INTO OrderDetails VALUES (10, 22, 1)\n",
    "  INTO OrderDetails VALUES (11, 1, 1)\n",
    "  INTO OrderDetails VALUES (11, 2, 1)\n",
    "  INTO OrderDetails VALUES (12, 3, 1)\n",
    "  INTO OrderDetails VALUES (12, 4, 1)\n",
    "  INTO OrderDetails VALUES (12, 5, 1)\n",
    "  INTO OrderDetails VALUES (13, 6, 1)\n",
    "  INTO OrderDetails VALUES (13, 7, 1)\n",
    "  INTO OrderDetails VALUES (14, 8, 1)\n",
    "  INTO OrderDetails VALUES (14, 9, 1)\n",
    "  INTO OrderDetails VALUES (15, 10, 1)\n",
    "  INTO OrderDetails VALUES (15, 11, 1)\n",
    "  INTO OrderDetails VALUES (16, 12, 1)\n",
    "  INTO OrderDetails VALUES (16, 13, 1)\n",
    "  INTO OrderDetails VALUES (17, 14, 1)\n",
    "  INTO OrderDetails VALUES (17, 15, 1)\n",
    "  INTO OrderDetails VALUES (17, 16, 1)\n",
    "  INTO OrderDetails VALUES (18, 17, 1)\n",
    "  INTO OrderDetails VALUES (18, 18, 1)\n",
    "SELECT * FROM dual;"
   ]
  },
  {
   "cell_type": "code",
   "execution_count": null,
   "id": "32d23258",
   "metadata": {},
   "outputs": [],
   "source": [
    "INSERT ALL\n",
    "  INTO OrderDetails VALUES (19, 19, 1)\n",
    "  INTO OrderDetails VALUES (19, 20, 1)\n",
    "  INTO OrderDetails VALUES (20, 21, 1)\n",
    "  INTO OrderDetails VALUES (20, 22, 1)\n",
    "  INTO OrderDetails VALUES (21, 1, 1)\n",
    "  INTO OrderDetails VALUES (21, 2, 1)\n",
    "  INTO OrderDetails VALUES (22, 3, 1)\n",
    "  INTO OrderDetails VALUES (22, 4, 1)\n",
    "  INTO OrderDetails VALUES (22, 5, 1)\n",
    "  INTO OrderDetails VALUES (23, 6, 1)\n",
    "  INTO OrderDetails VALUES (23, 7, 1)\n",
    "  INTO OrderDetails VALUES (24, 8, 1)\n",
    "  INTO OrderDetails VALUES (24, 9, 1)\n",
    "  INTO OrderDetails VALUES (25, 10, 1)\n",
    "  INTO OrderDetails VALUES (25, 11, 1)\n",
    "  INTO OrderDetails VALUES (26, 12, 1)\n",
    "  INTO OrderDetails VALUES (26, 13, 1)\n",
    "  INTO OrderDetails VALUES (27, 14, 1)\n",
    "  INTO OrderDetails VALUES (27, 15, 1)\n",
    "  INTO OrderDetails VALUES (27, 16, 1)\n",
    "SELECT * FROM dual;"
   ]
  },
  {
   "cell_type": "code",
   "execution_count": null,
   "id": "bb2c2fda",
   "metadata": {},
   "outputs": [],
   "source": [
    "INSERT ALL\n",
    "  INTO OrderDetails VALUES (28, 17, 1)\n",
    "  INTO OrderDetails VALUES (28, 18, 1)\n",
    "  INTO OrderDetails VALUES (29, 19, 1)\n",
    "  INTO OrderDetails VALUES (29, 20, 1)\n",
    "  INTO OrderDetails VALUES (30, 21, 1)\n",
    "  INTO OrderDetails VALUES (30, 22, 1)\n",
    "  INTO OrderDetails VALUES (31, 1, 1)\n",
    "  INTO OrderDetails VALUES (31, 2, 1)\n",
    "  INTO OrderDetails VALUES (32, 3, 1)\n",
    "  INTO OrderDetails VALUES (32, 4, 1)\n",
    "  INTO OrderDetails VALUES (32, 5, 1)\n",
    "  INTO OrderDetails VALUES (33, 6, 1)\n",
    "  INTO OrderDetails VALUES (33, 7, 1)\n",
    "  INTO OrderDetails VALUES (34, 8, 1)\n",
    "  INTO OrderDetails VALUES (34, 9, 1)\n",
    "  INTO OrderDetails VALUES (35, 10, 1)\n",
    "  INTO OrderDetails VALUES (35, 11, 1)\n",
    "  INTO OrderDetails VALUES (36, 12, 1)\n",
    "  INTO OrderDetails VALUES (36, 13, 1)\n",
    "  INTO OrderDetails VALUES (37, 14, 1)\n",
    "SELECT * FROM dual;"
   ]
  },
  {
   "cell_type": "code",
   "execution_count": null,
   "id": "6793ec15",
   "metadata": {},
   "outputs": [],
   "source": [
    "INSERT ALL\n",
    "  INTO OrderDetails VALUES (37, 15, 1)\n",
    "  INTO OrderDetails VALUES (37, 16, 1)\n",
    "  INTO OrderDetails VALUES (38, 17, 1)\n",
    "  INTO OrderDetails VALUES (38, 18, 1)\n",
    "  INTO OrderDetails VALUES (39, 19, 1)\n",
    "  INTO OrderDetails VALUES (39, 20, 1)\n",
    "  INTO OrderDetails VALUES (40, 21, 1)\n",
    "  INTO OrderDetails VALUES (40, 22, 1)\n",
    "  INTO OrderDetails VALUES (41, 1, 1)\n",
    "  INTO OrderDetails VALUES (41, 2, 1)\n",
    "  INTO OrderDetails VALUES (42, 3, 1)\n",
    "  INTO OrderDetails VALUES (42, 4, 1)\n",
    "  INTO OrderDetails VALUES (42, 5, 1)\n",
    "  INTO OrderDetails VALUES (43, 6, 1)\n",
    "  INTO OrderDetails VALUES (43, 7, 1)\n",
    "  INTO OrderDetails VALUES (44, 8, 1)\n",
    "  INTO OrderDetails VALUES (44, 9, 1)\n",
    "  INTO OrderDetails VALUES (45, 10, 1)\n",
    "  INTO OrderDetails VALUES (45, 11, 1)\n",
    "  INTO OrderDetails VALUES (46, 12, 1)\n",
    "SELECT * FROM dual;"
   ]
  },
  {
   "cell_type": "code",
   "execution_count": null,
   "id": "97b62a37",
   "metadata": {},
   "outputs": [],
   "source": [
    "INSERT ALL\n",
    "  INTO OrderDetails VALUES (46, 13, 1)\n",
    "  INTO OrderDetails VALUES (47, 14, 1)\n",
    "  INTO OrderDetails VALUES (47, 15, 1)\n",
    "  INTO OrderDetails VALUES (47, 16, 1)\n",
    "  INTO OrderDetails VALUES (48, 17, 1)\n",
    "  INTO OrderDetails VALUES (48, 18, 1)\n",
    "  INTO OrderDetails VALUES (49, 19, 1)\n",
    "  INTO OrderDetails VALUES (49, 20, 1)\n",
    "  INTO OrderDetails VALUES (50, 21, 1)\n",
    "  INTO OrderDetails VALUES (50, 22, 1)\n",
    "SELECT * FROM dual;"
   ]
  },
  {
   "cell_type": "code",
   "execution_count": null,
   "id": "c690b3d9",
   "metadata": {},
   "outputs": [],
   "source": [
    "SELECT * FROM OrderDetails;"
   ]
  },
  {
   "cell_type": "markdown",
   "id": "deddcdf2",
   "metadata": {},
   "source": [
    "- Product information moved to `Products` table.\n",
    "- `OrderDetails` references products by `ProductID` instead of repeating names and prices.\n",
    "- Achieved **3NF**: removed **transitive dependency**.\n",
    "- Update anomaly fixed: changing product price requires updating only `Products` table.\n",
    "- Data is now clean, minimal redundancy, and anomaly-free up to 3NF."
   ]
  }
 ],
 "metadata": {
  "language_info": {
   "name": "python"
  }
 },
 "nbformat": 4,
 "nbformat_minor": 5
}
