{
 "cells": [
  {
   "cell_type": "markdown",
   "id": "985a7fe3",
   "metadata": {},
   "source": [
    "# SQL DDL Commands\n",
    "This notebook demonstrates **DDL (Data Definition Language)** .\n",
    "\n",
    "DDL commands include:\n",
    "- ALTER TABLE (add, modify, drop columns)\n",
    "- Add/Drop Constraints \n",
    "- DROP TABLE\n",
    "- TRUNCATE TABLE\n",
    "- RENAME\n",
    "\n",
    "**Note:** DDL commands are auto-commit in Oracle and cannot be rolled back."
   ]
  },
  {
   "cell_type": "markdown",
   "id": "7c7d04bb",
   "metadata": {},
   "source": [
    "## 1) ALTER TABLE\n",
    "Used to modify the structure of an existing table.\n",
    "\n",
    "### a) Add Column"
   ]
  },
  {
   "cell_type": "code",
   "execution_count": null,
   "id": "07dc8968",
   "metadata": {},
   "outputs": [],
   "source": [
    "DROP TABLE CUST_ALTER;"
   ]
  },
  {
   "cell_type": "code",
   "execution_count": null,
   "id": "a4ca295c",
   "metadata": {},
   "outputs": [],
   "source": [
    "CREATE TABLE CUST_ALTER (\n",
    "    CustomerID NUMBER PRIMARY KEY,\n",
    "    CustomerName VARCHAR2(50)\n",
    ");"
   ]
  },
  {
   "cell_type": "code",
   "execution_count": null,
   "id": "66165b21",
   "metadata": {},
   "outputs": [],
   "source": [
    "DESC CUST_ALTER;"
   ]
  },
  {
   "cell_type": "code",
   "execution_count": null,
   "id": "9ec03474",
   "metadata": {},
   "outputs": [],
   "source": [
    "ALTER TABLE CUST_ALTER ADD Phone VARCHAR2(15);"
   ]
  },
  {
   "cell_type": "code",
   "execution_count": null,
   "id": "26e47e71",
   "metadata": {},
   "outputs": [],
   "source": [
    "DESC CUST_ALTER;"
   ]
  },
  {
   "cell_type": "markdown",
   "id": "ea2ef001",
   "metadata": {},
   "source": [
    "### b) Modify Column"
   ]
  },
  {
   "cell_type": "code",
   "execution_count": null,
   "id": "9d9216e5",
   "metadata": {},
   "outputs": [],
   "source": [
    "ALTER TABLE CUST_ALTER MODIFY Phone VARCHAR2(30);"
   ]
  },
  {
   "cell_type": "code",
   "execution_count": null,
   "id": "56d4b677",
   "metadata": {},
   "outputs": [],
   "source": [
    "DESC CUST_ALTER;"
   ]
  },
  {
   "cell_type": "markdown",
   "id": "8118bdf2",
   "metadata": {},
   "source": [
    "### c) Drop Column"
   ]
  },
  {
   "cell_type": "code",
   "execution_count": null,
   "id": "ee945231",
   "metadata": {},
   "outputs": [],
   "source": [
    "ALTER TABLE CUST_ALTER DROP COLUMN Phone;"
   ]
  },
  {
   "cell_type": "code",
   "execution_count": null,
   "id": "8a3ca272",
   "metadata": {},
   "outputs": [],
   "source": [
    "DESC CUST_ALTER;"
   ]
  },
  {
   "cell_type": "markdown",
   "id": "212cc890",
   "metadata": {},
   "source": [
    "## 2) Add / Drop Constraints using ALTER TABLE"
   ]
  },
  {
   "cell_type": "code",
   "execution_count": null,
   "id": "ba8dbe0e",
   "metadata": {},
   "outputs": [],
   "source": [
    "DROP TABLE CUST_CONS;"
   ]
  },
  {
   "cell_type": "code",
   "execution_count": null,
   "id": "af6342d3",
   "metadata": {},
   "outputs": [],
   "source": [
    "CREATE TABLE CUST_CONS (\n",
    "    CustomerID NUMBER,\n",
    "    CustomerName VARCHAR2(50)\n",
    ");"
   ]
  },
  {
   "cell_type": "code",
   "execution_count": null,
   "id": "16c3b147",
   "metadata": {},
   "outputs": [],
   "source": [
    "DESC CUST_CONS;"
   ]
  },
  {
   "cell_type": "markdown",
   "id": "7b5a9916",
   "metadata": {},
   "source": [
    "### a) Add Primary Key Constraint"
   ]
  },
  {
   "cell_type": "code",
   "execution_count": null,
   "id": "5d2b319c",
   "metadata": {},
   "outputs": [],
   "source": [
    "ALTER TABLE CUST_CONS ADD CONSTRAINT pk_cust PRIMARY KEY (CustomerID);"
   ]
  },
  {
   "cell_type": "code",
   "execution_count": null,
   "id": "cfadc820",
   "metadata": {},
   "outputs": [],
   "source": [
    "DESC CUST_CONS;"
   ]
  },
  {
   "cell_type": "markdown",
   "id": "0b308d37",
   "metadata": {},
   "source": [
    "### b) Drop Primary Key Constraint"
   ]
  },
  {
   "cell_type": "code",
   "execution_count": null,
   "id": "fa024461",
   "metadata": {},
   "outputs": [],
   "source": [
    "ALTER TABLE CUST_CONS DROP CONSTRAINT pk_cust;"
   ]
  },
  {
   "cell_type": "code",
   "execution_count": null,
   "id": "96bacd83",
   "metadata": {},
   "outputs": [],
   "source": [
    "DESC CUST_CONS;"
   ]
  },
  {
   "cell_type": "markdown",
   "id": "95b5a576",
   "metadata": {},
   "source": [
    "## 3) DROP TABLE\n",
    "Deletes the entire table structure and data. Cannot be recovered.\n",
    "\n",
    "### Example"
   ]
  },
  {
   "cell_type": "code",
   "execution_count": null,
   "id": "0f81bb21",
   "metadata": {},
   "outputs": [],
   "source": [
    "DROP TABLE ORDERS_DROP;"
   ]
  },
  {
   "cell_type": "code",
   "execution_count": null,
   "id": "efe482b6",
   "metadata": {},
   "outputs": [],
   "source": [
    "CREATE TABLE ORDERS_DROP (\n",
    "    OrderID NUMBER,\n",
    "    OrderDate DATE\n",
    ");"
   ]
  },
  {
   "cell_type": "code",
   "execution_count": null,
   "id": "767c9f42",
   "metadata": {},
   "outputs": [],
   "source": [
    "DESC ORDERS_DROP;"
   ]
  },
  {
   "cell_type": "code",
   "execution_count": null,
   "id": "7f22cb34",
   "metadata": {},
   "outputs": [],
   "source": [
    "DROP TABLE ORDERS_DROP;"
   ]
  },
  {
   "cell_type": "markdown",
   "id": "8a986245",
   "metadata": {},
   "source": [
    "## 4) TRUNCATE TABLE\n",
    "Deletes all rows from a table quickly. Table structure remains.\n",
    "\n",
    "### Example"
   ]
  },
  {
   "cell_type": "code",
   "execution_count": null,
   "id": "b49aa8fe",
   "metadata": {},
   "outputs": [],
   "source": [
    "DROP TABLE ORDERS_TRUNC;"
   ]
  },
  {
   "cell_type": "code",
   "execution_count": null,
   "id": "642467ba",
   "metadata": {},
   "outputs": [],
   "source": [
    "CREATE TABLE ORDERS_TRUNC (\n",
    "    OrderID NUMBER,\n",
    "    OrderDate DATE\n",
    ");"
   ]
  },
  {
   "cell_type": "code",
   "execution_count": null,
   "id": "0219b271",
   "metadata": {},
   "outputs": [],
   "source": [
    "INSERT ALL\n",
    "  INTO ORDERS_TRUNC VALUES (101, DATE '2025-01-10')\n",
    "  INTO ORDERS_TRUNC VALUES (102, DATE '2025-01-11')\n",
    "SELECT * FROM dual;"
   ]
  },
  {
   "cell_type": "code",
   "execution_count": null,
   "id": "dfd65369",
   "metadata": {},
   "outputs": [],
   "source": [
    "SELECT * FROM ORDERS_TRUNC;"
   ]
  },
  {
   "cell_type": "code",
   "execution_count": null,
   "id": "7942b345",
   "metadata": {},
   "outputs": [],
   "source": [
    "TRUNCATE TABLE ORDERS_TRUNC;"
   ]
  },
  {
   "cell_type": "code",
   "execution_count": null,
   "id": "885ea93c",
   "metadata": {},
   "outputs": [],
   "source": [
    "SELECT * FROM ORDERS_TRUNC;"
   ]
  },
  {
   "cell_type": "markdown",
   "id": "eaaf90b5",
   "metadata": {},
   "source": [
    "## 5) RENAME TABLE\n",
    "Used to rename a table.\n",
    "\n",
    "### Example"
   ]
  },
  {
   "cell_type": "code",
   "execution_count": null,
   "id": "78e249c1",
   "metadata": {},
   "outputs": [],
   "source": [
    "DROP TABLE CUST_RENAME;"
   ]
  },
  {
   "cell_type": "code",
   "execution_count": null,
   "id": "25447564",
   "metadata": {},
   "outputs": [],
   "source": [
    "CREATE TABLE CUST_RENAME (\n",
    "    CustomerID NUMBER,\n",
    "    CustomerName VARCHAR2(50)\n",
    ");"
   ]
  },
  {
   "cell_type": "code",
   "execution_count": null,
   "id": "2264b1fd",
   "metadata": {},
   "outputs": [],
   "source": [
    "DESC CUST_RENAME;"
   ]
  },
  {
   "cell_type": "code",
   "execution_count": null,
   "id": "039ce276",
   "metadata": {},
   "outputs": [],
   "source": [
    "RENAME CUST_RENAME TO CUST_RENAME_NEW;"
   ]
  },
  {
   "cell_type": "code",
   "execution_count": null,
   "id": "3caabe1c",
   "metadata": {},
   "outputs": [],
   "source": [
    "DESC CUST_RENAME_NEW;"
   ]
  },
  {
   "cell_type": "markdown",
   "id": "dd4c5956",
   "metadata": {},
   "source": [
    "## Cheat Sheet\n",
    "| Command  | Purpose | Syntax Example | Notes |\n",
    "|----------|---------|----------------|-------|\n",
    "| ALTER    | Change structure | `ALTER TABLE t ADD col VARCHAR2(20)` | Add/modify/drop columns & constraints |\n",
    "| DROP     | Delete table | `DROP TABLE t` | Deletes structure & data |\n",
    "| TRUNCATE | Remove all rows | `TRUNCATE TABLE t` | Faster than DELETE, cannot rollback |\n",
    "| RENAME   | Rename object | `RENAME old TO new` | Works on tables, views, synonyms |\n"
   ]
  }
 ],
 "metadata": {
  "language_info": {
   "name": "python"
  }
 },
 "nbformat": 4,
 "nbformat_minor": 5
}
