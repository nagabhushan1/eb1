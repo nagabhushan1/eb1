{
 "cells": [
  {
   "cell_type": "markdown",
   "id": "a848b0fb",
   "metadata": {},
   "source": [
    "# Materialized Views in Oracle"
   ]
  },
  {
   "cell_type": "markdown",
   "id": "afb12bcf",
   "metadata": {},
   "source": [
    "### Base Table Setup\n",
    "We first create the base table `DEP` and insert sample department records."
   ]
  },
  {
   "cell_type": "code",
   "execution_count": null,
   "id": "82b57c43",
   "metadata": {},
   "outputs": [],
   "source": [
    "CREATE TABLE dep (\n",
    "    deptno   NUMBER(2)       PRIMARY KEY,\n",
    "    dname    VARCHAR2(14)    NOT NULL,\n",
    "    loc      VARCHAR2(13)\n",
    ");\n",
    "\n",
    "INSERT INTO dep VALUES (10,'ACCOUNTING','NEW YORK');\n",
    "INSERT INTO dep VALUES (20,'RESEARCH','DALLAS');\n",
    "INSERT INTO dep VALUES (30,'SALES','CHICAGO');\n",
    "INSERT INTO dep VALUES (40,'OPERATIONS','BOSTON');\n",
    "COMMIT;"
   ]
  },
  {
   "cell_type": "code",
   "execution_count": null,
   "id": "3efd849b",
   "metadata": {},
   "outputs": [],
   "source": [
    "SELECT * FROM dep;"
   ]
  },
  {
   "cell_type": "markdown",
   "id": "bca80da2",
   "metadata": {},
   "source": [
    "### Creating a Materialized View\n",
    "A materialized view stores the results of a query physically on disk."
   ]
  },
  {
   "cell_type": "code",
   "execution_count": null,
   "id": "60857adc",
   "metadata": {},
   "outputs": [],
   "source": [
    "CREATE MATERIALIZED VIEW m1 AS SELECT * FROM dep;"
   ]
  },
  {
   "cell_type": "code",
   "execution_count": null,
   "id": "3a7e269a",
   "metadata": {},
   "outputs": [],
   "source": [
    "SELECT * FROM m1;"
   ]
  },
  {
   "cell_type": "code",
   "execution_count": null,
   "id": "d9fe6161",
   "metadata": {},
   "outputs": [],
   "source": [
    "SELECT mview_name FROM user_mviews WHERE mview_name = 'M1';"
   ]
  },
  {
   "cell_type": "markdown",
   "id": "607dc2d5",
   "metadata": {},
   "source": [
    "### DML Restriction\n",
    "You cannot perform DML directly on a materialized view. Any changes must be made to the base table."
   ]
  },
  {
   "cell_type": "code",
   "execution_count": null,
   "id": "ed5b59c9",
   "metadata": {},
   "outputs": [],
   "source": [
    "INSERT INTO m1 VALUES (50,'ENGINEERING','BENGALURU'); -- ORA-01732"
   ]
  },
  {
   "cell_type": "markdown",
   "id": "7cb5261d",
   "metadata": {},
   "source": [
    "### Updating Base Table\n",
    "Insert into the base table `DEP`. The materialized view will not auto-refresh unless specified."
   ]
  },
  {
   "cell_type": "code",
   "execution_count": null,
   "id": "8d3d2395",
   "metadata": {},
   "outputs": [],
   "source": [
    "INSERT INTO dep VALUES (50,'ENGINEERING','BENGALURU');"
   ]
  },
  {
   "cell_type": "code",
   "execution_count": null,
   "id": "d227c3a5",
   "metadata": {},
   "outputs": [],
   "source": [
    "SELECT * FROM dep;"
   ]
  },
  {
   "cell_type": "code",
   "execution_count": null,
   "id": "ee630cea",
   "metadata": {},
   "outputs": [],
   "source": [
    "SELECT * FROM m1; -- Still old data until refreshed"
   ]
  },
  {
   "cell_type": "markdown",
   "id": "c8d2bf30",
   "metadata": {},
   "source": [
    "### Manual Refresh\n",
    "Use `DBMS_MVIEW.REFRESH` to update the materialized view with the latest data."
   ]
  },
  {
   "cell_type": "code",
   "execution_count": null,
   "id": "c2342656",
   "metadata": {},
   "outputs": [],
   "source": [
    "EXEC DBMS_MVIEW.REFRESH('M1', 'C');"
   ]
  },
  {
   "cell_type": "code",
   "execution_count": null,
   "id": "d98b9fc7",
   "metadata": {},
   "outputs": [],
   "source": [
    "SELECT * FROM m1;"
   ]
  },
  {
   "cell_type": "markdown",
   "id": "c6500a07",
   "metadata": {},
   "source": [
    "### Auto Refresh on Commit\n",
    "Create a materialized view that automatically refreshes whenever a transaction on the base table is committed."
   ]
  },
  {
   "cell_type": "code",
   "execution_count": null,
   "id": "65aaaebc",
   "metadata": {},
   "outputs": [],
   "source": [
    "CREATE MATERIALIZED VIEW m2\n",
    "REFRESH ON COMMIT\n",
    "AS SELECT * FROM dep;"
   ]
  },
  {
   "cell_type": "code",
   "execution_count": null,
   "id": "bac7cff5",
   "metadata": {},
   "outputs": [],
   "source": [
    "INSERT INTO dep VALUES (60,'DEVELOPMENT','BENGALURU'); COMMIT;"
   ]
  },
  {
   "cell_type": "code",
   "execution_count": null,
   "id": "13a5760a",
   "metadata": {},
   "outputs": [],
   "source": [
    "SELECT * FROM m2; -- Auto refreshed after commit"
   ]
  },
  {
   "cell_type": "markdown",
   "id": "c4e18bb4",
   "metadata": {},
   "source": [
    "### Effect of Dropping Base Table\n",
    "When the base table is dropped, the materialized views are not automatically dropped. They continue to exist but may not reflect correct results or refresh properly."
   ]
  },
  {
   "cell_type": "code",
   "execution_count": null,
   "id": "23577409",
   "metadata": {},
   "outputs": [],
   "source": [
    "DROP TABLE dep;"
   ]
  },
  {
   "cell_type": "code",
   "execution_count": null,
   "id": "687d9d16",
   "metadata": {},
   "outputs": [],
   "source": [
    "SELECT * FROM m1; -- Still returns old data, but cannot be refreshed"
   ]
  },
  {
   "cell_type": "code",
   "execution_count": null,
   "id": "d3be8938",
   "metadata": {},
   "outputs": [],
   "source": [
    "SELECT * FROM m2; -- Still returns old data, but cannot be refreshed"
   ]
  }
 ],
 "metadata": {},
 "nbformat": 4,
 "nbformat_minor": 5
}
