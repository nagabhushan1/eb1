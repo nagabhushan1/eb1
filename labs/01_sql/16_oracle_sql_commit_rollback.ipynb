{
 "cells": [
  {
   "cell_type": "markdown",
   "metadata": {},
   "source": [
    "# SQL Transactions: COMMIT and ROLLBACK\n",
    "\n",
    "In Oracle SQL, **transactions** allow you to group multiple operations into a single unit of work. \n",
    "- `COMMIT`: Saves all changes made in the current transaction permanently.\n",
    "- `ROLLBACK`: Undoes changes made in the current transaction, restoring the database to the last committed state.\n",
    "\n",
    "We will demonstrate this with an `Accounts` table."
   ]
  },
  {
   "cell_type": "code",
   "execution_count": null,
   "metadata": {},
   "outputs": [],
   "source": [
    "DROP TABLE Accounts;"
   ]
  },
  {
   "cell_type": "code",
   "execution_count": null,
   "metadata": {},
   "outputs": [],
   "source": [
    "CREATE TABLE Accounts (\n",
    "    AccID NUMBER PRIMARY KEY,\n",
    "    HolderName VARCHAR2(50),\n",
    "    Balance NUMBER(10,2)\n",
    ");"
   ]
  },
  {
   "cell_type": "markdown",
   "metadata": {},
   "source": [
    "When we insert rows and use `COMMIT`, the data is permanently stored."
   ]
  },
  {
   "cell_type": "code",
   "execution_count": null,
   "metadata": {},
   "outputs": [],
   "source": [
    "INSERT INTO Accounts VALUES (1, 'Arjun Sharma', 5000);"
   ]
  },
  {
   "cell_type": "code",
   "execution_count": null,
   "id": "7db271cf",
   "metadata": {},
   "outputs": [],
   "source": [
    "INSERT INTO Accounts VALUES (2, 'Priya Nair', 7000);"
   ]
  },
  {
   "cell_type": "code",
   "execution_count": null,
   "metadata": {},
   "outputs": [],
   "source": [
    "SELECT * FROM Accounts;"
   ]
  },
  {
   "cell_type": "code",
   "execution_count": null,
   "id": "5dfea89e",
   "metadata": {},
   "outputs": [],
   "source": [
    "COMMIT;"
   ]
  },
  {
   "cell_type": "code",
   "execution_count": null,
   "id": "8d09c814",
   "metadata": {},
   "outputs": [],
   "source": [
    "SELECT * FROM Accounts;"
   ]
  },
  {
   "cell_type": "code",
   "execution_count": null,
   "metadata": {},
   "outputs": [],
   "source": [
    "INSERT INTO Accounts VALUES (3, 'Ramesh Iyer', 6000);"
   ]
  },
  {
   "cell_type": "code",
   "execution_count": null,
   "metadata": {},
   "outputs": [],
   "source": [
    "SELECT * FROM Accounts;"
   ]
  },
  {
   "cell_type": "code",
   "execution_count": null,
   "id": "06315f6a",
   "metadata": {},
   "outputs": [],
   "source": [
    "ROLLBACK;"
   ]
  },
  {
   "cell_type": "code",
   "execution_count": null,
   "id": "49b6aa08",
   "metadata": {},
   "outputs": [],
   "source": [
    "SELECT * FROM Accounts;"
   ]
  },
  {
   "cell_type": "code",
   "execution_count": null,
   "metadata": {},
   "outputs": [],
   "source": [
    "UPDATE Accounts SET Balance = 8000 WHERE AccID = 1;"
   ]
  },
  {
   "cell_type": "code",
   "execution_count": null,
   "id": "530b281d",
   "metadata": {},
   "outputs": [],
   "source": [
    "SELECT * FROM Accounts;"
   ]
  },
  {
   "cell_type": "code",
   "execution_count": null,
   "id": "f78578b5",
   "metadata": {},
   "outputs": [],
   "source": [
    "ROLLBACK;"
   ]
  },
  {
   "cell_type": "code",
   "execution_count": null,
   "metadata": {},
   "outputs": [],
   "source": [
    "SELECT * FROM Accounts;"
   ]
  },
  {
   "cell_type": "code",
   "execution_count": null,
   "metadata": {},
   "outputs": [],
   "source": [
    "UPDATE Accounts SET Balance = 9000 WHERE AccID = 2;"
   ]
  },
  {
   "cell_type": "code",
   "execution_count": null,
   "metadata": {},
   "outputs": [],
   "source": [
    "SELECT * FROM Accounts;"
   ]
  },
  {
   "cell_type": "code",
   "execution_count": null,
   "id": "c6200ddb",
   "metadata": {},
   "outputs": [],
   "source": [
    "COMMIT;"
   ]
  },
  {
   "cell_type": "code",
   "execution_count": null,
   "id": "8a97d905",
   "metadata": {},
   "outputs": [],
   "source": [
    "SELECT * FROM Accounts;"
   ]
  },
  {
   "cell_type": "code",
   "execution_count": null,
   "id": "fa530fc2",
   "metadata": {},
   "outputs": [],
   "source": [
    "ROLLBACK;"
   ]
  },
  {
   "cell_type": "code",
   "execution_count": null,
   "id": "59e34218",
   "metadata": {},
   "outputs": [],
   "source": [
    "SELECT * FROM Accounts;"
   ]
  },
  {
   "cell_type": "code",
   "execution_count": null,
   "id": "d4be0ace",
   "metadata": {},
   "outputs": [],
   "source": [
    "DELETE FROM ACCOUNTS;"
   ]
  },
  {
   "cell_type": "code",
   "execution_count": null,
   "id": "79ac7c25",
   "metadata": {},
   "outputs": [],
   "source": [
    "SELECT * FROM Accounts;"
   ]
  },
  {
   "cell_type": "code",
   "execution_count": null,
   "id": "bae64935",
   "metadata": {},
   "outputs": [],
   "source": [
    "ROLLBACK;"
   ]
  },
  {
   "cell_type": "code",
   "execution_count": null,
   "id": "ad55357b",
   "metadata": {},
   "outputs": [],
   "source": [
    "SELECT * FROM Accounts;"
   ]
  },
  {
   "cell_type": "code",
   "execution_count": null,
   "id": "d2c5c594",
   "metadata": {},
   "outputs": [],
   "source": [
    "DELETE FROM ACCOUNTS;"
   ]
  },
  {
   "cell_type": "code",
   "execution_count": null,
   "id": "da5bc053",
   "metadata": {},
   "outputs": [],
   "source": [
    "SELECT * FROM Accounts;"
   ]
  },
  {
   "cell_type": "code",
   "execution_count": null,
   "id": "fa4d9dd4",
   "metadata": {},
   "outputs": [],
   "source": [
    "COMMIT;"
   ]
  },
  {
   "cell_type": "code",
   "execution_count": null,
   "id": "e582646a",
   "metadata": {},
   "outputs": [],
   "source": [
    "SELECT * FROM Accounts;"
   ]
  },
  {
   "cell_type": "code",
   "execution_count": null,
   "id": "ab117584",
   "metadata": {},
   "outputs": [],
   "source": [
    "ROLLBACK;"
   ]
  },
  {
   "cell_type": "code",
   "execution_count": null,
   "id": "d19a56a8",
   "metadata": {},
   "outputs": [],
   "source": [
    "SELECT * FROM Accounts;"
   ]
  },
  {
   "cell_type": "code",
   "execution_count": null,
   "id": "32707866",
   "metadata": {},
   "outputs": [],
   "source": [
    "DROP TABLE ACCOUNTS;"
   ]
  }
 ],
 "metadata": {
  "kernelspec": {
   "display_name": "SQL",
   "language": "sql",
   "name": "oracle-sql"
  },
  "language_info": {
   "name": "sql"
  }
 },
 "nbformat": 4,
 "nbformat_minor": 5
}
