{
 "cells": [
  {
   "cell_type": "markdown",
   "id": "982fc644",
   "metadata": {},
   "source": [
    "# ACID Properties in Databases \n",
    "This notebook explains ACID (Atomicity, Consistency, Isolation, Durability) properties\n"
   ]
  },
  {
   "cell_type": "markdown",
   "id": "d61a19bd",
   "metadata": {},
   "source": [
    "## Atomicity\n",
    "**Definition:** A transaction is *all or nothing*. If any part fails, the whole transaction is rolled back.\n",
    "\n",
    "**Explanation:**\n",
    "- A banking app transferring ₹ 500 from Arjun to Ramesh must update *two accounts*.\n",
    "- Atomicity ensures both updates happen together or none at all.\n",
    "- Transaction logs enable rollback if failure occurs."
   ]
  },
  {
   "cell_type": "markdown",
   "id": "55935fc6",
   "metadata": {},
   "source": [
    "## Consistency\n",
    "**Definition:** A transaction must preserve all database rules and constraints.\n",
    "\n",
    "**Explanation:**\n",
    "- Any data written must be valid according to rules, constraints, and triggers.\n",
    "- Example: balances cannot go negative. If withdrawal > balance, transaction fails."
   ]
  },
  {
   "cell_type": "markdown",
   "id": "f6413265",
   "metadata": {},
   "source": [
    "## Isolation\n",
    "**Definition:** Concurrent transactions must not interfere with each other.\n",
    "\n",
    "**Explanation**\n",
    "- Makes it seem like each transaction runs alone.\n",
    "- Isolation levels:\n",
    "  - Serializable (highest, safest, slowest)\n",
    "  - Read committed (prevents dirty reads)\n",
    "  - Repeatable read (prevents non-repeatable reads)\n",
    "\n",
    "**Examples of anomalies:**\n",
    "- **Dirty read:** T2 sees uncommitted changes from T1.\n",
    "- **Non-repeatable read:** Same query returns different results within same transaction."
   ]
  },
  {
   "cell_type": "markdown",
   "id": "67e93305",
   "metadata": {},
   "source": [
    "## Durability\n",
    "**Definition:** Once a transaction is committed, it is permanent.\n",
    "\n",
    "**Explanation:**\n",
    "- Even if system crashes or loses power, committed data remains.\n",
    "- Achieved using **write-ahead logging (WAL)** or redo logs in Oracle.\n",
    "- In distributed databases, durability involves replication across nodes."
   ]
  },
  {
   "cell_type": "markdown",
   "id": "4879aec1",
   "metadata": {},
   "source": [
    "## Summary\n",
    "- **Atomicity:** Rollback failed transactions.\n",
    "- **Consistency:** Ensure rules and constraints are preserved.\n",
    "- **Isolation:** Prevent interference between concurrent transactions.\n",
    "- **Durability:** Ensure committed changes persist despite crashes.\n",
    "\n",
    "Together, ACID guarantees reliable and predictable database transactions.\n"
   ]
  }
 ],
 "metadata": {
  "language_info": {
   "name": "python"
  }
 },
 "nbformat": 4,
 "nbformat_minor": 5
}
