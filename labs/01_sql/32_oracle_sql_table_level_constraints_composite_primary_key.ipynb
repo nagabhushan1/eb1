{
 "cells": [
  {
   "cell_type": "markdown",
   "id": "2c4b81e2",
   "metadata": {},
   "source": [
    "# Composite Primary Key in Oracle"
   ]
  },
  {
   "cell_type": "markdown",
   "id": "f9aeb9a9",
   "metadata": {},
   "source": [
    "### Introduction\n",
    "A **composite primary key** is a primary key that consists of two or more columns. It enforces uniqueness across the combination of columns, not individually."
   ]
  },
  {
   "cell_type": "markdown",
   "id": "7a29ec5a",
   "metadata": {},
   "source": [
    "### Creating a Table with Composite Primary Key\n",
    "Here, `(order_id, product_id)` together form the primary key. This ensures that the same product cannot be inserted twice in the same order."
   ]
  },
  {
   "cell_type": "code",
   "execution_count": null,
   "id": "21385fc7",
   "metadata": {},
   "outputs": [],
   "source": [
    "CREATE TABLE order_items (\n",
    "    order_id    NUMBER,\n",
    "    product_id  NUMBER,\n",
    "    quantity    NUMBER,\n",
    "    CONSTRAINT pk_order_items PRIMARY KEY (order_id, product_id)\n",
    ");"
   ]
  },
  {
   "cell_type": "markdown",
   "id": "7ec2a74e",
   "metadata": {},
   "source": [
    "### Inserting Valid Records\n",
    "Each `(order_id, product_id)` pair must be unique. Same `order_id` or `product_id` can repeat individually, as long as the combination is unique."
   ]
  },
  {
   "cell_type": "code",
   "execution_count": null,
   "id": "dcfcf8eb",
   "metadata": {},
   "outputs": [],
   "source": [
    "INSERT INTO order_items VALUES (1, 101, 2);  -- Order 1, Product 101\n",
    "INSERT INTO order_items VALUES (1, 102, 5);  -- Order 1, Product 102 (allowed, order repeats)\n",
    "INSERT INTO order_items VALUES (2, 101, 3);  -- Order 2, Product 101 (allowed, product repeats)"
   ]
  },
  {
   "cell_type": "markdown",
   "id": "4b9b8c41",
   "metadata": {},
   "source": [
    "### Attempting Duplicate Insert\n",
    "This will fail because `(1, 101)` already exists, violating the composite key constraint."
   ]
  },
  {
   "cell_type": "code",
   "execution_count": null,
   "id": "5a175aa6",
   "metadata": {},
   "outputs": [],
   "source": [
    "INSERT INTO order_items VALUES (1, 101, 10); -- ORA-00001: unique constraint violated"
   ]
  },
  {
   "cell_type": "markdown",
   "id": "0a179890",
   "metadata": {},
   "source": [
    "### Checking Metadata\n",
    "Use the data dictionary views to verify the composite primary key definition."
   ]
  },
  {
   "cell_type": "code",
   "execution_count": null,
   "id": "66688729",
   "metadata": {},
   "outputs": [],
   "source": [
    "SELECT constraint_name, constraint_type, table_name\n",
    "FROM user_constraints\n",
    "WHERE table_name = 'ORDER_ITEMS';"
   ]
  },
  {
   "cell_type": "code",
   "execution_count": null,
   "id": "12ed9c75",
   "metadata": {},
   "outputs": [],
   "source": [
    "SELECT constraint_name, column_name, position\n",
    "FROM user_cons_columns\n",
    "WHERE table_name = 'ORDER_ITEMS';"
   ]
  }
 ],
 "metadata": {
  "language_info": {
   "name": "python"
  }
 },
 "nbformat": 4,
 "nbformat_minor": 5
}
