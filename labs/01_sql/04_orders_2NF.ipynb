{
 "cells": [
  {
   "cell_type": "markdown",
   "id": "e5874e6d",
   "metadata": {},
   "source": [
    "# Orders_2NF\n",
    "In **2NF**, we remove partial dependency. All non-key attributes must depend on the full primary key.\n",
    "\n",
    "### Problems in 1NF:\n",
    "- Customer name and address repeated in every row.\n",
    "- Customer data is partially dependent on OrderID.\n",
    "\n",
    "### Fix in 2NF:\n",
    "- Separate tables for Customers, Orders, and OrderDetails.\n",
    "- Customer data stored only once."
   ]
  },
  {
   "cell_type": "code",
   "execution_count": null,
   "id": "e6a95fd2",
   "metadata": {},
   "outputs": [],
   "source": [
    "DROP TABLE Customers;"
   ]
  },
  {
   "cell_type": "code",
   "execution_count": null,
   "id": "3162f1c0",
   "metadata": {},
   "outputs": [],
   "source": [
    "CREATE TABLE Customers (\n",
    "    CustomerID NUMBER PRIMARY KEY,\n",
    "    CustomerName VARCHAR2(50),\n",
    "    Address VARCHAR2(100)\n",
    ");"
   ]
  },
  {
   "cell_type": "code",
   "execution_count": null,
   "id": "14f399fd",
   "metadata": {},
   "outputs": [],
   "source": [
    "INSERT ALL\n",
    "  INTO Customers VALUES (1, 'Arjun Sharma', 'Bengaluru')\n",
    "  INTO Customers VALUES (2, 'Priya Nair', 'Chennai')\n",
    "  INTO Customers VALUES (3, 'Ramesh Iyer', 'Hyderabad')\n",
    "  INTO Customers VALUES (4, 'Kavita Desai', 'Mumbai')\n",
    "  INTO Customers VALUES (5, 'Meena Joshi', 'Pune')\n",
    "  INTO Customers VALUES (6, 'Suresh Reddy', 'Delhi')\n",
    "  INTO Customers VALUES (7, 'Ananya Rao', 'Kolkata')\n",
    "  INTO Customers VALUES (8, 'Rajesh Gupta', 'Jaipur')\n",
    "  INTO Customers VALUES (9, 'Neha Kulkarni', 'Ahmedabad')\n",
    "  INTO Customers VALUES (10, 'Manoj Verma', 'Lucknow')\n",
    "SELECT * FROM dual;"
   ]
  },
  {
   "cell_type": "code",
   "execution_count": null,
   "id": "90888e85",
   "metadata": {},
   "outputs": [],
   "source": [
    "SELECT * FROM Customers;"
   ]
  },
  {
   "cell_type": "code",
   "execution_count": null,
   "id": "15305e3c",
   "metadata": {},
   "outputs": [],
   "source": [
    "DROP TABLE Orders;"
   ]
  },
  {
   "cell_type": "code",
   "execution_count": null,
   "id": "a8ab007b",
   "metadata": {},
   "outputs": [],
   "source": [
    "CREATE TABLE Orders (\n",
    "    OrderID NUMBER PRIMARY KEY,\n",
    "    CustomerID NUMBER,\n",
    "    OrderDate DATE\n",
    ");"
   ]
  },
  {
   "cell_type": "code",
   "execution_count": null,
   "id": "775ea3b3",
   "metadata": {},
   "outputs": [],
   "source": [
    "INSERT ALL\n",
    "  INTO Orders VALUES (1, 1, TO_DATE('2025-01-2','YYYY-MM-DD'))\n",
    "  INTO Orders VALUES (2, 2, TO_DATE('2025-01-3','YYYY-MM-DD'))\n",
    "  INTO Orders VALUES (3, 3, TO_DATE('2025-01-4','YYYY-MM-DD'))\n",
    "  INTO Orders VALUES (4, 4, TO_DATE('2025-01-5','YYYY-MM-DD'))\n",
    "  INTO Orders VALUES (5, 5, TO_DATE('2025-01-6','YYYY-MM-DD'))\n",
    "  INTO Orders VALUES (6, 6, TO_DATE('2025-01-7','YYYY-MM-DD'))\n",
    "  INTO Orders VALUES (7, 7, TO_DATE('2025-01-8','YYYY-MM-DD'))\n",
    "  INTO Orders VALUES (8, 8, TO_DATE('2025-01-9','YYYY-MM-DD'))\n",
    "  INTO Orders VALUES (9, 9, TO_DATE('2025-01-10','YYYY-MM-DD'))\n",
    "  INTO Orders VALUES (10, 10, TO_DATE('2025-01-11','YYYY-MM-DD'))\n",
    "SELECT * FROM dual;"
   ]
  },
  {
   "cell_type": "code",
   "execution_count": null,
   "id": "c3a1aa1a",
   "metadata": {},
   "outputs": [],
   "source": [
    "INSERT ALL\n",
    "  INTO Orders VALUES (11, 1, TO_DATE('2025-01-12','YYYY-MM-DD'))\n",
    "  INTO Orders VALUES (12, 2, TO_DATE('2025-01-13','YYYY-MM-DD'))\n",
    "  INTO Orders VALUES (13, 3, TO_DATE('2025-01-14','YYYY-MM-DD'))\n",
    "  INTO Orders VALUES (14, 4, TO_DATE('2025-01-15','YYYY-MM-DD'))\n",
    "  INTO Orders VALUES (15, 5, TO_DATE('2025-01-16','YYYY-MM-DD'))\n",
    "  INTO Orders VALUES (16, 6, TO_DATE('2025-01-17','YYYY-MM-DD'))\n",
    "  INTO Orders VALUES (17, 7, TO_DATE('2025-01-18','YYYY-MM-DD'))\n",
    "  INTO Orders VALUES (18, 8, TO_DATE('2025-01-19','YYYY-MM-DD'))\n",
    "  INTO Orders VALUES (19, 9, TO_DATE('2025-01-20','YYYY-MM-DD'))\n",
    "  INTO Orders VALUES (20, 10, TO_DATE('2025-01-21','YYYY-MM-DD'))\n",
    "SELECT * FROM dual;"
   ]
  },
  {
   "cell_type": "code",
   "execution_count": null,
   "id": "07070157",
   "metadata": {},
   "outputs": [],
   "source": [
    "INSERT ALL\n",
    "  INTO Orders VALUES (21, 1, TO_DATE('2025-01-22','YYYY-MM-DD'))\n",
    "  INTO Orders VALUES (22, 2, TO_DATE('2025-01-23','YYYY-MM-DD'))\n",
    "  INTO Orders VALUES (23, 3, TO_DATE('2025-01-24','YYYY-MM-DD'))\n",
    "  INTO Orders VALUES (24, 4, TO_DATE('2025-01-25','YYYY-MM-DD'))\n",
    "  INTO Orders VALUES (25, 5, TO_DATE('2025-01-26','YYYY-MM-DD'))\n",
    "  INTO Orders VALUES (26, 6, TO_DATE('2025-01-27','YYYY-MM-DD'))\n",
    "  INTO Orders VALUES (27, 7, TO_DATE('2025-01-28','YYYY-MM-DD'))\n",
    "  INTO Orders VALUES (28, 8, TO_DATE('2025-01-1','YYYY-MM-DD'))\n",
    "  INTO Orders VALUES (29, 9, TO_DATE('2025-01-2','YYYY-MM-DD'))\n",
    "  INTO Orders VALUES (30, 10, TO_DATE('2025-01-3','YYYY-MM-DD'))\n",
    "SELECT * FROM dual;"
   ]
  },
  {
   "cell_type": "code",
   "execution_count": null,
   "id": "0c5a1631",
   "metadata": {},
   "outputs": [],
   "source": [
    "INSERT ALL\n",
    "  INTO Orders VALUES (31, 1, TO_DATE('2025-01-4','YYYY-MM-DD'))\n",
    "  INTO Orders VALUES (32, 2, TO_DATE('2025-01-5','YYYY-MM-DD'))\n",
    "  INTO Orders VALUES (33, 3, TO_DATE('2025-01-6','YYYY-MM-DD'))\n",
    "  INTO Orders VALUES (34, 4, TO_DATE('2025-01-7','YYYY-MM-DD'))\n",
    "  INTO Orders VALUES (35, 5, TO_DATE('2025-01-8','YYYY-MM-DD'))\n",
    "  INTO Orders VALUES (36, 6, TO_DATE('2025-01-9','YYYY-MM-DD'))\n",
    "  INTO Orders VALUES (37, 7, TO_DATE('2025-01-10','YYYY-MM-DD'))\n",
    "  INTO Orders VALUES (38, 8, TO_DATE('2025-01-11','YYYY-MM-DD'))\n",
    "  INTO Orders VALUES (39, 9, TO_DATE('2025-01-12','YYYY-MM-DD'))\n",
    "  INTO Orders VALUES (40, 10, TO_DATE('2025-01-13','YYYY-MM-DD'))\n",
    "SELECT * FROM dual;"
   ]
  },
  {
   "cell_type": "code",
   "execution_count": null,
   "id": "6472b6d1",
   "metadata": {},
   "outputs": [],
   "source": [
    "INSERT ALL\n",
    "  INTO Orders VALUES (41, 1, TO_DATE('2025-01-14','YYYY-MM-DD'))\n",
    "  INTO Orders VALUES (42, 2, TO_DATE('2025-01-15','YYYY-MM-DD'))\n",
    "  INTO Orders VALUES (43, 3, TO_DATE('2025-01-16','YYYY-MM-DD'))\n",
    "  INTO Orders VALUES (44, 4, TO_DATE('2025-01-17','YYYY-MM-DD'))\n",
    "  INTO Orders VALUES (45, 5, TO_DATE('2025-01-18','YYYY-MM-DD'))\n",
    "  INTO Orders VALUES (46, 6, TO_DATE('2025-01-19','YYYY-MM-DD'))\n",
    "  INTO Orders VALUES (47, 7, TO_DATE('2025-01-20','YYYY-MM-DD'))\n",
    "  INTO Orders VALUES (48, 8, TO_DATE('2025-01-21','YYYY-MM-DD'))\n",
    "  INTO Orders VALUES (49, 9, TO_DATE('2025-01-22','YYYY-MM-DD'))\n",
    "  INTO Orders VALUES (50, 10, TO_DATE('2025-01-23','YYYY-MM-DD'))\n",
    "SELECT * FROM dual;"
   ]
  },
  {
   "cell_type": "code",
   "execution_count": null,
   "id": "f51c2ce3",
   "metadata": {},
   "outputs": [],
   "source": [
    "SELECT * FROM Orders;"
   ]
  },
  {
   "cell_type": "code",
   "execution_count": null,
   "id": "e0e5dd49",
   "metadata": {},
   "outputs": [],
   "source": [
    "DROP TABLE OrderDetails;"
   ]
  },
  {
   "cell_type": "code",
   "execution_count": null,
   "id": "988fdf8a",
   "metadata": {},
   "outputs": [],
   "source": [
    "CREATE TABLE OrderDetails (\n",
    "    OrderID NUMBER,\n",
    "    ProductName VARCHAR2(50),\n",
    "    Quantity NUMBER,\n",
    "    Price NUMBER\n",
    ");"
   ]
  },
  {
   "cell_type": "code",
   "execution_count": null,
   "id": "5764397a",
   "metadata": {},
   "outputs": [],
   "source": [
    "INSERT ALL\n",
    "  INTO OrderDetails VALUES (1, 'Laptop', 1, 800)\n",
    "  INTO OrderDetails VALUES (1, 'Mouse', 1, 200)\n",
    "  INTO OrderDetails VALUES (2, 'Rice', 1, 500)\n",
    "  INTO OrderDetails VALUES (2, 'Oil', 1, 300)\n",
    "  INTO OrderDetails VALUES (2, 'Sugar', 1, 250)\n",
    "  INTO OrderDetails VALUES (3, 'Mobile', 1, 700)\n",
    "  INTO OrderDetails VALUES (3, 'Charger', 1, 150)\n",
    "  INTO OrderDetails VALUES (4, 'Mixer', 1, 400)\n",
    "  INTO OrderDetails VALUES (4, 'Grinder', 1, 300)\n",
    "  INTO OrderDetails VALUES (5, 'TV', 1, 1500)\n",
    "  INTO OrderDetails VALUES (5, 'Remote', 1, 200)\n",
    "  INTO OrderDetails VALUES (6, 'Chair', 1, 600)\n",
    "  INTO OrderDetails VALUES (6, 'Table', 1, 800)\n",
    "  INTO OrderDetails VALUES (7, 'Pen', 1, 20)\n",
    "  INTO OrderDetails VALUES (7, 'Notebook', 1, 50)\n",
    "  INTO OrderDetails VALUES (7, 'Bag', 1, 200)\n",
    "  INTO OrderDetails VALUES (8, 'Shoes', 1, 900)\n",
    "  INTO OrderDetails VALUES (8, 'Socks', 1, 100)\n",
    "  INTO OrderDetails VALUES (9, 'Watch', 1, 1200)\n",
    "  INTO OrderDetails VALUES (9, 'Earphones', 1, 400)\n",
    "SELECT * FROM dual;"
   ]
  },
  {
   "cell_type": "code",
   "execution_count": null,
   "id": "290a3068",
   "metadata": {},
   "outputs": [],
   "source": [
    "INSERT ALL\n",
    "  INTO OrderDetails VALUES (10, 'Fan', 1, 1000)\n",
    "  INTO OrderDetails VALUES (10, 'Cooler', 1, 2500)\n",
    "  INTO OrderDetails VALUES (11, 'Laptop', 1, 800)\n",
    "  INTO OrderDetails VALUES (11, 'Mouse', 1, 200)\n",
    "  INTO OrderDetails VALUES (12, 'Rice', 1, 500)\n",
    "  INTO OrderDetails VALUES (12, 'Oil', 1, 300)\n",
    "  INTO OrderDetails VALUES (12, 'Sugar', 1, 250)\n",
    "  INTO OrderDetails VALUES (13, 'Mobile', 1, 700)\n",
    "  INTO OrderDetails VALUES (13, 'Charger', 1, 150)\n",
    "  INTO OrderDetails VALUES (14, 'Mixer', 1, 400)\n",
    "  INTO OrderDetails VALUES (14, 'Grinder', 1, 300)\n",
    "  INTO OrderDetails VALUES (15, 'TV', 1, 1500)\n",
    "  INTO OrderDetails VALUES (15, 'Remote', 1, 200)\n",
    "  INTO OrderDetails VALUES (16, 'Chair', 1, 600)\n",
    "  INTO OrderDetails VALUES (16, 'Table', 1, 800)\n",
    "  INTO OrderDetails VALUES (17, 'Pen', 1, 20)\n",
    "  INTO OrderDetails VALUES (17, 'Notebook', 1, 50)\n",
    "  INTO OrderDetails VALUES (17, 'Bag', 1, 200)\n",
    "  INTO OrderDetails VALUES (18, 'Shoes', 1, 900)\n",
    "  INTO OrderDetails VALUES (18, 'Socks', 1, 100)\n",
    "SELECT * FROM dual;"
   ]
  },
  {
   "cell_type": "code",
   "execution_count": null,
   "id": "e80a5142",
   "metadata": {},
   "outputs": [],
   "source": [
    "INSERT ALL\n",
    "  INTO OrderDetails VALUES (19, 'Watch', 1, 1200)\n",
    "  INTO OrderDetails VALUES (19, 'Earphones', 1, 400)\n",
    "  INTO OrderDetails VALUES (20, 'Fan', 1, 1000)\n",
    "  INTO OrderDetails VALUES (20, 'Cooler', 1, 2500)\n",
    "  INTO OrderDetails VALUES (21, 'Laptop', 1, 800)\n",
    "  INTO OrderDetails VALUES (21, 'Mouse', 1, 200)\n",
    "  INTO OrderDetails VALUES (22, 'Rice', 1, 500)\n",
    "  INTO OrderDetails VALUES (22, 'Oil', 1, 300)\n",
    "  INTO OrderDetails VALUES (22, 'Sugar', 1, 250)\n",
    "  INTO OrderDetails VALUES (23, 'Mobile', 1, 700)\n",
    "  INTO OrderDetails VALUES (23, 'Charger', 1, 150)\n",
    "  INTO OrderDetails VALUES (24, 'Mixer', 1, 400)\n",
    "  INTO OrderDetails VALUES (24, 'Grinder', 1, 300)\n",
    "  INTO OrderDetails VALUES (25, 'TV', 1, 1500)\n",
    "  INTO OrderDetails VALUES (25, 'Remote', 1, 200)\n",
    "  INTO OrderDetails VALUES (26, 'Chair', 1, 600)\n",
    "  INTO OrderDetails VALUES (26, 'Table', 1, 800)\n",
    "  INTO OrderDetails VALUES (27, 'Pen', 1, 20)\n",
    "  INTO OrderDetails VALUES (27, 'Notebook', 1, 50)\n",
    "  INTO OrderDetails VALUES (27, 'Bag', 1, 200)\n",
    "SELECT * FROM dual;"
   ]
  },
  {
   "cell_type": "code",
   "execution_count": null,
   "id": "57ac8a9c",
   "metadata": {},
   "outputs": [],
   "source": [
    "INSERT ALL\n",
    "  INTO OrderDetails VALUES (28, 'Shoes', 1, 900)\n",
    "  INTO OrderDetails VALUES (28, 'Socks', 1, 100)\n",
    "  INTO OrderDetails VALUES (29, 'Watch', 1, 1200)\n",
    "  INTO OrderDetails VALUES (29, 'Earphones', 1, 400)\n",
    "  INTO OrderDetails VALUES (30, 'Fan', 1, 1000)\n",
    "  INTO OrderDetails VALUES (30, 'Cooler', 1, 2500)\n",
    "  INTO OrderDetails VALUES (31, 'Laptop', 1, 800)\n",
    "  INTO OrderDetails VALUES (31, 'Mouse', 1, 200)\n",
    "  INTO OrderDetails VALUES (32, 'Rice', 1, 500)\n",
    "  INTO OrderDetails VALUES (32, 'Oil', 1, 300)\n",
    "  INTO OrderDetails VALUES (32, 'Sugar', 1, 250)\n",
    "  INTO OrderDetails VALUES (33, 'Mobile', 1, 700)\n",
    "  INTO OrderDetails VALUES (33, 'Charger', 1, 150)\n",
    "  INTO OrderDetails VALUES (34, 'Mixer', 1, 400)\n",
    "  INTO OrderDetails VALUES (34, 'Grinder', 1, 300)\n",
    "  INTO OrderDetails VALUES (35, 'TV', 1, 1500)\n",
    "  INTO OrderDetails VALUES (35, 'Remote', 1, 200)\n",
    "  INTO OrderDetails VALUES (36, 'Chair', 1, 600)\n",
    "  INTO OrderDetails VALUES (36, 'Table', 1, 800)\n",
    "  INTO OrderDetails VALUES (37, 'Pen', 1, 20)\n",
    "SELECT * FROM dual;"
   ]
  },
  {
   "cell_type": "code",
   "execution_count": null,
   "id": "e5ad9486",
   "metadata": {},
   "outputs": [],
   "source": [
    "INSERT ALL\n",
    "  INTO OrderDetails VALUES (37, 'Notebook', 1, 50)\n",
    "  INTO OrderDetails VALUES (37, 'Bag', 1, 200)\n",
    "  INTO OrderDetails VALUES (38, 'Shoes', 1, 900)\n",
    "  INTO OrderDetails VALUES (38, 'Socks', 1, 100)\n",
    "  INTO OrderDetails VALUES (39, 'Watch', 1, 1200)\n",
    "  INTO OrderDetails VALUES (39, 'Earphones', 1, 400)\n",
    "  INTO OrderDetails VALUES (40, 'Fan', 1, 1000)\n",
    "  INTO OrderDetails VALUES (40, 'Cooler', 1, 2500)\n",
    "  INTO OrderDetails VALUES (41, 'Laptop', 1, 800)\n",
    "  INTO OrderDetails VALUES (41, 'Mouse', 1, 200)\n",
    "  INTO OrderDetails VALUES (42, 'Rice', 1, 500)\n",
    "  INTO OrderDetails VALUES (42, 'Oil', 1, 300)\n",
    "  INTO OrderDetails VALUES (42, 'Sugar', 1, 250)\n",
    "  INTO OrderDetails VALUES (43, 'Mobile', 1, 700)\n",
    "  INTO OrderDetails VALUES (43, 'Charger', 1, 150)\n",
    "  INTO OrderDetails VALUES (44, 'Mixer', 1, 400)\n",
    "  INTO OrderDetails VALUES (44, 'Grinder', 1, 300)\n",
    "  INTO OrderDetails VALUES (45, 'TV', 1, 1500)\n",
    "  INTO OrderDetails VALUES (45, 'Remote', 1, 200)\n",
    "  INTO OrderDetails VALUES (46, 'Chair', 1, 600)\n",
    "SELECT * FROM dual;"
   ]
  },
  {
   "cell_type": "code",
   "execution_count": null,
   "id": "74966b8a",
   "metadata": {},
   "outputs": [],
   "source": [
    "INSERT ALL\n",
    "  INTO OrderDetails VALUES (46, 'Table', 1, 800)\n",
    "  INTO OrderDetails VALUES (47, 'Pen', 1, 20)\n",
    "  INTO OrderDetails VALUES (47, 'Notebook', 1, 50)\n",
    "  INTO OrderDetails VALUES (47, 'Bag', 1, 200)\n",
    "  INTO OrderDetails VALUES (48, 'Shoes', 1, 900)\n",
    "  INTO OrderDetails VALUES (48, 'Socks', 1, 100)\n",
    "  INTO OrderDetails VALUES (49, 'Watch', 1, 1200)\n",
    "  INTO OrderDetails VALUES (49, 'Earphones', 1, 400)\n",
    "  INTO OrderDetails VALUES (50, 'Fan', 1, 1000)\n",
    "  INTO OrderDetails VALUES (50, 'Cooler', 1, 2500)\n",
    "SELECT * FROM dual;"
   ]
  },
  {
   "cell_type": "code",
   "execution_count": null,
   "id": "994825c3",
   "metadata": {},
   "outputs": [],
   "source": [
    "SELECT * FROM OrderDetails;"
   ]
  },
  {
   "cell_type": "markdown",
   "id": "31bd4d42",
   "metadata": {},
   "source": [
    "- Customer data separated into `Customers` table.\n",
    "- Orders linked to customers using `CustomerID`.\n",
    "- `OrderDetails` holds product-level info.\n",
    "- Achieved 2NF: removed **partial dependency**.\n",
    "- Still issue: product prices repeat in every order detail.\n",
    "- Next: move to **3NF** to separate Products."
   ]
  }
 ],
 "metadata": {
  "language_info": {
   "name": "python"
  }
 },
 "nbformat": 4,
 "nbformat_minor": 5
}
