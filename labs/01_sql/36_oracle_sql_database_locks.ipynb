{
 "cells": [
  {
   "cell_type": "markdown",
   "id": "d46e95d2",
   "metadata": {},
   "source": [
    "# Demonstrating Database Locks in Oracle SQL"
   ]
  },
  {
   "cell_type": "markdown",
   "id": "06c6a449",
   "metadata": {},
   "source": [
    "This notebook demonstrates how **database locks** work in Oracle SQL. We will use two separate sessions (Session A and Session B) to see how row-level locking works.\n",
    "\n",
    "⚠️ Important: To observe locks in action, you must run Session A and Session B commands in **two different SQL*Plus windows or terminals**."
   ]
  },
  {
   "cell_type": "markdown",
   "id": "3fd61850",
   "metadata": {},
   "source": [
    "### Step 1: Setup Demo Table\n",
    "Create a simple `bank_accounts` table and insert some data."
   ]
  },
  {
   "cell_type": "code",
   "execution_count": null,
   "id": "87465143",
   "metadata": {},
   "outputs": [],
   "source": [
    "CREATE TABLE bank_accounts (\n",
    "    acc_id   NUMBER PRIMARY KEY,\n",
    "    acc_name VARCHAR2(50),\n",
    "    balance  NUMBER\n",
    ");\n",
    "\n",
    "INSERT INTO bank_accounts VALUES (1, 'Arjun', 5000);\n",
    "INSERT INTO bank_accounts VALUES (2, 'Priya',   3000);\n",
    "COMMIT;\n",
    "\n",
    "SELECT * FROM bank_accounts;"
   ]
  },
  {
   "cell_type": "markdown",
   "id": "02c0cdc7",
   "metadata": {},
   "source": [
    "### Step 2: Session A - Acquire a Lock\n",
    "Session A locks a row using `FOR UPDATE`. Do not COMMIT or ROLLBACK yet."
   ]
  },
  {
   "cell_type": "code",
   "execution_count": null,
   "id": "f41d439f",
   "metadata": {},
   "outputs": [],
   "source": [
    "-- Session A\n",
    "SELECT * FROM bank_accounts WHERE acc_id = 1 FOR UPDATE;"
   ]
  },
  {
   "cell_type": "markdown",
   "id": "97c4d7c4",
   "metadata": {},
   "source": [
    "### Step 3: Session B - Attempt Update\n",
    "Session B tries to update the same row. This will hang until Session A releases the lock."
   ]
  },
  {
   "cell_type": "code",
   "execution_count": null,
   "id": "c0d35061",
   "metadata": {},
   "outputs": [],
   "source": [
    "-- Session B\n",
    "UPDATE bank_accounts SET balance = balance - 500 WHERE acc_id = 1;"
   ]
  },
  {
   "cell_type": "markdown",
   "id": "ca256b05",
   "metadata": {},
   "source": [
    "### Step 4: Release the Lock\n",
    "Now go back to Session A and commit or rollback. Session B's statement will complete once the lock is released."
   ]
  },
  {
   "cell_type": "code",
   "execution_count": null,
   "id": "7ad863eb",
   "metadata": {},
   "outputs": [],
   "source": [
    "-- Session A\n",
    "COMMIT;"
   ]
  },
  {
   "cell_type": "markdown",
   "id": "f0d67ba6",
   "metadata": {},
   "source": [
    "### Step 5: Verify Result\n",
    "Check the updated balances after releasing the lock."
   ]
  },
  {
   "cell_type": "code",
   "execution_count": null,
   "id": "6409bfa4",
   "metadata": {},
   "outputs": [],
   "source": [
    "SELECT * FROM bank_accounts;"
   ]
  }
 ],
 "metadata": {
  "language_info": {
   "name": "python"
  }
 },
 "nbformat": 4,
 "nbformat_minor": 5
}
