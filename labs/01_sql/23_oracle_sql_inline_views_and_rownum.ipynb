{
 "cells": [
  {
   "cell_type": "markdown",
   "id": "4236fe3b",
   "metadata": {},
   "source": [
    "# Inline Views and ROWNUM"
   ]
  },
  {
   "cell_type": "markdown",
   "id": "6df60bd3",
   "metadata": {},
   "source": [
    "### Inline Views\n",
    "Inline views allow us to reuse derived columns like annual salary in filtering."
   ]
  },
  {
   "cell_type": "code",
   "execution_count": null,
   "id": "3b32fa29",
   "metadata": {},
   "outputs": [],
   "source": [
    "SELECT ename, sal, sal*12 annual_salary FROM emp WHERE annual_salary > 30000;"
   ]
  },
  {
   "cell_type": "code",
   "execution_count": null,
   "id": "82caca34",
   "metadata": {},
   "outputs": [],
   "source": [
    "SELECT * FROM (SELECT ename, sal, sal*12 annual_salary FROM emp) WHERE annual_salary > 30000;"
   ]
  },
  {
   "cell_type": "markdown",
   "id": "0d0c5bcb",
   "metadata": {},
   "source": [
    "### ROWNUM Basics\n",
    "ROWNUM generates sequential numbers for rows in the result set."
   ]
  },
  {
   "cell_type": "code",
   "execution_count": null,
   "id": "64911bc2",
   "metadata": {},
   "outputs": [],
   "source": [
    "SELECT rownum, ename FROM emp;"
   ]
  },
  {
   "cell_type": "code",
   "execution_count": null,
   "id": "11b232bc",
   "metadata": {},
   "outputs": [],
   "source": [
    "SELECT rownum, ename FROM emp WHERE deptno = 10;"
   ]
  },
  {
   "cell_type": "code",
   "execution_count": null,
   "id": "beddb465",
   "metadata": {},
   "outputs": [],
   "source": [
    "SELECT * FROM emp WHERE rownum = 1;"
   ]
  },
  {
   "cell_type": "code",
   "execution_count": null,
   "id": "b1120a13",
   "metadata": {},
   "outputs": [],
   "source": [
    "SELECT * FROM emp WHERE rownum = 2;"
   ]
  },
  {
   "cell_type": "code",
   "execution_count": null,
   "id": "ada796f3",
   "metadata": {},
   "outputs": [],
   "source": [
    "SELECT * FROM emp WHERE rownum <= 5;"
   ]
  },
  {
   "cell_type": "markdown",
   "id": "42205648",
   "metadata": {},
   "source": [
    "Use ORDER BY with a subquery to select top 5 employees by salary."
   ]
  },
  {
   "cell_type": "code",
   "execution_count": null,
   "id": "13768050",
   "metadata": {},
   "outputs": [],
   "source": [
    "SELECT * FROM (SELECT * FROM emp ORDER BY sal DESC) WHERE rownum <= 5;"
   ]
  },
  {
   "cell_type": "markdown",
   "id": "4df49968",
   "metadata": {},
   "source": [
    "### Nth Highest Salary with ROWNUM\n",
    "Fetch the 5th highest salary employee using MINUS with rownum filtering."
   ]
  },
  {
   "cell_type": "code",
   "execution_count": null,
   "id": "e0dcf558",
   "metadata": {},
   "outputs": [],
   "source": [
    "SELECT * FROM (SELECT * FROM emp ORDER BY sal DESC) WHERE rownum <= 5\n",
    "MINUS \n",
    "SELECT * FROM (SELECT * FROM emp ORDER BY sal DESC) WHERE rownum <= 4;"
   ]
  }
 ],
 "metadata": {
  "language_info": {
   "name": "python"
  }
 },
 "nbformat": 4,
 "nbformat_minor": 5
}
