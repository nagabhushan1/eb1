{
 "cells": [
  {
   "cell_type": "markdown",
   "id": "676c3a1b",
   "metadata": {},
   "source": [
    "### UPPER Function\n",
    "The `UPPER` function converts a string to uppercase."
   ]
  },
  {
   "cell_type": "code",
   "execution_count": null,
   "id": "c24e4281",
   "metadata": {},
   "outputs": [],
   "source": [
    "SELECT UPPER('today is a wonderful day') FROM DUAL;"
   ]
  },
  {
   "cell_type": "markdown",
   "id": "2e90e5c3",
   "metadata": {},
   "source": [
    "### LOWER Function\n",
    "The `LOWER` function converts a string to lowercase."
   ]
  },
  {
   "cell_type": "code",
   "execution_count": null,
   "id": "8c0dfb24",
   "metadata": {},
   "outputs": [],
   "source": [
    "SELECT LOWER('TODAY IS A WONDERFUL DAY') FROM DUAL;"
   ]
  },
  {
   "cell_type": "markdown",
   "id": "0bf8aa29",
   "metadata": {},
   "source": [
    "### INITCAP Function\n",
    "The `INITCAP` function capitalizes the first letter of each word in a string."
   ]
  },
  {
   "cell_type": "code",
   "execution_count": null,
   "id": "c93fc656",
   "metadata": {},
   "outputs": [],
   "source": [
    "SELECT INITCAP('today is a wonderful day') FROM DUAL;"
   ]
  },
  {
   "cell_type": "markdown",
   "id": "13b1b735",
   "metadata": {},
   "source": [
    "### LENGTH Function\n",
    "The `LENGTH` function returns the number of characters in a string."
   ]
  },
  {
   "cell_type": "code",
   "execution_count": null,
   "id": "8e44f54e",
   "metadata": {},
   "outputs": [],
   "source": [
    "SELECT LENGTH('AB CD') FROM DUAL;"
   ]
  },
  {
   "cell_type": "code",
   "execution_count": null,
   "id": "a0fac616",
   "metadata": {},
   "outputs": [],
   "source": [
    "SELECT ENAME FROM EMP WHERE LENGTH(ENAME) = 5;"
   ]
  },
  {
   "cell_type": "markdown",
   "id": "ea2ddaca",
   "metadata": {},
   "source": [
    "### SUBSTR Function\n",
    "The `SUBSTR` function extracts a substring from a string, starting at a given position, with an optional length."
   ]
  },
  {
   "cell_type": "code",
   "execution_count": null,
   "id": "ab222577",
   "metadata": {},
   "outputs": [],
   "source": [
    "SELECT SUBSTR('ABCDEF', 2, 3) FROM DUAL;"
   ]
  },
  {
   "cell_type": "code",
   "execution_count": null,
   "id": "4b3088c2",
   "metadata": {},
   "outputs": [],
   "source": [
    "SELECT SUBSTR('ABCDEF', 2) FROM DUAL;"
   ]
  },
  {
   "cell_type": "code",
   "execution_count": null,
   "id": "78884cc6",
   "metadata": {},
   "outputs": [],
   "source": [
    "SELECT SUBSTR('ABCDEF', -1) FROM DUAL;"
   ]
  },
  {
   "cell_type": "code",
   "execution_count": null,
   "id": "3cecf2a4",
   "metadata": {},
   "outputs": [],
   "source": [
    "SELECT SUBSTR('ABCDEF', -1, 1) FROM DUAL;"
   ]
  },
  {
   "cell_type": "code",
   "execution_count": null,
   "id": "2108eb37",
   "metadata": {},
   "outputs": [],
   "source": [
    "SELECT SUBSTR('ABCDEF', -3, 3) FROM DUAL;"
   ]
  },
  {
   "cell_type": "code",
   "execution_count": null,
   "id": "8edf759f",
   "metadata": {},
   "outputs": [],
   "source": [
    "SELECT SUBSTR('ABCDEF', -3, 2) FROM DUAL;"
   ]
  },
  {
   "cell_type": "code",
   "execution_count": null,
   "id": "f266f42d",
   "metadata": {},
   "outputs": [],
   "source": [
    "SELECT * FROM EMP WHERE SUBSTR(ENAME, 2, 2) = 'LA';"
   ]
  },
  {
   "cell_type": "markdown",
   "id": "5ef9f25e",
   "metadata": {},
   "source": [
    "### INSTR Function\n",
    "The `INSTR` function returns the position of a substring within a string."
   ]
  },
  {
   "cell_type": "code",
   "execution_count": null,
   "id": "829c25cf",
   "metadata": {},
   "outputs": [],
   "source": [
    "SELECT INSTR('ABC*D', '*') FROM DUAL;"
   ]
  },
  {
   "cell_type": "code",
   "execution_count": null,
   "id": "41e5f655",
   "metadata": {},
   "outputs": [],
   "source": [
    "SELECT INSTR('ABDCDEF', 'DC') FROM DUAL;"
   ]
  },
  {
   "cell_type": "markdown",
   "id": "1974271c",
   "metadata": {},
   "source": [
    "### LPAD Function\n",
    "The `LPAD` function pads the left side of a string with a specified character up to a given length."
   ]
  },
  {
   "cell_type": "code",
   "execution_count": null,
   "id": "0de33e9a",
   "metadata": {},
   "outputs": [],
   "source": [
    "SELECT LPAD('ABCD', 10, '*') FROM DUAL;"
   ]
  },
  {
   "cell_type": "code",
   "execution_count": null,
   "id": "4025654c",
   "metadata": {},
   "outputs": [],
   "source": [
    "SELECT LPAD('AB', 10, '*') FROM DUAL;"
   ]
  },
  {
   "cell_type": "markdown",
   "id": "c9ff8fc8",
   "metadata": {},
   "source": [
    "### RPAD Function\n",
    "The `RPAD` function pads the right side of a string with a specified character up to a given length."
   ]
  },
  {
   "cell_type": "code",
   "execution_count": null,
   "id": "9c489707",
   "metadata": {},
   "outputs": [],
   "source": [
    "SELECT RPAD('ABCD', 10, '*') FROM DUAL;"
   ]
  },
  {
   "cell_type": "code",
   "execution_count": null,
   "id": "bf0642de",
   "metadata": {},
   "outputs": [],
   "source": [
    "SELECT RPAD('AB', 10, '*') FROM DUAL;"
   ]
  },
  {
   "cell_type": "markdown",
   "id": "9c8ca3a0",
   "metadata": {},
   "source": [
    "### LTRIM Function\n",
    "The `LTRIM` function removes leading spaces or specified characters from a string."
   ]
  },
  {
   "cell_type": "code",
   "execution_count": null,
   "id": "f31b78d9",
   "metadata": {},
   "outputs": [],
   "source": [
    "SELECT LENGTH('             ABC                ') FROM DUAL;"
   ]
  },
  {
   "cell_type": "code",
   "execution_count": null,
   "id": "f181cb2d",
   "metadata": {},
   "outputs": [],
   "source": [
    "SELECT LTRIM('             ABC                '), LENGTH(LTRIM('             ABC                ')) AS LENGTH_AFTER_LTRIM FROM DUAL;"
   ]
  },
  {
   "cell_type": "code",
   "execution_count": null,
   "id": "0f315898",
   "metadata": {},
   "outputs": [],
   "source": [
    "SELECT LTRIM('******ABC********', '*') FROM DUAL;"
   ]
  },
  {
   "cell_type": "markdown",
   "id": "367f45f8",
   "metadata": {},
   "source": [
    "### RTRIM Function\n",
    "The `RTRIM` function removes trailing spaces or specified characters from a string."
   ]
  },
  {
   "cell_type": "code",
   "execution_count": null,
   "id": "4bccded8",
   "metadata": {},
   "outputs": [],
   "source": [
    "SELECT RTRIM('             ABC                '), LENGTH(RTRIM('             ABC                ')) AS LENGTH_AFTER_RTRIM FROM DUAL;"
   ]
  },
  {
   "cell_type": "code",
   "execution_count": null,
   "id": "2e92f288",
   "metadata": {},
   "outputs": [],
   "source": [
    "SELECT RTRIM('******ABC********', '*') FROM DUAL;"
   ]
  },
  {
   "cell_type": "markdown",
   "id": "96ca5bb2",
   "metadata": {},
   "source": [
    "### TRIM Function\n",
    "The `TRIM` function removes leading and trailing spaces or specified characters from a string."
   ]
  },
  {
   "cell_type": "code",
   "execution_count": null,
   "id": "1f2eff67",
   "metadata": {},
   "outputs": [],
   "source": [
    "SELECT TRIM('             ABC                '), LENGTH(TRIM('             ABC                ')) AS LENGTH_AFTER_TRIM FROM DUAL;"
   ]
  },
  {
   "cell_type": "code",
   "execution_count": null,
   "id": "09b4d284",
   "metadata": {},
   "outputs": [],
   "source": [
    "SELECT TRIM('*' FROM '******ABC********') FROM DUAL;"
   ]
  },
  {
   "cell_type": "markdown",
   "id": "d2feaed0",
   "metadata": {},
   "source": [
    "### REPLACE Function\n",
    "The `REPLACE` function replaces occurrences of a substring with another substring."
   ]
  },
  {
   "cell_type": "code",
   "execution_count": null,
   "id": "31021bad",
   "metadata": {},
   "outputs": [],
   "source": [
    "SELECT 'ENTRY', REPLACE('ENTRY', 'TRY', 'TER') FROM DUAL;"
   ]
  },
  {
   "cell_type": "code",
   "execution_count": null,
   "id": "8a2ff1bd",
   "metadata": {},
   "outputs": [],
   "source": [
    "SELECT JOB, REPLACE(JOB, 'SALESMAN', 'MARKETING') FROM EMP;"
   ]
  }
 ],
 "metadata": {},
 "nbformat": 4,
 "nbformat_minor": 5
}
