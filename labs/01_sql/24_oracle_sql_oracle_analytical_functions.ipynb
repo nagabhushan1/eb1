{
 "cells": [
  {
   "cell_type": "markdown",
   "id": "d48cefc8",
   "metadata": {},
   "source": [
    "## Step 1: Create table and load demo data"
   ]
  },
  {
   "cell_type": "code",
   "execution_count": null,
   "id": "4487f5a9",
   "metadata": {},
   "outputs": [],
   "source": [
    "\n",
    "-- Drop and recreate\n",
    "DROP TABLE ORDERITEM PURGE;\n",
    "\n",
    "CREATE TABLE ORDERITEM (\n",
    "  ORDERITEM_ID NUMBER(10) PRIMARY KEY,\n",
    "  ORDER_DATE   DATE,              -- stores date + time\n",
    "  PRODUCTNAME  VARCHAR2(50),\n",
    "  SALES        NUMBER(10)\n",
    ");\n",
    "\n",
    "INSERT INTO ORDERITEM VALUES (1,  DATE '2025-01-05', 'Apple iPhone', 50000);\n",
    "INSERT INTO ORDERITEM VALUES (2,  DATE '2025-01-08', 'Google Pixel', 30000);\n",
    "INSERT INTO ORDERITEM VALUES (3,  DATE '2025-01-15', 'Samsung S25', 40000);\n",
    "INSERT INTO ORDERITEM VALUES (4,  DATE '2025-01-20', 'Apple iPhone', 52000);\n",
    "INSERT INTO ORDERITEM VALUES (5,  DATE '2025-01-25', 'Google Pixel', 31000);\n",
    "\n",
    "INSERT INTO ORDERITEM VALUES (6,  DATE '2025-02-07', 'Apple iPhone', 55000);\n",
    "INSERT INTO ORDERITEM VALUES (7,  DATE '2025-02-07', 'Samsung S25', 48000);\n",
    "INSERT INTO ORDERITEM VALUES (8,  DATE '2025-02-07', 'Google Pixel', 36000);\n",
    "INSERT INTO ORDERITEM VALUES (9,  DATE '2025-02-07', 'Google Pixel', 35000);\n",
    "INSERT INTO ORDERITEM VALUES (10, DATE '2025-02-12', 'Samsung S25', 45000);\n",
    "INSERT INTO ORDERITEM VALUES (11, DATE '2025-02-20', 'Apple iPhone', 57000);\n",
    "INSERT INTO ORDERITEM VALUES (12, DATE '2025-02-27', 'Google Pixel', 36000);\n",
    "INSERT INTO ORDERITEM VALUES (13, DATE '2025-02-28', 'Samsung S25', 47000);\n",
    "\n",
    "COMMIT;\n"
   ]
  },
  {
   "cell_type": "markdown",
   "id": "11dad00e",
   "metadata": {},
   "source": [
    "## Step 2: Explore the data"
   ]
  },
  {
   "cell_type": "code",
   "execution_count": null,
   "id": "ce86f7e6",
   "metadata": {},
   "outputs": [],
   "source": [
    "\n",
    "SELECT ORDERITEM_ID, ORDER_DATE, PRODUCTNAME, SALES\n",
    "FROM ORDERITEM\n",
    "ORDER BY ORDER_DATE, ORDERITEM_ID;\n"
   ]
  },
  {
   "cell_type": "markdown",
   "id": "846d9a8a",
   "metadata": {},
   "source": [
    "## Step 3: Total sales (simple aggregate)"
   ]
  },
  {
   "cell_type": "code",
   "execution_count": null,
   "id": "07ca4b3a",
   "metadata": {},
   "outputs": [],
   "source": [
    "SELECT SUM(SALES) AS TOTAL_SALES FROM ORDERITEM;"
   ]
  },
  {
   "cell_type": "markdown",
   "id": "1b50bf15",
   "metadata": {},
   "source": [
    "## Step 4: GROUP BY pitfalls (these illustrate common mistakes)"
   ]
  },
  {
   "cell_type": "code",
   "execution_count": null,
   "id": "13c06cb1",
   "metadata": {},
   "outputs": [],
   "source": [
    "\n",
    "-- ORA-00937\n",
    "SELECT ORDER_DATE, PRODUCTNAME, SUM(SALES) AS TOTAL_SALES\n",
    "FROM ORDERITEM;\n"
   ]
  },
  {
   "cell_type": "code",
   "execution_count": null,
   "id": "c4fc63b7",
   "metadata": {},
   "outputs": [],
   "source": [
    "\n",
    "-- ORA-00979\n",
    "SELECT ORDER_DATE, PRODUCTNAME, SALES, SUM(SALES) AS TOTAL_SALES\n",
    "FROM ORDERITEM\n",
    "GROUP BY ORDER_DATE;\n"
   ]
  },
  {
   "cell_type": "code",
   "execution_count": null,
   "id": "8a3b5065",
   "metadata": {},
   "outputs": [],
   "source": [
    "\n",
    "-- Syntactically valid but not insightful\n",
    "SELECT ORDER_DATE, PRODUCTNAME, SALES, SUM(SALES) AS TOTAL_SALES\n",
    "FROM ORDERITEM\n",
    "GROUP BY ORDER_DATE, PRODUCTNAME, SALES\n",
    "ORDER BY ORDER_DATE, ORDERITEM_ID;\n"
   ]
  },
  {
   "cell_type": "markdown",
   "id": "af41ceac",
   "metadata": {},
   "source": [
    "## Step 5: Analytic grand total per row (`OVER()`)"
   ]
  },
  {
   "cell_type": "code",
   "execution_count": null,
   "id": "af0f183f",
   "metadata": {},
   "outputs": [],
   "source": [
    "\n",
    "SELECT ORDER_DATE, PRODUCTNAME, SALES,\n",
    "       SUM(SALES) OVER() AS TOTAL_SALES\n",
    "FROM ORDERITEM\n",
    "ORDER BY ORDER_DATE, ORDERITEM_ID;\n"
   ]
  },
  {
   "cell_type": "markdown",
   "id": "5711ff78",
   "metadata": {},
   "source": [
    "## Step 6: Monthly total (partition by month)\n",
    "Use `TRUNC(ORDER_DATE,'MM')` to group by calendar month."
   ]
  },
  {
   "cell_type": "code",
   "execution_count": null,
   "id": "da1baa5a",
   "metadata": {},
   "outputs": [],
   "source": [
    "\n",
    "SELECT TRUNC(ORDER_DATE,'MM') AS ORDER_MONTH, PRODUCTNAME, SALES,\n",
    "       SUM(SALES) OVER (PARTITION BY TRUNC(ORDER_DATE,'MM')) AS MONTHLY_TOTAL\n",
    "FROM ORDERITEM\n",
    "ORDER BY ORDER_MONTH, ORDERITEM_ID;\n"
   ]
  },
  {
   "cell_type": "markdown",
   "id": "fabc46d5",
   "metadata": {},
   "source": [
    "## Step 7: Running monthly total (within each month)"
   ]
  },
  {
   "cell_type": "code",
   "execution_count": null,
   "id": "549565bc",
   "metadata": {},
   "outputs": [],
   "source": [
    "\n",
    "SELECT TRUNC(ORDER_DATE,'MM') AS ORDER_MONTH, PRODUCTNAME, SALES,\n",
    "       SUM(SALES) OVER (\n",
    "         PARTITION BY TRUNC(ORDER_DATE,'MM')\n",
    "         ORDER BY ORDER_DATE, ORDERITEM_ID\n",
    "         ROWS BETWEEN UNBOUNDED PRECEDING AND CURRENT ROW\n",
    "       ) AS RUNNING_MONTHLY_TOTAL\n",
    "FROM ORDERITEM\n",
    "ORDER BY ORDER_MONTH, ORDERITEM_ID;\n"
   ]
  }
 ],
 "metadata": {
  "language_info": {
   "name": "python"
  }
 },
 "nbformat": 4,
 "nbformat_minor": 5
}
