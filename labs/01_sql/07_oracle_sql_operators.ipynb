{
 "cells": [
  {
   "cell_type": "markdown",
   "id": "ee204f75",
   "metadata": {},
   "source": [
    "# SQL Operators "
   ]
  },
  {
   "cell_type": "markdown",
   "id": "69748e0d",
   "metadata": {},
   "source": [
    "## Arithmetic Operators (+, -, *, /)\n",
    "Perform mathematical calculations on numeric data.\n"
   ]
  },
  {
   "cell_type": "code",
   "execution_count": null,
   "id": "59246cae",
   "metadata": {},
   "outputs": [],
   "source": [
    "DROP TABLE PRODUCTS_OP;"
   ]
  },
  {
   "cell_type": "code",
   "execution_count": null,
   "id": "230d5fb8",
   "metadata": {},
   "outputs": [],
   "source": [
    "CREATE TABLE PRODUCTS_OP (\n",
    "    ProductID NUMBER PRIMARY KEY,\n",
    "    ProductName VARCHAR2(50),\n",
    "    Price NUMBER,\n",
    "    Quantity NUMBER\n",
    ");"
   ]
  },
  {
   "cell_type": "code",
   "execution_count": null,
   "id": "5f0c38f5",
   "metadata": {},
   "outputs": [],
   "source": [
    "DESC PRODUCTS_OP;"
   ]
  },
  {
   "cell_type": "code",
   "execution_count": null,
   "id": "60cb3430",
   "metadata": {},
   "outputs": [],
   "source": [
    "INSERT ALL\n",
    "  INTO PRODUCTS_OP VALUES (1, 'Laptop', 50000, 2)\n",
    "  INTO PRODUCTS_OP VALUES (2, 'Mouse', 500, 10)\n",
    "  INTO PRODUCTS_OP VALUES (3, 'Keyboard', 1500, 5)\n",
    "SELECT * FROM dual;"
   ]
  },
  {
   "cell_type": "code",
   "execution_count": null,
   "id": "43580229",
   "metadata": {},
   "outputs": [],
   "source": [
    "SELECT * FROM PRODUCTS_OP;"
   ]
  },
  {
   "cell_type": "code",
   "execution_count": null,
   "id": "c51eec29",
   "metadata": {},
   "outputs": [],
   "source": [
    "SELECT ProductName, Price + Quantity AS AddResult FROM PRODUCTS_OP;"
   ]
  },
  {
   "cell_type": "code",
   "execution_count": null,
   "id": "04b964db",
   "metadata": {},
   "outputs": [],
   "source": [
    "SELECT ProductName, Price - Quantity AS SubResult FROM PRODUCTS_OP;"
   ]
  },
  {
   "cell_type": "code",
   "execution_count": null,
   "id": "ceb08265",
   "metadata": {},
   "outputs": [],
   "source": [
    "SELECT ProductName, Price * Quantity AS TotalCost FROM PRODUCTS_OP;"
   ]
  },
  {
   "cell_type": "code",
   "execution_count": null,
   "id": "9e060300",
   "metadata": {},
   "outputs": [],
   "source": [
    "SELECT ProductName, Price / Quantity AS UnitDiv FROM PRODUCTS_OP;"
   ]
  },
  {
   "cell_type": "markdown",
   "id": "6282b469",
   "metadata": {},
   "source": [
    "### Invalid query (division by zero)"
   ]
  },
  {
   "cell_type": "code",
   "execution_count": null,
   "id": "58626b5b",
   "metadata": {},
   "outputs": [],
   "source": [
    "SELECT Price / 0 FROM PRODUCTS_OP;"
   ]
  },
  {
   "cell_type": "markdown",
   "id": "dfd63f94",
   "metadata": {},
   "source": [
    "## Relational Operators (=, <, >, <=, >=, <>, !=)\n",
    "Compare values to return TRUE/FALSE.\n"
   ]
  },
  {
   "cell_type": "code",
   "execution_count": null,
   "id": "98599429",
   "metadata": {},
   "outputs": [],
   "source": [
    "DROP TABLE EMP_REL;"
   ]
  },
  {
   "cell_type": "code",
   "execution_count": null,
   "id": "3ad759dd",
   "metadata": {},
   "outputs": [],
   "source": [
    "CREATE TABLE EMP_REL (\n",
    "    EmpID NUMBER PRIMARY KEY,\n",
    "    EmpName VARCHAR2(50),\n",
    "    Salary NUMBER\n",
    ");"
   ]
  },
  {
   "cell_type": "code",
   "execution_count": null,
   "id": "a60e8c7b",
   "metadata": {},
   "outputs": [],
   "source": [
    "DESC EMP_REL;"
   ]
  },
  {
   "cell_type": "code",
   "execution_count": null,
   "id": "c253ace2",
   "metadata": {},
   "outputs": [],
   "source": [
    "INSERT ALL\n",
    "  INTO EMP_REL VALUES (1, 'Arjun Sharma', 60000)\n",
    "  INTO EMP_REL VALUES (2, 'Priya Nair', 45000)\n",
    "  INTO EMP_REL VALUES (3, 'Ramesh Iyer', 70000)\n",
    "SELECT * FROM dual;"
   ]
  },
  {
   "cell_type": "code",
   "execution_count": null,
   "id": "424b384b",
   "metadata": {},
   "outputs": [],
   "source": [
    "SELECT * FROM EMP_REL;"
   ]
  },
  {
   "cell_type": "code",
   "execution_count": null,
   "id": "8a7dae26",
   "metadata": {},
   "outputs": [],
   "source": [
    "SELECT * FROM EMP_REL WHERE Salary >= 50000;"
   ]
  },
  {
   "cell_type": "code",
   "execution_count": null,
   "id": "5d0638d0",
   "metadata": {},
   "outputs": [],
   "source": [
    "SELECT * FROM EMP_REL WHERE Salary <> 60000;"
   ]
  },
  {
   "cell_type": "code",
   "execution_count": null,
   "id": "d3c39cd0",
   "metadata": {},
   "outputs": [],
   "source": [
    "SELECT * FROM EMP_REL WHERE Salary = 45000;"
   ]
  },
  {
   "cell_type": "markdown",
   "id": "73388df0",
   "metadata": {},
   "source": [
    "### Invalid query (datatype mismatch)"
   ]
  },
  {
   "cell_type": "code",
   "execution_count": null,
   "id": "437a2353",
   "metadata": {},
   "outputs": [],
   "source": [
    "SELECT * FROM EMP_REL WHERE Salary = 'ABC'; "
   ]
  },
  {
   "cell_type": "markdown",
   "id": "368f2432",
   "metadata": {},
   "source": [
    "## Logical Operators (AND, OR, NOT)\n",
    "Combine multiple conditions in WHERE clause.\n"
   ]
  },
  {
   "cell_type": "code",
   "execution_count": null,
   "id": "72ccd1d4",
   "metadata": {},
   "outputs": [],
   "source": [
    "DROP TABLE CUST_LOGIC;"
   ]
  },
  {
   "cell_type": "code",
   "execution_count": null,
   "id": "f9ef89b7",
   "metadata": {},
   "outputs": [],
   "source": [
    "CREATE TABLE CUST_LOGIC (\n",
    "    CustomerID NUMBER PRIMARY KEY,\n",
    "    CustomerName VARCHAR2(50),\n",
    "    City VARCHAR2(50),\n",
    "    Status VARCHAR2(20)\n",
    ");"
   ]
  },
  {
   "cell_type": "code",
   "execution_count": null,
   "id": "50b7bc83",
   "metadata": {},
   "outputs": [],
   "source": [
    "DESC CUST_LOGIC;"
   ]
  },
  {
   "cell_type": "code",
   "execution_count": null,
   "id": "3ce04665",
   "metadata": {},
   "outputs": [],
   "source": [
    "INSERT ALL\n",
    "  INTO CUST_LOGIC VALUES (1, 'Arjun Sharma', 'Bengaluru', 'Active')\n",
    "  INTO CUST_LOGIC VALUES (2, 'Priya Nair', 'Chennai', 'Inactive')\n",
    "  INTO CUST_LOGIC VALUES (3, 'Ramesh Iyer', 'Hyderabad', 'Active')\n",
    "  INTO CUST_LOGIC VALUES (4, 'Kavita Desai', 'Mumbai', 'Active')\n",
    "SELECT * FROM dual;"
   ]
  },
  {
   "cell_type": "code",
   "execution_count": null,
   "id": "cbb7aa3c",
   "metadata": {},
   "outputs": [],
   "source": [
    "SELECT * FROM CUST_LOGIC;"
   ]
  },
  {
   "cell_type": "code",
   "execution_count": null,
   "id": "4ac2fdb6",
   "metadata": {},
   "outputs": [],
   "source": [
    "SELECT * FROM CUST_LOGIC WHERE City='Chennai' AND Status='Inactive';"
   ]
  },
  {
   "cell_type": "code",
   "execution_count": null,
   "id": "e88a33e7",
   "metadata": {},
   "outputs": [],
   "source": [
    "SELECT * FROM CUST_LOGIC WHERE City='Mumbai' OR City='Chennai';"
   ]
  },
  {
   "cell_type": "code",
   "execution_count": null,
   "id": "3d08ab31",
   "metadata": {},
   "outputs": [],
   "source": [
    "SELECT * FROM CUST_LOGIC WHERE NOT City='Delhi';"
   ]
  },
  {
   "cell_type": "code",
   "execution_count": null,
   "id": "7ce54ba4",
   "metadata": {},
   "outputs": [],
   "source": [
    "SELECT * FROM CUST_LOGIC WHERE Status='Active' AND CustomerID > 1;"
   ]
  },
  {
   "cell_type": "markdown",
   "id": "a6c553e6",
   "metadata": {},
   "source": [
    "## Special Oracle Operators\n"
   ]
  },
  {
   "cell_type": "markdown",
   "id": "dced05af",
   "metadata": {},
   "source": [
    "### Concatenation Operator (||)"
   ]
  },
  {
   "cell_type": "code",
   "execution_count": null,
   "id": "bf98b5e3",
   "metadata": {},
   "outputs": [],
   "source": [
    "SELECT CustomerName || ' from ' || City AS FullInfo FROM CUST_LOGIC;"
   ]
  },
  {
   "cell_type": "code",
   "execution_count": null,
   "id": "03a38d83",
   "metadata": {},
   "outputs": [],
   "source": [
    "SELECT CustomerName || Status FROM CUST_LOGIC;"
   ]
  },
  {
   "cell_type": "markdown",
   "id": "d37d18a9",
   "metadata": {},
   "source": [
    "### IN Operator"
   ]
  },
  {
   "cell_type": "code",
   "execution_count": null,
   "id": "7fe7d0fc",
   "metadata": {},
   "outputs": [],
   "source": [
    "SELECT * FROM CUST_LOGIC WHERE City IN ('Mumbai','Chennai');"
   ]
  },
  {
   "cell_type": "code",
   "execution_count": null,
   "id": "098d6346",
   "metadata": {},
   "outputs": [],
   "source": [
    "SELECT * FROM CUST_LOGIC WHERE CustomerID IN (1,2,3); "
   ]
  },
  {
   "cell_type": "markdown",
   "id": "5c614654",
   "metadata": {},
   "source": [
    "### BETWEEN Operator"
   ]
  },
  {
   "cell_type": "code",
   "execution_count": null,
   "id": "f8f1ef8d",
   "metadata": {},
   "outputs": [],
   "source": [
    "SELECT * FROM EMP_REL WHERE Salary BETWEEN 45000 AND 70000;"
   ]
  },
  {
   "cell_type": "markdown",
   "id": "caf2ed00",
   "metadata": {},
   "source": [
    "### LIKE Operator"
   ]
  },
  {
   "cell_type": "code",
   "execution_count": null,
   "id": "030732e2",
   "metadata": {},
   "outputs": [],
   "source": [
    "SELECT * FROM CUST_LOGIC WHERE CustomerName LIKE 'A%';"
   ]
  },
  {
   "cell_type": "code",
   "execution_count": null,
   "id": "83ab8a17",
   "metadata": {},
   "outputs": [],
   "source": [
    "SELECT * FROM CUST_LOGIC WHERE CustomerName LIKE '%S'; "
   ]
  },
  {
   "cell_type": "markdown",
   "id": "3d04bd69",
   "metadata": {},
   "source": [
    "### IS NULL Operator"
   ]
  },
  {
   "cell_type": "code",
   "execution_count": null,
   "id": "80cce361",
   "metadata": {},
   "outputs": [],
   "source": [
    "SELECT * FROM CUST_LOGIC WHERE Status IS NULL;"
   ]
  },
  {
   "cell_type": "code",
   "execution_count": null,
   "id": "3e80b693",
   "metadata": {},
   "outputs": [],
   "source": [
    "SELECT * FROM CUST_LOGIC WHERE Status IS NOT NULL;"
   ]
  },
  {
   "cell_type": "code",
   "execution_count": null,
   "id": "e73a1919",
   "metadata": {},
   "outputs": [],
   "source": [
    "SELECT * FROM CUST_LOGIC WHERE Status != NULL; -- No results"
   ]
  },
  {
   "cell_type": "code",
   "execution_count": null,
   "id": "fb2eba97",
   "metadata": {},
   "outputs": [],
   "source": [
    "SELECT * FROM EMP_REL WHERE Salary > ALL (SELECT Salary FROM EMP_REL WHERE EmpName='Priya Nair');"
   ]
  },
  {
   "cell_type": "code",
   "execution_count": null,
   "id": "1cd38249",
   "metadata": {},
   "outputs": [],
   "source": [
    "SELECT * FROM EMP_REL WHERE Salary > ANY (SELECT Salary FROM EMP_REL);"
   ]
  },
  {
   "cell_type": "markdown",
   "id": "ffadd417",
   "metadata": {},
   "source": [
    "### EXISTS Operator"
   ]
  },
  {
   "cell_type": "code",
   "execution_count": null,
   "id": "0fe23194",
   "metadata": {},
   "outputs": [],
   "source": [
    "SELECT * FROM CUST_LOGIC c WHERE EXISTS (SELECT 1 FROM EMP_REL e WHERE e.EmpID = c.CustomerID);"
   ]
  },
  {
   "cell_type": "markdown",
   "id": "02c82743",
   "metadata": {},
   "source": [
    "## Cheat Sheet\n",
    "| Operator Type | Symbols / Keywords | Example | Notes |\n",
    "|---------------|--------------------|---------|-------|\n",
    "| Arithmetic | +, -, *, / | `Price * Quantity` | Watch divide by zero |\n",
    "| Relational | =, <, >, <=, >=, <>, != | `Salary >= 50000` | Datatype mismatch → error |\n",
    "| Logical | AND, OR, NOT | `City='Chennai' AND Status='Active'` | Combine conditions |\n",
    "| Concatenation | `||` | `FirstName || ' ' || LastName` | Cast non-strings |\n",
    "| IN | IN (...) | `City IN ('Mumbai','Chennai')` | Values must match datatype |\n",
    "| BETWEEN | BETWEEN ... AND ... | `Salary BETWEEN 40k AND 60k` | Inclusive of bounds |\n",
    "| LIKE | LIKE pattern | `Name LIKE 'A%'` | Supports % and _ wildcards |\n",
    "| IS NULL | IS NULL / IS NOT NULL | `Email IS NULL` | `= NULL` is invalid |\n",
    "| ANY / ALL | ANY, ALL | `Salary > ALL (subquery)` | Subquery must return comparable datatype |\n",
    "| EXISTS | EXISTS (subquery) | `EXISTS (SELECT 1 ...)` | Checks for existence of rows |\n"
   ]
  }
 ],
 "metadata": {
  "language_info": {
   "name": "python"
  }
 },
 "nbformat": 4,
 "nbformat_minor": 5
}
