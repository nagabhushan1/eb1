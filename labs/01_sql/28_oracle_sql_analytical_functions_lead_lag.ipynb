{
 "cells": [
  {
   "cell_type": "markdown",
   "id": "fe0789ec",
   "metadata": {},
   "source": [
    "# Window Functions and Rolling Totals in Oracle SQL"
   ]
  },
  {
   "cell_type": "markdown",
   "id": "7775736d",
   "metadata": {},
   "source": [
    "### Create Sample Sales Table\n",
    "We create a simple sales table with orders, products, and amounts to demonstrate window functions."
   ]
  },
  {
   "cell_type": "code",
   "execution_count": null,
   "id": "5558ff68",
   "metadata": {},
   "outputs": [],
   "source": [
    "CREATE TABLE sales (\n",
    "    order_id    NUMBER,\n",
    "    order_date  DATE,\n",
    "    product     VARCHAR2(50),\n",
    "    amount      NUMBER\n",
    ");\n",
    "\n",
    "INSERT INTO sales VALUES (1, DATE '2025-01-05', 'Laptop', 1000);\n",
    "INSERT INTO sales VALUES (2, DATE '2025-01-10', 'Phone',  500);\n",
    "INSERT INTO sales VALUES (3, DATE '2025-01-20', 'Tablet', 300);\n",
    "INSERT INTO sales VALUES (4, DATE '2025-02-02', 'Laptop', 1200);\n",
    "INSERT INTO sales VALUES (5, DATE '2025-02-05', 'Phone',  700);\n",
    "INSERT INTO sales VALUES (6, DATE '2025-02-15', 'Tablet', 400);\n",
    "\n",
    "COMMIT;"
   ]
  },
  {
   "cell_type": "markdown",
   "id": "d061c797",
   "metadata": {},
   "source": [
    "### View Data\n",
    "Check the contents of the sales table."
   ]
  },
  {
   "cell_type": "code",
   "execution_count": null,
   "id": "de3bb92b",
   "metadata": {},
   "outputs": [],
   "source": [
    "SELECT * FROM sales ORDER BY order_date;"
   ]
  },
  {
   "cell_type": "markdown",
   "id": "2e5b3e7c",
   "metadata": {},
   "source": [
    "### Monthly Totals using GROUP BY\n",
    "Classic aggregation to find total sales per month."
   ]
  },
  {
   "cell_type": "code",
   "execution_count": null,
   "id": "8c7a7714",
   "metadata": {},
   "outputs": [],
   "source": [
    "SELECT TRUNC(order_date, 'MM') AS order_month,\n",
    "       SUM(amount) AS monthly_total\n",
    "FROM sales\n",
    "GROUP BY TRUNC(order_date, 'MM')\n",
    "ORDER BY order_month;"
   ]
  },
  {
   "cell_type": "markdown",
   "id": "ca198b1f",
   "metadata": {},
   "source": [
    "### Monthly Totals using Window Functions\n",
    "Show monthly totals alongside each row without collapsing rows."
   ]
  },
  {
   "cell_type": "code",
   "execution_count": null,
   "id": "939b7d4c",
   "metadata": {},
   "outputs": [],
   "source": [
    "SELECT order_id, order_date, product, amount,\n",
    "       SUM(amount) OVER (PARTITION BY TRUNC(order_date,'MM')) AS monthly_total\n",
    "FROM sales\n",
    "ORDER BY order_date;"
   ]
  },
  {
   "cell_type": "markdown",
   "id": "a20cb937",
   "metadata": {},
   "source": [
    "### Rolling Monthly Totals\n",
    "Use window frame clause to compute running totals within each month."
   ]
  },
  {
   "cell_type": "code",
   "execution_count": null,
   "id": "f05723c0",
   "metadata": {},
   "outputs": [],
   "source": [
    "SELECT order_id, order_date, product, amount,\n",
    "       SUM(amount) OVER (\n",
    "         PARTITION BY TRUNC(order_date,'MM')\n",
    "         ORDER BY order_date, order_id\n",
    "         ROWS BETWEEN UNBOUNDED PRECEDING AND CURRENT ROW\n",
    "       ) AS running_total\n",
    "FROM sales;"
   ]
  },
  {
   "cell_type": "markdown",
   "id": "f57f403e",
   "metadata": {},
   "source": [
    "### Using LEAD Function\n",
    "The `LEAD` function allows you to look ahead at the value of a column in the next row within the same partition.\n",
    "Here, we find the **next order's amount** within the same month, along with the monthly total."
   ]
  },
  {
   "cell_type": "code",
   "execution_count": null,
   "id": "0d8cfc3a",
   "metadata": {},
   "outputs": [],
   "source": [
    "SELECT order_id,\n",
    "       order_date,\n",
    "       product,\n",
    "       amount,\n",
    "       LEAD(amount, 1) OVER (\n",
    "         PARTITION BY TRUNC(order_date,'MM')\n",
    "         ORDER BY order_date, order_id\n",
    "       ) AS next_order_amount,\n",
    "       SUM(amount) OVER (PARTITION BY TRUNC(order_date,'MM')) AS monthly_total\n",
    "FROM sales\n",
    "ORDER BY order_date;"
   ]
  },
  {
   "cell_type": "markdown",
   "id": "3ad87e6a",
   "metadata": {},
   "source": [
    "### Using LAG Function\n",
    "The `LAG` function allows you to look back at the value of a column in the previous row within the same partition.\n",
    "Here, we find the **previous order's amount** within the same month, along with the monthly total."
   ]
  },
  {
   "cell_type": "code",
   "execution_count": null,
   "id": "176fd4b0",
   "metadata": {},
   "outputs": [],
   "source": [
    "SELECT order_id,\n",
    "       order_date,\n",
    "       product,\n",
    "       amount,\n",
    "       LAG(amount, 1) OVER (\n",
    "         PARTITION BY TRUNC(order_date,'MM')\n",
    "         ORDER BY order_date, order_id\n",
    "       ) AS previous_order_amount,\n",
    "       SUM(amount) OVER (PARTITION BY TRUNC(order_date,'MM')) AS monthly_total\n",
    "FROM sales\n",
    "ORDER BY order_date;"
   ]
  }
 ],
 "metadata": {
  "language_info": {
   "name": "python"
  }
 },
 "nbformat": 4,
 "nbformat_minor": 5
}
