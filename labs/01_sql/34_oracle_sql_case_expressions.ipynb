{
 "cells": [
  {
   "cell_type": "markdown",
   "id": "0a41325e",
   "metadata": {},
   "source": [
    "# Case Expressions"
   ]
  },
  {
   "cell_type": "markdown",
   "id": "6b6577a8",
   "metadata": {},
   "source": [
    "### CASE Expressions\n",
    "Categorize employees into salary ranges using CASE."
   ]
  },
  {
   "cell_type": "code",
   "execution_count": null,
   "id": "16542526",
   "metadata": {},
   "outputs": [],
   "source": [
    "SELECT ename,\n",
    "       sal,\n",
    "       CASE \n",
    "           WHEN sal < 1000 THEN 'Low Salary'\n",
    "           WHEN sal BETWEEN 1000 AND 3000 THEN 'Average Salary'\n",
    "           WHEN sal IN (3100, 3200, 3500, 3800) THEN 'High Salary'\n",
    "           ELSE 'Other Salary'\n",
    "       END AS salary_category\n",
    "FROM emp;"
   ]
  }
 ],
 "metadata": {
  "language_info": {
   "name": "python"
  }
 },
 "nbformat": 4,
 "nbformat_minor": 5
}
