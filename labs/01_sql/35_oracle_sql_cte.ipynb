{
 "cells": [
  {
   "cell_type": "markdown",
   "id": "71b42606",
   "metadata": {},
   "source": [
    "# Common Table Expressions (CTEs) in Oracle SQL"
   ]
  },
  {
   "cell_type": "markdown",
   "id": "f353dcc3",
   "metadata": {},
   "source": [
    "### What is a CTE?\n",
    "A **Common Table Expression (CTE)** is a temporary result set defined using the `WITH` clause.  \n",
    "It improves **readability** and **reusability** of queries."
   ]
  },
  {
   "cell_type": "markdown",
   "id": "4b72a703",
   "metadata": {},
   "source": [
    "### Query without CTE\n",
    "Retrieve employees earning more than 3000 directly with a filter."
   ]
  },
  {
   "cell_type": "code",
   "execution_count": null,
   "id": "99646ddd",
   "metadata": {},
   "outputs": [],
   "source": [
    "SELECT ename, sal, deptno\n",
    "FROM emp\n",
    "WHERE sal > 2000\n",
    "ORDER BY sal DESC;"
   ]
  },
  {
   "cell_type": "markdown",
   "id": "908ef410",
   "metadata": {},
   "source": [
    "### Query with CTE\n",
    "The same query rewritten using a CTE for better readability."
   ]
  },
  {
   "cell_type": "code",
   "execution_count": null,
   "id": "4899dba9",
   "metadata": {},
   "outputs": [],
   "source": [
    "WITH high_salary AS (\n",
    "    SELECT ename, sal, deptno\n",
    "    FROM emp\n",
    "    WHERE sal > 2000\n",
    "    ORDER BY sal DESC\n",
    ")\n",
    "SELECT * FROM high_salary;"
   ]
  },
  {
   "cell_type": "markdown",
   "id": "73d9116f",
   "metadata": {},
   "source": [
    "### CTE with Aggregation\n",
    "Find employees who earn more than the average salary."
   ]
  },
  {
   "cell_type": "code",
   "execution_count": null,
   "id": "68acad16",
   "metadata": {},
   "outputs": [],
   "source": [
    "WITH avg_sal AS (\n",
    "    SELECT AVG(sal) AS avg_salary FROM emp\n",
    ")\n",
    "SELECT ename, sal\n",
    "FROM emp, avg_sal\n",
    "WHERE emp.sal > avg_sal.avg_salary;"
   ]
  },
  {
   "cell_type": "markdown",
   "id": "4fd79b1e",
   "metadata": {},
   "source": [
    "### CTE with CASE Expression\n",
    "Classify employees into salary categories."
   ]
  },
  {
   "cell_type": "code",
   "execution_count": null,
   "id": "300322af",
   "metadata": {},
   "outputs": [],
   "source": [
    "WITH salary_classification AS (\n",
    "    SELECT ename,\n",
    "           sal,\n",
    "           CASE \n",
    "               WHEN sal < 1000 THEN 'Low Salary'\n",
    "               WHEN sal BETWEEN 1000 AND 3000 THEN 'Average Salary'\n",
    "               WHEN sal IN (3100, 3200, 3500, 3800) THEN 'High Salary'\n",
    "               ELSE 'Other Salary'\n",
    "           END AS salary_category\n",
    "    FROM emp\n",
    ")\n",
    "SELECT * FROM salary_classification;"
   ]
  },
  {
   "cell_type": "markdown",
   "id": "5bdad140",
   "metadata": {},
   "source": [
    "### CTE with Joins\n",
    "Combine employee and department details using a CTE."
   ]
  },
  {
   "cell_type": "code",
   "execution_count": null,
   "id": "f3cb4af6",
   "metadata": {},
   "outputs": [],
   "source": [
    "WITH emp_dept AS (\n",
    "    SELECT e.ename, e.sal, d.dname, d.loc\n",
    "    FROM emp e\n",
    "    JOIN dept d ON e.deptno = d.deptno\n",
    ")\n",
    "SELECT * FROM emp_dept;"
   ]
  }
 ],
 "metadata": {
  "language_info": {
   "name": "python"
  }
 },
 "nbformat": 4,
 "nbformat_minor": 5
}
