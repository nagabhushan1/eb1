{
 "cells": [
  {
   "cell_type": "markdown",
   "id": "465ba3c0",
   "metadata": {},
   "source": [
    "# SQL Constraints"
   ]
  },
  {
   "cell_type": "markdown",
   "id": "48de54d6",
   "metadata": {},
   "source": [
    "## NOT NULL\n",
    "Ensures a column cannot store NULL values."
   ]
  },
  {
   "cell_type": "code",
   "execution_count": null,
   "id": "837f65d7",
   "metadata": {},
   "outputs": [],
   "source": [
    "DROP TABLE CUST_NOTNULL;"
   ]
  },
  {
   "cell_type": "code",
   "execution_count": null,
   "id": "d2415c9e",
   "metadata": {},
   "outputs": [],
   "source": [
    "CREATE TABLE CUST_NOTNULL (\n",
    "    CustomerID NUMBER NOT NULL,\n",
    "    CustomerName VARCHAR2(50) NOT NULL,\n",
    "    Email VARCHAR2(100)\n",
    ");"
   ]
  },
  {
   "cell_type": "code",
   "execution_count": null,
   "id": "d9412be5",
   "metadata": {},
   "outputs": [],
   "source": [
    "DESC CUST_NOTNULL;"
   ]
  },
  {
   "cell_type": "code",
   "execution_count": null,
   "id": "072062dd",
   "metadata": {},
   "outputs": [],
   "source": [
    "INSERT ALL\n",
    "  INTO CUST_NOTNULL (CustomerID, CustomerName, Email) VALUES (1, 'Arjun Sharma', 'arjun@example.com')\n",
    "  INTO CUST_NOTNULL (CustomerID, CustomerName) VALUES (2, 'Priya Nair')\n",
    "SELECT * FROM dual;"
   ]
  },
  {
   "cell_type": "code",
   "execution_count": null,
   "id": "e949ebc2",
   "metadata": {},
   "outputs": [],
   "source": [
    "SELECT * FROM CUST_NOTNULL;"
   ]
  },
  {
   "cell_type": "code",
   "execution_count": null,
   "id": "c2b66b5a",
   "metadata": {},
   "outputs": [],
   "source": [
    "INSERT INTO CUST_NOTNULL (CustomerID, CustomerName) VALUES (NULL, 'Ramesh Iyer'); -- Invalid"
   ]
  },
  {
   "cell_type": "code",
   "execution_count": null,
   "id": "50135d16",
   "metadata": {},
   "outputs": [],
   "source": [
    "INSERT INTO CUST_NOTNULL (CustomerID, Email) VALUES (3, 'ramesh@example.com'); -- Invalid"
   ]
  },
  {
   "cell_type": "code",
   "execution_count": null,
   "id": "7429a097",
   "metadata": {},
   "outputs": [],
   "source": [
    "SELECT * FROM CUST_NOTNULL;"
   ]
  },
  {
   "cell_type": "markdown",
   "id": "667a0082",
   "metadata": {},
   "source": [
    "## DEFAULT\n",
    "Provides a value when none is given explicitly."
   ]
  },
  {
   "cell_type": "code",
   "execution_count": null,
   "id": "0f15a49c",
   "metadata": {},
   "outputs": [],
   "source": [
    "DROP TABLE CUST_DEFAULT;"
   ]
  },
  {
   "cell_type": "code",
   "execution_count": null,
   "id": "d61c79c6",
   "metadata": {},
   "outputs": [],
   "source": [
    "CREATE TABLE CUST_DEFAULT (\n",
    "    CustomerID NUMBER PRIMARY KEY,\n",
    "    CustomerName VARCHAR2(50) NOT NULL,\n",
    "    Status VARCHAR2(20) DEFAULT 'Active' NOT NULL\n",
    ");"
   ]
  },
  {
   "cell_type": "code",
   "execution_count": null,
   "id": "e867b3c4",
   "metadata": {},
   "outputs": [],
   "source": [
    "DESC CUST_DEFAULT;"
   ]
  },
  {
   "cell_type": "code",
   "execution_count": null,
   "id": "6dafe3e5",
   "metadata": {},
   "outputs": [],
   "source": [
    "INSERT ALL\n",
    "  INTO CUST_DEFAULT (CustomerID, CustomerName) VALUES (1, 'Meena Kumari')\n",
    "  INTO CUST_DEFAULT (CustomerID, CustomerName, Status) VALUES (2, 'Suresh Reddy', 'Inactive')\n",
    "  INTO CUST_DEFAULT (CustomerID, CustomerName) VALUES (3, 'Raj Kamal')\n",
    "SELECT * FROM dual;"
   ]
  },
  {
   "cell_type": "code",
   "execution_count": null,
   "id": "87f7ebb5",
   "metadata": {},
   "outputs": [],
   "source": [
    "SELECT * FROM CUST_DEFAULT;"
   ]
  },
  {
   "cell_type": "code",
   "execution_count": null,
   "id": "6832da1e",
   "metadata": {},
   "outputs": [],
   "source": [
    "INSERT INTO CUST_DEFAULT (CustomerID, CustomerName, Status) VALUES (3, 'Ananya Kadam', NULL); -- Invalid"
   ]
  },
  {
   "cell_type": "code",
   "execution_count": null,
   "id": "084a19bb",
   "metadata": {},
   "outputs": [],
   "source": [
    "SELECT * FROM CUST_DEFAULT;"
   ]
  },
  {
   "cell_type": "markdown",
   "id": "6c67bedd",
   "metadata": {},
   "source": [
    "## UNIQUE\n",
    "Prevents duplicate values in a column."
   ]
  },
  {
   "cell_type": "code",
   "execution_count": null,
   "id": "3a010e84",
   "metadata": {},
   "outputs": [],
   "source": [
    "DROP TABLE CUST_UNIQUE;"
   ]
  },
  {
   "cell_type": "code",
   "execution_count": null,
   "id": "3c0298f7",
   "metadata": {},
   "outputs": [],
   "source": [
    "CREATE TABLE CUST_UNIQUE (\n",
    "    CustomerID NUMBER PRIMARY KEY,\n",
    "    CustomerName VARCHAR2(50) NOT NULL,\n",
    "    Email VARCHAR2(100) UNIQUE\n",
    ");"
   ]
  },
  {
   "cell_type": "code",
   "execution_count": null,
   "id": "67c1e440",
   "metadata": {},
   "outputs": [],
   "source": [
    "DESC CUST_UNIQUE;"
   ]
  },
  {
   "cell_type": "code",
   "execution_count": null,
   "id": "1b4dec4f",
   "metadata": {},
   "outputs": [],
   "source": [
    "INSERT ALL\n",
    "  INTO CUST_UNIQUE VALUES (1, 'Kavita Pal', 'kavita@example.com')\n",
    "  INTO CUST_UNIQUE VALUES (2, 'Neha Gupta', NULL)\n",
    "SELECT * FROM dual;"
   ]
  },
  {
   "cell_type": "code",
   "execution_count": null,
   "id": "881e1395",
   "metadata": {},
   "outputs": [],
   "source": [
    "SELECT * FROM CUST_UNIQUE;"
   ]
  },
  {
   "cell_type": "code",
   "execution_count": null,
   "id": "bc05ad94",
   "metadata": {},
   "outputs": [],
   "source": [
    "INSERT INTO CUST_UNIQUE VALUES (3, 'Manoj Verma', 'kavita@example.com'); -- Invalid"
   ]
  },
  {
   "cell_type": "code",
   "execution_count": null,
   "id": "0fd02b47",
   "metadata": {},
   "outputs": [],
   "source": [
    "INSERT INTO CUST_UNIQUE VALUES (4, 'Arjun Lal', 'kavita@example.com'); -- Invalid"
   ]
  },
  {
   "cell_type": "code",
   "execution_count": null,
   "id": "05102026",
   "metadata": {},
   "outputs": [],
   "source": [
    "SELECT * FROM CUST_UNIQUE;"
   ]
  },
  {
   "cell_type": "markdown",
   "id": "c16021a5",
   "metadata": {},
   "source": [
    "- Unique ensures no two non-null values are the same.\n",
    "- Multiple NULLs are allowed."
   ]
  },
  {
   "cell_type": "markdown",
   "id": "a7aed82f",
   "metadata": {},
   "source": [
    "## CHECK\n",
    "Restricts values to satisfy a condition."
   ]
  },
  {
   "cell_type": "code",
   "execution_count": null,
   "id": "5bba31b6",
   "metadata": {},
   "outputs": [],
   "source": [
    "DROP TABLE OD_CHECK;"
   ]
  },
  {
   "cell_type": "code",
   "execution_count": null,
   "id": "dbedaaf5",
   "metadata": {},
   "outputs": [],
   "source": [
    "CREATE TABLE OD_CHECK (\n",
    "    OrderID NUMBER,\n",
    "    ProductName VARCHAR2(50),\n",
    "    Quantity NUMBER CHECK (Quantity BETWEEN 1 AND 100),\n",
    "    Price NUMBER CHECK (Price >= 1)\n",
    ");"
   ]
  },
  {
   "cell_type": "code",
   "execution_count": null,
   "id": "0f538d90",
   "metadata": {},
   "outputs": [],
   "source": [
    "DESC OD_CHECK;"
   ]
  },
  {
   "cell_type": "code",
   "execution_count": null,
   "id": "c9972ec9",
   "metadata": {},
   "outputs": [],
   "source": [
    "INSERT ALL\n",
    "  INTO OD_CHECK VALUES (101, 'Laptop', 1, 800)\n",
    "  INTO OD_CHECK VALUES (101, 'Mouse', 2, 200)\n",
    "SELECT * FROM dual;"
   ]
  },
  {
   "cell_type": "code",
   "execution_count": null,
   "id": "d8b23223",
   "metadata": {},
   "outputs": [],
   "source": [
    "SELECT * FROM OD_CHECK;"
   ]
  },
  {
   "cell_type": "code",
   "execution_count": null,
   "id": "08aad202",
   "metadata": {},
   "outputs": [],
   "source": [
    "INSERT INTO OD_CHECK VALUES (102, 'TV', 0, 1500); -- Invalid"
   ]
  },
  {
   "cell_type": "code",
   "execution_count": null,
   "id": "28aadc0d",
   "metadata": {},
   "outputs": [],
   "source": [
    "INSERT INTO OD_CHECK VALUES (103, 'Remote', 1, -10); -- Invalid"
   ]
  },
  {
   "cell_type": "code",
   "execution_count": null,
   "id": "43b4f8a8",
   "metadata": {},
   "outputs": [],
   "source": [
    "SELECT * FROM OD_CHECK;"
   ]
  },
  {
   "cell_type": "markdown",
   "id": "34ffb38c",
   "metadata": {},
   "source": [
    "##PRIMARY KEY\n",
    "Combines NOT NULL + UNIQUE to identify each row."
   ]
  },
  {
   "cell_type": "code",
   "execution_count": null,
   "id": "891d391f",
   "metadata": {},
   "outputs": [],
   "source": [
    "DROP TABLE PROD_PK;"
   ]
  },
  {
   "cell_type": "code",
   "execution_count": null,
   "id": "6b062590",
   "metadata": {},
   "outputs": [],
   "source": [
    "CREATE TABLE PROD_PK (\n",
    "    ProductID NUMBER PRIMARY KEY,\n",
    "    ProductName VARCHAR2(50) NOT NULL\n",
    ");"
   ]
  },
  {
   "cell_type": "code",
   "execution_count": null,
   "id": "cddb974a",
   "metadata": {},
   "outputs": [],
   "source": [
    "DESC PROD_PK;"
   ]
  },
  {
   "cell_type": "code",
   "execution_count": null,
   "id": "d65df1b4",
   "metadata": {},
   "outputs": [],
   "source": [
    "INSERT ALL\n",
    "  INTO PROD_PK VALUES (1, 'Laptop')\n",
    "  INTO PROD_PK VALUES (2, 'Mouse')\n",
    "SELECT * FROM dual;"
   ]
  },
  {
   "cell_type": "code",
   "execution_count": null,
   "id": "a592ff5a",
   "metadata": {},
   "outputs": [],
   "source": [
    "SELECT * FROM PROD_PK;"
   ]
  },
  {
   "cell_type": "code",
   "execution_count": null,
   "id": "8ee84957",
   "metadata": {},
   "outputs": [],
   "source": [
    "INSERT INTO PROD_PK VALUES (2, 'Another Mouse'); -- Invalid"
   ]
  },
  {
   "cell_type": "code",
   "execution_count": null,
   "id": "f24f59b8",
   "metadata": {},
   "outputs": [],
   "source": [
    "INSERT INTO PROD_PK VALUES (NULL, 'TV'); -- Invalid"
   ]
  },
  {
   "cell_type": "code",
   "execution_count": null,
   "id": "d9f8900a",
   "metadata": {},
   "outputs": [],
   "source": [
    "SELECT * FROM PROD_PK;"
   ]
  },
  {
   "cell_type": "markdown",
   "id": "19326c84",
   "metadata": {},
   "source": [
    "## FOREIGN KEY\n",
    "Links child to parent table."
   ]
  },
  {
   "cell_type": "code",
   "execution_count": null,
   "id": "bcfc7ade",
   "metadata": {},
   "outputs": [],
   "source": [
    "DROP TABLE ORDERS_FK;"
   ]
  },
  {
   "cell_type": "code",
   "execution_count": null,
   "id": "c8796a1c",
   "metadata": {},
   "outputs": [],
   "source": [
    "DROP TABLE CUST_FK;"
   ]
  },
  {
   "cell_type": "code",
   "execution_count": null,
   "id": "8d8be04d",
   "metadata": {},
   "outputs": [],
   "source": [
    "CREATE TABLE CUST_FK (\n",
    "    CustomerID NUMBER PRIMARY KEY,\n",
    "    CustomerName VARCHAR2(50) NOT NULL\n",
    ");"
   ]
  },
  {
   "cell_type": "code",
   "execution_count": null,
   "id": "75dae5ce",
   "metadata": {},
   "outputs": [],
   "source": [
    "CREATE TABLE ORDERS_FK (\n",
    "    OrderID NUMBER PRIMARY KEY,\n",
    "    CustomerID NUMBER,\n",
    "    OrderDate DATE,\n",
    "    FOREIGN KEY (CustomerID) REFERENCES CUST_FK(CustomerID)\n",
    ");"
   ]
  },
  {
   "cell_type": "code",
   "execution_count": null,
   "id": "6f515fb2",
   "metadata": {},
   "outputs": [],
   "source": [
    "DESC CUST_FK;"
   ]
  },
  {
   "cell_type": "code",
   "execution_count": null,
   "id": "6b70d246",
   "metadata": {},
   "outputs": [],
   "source": [
    "DESC ORDERS_FK;"
   ]
  },
  {
   "cell_type": "code",
   "execution_count": null,
   "id": "3db6e0f7",
   "metadata": {},
   "outputs": [],
   "source": [
    "INSERT ALL\n",
    "  INTO CUST_FK VALUES (1, 'Arjun Sharma')\n",
    "  INTO CUST_FK VALUES (2, 'Priya Nair')\n",
    "SELECT * FROM dual;"
   ]
  },
  {
   "cell_type": "code",
   "execution_count": null,
   "id": "4b7307cb",
   "metadata": {},
   "outputs": [],
   "source": [
    "INSERT INTO ORDERS_FK VALUES (101, 1, DATE '2025-01-10');"
   ]
  },
  {
   "cell_type": "code",
   "execution_count": null,
   "id": "addb66ba",
   "metadata": {},
   "outputs": [],
   "source": [
    "INSERT INTO ORDERS_FK VALUES (102, 2, DATE '2025-01-11');"
   ]
  },
  {
   "cell_type": "code",
   "execution_count": null,
   "id": "b35ce172",
   "metadata": {},
   "outputs": [],
   "source": [
    "SELECT * FROM CUST_FK;"
   ]
  },
  {
   "cell_type": "code",
   "execution_count": null,
   "id": "1ec83c1b",
   "metadata": {},
   "outputs": [],
   "source": [
    "SELECT * FROM ORDERS_FK;"
   ]
  },
  {
   "cell_type": "code",
   "execution_count": null,
   "id": "cfaa2c56",
   "metadata": {},
   "outputs": [],
   "source": [
    "INSERT INTO ORDERS_FK VALUES (103, 999, DATE '2025-01-12'); -- Invalid"
   ]
  },
  {
   "cell_type": "code",
   "execution_count": null,
   "id": "3548ab40",
   "metadata": {},
   "outputs": [],
   "source": [
    "SELECT * FROM CUST_FK;"
   ]
  },
  {
   "cell_type": "code",
   "execution_count": null,
   "id": "b6731ef2",
   "metadata": {},
   "outputs": [],
   "source": [
    "SELECT * FROM ORDERS_FK;"
   ]
  },
  {
   "cell_type": "markdown",
   "id": "f880f1db",
   "metadata": {},
   "source": [
    "## Cheat Sheet\n",
    "| Constraint | Purpose | Example | Notes |\n",
    "|------------|---------|---------|-------|\n",
    "| NOT NULL | Mandatory value | `name VARCHAR2(50) NOT NULL` | Prevents NULLs |\n",
    "| DEFAULT | Auto value if omitted | `status VARCHAR2(20) DEFAULT 'Active'` | Applied when missing |\n",
    "| UNIQUE | Prevent duplicates | `email VARCHAR2(100) UNIQUE` | Multiple NULLs allowed |\n",
    "| CHECK | Enforce condition | `CHECK (Quantity > 0)` | Business rule |\n",
    "| PRIMARY KEY | Unique identifier | `id NUMBER PRIMARY KEY` | Combines NOT NULL + UNIQUE |\n",
    "| FOREIGN KEY | Parent–child relation | `FOREIGN KEY (...) REFERENCES ...` | Options: CASCADE / SET NULL |\n"
   ]
  }
 ],
 "metadata": {
  "language_info": {
   "name": "python"
  }
 },
 "nbformat": 4,
 "nbformat_minor": 5
}
