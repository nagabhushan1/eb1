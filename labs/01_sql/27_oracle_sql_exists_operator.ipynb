{
 "cells": [
  {
   "cell_type": "markdown",
   "id": "493ac36b",
   "metadata": {},
   "source": [
    "### EXISTS Operator in Oracle SQL"
   ]
  },
  {
   "cell_type": "markdown",
   "id": "23db8b60",
   "metadata": {},
   "source": [
    "The **EXISTS** operator in Oracle SQL is used to test whether a subquery returns any rows. It returns `TRUE` if the subquery returns at least one row, and `FALSE` if the subquery returns no rows."
   ]
  },
  {
   "cell_type": "code",
   "execution_count": null,
   "id": "9cc195e5",
   "metadata": {},
   "outputs": [],
   "source": [
    "SELECT 'TRUE' AS exists_check\n",
    "FROM dual\n",
    "WHERE EXISTS (SELECT 1 FROM dual);"
   ]
  },
  {
   "cell_type": "markdown",
   "id": "ea3cf22c",
   "metadata": {},
   "source": [
    "The following query tries to use `EXISTS` in the `SELECT` list.  \n",
    "This works in some databases (like PostgreSQL), but **not in Oracle**.  "
   ]
  },
  {
   "cell_type": "code",
   "execution_count": null,
   "id": "a1a72c38",
   "metadata": {},
   "outputs": [],
   "source": [
    "SELECT EXISTS (SELECT 1 FROM dual) AS exists_check\n",
    "FROM dual;"
   ]
  },
  {
   "cell_type": "markdown",
   "id": "dad86b34",
   "metadata": {},
   "source": [
    "### Departments with Employees\n",
    "This query displays departments that have at least one employee."
   ]
  },
  {
   "cell_type": "code",
   "execution_count": null,
   "id": "0c5a4796",
   "metadata": {},
   "outputs": [],
   "source": [
    "SELECT d.deptno, d.dname, d.loc\n",
    "FROM dept d\n",
    "WHERE EXISTS (SELECT * FROM emp e WHERE e.deptno = d.deptno);"
   ]
  },
  {
   "cell_type": "markdown",
   "id": "a4f3655a",
   "metadata": {},
   "source": [
    "### Departments without Employees\n",
    "Using `NOT EXISTS` to find departments that have no employees."
   ]
  },
  {
   "cell_type": "code",
   "execution_count": null,
   "id": "0535a5e0",
   "metadata": {},
   "outputs": [],
   "source": [
    "SELECT d.deptno, d.dname, d.loc\n",
    "FROM dept d\n",
    "WHERE NOT EXISTS (SELECT * FROM emp e WHERE e.deptno = d.deptno);"
   ]
  },
  {
   "cell_type": "markdown",
   "id": "eb12f698",
   "metadata": {},
   "source": [
    "### Employees Who Are Managers\n",
    "This query finds employees whose `empno` appears as a manager (`mgr`) for someone else."
   ]
  },
  {
   "cell_type": "code",
   "execution_count": null,
   "id": "e14b83d2",
   "metadata": {},
   "outputs": [],
   "source": [
    "SELECT e1.empno, e1.ename, e1.job\n",
    "FROM emp e1\n",
    "WHERE EXISTS (SELECT * FROM emp e2 WHERE e2.mgr = e1.empno);"
   ]
  }
 ],
 "metadata": {
  "language_info": {
   "name": "python"
  }
 },
 "nbformat": 4,
 "nbformat_minor": 5
}
