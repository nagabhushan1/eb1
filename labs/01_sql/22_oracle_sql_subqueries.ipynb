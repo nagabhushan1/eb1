{
 "cells": [
  {
   "cell_type": "markdown",
   "id": "c17d6a89",
   "metadata": {},
   "source": [
    "# Subqueries\n",
    "- Single Row Subqueries - Child query returns single value\n",
    "- Multi Row Subqueries - Child query returns multiple values"
   ]
  },
  {
   "cell_type": "markdown",
   "id": "3e9ce8fe",
   "metadata": {},
   "source": [
    "### All Employees\n",
    "Display all employees from the EMP table."
   ]
  },
  {
   "cell_type": "code",
   "execution_count": null,
   "id": "1c98212d",
   "metadata": {},
   "outputs": [],
   "source": [
    "SELECT * FROM emp;"
   ]
  },
  {
   "cell_type": "markdown",
   "id": "575254c5",
   "metadata": {},
   "source": [
    "### Employees Ordered by Salary (Descending)\n",
    "Show employees sorted by salary in descending order."
   ]
  },
  {
   "cell_type": "code",
   "execution_count": null,
   "id": "c452a80e",
   "metadata": {},
   "outputs": [],
   "source": [
    "SELECT * FROM emp ORDER BY sal DESC;"
   ]
  },
  {
   "cell_type": "markdown",
   "id": "1107f18f",
   "metadata": {},
   "source": [
    "### Highest Salary\n",
    "Find the maximum salary among all employees."
   ]
  },
  {
   "cell_type": "code",
   "execution_count": null,
   "id": "107520a6",
   "metadata": {},
   "outputs": [],
   "source": [
    "SELECT MAX(sal) FROM emp;"
   ]
  },
  {
   "cell_type": "markdown",
   "id": "1f1a1c34",
   "metadata": {},
   "source": [
    "### Second Highest Salary\n",
    "Find the second highest salary by excluding the maximum in a subquery."
   ]
  },
  {
   "cell_type": "code",
   "execution_count": null,
   "id": "8ab33430",
   "metadata": {},
   "outputs": [],
   "source": [
    "SELECT MAX(sal) FROM emp WHERE sal < (SELECT MAX(sal) FROM emp);"
   ]
  },
  {
   "cell_type": "markdown",
   "id": "eda93fcf",
   "metadata": {},
   "source": [
    "### Employees Ordered by Salary (Ascending)\n",
    "Show employees sorted by salary in ascending order."
   ]
  },
  {
   "cell_type": "code",
   "execution_count": null,
   "id": "03989a33",
   "metadata": {},
   "outputs": [],
   "source": [
    "SELECT * FROM emp ORDER BY sal ASC;"
   ]
  },
  {
   "cell_type": "markdown",
   "id": "2b737a43",
   "metadata": {},
   "source": [
    "### Lowest Salary\n",
    "Find the minimum salary among all employees."
   ]
  },
  {
   "cell_type": "code",
   "execution_count": null,
   "id": "bb1e15dd",
   "metadata": {},
   "outputs": [],
   "source": [
    "SELECT MIN(sal) FROM emp;"
   ]
  },
  {
   "cell_type": "markdown",
   "id": "40a50eab",
   "metadata": {},
   "source": [
    "### Second Lowest Salary\n",
    "Find the second lowest salary by excluding the minimum in a subquery."
   ]
  },
  {
   "cell_type": "code",
   "execution_count": null,
   "id": "13863a67",
   "metadata": {},
   "outputs": [],
   "source": [
    "SELECT MIN(sal) FROM emp WHERE sal > (SELECT MIN(sal) FROM emp);"
   ]
  },
  {
   "cell_type": "markdown",
   "id": "a2122656",
   "metadata": {},
   "source": [
    "### Employees with Maximum Salary\n",
    "Display employees whose salary equals the maximum salary."
   ]
  },
  {
   "cell_type": "code",
   "execution_count": null,
   "id": "0c845910",
   "metadata": {},
   "outputs": [],
   "source": [
    "SELECT MAX(sal) FROM emp;"
   ]
  },
  {
   "cell_type": "code",
   "execution_count": null,
   "id": "f4a4f2f9",
   "metadata": {},
   "outputs": [],
   "source": [
    "SELECT * FROM emp WHERE sal = 5000;"
   ]
  },
  {
   "cell_type": "code",
   "execution_count": null,
   "id": "b3df9d75",
   "metadata": {},
   "outputs": [],
   "source": [
    "SELECT * FROM emp WHERE sal = (SELECT MAX(sal) FROM emp);"
   ]
  },
  {
   "cell_type": "markdown",
   "id": "46829930",
   "metadata": {},
   "source": [
    "### Maximum Salary by Department\n",
    "Find the maximum salary in each department."
   ]
  },
  {
   "cell_type": "code",
   "execution_count": null,
   "id": "3221e12e",
   "metadata": {},
   "outputs": [],
   "source": [
    "SELECT deptno, MAX(sal) FROM emp GROUP BY deptno;"
   ]
  },
  {
   "cell_type": "markdown",
   "id": "ea223ab2",
   "metadata": {},
   "source": [
    "Trying to select ename with GROUP BY raises an error."
   ]
  },
  {
   "cell_type": "code",
   "execution_count": null,
   "id": "3aa05d4b",
   "metadata": {},
   "outputs": [],
   "source": [
    "SELECT ename, deptno, MAX(sal) FROM emp GROUP BY deptno;"
   ]
  },
  {
   "cell_type": "markdown",
   "id": "73ec02c1",
   "metadata": {},
   "source": [
    "A subquery returning multiple rows causes an error."
   ]
  },
  {
   "cell_type": "code",
   "execution_count": null,
   "id": "b5f89955",
   "metadata": {},
   "outputs": [],
   "source": [
    "SELECT deptno, ename, sal FROM emp WHERE sal = (SELECT MAX(sal) FROM emp GROUP BY deptno);"
   ]
  },
  {
   "cell_type": "markdown",
   "id": "3f38d92c",
   "metadata": {},
   "source": [
    "### Maximum Salary by Department (Correct)\n",
    "Find employees who earn the maximum salary in each department."
   ]
  },
  {
   "cell_type": "code",
   "execution_count": null,
   "id": "24af433e",
   "metadata": {},
   "outputs": [],
   "source": [
    "SELECT deptno, ename, sal FROM emp WHERE sal IN (SELECT MAX(sal) FROM emp GROUP BY deptno);"
   ]
  },
  {
   "cell_type": "markdown",
   "id": "9574a1fd",
   "metadata": {},
   "source": [
    "Find employees whose salary is greater than at least one salary in department 20."
   ]
  },
  {
   "cell_type": "code",
   "execution_count": null,
   "id": "f03c1aa4",
   "metadata": {},
   "outputs": [],
   "source": [
    "SELECT ename, sal FROM emp WHERE sal > ANY (SELECT sal FROM emp WHERE deptno = 20);"
   ]
  },
  {
   "cell_type": "markdown",
   "id": "4f0d1452",
   "metadata": {},
   "source": [
    "Find employees whose salary is greater than all salaries in department 20."
   ]
  },
  {
   "cell_type": "code",
   "execution_count": null,
   "id": "69c05a04",
   "metadata": {},
   "outputs": [],
   "source": [
    "SELECT ename, sal FROM emp WHERE sal > ALL (SELECT sal FROM emp WHERE deptno = 20);"
   ]
  },
  {
   "cell_type": "markdown",
   "id": "776ef97b",
   "metadata": {},
   "source": [
    "Find employees who work in either Sales or Research department."
   ]
  },
  {
   "cell_type": "code",
   "execution_count": null,
   "id": "a14bbe69",
   "metadata": {},
   "outputs": [],
   "source": [
    "SELECT ename, deptno FROM emp WHERE deptno IN (SELECT deptno FROM dept WHERE dname IN ('SALES', 'RESEARCH'));"
   ]
  }
 ],
 "metadata": {
  "language_info": {
   "name": "python"
  }
 },
 "nbformat": 4,
 "nbformat_minor": 5
}
