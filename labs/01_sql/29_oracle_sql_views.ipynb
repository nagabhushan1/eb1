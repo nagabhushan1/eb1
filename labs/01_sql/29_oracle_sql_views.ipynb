{
 "cells": [
  {
   "cell_type": "markdown",
   "id": "346f933d",
   "metadata": {},
   "source": [
    "# Views in Oracle"
   ]
  },
  {
   "cell_type": "markdown",
   "id": "baa8786b",
   "metadata": {},
   "source": [
    "### Simple Views\n",
    "A simple view is created from a single table without complex logic."
   ]
  },
  {
   "cell_type": "code",
   "execution_count": null,
   "id": "cca44a8d",
   "metadata": {},
   "outputs": [],
   "source": [
    "SELECT * FROM emp;"
   ]
  },
  {
   "cell_type": "code",
   "execution_count": null,
   "id": "75507757",
   "metadata": {},
   "outputs": [],
   "source": [
    "CREATE VIEW deptno20 AS SELECT * FROM emp WHERE deptno = 20;"
   ]
  },
  {
   "cell_type": "code",
   "execution_count": null,
   "id": "a43c225e",
   "metadata": {},
   "outputs": [],
   "source": [
    "SELECT * FROM deptno20;"
   ]
  },
  {
   "cell_type": "code",
   "execution_count": null,
   "id": "d939038d",
   "metadata": {},
   "outputs": [],
   "source": [
    "INSERT INTO deptno20(ename, sal, deptno) VALUES ('Arjun', 8000, 20);"
   ]
  },
  {
   "cell_type": "code",
   "execution_count": null,
   "id": "882e655b",
   "metadata": {},
   "outputs": [],
   "source": [
    "SELECT * FROM deptno20;"
   ]
  },
  {
   "cell_type": "markdown",
   "id": "d4af879f",
   "metadata": {},
   "source": [
    "### Aggregate Views\n",
    "Views can be used with aggregate functions such as COUNT, SUM, and GROUP BY."
   ]
  },
  {
   "cell_type": "code",
   "execution_count": null,
   "id": "7041763d",
   "metadata": {},
   "outputs": [],
   "source": [
    "CREATE VIEW count_per_dept AS SELECT deptno, COUNT(*) AS cnt FROM emp GROUP BY deptno;"
   ]
  },
  {
   "cell_type": "code",
   "execution_count": null,
   "id": "36d77416",
   "metadata": {},
   "outputs": [],
   "source": [
    "SELECT * FROM count_per_dept;"
   ]
  },
  {
   "cell_type": "code",
   "execution_count": null,
   "id": "d2ade7aa",
   "metadata": {},
   "outputs": [],
   "source": [
    "SELECT text FROM user_views WHERE view_name = 'COUNT_PER_DEPT';"
   ]
  },
  {
   "cell_type": "markdown",
   "id": "b5d27635",
   "metadata": {},
   "source": [
    "### Complex Views\n",
    "A complex view may include joins, aggregate functions, and subqueries."
   ]
  },
  {
   "cell_type": "code",
   "execution_count": null,
   "id": "1b5a8904",
   "metadata": {},
   "outputs": [],
   "source": [
    "CREATE VIEW emp_above_avg_sal AS\n",
    "SELECT e.ename, e.sal\n",
    "FROM emp e\n",
    "JOIN (SELECT AVG(sal) AS avg_sal FROM emp) a\n",
    "  ON e.sal > a.avg_sal;"
   ]
  },
  {
   "cell_type": "code",
   "execution_count": null,
   "id": "b2ad9056",
   "metadata": {},
   "outputs": [],
   "source": [
    "SELECT * FROM emp_above_avg_sal;"
   ]
  },
  {
   "cell_type": "code",
   "execution_count": null,
   "id": "66370744",
   "metadata": {},
   "outputs": [],
   "source": [
    "SELECT text FROM user_views WHERE view_name = 'EMP_ABOVE_AVG_SAL';"
   ]
  },
  {
   "cell_type": "markdown",
   "id": "5496cfe4",
   "metadata": {},
   "source": [
    "### Read-Only Views\n",
    "These views prevent DML operations like INSERT, UPDATE, or DELETE."
   ]
  },
  {
   "cell_type": "code",
   "execution_count": null,
   "id": "47411463",
   "metadata": {},
   "outputs": [],
   "source": [
    "CREATE VIEW deptno20_read_only AS SELECT * FROM emp WHERE deptno = 20 WITH READ ONLY;"
   ]
  },
  {
   "cell_type": "code",
   "execution_count": null,
   "id": "8ad7043b",
   "metadata": {},
   "outputs": [],
   "source": [
    "SELECT * FROM deptno20_read_only;"
   ]
  },
  {
   "cell_type": "code",
   "execution_count": null,
   "id": "a424c8db",
   "metadata": {},
   "outputs": [],
   "source": [
    "INSERT INTO deptno20_read_only(ename, sal, deptno) VALUES ('Priya', 9000, 20); -- ORA-42399"
   ]
  },
  {
   "cell_type": "markdown",
   "id": "3e31e32f",
   "metadata": {},
   "source": [
    "### Checking View Metadata\n",
    "The `USER_VIEWS` dictionary contains information about views created by the current user."
   ]
  },
  {
   "cell_type": "code",
   "execution_count": null,
   "id": "bf77a3cc",
   "metadata": {},
   "outputs": [],
   "source": [
    "SELECT * FROM user_views;"
   ]
  },
  {
   "cell_type": "code",
   "execution_count": null,
   "id": "b650b1a6",
   "metadata": {},
   "outputs": [],
   "source": [
    "SELECT view_name, text FROM user_views;"
   ]
  },
  {
   "cell_type": "markdown",
   "id": "86255ae2",
   "metadata": {},
   "source": [
    "### Effect of Dropping Base Table\n",
    "If the base table is dropped, the view definition remains in the dictionary but becomes invalid."
   ]
  },
  {
   "cell_type": "code",
   "execution_count": null,
   "id": "884011e9",
   "metadata": {},
   "outputs": [],
   "source": [
    "DROP TABLE dep;"
   ]
  },
  {
   "cell_type": "code",
   "execution_count": null,
   "id": "f1445e1e",
   "metadata": {},
   "outputs": [],
   "source": [
    "SELECT * FROM v1; -- Fails because base table is dropped"
   ]
  }
 ],
 "metadata": {},
 "nbformat": 4,
 "nbformat_minor": 5
}
