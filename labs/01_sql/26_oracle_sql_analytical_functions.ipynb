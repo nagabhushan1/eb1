{
 "cells": [
  {
   "cell_type": "markdown",
   "id": "dc3c88f2",
   "metadata": {},
   "source": [
    "# Analytical Functions"
   ]
  },
  {
   "cell_type": "markdown",
   "id": "62830780",
   "metadata": {},
   "source": [
    "### Group Functions\n",
    "Aggregate salary by department using GROUP BY."
   ]
  },
  {
   "cell_type": "code",
   "execution_count": null,
   "id": "9a57ebf8",
   "metadata": {},
   "outputs": [],
   "source": [
    "SELECT deptno, AVG(sal) FROM emp GROUP BY deptno;"
   ]
  },
  {
   "cell_type": "markdown",
   "id": "a2b55300",
   "metadata": {},
   "source": [
    "### Analytical Functions with OVER\n",
    "Show average salary alongside each employee using PARTITION BY."
   ]
  },
  {
   "cell_type": "code",
   "execution_count": null,
   "id": "856120b4",
   "metadata": {},
   "outputs": [],
   "source": [
    "SELECT deptno, AVG(sal) OVER () FROM emp;"
   ]
  },
  {
   "cell_type": "code",
   "execution_count": null,
   "id": "dc644746",
   "metadata": {},
   "outputs": [],
   "source": [
    "SELECT deptno, AVG(sal) OVER (PARTITION BY deptno) FROM emp;"
   ]
  },
  {
   "cell_type": "markdown",
   "id": "9d9de7ea",
   "metadata": {},
   "source": [
    "### ROW_NUMBER\n",
    "Assign unique row numbers to employees within each department ordered by salary."
   ]
  },
  {
   "cell_type": "code",
   "execution_count": null,
   "id": "405baabb",
   "metadata": {},
   "outputs": [],
   "source": [
    "SELECT deptno, ename, sal, ROW_NUMBER() OVER (PARTITION BY deptno ORDER BY sal DESC) AS r FROM emp;"
   ]
  },
  {
   "cell_type": "markdown",
   "id": "9af831ca",
   "metadata": {},
   "source": [
    "### RANK\n",
    "Assign ranks allowing gaps when salaries are tied."
   ]
  },
  {
   "cell_type": "code",
   "execution_count": null,
   "id": "96547050",
   "metadata": {},
   "outputs": [],
   "source": [
    "SELECT deptno, ename, sal, RANK() OVER (PARTITION BY deptno ORDER BY sal DESC) AS r FROM emp;"
   ]
  },
  {
   "cell_type": "markdown",
   "id": "cf1462f9",
   "metadata": {},
   "source": [
    "### DENSE_RANK\n",
    "Assign ranks without gaps when salaries are tied."
   ]
  },
  {
   "cell_type": "code",
   "execution_count": null,
   "id": "5a01f947",
   "metadata": {},
   "outputs": [],
   "source": [
    "SELECT deptno, ename, sal, DENSE_RANK() OVER (PARTITION BY deptno ORDER BY sal DESC) AS r FROM emp;"
   ]
  },
  {
   "cell_type": "markdown",
   "id": "3f468e53",
   "metadata": {},
   "source": [
    "### Second Highest Salary per Department\n",
    "Use DENSE_RANK to find the 2nd highest salary in each department."
   ]
  },
  {
   "cell_type": "code",
   "execution_count": null,
   "id": "5fd41f7d",
   "metadata": {},
   "outputs": [],
   "source": [
    "SELECT * FROM (SELECT deptno, ename, sal, DENSE_RANK() OVER (PARTITION BY deptno ORDER BY sal DESC) AS r FROM emp) WHERE r = 2;"
   ]
  }
 ],
 "metadata": {
  "language_info": {
   "name": "python"
  }
 },
 "nbformat": 4,
 "nbformat_minor": 5
}
