{
 "cells": [
  {
   "cell_type": "markdown",
   "id": "04e5d9f3",
   "metadata": {},
   "source": [
    "# Oracle SQL Practice Notebook\n",
    "This notebook provides a complete practice set for Oracle SQL, including user management, login, table creation, data insertion, and various SQL queries."
   ]
  },
  {
   "cell_type": "markdown",
   "id": "01fb7df8",
   "metadata": {},
   "source": [
    "## 1. User and Session Setup\n",
    "Creating and managing a user account (run as SYS/ADMIN)."
   ]
  },
  {
   "cell_type": "code",
   "execution_count": null,
   "id": "5d5bd3c0",
   "metadata": {},
   "outputs": [],
   "source": [
    "ALTER SESSION SET CONTAINER = XEPDB1;"
   ]
  },
  {
   "cell_type": "code",
   "execution_count": null,
   "id": "94e40081",
   "metadata": {},
   "outputs": [],
   "source": [
    "DROP USER user1 CASCADE;"
   ]
  },
  {
   "cell_type": "code",
   "execution_count": null,
   "id": "194cd132",
   "metadata": {},
   "outputs": [],
   "source": [
    "CREATE USER user1 IDENTIFIED BY user123;"
   ]
  },
  {
   "cell_type": "code",
   "execution_count": null,
   "id": "ab42699c",
   "metadata": {},
   "outputs": [],
   "source": [
    "GRANT CREATE SESSION TO user1;"
   ]
  },
  {
   "cell_type": "code",
   "execution_count": null,
   "id": "9c129bd3",
   "metadata": {},
   "outputs": [],
   "source": [
    "ALTER USER user1 QUOTA UNLIMITED ON USERS;"
   ]
  },
  {
   "cell_type": "code",
   "execution_count": null,
   "id": "32b47eac",
   "metadata": {},
   "outputs": [],
   "source": [
    "ALTER USER user1 ACCOUNT UNLOCK;"
   ]
  },
  {
   "cell_type": "code",
   "execution_count": null,
   "id": "bed4e465",
   "metadata": {},
   "outputs": [],
   "source": [
    "GRANT CREATE TABLE TO user1;"
   ]
  },
  {
   "cell_type": "code",
   "execution_count": null,
   "id": "adf99408",
   "metadata": {},
   "outputs": [],
   "source": [
    "SELECT USERNAME, ACCOUNT_STATUS, COMMON FROM DBA_USERS WHERE USERNAME = 'user1';"
   ]
  },
  {
   "cell_type": "markdown",
   "id": "d4cb6cb8",
   "metadata": {},
   "source": [
    "## 2. Login as USER1\n",
    "From a new SQL*Plus session, connect as:"
   ]
  },
  {
   "cell_type": "code",
   "execution_count": null,
   "id": "cb3cc76d",
   "metadata": {},
   "outputs": [],
   "source": [
    "sqlplus user1/user123@localhost:1521/XEPDB1"
   ]
  },
  {
   "cell_type": "code",
   "execution_count": null,
   "id": "81b23e62",
   "metadata": {},
   "outputs": [],
   "source": [
    "SET LINE 100;"
   ]
  },
  {
   "cell_type": "code",
   "execution_count": null,
   "id": "d0f95b87",
   "metadata": {},
   "outputs": [],
   "source": [
    "SET PAGESIZE 100;"
   ]
  },
  {
   "cell_type": "markdown",
   "id": "b275bf06",
   "metadata": {},
   "source": [
    "## 3. Table Creation\n",
    "Creating the EMP and DEPT tables under USER1."
   ]
  },
  {
   "cell_type": "code",
   "execution_count": null,
   "id": "9649f953",
   "metadata": {},
   "outputs": [],
   "source": [
    "CREATE TABLE EMP (\n",
    "    EMPNO     NUMBER(4)      PRIMARY KEY,\n",
    "    ENAME     VARCHAR2(10)   NOT NULL,\n",
    "    JOB       VARCHAR2(9)    NOT NULL,\n",
    "    MGR       NUMBER(4),\n",
    "    HIREDATE  DATE           NOT NULL,\n",
    "    SAL       NUMBER(7,2)    CHECK (SAL > 0),\n",
    "    COMM      NUMBER(7,2),\n",
    "    DEPTNO    NUMBER(2),\n",
    "    CONSTRAINT fk_deptno FOREIGN KEY (DEPTNO) REFERENCES DEPT(DEPTNO)\n",
    ");"
   ]
  },
  {
   "cell_type": "code",
   "execution_count": null,
   "id": "d79cec18",
   "metadata": {},
   "outputs": [],
   "source": [
    "DESC EMP;"
   ]
  },
  {
   "cell_type": "code",
   "execution_count": null,
   "id": "852d8611",
   "metadata": {},
   "outputs": [],
   "source": [
    "SELECT COUNT(*) FROM EMP;"
   ]
  },
  {
   "cell_type": "code",
   "execution_count": null,
   "id": "7b1f5d94",
   "metadata": {},
   "outputs": [],
   "source": [
    "SELECT * FROM EMP;"
   ]
  },
  {
   "cell_type": "code",
   "execution_count": null,
   "id": "85b1c188",
   "metadata": {},
   "outputs": [],
   "source": [
    "CREATE TABLE DEPT (\n",
    "    DEPTNO   NUMBER(2)       PRIMARY KEY,\n",
    "    DNAME    VARCHAR2(14)    NOT NULL,\n",
    "    LOC      VARCHAR2(13) \n",
    ");"
   ]
  },
  {
   "cell_type": "code",
   "execution_count": null,
   "id": "d0749bd7",
   "metadata": {},
   "outputs": [],
   "source": [
    "DESC DEPT;"
   ]
  },
  {
   "cell_type": "code",
   "execution_count": null,
   "id": "a3ec2cec",
   "metadata": {},
   "outputs": [],
   "source": [
    "SELECT COUNT(*) FROM DEPT;"
   ]
  },
  {
   "cell_type": "code",
   "execution_count": null,
   "id": "ce50a066",
   "metadata": {},
   "outputs": [],
   "source": [
    "SELECT * FROM DEPT;"
   ]
  },
  {
   "cell_type": "markdown",
   "id": "3a78e8c6",
   "metadata": {},
   "source": [
    "## 4. Data Insertion\n",
    "Inserting sample data into EMP and DEPT tables."
   ]
  },
  {
   "cell_type": "code",
   "execution_count": null,
   "id": "56139fb4",
   "metadata": {},
   "outputs": [],
   "source": [
    "INSERT INTO EMP VALUES ('7369','SMITH','CLERK','7902','17-DEC-80','800.00',NULL,'20');"
   ]
  },
  {
   "cell_type": "code",
   "execution_count": null,
   "id": "6ac6ec6f",
   "metadata": {},
   "outputs": [],
   "source": [
    "INSERT INTO EMP VALUES ('7499','ALLEN','SALESMAN','7698','20-FEB-81','1600.00','300.00','30');"
   ]
  },
  {
   "cell_type": "code",
   "execution_count": null,
   "id": "bb9c24fb",
   "metadata": {},
   "outputs": [],
   "source": [
    "INSERT INTO EMP VALUES ('7521','WARD','SALESMAN','7698','22-FEB-81','1250.00','500.00','30');"
   ]
  },
  {
   "cell_type": "code",
   "execution_count": null,
   "id": "8167d770",
   "metadata": {},
   "outputs": [],
   "source": [
    "INSERT INTO EMP VALUES ('7566','JONES','MANAGER','7839','02-APR-81','2975.00',NULL,'20');"
   ]
  },
  {
   "cell_type": "code",
   "execution_count": null,
   "id": "5212f666",
   "metadata": {},
   "outputs": [],
   "source": [
    "INSERT INTO EMP VALUES ('7654','MARTIN','SALESMAN','7698','28-SEP-81','1250.00','1400.00','30');"
   ]
  },
  {
   "cell_type": "code",
   "execution_count": null,
   "id": "96ed628d",
   "metadata": {},
   "outputs": [],
   "source": [
    "INSERT INTO EMP VALUES ('7698','BLAKE','MANAGER','7839','01-MAY-81','2850.00',NULL,'30');"
   ]
  },
  {
   "cell_type": "code",
   "execution_count": null,
   "id": "24cfe500",
   "metadata": {},
   "outputs": [],
   "source": [
    "INSERT INTO EMP VALUES ('7782','CLARK','MANAGER','7839','09-JUN-81','2450.00',NULL,'10');"
   ]
  },
  {
   "cell_type": "code",
   "execution_count": null,
   "id": "ac6db168",
   "metadata": {},
   "outputs": [],
   "source": [
    "INSERT INTO EMP VALUES ('7788','SCOTT','ANALYST','7566','09-DEC-82','3000.00',NULL,'20');"
   ]
  },
  {
   "cell_type": "code",
   "execution_count": null,
   "id": "7798b483",
   "metadata": {},
   "outputs": [],
   "source": [
    "INSERT INTO EMP VALUES ('7839','KING','PRESIDENT',NULL,'17-NOV-81','5000.00',NULL,'10');"
   ]
  },
  {
   "cell_type": "code",
   "execution_count": null,
   "id": "f79bc289",
   "metadata": {},
   "outputs": [],
   "source": [
    "INSERT INTO EMP VALUES ('7844','TURNER','SALESMAN','7698','08-SEP-81','1500.00','0.00','30');"
   ]
  },
  {
   "cell_type": "code",
   "execution_count": null,
   "id": "a18f3a0a",
   "metadata": {},
   "outputs": [],
   "source": [
    "INSERT INTO EMP VALUES ('7876','ADAMS','CLERK','7788','12-JAN-83','1100.00',NULL,'20');"
   ]
  },
  {
   "cell_type": "code",
   "execution_count": null,
   "id": "28a9887d",
   "metadata": {},
   "outputs": [],
   "source": [
    "INSERT INTO EMP VALUES ('7900','JAMES','CLERK','7698','03-DEC-81','950.00',NULL,'30');"
   ]
  },
  {
   "cell_type": "code",
   "execution_count": null,
   "id": "35a2ee55",
   "metadata": {},
   "outputs": [],
   "source": [
    "INSERT INTO EMP VALUES ('7902','FORD','ANALYST','7566','03-DEC-81','3000.00',NULL,'20');"
   ]
  },
  {
   "cell_type": "code",
   "execution_count": null,
   "id": "496b3bd0",
   "metadata": {},
   "outputs": [],
   "source": [
    "INSERT INTO EMP VALUES ('7934','MILLER','CLERK','7782','23-JAN-82','1300.00',NULL,'10');"
   ]
  },
  {
   "cell_type": "code",
   "execution_count": null,
   "id": "c4c5ee24",
   "metadata": {},
   "outputs": [],
   "source": [
    "SELECT * FROM EMP;"
   ]
  },
  {
   "cell_type": "code",
   "execution_count": null,
   "id": "75e9d298",
   "metadata": {},
   "outputs": [],
   "source": [
    "INSERT INTO DEPT VALUES ('10','ACCOUNTING','NEW YORK');"
   ]
  },
  {
   "cell_type": "code",
   "execution_count": null,
   "id": "c2a0ae6b",
   "metadata": {},
   "outputs": [],
   "source": [
    "INSERT INTO DEPT VALUES ('20','RESEARCH','DALLAS');"
   ]
  },
  {
   "cell_type": "code",
   "execution_count": null,
   "id": "3e46d9b3",
   "metadata": {},
   "outputs": [],
   "source": [
    "INSERT INTO DEPT VALUES ('30','SALES','CHICAGO');"
   ]
  },
  {
   "cell_type": "code",
   "execution_count": null,
   "id": "57d1e0e6",
   "metadata": {},
   "outputs": [],
   "source": [
    "INSERT INTO DEPT VALUES ('40','OPERATIONS','BOSTON');"
   ]
  },
  {
   "cell_type": "code",
   "execution_count": null,
   "id": "092b2e06",
   "metadata": {},
   "outputs": [],
   "source": [
    "SELECT * FROM DEPT;"
   ]
  },
  {
   "cell_type": "markdown",
   "id": "6287ff68",
   "metadata": {},
   "source": [
    "## 5. Basic Queries\n",
    "Examples of WHERE, IN, LIKE, DISTINCT."
   ]
  },
  {
   "cell_type": "code",
   "execution_count": null,
   "id": "d9402b25",
   "metadata": {},
   "outputs": [],
   "source": [
    "SELECT ENAME, SAL, SAL * 12 AS ANNUAL_SALARY FROM EMP WHERE SAL * 12 > 30000;"
   ]
  },
  {
   "cell_type": "code",
   "execution_count": null,
   "id": "ce14f696",
   "metadata": {},
   "outputs": [],
   "source": [
    "SELECT * FROM EMP WHERE JOB = 'SALESMAN' OR JOB = 'ANALYST';"
   ]
  },
  {
   "cell_type": "code",
   "execution_count": null,
   "id": "f7cc69ac",
   "metadata": {},
   "outputs": [],
   "source": [
    "SELECT * FROM EMP WHERE JOB IN ('SALESMAN','ANALYST');"
   ]
  },
  {
   "cell_type": "code",
   "execution_count": null,
   "id": "d75e0f64",
   "metadata": {},
   "outputs": [],
   "source": [
    "SELECT * FROM EMP WHERE DEPTNO IN (10,20);"
   ]
  },
  {
   "cell_type": "code",
   "execution_count": null,
   "id": "e075164a",
   "metadata": {},
   "outputs": [],
   "source": [
    "SELECT * FROM EMP WHERE ENAME LIKE 'M%';"
   ]
  },
  {
   "cell_type": "code",
   "execution_count": null,
   "id": "de25f904",
   "metadata": {},
   "outputs": [],
   "source": [
    "SELECT * FROM EMP WHERE HIREDATE LIKE '%1981';"
   ]
  },
  {
   "cell_type": "code",
   "execution_count": null,
   "id": "5a3887a4",
   "metadata": {},
   "outputs": [],
   "source": [
    "SELECT DISTINCT JOB FROM EMP;"
   ]
  },
  {
   "cell_type": "markdown",
   "id": "0c3579f3",
   "metadata": {},
   "source": [
    "## 6. String Functions\n",
    "Using string functions on EMP table."
   ]
  },
  {
   "cell_type": "code",
   "execution_count": null,
   "id": "b8758d73",
   "metadata": {},
   "outputs": [],
   "source": [
    "SELECT * FROM EMP WHERE SUBSTR(ENAME, 2, 2) = 'LA';"
   ]
  },
  {
   "cell_type": "code",
   "execution_count": null,
   "id": "c7105c17",
   "metadata": {},
   "outputs": [],
   "source": [
    "SELECT JOB, REPLACE(JOB, 'SALESMAN', 'MARKETING') FROM EMP;"
   ]
  },
  {
   "cell_type": "markdown",
   "id": "519e6844",
   "metadata": {},
   "source": [
    "## 7. Date Functions\n",
    "Using date functions on EMP table."
   ]
  },
  {
   "cell_type": "code",
   "execution_count": null,
   "id": "44abb4da",
   "metadata": {},
   "outputs": [],
   "source": [
    "SELECT * FROM EMP WHERE TO_CHAR(HIREDATE, 'DY') = 'THU';"
   ]
  },
  {
   "cell_type": "code",
   "execution_count": null,
   "id": "de5605fa",
   "metadata": {},
   "outputs": [],
   "source": [
    "SELECT ENAME, ADD_MONTHS(HIREDATE, 6) AS REVIEW_DATE FROM EMP;"
   ]
  },
  {
   "cell_type": "code",
   "execution_count": null,
   "id": "784d8cba",
   "metadata": {},
   "outputs": [],
   "source": [
    "SELECT ENAME, MONTHS_BETWEEN(SYSDATE, HIREDATE) AS MONTHS_WORKED FROM EMP;"
   ]
  },
  {
   "cell_type": "markdown",
   "id": "13c3d130",
   "metadata": {},
   "source": [
    "## 8. Aggregate Functions\n",
    "Examples of aggregate functions."
   ]
  },
  {
   "cell_type": "code",
   "execution_count": null,
   "id": "0d8a8bcc",
   "metadata": {},
   "outputs": [],
   "source": [
    "SELECT SAL FROM EMP;"
   ]
  },
  {
   "cell_type": "code",
   "execution_count": null,
   "id": "57a310f0",
   "metadata": {},
   "outputs": [],
   "source": [
    "SELECT MAX(SAL) FROM EMP;"
   ]
  },
  {
   "cell_type": "code",
   "execution_count": null,
   "id": "8032c90c",
   "metadata": {},
   "outputs": [],
   "source": [
    "SELECT MIN(SAL) FROM EMP;"
   ]
  },
  {
   "cell_type": "code",
   "execution_count": null,
   "id": "731c28bb",
   "metadata": {},
   "outputs": [],
   "source": [
    "SELECT SUM(SAL) FROM EMP;"
   ]
  },
  {
   "cell_type": "code",
   "execution_count": null,
   "id": "e6836712",
   "metadata": {},
   "outputs": [],
   "source": [
    "SELECT AVG(SAL) FROM EMP;"
   ]
  },
  {
   "cell_type": "code",
   "execution_count": null,
   "id": "b6967e00",
   "metadata": {},
   "outputs": [],
   "source": [
    "SELECT COUNT(*) FROM EMP;"
   ]
  },
  {
   "cell_type": "code",
   "execution_count": null,
   "id": "1f597a53",
   "metadata": {},
   "outputs": [],
   "source": [
    "SELECT COUNT(ENAME) FROM EMP;"
   ]
  },
  {
   "cell_type": "code",
   "execution_count": null,
   "id": "229cb833",
   "metadata": {},
   "outputs": [],
   "source": [
    "SELECT COUNT(DISTINCT(DEPTNO)) FROM EMP;"
   ]
  },
  {
   "cell_type": "code",
   "execution_count": null,
   "id": "5a8c4100",
   "metadata": {},
   "outputs": [],
   "source": [
    "SELECT DEPTNO, COUNT(*) FROM EMP GROUP BY DEPTNO;"
   ]
  },
  {
   "cell_type": "code",
   "execution_count": null,
   "id": "80c21de4",
   "metadata": {},
   "outputs": [],
   "source": [
    "SELECT DEPTNO, MIN(SAL), MAX(SAL) FROM EMP GROUP BY DEPTNO;"
   ]
  },
  {
   "cell_type": "code",
   "execution_count": null,
   "id": "a63c50f8",
   "metadata": {},
   "outputs": [],
   "source": [
    "SELECT DEPTNO, JOB, SUM(SAL) FROM EMP GROUP BY DEPTNO, JOB;"
   ]
  },
  {
   "cell_type": "code",
   "execution_count": null,
   "id": "de22e306",
   "metadata": {},
   "outputs": [],
   "source": [
    "SELECT DEPTNO, SUM(SAL) FROM EMP GROUP BY DEPTNO;"
   ]
  },
  {
   "cell_type": "code",
   "execution_count": null,
   "id": "76554097",
   "metadata": {},
   "outputs": [],
   "source": [
    "SELECT DEPTNO, COUNT(*) FROM EMP GROUP BY DEPTNO HAVING COUNT(*) > 3;"
   ]
  },
  {
   "cell_type": "code",
   "execution_count": null,
   "id": "506cf72a",
   "metadata": {},
   "outputs": [],
   "source": [
    "SELECT DEPTNO, COUNT(*) FROM EMP GROUP BY DEPTNO HAVING COUNT(*) > 3 ORDER BY COUNT(*) ASC;"
   ]
  }
 ],
 "metadata": {
  "language_info": {
   "name": "python"
  }
 },
 "nbformat": 4,
 "nbformat_minor": 5
}
