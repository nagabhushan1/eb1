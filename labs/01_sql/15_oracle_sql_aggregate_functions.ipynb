{
 "cells": [
  {
   "cell_type": "markdown",
   "id": "43e08000",
   "metadata": {},
   "source": [
    "### Introduction to Aggregate Functions\n",
    "Aggregate functions operate on a set of rows and return a single value. Common aggregate functions include:\n",
    "- `MAX()`\n",
    "- `MIN()`\n",
    "- `SUM()`\n",
    "- `AVG()`\n",
    "- `COUNT()`"
   ]
  },
  {
   "cell_type": "code",
   "execution_count": null,
   "id": "ecb458e4",
   "metadata": {},
   "outputs": [],
   "source": [
    "SELECT SAL FROM EMP;"
   ]
  },
  {
   "cell_type": "markdown",
   "id": "8f9ee5d7",
   "metadata": {},
   "source": [
    "### MAX Function\n",
    "The `MAX` function returns the highest value in a column."
   ]
  },
  {
   "cell_type": "code",
   "execution_count": null,
   "id": "2c0d3541",
   "metadata": {},
   "outputs": [],
   "source": [
    "SELECT MAX(SAL) FROM EMP;"
   ]
  },
  {
   "cell_type": "markdown",
   "id": "96210ba2",
   "metadata": {},
   "source": [
    "### MIN Function\n",
    "The `MIN` function returns the lowest value in a column."
   ]
  },
  {
   "cell_type": "code",
   "execution_count": null,
   "id": "5a1a0fac",
   "metadata": {},
   "outputs": [],
   "source": [
    "SELECT MIN(SAL) FROM EMP;"
   ]
  },
  {
   "cell_type": "markdown",
   "id": "39ead345",
   "metadata": {},
   "source": [
    "### SUM Function\n",
    "The `SUM` function returns the total of all values in a column."
   ]
  },
  {
   "cell_type": "code",
   "execution_count": null,
   "id": "557c8bab",
   "metadata": {},
   "outputs": [],
   "source": [
    "SELECT SUM(SAL) FROM EMP;"
   ]
  },
  {
   "cell_type": "markdown",
   "id": "fe1d2e83",
   "metadata": {},
   "source": [
    "### AVG Function\n",
    "The `AVG` function returns the average of values in a column."
   ]
  },
  {
   "cell_type": "code",
   "execution_count": null,
   "id": "f7791a58",
   "metadata": {},
   "outputs": [],
   "source": [
    "SELECT AVG(SAL) FROM EMP;"
   ]
  },
  {
   "cell_type": "markdown",
   "id": "23445ae5",
   "metadata": {},
   "source": [
    "### COUNT Function\n",
    "The `COUNT` function counts rows or column values.\n",
    "- `COUNT(*)` counts all rows.\n",
    "- `COUNT(column)` counts non-NULL values."
   ]
  },
  {
   "cell_type": "code",
   "execution_count": null,
   "id": "c4ad6b0c",
   "metadata": {},
   "outputs": [],
   "source": [
    "SELECT COUNT(*) FROM EMP;"
   ]
  },
  {
   "cell_type": "code",
   "execution_count": null,
   "id": "48fa5054",
   "metadata": {},
   "outputs": [],
   "source": [
    "SELECT COUNT(ENAME) FROM EMP;"
   ]
  },
  {
   "cell_type": "code",
   "execution_count": null,
   "id": "1ed2ebbe",
   "metadata": {},
   "outputs": [],
   "source": [
    "SELECT COUNT(SAL) FROM EMP;"
   ]
  },
  {
   "cell_type": "code",
   "execution_count": null,
   "id": "d9bb1e95",
   "metadata": {},
   "outputs": [],
   "source": [
    "SELECT COUNT(COMM) FROM EMP;"
   ]
  },
  {
   "cell_type": "markdown",
   "id": "eb0a9554",
   "metadata": {},
   "source": [
    "### DISTINCT with COUNT\n",
    "The `DISTINCT` keyword ensures only unique values are considered."
   ]
  },
  {
   "cell_type": "code",
   "execution_count": null,
   "id": "6d5863c4",
   "metadata": {},
   "outputs": [],
   "source": [
    "SELECT DEPTNO FROM EMP;"
   ]
  },
  {
   "cell_type": "code",
   "execution_count": null,
   "id": "03aec501",
   "metadata": {},
   "outputs": [],
   "source": [
    "SELECT DISTINCT DEPTNO FROM EMP;"
   ]
  },
  {
   "cell_type": "code",
   "execution_count": null,
   "id": "034f5d9d",
   "metadata": {},
   "outputs": [],
   "source": [
    "SELECT COUNT(DISTINCT DEPTNO) FROM EMP;"
   ]
  },
  {
   "cell_type": "code",
   "execution_count": null,
   "id": "c8c7e9d4",
   "metadata": {},
   "outputs": [],
   "source": [
    "SELECT COUNT(DISTINCT(DEPTNO)) FROM EMP;"
   ]
  },
  {
   "cell_type": "markdown",
   "id": "e0ec4cec",
   "metadata": {},
   "source": [
    "### NVL with Aggregates\n",
    "Using `NVL` ensures NULL values are replaced before aggregation."
   ]
  },
  {
   "cell_type": "code",
   "execution_count": null,
   "id": "2f48dc51",
   "metadata": {},
   "outputs": [],
   "source": [
    "SELECT AVG(NVL(COMM, 0)) FROM EMP;"
   ]
  },
  {
   "cell_type": "markdown",
   "id": "f80c836b",
   "metadata": {},
   "source": [
    "### GROUP BY Clause\n",
    "The `GROUP BY` clause divides rows into groups for aggregation.\n",
    "\n",
    "**Rules for GROUP BY:**\n",
    "1. Every column in the SELECT list that is not inside an aggregate function must appear in the GROUP BY clause.\n",
    "2. Columns used in GROUP BY need not appear in SELECT.\n",
    "3. Cannot use column aliases in GROUP BY.\n",
    "4. GROUP BY happens before aggregates are calculated."
   ]
  },
  {
   "cell_type": "code",
   "execution_count": null,
   "id": "abb63293",
   "metadata": {},
   "outputs": [],
   "source": [
    "SELECT DEPTNO, COUNT(*) FROM EMP GROUP BY DEPTNO;"
   ]
  },
  {
   "cell_type": "code",
   "execution_count": null,
   "id": "a76d5eb1",
   "metadata": {},
   "outputs": [],
   "source": [
    "SELECT JOB, COUNT(*) FROM EMP GROUP BY JOB;"
   ]
  },
  {
   "cell_type": "code",
   "execution_count": null,
   "id": "9f1858f6",
   "metadata": {},
   "outputs": [],
   "source": [
    "SELECT DEPTNO, MIN(SAL), MAX(SAL) FROM EMP GROUP BY DEPTNO;"
   ]
  },
  {
   "cell_type": "code",
   "execution_count": null,
   "id": "e03c68d9",
   "metadata": {},
   "outputs": [],
   "source": [
    "SELECT DEPTNO FROM EMP GROUP BY DEPTNO;"
   ]
  },
  {
   "cell_type": "code",
   "execution_count": null,
   "id": "61bd89aa",
   "metadata": {},
   "outputs": [],
   "source": [
    "SELECT DEPTNO, ENAME FROM EMP GROUP BY DEPTNO, ENAME;"
   ]
  },
  {
   "cell_type": "code",
   "execution_count": null,
   "id": "06862aee",
   "metadata": {},
   "outputs": [],
   "source": [
    "SELECT DEPTNO, JOB, SUM(SAL) FROM EMP GROUP BY DEPTNO, JOB;"
   ]
  },
  {
   "cell_type": "code",
   "execution_count": null,
   "id": "3e9b171b",
   "metadata": {},
   "outputs": [],
   "source": [
    "SELECT SUM(SAL) FROM EMP GROUP BY DEPTNO;"
   ]
  },
  {
   "cell_type": "code",
   "execution_count": null,
   "id": "97332acc",
   "metadata": {},
   "outputs": [],
   "source": [
    "SELECT SUM(SAL) FROM EMP;"
   ]
  },
  {
   "cell_type": "code",
   "execution_count": null,
   "id": "168c4127",
   "metadata": {},
   "outputs": [],
   "source": [
    "SELECT DEPTNO, SUM(SAL) FROM EMP GROUP BY DEPTNO;"
   ]
  },
  {
   "cell_type": "markdown",
   "id": "76dfe054",
   "metadata": {},
   "source": [
    "### HAVING Clause\n",
    "The `HAVING` clause filters groups after aggregation.\n",
    "\n",
    "**Rules for HAVING:**\n",
    "1. HAVING is applied after GROUP BY and aggregates are computed.\n",
    "2. WHERE filters rows before grouping, HAVING filters groups after grouping.\n",
    "3. You can use aggregate functions inside HAVING."
   ]
  },
  {
   "cell_type": "code",
   "execution_count": null,
   "id": "28c61a11",
   "metadata": {},
   "outputs": [],
   "source": [
    "SELECT DEPTNO, COUNT(*) FROM EMP GROUP BY DEPTNO HAVING COUNT(*) > 3;"
   ]
  },
  {
   "cell_type": "markdown",
   "id": "1ea07498",
   "metadata": {},
   "source": [
    "### ORDER BY Clause\n",
    "The `ORDER BY` clause sorts the results.\n",
    "\n",
    "**Rules for ORDER BY:**\n",
    "1. ORDER BY is the last clause executed.\n",
    "2. You can order by column names, aliases, or column positions.\n",
    "3. Default order is ASC (ascending). Use DESC for descending.\n",
    "4. ORDER BY works with grouped and aggregated results."
   ]
  },
  {
   "cell_type": "code",
   "execution_count": null,
   "id": "7cdd7f6a",
   "metadata": {},
   "outputs": [],
   "source": [
    "SELECT DEPTNO, COUNT(*) FROM EMP GROUP BY DEPTNO HAVING COUNT(*) > 3 ORDER BY COUNT(*) ASC;"
   ]
  }
 ],
 "metadata": {},
 "nbformat": 4,
 "nbformat_minor": 5
}
