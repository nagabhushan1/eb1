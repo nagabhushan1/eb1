{
  "cells": [
    {
      "cell_type": "markdown",
      "metadata": {},
      "source": "# \ud83d\udcd8 HR Database \u2013 Solutions\n\nThis notebook contains the SQL solutions for the HR schema use cases."
    },
    {
      "cell_type": "markdown",
      "metadata": {},
      "source": "#### \ud83d\udd39 Use Case 1\n> **Describe all the tables** available in the HR schema and explain how the tables are related to each other."
    },
    {
      "cell_type": "code",
      "execution_count": null,
      "metadata": {},
      "outputs": [],
      "source": "SELECT table_name FROM user_tables;"
    },
    {
      "cell_type": "markdown",
      "metadata": {},
      "source": "#### \ud83d\udd39 Use Case 2\n> Retrieve the **last name** and **email** of all employees."
    },
    {
      "cell_type": "code",
      "execution_count": null,
      "metadata": {},
      "outputs": [],
      "source": "DESC employees;"
    },
    {
      "cell_type": "code",
      "execution_count": null,
      "metadata": {},
      "outputs": [],
      "source": "SELECT last_name, email\nFROM employees;"
    },
    {
      "cell_type": "markdown",
      "metadata": {},
      "source": "#### \ud83d\udd39 Use Case 3\n> Retrieve **all columns** from the `departments` table."
    },
    {
      "cell_type": "code",
      "execution_count": null,
      "metadata": {},
      "outputs": [],
      "source": "SELECT *\nFROM departments;"
    },
    {
      "cell_type": "markdown",
      "metadata": {},
      "source": "#### \ud83d\udd39 Use Case 4\n> Retrieve the **last name, first name, salary**, and **salary + 300** as an incremented salary from the `employees` table."
    },
    {
      "cell_type": "code",
      "execution_count": null,
      "metadata": {},
      "outputs": [],
      "source": "SELECT last_name, first_name, salary, salary+300\nFROM employees;"
    },
    {
      "cell_type": "code",
      "execution_count": null,
      "metadata": {},
      "outputs": [],
      "source": "SELECT last_name AS \"lname\", first_name AS \"fname\", salary AS \"sal\", salary+300 AS \"incr sal\"\nFROM employees;"
    },
    {
      "cell_type": "markdown",
      "metadata": {},
      "source": "#### \ud83d\udd39 Use Case 5\n> Retrieve the **last name, salary, commission percentage, and annual salary** of employees.  \n> Formula:  \n> `annual_salary = (salary + (commission_pct * salary)) * 12`"
    },
    {
      "cell_type": "code",
      "execution_count": null,
      "metadata": {},
      "outputs": [],
      "source": "SELECT last_name, salary, commission_pct, ((salary + (commission_pct*salary))*12) AS annual_salary\nFROM employees;"
    },
    {
      "cell_type": "code",
      "execution_count": null,
      "metadata": {},
      "outputs": [],
      "source": "SELECT last_name, salary, commission_pct, ((salary + (NVL(commission_pct,0)*salary))*12) AS annual_salary\nFROM employees;"
    },
    {
      "cell_type": "markdown",
      "metadata": {},
      "source": "#### \ud83d\udd39 Use Case 6\n> Find the **IDs of departments** in which employees are working."
    },
    {
      "cell_type": "code",
      "execution_count": null,
      "metadata": {},
      "outputs": [],
      "source": "SELECT DISTINCT department_id FROM employees;"
    },
    {
      "cell_type": "markdown",
      "metadata": {},
      "source": "#### \ud83d\udd39 Use Case 7\n> Display the **last name, job ID, and department ID** of the employee whose last name is **Whalen**."
    },
    {
      "cell_type": "code",
      "execution_count": null,
      "metadata": {},
      "outputs": [],
      "source": "SELECT last_name, job_id, department_id\nFROM employees\nWHERE last_name = 'Whalen';"
    },
    {
      "cell_type": "markdown",
      "metadata": {},
      "source": "#### \ud83d\udd39 Use Case 8\n> Retrieve the **last name** and **salary** of all employees who have a **salary greater than 5000** and work in **department 90**."
    },
    {
      "cell_type": "code",
      "execution_count": null,
      "metadata": {},
      "outputs": [],
      "source": "SELECT last_name, salary\nFROM employees\nWHERE salary > 5000\nAND department_id = 90;"
    },
    {
      "cell_type": "markdown",
      "metadata": {},
      "source": "#### \ud83d\udd39 Use Case 9\n> Retrieve the **last name, salary, and hire date** of all employees working in departments **60** and **90** who were hired **after 1-JAN-07**.  \n> Sort the data so that the **most recently hired employees** appear first."
    },
    {
      "cell_type": "code",
      "execution_count": null,
      "metadata": {},
      "outputs": [],
      "source": "SELECT last_name, salary, hire_date\nFROM employees\nWHERE department_id IN (60,90) AND hire_date > '1-JAN-07'\nORDER BY hire_date DESC;"
    },
    {
      "cell_type": "code",
      "execution_count": null,
      "metadata": {},
      "outputs": [],
      "source": "SELECT commission_pct\nFROM employees\nORDER BY commission_pct;"
    },
    {
      "cell_type": "markdown",
      "metadata": {},
      "source": "#### \ud83d\udd39 Use Case 10\n> Retrieve the **last name** and **salary** of all employees working as **SA_REP** or **AD_PRES** with a **salary greater than 5000**.  \n> Sort the results in **ascending order of last name**."
    },
    {
      "cell_type": "code",
      "execution_count": null,
      "metadata": {},
      "outputs": [],
      "source": "SELECT last_name, salary\nFROM employees\nWHERE job_id IN ('SA_REP','AD_PRES')\nAND salary > 5000\nORDER BY last_name;"
    },
    {
      "cell_type": "markdown",
      "metadata": {},
      "source": "#### \ud83d\udd39 Use Case 11\n> Retrieve the **last names** of employees whose **second-last character** in their last name is **e**."
    },
    {
      "cell_type": "code",
      "execution_count": null,
      "metadata": {},
      "outputs": [],
      "source": "SELECT last_name\nFROM employees\nWHERE last_name LIKE '%e_';"
    },
    {
      "cell_type": "markdown",
      "metadata": {},
      "source": "#### \ud83d\udd39 Use Case 12\n> Retrieve the **salary and last name** of all employees whose **manager_id** is **100, 101, or 201**."
    },
    {
      "cell_type": "code",
      "execution_count": null,
      "metadata": {},
      "outputs": [],
      "source": "SELECT salary, last_name\nFROM employees\nWHERE manager_id IN (100,101,201);"
    },
    {
      "cell_type": "markdown",
      "metadata": {},
      "source": "#### \ud83d\udd39 Use Case 13\n> Retrieve the **salary and last name** of all employees whose **salary** is between **5000 and 10000**."
    },
    {
      "cell_type": "code",
      "execution_count": null,
      "metadata": {},
      "outputs": [],
      "source": "SELECT salary, last_name\nFROM employees\nWHERE salary >= 5000 AND salary <= 10000;"
    },
    {
      "cell_type": "code",
      "execution_count": null,
      "metadata": {},
      "outputs": [],
      "source": "SELECT salary, last_name\nFROM employees\nWHERE salary BETWEEN 5000 AND 10000;"
    },
    {
      "cell_type": "markdown",
      "metadata": {},
      "source": "#### \ud83d\udd39 Use Case 14\n> Retrieve the **names of employees** who **do not have managers**."
    },
    {
      "cell_type": "code",
      "execution_count": null,
      "metadata": {},
      "outputs": [],
      "source": "SELECT last_name, first_name\nFROM employees\nWHERE manager_id IS NULL;"
    },
    {
      "cell_type": "code",
      "execution_count": null,
      "metadata": {},
      "outputs": [],
      "source": "SELECT last_name, first_name\nFROM employees\nWHERE manager_id = NULL; -- This will not return any rows"
    }
  ],
  "metadata": {
    "kernelspec": {
      "display_name": "SQL",
      "language": "sql",
      "name": "sql"
    },
    "language_info": {
      "name": "sql"
    }
  },
  "nbformat": 4,
  "nbformat_minor": 5
}