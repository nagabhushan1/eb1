{
 "cells": [
  {
   "cell_type": "markdown",
   "id": "bc852bfb",
   "metadata": {},
   "source": [
    "# Oracle SQL Practice Exercises\n",
    "\n",
    "Formatted for readability – each query fits neatly without horizontal scrolling."
   ]
  },
  {
   "cell_type": "markdown",
   "id": "633e4115",
   "metadata": {},
   "source": [
    "### Display current timestamp and session timestamp"
   ]
  },
  {
   "cell_type": "code",
   "execution_count": null,
   "id": "0831459a",
   "metadata": {},
   "outputs": [],
   "source": [
    "SELECT \n",
    "    SYSTIMESTAMP AS system_ts, \n",
    "    CURRENT_TIMESTAMP AS session_ts \n",
    "FROM DUAL;"
   ]
  },
  {
   "cell_type": "markdown",
   "id": "e39c8a78",
   "metadata": {},
   "source": [
    "### Show system date vs timestamp precision"
   ]
  },
  {
   "cell_type": "code",
   "execution_count": null,
   "id": "c560236f",
   "metadata": {},
   "outputs": [],
   "source": [
    "SELECT \n",
    "    SYSDATE AS system_date, \n",
    "    SYSTIMESTAMP AS system_timestamp \n",
    "FROM DUAL;"
   ]
  },
  {
   "cell_type": "markdown",
   "id": "a2e9967d",
   "metadata": {},
   "source": [
    "### Create a timestamp literal"
   ]
  },
  {
   "cell_type": "code",
   "execution_count": null,
   "id": "58e5e1e3",
   "metadata": {},
   "outputs": [],
   "source": [
    "SELECT \n",
    "    TIMESTAMP '2025-10-05 14:35:55.123456' AS ts_literal \n",
    "FROM DUAL;"
   ]
  },
  {
   "cell_type": "markdown",
   "id": "46298a16",
   "metadata": {},
   "source": [
    "### Convert New York time to India time zone"
   ]
  },
  {
   "cell_type": "code",
   "execution_count": null,
   "id": "ec665646",
   "metadata": {},
   "outputs": [],
   "source": [
    "SELECT \n",
    "    FROM_TZ(\n",
    "        TIMESTAMP '2025-10-05 08:00:00', \n",
    "        'America/New_York'\n",
    "    ) AT TIME ZONE 'Asia/Kolkata' AS ny_to_ist \n",
    "FROM DUAL;"
   ]
  },
  {
   "cell_type": "markdown",
   "id": "378cc89a",
   "metadata": {},
   "source": [
    "### Show timestamp with local time zone"
   ]
  },
  {
   "cell_type": "code",
   "execution_count": null,
   "id": "08d29e11",
   "metadata": {},
   "outputs": [],
   "source": [
    "SELECT \n",
    "    CAST(SYSTIMESTAMP AS TIMESTAMP WITH LOCAL TIME ZONE) AS ts_ltz \n",
    "FROM DUAL;"
   ]
  },
  {
   "cell_type": "markdown",
   "id": "194d2422",
   "metadata": {},
   "source": [
    "### Change session time zone and show difference"
   ]
  },
  {
   "cell_type": "code",
   "execution_count": null,
   "id": "16808cba",
   "metadata": {},
   "outputs": [],
   "source": [
    "ALTER SESSION SET TIME_ZONE = '+02:00';\n",
    "\n",
    "SELECT \n",
    "    CURRENT_DATE AS curr_date_session_tz, \n",
    "    CURRENT_TIMESTAMP AS curr_ts_session_tz, \n",
    "    SYSTIMESTAMP AS sys_ts_host_tz \n",
    "FROM DUAL;"
   ]
  },
  {
   "cell_type": "markdown",
   "id": "0fe6754e",
   "metadata": {},
   "source": [
    "### Add 2 days and subtract 5 hours from current timestamp"
   ]
  },
  {
   "cell_type": "code",
   "execution_count": null,
   "id": "5db58093",
   "metadata": {},
   "outputs": [],
   "source": [
    "SELECT \n",
    "    SYSTIMESTAMP + INTERVAL '2' DAY AS plus_2_days, \n",
    "    SYSTIMESTAMP - INTERVAL '5' HOUR AS minus_5_hours \n",
    "FROM DUAL;"
   ]
  },
  {
   "cell_type": "markdown",
   "id": "c64adf6c",
   "metadata": {},
   "source": [
    "### Add 90 minutes and 2 months using interval functions"
   ]
  },
  {
   "cell_type": "code",
   "execution_count": null,
   "id": "26c4928a",
   "metadata": {},
   "outputs": [],
   "source": [
    "SELECT \n",
    "    SYSTIMESTAMP + NUMTODSINTERVAL(90, 'MINUTE') AS plus_90_min, \n",
    "    SYSTIMESTAMP + NUMTOYMINTERVAL(2, 'MONTH') AS plus_2_months \n",
    "FROM DUAL;"
   ]
  },
  {
   "cell_type": "markdown",
   "id": "b4841cbc",
   "metadata": {},
   "source": [
    "### Convert string to timestamp"
   ]
  },
  {
   "cell_type": "code",
   "execution_count": null,
   "id": "6f3efd5b",
   "metadata": {},
   "outputs": [],
   "source": [
    "SELECT \n",
    "    TO_TIMESTAMP(\n",
    "        '2025-10-05 15:45:33.123', \n",
    "        'YYYY-MM-DD HH24:MI:SS.FF3'\n",
    "    ) AS to_ts \n",
    "FROM DUAL;"
   ]
  },
  {
   "cell_type": "markdown",
   "id": "16cd1dca",
   "metadata": {},
   "source": [
    "### Cast date to timestamp and timestamp to date"
   ]
  },
  {
   "cell_type": "code",
   "execution_count": null,
   "id": "6b7256c8",
   "metadata": {},
   "outputs": [],
   "source": [
    "SELECT \n",
    "    CAST(SYSDATE AS TIMESTAMP) AS cast_to_ts, \n",
    "    CAST(SYSTIMESTAMP AS DATE) AS cast_to_date \n",
    "FROM DUAL;"
   ]
  },
  {
   "cell_type": "markdown",
   "id": "dbe486e9",
   "metadata": {},
   "source": [
    "### Format timestamp with time zone region"
   ]
  },
  {
   "cell_type": "code",
   "execution_count": null,
   "id": "e498e21a",
   "metadata": {},
   "outputs": [],
   "source": [
    "SELECT \n",
    "    TO_CHAR(\n",
    "        SYSTIMESTAMP, \n",
    "        'YYYY-MM-DD HH24:MI:SS.FF3 TZR'\n",
    "    ) AS formatted_ts \n",
    "FROM DUAL;"
   ]
  },
  {
   "cell_type": "markdown",
   "id": "a0278093",
   "metadata": {},
   "source": [
    "### Extract components from timestamp"
   ]
  },
  {
   "cell_type": "code",
   "execution_count": null,
   "id": "cde6d7b7",
   "metadata": {},
   "outputs": [],
   "source": [
    "SELECT \n",
    "    EXTRACT(YEAR FROM SYSTIMESTAMP) AS yr, \n",
    "    EXTRACT(MONTH FROM SYSTIMESTAMP) AS mon, \n",
    "    EXTRACT(DAY FROM SYSTIMESTAMP) AS dy, \n",
    "    EXTRACT(HOUR FROM SYSTIMESTAMP) AS hr, \n",
    "    EXTRACT(MINUTE FROM SYSTIMESTAMP) AS mi, \n",
    "    EXTRACT(SECOND FROM SYSTIMESTAMP) AS sec \n",
    "FROM DUAL;"
   ]
  },
  {
   "cell_type": "markdown",
   "id": "ab4867f6",
   "metadata": {},
   "source": [
    "### Round and truncate timestamp values"
   ]
  },
  {
   "cell_type": "code",
   "execution_count": null,
   "id": "e7b296d1",
   "metadata": {},
   "outputs": [],
   "source": [
    "SELECT \n",
    "    ROUND(SYSTIMESTAMP, 'HH') AS rounded_hour, \n",
    "    TRUNC(SYSTIMESTAMP, 'DD') AS trunc_day \n",
    "FROM DUAL;"
   ]
  },
  {
   "cell_type": "markdown",
   "id": "0a9896b6",
   "metadata": {},
   "source": [
    "### Find difference between two timestamps"
   ]
  },
  {
   "cell_type": "code",
   "execution_count": null,
   "id": "b560038c",
   "metadata": {},
   "outputs": [],
   "source": [
    "SELECT \n",
    "    (TO_TIMESTAMP('2025-10-05 18:00:00', 'YYYY-MM-DD HH24:MI:SS') - \n",
    "     TO_TIMESTAMP('2025-10-05 14:00:00', 'YYYY-MM-DD HH24:MI:SS')) \n",
    "    DAY TO SECOND AS diff_interval \n",
    "FROM DUAL;"
   ]
  },
  {
   "cell_type": "markdown",
   "id": "8392b4e5",
   "metadata": {},
   "source": [
    "### Calculate time difference in minutes between two timestamps"
   ]
  },
  {
   "cell_type": "code",
   "execution_count": null,
   "id": "eb4b85b1",
   "metadata": {},
   "outputs": [],
   "source": [
    "SELECT \n",
    "    EXTRACT(DAY FROM (t2 - t1)) * 24 * 60 + \n",
    "    EXTRACT(HOUR FROM (t2 - t1)) * 60 + \n",
    "    EXTRACT(MINUTE FROM (t2 - t1)) AS diff_minutes \n",
    "FROM (\n",
    "    SELECT \n",
    "        TO_TIMESTAMP('2025-10-05 18:00:00', 'YYYY-MM-DD HH24:MI:SS') AS t2, \n",
    "        TO_TIMESTAMP('2025-10-05 15:00:00', 'YYYY-MM-DD HH24:MI:SS') AS t1 \n",
    "    FROM DUAL\n",
    ");"
   ]
  },
  {
   "cell_type": "markdown",
   "id": "5513994a",
   "metadata": {},
   "source": [
    "### Compute project deadline 45 days and 6 hours ahead"
   ]
  },
  {
   "cell_type": "code",
   "execution_count": null,
   "id": "88525059",
   "metadata": {},
   "outputs": [],
   "source": [
    "SELECT \n",
    "    SYSTIMESTAMP + INTERVAL '45' DAY + INTERVAL '6' HOUR AS project_deadline \n",
    "FROM DUAL;"
   ]
  },
  {
   "cell_type": "markdown",
   "id": "47cafedd",
   "metadata": {},
   "source": [
    "### Check if current time is within office hours (9 AM–6 PM)"
   ]
  },
  {
   "cell_type": "code",
   "execution_count": null,
   "id": "df4c399c",
   "metadata": {},
   "outputs": [],
   "source": [
    "SELECT \n",
    "    CASE \n",
    "        WHEN TO_NUMBER(TO_CHAR(SYSTIMESTAMP, 'HH24')) BETWEEN 9 AND 18 \n",
    "        THEN 'Within Office Hours' \n",
    "        ELSE 'Outside Office Hours' \n",
    "    END AS office_window \n",
    "FROM DUAL;"
   ]
  },
  {
   "cell_type": "markdown",
   "id": "113ec1e6",
   "metadata": {},
   "source": [
    "### Calculate days since each employee was hired"
   ]
  },
  {
   "cell_type": "code",
   "execution_count": null,
   "id": "8dacb67b",
   "metadata": {},
   "outputs": [],
   "source": [
    "SELECT \n",
    "    e.ename, \n",
    "    e.hiredate, \n",
    "    TRUNC(SYSDATE - e.hiredate) AS days_since_hired \n",
    "FROM emp e;"
   ]
  },
  {
   "cell_type": "markdown",
   "id": "54e1a9b2",
   "metadata": {},
   "source": [
    "### Compute years, months, and days of experience for each employee"
   ]
  },
  {
   "cell_type": "code",
   "execution_count": null,
   "id": "642dd9a9",
   "metadata": {},
   "outputs": [],
   "source": [
    "SELECT \n",
    "    e.ename, \n",
    "    FLOOR(MONTHS_BETWEEN(SYSDATE, e.hiredate) / 12) AS years, \n",
    "    MOD(FLOOR(MONTHS_BETWEEN(SYSDATE, e.hiredate)), 12) AS months, \n",
    "    TRUNC(\n",
    "        SYSDATE - ADD_MONTHS(\n",
    "            e.hiredate, \n",
    "            FLOOR(MONTHS_BETWEEN(SYSDATE, e.hiredate) / 12) * 12 + \n",
    "            MOD(FLOOR(MONTHS_BETWEEN(SYSDATE, e.hiredate)), 12)\n",
    "        )\n",
    "    ) AS days \n",
    "FROM emp e;"
   ]
  },
  {
   "cell_type": "markdown",
   "id": "bbf9c746",
   "metadata": {},
   "source": [
    "### Display exact interval of service using TIMESTAMP difference"
   ]
  },
  {
   "cell_type": "code",
   "execution_count": null,
   "id": "b20f0978",
   "metadata": {},
   "outputs": [],
   "source": [
    "SELECT \n",
    "    e.ename, \n",
    "    (SYSTIMESTAMP - CAST(e.hiredate AS TIMESTAMP)) AS exact_service_interval \n",
    "FROM emp e;"
   ]
  },
  {
   "cell_type": "markdown",
   "id": "4582c065",
   "metadata": {},
   "source": [
    "### List employees hired in the last 6 months"
   ]
  },
  {
   "cell_type": "code",
   "execution_count": null,
   "id": "d9f87913",
   "metadata": {},
   "outputs": [],
   "source": [
    "SELECT \n",
    "    e.ename, \n",
    "    e.hiredate \n",
    "FROM emp e \n",
    "WHERE e.hiredate > ADD_MONTHS(SYSDATE, -6);"
   ]
  },
  {
   "cell_type": "markdown",
   "id": "4a9b0810",
   "metadata": {},
   "source": [
    "### Show employees hired on weekend days"
   ]
  },
  {
   "cell_type": "code",
   "execution_count": null,
   "id": "2a8adfe9",
   "metadata": {},
   "outputs": [],
   "source": [
    "SELECT \n",
    "    e.ename, \n",
    "    e.hiredate, \n",
    "    TO_CHAR(e.hiredate, 'DY') AS dow \n",
    "FROM emp e \n",
    "WHERE TO_CHAR(e.hiredate, 'DY') IN ('SAT', 'SUN');"
   ]
  },
  {
   "cell_type": "markdown",
   "id": "d30c9a8d",
   "metadata": {},
   "source": [
    "### Calculate department-wise average experience in months"
   ]
  },
  {
   "cell_type": "code",
   "execution_count": null,
   "id": "476c39a8",
   "metadata": {},
   "outputs": [],
   "source": [
    "SELECT \n",
    "    d.dname, \n",
    "    ROUND(AVG(MONTHS_BETWEEN(SYSDATE, e.hiredate)), 1) AS avg_exp_months \n",
    "FROM emp e \n",
    "JOIN dept d ON e.deptno = d.deptno \n",
    "GROUP BY d.dname;"
   ]
  },
  {
   "cell_type": "markdown",
   "id": "b92c511d",
   "metadata": {},
   "source": [
    "### Count hires per month based on timestamp format"
   ]
  },
  {
   "cell_type": "code",
   "execution_count": null,
   "id": "b290cc80",
   "metadata": {},
   "outputs": [],
   "source": [
    "SELECT \n",
    "    TO_CHAR(CAST(hiredate AS TIMESTAMP), 'YYYY-MM') AS yyyymm, \n",
    "    COUNT(*) AS hires \n",
    "FROM emp \n",
    "GROUP BY TO_CHAR(CAST(hiredate AS TIMESTAMP), 'YYYY-MM') \n",
    "ORDER BY yyyymm;"
   ]
  },
  {
   "cell_type": "markdown",
   "id": "21c6982c",
   "metadata": {},
   "source": [
    "### List employees whose hire date matches today's month and day"
   ]
  },
  {
   "cell_type": "code",
   "execution_count": null,
   "id": "c45aa670",
   "metadata": {},
   "outputs": [],
   "source": [
    "SELECT \n",
    "    e.ename, \n",
    "    e.hiredate \n",
    "FROM emp e \n",
    "WHERE EXTRACT(MONTH FROM CAST(e.hiredate AS TIMESTAMP)) = EXTRACT(MONTH FROM SYSTIMESTAMP) \n",
    "  AND EXTRACT(DAY FROM CAST(e.hiredate AS TIMESTAMP)) = EXTRACT(DAY FROM SYSTIMESTAMP);"
   ]
  },
  {
   "cell_type": "markdown",
   "id": "5d91dbe0",
   "metadata": {},
   "source": [
    "### Show first and last moment of the current month"
   ]
  },
  {
   "cell_type": "code",
   "execution_count": null,
   "id": "dab1e9a5",
   "metadata": {},
   "outputs": [],
   "source": [
    "SELECT \n",
    "    TRUNC(SYSTIMESTAMP, 'MM') AS month_start_ts, \n",
    "    ADD_MONTHS(TRUNC(SYSTIMESTAMP, 'MM'), 1) - NUMTODSINTERVAL(1, 'SECOND') AS month_end_ts \n",
    "FROM DUAL;"
   ]
  }
 ],
 "metadata": {},
 "nbformat": 4,
 "nbformat_minor": 5
}