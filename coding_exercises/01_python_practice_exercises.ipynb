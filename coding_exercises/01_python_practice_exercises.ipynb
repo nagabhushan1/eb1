{
 "cells": [
  {
   "cell_type": "markdown",
   "id": "d9855f9d",
   "metadata": {},
   "source": [
    "### Python Coding Interview Questions"
   ]
  },
  {
   "cell_type": "markdown",
   "id": "91ea6389",
   "metadata": {},
   "source": [
    "Debugging a Python Program"
   ]
  },
  {
   "cell_type": "code",
   "execution_count": null,
   "id": "b6321040",
   "metadata": {},
   "outputs": [],
   "source": [
    "# By using this command we can debug a python program\n",
    "python -m pdb python-script.py"
   ]
  },
  {
   "cell_type": "markdown",
   "id": "c16ac5e6",
   "metadata": {},
   "source": [
    "---"
   ]
  },
  {
   "cell_type": "markdown",
   "id": "4d7134e6",
   "metadata": {},
   "source": [
    "Yield Keyword in Python"
   ]
  },
  {
   "cell_type": "markdown",
   "id": "064df972",
   "metadata": {},
   "source": [
    "#"
   ]
  },
  {
   "cell_type": "markdown",
   "id": "47160f99",
   "metadata": {},
   "source": [
    "The keyword in Python can turn any function into a generator. Yields work like a standard return keyword."
   ]
  },
  {
   "cell_type": "code",
   "execution_count": null,
   "id": "b2a033b6",
   "metadata": {},
   "outputs": [],
   "source": [
    "def days(index):\n",
    "    day = ['S','M','T','W','Tr','F','St']            \n",
    "    yield day[index]    \n",
    "    yield day[index+1]  \n",
    "  \n",
    "res = days(0)\n",
    "print(next(res), next(res))\n",
    "\n",
    "> S M"
   ]
  },
  {
   "cell_type": "markdown",
   "id": "6e58028c",
   "metadata": {},
   "source": [
    "----"
   ]
  },
  {
   "cell_type": "markdown",
   "id": "454847e0",
   "metadata": {},
   "source": [
    "Converting a List into a String"
   ]
  },
  {
   "cell_type": "markdown",
   "id": "5e9cc96f",
   "metadata": {},
   "source": [
    "#"
   ]
  },
  {
   "cell_type": "markdown",
   "id": "2ab2a6d8",
   "metadata": {},
   "source": [
    "When we want to convert a list into a string, we can use the `<.join()>` method which joins all the elements into one and returns as a string."
   ]
  },
  {
   "cell_type": "code",
   "execution_count": null,
   "id": "b77bbbaf",
   "metadata": {},
   "outputs": [],
   "source": [
    "days = ['S','M','T','W','Tr','F','St'] \n",
    "ltos = ' '.join(days)\n",
    "print(ltos)\n",
    "\n",
    "> S M T W Tr F St"
   ]
  },
  {
   "cell_type": "markdown",
   "id": "a643e478",
   "metadata": {},
   "source": [
    "---"
   ]
  },
  {
   "cell_type": "markdown",
   "id": "761fb7bf",
   "metadata": {},
   "source": [
    "Converting a List into a Tuple"
   ]
  },
  {
   "cell_type": "markdown",
   "id": "357e38ef",
   "metadata": {},
   "source": [
    "#"
   ]
  },
  {
   "cell_type": "markdown",
   "id": "14811fdd",
   "metadata": {},
   "source": [
    "By using Python `<tuple()>` function we can convert a list into a tuple. But we can’t change the list after turning it into tuple, because it becomes immutable."
   ]
  },
  {
   "cell_type": "code",
   "execution_count": null,
   "id": "6f0d8a94",
   "metadata": {},
   "outputs": [],
   "source": [
    "days = ['S','M','T','W','Tr','F','St'] \n",
    "ltos = tuple(days)\n",
    "print(ltos)\n",
    "\n",
    "> ('S', 'M', 'T', 'W', 'Tr', 'F', 'St')"
   ]
  },
  {
   "cell_type": "markdown",
   "id": "5cd92f73",
   "metadata": {},
   "source": [
    "---"
   ]
  },
  {
   "cell_type": "markdown",
   "id": "7deae3e3",
   "metadata": {},
   "source": [
    "Converting a List into a Set"
   ]
  },
  {
   "cell_type": "markdown",
   "id": "c0eedf41",
   "metadata": {},
   "source": [
    "#"
   ]
  },
  {
   "cell_type": "markdown",
   "id": "ec939cdc",
   "metadata": {},
   "source": [
    "User can convert list into set by using `<set()>` function."
   ]
  },
  {
   "cell_type": "code",
   "execution_count": null,
   "id": "0add336b",
   "metadata": {},
   "outputs": [],
   "source": [
    "days = ['S','M','T','W','Tr','F','St'] \n",
    "ltos = set(days)\n",
    "print(ltos)\n",
    "\n",
    "> {'T', 'W', 'M', 'F', 'S', 'Tr', 'St'}"
   ]
  },
  {
   "cell_type": "markdown",
   "id": "04f29c7b",
   "metadata": {},
   "source": [
    "---"
   ]
  },
  {
   "cell_type": "markdown",
   "id": "dbb44359",
   "metadata": {},
   "source": [
    "Counting the occurrences of a particular element in the list"
   ]
  },
  {
   "cell_type": "markdown",
   "id": "c1f5082e",
   "metadata": {},
   "source": [
    "#"
   ]
  },
  {
   "cell_type": "markdown",
   "id": "699b8c58",
   "metadata": {},
   "source": [
    "We can count the occurrences of an individual element by using a `<count()>` function."
   ]
  },
  {
   "cell_type": "code",
   "execution_count": null,
   "id": "8d9700fa",
   "metadata": {},
   "outputs": [],
   "source": [
    "days = ['S','M','W', 'M','M','F','S']\n",
    "\n",
    "print(days.count('M'))\n",
    "\n",
    "> 3"
   ]
  },
  {
   "cell_type": "markdown",
   "id": "d344861a",
   "metadata": {},
   "source": [
    "---\n",
    "\n",
    "#"
   ]
  },
  {
   "cell_type": "markdown",
   "id": "136618cf",
   "metadata": {},
   "source": [
    "Counting the occurrences of elements in the list"
   ]
  },
  {
   "cell_type": "code",
   "execution_count": null,
   "id": "a75c0682",
   "metadata": {},
   "outputs": [],
   "source": [
    "days = ['S','M','M','M','F','S']\n",
    "y = set(days)\n",
    "\n",
    "print([[x,days.count(x)] for x in y])\n",
    "\n",
    "> [['M', 3], ['S', 2], ['F', 1]]"
   ]
  },
  {
   "cell_type": "markdown",
   "id": "74bfccc3",
   "metadata": {},
   "source": [
    "---"
   ]
  },
  {
   "cell_type": "markdown",
   "id": "602cb612",
   "metadata": {},
   "source": [
    "Creating a NumPy Array in Python"
   ]
  },
  {
   "cell_type": "markdown",
   "id": "18714792",
   "metadata": {},
   "source": [
    "#"
   ]
  },
  {
   "cell_type": "markdown",
   "id": "e651284d",
   "metadata": {},
   "source": [
    "NumPy arrays are more flexible then lists in Python."
   ]
  },
  {
   "cell_type": "code",
   "execution_count": null,
   "id": "36b2d521",
   "metadata": {},
   "outputs": [],
   "source": [
    "import numpy as np\n",
    "\n",
    "arr = np.array([1, 2, 3, 4, 5])\n",
    "\n",
    "print(arr)\n",
    "print(type(arr))\n",
    "\n",
    "> [1 2 3 4 5]\n",
    "  <class 'numpy.ndarray'>"
   ]
  },
  {
   "cell_type": "markdown",
   "id": "74e6710f",
   "metadata": {},
   "source": [
    "---"
   ]
  },
  {
   "cell_type": "markdown",
   "id": "3fa01bd3",
   "metadata": {},
   "source": [
    "Find the Longest Substring Without Repeating Characters"
   ]
  },
  {
   "cell_type": "code",
   "execution_count": null,
   "id": "956dc0f7",
   "metadata": {},
   "outputs": [],
   "source": [
    "def length_of_longest_substring(s: str) -> int:\n",
    "    char_index_map = {}\n",
    "    start = max_length = 0\n",
    "\n",
    "    for i, char in enumerate(s):\n",
    "        if char in char_index_map and char_index_map[char] >= start:\n",
    "            start = char_index_map[char] + 1\n",
    "        char_index_map[char] = i\n",
    "        max_length = max(max_length, i - start + 1)\n",
    "\n",
    "    return max_length\n",
    "\n",
    "# Example usage:\n",
    "print(length_of_longest_substring(\"abcabcbb\"))\n",
    "\n",
    "> 3"
   ]
  },
  {
   "cell_type": "markdown",
   "id": "143322c0",
   "metadata": {},
   "source": [
    "---"
   ]
  }
 ],
 "metadata": {
  "language_info": {
   "name": "python"
  }
 },
 "nbformat": 4,
 "nbformat_minor": 5
}
