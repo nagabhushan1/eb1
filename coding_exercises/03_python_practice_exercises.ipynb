{
 "cells": [
  {
   "cell_type": "markdown",
   "id": "77c5f93a",
   "metadata": {},
   "source": [
    "## 1. What is Python?\n",
    "\n",
    "Python is an interpreted, high-level, general-purpose programming language. It emphasizes code readability with its use of significant indentation. Python supports multiple programming paradigms, including structured (particularly procedural), object-oriented, and functional programming.\n",
    "\n",
    "---\n",
    "\n",
    "## 2. How is Python interpreted?\n",
    "\n",
    "Python code is executed line by line at runtime. Python internally converts the source code into an intermediate form called bytecode, which is then executed by the Python virtual machine (PVM).\n",
    "\n",
    "---\n",
    "\n",
    "## 3. What are Python's key features?\n",
    "\n",
    "* Easy to learn and use\n",
    "* Interpreted language\n",
    "* Dynamically typed\n",
    "* Extensive libraries\n",
    "* Object-oriented\n",
    "* Portable\n",
    "\n",
    "---\n",
    "\n",
    "## 4. What is PEP 8?\n",
    "\n",
    "PEP 8 is the Python Enhancement Proposal that provides guidelines and best practices for writing Python code. It covers various aspects such as naming conventions, code layout, and indentation.\n",
    "\n",
    "---\n",
    "\n",
    "## 5. How do you manage memory in Python?\n",
    "\n",
    "Python uses automatic memory management and a garbage collector to handle memory. The garbage collector recycles memory when objects are no longer in use.\n",
    "\n",
    "---\n",
    "\n",
    "## 6. What are Python's data types?\n",
    "\n",
    "* Numeric types: `int`, `float`, `complex`\n",
    "* Sequence types: `list`, `tuple`, `range`\n",
    "* Text type: `str`\n",
    "* Set types: `set`, `frozenset`\n",
    "* Mapping type: `dict`\n",
    "* Boolean type: `bool`\n",
    "* Binary types: `bytes`, `bytearray`, `memoryview`\n",
    "\n",
    "---\n",
    "\n",
    "## 7. What is the difference between a list and a tuple?\n",
    "\n",
    "* List: Mutable, can be changed after creation.\n",
    "* Tuple: Immutable, cannot be changed after creation.\n",
    "\n",
    "---\n",
    "\n",
    "## 8. How do you handle exceptions in Python?\n"
   ]
  },
  {
   "cell_type": "code",
   "execution_count": null,
   "id": "65dc0438",
   "metadata": {},
   "outputs": [],
   "source": [
    "try:\n",
    "    # code that may raise an exception\n",
    "except SomeException as e:\n",
    "    # code to handle the exception"
   ]
  },
  {
   "cell_type": "markdown",
   "id": "9cffd6c7",
   "metadata": {},
   "source": [
    "\n",
    "---\n",
    "\n",
    "## 9. Converting an Integer into Decimals\n"
   ]
  },
  {
   "cell_type": "code",
   "execution_count": null,
   "id": "35af3ac5",
   "metadata": {},
   "outputs": [],
   "source": [
    "import decimal\n",
    "integer = 10\n",
    "print(decimal.Decimal(integer))\n",
    "print(type(decimal.Decimal(integer)))"
   ]
  },
  {
   "cell_type": "markdown",
   "id": "eeae34da",
   "metadata": {},
   "source": [
    "\n",
    "---\n",
    "\n",
    "## 10. Converting a String of Integers into Decimals\n"
   ]
  },
  {
   "cell_type": "code",
   "execution_count": null,
   "id": "aa6d527a",
   "metadata": {},
   "outputs": [],
   "source": [
    "import decimal\n",
    "string = '12345'\n",
    "print(decimal.Decimal(string))\n",
    "print(type(decimal.Decimal(string)))"
   ]
  },
  {
   "cell_type": "markdown",
   "id": "ef9be175",
   "metadata": {},
   "source": [
    "\n",
    "---\n",
    "\n",
    "## 11. Reversing a String using an Extended Slicing Technique\n"
   ]
  },
  {
   "cell_type": "code",
   "execution_count": null,
   "id": "defc1ca9",
   "metadata": {},
   "outputs": [],
   "source": [
    "string = \"Python Programming\"\n",
    "print(string[::-1])"
   ]
  },
  {
   "cell_type": "markdown",
   "id": "03d3baaa",
   "metadata": {},
   "source": [
    "\n",
    "---\n",
    "\n",
    "## 12. Counting Vowels in a Given Word\n"
   ]
  },
  {
   "cell_type": "code",
   "execution_count": null,
   "id": "3ee51ab3",
   "metadata": {},
   "outputs": [],
   "source": [
    "vowel = ['a', 'e', 'i', 'o', 'u']\n",
    "word = \"programming\"\n",
    "count = 0\n",
    "for character in word:\n",
    "    if character in vowel:\n",
    "        count += 1\n",
    "print(count)"
   ]
  },
  {
   "cell_type": "markdown",
   "id": "79488d7a",
   "metadata": {},
   "source": [
    "\n",
    "---\n",
    "\n",
    "## 13. Counting Consonants in a Given Word\n"
   ]
  },
  {
   "cell_type": "code",
   "execution_count": null,
   "id": "03b2fe18",
   "metadata": {},
   "outputs": [],
   "source": [
    "vowel = ['a', 'e', 'i', 'o', 'u']\n",
    "word = \"programming\"\n",
    "count = 0\n",
    "for character in word:\n",
    "    if character not in vowel:\n",
    "        count += 1\n",
    "print(count)"
   ]
  },
  {
   "cell_type": "markdown",
   "id": "90614244",
   "metadata": {},
   "source": [
    "\n",
    "---\n",
    "\n",
    "## 14. Counting the Number of Occurrences of a Character in a String\n"
   ]
  },
  {
   "cell_type": "code",
   "execution_count": null,
   "id": "1a410f89",
   "metadata": {},
   "outputs": [],
   "source": [
    "word = \"python\"\n",
    "character = \"p\"\n",
    "count = 0\n",
    "for letter in word:\n",
    "    if letter == character:\n",
    "        count += 1\n",
    "print(count)"
   ]
  },
  {
   "cell_type": "markdown",
   "id": "aaca456b",
   "metadata": {},
   "source": [
    "\n",
    "---\n",
    "\n",
    "## 15. Writing Fibonacci Series\n"
   ]
  },
  {
   "cell_type": "code",
   "execution_count": null,
   "id": "9c2a3abf",
   "metadata": {},
   "outputs": [],
   "source": [
    "fib = [0,1]\n",
    "for i in range(5):  \n",
    "    fib.append(fib[-1] + fib[-2]) \n",
    "print(', '.join(str(e) for e in fib))"
   ]
  },
  {
   "cell_type": "markdown",
   "id": "586cd815",
   "metadata": {},
   "source": [
    "\n",
    "---\n",
    "\n",
    "## 16. Finding the Maximum Number in a List\n"
   ]
  },
  {
   "cell_type": "code",
   "execution_count": null,
   "id": "8b00e96b",
   "metadata": {},
   "outputs": [],
   "source": [
    "numberList = [15, 85, 35, 89, 125]\n",
    "\n",
    "maxNum = numberList[0]\n",
    "for num in numberList:\n",
    "    if maxNum < num:\n",
    "        maxNum = num\n",
    "print(maxNum)"
   ]
  },
  {
   "cell_type": "markdown",
   "id": "a090a008",
   "metadata": {},
   "source": [
    "\n",
    "---\n",
    "\n",
    "## 17. Finding the Minimum Number in a List\n"
   ]
  },
  {
   "cell_type": "code",
   "execution_count": null,
   "id": "dc786b0f",
   "metadata": {},
   "outputs": [],
   "source": [
    "numberList = [15, 85, 35, 89, 125, 2]\n",
    "\n",
    "minNum = numberList[0]\n",
    "for num in numberList:\n",
    "    if minNum > num:\n",
    "        minNum = num\n",
    "print(minNum)"
   ]
  },
  {
   "cell_type": "markdown",
   "id": "d4a22a73",
   "metadata": {},
   "source": [
    "\n",
    "---\n",
    "\n",
    "## 18. Finding the Middle Element in a List\n"
   ]
  },
  {
   "cell_type": "code",
   "execution_count": null,
   "id": "fabb8077",
   "metadata": {},
   "outputs": [],
   "source": [
    "numList = [1, 2, 3, 4, 5]\n",
    "midElement = int((len(numList)/2)) \n",
    "print(numList[midElement])"
   ]
  },
  {
   "cell_type": "markdown",
   "id": "d5eacc9c",
   "metadata": {},
   "source": [
    "\n",
    "---\n",
    "\n",
    "## 19. Converting a List into a String\n"
   ]
  },
  {
   "cell_type": "code",
   "execution_count": null,
   "id": "582d5302",
   "metadata": {},
   "outputs": [],
   "source": [
    "lst = [\"P\", \"Y\", \"T\", \"H\", \"O\", \"N\"]\n",
    "string = ''.join(lst)\n",
    "\n",
    "print(string)\n",
    "print(type(string))"
   ]
  },
  {
   "cell_type": "markdown",
   "id": "bce3d4f1",
   "metadata": {},
   "source": [
    "\n",
    "---\n",
    "\n",
    "## 20. Adding Two List Elements Together\n"
   ]
  },
  {
   "cell_type": "code",
   "execution_count": null,
   "id": "ec4ffaa1",
   "metadata": {},
   "outputs": [],
   "source": [
    "lst1 = [1, 2, 3]\n",
    "lst2 = [4, 5, 6] \n",
    "\n",
    "res_lst = [] \n",
    "for i in range(0, len(lst1)):\n",
    "    res_lst.append(lst1[i] + lst2[i]) \n",
    "print(res_lst)"
   ]
  },
  {
   "cell_type": "markdown",
   "id": "d3552e09",
   "metadata": {},
   "source": [
    "\n",
    "---\n",
    "\n",
    "## 21. Comparing Two Strings for Anagrams\n"
   ]
  },
  {
   "cell_type": "code",
   "execution_count": null,
   "id": "dc7f58d0",
   "metadata": {},
   "outputs": [],
   "source": [
    "str1 = \"Listen\"\n",
    "str2 = \"Silent\"\n",
    "\n",
    "str1 = list(str1.upper())\n",
    "str2 = list(str2.upper())\n",
    "str1.sort(), str2.sort()\n",
    "\n",
    "if(str1 == str2):\n",
    "    print(\"True\")\n",
    "else:\n",
    "    print(\"False\")"
   ]
  },
  {
   "cell_type": "markdown",
   "id": "7b9fe052",
   "metadata": {},
   "source": [
    "\n",
    "---\n",
    "\n",
    "## 22. Checking for Palindrome Using Extended Slicing Technique\n"
   ]
  },
  {
   "cell_type": "code",
   "execution_count": null,
   "id": "215d0c1d",
   "metadata": {},
   "outputs": [],
   "source": [
    "str1 = \"Kayak\".lower()\n",
    "str2 = \"kayak\".lower()\n",
    "\n",
    "if(str1 == str2[::-1]):\n",
    "    print(\"True\")\n",
    "else:\n",
    "    print(\"False\")"
   ]
  },
  {
   "cell_type": "markdown",
   "id": "d8eda0cc",
   "metadata": {},
   "source": [
    "\n",
    "---\n",
    "\n",
    "## 23. Counting the White Spaces in a String\n"
   ]
  },
  {
   "cell_type": "code",
   "execution_count": null,
   "id": "06160b4c",
   "metadata": {},
   "outputs": [],
   "source": [
    "string = \"P r ogramm in g \"\n",
    "print(string.count(' '))"
   ]
  },
  {
   "cell_type": "markdown",
   "id": "38e50cc2",
   "metadata": {},
   "source": [
    "\n",
    "---\n",
    "\n",
    "## 24. Counting Digits, Letters, and Spaces in a String\n"
   ]
  },
  {
   "cell_type": "code",
   "execution_count": null,
   "id": "501eb28e",
   "metadata": {},
   "outputs": [],
   "source": [
    "import re\n",
    "\n",
    "name = 'Python is 1'\n",
    "\n",
    "digitCount = re.sub(\"[^0-9]\", \"\", name)\n",
    "letterCount = re.sub(\"[^a-zA-Z]\", \"\", name)\n",
    "spaceCount = re.findall(\"[ \n",
    "]\", name)\n",
    "\n",
    "print(len(digitCount))\n",
    "print(len(letterCount))\n",
    "print(len(spaceCount))"
   ]
  },
  {
   "cell_type": "markdown",
   "id": "84cd7de4",
   "metadata": {},
   "source": [
    "\n",
    "---\n",
    "\n",
    "## 25. Counting Special Characters in a String\n"
   ]
  },
  {
   "cell_type": "code",
   "execution_count": null,
   "id": "16b76b0d",
   "metadata": {},
   "outputs": [],
   "source": [
    "import re\n",
    "spChar = \"!@#$%^&*()\"\n",
    "\n",
    "count = re.sub('[\\w]+', '', spChar)\n",
    "print(len(count))"
   ]
  },
  {
   "cell_type": "markdown",
   "id": "7ce1566a",
   "metadata": {},
   "source": [
    "\n",
    "---\n",
    "\n",
    "## 26. Removing All Whitespace in a String\n"
   ]
  },
  {
   "cell_type": "code",
   "execution_count": null,
   "id": "adee7b5e",
   "metadata": {},
   "outputs": [],
   "source": [
    "import re\n",
    "\n",
    "string = \"C O D E\"\n",
    "spaces = re.compile(r'\\s+')\n",
    "result = re.sub(spaces, '', string)\n",
    "print(result)"
   ]
  },
  {
   "cell_type": "markdown",
   "id": "6307a0ae",
   "metadata": {},
   "source": [
    "\n",
    "---\n",
    "\n",
    "## 27. Building a Pyramid in Python\n"
   ]
  },
  {
   "cell_type": "code",
   "execution_count": null,
   "id": "19202d09",
   "metadata": {},
   "outputs": [],
   "source": [
    "floors = 3\n",
    "h = 2*floors-1\n",
    "for i in range(1, 2*floors, 2):\n",
    "    print('{:^{}}'.format('*'*i, h))"
   ]
  },
  {
   "cell_type": "markdown",
   "id": "10bb8f66",
   "metadata": {},
   "source": [
    "\n",
    "---\n",
    "\n",
    "## 28. Randomizing the Items of a List in Python\n"
   ]
  },
  {
   "cell_type": "code",
   "execution_count": null,
   "id": "674eacc9",
   "metadata": {},
   "outputs": [],
   "source": [
    "from random import shuffle\n",
    "\n",
    "lst = ['Python', 'is', 'Easy']\n",
    "shuffle(lst)\n",
    "print(lst)"
   ]
  },
  {
   "cell_type": "markdown",
   "id": "ecdc7e35",
   "metadata": {},
   "source": [
    "\n",
    "---\n",
    "\n",
    "## 29. Find the Largest Element in a List\n"
   ]
  },
  {
   "cell_type": "code",
   "execution_count": null,
   "id": "8318842d",
   "metadata": {},
   "outputs": [],
   "source": [
    "def find_largest_element(lst):\n",
    "    return max(lst)\n",
    "\n",
    "print(find_largest_element([1, 2, 3, 4, 5]))"
   ]
  },
  {
   "cell_type": "markdown",
   "id": "cf34d107",
   "metadata": {},
   "source": [
    "\n",
    "---\n",
    "\n",
    "## 30. Remove Duplicates from a List\n"
   ]
  },
  {
   "cell_type": "code",
   "execution_count": null,
   "id": "33285f49",
   "metadata": {},
   "outputs": [],
   "source": [
    "def remove_duplicates(lst):\n",
    "    return list(set(lst))\n",
    "\n",
    "print(remove_duplicates([1, 2, 2, 3, 4, 4, 5]))"
   ]
  },
  {
   "cell_type": "markdown",
   "id": "cf057b84",
   "metadata": {},
   "source": [
    "\n",
    "---\n",
    "\n",
    "## 31. Factorial of a Number\n"
   ]
  },
  {
   "cell_type": "code",
   "execution_count": null,
   "id": "b24a49ef",
   "metadata": {},
   "outputs": [],
   "source": [
    "def factorial(n):\n",
    "    if n == 0:\n",
    "        return 1\n",
    "    return n * factorial(n - 1)\n",
    "\n",
    "print(factorial(5))"
   ]
  },
  {
   "cell_type": "markdown",
   "id": "949ebf32",
   "metadata": {},
   "source": [
    "\n",
    "---\n",
    "\n",
    "## 32. Merge Two Sorted Lists\n"
   ]
  },
  {
   "cell_type": "code",
   "execution_count": null,
   "id": "2a875c56",
   "metadata": {},
   "outputs": [],
   "source": [
    "def merge_sorted_lists(lst1, lst2):\n",
    "    return sorted(lst1 + lst2)\n",
    "\n",
    "print(merge_sorted_lists([1, 3, 5], [2, 4, 6]))"
   ]
  },
  {
   "cell_type": "markdown",
   "id": "fd7f1ad3",
   "metadata": {},
   "source": [
    "\n",
    "---\n",
    "\n",
    "## 33. Find the First Non-Repeating Character\n"
   ]
  },
  {
   "cell_type": "code",
   "execution_count": null,
   "id": "666128e5",
   "metadata": {},
   "outputs": [],
   "source": [
    "def first_non_repeating_character(s):\n",
    "    for i in s:\n",
    "        if s.count(i) == 1:\n",
    "            return i\n",
    "    return None\n",
    "\n",
    "print(first_non_repeating_character(\"swiss\"))"
   ]
  },
  {
   "cell_type": "markdown",
   "id": "eff0d896",
   "metadata": {},
   "source": [
    "\n",
    "---\n",
    "\n",
    "## 34. What are Python metaclasses?\n",
    "\n",
    "Metaclasses are classes of classes that define how classes behave. A class is an instance of a metaclass. They allow customization of class creation.\n",
    "\n",
    "---\n",
    "\n",
    "## 35. Explain the difference between `is` and `==`.\n",
    "\n",
    "`is`: Checks if two references point to the same object.\n",
    "\n",
    "`==`: Checks if the values of two objects are equal.\n",
    "\n",
    "---\n",
    "\n",
    "## 36. How does Python's memory management work?\n",
    "\n",
    "Python uses reference counting and garbage collection. Objects with a reference count of zero are automatically cleaned up by the garbage collector.\n",
    "\n",
    "---\n",
    "\n",
    "## 37. What is the purpose of Python's `with` statement?\n",
    "\n",
    "The with statement simplifies exception handling by encapsulating common preparation and cleanup tasks in so-called context managers.\n"
   ]
  },
  {
   "cell_type": "code",
   "execution_count": null,
   "id": "4273b53c",
   "metadata": {},
   "outputs": [],
   "source": [
    "with open('file.txt', 'r') as file:\n",
    "    data = file.read()"
   ]
  },
  {
   "cell_type": "markdown",
   "id": "e4f3cb29",
   "metadata": {},
   "source": [
    "\n",
    "---\n",
    "\n",
    "## 38. What are Python's `@staticmethod` and `@classmethod?`\n",
    "\n",
    "`@staticmethod`: Defines a method that does not operate on an instance or class; no access to self or cls.\n",
    "\n",
    "`@classmethod`: Defines a method that operates on the class itself; it receives the class as an implicit first argument (cls).\n",
    "\n",
    "---\n",
    "\n",
    "## 39. How do you implement a singleton pattern in Python?\n"
   ]
  },
  {
   "cell_type": "code",
   "execution_count": null,
   "id": "c72e619d",
   "metadata": {},
   "outputs": [],
   "source": [
    "class Singleton(type):\n",
    "    _instances = {}\n",
    "    def __call__(cls, *args, **kwargs):\n",
    "        if cls not in cls._instances:\n",
    "            cls._instances[cls] = super(Singleton, cls).__call__(*args, **kwargs)\n",
    "        return cls._instances[cls]\n",
    "\n",
    "class MyClass(metaclass=Singleton):\n",
    "    pass"
   ]
  },
  {
   "cell_type": "markdown",
   "id": "7757768c",
   "metadata": {},
   "source": [
    "\n",
    "---\n",
    "\n",
    "## 40. Explain Python's garbage collection mechanism\n",
    "\n",
    "Python uses a garbage collection mechanism based on reference counting and a cyclic garbage collector to detect and collect cycles.\n",
    "\n",
    "---\n",
    "\n",
    "## 41. What are Python's magic methods?\n",
    "\n",
    "Magic methods (or dunder methods) are special methods with double underscores. They enable customization of behavior for standard operations\n",
    "\n",
    "* `__init__`: Constructor\n",
    "* `__str__`: String representation\n",
    "* `__add__`: Addition operator"
   ]
  }
 ],
 "metadata": {},
 "nbformat": 4,
 "nbformat_minor": 5
}
