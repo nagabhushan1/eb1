{
 "cells": [
  {
   "cell_type": "markdown",
   "id": "07a424a6",
   "metadata": {},
   "source": [
    "\n",
    "# Python Interview Questions\n",
    "\n",
    "---\n",
    "\n",
    "\n",
    "## 1. What is Python?\n",
    "\n",
    "**Answer:** Python is a high-level, interpreted programming language known for its readability, simplicity, and versatility. It supports multiple programming paradigms including procedural, object-oriented, and functional programming.\n",
    "\n",
    "**Explanation:** Python is widely used in web development, data science, AI, automation, and scripting due to its easy syntax and strong community support.\n",
    "\n",
    "---\n",
    "\n",
    "## 2. What are Python's key features?\n",
    "\n",
    "- Easy to learn and use\n",
    "- Interpreted language\n",
    "- Dynamically typed\n",
    "- Open source\n",
    "- Extensive standard library\n",
    "- Supports multiple paradigms (OOP, functional, procedural)\n",
    "- Large community support\n",
    "\n",
    "**Explanation:** These features make Python suitable for both beginners and professional developers.\n",
    "\n",
    "---\n",
    "\n",
    "## 3. What is PEP 8?\n",
    "\n",
    "**Answer:** PEP 8 is Python's official style guide that provides coding conventions for writing readable and consistent Python code.\n",
    "\n",
    "**Explanation:** Following PEP 8 ensures your code is clean, maintainable, and adheres to community standards.\n",
    "\n",
    "---\n",
    "\n",
    "## 4. What is the difference between Python 2 and Python 3?\n",
    "\n",
    "| Feature            | Python 2           | Python 3            |\n",
    "|-------------------|-----------------|------------------|\n",
    "| Print statement     | `print \"Hello\"` | `print(\"Hello\")` |\n",
    "| Integer division    | `5/2 = 2`       | `5/2 = 2.5`      |\n",
    "| Unicode support     | Limited         | Default          |\n",
    "| End of life         | 2020            | Supported        |\n",
    "\n",
    "**Explanation:** Python 3 is the current standard. Python 2 is outdated and not recommended for new projects.\n",
    "\n",
    "---\n",
    "\n",
    "## 5. What are Python data types?\n",
    "\n",
    "- Numeric: `int`, `float`, `complex`\n",
    "- Sequence: `list`, `tuple`, `range`\n",
    "- Text: `str`\n",
    "- Set types: `set`, `frozenset`\n",
    "- Mapping: `dict`\n",
    "- Boolean: `bool`\n",
    "- None type: `NoneType`\n",
    "\n",
    "**Explanation:** Data types define the kind of value a variable can hold.\n",
    "\n",
    "---\n",
    "\n",
    "## 6. What is the difference between list, tuple, and set?\n",
    "\n",
    "| Feature      | List           | Tuple          | Set                |\n",
    "|-------------|----------------|---------------|------------------|\n",
    "| Mutable     | Yes            | No            | Yes               |\n",
    "| Ordered     | Yes            | Yes           | No                |\n",
    "| Duplicate   | Allowed        | Allowed       | Not allowed       |\n",
    "\n",
    "**Explanation:** Use tuples for immutable sequences, sets for unique items, and lists for flexible collections.\n",
    "\n",
    "---\n",
    "\n",
    "## 7. What is a Python dictionary?\n",
    "\n",
    "**Answer:** A dictionary is a collection of key-value pairs enclosed in `{}`. Each key is unique.\n",
    "\n",
    "**Example:**"
   ]
  },
  {
   "cell_type": "code",
   "execution_count": null,
   "id": "525d1023",
   "metadata": {},
   "outputs": [],
   "source": [
    "person = {\"name\": \"Alice\", \"age\": 25}\n",
    "print(person[\"name\"])  # Output: Alice"
   ]
  },
  {
   "cell_type": "markdown",
   "id": "df58b8e7",
   "metadata": {},
   "source": [
    "\n",
    "**Explanation:** Dictionaries are ideal for fast lookups using unique keys.\n",
    "\n",
    "---\n",
    "\n",
    "## 8. What are Python functions?\n",
    "\n",
    "**Answer:** Functions are reusable blocks of code that perform a specific task.\n",
    "\n",
    "**Example:**"
   ]
  },
  {
   "cell_type": "code",
   "execution_count": null,
   "id": "eea75e8a",
   "metadata": {},
   "outputs": [],
   "source": [
    "def greet(name):\n",
    "    return f\"Hello, {name}\""
   ]
  },
  {
   "cell_type": "markdown",
   "id": "586a9b7d",
   "metadata": {},
   "source": [
    "\n",
    "**Explanation:** Functions help organize code and avoid repetition.\n",
    "\n",
    "---\n",
    "\n",
    "## 9. What are Python decorators?\n",
    "\n",
    "**Answer:** Decorators are functions that modify the behavior of another function without changing its code.\n",
    "\n",
    "**Example:**"
   ]
  },
  {
   "cell_type": "code",
   "execution_count": null,
   "id": "171e3f41",
   "metadata": {},
   "outputs": [],
   "source": [
    "def decorator(func):\n",
    "    def wrapper():\n",
    "        print(\"Before function\")\n",
    "        func()\n",
    "    return wrapper\n",
    "\n",
    "@decorator\n",
    "def say_hello():\n",
    "    print(\"Hello\")\n",
    "\n",
    "say_hello()"
   ]
  },
  {
   "cell_type": "markdown",
   "id": "63fd80c3",
   "metadata": {},
   "source": [
    "\n",
    "**Explanation:** Decorators are used for logging, access control, and instrumentation.\n",
    "\n",
    "---\n",
    "\n",
    "## 10. What is Python's `*args` and `**kwargs`?\n",
    "\n",
    "- `*args` allows passing a variable number of positional arguments.\n",
    "- `**kwargs` allows passing a variable number of keyword arguments.\n",
    "\n",
    "**Example:**"
   ]
  },
  {
   "cell_type": "code",
   "execution_count": null,
   "id": "939df1a9",
   "metadata": {},
   "outputs": [],
   "source": [
    "def func(*args, **kwargs):\n",
    "    print(args, kwargs)"
   ]
  },
  {
   "cell_type": "markdown",
   "id": "61970430",
   "metadata": {},
   "source": [
    "\n",
    "**Explanation:** Useful for flexible function signatures.\n",
    "\n",
    "---\n",
    "\n",
    "## 11. What is the difference between shallow copy and deep copy?\n",
    "\n",
    "- Shallow copy: Copies only the reference to the objects, changes affect the original.\n",
    "- Deep copy: Creates a new object and recursively copies all objects.\n",
    "\n",
    "**Example:**"
   ]
  },
  {
   "cell_type": "code",
   "execution_count": null,
   "id": "c247465b",
   "metadata": {},
   "outputs": [],
   "source": [
    "import copy\n",
    "list1 = [[1, 2], [3, 4]]\n",
    "shallow = copy.copy(list1)\n",
    "deep = copy.deepcopy(list1)"
   ]
  },
  {
   "cell_type": "markdown",
   "id": "e9fc8f40",
   "metadata": {},
   "source": [
    "\n",
    "---\n",
    "\n",
    "## 12. What are Python modules and packages?\n",
    "\n",
    "- **Module:** A file containing Python code (`.py`).\n",
    "- **Package:** A folder containing modules and `__init__.py`.\n",
    "\n",
    "**Explanation:** They help organize code into reusable and maintainable units.\n",
    "\n",
    "---\n",
    "\n",
    "## 13. What is Python's Global Interpreter Lock (GIL)?\n",
    "\n",
    "**Answer:** GIL is a mutex that allows only one thread to execute Python bytecode at a time.\n",
    "\n",
    "**Explanation:** It affects multithreaded CPU-bound tasks, but not I/O-bound tasks.\n",
    "\n",
    "---\n",
    "\n",
    "## 14. What is the difference between Python multithreading and multiprocessing?\n",
    "\n",
    "| Feature       | Multithreading       | Multiprocessing       |\n",
    "|--------------|-------------------|--------------------|\n",
    "| Parallelism   | Limited (GIL)      | True parallelism    |\n",
    "| Memory        | Shared memory       | Separate memory     |\n",
    "| Use case      | I/O-bound tasks     | CPU-bound tasks     |\n",
    "\n",
    "---\n",
    "\n",
    "## 15. What is Python's `with` statement?\n",
    "\n",
    "**Answer:** `with` is used to simplify resource management (e.g., file handling) and ensures proper cleanup.\n",
    "\n",
    "**Example:**"
   ]
  },
  {
   "cell_type": "code",
   "execution_count": null,
   "id": "62e06bae",
   "metadata": {},
   "outputs": [],
   "source": [
    "with open(\"file.txt\") as f:\n",
    "    data = f.read()"
   ]
  },
  {
   "cell_type": "markdown",
   "id": "e020d4c0",
   "metadata": {},
   "source": [
    "\n",
    "---\n",
    "\n",
    "## 16. What are Python iterators and generators?\n",
    "\n",
    "- **Iterator:** Object that can be iterated using `__iter__()` and `__next__()`.\n",
    "- **Generator:** Function that yields values lazily using `yield`.\n",
    "\n",
    "**Example:**"
   ]
  },
  {
   "cell_type": "code",
   "execution_count": null,
   "id": "9aa3d3fa",
   "metadata": {},
   "outputs": [],
   "source": [
    "def gen():\n",
    "    for i in range(3):\n",
    "        yield i"
   ]
  },
  {
   "cell_type": "markdown",
   "id": "b6000793",
   "metadata": {},
   "source": [
    "\n",
    "---\n",
    "\n",
    "## 17. What is the difference between `is` and `==`?\n",
    "\n",
    "- `is`: Checks identity (if two objects are the same in memory)\n",
    "- `==`: Checks value equality\n",
    "\n",
    "**Example:**"
   ]
  },
  {
   "cell_type": "code",
   "execution_count": null,
   "id": "97efcb5d",
   "metadata": {},
   "outputs": [],
   "source": [
    "a = [1,2]; b = [1,2]\n",
    "print(a == b)  # True\n",
    "print(a is b)  # False"
   ]
  },
  {
   "cell_type": "markdown",
   "id": "756c3de1",
   "metadata": {},
   "source": [
    "\n",
    "---\n",
    "\n",
    "## 18. What is Python's `lambda` function?\n",
    "\n",
    "**Answer:** Anonymous inline function using `lambda` keyword.\n",
    "\n",
    "**Example:**"
   ]
  },
  {
   "cell_type": "code",
   "execution_count": null,
   "id": "df9ce3a4",
   "metadata": {},
   "outputs": [],
   "source": [
    "square = lambda x: x*x\n",
    "print(square(5))  # 25"
   ]
  },
  {
   "cell_type": "markdown",
   "id": "e1717221",
   "metadata": {},
   "source": [
    "\n",
    "**Explanation:** Useful for short, throwaway functions.\n",
    "\n",
    "---\n",
    "\n",
    "## 19. What is exception handling in Python?\n",
    "\n",
    "**Answer:** Mechanism to handle runtime errors using `try`, `except`, `finally`.\n",
    "\n",
    "**Example:**"
   ]
  },
  {
   "cell_type": "code",
   "execution_count": null,
   "id": "12780fd3",
   "metadata": {},
   "outputs": [],
   "source": [
    "try:\n",
    "    x = 10 / 0\n",
    "except ZeroDivisionError:\n",
    "    print(\"Cannot divide by zero\")"
   ]
  },
  {
   "cell_type": "markdown",
   "id": "b8474d2a",
   "metadata": {},
   "source": [
    "\n",
    "---\n",
    "\n",
    "## 20. What are Python's built-in data structures?\n",
    "\n",
    "- Lists\n",
    "- Tuples\n",
    "- Sets\n",
    "- Dictionaries\n",
    "- Strings\n",
    "\n",
    "**Explanation:** Built-in data structures are optimized for different use cases, such as sequences, mappings, and sets.\n",
    "\n",
    "---\n",
    "\n"
   ]
  }
 ],
 "metadata": {
  "language_info": {
   "name": "python"
  }
 },
 "nbformat": 4,
 "nbformat_minor": 5
}
